{
 "cells": [
  {
   "cell_type": "markdown",
   "metadata": {},
   "source": [
    "%matplotlib notebook"
   ]
  },
  {
   "cell_type": "code",
   "execution_count": 1,
   "metadata": {},
   "outputs": [],
   "source": [
    "# notebook settings\n",
    "%load_ext autoreload\n",
    "%autoreload 2\n",
    "\n",
    "# external imports\n",
    "import numpy as np\n",
    "import matplotlib.pyplot as plt\n",
    "\n",
    "# internal imports\n",
    "from pympc.geometry.polyhedron import Polyhedron\n",
    "from pympc.control.hybrid_benchmark.utils import big_m, big_m_relaxation\n",
    "from pympc.dynamics.discrete_time_systems import AffineSystem, PieceWiseAffineSystem\n",
    "from pympc.control.hybrid_benchmark.controllers import HybridModelPredictiveController\n",
    "from pympc.plot import plot_input_sequence, plot_state_trajectory, plot_state_space_trajectory"
   ]
  },
  {
   "cell_type": "code",
   "execution_count": 2,
   "metadata": {},
   "outputs": [],
   "source": [
    "# physical parameters of the pendulum\n",
    "l = 1\n",
    "g = 10\n",
    "h = .1\n",
    "\n",
    "# limits for the joint angle\n",
    "q_min = 0.\n",
    "q_max = 1.5*np.pi\n",
    "n_lin = 10"
   ]
  },
  {
   "cell_type": "code",
   "execution_count": 3,
   "metadata": {
    "collapsed": true
   },
   "outputs": [],
   "source": [
    "def sine_guard(x, y):\n",
    "    # given x and y in the domain it returs the point where the two linearizations cross\n",
    "    return (np.sin(y) - np.sin(x) + x*np.cos(x) - y*np.cos(y)) / (np.cos(x) - np.cos(y))\n",
    "\n",
    "class Interval(object):\n",
    "    # interval of the real axis\n",
    "    \n",
    "    def __init__(self, x, xmin, xmax):\n",
    "        self.x = x\n",
    "        self.xmin = xmin\n",
    "        self.xmax = xmax\n",
    "        \n",
    "    def contains(self, x):\n",
    "        return self.xmin <= x  and x <= self.xmax\n",
    "\n",
    "class SineLinearization(object):\n",
    "    # piecewise linearization of the sine function\n",
    "    \n",
    "    def __init__(self, x_lin):\n",
    "        grds = [x_lin[0]]\n",
    "        grds += [sine_guard(x_lin[i], x_lin[i+1]) for i in range(len(x_lin)-1)]\n",
    "        grds += [x_lin[-1]]\n",
    "        self.intervals = [Interval(x_lin[i], grds[i], grds[i+1]) for i in range(len(grds)-1)]\n",
    "        self.graph = []\n",
    "        for k, i in enumerate(self.intervals):\n",
    "            gk = Polyhedron.from_bounds(\n",
    "                np.array([[i.xmin]]),\n",
    "                np.array([[i.xmax]]),\n",
    "                [0],\n",
    "                2\n",
    "            )\n",
    "            gk.add_inequality(\n",
    "                np.array([[-(h*g/l)*np.cos(i.x), 1.]]),\n",
    "                np.array([[(h*g/l)*(np.sin(i.x) - i.x*np.cos(i.x))]])\n",
    "            )\n",
    "            gk.add_inequality(\n",
    "                - np.array([[-(h*g/l)*np.cos(i.x), 1.]]),\n",
    "                - np.array([[(h*g/l)*(np.sin(i.x) - i.x*np.cos(i.x))]])\n",
    "            )\n",
    "            self.graph.append(gk)\n",
    "            \n",
    "    def evaluate(self, x):\n",
    "        for i in self.intervals:\n",
    "            if i.contains(x):\n",
    "                return (h*g/l) * (np.sin(i.x) + np.cos(i.x)*(x-i.x))"
   ]
  },
  {
   "cell_type": "code",
   "execution_count": 4,
   "metadata": {},
   "outputs": [],
   "source": [
    "# sample the PWA linearization\n",
    "n = 1000\n",
    "q_lin = np.linspace(q_min, q_max, n_lin)\n",
    "lin = SineLinearization(q_lin)\n",
    "q_samples = np.linspace(q_min, q_max, n)\n",
    "vd = (h*g/l)*np.sin(q_samples)\n",
    "vd_lin = [lin.evaluate(q) for q in q_samples]"
   ]
  },
  {
   "cell_type": "code",
   "execution_count": 5,
   "metadata": {
    "collapsed": true
   },
   "outputs": [],
   "source": [
    "# get big M relaxation fo the linearization\n",
    "R = big_m_relaxation(lin.graph)\n",
    "R_proj= R.project_to([0,1])"
   ]
  },
  {
   "cell_type": "code",
   "execution_count": 6,
   "metadata": {},
   "outputs": [
    {
     "data": {
      "image/png": "[encoded data removed]",
      "text/plain": [
       "<Figure size 432x288 with 1 Axes>"
      ]
     },
     "metadata": {},
     "output_type": "display_data"
    }
   ],
   "source": [
    "# plot the function vs the relaxation\n",
    "R_proj.plot(alpha=.5)\n",
    "plt.plot(q_samples, vd, color='r')\n",
    "plt.plot(q_samples, vd_lin, color='g')\n",
    "plt.scatter([q_lin],[(h*g/l)*np.sin(q_lin)])\n",
    "plt.show()"
   ]
  },
  {
   "cell_type": "code",
   "execution_count": 7,
   "metadata": {
    "collapsed": true
   },
   "outputs": [],
   "source": [
    "# discrete time dynamics of the pendulum linearized around a nominal angle\n",
    "def dt_lin(x):\n",
    "    A = np.array([[1., h], [(h*g/l)*np.cos(x), 1.]])\n",
    "    B = np.array([[0.],[h]])\n",
    "    c = np.array([[0.],[(h*g/l)*(np.sin(x) - x*np.cos(x))]])\n",
    "    return A, B, c"
   ]
  },
  {
   "cell_type": "code",
   "execution_count": 8,
   "metadata": {
    "collapsed": true
   },
   "outputs": [],
   "source": [
    "# polytopic domains\n",
    "u_min = np.array([[-5.]])\n",
    "u_max = -u_min\n",
    "U = Polyhedron.from_bounds(u_min, u_max)\n",
    "v_min = -5.\n",
    "v_max = -v_min\n",
    "x_min = [np.array([[lin.intervals[i].xmin],[v_min]]) for i in range(n_lin)]\n",
    "x_max = [np.array([[lin.intervals[i].xmax],[v_max]]) for i in range(n_lin)]\n",
    "X = [Polyhedron.from_bounds(x_min[i], x_max[i]) for i in range(n_lin)]\n",
    "D = [Xi.cartesian_product(U) for Xi in X]\n",
    "\n",
    "# affine systems\n",
    "S = [AffineSystem(*dt_lin(q)) for q in q_lin]\n",
    "\n",
    "# PWA system\n",
    "PWA = PieceWiseAffineSystem(S, D)"
   ]
  },
  {
   "cell_type": "code",
   "execution_count": 9,
   "metadata": {},
   "outputs": [
    {
     "name": "stdout",
     "output_type": "stream",
     "text": [
      "Warning for adding constraints: zero or small (< 1e-13) coefficients, ignored\n"
     ]
    }
   ],
   "source": [
    "# controller parameters\n",
    "N = 30\n",
    "Q = np.eye(PWA.nx)*h\n",
    "R = np.eye(PWA.nu)*h\n",
    "\n",
    "# terminal set and cost\n",
    "P = Q\n",
    "X_N = Polyhedron.from_bounds(*[np.zeros((PWA.nx))]*2)\n",
    "\n",
    "# hybrid controller\n",
    "controller = HybridModelPredictiveController(PWA, N, Q, R, P, X_N, method='Convex hull, lifted constraints')"
   ]
  },
  {
   "cell_type": "code",
   "execution_count": 10,
   "metadata": {},
   "outputs": [
    {
     "name": "stdout",
     "output_type": "stream",
     "text": [
      "Parameter Threads unchanged\n",
      "   Value: 0  Min: 0  Max: 1024  Default: 0\n",
      "Optimize a model with 4140 rows, 3112 columns and 12020 nonzeros\n",
      "Model has 300 quadratic constraints\n",
      "Variable types: 2812 continuous, 300 integer (300 binary)\n",
      "Coefficient statistics:\n",
      "  Matrix range     [5e-02, 5e+00]\n",
      "  QMatrix range    [5e-01, 1e+00]\n",
      "  Objective range  [1e+00, 1e+00]\n",
      "  Bounds range     [3e+00, 3e+00]\n",
      "  RHS range        [1e+00, 1e+00]\n",
      "Presolve removed 2909 rows and 2125 columns\n",
      "Presolve time: 0.03s\n",
      "Presolved: 1231 rows, 987 columns, 4023 nonzeros\n",
      "Variable types: 794 continuous, 193 integer (193 binary)\n",
      "\n",
      "Root relaxation: objective 2.314652e+00, 1102 iterations, 0.02 seconds\n",
      "\n",
      "    Nodes    |    Current Node    |     Objective Bounds      |     Work\n",
      " Expl Unexpl |  Obj  Depth IntInf | Incumbent    BestBd   Gap | It/Node Time\n",
      "\n",
      "     0     0    2.31465    0   26          -    2.31465      -     -    0s\n",
      "     0     0    2.31465    0   56          -    2.31465      -     -    0s\n",
      "     0     0    2.31465    0   56          -    2.31465      -     -    0s\n",
      "     0     0    2.31465    0   25          -    2.31465      -     -    0s\n",
      "     0     0    2.31465    0   25          -    2.31465      -     -    0s\n",
      "     0     2    2.31465    0   24          -    2.31465      -     -    0s\n",
      "H  103    53                      30.0763177    2.31465  92.3%  97.0    0s\n",
      "*  103    53              43      30.0763177    2.31465  92.3%  97.0    0s\n",
      "H  562   248                      29.5739538    2.80813  90.5%  96.7    1s\n",
      "H  567   245                      27.7443916    2.81414  89.9%  96.3    1s\n",
      "H  623   279                      27.0242362    2.88149  89.3%  99.0    2s\n",
      "   669   299   13.02014   19   49   27.02424    7.59152  71.9%   104    5s\n",
      "  1498   405   19.07561   36   37   27.02424   10.00656  63.0%   119   10s\n",
      "  2390   747 infeasible   40        27.02424   12.35937  54.3%   126   15s\n",
      "  3307  1123   20.48376   24   47   27.02424   13.16165  51.3%   133   20s\n",
      "  4258  1384     cutoff   58        27.02424   14.62677  45.9%   138   25s\n",
      "  5217  1609   17.62986   26   33   27.02424   15.94565  41.0%   140   30s\n",
      "  6082  1753     cutoff   31        27.02424   17.46932  35.4%   145   35s\n",
      "  7206  1866   22.56355   26   35   27.02424   18.63203  31.1%   147   41s\n",
      "  8013  1938   23.88787   35   28   27.02424   19.83043  26.6%   148   46s\n",
      "  8691  1980   26.95558   53    -   27.02424   20.52539  24.0%   146   50s\n",
      "  9726  2021   26.72425   48    -   27.02424   21.54944  20.3%   143   56s\n",
      " 10594  1961   26.74413   48    -   27.02424   22.69351  16.0%   141   60s\n",
      "*10771  1836              47      26.7407956   22.69879  15.1%   140   60s\n",
      "H10925  1783                      26.7405668   22.95072  14.2%   139   62s\n",
      "H11034  1725                      26.6141369   22.95599  13.7%   139   62s\n",
      " 11996  1606   24.19064   30   33   26.61414   23.58520  11.4%   133   65s\n",
      "*12682  1496              50      26.5983918   23.99154  9.80%   129   67s\n",
      " 13897  1277   26.57159   52    -   26.59839   24.83059  6.65%   123   70s\n",
      "H14361  1137                      26.5724532   25.12920  5.43%   121   71s\n",
      "*14447  1061              52      26.5719643   25.26997  4.90%   120   71s\n",
      "*15315   594              53      26.4798593   25.87751  2.27%   116   73s\n",
      " 15860   314 infeasible   41        26.47986   26.20960  1.02%   113   75s\n",
      "*16357     0              48      26.4742533   26.47413  0.00%   110   75s\n",
      "\n",
      "Explored 16359 nodes (1809015 simplex iterations) in 75.58 seconds\n",
      "Thread count was 4 (of 4 available processors)\n",
      "\n",
      "Solution count 10: 26.4743 26.4799 26.572 ... 27.7444\n",
      "\n",
      "Optimal solution found (tolerance 1.00e-04)\n",
      "Best objective 2.647425326680e+01, best bound 2.647425326680e+01, gap 0.0000%\n",
      "26.4742532668\n",
      "[6, 6, 6, 6, 6, 6, 7, 7, 7, 7, 7, 7, 7, 6, 6, 5, 4, 3, 2, 2, 1, 1, 0, 0, 0, 0, 0, 0, 0, 0]\n"
     ]
    }
   ],
   "source": [
    "# solve for the given x0\n",
    "x0 = np.array([[np.pi],[0.]])\n",
    "u_mip, x_mip, ms_mip, cost_mip = controller.feedforward(x0)\n",
    "print cost_mip\n",
    "print ms_mip"
   ]
  },
  {
   "cell_type": "code",
   "execution_count": 11,
   "metadata": {},
   "outputs": [
    {
     "data": {
      "image/png": "[encoded data removed]",
      "text/plain": [
       "<Figure size 432x288 with 1 Axes>"
      ]
     },
     "metadata": {},
     "output_type": "display_data"
    },
    {
     "data": {
      "image/png": "[encoded data removed]",
      "text/plain": [
       "<Figure size 432x288 with 2 Axes>"
      ]
     },
     "metadata": {},
     "output_type": "display_data"
    },
    {
     "data": {
      "image/png": "[encoded data removed]",
      "text/plain": [
       "<Figure size 432x288 with 1 Axes>"
      ]
     },
     "metadata": {},
     "output_type": "display_data"
    }
   ],
   "source": [
    "# plots\n",
    "plot_input_sequence(u_mip, h, (u_min, u_max))\n",
    "plt.show()\n",
    "plot_state_trajectory(x_mip, h,(np.array([[q_min],[v_min]]),np.array([[q_max],[v_max]])))\n",
    "plt.show()\n",
    "plot_state_space_trajectory(x_mip)\n",
    "plt.show()"
   ]
  }
 ],
 "metadata": {
  "kernelspec": {
   "display_name": "Python 2",
   "language": "python",
   "name": "python2"
  },
  "language_info": {
   "codemirror_mode": {
    "name": "ipython",
    "version": 2
   },
   "file_extension": ".py",
   "mimetype": "text/x-python",
   "name": "python",
   "nbconvert_exporter": "python",
   "pygments_lexer": "ipython2",
   "version": "2.7.15"
  }
 },
 "nbformat": 4,
 "nbformat_minor": 2
}
