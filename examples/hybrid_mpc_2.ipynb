{
 "cells": [
  {
   "cell_type": "markdown",
   "metadata": {},
   "source": [
    "# Model Predictive Control of Hybrid Systems"
   ]
  },
  {
   "cell_type": "markdown",
   "metadata": {},
   "source": [
    "In this notebook we extend the example presented in $\\texttt{hybrid_mpc.ipynb}$ considering a more complex system: a cart-pole with two elastic walls."
   ]
  },
  {
   "cell_type": "markdown",
   "metadata": {},
   "source": [
    "## Demo"
   ]
  },
  {
   "cell_type": "code",
   "execution_count": 1,
   "metadata": {
    "collapsed": true
   },
   "outputs": [],
   "source": [
    "# notebook settings\n",
    "%load_ext autoreload\n",
    "%autoreload 2\n",
    "\n",
    "# external imports\n",
    "import numpy as np\n",
    "import matplotlib.pyplot as plt\n",
    "\n",
    "# internal imports\n",
    "from pympc.geometry.polyhedron import Polyhedron\n",
    "from pympc.dynamics.discrete_time_systems import LinearSystem, AffineSystem, PieceWiseAffineSystem\n",
    "from pympc.control.controllers import HybridModelPredictiveController\n",
    "from pympc.plot import plot_input_sequence, plot_output_trajectory"
   ]
  },
  {
   "cell_type": "markdown",
   "metadata": {},
   "source": [
    "We stabilize a linearized cart-pole with: cart of mass $m_{\\mathrm{c}}$, pole of mass $m_{\\mathrm{p}}$, pole of length $l$, and subject to the gravity acceleration $g$; the pole is allowed to impact with two elastic walls with stiffness $k$ placed at distance $d$ from the origin"
   ]
  },
  {
   "cell_type": "code",
   "execution_count": 2,
   "metadata": {
    "collapsed": true
   },
   "outputs": [],
   "source": [
    "mc = 1.\n",
    "mp = 1.\n",
    "l = 1.\n",
    "d = 1.\n",
    "k = 100.\n",
    "g = 10.\n",
    "h = .05"
   ]
  },
  {
   "cell_type": "markdown",
   "metadata": {},
   "source": [
    "We express the linearized dynamics in PieceWise Affine (PWA) form\n",
    "\\begin{align}\n",
    "x(t+1) = A_i x(t) + B_i u(t) + c_i\n",
    "\\quad \\text{if} \\quad\n",
    "(x(t),u(t)) \\in \\mathcal D_i\n",
    ",\n",
    "\\quad i \\in \\{ 1, \\ldots, s\\}\n",
    "\\end{align}\n"
   ]
  },
  {
   "cell_type": "code",
   "execution_count": 3,
   "metadata": {
    "collapsed": true
   },
   "outputs": [],
   "source": [
    "# discretization method\n",
    "method = 'explicit_euler'\n",
    "\n",
    "# dynamics n.1 (in contact with left wall)\n",
    "A1 = np.array([\n",
    "    [0., 0., 1., 0.],\n",
    "    [0., 0., 0., 1.],\n",
    "    [0., (g*mp)/mc, 0., 0.],\n",
    "    [k/(l*mp), (g*mp**2 + g*mc*mp - k*l*mc)/(l*mc*mp), 0., 0.]\n",
    "    ])\n",
    "B1 = np.array([\n",
    "    [0.],\n",
    "    [0.],\n",
    "    [1./mc],\n",
    "    [1./(l*mc)]\n",
    "    ])\n",
    "c1 = np.array([\n",
    "    [0.],\n",
    "    [0.],\n",
    "    [0.],\n",
    "    [(d*k)/(l*mp)]\n",
    "    ])\n",
    "S1 = AffineSystem.from_continuous(A1, B1, c1, h, method)\n",
    "\n",
    "# dynamics n.2 (between the two walls)\n",
    "A2 = np.array([\n",
    "    [0., 0., 1., 0.],\n",
    "    [0., 0., 0., 1.],\n",
    "    [0., (g*mp)/mc, 0., 0.],\n",
    "    [0., g*(mc+mp)/(l*mc), 0., 0.]\n",
    "    ])\n",
    "B2 = np.array([\n",
    "    [0.],\n",
    "    [0.],\n",
    "    [1./mc],\n",
    "    [1./(l*mc)]\n",
    "    ])\n",
    "S2 = LinearSystem.from_continuous(A2, B2, h, method)\n",
    "\n",
    "# dynamics n.3 (in contact with right wall)\n",
    "A3 = np.array([\n",
    "    [0., 0., 1., 0.],\n",
    "    [0., 0., 0., 1.],\n",
    "    [0., (g*mp)/mc, 0., 0.],\n",
    "    [k/(l*mp), (g*mp**2 + g*mc*mp - k*l*mc)/(l*mc*mp), 0., 0.]\n",
    "    ])\n",
    "B3 = np.array([\n",
    "    [0.],\n",
    "    [0.],\n",
    "    [1./mc],\n",
    "    [1./(l*mc)]\n",
    "    ])\n",
    "c3 = np.array([\n",
    "    [0.],\n",
    "    [0.],\n",
    "    [0.],\n",
    "    [-(d*k)/(l*mp)]\n",
    "    ])\n",
    "S3 = AffineSystem.from_continuous(A3, B3, c3, h, method)\n",
    "\n",
    "# list of dynamics\n",
    "S_list = [S1, S2, S3]"
   ]
  },
  {
   "cell_type": "markdown",
   "metadata": {},
   "source": [
    "The domains of the PWA must be expressed as (bounded!) polyhedra"
   ]
  },
  {
   "cell_type": "code",
   "execution_count": 4,
   "metadata": {
    "collapsed": true
   },
   "outputs": [],
   "source": [
    "# state bounds\n",
    "x_max = np.array([[1.5*d], [np.pi/6.], [7.], [5.]])\n",
    "x_min = -x_max\n",
    "\n",
    "# state domain n.1 (in contact with left wall)\n",
    "F1 = np.array([[1., -l, 0., 0.]])\n",
    "g1 = np.array([[-d]])\n",
    "X1 = Polyhedron.from_bounds(x_min, x_max)\n",
    "X1.add_inequality(F1, g1)\n",
    "assert X1.bounded\n",
    "\n",
    "# state domain n.2 (between the two walls)\n",
    "F2 = np.array([[-1., l, 0., 0.], [1., -l, 0., 0.]])\n",
    "g2 = np.array([[d], [d]])\n",
    "X2 = Polyhedron.from_bounds(x_min, x_max)\n",
    "X2.add_inequality(F2, g2)\n",
    "assert X2.bounded\n",
    "\n",
    "# state domain n.3 (in contact with right wall)\n",
    "F3 = np.array([[-1., l, 0., 0.]])\n",
    "g3 = np.array([[-d]])\n",
    "X3 = Polyhedron.from_bounds(x_min, x_max)\n",
    "X3.add_inequality(F3, g3)\n",
    "assert X3.bounded\n",
    "\n",
    "# list of state domains\n",
    "X = [X1, X2, X3]\n",
    "\n",
    "# input domain\n",
    "u_min = np.array([[-100.]])\n",
    "u_max = np.array([[100.]])\n",
    "U = Polyhedron.from_bounds(u_min, u_max)\n",
    "\n",
    "# domains\n",
    "D1 = X1.cartesian_product(U)\n",
    "D2 = X2.cartesian_product(U)\n",
    "D3 = X3.cartesian_product(U)\n",
    "D_list = [D1, D2, D3]"
   ]
  },
  {
   "cell_type": "markdown",
   "metadata": {},
   "source": [
    "The overall PWA system can be defines as follows"
   ]
  },
  {
   "cell_type": "code",
   "execution_count": 5,
   "metadata": {
    "collapsed": true
   },
   "outputs": [],
   "source": [
    "S = PieceWiseAffineSystem(S_list, D_list)"
   ]
  },
  {
   "cell_type": "markdown",
   "metadata": {},
   "source": [
    "Now we have all the ingredients to build the MPC controller"
   ]
  },
  {
   "cell_type": "code",
   "execution_count": 6,
   "metadata": {},
   "outputs": [
    {
     "name": "stdout",
     "output_type": "stream",
     "text": [
      "Time horizon: 53. Convergence index: -0.0006104431371376506. Number of facets: 166.   \n",
      "Maximal constraint-admissible invariant set found.\n",
      "Removing redundant facets ... minimal facets are 130.\n"
     ]
    }
   ],
   "source": [
    "# controller parameters\n",
    "N = 10\n",
    "Q = np.eye(S.nx)\n",
    "R = np.eye(S.nu)\n",
    "\n",
    "# terminal set and cost\n",
    "P, K = S2.solve_dare(Q, R)\n",
    "X_N = S2.mcais(K, D2, verbose=True)\n",
    "\n",
    "# hybrid controller\n",
    "controller = HybridModelPredictiveController(S, N, Q, R, P, X_N)"
   ]
  },
  {
   "cell_type": "markdown",
   "metadata": {},
   "source": [
    "We can now simulate the closed-loop dynamics starting from the initial state $x_0$."
   ]
  },
  {
   "cell_type": "code",
   "execution_count": 7,
   "metadata": {},
   "outputs": [
    {
     "name": "stdout",
     "output_type": "stream",
     "text": [
      "Time step 99.\r"
     ]
    }
   ],
   "source": [
    "Nsim = 100\n",
    "x0 = np.array([[0.], [0.], [2.5], [0.]])\n",
    "u = []\n",
    "x = [x0]\n",
    "for t in range(Nsim):\n",
    "    print('Time step ' + str(t) + '.\\r'),\n",
    "    u.append(controller.feedback(x[t]))\n",
    "    x_next = S.simulate(x[t], [u[t]])[0][1]\n",
    "    x.append(x_next)"
   ]
  },
  {
   "cell_type": "markdown",
   "metadata": {},
   "source": [
    "We can use the plot functions to visualize the time evolution of the system"
   ]
  },
  {
   "cell_type": "code",
   "execution_count": 8,
   "metadata": {},
   "outputs": [
    {
     "data": {
      "image/png": "[encoded data removed]",
      "text/plain": [
       "<Figure size 432x288 with 1 Axes>"
      ]
     },
     "metadata": {},
     "output_type": "display_data"
    },
    {
     "data": {
      "image/png": "[encoded data removed]",
      "text/plain": [
       "<Figure size 432x288 with 1 Axes>"
      ]
     },
     "metadata": {},
     "output_type": "display_data"
    }
   ],
   "source": [
    "# input\n",
    "plot_input_sequence(u, h, (u_min, u_max))\n",
    "plt.show()\n",
    "\n",
    "# output (horizontal position of the tip of the pole)\n",
    "C = np.array([[1., -l, 0., 0.]])\n",
    "y_min = np.array([[-d]])\n",
    "y_max = np.array([[d]])\n",
    "plot_output_trajectory(C, x, h, (y_min, y_max))\n",
    "plt.show()"
   ]
  },
  {
   "cell_type": "markdown",
   "metadata": {},
   "source": [
    "## Animate results with MeshCat"
   ]
  },
  {
   "cell_type": "markdown",
   "metadata": {},
   "source": [
    "Now we animate the closed-loop trajectory of the cart-pole with MeshCat (see https://github.com/rdeits/meshcat-python)"
   ]
  },
  {
   "cell_type": "code",
   "execution_count": 9,
   "metadata": {
    "collapsed": true
   },
   "outputs": [],
   "source": [
    "import time\n",
    "import meshcat\n",
    "import meshcat.geometry as g\n",
    "import meshcat.transformations as tf"
   ]
  },
  {
   "cell_type": "markdown",
   "metadata": {},
   "source": [
    "Create a new visualizer"
   ]
  },
  {
   "cell_type": "code",
   "execution_count": 10,
   "metadata": {},
   "outputs": [
    {
     "name": "stdout",
     "output_type": "stream",
     "text": [
      "You can open the visualizer by visiting the following URL:\n",
      "http://127.0.0.1:7000/static/\n"
     ]
    },
    {
     "data": {
      "text/plain": [
       "<Visualizer using: <meshcat.visualizer.ViewerWindow instance at 0x10c1af368> at path: ['meshcat']>"
      ]
     },
     "execution_count": 10,
     "metadata": {},
     "output_type": "execute_result"
    }
   ],
   "source": [
    "vis = meshcat.Visualizer()\n",
    "vis.open()"
   ]
  },
  {
   "cell_type": "markdown",
   "metadata": {},
   "source": [
    "Create the cart-pole"
   ]
  },
  {
   "cell_type": "code",
   "execution_count": 11,
   "metadata": {
    "collapsed": true
   },
   "outputs": [],
   "source": [
    "# cart-pole\n",
    "cart_pole = vis[\"cart_pole\"]\n",
    "\n",
    "# cart\n",
    "cart = cart_pole[\"cart\"]\n",
    "cart.set_object(g.Box([.3*l, .3*l, .3*l]))\n",
    "\n",
    "# pivot\n",
    "pivot = cart[\"pivot\"]\n",
    "pivot.set_transform(tf.rotation_matrix(np.pi/2, [1, 0., 0.]))\n",
    "\n",
    "# pole\n",
    "pole = pivot[\"pole\"]\n",
    "pole.set_object(g.Box([.05*l, l, .05*l]))\n",
    "pole.set_transform(tf.translation_matrix([0., .5, 0.]))\n",
    "\n",
    "# left wall\n",
    "left_wall = vis[\"left_wall\"]\n",
    "left_wall.set_object(g.Box([l, .05*l, l]))\n",
    "left_wall.set_transform(tf.translation_matrix([0., -d, l]))\n",
    "\n",
    "# right wall\n",
    "right_wall = vis[\"right_wall\"]\n",
    "right_wall.set_object(g.Box([l, .05*l, l]))\n",
    "right_wall.set_transform(tf.translation_matrix([0., d, l]))"
   ]
  },
  {
   "cell_type": "markdown",
   "metadata": {},
   "source": [
    "Animate the results"
   ]
  },
  {
   "cell_type": "code",
   "execution_count": 12,
   "metadata": {
    "collapsed": true
   },
   "outputs": [],
   "source": [
    "# visualization function\n",
    "def visualize_cart_pole(x):\n",
    "    cart.set_transform(tf.translation_matrix([0, x[0,0], 0]))\n",
    "    pivot.set_transform(tf.rotation_matrix(x[1,0] + np.pi/2, [1, 0, 0]))\n",
    "\n",
    "# animation\n",
    "for t in range(Nsim):\n",
    "    visualize_cart_pole(x[t])\n",
    "    time.sleep(h)"
   ]
  }
 ],
 "metadata": {
  "kernelspec": {
   "display_name": "Python 2",
   "language": "python",
   "name": "python2"
  },
  "language_info": {
   "codemirror_mode": {
    "name": "ipython",
    "version": 2
   },
   "file_extension": ".py",
   "mimetype": "text/x-python",
   "name": "python",
   "nbconvert_exporter": "python",
   "pygments_lexer": "ipython2",
   "version": "2.7.15"
  }
 },
 "nbformat": 4,
 "nbformat_minor": 2
}
