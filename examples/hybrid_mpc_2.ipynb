{
 "cells": [
  {
   "cell_type": "markdown",
   "metadata": {},
   "source": [
    "# Model Predictive Control of Hybrid Systems"
   ]
  },
  {
   "cell_type": "markdown",
   "metadata": {},
   "source": [
    "In this notebook we extend the example presented in $\\texttt{hybrid_mpc.ipynb}$ considering a more complex system: a cart-pole with two elastic walls."
   ]
  },
  {
   "cell_type": "markdown",
   "metadata": {},
   "source": [
    "## Demo"
   ]
  },
  {
   "cell_type": "code",
   "execution_count": 1,
   "metadata": {},
   "outputs": [],
   "source": [
    "# notebook settings\n",
    "%load_ext autoreload\n",
    "%autoreload 2\n",
    "\n",
    "# external imports\n",
    "import numpy as np\n",
    "import matplotlib.pyplot as plt\n",
    "\n",
    "# internal imports\n",
    "from pympc.geometry.polyhedron import Polyhedron\n",
    "from pympc.dynamics.discrete_time_systems import LinearSystem, AffineSystem, PieceWiseAffineSystem\n",
    "from pympc.control.controllers import HybridModelPredictiveController\n",
    "from pympc.plot import plot_input_sequence, plot_output_trajectory"
   ]
  },
  {
   "cell_type": "markdown",
   "metadata": {},
   "source": [
    "We stabilize a linearized cart-pole with: cart of mass $m_{\\mathrm{c}}$, pole of mass $m_{\\mathrm{p}}$, pole of length $l$, and subject to the gravity acceleration $g$; the pole is allowed to impact with two elastic walls with stiffness $k$ placed at distance $d$ from the origin"
   ]
  },
  {
   "cell_type": "code",
   "execution_count": 2,
   "metadata": {},
   "outputs": [],
   "source": [
    "mc = 1.\n",
    "mp = 1.\n",
    "l = 1.\n",
    "d = 1.\n",
    "k = 100.\n",
    "g = 10.\n",
    "h = .05"
   ]
  },
  {
   "cell_type": "markdown",
   "metadata": {},
   "source": [
    "We express the linearized dynamics in PieceWise Affine (PWA) form\n",
    "\\begin{align}\n",
    "x(t+1) = A_i x(t) + B_i u(t) + c_i\n",
    "\\quad \\text{if} \\quad\n",
    "(x(t),u(t)) \\in \\mathcal D_i\n",
    ",\n",
    "\\quad i \\in \\{ 1, \\ldots, s\\}\n",
    "\\end{align}\n"
   ]
  },
  {
   "cell_type": "code",
   "execution_count": 3,
   "metadata": {},
   "outputs": [],
   "source": [
    "# discretization method\n",
    "method = 'explicit_euler'\n",
    "\n",
    "# dynamics n.1 (in contact with left wall)\n",
    "A1 = np.array([\n",
    "    [0., 0., 1., 0.],\n",
    "    [0., 0., 0., 1.],\n",
    "    [0., (g*mp)/mc, 0., 0.],\n",
    "    [k/(l*mp), (g*mp**2 + g*mc*mp - k*l*mc)/(l*mc*mp), 0., 0.]\n",
    "    ])\n",
    "B1 = np.array([\n",
    "    [0.],\n",
    "    [0.],\n",
    "    [1./mc],\n",
    "    [1./(l*mc)]\n",
    "    ])\n",
    "c1 = np.array([\n",
    "    [0.],\n",
    "    [0.],\n",
    "    [0.],\n",
    "    [(d*k)/(l*mp)]\n",
    "    ])\n",
    "S1 = AffineSystem.from_continuous(A1, B1, c1, h, method)\n",
    "\n",
    "# dynamics n.2 (between the two walls)\n",
    "A2 = np.array([\n",
    "    [0., 0., 1., 0.],\n",
    "    [0., 0., 0., 1.],\n",
    "    [0., (g*mp)/mc, 0., 0.],\n",
    "    [0., g*(mc+mp)/(l*mc), 0., 0.]\n",
    "    ])\n",
    "B2 = np.array([\n",
    "    [0.],\n",
    "    [0.],\n",
    "    [1./mc],\n",
    "    [1./(l*mc)]\n",
    "    ])\n",
    "S2 = LinearSystem.from_continuous(A2, B2, h, method)\n",
    "\n",
    "# dynamics n.3 (in contact with right wall)\n",
    "A3 = np.array([\n",
    "    [0., 0., 1., 0.],\n",
    "    [0., 0., 0., 1.],\n",
    "    [0., (g*mp)/mc, 0., 0.],\n",
    "    [k/(l*mp), (g*mp**2 + g*mc*mp - k*l*mc)/(l*mc*mp), 0., 0.]\n",
    "    ])\n",
    "B3 = np.array([\n",
    "    [0.],\n",
    "    [0.],\n",
    "    [1./mc],\n",
    "    [1./(l*mc)]\n",
    "    ])\n",
    "c3 = np.array([\n",
    "    [0.],\n",
    "    [0.],\n",
    "    [0.],\n",
    "    [-(d*k)/(l*mp)]\n",
    "    ])\n",
    "S3 = AffineSystem.from_continuous(A3, B3, c3, h, method)\n",
    "\n",
    "# list of dynamics\n",
    "S_list = [S1, S2, S3]"
   ]
  },
  {
   "cell_type": "markdown",
   "metadata": {},
   "source": [
    "The domains of the PWA must be expressed as (bounded!) polyhedra"
   ]
  },
  {
   "cell_type": "code",
   "execution_count": 4,
   "metadata": {},
   "outputs": [],
   "source": [
    "# state bounds\n",
    "x_max = np.array([[1.5*d], [np.pi/6.], [7.], [5.]])\n",
    "x_min = -x_max\n",
    "\n",
    "# state domain n.1 (in contact with left wall)\n",
    "F1 = np.array([[1., -l, 0., 0.]])\n",
    "g1 = np.array([[-d]])\n",
    "X1 = Polyhedron.from_bounds(x_min, x_max)\n",
    "X1.add_inequality(F1, g1)\n",
    "assert X1.bounded\n",
    "\n",
    "# state domain n.2 (between the two walls)\n",
    "F2 = np.array([[-1., l, 0., 0.], [1., -l, 0., 0.]])\n",
    "g2 = np.array([[d], [d]])\n",
    "X2 = Polyhedron.from_bounds(x_min, x_max)\n",
    "X2.add_inequality(F2, g2)\n",
    "assert X2.bounded\n",
    "\n",
    "# state domain n.3 (in contact with right wall)\n",
    "F3 = np.array([[-1., l, 0., 0.]])\n",
    "g3 = np.array([[-d]])\n",
    "X3 = Polyhedron.from_bounds(x_min, x_max)\n",
    "X3.add_inequality(F3, g3)\n",
    "assert X3.bounded\n",
    "\n",
    "# list of state domains\n",
    "X = [X1, X2, X3]\n",
    "\n",
    "# input domain\n",
    "u_min = np.array([[-100.]])\n",
    "u_max = np.array([[100.]])\n",
    "U = Polyhedron.from_bounds(u_min, u_max)\n",
    "\n",
    "# domains\n",
    "D1 = X1.cartesian_product(U)\n",
    "D2 = X2.cartesian_product(U)\n",
    "D3 = X3.cartesian_product(U)\n",
    "D_list = [D1, D2, D3]"
   ]
  },
  {
   "cell_type": "markdown",
   "metadata": {},
   "source": [
    "The overall PWA system can be defines as follows"
   ]
  },
  {
   "cell_type": "code",
   "execution_count": 5,
   "metadata": {},
   "outputs": [],
   "source": [
    "S = PieceWiseAffineSystem(S_list, D_list)"
   ]
  },
  {
   "cell_type": "code",
   "execution_count": 6,
   "metadata": {},
   "outputs": [
    {
     "ename": "KeyboardInterrupt",
     "evalue": "",
     "output_type": "error",
     "traceback": [
      "\u001b[0;31m---------------------------------------------------------------------------\u001b[0m",
      "\u001b[0;31mKeyboardInterrupt\u001b[0m                         Traceback (most recent call last)",
      "\u001b[0;32m<ipython-input-6-b5dff9a58aca>\u001b[0m in \u001b[0;36m<module>\u001b[0;34m()\u001b[0m\n\u001b[1;32m      6\u001b[0m \u001b[0;31m# terminal set and cost\u001b[0m\u001b[0;34m\u001b[0m\u001b[0;34m\u001b[0m\u001b[0m\n\u001b[1;32m      7\u001b[0m \u001b[0mP\u001b[0m\u001b[0;34m,\u001b[0m \u001b[0mK\u001b[0m \u001b[0;34m=\u001b[0m \u001b[0mS2\u001b[0m\u001b[0;34m.\u001b[0m\u001b[0msolve_dare\u001b[0m\u001b[0;34m(\u001b[0m\u001b[0mQ\u001b[0m\u001b[0;34m,\u001b[0m \u001b[0mR\u001b[0m\u001b[0;34m)\u001b[0m\u001b[0;34m\u001b[0m\u001b[0m\n\u001b[0;32m----> 8\u001b[0;31m \u001b[0mX_N\u001b[0m \u001b[0;34m=\u001b[0m \u001b[0mS2\u001b[0m\u001b[0;34m.\u001b[0m\u001b[0mmcais\u001b[0m\u001b[0;34m(\u001b[0m\u001b[0mK\u001b[0m\u001b[0;34m,\u001b[0m \u001b[0mD2\u001b[0m\u001b[0;34m)\u001b[0m\u001b[0;34m[\u001b[0m\u001b[0;36m0\u001b[0m\u001b[0;34m]\u001b[0m\u001b[0;34m\u001b[0m\u001b[0m\n\u001b[0m\u001b[1;32m      9\u001b[0m \u001b[0;34m\u001b[0m\u001b[0m\n\u001b[1;32m     10\u001b[0m \u001b[0;31m# hybrid controller\u001b[0m\u001b[0;34m\u001b[0m\u001b[0;34m\u001b[0m\u001b[0m\n",
      "\u001b[0;32m/home/tobia/codes/pympc/pympc/dynamics/discrete_time_systems.py\u001b[0m in \u001b[0;36mmcais\u001b[0;34m(self, K, D)\u001b[0m\n\u001b[1;32m    153\u001b[0m             \u001b[0mD\u001b[0m\u001b[0;34m.\u001b[0m\u001b[0mb\u001b[0m\u001b[0;34m\u001b[0m\u001b[0m\n\u001b[1;32m    154\u001b[0m             )\n\u001b[0;32m--> 155\u001b[0;31m         \u001b[0mO_inf\u001b[0m\u001b[0;34m,\u001b[0m \u001b[0mt\u001b[0m \u001b[0;34m=\u001b[0m \u001b[0mmcais\u001b[0m\u001b[0;34m(\u001b[0m\u001b[0mA_cl\u001b[0m\u001b[0;34m,\u001b[0m \u001b[0mX_cl\u001b[0m\u001b[0;34m)\u001b[0m\u001b[0;34m\u001b[0m\u001b[0m\n\u001b[0m\u001b[1;32m    156\u001b[0m \u001b[0;34m\u001b[0m\u001b[0m\n\u001b[1;32m    157\u001b[0m         \u001b[0;32mreturn\u001b[0m \u001b[0mO_inf\u001b[0m\u001b[0;34m,\u001b[0m \u001b[0mt\u001b[0m\u001b[0;34m\u001b[0m\u001b[0m\n",
      "\u001b[0;32m/home/tobia/codes/pympc/pympc/dynamics/discrete_time_systems.py\u001b[0m in \u001b[0;36mmcais\u001b[0;34m(A, X, tol)\u001b[0m\n\u001b[1;32m    544\u001b[0m         \u001b[0;32mfor\u001b[0m \u001b[0mi\u001b[0m \u001b[0;32min\u001b[0m \u001b[0mrange\u001b[0m\u001b[0;34m(\u001b[0m\u001b[0mnc\u001b[0m\u001b[0;34m)\u001b[0m\u001b[0;34m:\u001b[0m\u001b[0;34m\u001b[0m\u001b[0m\n\u001b[1;32m    545\u001b[0m             \u001b[0mlp\u001b[0m\u001b[0;34m.\u001b[0m\u001b[0mf\u001b[0m \u001b[0;34m=\u001b[0m \u001b[0;34m-\u001b[0m \u001b[0mJ\u001b[0m\u001b[0;34m[\u001b[0m\u001b[0mi\u001b[0m\u001b[0;34m:\u001b[0m\u001b[0mi\u001b[0m\u001b[0;34m+\u001b[0m\u001b[0;36m1\u001b[0m\u001b[0;34m,\u001b[0m\u001b[0;34m:\u001b[0m\u001b[0;34m]\u001b[0m\u001b[0;34m.\u001b[0m\u001b[0mT\u001b[0m\u001b[0;34m\u001b[0m\u001b[0m\n\u001b[0;32m--> 546\u001b[0;31m             \u001b[0msol\u001b[0m \u001b[0;34m=\u001b[0m \u001b[0mlp\u001b[0m\u001b[0;34m.\u001b[0m\u001b[0msolve\u001b[0m\u001b[0;34m(\u001b[0m\u001b[0;34m)\u001b[0m\u001b[0;34m\u001b[0m\u001b[0m\n\u001b[0m\u001b[1;32m    547\u001b[0m             \u001b[0mJ_sol\u001b[0m\u001b[0;34m.\u001b[0m\u001b[0mappend\u001b[0m\u001b[0;34m(\u001b[0m\u001b[0;34m-\u001b[0m\u001b[0msol\u001b[0m\u001b[0;34m[\u001b[0m\u001b[0;34m'min'\u001b[0m\u001b[0;34m]\u001b[0m \u001b[0;34m-\u001b[0m \u001b[0mX\u001b[0m\u001b[0;34m.\u001b[0m\u001b[0mb\u001b[0m\u001b[0;34m[\u001b[0m\u001b[0mi\u001b[0m\u001b[0;34m]\u001b[0m\u001b[0;34m)\u001b[0m\u001b[0;34m\u001b[0m\u001b[0m\n\u001b[1;32m    548\u001b[0m         \u001b[0;32mif\u001b[0m \u001b[0mnp\u001b[0m\u001b[0;34m.\u001b[0m\u001b[0mmax\u001b[0m\u001b[0;34m(\u001b[0m\u001b[0mJ_sol\u001b[0m\u001b[0;34m)\u001b[0m \u001b[0;34m<\u001b[0m \u001b[0mtol\u001b[0m\u001b[0;34m:\u001b[0m\u001b[0;34m\u001b[0m\u001b[0m\n",
      "\u001b[0;32m/home/tobia/codes/pympc/pympc/optimization/convex_programs.py\u001b[0m in \u001b[0;36msolve\u001b[0;34m(self)\u001b[0m\n\u001b[1;32m     50\u001b[0m             \u001b[0mself\u001b[0m\u001b[0;34m.\u001b[0m\u001b[0mX\u001b[0m\u001b[0;34m.\u001b[0m\u001b[0mb\u001b[0m\u001b[0;34m,\u001b[0m\u001b[0;34m\u001b[0m\u001b[0m\n\u001b[1;32m     51\u001b[0m             \u001b[0mself\u001b[0m\u001b[0;34m.\u001b[0m\u001b[0mX\u001b[0m\u001b[0;34m.\u001b[0m\u001b[0mC\u001b[0m\u001b[0;34m,\u001b[0m\u001b[0;34m\u001b[0m\u001b[0m\n\u001b[0;32m---> 52\u001b[0;31m             \u001b[0mself\u001b[0m\u001b[0;34m.\u001b[0m\u001b[0mX\u001b[0m\u001b[0;34m.\u001b[0m\u001b[0md\u001b[0m\u001b[0;34m\u001b[0m\u001b[0m\n\u001b[0m\u001b[1;32m     53\u001b[0m             )\n\u001b[1;32m     54\u001b[0m \u001b[0;34m\u001b[0m\u001b[0m\n",
      "\u001b[0;32m/home/tobia/codes/pympc/pympc/optimization/pnnls.py\u001b[0m in \u001b[0;36mlinear_program\u001b[0;34m(f, A, b, C, d, tol)\u001b[0m\n\u001b[1;32m    130\u001b[0m     \u001b[0mB_pnnls\u001b[0m \u001b[0;34m=\u001b[0m \u001b[0mnp\u001b[0m\u001b[0;34m.\u001b[0m\u001b[0mvstack\u001b[0m\u001b[0;34m(\u001b[0m\u001b[0;34m(\u001b[0m\u001b[0mf\u001b[0m\u001b[0;34m.\u001b[0m\u001b[0mT\u001b[0m\u001b[0;34m,\u001b[0m \u001b[0mAC\u001b[0m\u001b[0;34m,\u001b[0m \u001b[0mnp\u001b[0m\u001b[0;34m.\u001b[0m\u001b[0mzeros\u001b[0m\u001b[0;34m(\u001b[0m\u001b[0;34m(\u001b[0m\u001b[0mn_x\u001b[0m\u001b[0;34m,\u001b[0m \u001b[0mn_x\u001b[0m\u001b[0;34m)\u001b[0m\u001b[0;34m)\u001b[0m\u001b[0;34m)\u001b[0m\u001b[0;34m)\u001b[0m\u001b[0;34m\u001b[0m\u001b[0m\n\u001b[1;32m    131\u001b[0m     \u001b[0mc_pnnls\u001b[0m \u001b[0;34m=\u001b[0m \u001b[0mnp\u001b[0m\u001b[0;34m.\u001b[0m\u001b[0mvstack\u001b[0m\u001b[0;34m(\u001b[0m\u001b[0;34m(\u001b[0m\u001b[0;36m0.\u001b[0m\u001b[0;34m,\u001b[0m \u001b[0mbd\u001b[0m\u001b[0;34m,\u001b[0m \u001b[0;34m-\u001b[0m\u001b[0mf\u001b[0m\u001b[0;34m)\u001b[0m\u001b[0;34m)\u001b[0m\u001b[0;34m\u001b[0m\u001b[0m\n\u001b[0;32m--> 132\u001b[0;31m     \u001b[0mys\u001b[0m\u001b[0;34m,\u001b[0m \u001b[0mx\u001b[0m\u001b[0;34m,\u001b[0m \u001b[0mr\u001b[0m \u001b[0;34m=\u001b[0m \u001b[0mpnnls\u001b[0m\u001b[0;34m(\u001b[0m\u001b[0mA_pnnls\u001b[0m\u001b[0;34m,\u001b[0m \u001b[0mB_pnnls\u001b[0m\u001b[0;34m,\u001b[0m \u001b[0mc_pnnls\u001b[0m\u001b[0;34m)\u001b[0m\u001b[0;34m\u001b[0m\u001b[0m\n\u001b[0m\u001b[1;32m    133\u001b[0m \u001b[0;34m\u001b[0m\u001b[0m\n\u001b[1;32m    134\u001b[0m     \u001b[0;31m# initialize output\u001b[0m\u001b[0;34m\u001b[0m\u001b[0;34m\u001b[0m\u001b[0m\n",
      "\u001b[0;32m/home/tobia/codes/pympc/pympc/optimization/pnnls.py\u001b[0m in \u001b[0;36mpnnls\u001b[0;34m(A, B, c)\u001b[0m\n\u001b[1;32m     34\u001b[0m \u001b[0;34m\u001b[0m\u001b[0m\n\u001b[1;32m     35\u001b[0m     \u001b[0;31m# solve nnls\u001b[0m\u001b[0;34m\u001b[0m\u001b[0;34m\u001b[0m\u001b[0m\n\u001b[0;32m---> 36\u001b[0;31m     \u001b[0mv\u001b[0m\u001b[0;34m,\u001b[0m \u001b[0mr\u001b[0m \u001b[0;34m=\u001b[0m \u001b[0mnnls\u001b[0m\u001b[0;34m(\u001b[0m\u001b[0mA_bar\u001b[0m\u001b[0;34m,\u001b[0m \u001b[0mb_bar\u001b[0m\u001b[0;34m.\u001b[0m\u001b[0mflatten\u001b[0m\u001b[0;34m(\u001b[0m\u001b[0;34m)\u001b[0m\u001b[0;34m)\u001b[0m\u001b[0;34m\u001b[0m\u001b[0m\n\u001b[0m\u001b[1;32m     37\u001b[0m     \u001b[0mv\u001b[0m \u001b[0;34m=\u001b[0m \u001b[0mnp\u001b[0m\u001b[0;34m.\u001b[0m\u001b[0mreshape\u001b[0m\u001b[0;34m(\u001b[0m\u001b[0mv\u001b[0m\u001b[0;34m,\u001b[0m \u001b[0;34m(\u001b[0m\u001b[0mA\u001b[0m\u001b[0;34m.\u001b[0m\u001b[0mshape\u001b[0m\u001b[0;34m[\u001b[0m\u001b[0;36m1\u001b[0m\u001b[0;34m]\u001b[0m\u001b[0;34m,\u001b[0m\u001b[0;36m1\u001b[0m\u001b[0;34m)\u001b[0m\u001b[0;34m)\u001b[0m\u001b[0;34m\u001b[0m\u001b[0m\n\u001b[1;32m     38\u001b[0m     \u001b[0mu\u001b[0m \u001b[0;34m=\u001b[0m \u001b[0;34m-\u001b[0m \u001b[0mB_pinv\u001b[0m\u001b[0;34m.\u001b[0m\u001b[0mdot\u001b[0m\u001b[0;34m(\u001b[0m\u001b[0mA\u001b[0m\u001b[0;34m.\u001b[0m\u001b[0mdot\u001b[0m\u001b[0;34m(\u001b[0m\u001b[0mv\u001b[0m\u001b[0;34m)\u001b[0m \u001b[0;34m-\u001b[0m \u001b[0mc\u001b[0m\u001b[0;34m)\u001b[0m\u001b[0;34m\u001b[0m\u001b[0m\n",
      "\u001b[0;32m/usr/local/lib/python2.7/dist-packages/scipy/optimize/nnls.pyc\u001b[0m in \u001b[0;36mnnls\u001b[0;34m(A, b)\u001b[0m\n\u001b[1;32m     54\u001b[0m     \u001b[0mindex\u001b[0m \u001b[0;34m=\u001b[0m \u001b[0mzeros\u001b[0m\u001b[0;34m(\u001b[0m\u001b[0;34m(\u001b[0m\u001b[0mn\u001b[0m\u001b[0;34m,\u001b[0m\u001b[0;34m)\u001b[0m\u001b[0;34m,\u001b[0m \u001b[0mdtype\u001b[0m\u001b[0;34m=\u001b[0m\u001b[0mint\u001b[0m\u001b[0;34m)\u001b[0m\u001b[0;34m\u001b[0m\u001b[0m\n\u001b[1;32m     55\u001b[0m \u001b[0;34m\u001b[0m\u001b[0m\n\u001b[0;32m---> 56\u001b[0;31m     \u001b[0mx\u001b[0m\u001b[0;34m,\u001b[0m \u001b[0mrnorm\u001b[0m\u001b[0;34m,\u001b[0m \u001b[0mmode\u001b[0m \u001b[0;34m=\u001b[0m \u001b[0m_nnls\u001b[0m\u001b[0;34m.\u001b[0m\u001b[0mnnls\u001b[0m\u001b[0;34m(\u001b[0m\u001b[0mA\u001b[0m\u001b[0;34m,\u001b[0m \u001b[0mm\u001b[0m\u001b[0;34m,\u001b[0m \u001b[0mn\u001b[0m\u001b[0;34m,\u001b[0m \u001b[0mb\u001b[0m\u001b[0;34m,\u001b[0m \u001b[0mw\u001b[0m\u001b[0;34m,\u001b[0m \u001b[0mzz\u001b[0m\u001b[0;34m,\u001b[0m \u001b[0mindex\u001b[0m\u001b[0;34m)\u001b[0m\u001b[0;34m\u001b[0m\u001b[0m\n\u001b[0m\u001b[1;32m     57\u001b[0m     \u001b[0;32mif\u001b[0m \u001b[0mmode\u001b[0m \u001b[0;34m!=\u001b[0m \u001b[0;36m1\u001b[0m\u001b[0;34m:\u001b[0m\u001b[0;34m\u001b[0m\u001b[0m\n\u001b[1;32m     58\u001b[0m         \u001b[0;32mraise\u001b[0m \u001b[0mRuntimeError\u001b[0m\u001b[0;34m(\u001b[0m\u001b[0;34m\"too many iterations\"\u001b[0m\u001b[0;34m)\u001b[0m\u001b[0;34m\u001b[0m\u001b[0m\n",
      "\u001b[0;31mKeyboardInterrupt\u001b[0m: "
     ]
    }
   ],
   "source": [
    "# controller parameters\n",
    "N = 10\n",
    "Q = np.eye(S.nx)\n",
    "R = np.eye(S.nu)\n",
    "\n",
    "# terminal set and cost\n",
    "P, K = S2.solve_dare(Q, R)\n",
    "X_N = S2.mcais(K, D2)[0]\n",
    "\n",
    "# hybrid controller\n",
    "controller = HybridModelPredictiveController(S, N, Q, R, P, X_N)"
   ]
  },
  {
   "cell_type": "markdown",
   "metadata": {},
   "source": [
    "We can now simulate the closed-loop dynamics starting from the initial state $x_0$."
   ]
  },
  {
   "cell_type": "code",
   "execution_count": null,
   "metadata": {},
   "outputs": [],
   "source": [
    "Nsim = 10\n",
    "x0 = np.array([[0.], [0.], [2.5], [0.]])\n",
    "u = []\n",
    "x = [x_0]\n",
    "for t in range(Nsim):\n",
    "    u.append(controller.feedback(x[t]))\n",
    "    x_next = S.simulate(x[t], [u[t]])[0][1]\n",
    "    x.append(x_next)"
   ]
  },
  {
   "cell_type": "markdown",
   "metadata": {},
   "source": [
    "We can use the plot functions to visualize the time evolution of the system"
   ]
  },
  {
   "cell_type": "code",
   "execution_count": null,
   "metadata": {},
   "outputs": [],
   "source": [
    "# input\n",
    "plot_input_sequence(u, h, (u_min, u_max))\n",
    "plt.show()\n",
    "\n",
    "# output (horizontal position of the tip of the pole)\n",
    "C = np.array([[1., -l, 0., 0.]])\n",
    "y_min = np.array([[-d]])\n",
    "y_max = np.array([[d]])\n",
    "mpc_plt.output_trajectory(C, x, h, (y_min, y_max))\n",
    "plt.show()"
   ]
  },
  {
   "cell_type": "markdown",
   "metadata": {},
   "source": [
    "## Animate results with MeshCat"
   ]
  },
  {
   "cell_type": "markdown",
   "metadata": {},
   "source": [
    "Now we animate the closed-loop trajectory of the cart-pole with MeshCat (see https://github.com/rdeits/meshcat-python)"
   ]
  },
  {
   "cell_type": "code",
   "execution_count": 20,
   "metadata": {},
   "outputs": [],
   "source": [
    "import time\n",
    "import meshcat\n",
    "import meshcat.geometry as g\n",
    "import meshcat.transformations as tf"
   ]
  },
  {
   "cell_type": "markdown",
   "metadata": {},
   "source": [
    "Create a new visualizer"
   ]
  },
  {
   "cell_type": "code",
   "execution_count": 21,
   "metadata": {},
   "outputs": [
    {
     "name": "stdout",
     "output_type": "stream",
     "text": [
      "You can open the visualizer by visiting the following URL:\n",
      "http://127.0.0.1:7004/static/\n"
     ]
    },
    {
     "data": {
      "text/plain": [
       "<Visualizer using: <meshcat.visualizer.ViewerWindow instance at 0x7fb6901b8320> at path: ['meshcat']>"
      ]
     },
     "execution_count": 21,
     "metadata": {},
     "output_type": "execute_result"
    }
   ],
   "source": [
    "vis = meshcat.Visualizer()\n",
    "vis.open()"
   ]
  },
  {
   "cell_type": "markdown",
   "metadata": {},
   "source": [
    "Create the cart-pole"
   ]
  },
  {
   "cell_type": "code",
   "execution_count": 24,
   "metadata": {},
   "outputs": [],
   "source": [
    "# cart-pole\n",
    "cart_pole = vis[\"cart_pole\"]\n",
    "\n",
    "# cart\n",
    "cart = cart_pole[\"cart\"]\n",
    "cart.set_object(g.Box([.3*l, .3*l, .3*l]))\n",
    "\n",
    "# pivot\n",
    "pivot = cart[\"pivot\"]\n",
    "pivot.set_transform(tf.rotation_matrix(np.pi/2, [1, 0., 0.]))\n",
    "\n",
    "# pole\n",
    "pole = pivot[\"pole\"]\n",
    "pole.set_object(g.Box([.05*l, l, .05*l]))\n",
    "pole.set_transform(tf.translation_matrix([0., .5, 0.]))\n",
    "\n",
    "# left wall\n",
    "left_wall = vis[\"left_wall\"]\n",
    "left_wall.set_object(g.Box([l, .05*l, l]))\n",
    "left_wall.set_transform(tf.translation_matrix([0., -d, l]))\n",
    "\n",
    "# right wall\n",
    "right_wall = vis[\"right_wall\"]\n",
    "right_wall.set_object(g.Box([l, .05*l, l]))\n",
    "right_wall.set_transform(tf.translation_matrix([0., d, l]))"
   ]
  },
  {
   "cell_type": "markdown",
   "metadata": {},
   "source": [
    "Animate the results"
   ]
  },
  {
   "cell_type": "code",
   "execution_count": 23,
   "metadata": {},
   "outputs": [],
   "source": [
    "# visualization function\n",
    "def visualize_cart_pole(x):\n",
    "    cart.set_transform(tf.translation_matrix([0, x[0,0], 0]))\n",
    "    pivot.set_transform(tf.rotation_matrix(x[1,0] + np.pi/2, [1, 0, 0]))\n",
    "\n",
    "# animation\n",
    "for t in range(Nsim):\n",
    "    visualize_cart_pole(x[t])\n",
    "    time.sleep(h)"
   ]
  }
 ],
 "metadata": {
  "kernelspec": {
   "display_name": "Python 2",
   "language": "python",
   "name": "python2"
  },
  "language_info": {
   "codemirror_mode": {
    "name": "ipython",
    "version": 2
   },
   "file_extension": ".py",
   "mimetype": "text/x-python",
   "name": "python",
   "nbconvert_exporter": "python",
   "pygments_lexer": "ipython2",
   "version": "2.7.12"
  }
 },
 "nbformat": 4,
 "nbformat_minor": 2
}
