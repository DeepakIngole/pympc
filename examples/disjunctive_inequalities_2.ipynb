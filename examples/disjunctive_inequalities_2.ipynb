{
 "cells": [
  {
   "cell_type": "markdown",
   "metadata": {},
   "source": [
    "# Disjunctive Inequalities: big-Ms vs Convex-Hull Method"
   ]
  },
  {
   "cell_type": "markdown",
   "metadata": {},
   "source": [
    "Consider the family of disjoint polytopes (i.e., bounded polyhedra)\n",
    "\\begin{align}\n",
    "\\mathcal P_i &:= \\{ x \\mid A_i x \\leq b_i\\} \\quad i=1, \\dots,n.\n",
    "\\end{align}\n",
    "\n",
    "In this demo we use the Polyhedron class to analyze two standard ways to recast the disjunctive inequality\n",
    "\\begin{align}\n",
    "x \\in \\bigcup_{i=1}^n \\mathcal P_i\n",
    "\\end{align}\n",
    "in the form of mixed-integer linear inequalities, namely: the big-M and the convex-hull method."
   ]
  },
  {
   "cell_type": "markdown",
   "metadata": {},
   "source": [
    "## Demo"
   ]
  },
  {
   "cell_type": "code",
   "execution_count": 1,
   "metadata": {
    "collapsed": true
   },
   "outputs": [],
   "source": [
    "# notebook settings\n",
    "%load_ext autoreload\n",
    "%autoreload 2\n",
    "\n",
    "# external imports\n",
    "import numpy as np\n",
    "import matplotlib.pyplot as plt\n",
    "\n",
    "# internal imports\n",
    "from pympc.geometry.polyhedron import Polyhedron\n",
    "from pympc.optimization.programs import linear_program"
   ]
  },
  {
   "cell_type": "markdown",
   "metadata": {},
   "source": [
    "### Construction of the disjoint polytopes"
   ]
  },
  {
   "cell_type": "code",
   "execution_count": 2,
   "metadata": {
    "collapsed": true
   },
   "outputs": [],
   "source": [
    "# parameters\n",
    "nx = 2\n",
    "nA = 10\n",
    "nP = 3\n",
    "r = 5.\n",
    "\n",
    "# collection of polytopes\n",
    "P = []\n",
    "for i in range(nP):\n",
    "    A = np.random.randn(nA, nx)\n",
    "    offset = np.random.rand(nx, 1)*r - np.ones((nx, 1))*r/2.\n",
    "    b = np.random.rand(nA, 1) + A.dot(offset)\n",
    "    P.append(Polyhedron(A, b))"
   ]
  },
  {
   "cell_type": "code",
   "execution_count": 3,
   "metadata": {},
   "outputs": [
    {
     "data": {
      "image/png": "[encoded data removed]",
      "text/plain": [
       "<Figure size 432x288 with 1 Axes>"
      ]
     },
     "metadata": {},
     "output_type": "display_data"
    }
   ],
   "source": [
    "# function that loops over the polytopes and plot them\n",
    "def plot_polytopes(P):\n",
    "    for i, Pi in enumerate(P):\n",
    "        Pi.plot(label=r'$\\mathcal{P}_'+str(i+1)+'$', facecolor=np.random.rand(3))\n",
    "        plt.legend()\n",
    "plot_polytopes(P)"
   ]
  },
  {
   "cell_type": "markdown",
   "metadata": {},
   "source": [
    "### Big-M reformulation\n",
    "The big-M reformulation consists in the the following\n",
    "\\begin{align}\n",
    "A_i x &\\leq b_i + M_i (1 - \\delta_i), \\quad i=1, \\ldots, n \\\\\n",
    "\\sum_{i=1}^n \\delta_i &= 1,\n",
    "\\end{align}\n",
    "where $M_i \\geq 0$ are constant \"big-enough\" vectors and $\\delta_i \\in \\{ 0, 1 \\}$.\n",
    "It is immediate to verify that\n",
    "\\begin{align}\n",
    "\\delta_i = 1 \\Rightarrow x \\in \\mathcal P_i.\n",
    "\\end{align}\n",
    "\n",
    "The smallest is the values of the big-Ms the more efficient the optimization will be.\n",
    "Hence we use linear programming to fine the tighest possible big-Ms:\n",
    "\\begin{align}\n",
    "M_i &:= \\max_{j \\in \\{1, \\ldots, s\\}}\n",
    "\\left(\n",
    "\\max_{x \\in \\mathcal P_j} A_i x - b_i\n",
    "\\right)\n",
    ", \\quad\n",
    "i \\in \\{1, \\ldots, s\\}, \\\\\n",
    "\\end{align}\n",
    "where the maximization of a vector-valued function is meant elemntwise."
   ]
  },
  {
   "cell_type": "code",
   "execution_count": 4,
   "metadata": {
    "collapsed": true
   },
   "outputs": [],
   "source": [
    "# solve a linear program for all ij to get the big-Ms\n",
    "def get_big_m(P):\n",
    "    M = []\n",
    "    for i, Pi in enumerate(P):\n",
    "        Mi = []\n",
    "        for k in range(Pi.A.shape[0]):\n",
    "            Mik = - np.inf\n",
    "            for j, Pj in enumerate(P):\n",
    "                f = - Pi.A[k:k+1,:].T\n",
    "                sol = linear_program(f, Pj.A, Pj.b)\n",
    "                Mijk = - sol['min'] - Pi.b[k,0]\n",
    "                Mik = max(Mik, Mijk)\n",
    "            Mi.append(Mik)\n",
    "        M.append(np.array(Mi).reshape(Pi.A.shape[0],1))\n",
    "    return M"
   ]
  },
  {
   "cell_type": "code",
   "execution_count": 5,
   "metadata": {
    "collapsed": true
   },
   "outputs": [],
   "source": [
    "def get_relaxation(P, M):\n",
    "    nP = len(P)\n",
    "    nx = P[0].A.shape[1]\n",
    "    A_relaxed = np.zeros((0, nx+nP))\n",
    "    b_relaxed = np.zeros((0, 1))\n",
    "    P_relaxed = Polyhedron(A_relaxed, b_relaxed)\n",
    "    for i, Pi in enumerate(P):\n",
    "        nAi = Pi.A.shape[0]\n",
    "        Ai_relaxed = np.hstack((\n",
    "            Pi.A,\n",
    "            np.zeros((nAi, i)),\n",
    "            M[i],\n",
    "            np.zeros((nAi, nP-i-1))\n",
    "        ))\n",
    "        bi_relaxed = Pi.b + M[i]\n",
    "        Pi_relaxed = Polyhedron(Ai_relaxed, bi_relaxed)\n",
    "        Pi_relaxed.add_lower_bound(np.zeros((nP, 1)), range(nx,nx+nP))\n",
    "        Pi_relaxed.add_inequality(\n",
    "            np.hstack((np.zeros((1, nx)), np.ones((1, nP)))),\n",
    "            np.ones((1,1))\n",
    "        )\n",
    "        Pi_relaxed.add_inequality(\n",
    "            np.hstack((np.zeros((1, nx)), -np.ones((1, nP)))),\n",
    "            -np.ones((1,1))\n",
    "        )\n",
    "        P_relaxed.add_inequality(Pi_relaxed.A, Pi_relaxed.b)\n",
    "    return P_relaxed"
   ]
  },
  {
   "cell_type": "code",
   "execution_count": 6,
   "metadata": {},
   "outputs": [
    {
     "data": {
      "image/png": "[encoded data removed]",
      "text/plain": [
       "<Figure size 432x288 with 1 Axes>"
      ]
     },
     "metadata": {},
     "output_type": "display_data"
    }
   ],
   "source": [
    "# plot relaxation\n",
    "M = get_big_m(P)\n",
    "P_relaxed = get_relaxation(P, M)\n",
    "feasible_set = P_relaxed.project_to([0,1])\n",
    "feasible_set.plot(\n",
    "        label=r'Feasible set',\n",
    "        facecolor=np.random.rand(3)\n",
    ")\n",
    "plot_polytopes(P)"
   ]
  },
  {
   "cell_type": "markdown",
   "metadata": {},
   "source": [
    "As it can be seen choosing the best possible big-Ms makes the relaxation a rather good approximation of the convex hull of the collection of polytopes. Nonetheless, there are cases in which the result is very good and there are others in which the result is very poor..."
   ]
  },
  {
   "cell_type": "markdown",
   "metadata": {},
   "source": [
    "### Convex-hull method\n",
    "\n",
    "The convex-hull reformulation, on the other hand, consists in\n",
    "\\begin{align}\n",
    "A_i x_i &\\leq b_i \\delta_i, \\quad i=1, \\ldots, n \\\\\n",
    "\\sum_{i=1}^n x_i &= x, \\\\\n",
    "\\sum_{i=1}^n \\delta_i &= 1,\n",
    "\\end{align}\n",
    "where $x_i$ are auxiliary variables and $\\delta_i \\in \\{ 0, 1 \\}$.\n",
    "\n",
    "If $\\delta_i = 1$, we have that $\\delta_j = 0$, $\\forall j \\neq i$.\n",
    "Being all the polytopes bounded, we then have\n",
    "\\begin{align}\n",
    "A_j x_j = 0\n",
    "\\Rightarrow\n",
    "x_j = 0\n",
    "\\Rightarrow\n",
    "x = x_i\n",
    "\\Rightarrow\n",
    "A_i x &\\leq b_i\n",
    "\\end{align}\n",
    "as desired.\n",
    "\n",
    "The convex-hull method derives his name from the fact that, after relaxing the binaries $\\delta_i$ to assume values in the interval $[0,1]$, the set of $x$ \"shadowed\" by the above set is exactly $\\text{conv} (\\bigcup_{i=1}^n \\mathcal P_i)$.\n",
    "In fact, it is sufficient to consider $p_i := x_i/\\delta_i$ to see that any $x$ verifying the above set of equations must lie in $\\text{conv} (\\{ p_i \\}_{i=1}^n)$ for $p_i \\in \\mathcal P_i$.\n",
    "\n",
    "In our specific case we can simply consider\n",
    "\\begin{align}\n",
    "A_1 x_1 &\\leq b_1 (1 - \\delta), \\\\\n",
    "A_2 (x - x_1) &\\leq b_2 \\delta,\n",
    "\\end{align}\n",
    "with $\\delta \\in \\{ 0, 1 \\}$."
   ]
  },
  {
   "cell_type": "code",
   "execution_count": 9,
   "metadata": {},
   "outputs": [
    {
     "ename": "NameError",
     "evalue": "name 'A1' is not defined",
     "output_type": "error",
     "traceback": [
      "\u001b[0;31m------------------------------------------------------------------\u001b[0m",
      "\u001b[0;31mNameError\u001b[0m                        Traceback (most recent call last)",
      "\u001b[0;32m<ipython-input-9-8ca9171ef116>\u001b[0m in \u001b[0;36m<module>\u001b[0;34m()\u001b[0m\n\u001b[1;32m      1\u001b[0m \u001b[0;31m# polytope n.1\u001b[0m\u001b[0;34m\u001b[0m\u001b[0;34m\u001b[0m\u001b[0m\n\u001b[0;32m----> 2\u001b[0;31m \u001b[0mA1_relaxed\u001b[0m \u001b[0;34m=\u001b[0m \u001b[0mnp\u001b[0m\u001b[0;34m.\u001b[0m\u001b[0mhstack\u001b[0m\u001b[0;34m(\u001b[0m\u001b[0;34m(\u001b[0m\u001b[0mnp\u001b[0m\u001b[0;34m.\u001b[0m\u001b[0mzeros\u001b[0m\u001b[0;34m(\u001b[0m\u001b[0;34m(\u001b[0m\u001b[0mA1\u001b[0m\u001b[0;34m.\u001b[0m\u001b[0mshape\u001b[0m\u001b[0;34m[\u001b[0m\u001b[0;36m0\u001b[0m\u001b[0;34m]\u001b[0m\u001b[0;34m,\u001b[0m \u001b[0mA1\u001b[0m\u001b[0;34m.\u001b[0m\u001b[0mshape\u001b[0m\u001b[0;34m[\u001b[0m\u001b[0;36m1\u001b[0m\u001b[0;34m]\u001b[0m\u001b[0;34m)\u001b[0m\u001b[0;34m)\u001b[0m\u001b[0;34m,\u001b[0m \u001b[0mA1\u001b[0m\u001b[0;34m,\u001b[0m \u001b[0mb1\u001b[0m\u001b[0;34m)\u001b[0m\u001b[0;34m)\u001b[0m\u001b[0;34m\u001b[0m\u001b[0m\n\u001b[0m\u001b[1;32m      3\u001b[0m \u001b[0mP1_relaxed\u001b[0m \u001b[0;34m=\u001b[0m \u001b[0mPolyhedron\u001b[0m\u001b[0;34m(\u001b[0m\u001b[0mA1_relaxed\u001b[0m\u001b[0;34m,\u001b[0m \u001b[0mb1\u001b[0m\u001b[0;34m)\u001b[0m\u001b[0;34m\u001b[0m\u001b[0m\n\u001b[1;32m      4\u001b[0m \u001b[0mP1_relaxed\u001b[0m\u001b[0;34m.\u001b[0m\u001b[0madd_bounds\u001b[0m\u001b[0;34m(\u001b[0m\u001b[0;36m0.\u001b[0m\u001b[0;34m,\u001b[0m \u001b[0;36m1.\u001b[0m\u001b[0;34m,\u001b[0m \u001b[0;34m[\u001b[0m\u001b[0;36m4\u001b[0m\u001b[0;34m]\u001b[0m\u001b[0;34m)\u001b[0m\u001b[0;34m\u001b[0m\u001b[0m\n\u001b[1;32m      5\u001b[0m \u001b[0;34m\u001b[0m\u001b[0m\n",
      "\u001b[0;31mNameError\u001b[0m: name 'A1' is not defined"
     ]
    }
   ],
   "source": [
    "# polytope n.1\n",
    "A1_relaxed = np.hstack((np.zeros((A1.shape[0], A1.shape[1])), A1, b1))\n",
    "P1_relaxed = Polyhedron(A1_relaxed, b1)\n",
    "P1_relaxed.add_bounds(0., 1., [4])\n",
    "\n",
    "# polytope n.2\n",
    "A2_relaxed = np.hstack((A2, -A2, -b2))\n",
    "b2_relaxed = np.zeros(b2.shape)\n",
    "P2_relaxed = Polyhedron(A2_relaxed, b2_relaxed)\n",
    "P2_relaxed.add_bounds(0., 1., [4])\n",
    "\n",
    "# constraint and feasible set\n",
    "cs = P1_relaxed.intersection(P2_relaxed)\n",
    "fs = cs.project_to([0,1])\n",
    "\n",
    "# plot relaxation\n",
    "fs.plot(label=r'Relaxation feasible set', facecolor='b')\n",
    "P1.plot(label=r'$\\mathcal{P}_1$', facecolor='r')\n",
    "P2.plot(label=r'$\\mathcal{P}_2$', facecolor='g')\n",
    "plt.legend()\n",
    "plt.show()"
   ]
  },
  {
   "cell_type": "markdown",
   "metadata": {},
   "source": [
    "### Final comments\n",
    "\n",
    "The first thing to notice is that the convex-hull method does not require any \"big-enough\" constant, whose choice in some cases might result rather arbitrary...\n",
    "\n",
    "Secondly, the relaxation performed by the convex-hull method is much tighter than the one of the big-M method (actually it is the tightest by definition!). This is very useful in branch-and-bound algorithms since it increases the values of the lower bounds deriving from the problem relaxations, making the convergence of the search much faster.\n",
    "\n",
    "However, it is worth to notice that, the big-M method does not introduce auxiliary variables, hence it results in relaxations with less optimization variables."
   ]
  }
 ],
 "metadata": {
  "kernelspec": {
   "display_name": "Python 2",
   "language": "python",
   "name": "python2"
  },
  "language_info": {
   "codemirror_mode": {
    "name": "ipython",
    "version": 2
   },
   "file_extension": ".py",
   "mimetype": "text/x-python",
   "name": "python",
   "nbconvert_exporter": "python",
   "pygments_lexer": "ipython2",
   "version": "2.7.15"
  }
 },
 "nbformat": 4,
 "nbformat_minor": 2
}
