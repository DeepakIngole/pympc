{
 "cells": [
  {
   "cell_type": "code",
   "execution_count": 1,
   "metadata": {
    "collapsed": true
   },
   "outputs": [],
   "source": [
    "# notebook settings\n",
    "%load_ext autoreload\n",
    "%autoreload 2\n",
    "\n",
    "# external imports\n",
    "import numpy as np\n",
    "import matplotlib.pyplot as plt\n",
    "import gurobipy as grb\n",
    "\n",
    "# internal imports\n",
    "from pympc.geometry.polyhedron import Polyhedron"
   ]
  },
  {
   "cell_type": "code",
   "execution_count": 2,
   "metadata": {
    "collapsed": true
   },
   "outputs": [],
   "source": [
    "# polyhedral family parameters\n",
    "nx = 2\n",
    "nP = 3\n",
    "nA = 10\n",
    "r = 5."
   ]
  },
  {
   "cell_type": "code",
   "execution_count": 3,
   "metadata": {
    "collapsed": true
   },
   "outputs": [],
   "source": [
    "# collection of polytopes\n",
    "P = []\n",
    "for i in range(nP):\n",
    "    A = np.random.randn(nA, nx)\n",
    "    offset = np.random.rand(nx, 1)*r - np.ones((nx, 1))*r/2.\n",
    "    b = np.random.rand(nA, 1) + A.dot(offset)\n",
    "    Pi = Polyhedron(A, b)\n",
    "    Pi.remove_redundant_inequalities()\n",
    "    P.append(Pi)"
   ]
  },
  {
   "cell_type": "code",
   "execution_count": 4,
   "metadata": {
    "collapsed": true
   },
   "outputs": [],
   "source": [
    "def plot_polytopes(P):\n",
    "    for i, Pi in enumerate(P):\n",
    "        Pi.plot(label=r'$\\mathcal{P}_'+str(i+1)+'$', facecolor=np.random.rand(3))\n",
    "        plt.legend()"
   ]
  },
  {
   "cell_type": "code",
   "execution_count": 5,
   "metadata": {},
   "outputs": [
    {
     "data": {
      "image/png": "[encoded data removed]",
      "text/plain": [
       "<Figure size 432x288 with 1 Axes>"
      ]
     },
     "metadata": {},
     "output_type": "display_data"
    }
   ],
   "source": [
    "# convex-hull reformulation (MIQP)\n",
    "model = grb.Model()\n",
    "lb = [-grb.GRB.INFINITY]*nx\n",
    "x = np.array([model.addVars(nx, lb=lb)[k] for k in range(nx)])\n",
    "x_aux = [np.array([model.addVars(nx, lb=lb)[k] for k in range(nx)]) for i in range(nP)]\n",
    "d = [model.addVars(1, vtype='B')[0] for i in range(nP)]\n",
    "model.update()\n",
    "for i, Pi in enumerate(P):\n",
    "    for j in range(Pi.A.shape[0]):\n",
    "        model.addConstr(Pi.A[j].dot(x_aux[i]) <= Pi.b[j,0]*d[i])\n",
    "model.addConstr(sum(d) == 1.)\n",
    "for k in range(nx):\n",
    "    model.addConstr(sum(xi[k] for xi in x_aux) == x[k])\n",
    "model.setObjective(x.dot(x))\n",
    "model.setParam('OutputFlag', 0)\n",
    "model.optimize()\n",
    "x = np.vstack([xk.x for xk in x])\n",
    "\n",
    "# plot\n",
    "plot_polytopes(P)\n",
    "plt.scatter(0.,0., color='blue')\n",
    "plt.scatter(x[0], x[1], color='red')\n",
    "plt.axis('equal')\n",
    "plt.show()"
   ]
  },
  {
   "cell_type": "code",
   "execution_count": 6,
   "metadata": {},
   "outputs": [
    {
     "data": {
      "image/png": "[encoded data removed]",
      "text/plain": [
       "<Figure size 432x288 with 1 Axes>"
      ]
     },
     "metadata": {},
     "output_type": "display_data"
    }
   ],
   "source": [
    "# model set-up\n",
    "model = grb.Model()\n",
    "\n",
    "# model decision variables\n",
    "x = np.array([model.addVars(nx, lb=[-grb.GRB.INFINITY]*nx)[k] for k in range(nx)])\n",
    "x_aux = [np.array([model.addVars(nx, lb=lb)[k] for k in range(nx)]) for i in range(nP)]\n",
    "s = model.addVars(1)[0]\n",
    "s_aux = [model.addVars(1)[0] for i in range(nP)]\n",
    "d = [model.addVars(1)[0] for i in range(nP)]\n",
    "model.update()\n",
    "\n",
    "# constraints\n",
    "for i, Pi in enumerate(P):\n",
    "    for j in range(Pi.A.shape[0]):\n",
    "        model.addConstr(Pi.A[j].dot(x_aux[i]) <= Pi.b[j,0]*d[i])\n",
    "for i, xi in enumerate(x_aux):\n",
    "    model.addConstr(d[i]*s_aux[i] >= xi.dot(xi))\n",
    "model.addConstr(sum(d) == 1.)\n",
    "for k in range(nx):\n",
    "    model.addConstr(sum(xi[k] for xi in x_aux) == x[k])\n",
    "model.addConstr(sum(si for si in s_aux) == s)\n",
    "\n",
    "model.setObjective(s)\n",
    "model.setParam('OutputFlag', 0)\n",
    "model.optimize()\n",
    "x = np.vstack([xk.x for xk in x])\n",
    "\n",
    "# plot\n",
    "plot_polytopes(P)\n",
    "plt.scatter(0.,0., color='blue')\n",
    "plt.scatter(x[0], x[1], color='red')\n",
    "plt.axis('equal')\n",
    "plt.show()"
   ]
  },
  {
   "cell_type": "code",
   "execution_count": 7,
   "metadata": {},
   "outputs": [
    {
     "name": "stdout",
     "output_type": "stream",
     "text": [
      "[[6.051638167231329e-09, 3.6964661761175282e-09], [-0.16285771727126055, 0.7744712261283541], [2.586017846894085e-09, -1.9256815571915653e-09]]\n"
     ]
    },
    {
     "data": {
      "image/png": "[encoded data removed]",
      "text/plain": [
       "<Figure size 432x288 with 1 Axes>"
      ]
     },
     "metadata": {},
     "output_type": "display_data"
    }
   ],
   "source": [
    "# model set-up\n",
    "model = grb.Model()\n",
    "\n",
    "# model decision variables\n",
    "x = np.array([model.addVars(nx, lb=[-grb.GRB.INFINITY]*nx)[k] for k in range(nx)])\n",
    "x_aux = [np.array([model.addVars(nx, lb=lb)[k] for k in range(nx)]) for i in range(nP)]\n",
    "s = model.addVars(1)[0]\n",
    "s_aux = [model.addVars(1)[0] for i in range(nP)]\n",
    "d = [model.addVars(1)[0] for i in range(nP)]\n",
    "model.update()\n",
    "\n",
    "# constraints\n",
    "for i, Pi in enumerate(P):\n",
    "    for j in range(Pi.A.shape[0]):\n",
    "        model.addConstr(Pi.A[j].dot(x_aux[i]) <= Pi.b[j,0]*d[i])\n",
    "for i, xi in enumerate(x_aux):\n",
    "    model.addConstr(d[i]*s_aux[i] >= xi.dot(xi))\n",
    "model.addConstr(sum(d) == 1.)\n",
    "for k in range(nx):\n",
    "    model.addConstr(sum(xi[k] for xi in x_aux) == x[k])\n",
    "model.addConstr(sum(si for si in s_aux) == s)\n",
    "\n",
    "model.setObjective(s)\n",
    "#     sum([xi.dot(xi) for xi in x_aux])\n",
    "#     )\n",
    "model.setParam('OutputFlag', 0)\n",
    "model.optimize()\n",
    "x = np.vstack([xk.x for xk in x])\n",
    "print [[xi[k].x for k in range(nx)] for xi in x_aux]\n",
    "\n",
    "# plot\n",
    "plot_polytopes(P)\n",
    "plt.scatter(0.,0., color='blue')\n",
    "plt.scatter(x[0], x[1], color='red')\n",
    "plt.axis('equal')\n",
    "plt.show()"
   ]
  },
  {
   "cell_type": "code",
   "execution_count": null,
   "metadata": {
    "collapsed": true
   },
   "outputs": [],
   "source": []
  }
 ],
 "metadata": {
  "kernelspec": {
   "display_name": "Python 2",
   "language": "python",
   "name": "python2"
  },
  "language_info": {
   "codemirror_mode": {
    "name": "ipython",
    "version": 2
   },
   "file_extension": ".py",
   "mimetype": "text/x-python",
   "name": "python",
   "nbconvert_exporter": "python",
   "pygments_lexer": "ipython2",
   "version": "2.7.15"
  }
 },
 "nbformat": 4,
 "nbformat_minor": 2
}
