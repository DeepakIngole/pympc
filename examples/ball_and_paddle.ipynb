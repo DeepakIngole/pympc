{
 "cells": [
  {
   "cell_type": "code",
   "execution_count": 53,
   "metadata": {},
   "outputs": [
    {
     "name": "stdout",
     "output_type": "stream",
     "text": [
      "The autoreload extension is already loaded. To reload it, use:\n",
      "  %reload_ext autoreload\n"
     ]
    }
   ],
   "source": [
    "# notebook settings\n",
    "%load_ext autoreload\n",
    "%autoreload 2\n",
    "\n",
    "# external imports\n",
    "import numpy as np\n",
    "import matplotlib.pyplot as plt\n",
    "from copy import copy\n",
    "\n",
    "# internal imports\n",
    "from pympc.geometry.polyhedron import Polyhedron\n",
    "from pympc.dynamics.discrete_time_systems import LinearSystem, AffineSystem, PieceWiseAffineSystem\n",
    "from pympc.control.hybrid_benchmark.controllers import HybridModelPredictiveController\n",
    "from pympc.control.hybrid_benchmark.utils import get_constraint_set, remove_redundant_inequalities_fast, convex_hull_method_fast"
   ]
  },
  {
   "cell_type": "code",
   "execution_count": 2,
   "metadata": {
    "collapsed": true
   },
   "outputs": [],
   "source": [
    "m = 1.\n",
    "k = 100.\n",
    "c = 4.\n",
    "g = 10.\n",
    "h = .02"
   ]
  },
  {
   "cell_type": "code",
   "execution_count": 3,
   "metadata": {
    "collapsed": true
   },
   "outputs": [],
   "source": [
    "# discretization method\n",
    "method = 'zero_order_hold'\n",
    "\n",
    "# dynamics n.1 (ball in the air)\n",
    "A1 = np.array([\n",
    "    [0., 0., 1.],\n",
    "    [0., 0., 0.],\n",
    "    [0., 0., 0.]\n",
    "    ])\n",
    "B1 = np.array([\n",
    "    [0.],\n",
    "    [1.],\n",
    "    [0.]\n",
    "    ])\n",
    "c1 = np.array([\n",
    "    [0.],\n",
    "    [0.],\n",
    "    [-g]\n",
    "    ])\n",
    "S1 = AffineSystem.from_continuous(A1, B1, c1, h, method)\n",
    "\n",
    "# dynamics n.2 (paddle pulling ball)\n",
    "S2 = copy(S1)\n",
    "\n",
    "# dynamics n.1 (paddle pushing ball)\n",
    "# (no offset terms, the zero of the position of the ball is shifted by m*g/k)\n",
    "A3 = np.array([\n",
    "    [0., 0., 1.],\n",
    "    [0., 0., 0.],\n",
    "    [-k/m, k/m, -c/m]\n",
    "    ])\n",
    "B3 = np.array([\n",
    "    [0.],\n",
    "    [1.],\n",
    "    [c/m]\n",
    "    ])\n",
    "S3 = LinearSystem.from_continuous(A3, B3, h, method)\n",
    "\n",
    "# list of dynamics\n",
    "S_list = [S1, S2, S3]"
   ]
  },
  {
   "cell_type": "code",
   "execution_count": 4,
   "metadata": {
    "collapsed": true
   },
   "outputs": [],
   "source": [
    "# state bounds\n",
    "x_max = np.array([\n",
    "    [1.],\n",
    "    [.1],\n",
    "    [4.]\n",
    "])\n",
    "x_min = np.array([\n",
    "    [-.3],\n",
    "    [-.1],\n",
    "    [-4.]\n",
    "])\n",
    "f_max = 4.*m*g\n",
    "\n",
    "\n",
    "# input bounds\n",
    "u_max = np.array([[.3]])\n",
    "u_min = - u_max\n",
    "\n",
    "# domain bounds\n",
    "xu_min = np.vstack((x_min, u_min))\n",
    "xu_max = np.vstack((x_max, u_max))\n",
    "\n",
    "# domain n.1\n",
    "# (out of contact when q_ball - q_paddle > m*g/k)\n",
    "D1 = Polyhedron.from_bounds(xu_min, xu_max)\n",
    "D1.add_inequality(\n",
    "    np.array([[-1., 1., 0., 0.]]),\n",
    "    np.array([[-m*g/k]])\n",
    ")\n",
    "assert D1.bounded\n",
    "assert not D1.empty\n",
    "\n",
    "# domain n.2\n",
    "# (pulling when q_ball - q_paddle < m*g/k\n",
    "# and f = k (qp - qb) + c (qpd - qbd) + m g < 0)\n",
    "D2 = Polyhedron.from_bounds(xu_min, xu_max)\n",
    "D2.add_inequality(\n",
    "    np.array([[1., -1., 0., 0.]]),\n",
    "    np.array([[m*g/k]])\n",
    ")\n",
    "D2.add_inequality(\n",
    "    np.array([[-k, k, -c, c]]),\n",
    "    np.array([[-m*g]])\n",
    ")\n",
    "assert D2.bounded\n",
    "assert not D2.empty\n",
    "\n",
    "# domain n.3\n",
    "D3 = Polyhedron.from_bounds(xu_min, xu_max)\n",
    "D3.add_inequality( # penetration > 0\n",
    "    np.array([[1., -1., 0., 0.]]),\n",
    "    np.array([[m*g/k]])\n",
    ")\n",
    "D3.add_inequality( # not pulling\n",
    "    np.array([[k, -k, c, -c]]),\n",
    "    np.array([[m*g]])\n",
    ")\n",
    "D3.add_inequality( # maximum force < 5 m g\n",
    "    np.array([[-k, k, -c, c]]),\n",
    "    np.array([[f_max - m*g]])\n",
    ")\n",
    "assert D3.bounded\n",
    "assert not D3.empty\n",
    "\n",
    "# list of domains\n",
    "D_list = [D1, D2, D3]"
   ]
  },
  {
   "cell_type": "code",
   "execution_count": 5,
   "metadata": {
    "collapsed": true
   },
   "outputs": [],
   "source": [
    "S = PieceWiseAffineSystem(S_list, D_list)"
   ]
  },
  {
   "cell_type": "code",
   "execution_count": 6,
   "metadata": {},
   "outputs": [],
   "source": [
    "# controller parameters\n",
    "N = 75\n",
    "Q = np.diag([0.,0.,1.])*h\n",
    "R = np.diag([10.])*h\n",
    "\n",
    "# terminal set and cost\n",
    "P = Q\n",
    "X_N = Polyhedron.from_bounds(np.zeros((3,1)),np.zeros((3,1)))\n",
    "# P, K = S3.solve_dare(Q, R)\n",
    "# X_N = S3.mcais(K, D3, verbose=True)\n",
    "# X_N = Polyhedron.from_bounds(x_min, x_max)\n",
    "# X_N.add_lower_bound(np.array([[1.]]),[0])\n",
    "# P = Q"
   ]
  },
  {
   "cell_type": "markdown",
   "metadata": {},
   "source": [
    "controller = HybridModelPredictiveController(S, N, Q, R, P, X_N, 'Multiple big-Ms')"
   ]
  },
  {
   "cell_type": "markdown",
   "metadata": {},
   "source": [
    "x0 = np.array([[1.], [.0], [.0]])\n",
    "u_mip, x_mip, ms_mip, cost_mip = controller.feedforward(x0)"
   ]
  },
  {
   "cell_type": "code",
   "execution_count": 78,
   "metadata": {},
   "outputs": [],
   "source": [
    "x0 = np.array([[1.], [.0], [.0]])\n",
    "methods = [\n",
    "    'MLD equivalent',\n",
    "#     'Traditional big-M',\n",
    "    'Big-M',\n",
    "    'Convex hull',\n",
    "    'Convex hull lifted constraints'\n",
    "]\n",
    "solves = {}\n",
    "for method in methods:\n",
    "    controller = HybridModelPredictiveController(S, N, Q, R, P, X_N, method)\n",
    "    controller.prog.setParam('OutputFlag', 0)\n",
    "#     controller.prog.setParam('Heuristics', 1)\n",
    "#     controller.prog.setParam('MIPFocus', 0)\n",
    "    u_mip, x_mip, ms_mip, cost_mip = controller.feedforward(x0)\n",
    "    print controller.prog.objVal\n",
    "    solves[method] = {\n",
    "        'time': controller.prog.Runtime,\n",
    "        'nodes': controller.prog.NodeCount\n",
    "    }"
   ]
  },
  {
   "cell_type": "code",
   "execution_count": 8,
   "metadata": {},
   "outputs": [
    {
     "name": "stdout",
     "output_type": "stream",
     "text": [
      "Bemporad Morari 1999\n",
      "Solution time: 138.599963903\n",
      "Explored nodes: 120864.0\n",
      "Multiple big-Ms\n",
      "Solution time: 7.07639908791\n",
      "Explored nodes: 11808.0\n",
      "Convex hull\n",
      "Solution time: 8.64633607864\n",
      "Explored nodes: 5958.0\n",
      "Convex hull lifted constraints\n",
      "Solution time: 11.8456060886\n",
      "Explored nodes: 2479.0\n"
     ]
    }
   ],
   "source": [
    "for method in methods:\n",
    "    print method\n",
    "    print 'Solution time:', solves[method]['time']\n",
    "    print 'Explored nodes:', solves[method]['nodes']"
   ]
  },
  {
   "cell_type": "code",
   "execution_count": 75,
   "metadata": {},
   "outputs": [
    {
     "data": {
      "image/png": "[encoded data removed]",
      "text/plain": [
       "<Figure size 432x288 with 1 Axes>"
      ]
     },
     "metadata": {},
     "output_type": "display_data"
    },
    {
     "data": {
      "image/png": "[encoded data removed]",
      "text/plain": [
       "<Figure size 432x288 with 3 Axes>"
      ]
     },
     "metadata": {},
     "output_type": "display_data"
    },
    {
     "data": {
      "image/png": "[encoded data removed]",
      "text/plain": [
       "<Figure size 432x288 with 1 Axes>"
      ]
     },
     "metadata": {},
     "output_type": "display_data"
    }
   ],
   "source": [
    "plt.rc('font', size=22)\n",
    "\n",
    "# input\n",
    "plot_input_sequence(u_mip, h, (u_min, u_max), legend=False)\n",
    "plt.savefig('input.pdf',bbox_inches='tight')\n",
    "plt.show()\n",
    "\n",
    "# state\n",
    "plot_state_trajectory(x_mip, h, (x_min, x_max), legend=False)\n",
    "plt.savefig('state.pdf',bbox_inches='tight')\n",
    "plt.show()\n",
    "\n",
    "# output (contcat force)\n",
    "f = [k*(x_mip[t][1]-x_mip[t][0]) + c*(u_mip[t][0]-x_mip[t][2]) + m*g for t in range(N)]\n",
    "for t in range(N):\n",
    "    if ms_mip[t] != 2:\n",
    "        f[t] = 0.\n",
    "f = [f[0]] + f\n",
    "plt.step(range(N+1), f, color='b')\n",
    "plt.step(range(N+1), [f_max]*(N+1), color='r')\n",
    "plt.step(range(N+1), [0.]*(N+1), color='r')\n",
    "plt.xlabel(r'$t$')\n",
    "plt.ylabel(r'$f \\ (x,u)$')\n",
    "plt.xlim((0., N))\n",
    "plt.savefig('force.pdf',bbox_inches='tight')\n",
    "plt.show()"
   ]
  },
  {
   "cell_type": "code",
   "execution_count": 85,
   "metadata": {},
   "outputs": [
    {
     "name": "stdout",
     "output_type": "stream",
     "text": [
      "MLD equivalent\n",
      "Big-M\n",
      "Convex hull\n",
      "Convex hull lifted constraints\n"
     ]
    }
   ],
   "source": [
    "costs = {}\n",
    "for method in methods:\n",
    "    print method\n",
    "    controller = HybridModelPredictiveController(S, N, Q, R, P, X_N, method)\n",
    "    costs[method] = []\n",
    "    for ms in [ms_mip[:i] for i in range(N+1)]:\n",
    "        cost = controller.feedforward_relaxation(x0, ms)[3]\n",
    "        if cost is not None:\n",
    "            cost /= cost_mip\n",
    "        costs[method].append(cost)"
   ]
  },
  {
   "cell_type": "code",
   "execution_count": 97,
   "metadata": {},
   "outputs": [
    {
     "data": {
      "image/png": "[encoded data removed]",
      "text/plain": [
       "<Figure size 432x288 with 1 Axes>"
      ]
     },
     "metadata": {},
     "output_type": "display_data"
    }
   ],
   "source": [
    "plt.rc('font', size=12)\n",
    "for method in methods:\n",
    "    plt.plot(range(N+1), costs[method], label=method)\n",
    "plt.xlim((0, N))\n",
    "plt.ylim((0, 1.1))\n",
    "plt.legend()\n",
    "plt.grid()\n",
    "plt.xlabel(r'$t$')\n",
    "plt.ylabel(r'Relaxation obj. / MICP obj.')\n",
    "plt.savefig('relaxation_ratio.pdf',bbox_inches='tight')"
   ]
  },
  {
   "cell_type": "code",
   "execution_count": 96,
   "metadata": {},
   "outputs": [
    {
     "data": {
      "text/plain": [
       "<matplotlib.legend.Legend at 0x10f9d9410>"
      ]
     },
     "execution_count": 96,
     "metadata": {},
     "output_type": "execute_result"
    },
    {
     "data": {
      "image/png": "[encoded data removed]",
      "text/plain": [
       "<Figure size 432x288 with 1 Axes>"
      ]
     },
     "metadata": {},
     "output_type": "display_data"
    }
   ],
   "source": [
    "plt.plot(h*np.array(range(N+1)),[xt[0] for xt in x_mip], label='ball')\n",
    "plt.plot(h*np.array(range(N+1)),[xt[1] for xt in x_mip], label='paddle')\n",
    "plt.legend()"
   ]
  },
  {
   "cell_type": "code",
   "execution_count": null,
   "metadata": {},
   "outputs": [
    {
     "name": "stdout",
     "output_type": "stream",
     "text": [
      "MLD equivalent\n"
     ]
    }
   ],
   "source": [
    "q_p = 0.\n",
    "n_samples = 11\n",
    "q_b_samples = np.linspace(x_min[0], x_max[0], n_samples)\n",
    "v_b_samples = np.linspace(x_min[2], x_max[2], n_samples)\n",
    "for method in methods:\n",
    "    print method\n",
    "    controller = HybridModelPredictiveController(S, N, Q, R, P, X_N, method)\n",
    "    cs = get_constraint_set(controller.prog)\n",
    "    var_indices = {v: i for i, v in enumerate(controller.prog.getVars())}\n",
    "    v_index = var_indices[controller.prog.getVarByName('x0[1]')]\n",
    "    A_sect = np.hstack((cs.A[:, :v_index], cs.A[:, v_index+1:]))\n",
    "    b_sect = cs.b - cs.A[:, v_index:v_index+1] * q_p\n",
    "    cs_sect = Polyhedron(A_sect, b_sect)\n",
    "    sect = convex_hull_method_fast(cs_sect, [0,1])\n",
    "    cost_mat = np.empty([n_samples]*2)\n",
    "    for i, q_b in enumerate(q_b_samples):\n",
    "        for j, v_b in enumerate(v_b_samples):\n",
    "            print(str(i) + ',' + str(j) + '\\r'),\n",
    "            x0 = np.array([[q_b],[q_p],[v_b]])\n",
    "            cost = controller.feedforward_relaxation(x0, [])[3]\n",
    "            cost_mat[i,j] = cost\n",
    "    Q_b, V_b = np.meshgrid(q_b_samples, v_b_samples)\n",
    "    cp = plt.contour(Q_b, V_b, cost_mat.T)\n",
    "    plt.colorbar(cp, label='Relaxation objective')\n",
    "    sect.plot(facecolor='w', label='Feasible set section')\n",
    "    plt.xlabel(r'$x_1$')\n",
    "    plt.xlabel(r'$x_3$')\n",
    "    plt.legend()\n",
    "    plt.savefig(method + '.pdf')"
   ]
  },
  {
   "cell_type": "code",
   "execution_count": null,
   "metadata": {
    "collapsed": true
   },
   "outputs": [],
   "source": [
    "# constraint set of the relaxation\n",
    "controller = HybridModelPredictiveController(S, N, Q, R, P, X_N, 'big_m')\n",
    "# controller.reset_program()\n",
    "cs = get_constraint_set(controller.prog)"
   ]
  },
  {
   "cell_type": "code",
   "execution_count": null,
   "metadata": {
    "collapsed": true
   },
   "outputs": [],
   "source": [
    "# section of the constraint set\n",
    "q_p = 0.\n",
    "var_indices = {v: i for i, v in enumerate(controller.prog.getVars())}\n",
    "v_index = var_indices[controller.prog.getVarByName('x0[1]')]\n",
    "A_sect = np.hstack((cs.A[:, :v_index], cs.A[:, v_index+1:]))\n",
    "b_sect = cs.b - cs.A[:, v_index:v_index+1] * q_p\n",
    "cs_sect = Polyhedron(A_sect, b_sect)\n",
    "# cs_sect = remove_redundant_inequalities_fast(cs_sect)\n",
    "# res_dim = [var_indices[controller.prog.getVarByName(v)] for v in ['x0[0]','x0[2]']]\n",
    "sect = convex_hull_method_fast(cs_sect, [0,1])"
   ]
  },
  {
   "cell_type": "code",
   "execution_count": null,
   "metadata": {},
   "outputs": [],
   "source": [
    "n_samples = 51\n",
    "q_b_samples = np.linspace(x_min[0], x_max[0], n_samples)\n",
    "v_b_samples = np.linspace(x_min[2], x_max[2], n_samples)\n",
    "cost_mat = np.empty([n_samples]*2)\n",
    "for i, q_b in enumerate(q_b_samples):\n",
    "    for j, v_b in enumerate(v_b_samples):\n",
    "        print(str(i) + ',' + str(j) + '\\r'),\n",
    "        x0 = np.array([[q_b],[q_p],[v_b]])\n",
    "        cost = controller.feedforward_relaxation(x0, [])[3]\n",
    "        cost_mat[i,j] = cost"
   ]
  },
  {
   "cell_type": "code",
   "execution_count": null,
   "metadata": {},
   "outputs": [],
   "source": [
    "Q_b, V_b = np.meshgrid(q_b_samples, v_b_samples)\n",
    "cp = plt.contour(Q_b, V_b, cost_mat.T)\n",
    "plt.colorbar(cp, label='Relaxation cost')\n",
    "sect.plot(facecolor='w', label='Feasible set slice')\n",
    "plt.legend()\n",
    "# plt.savefig('convex_hull.pdf')"
   ]
  },
  {
   "cell_type": "markdown",
   "metadata": {},
   "source": [
    "Q, Qd = np.meshgrid(q_samples, qd_samples)\n",
    "cp = plt.contourf(Q, Qd, cost_mat.T)\n",
    "plt.colorbar(cp, label='Real cost')\n",
    "plt.savefig('real_cost.pdf')"
   ]
  },
  {
   "cell_type": "code",
   "execution_count": null,
   "metadata": {},
   "outputs": [],
   "source": [
    "cost_mat = np.empty([n_samples]*2)\n",
    "for i, q_b in enumerate(q_b_samples):\n",
    "    for j, v_b in enumerate(v_b_samples):\n",
    "        print(str(i) + ',' + str(j) + '\\r'),\n",
    "        x0 = np.array([[q_b],[q_p],[v_b]])\n",
    "        cost = controller.feedforward(x0)[3]\n",
    "        cost_mat[i,j] = cost\n",
    "Q_b, V_b = np.meshgrid(q_b_samples, v_b_samples)\n",
    "cp = plt.contour(Q_b, V_b, cost_mat.T)\n",
    "plt.colorbar(cp, label='MIP cost')\n",
    "sect.plot(facecolor='w', label='Feasible set slice')\n",
    "plt.legend()"
   ]
  },
  {
   "cell_type": "code",
   "execution_count": null,
   "metadata": {
    "collapsed": true
   },
   "outputs": [],
   "source": []
  }
 ],
 "metadata": {
  "kernelspec": {
   "display_name": "Python 2",
   "language": "python",
   "name": "python2"
  },
  "language_info": {
   "codemirror_mode": {
    "name": "ipython",
    "version": 2
   },
   "file_extension": ".py",
   "mimetype": "text/x-python",
   "name": "python",
   "nbconvert_exporter": "python",
   "pygments_lexer": "ipython2",
   "version": "2.7.15"
  }
 },
 "nbformat": 4,
 "nbformat_minor": 2
}
