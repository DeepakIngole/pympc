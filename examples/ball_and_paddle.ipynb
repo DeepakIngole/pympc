{
 "cells": [
  {
   "cell_type": "code",
   "execution_count": 1,
   "metadata": {},
   "outputs": [],
   "source": [
    "# notebook settings\n",
    "%load_ext autoreload\n",
    "%autoreload 2\n",
    "\n",
    "# external imports\n",
    "import numpy as np\n",
    "import matplotlib.pyplot as plt\n",
    "from copy import copy\n",
    "\n",
    "# internal imports\n",
    "from pympc.geometry.polyhedron import Polyhedron\n",
    "from pympc.dynamics.discrete_time_systems import LinearSystem, AffineSystem, PieceWiseAffineSystem\n",
    "# from pympc.control.controllers_socp import HybridModelPredictiveController\n",
    "# from pympc.control.controllers_gurobi import HybridModelPredictiveController\n",
    "from pympc.control.hybrid_benchmark.controllers import HybridModelPredictiveController\n",
    "from pympc.plot import plot_input_sequence, plot_state_trajectory"
   ]
  },
  {
   "cell_type": "code",
   "execution_count": 2,
   "metadata": {
    "collapsed": true
   },
   "outputs": [],
   "source": [
    "m = 1.\n",
    "d = 1.\n",
    "k = 100.\n",
    "c = 10.\n",
    "g = 10.\n",
    "h = .02"
   ]
  },
  {
   "cell_type": "code",
   "execution_count": 3,
   "metadata": {},
   "outputs": [],
   "source": [
    "# discretization method\n",
    "method = 'zero_order_hold'\n",
    "\n",
    "# dynamics n.1 (ball in the air)\n",
    "A1 = np.array([\n",
    "    [0., 0., 1.],\n",
    "    [0., 0., 0.],\n",
    "    [0., 0., 0.]\n",
    "    ])\n",
    "B1 = np.array([\n",
    "    [0.],\n",
    "    [1.],\n",
    "    [0.]\n",
    "    ])\n",
    "c1 = np.array([\n",
    "    [0.],\n",
    "    [0.],\n",
    "    [-g]\n",
    "    ])\n",
    "S1 = AffineSystem.from_continuous(A1, B1, c1, h, method)\n",
    "\n",
    "# dynamics n.2 (paddle pulling ball)\n",
    "S2 = copy(S1)\n",
    "\n",
    "# dynamics n.1 (paddle pushing ball)\n",
    "A3 = np.array([\n",
    "    [0., 0., 1.],\n",
    "    [0., 0., 0.],\n",
    "    [-k/m, k/m, -c/m]\n",
    "    ])\n",
    "B3 = np.array([\n",
    "    [0.],\n",
    "    [1.],\n",
    "    [c/m]\n",
    "    ])\n",
    "S3 = LinearSystem.from_continuous(A3, B3, h, method)\n",
    "\n",
    "# list of dynamics\n",
    "S_list = [S1, S2, S3]"
   ]
  },
  {
   "cell_type": "code",
   "execution_count": 4,
   "metadata": {},
   "outputs": [],
   "source": [
    "# state bounds\n",
    "x_max = np.array([\n",
    "    [2.],\n",
    "    [.3],\n",
    "    [5.]\n",
    "])\n",
    "x_min = - x_max\n",
    "\n",
    "\n",
    "# input bounds\n",
    "u_max = np.array([[1.]])\n",
    "u_min = - u_max\n",
    "\n",
    "# domain n.1\n",
    "D1 = Polyhedron.from_bounds(\n",
    "    np.vstack((x_min, u_min)),\n",
    "    np.vstack((x_max, u_max))\n",
    ")\n",
    "D1.add_inequality(\n",
    "    np.array([[-1., 1., 0., 0.]]),\n",
    "    np.array([[-m*g/k]])\n",
    ")\n",
    "assert D1.bounded\n",
    "assert not D1.empty\n",
    "\n",
    "# domain n.2\n",
    "D2 = Polyhedron.from_bounds(\n",
    "    np.vstack((x_min, u_min)),\n",
    "    np.vstack((x_max, u_max))\n",
    ")\n",
    "D2.add_inequality(\n",
    "    np.array([[1., -1., 0., 0.]]),\n",
    "    np.array([[m*g/k]])\n",
    ")\n",
    "D2.add_inequality(\n",
    "    np.array([[-k, k, -c, c]]),\n",
    "    np.array([[-m*g]])\n",
    ")\n",
    "assert D2.bounded\n",
    "assert not D2.empty\n",
    "\n",
    "# domain n.2\n",
    "D3 = Polyhedron.from_bounds(\n",
    "    np.vstack((x_min, u_min)),\n",
    "    np.vstack((x_max, u_max))\n",
    ")\n",
    "D3.add_inequality(\n",
    "    np.array([[1., -1., 0., 0.]]),\n",
    "    np.array([[m*g/k]])\n",
    ")\n",
    "D3.add_inequality(\n",
    "    np.array([[k, -k, c, -c]]),\n",
    "    np.array([[m*g]])\n",
    ")\n",
    "assert D3.bounded\n",
    "assert not D3.empty\n",
    "\n",
    "# list of domains\n",
    "D_list = [D1, D2, D3]"
   ]
  },
  {
   "cell_type": "code",
   "execution_count": 5,
   "metadata": {
    "collapsed": true
   },
   "outputs": [],
   "source": [
    "S = PieceWiseAffineSystem(S_list, D_list)"
   ]
  },
  {
   "cell_type": "code",
   "execution_count": 6,
   "metadata": {},
   "outputs": [
    {
     "name": "stdout",
     "output_type": "stream",
     "text": [
      "Time horizon: 16. Convergence index: -0.0007248208731225891. Number of facets: 37.   \n",
      "Maximal constraint-admissible invariant set found.\n",
      "Removing redundant facets ... minimal facets are 33.\n"
     ]
    }
   ],
   "source": [
    "# controller parameters\n",
    "N = 1\n",
    "Q = np.diag([1.,1.,1.])\n",
    "R = np.diag([1.])\n",
    "\n",
    "# terminal set and cost\n",
    "P, K = S3.solve_dare(Q, R)\n",
    "X_N = S3.mcais(K, D3, verbose=True)\n",
    "\n",
    "# hybrid controller\n",
    "controller = HybridModelPredictiveController(S, N, Q, R, P, X_N, 'improved_big_m')"
   ]
  },
  {
   "cell_type": "code",
   "execution_count": 7,
   "metadata": {},
   "outputs": [
    {
     "name": "stdout",
     "output_type": "stream",
     "text": [
      "Parameter OutputFlag unchanged\n",
      "   Value: 1  Min: 0  Max: 1  Default: 1\n",
      "Parameter Threads unchanged\n",
      "   Value: 0  Min: 0  Max: 1024  Default: 0\n",
      "Optimize a model with 81 rows, 10 columns and 227 nonzeros\n",
      "Model has 10 quadratic objective terms\n",
      "Variable types: 7 continuous, 3 integer (3 binary)\n",
      "Coefficient statistics:\n",
      "  Matrix range     [1e-04, 3e+02]\n",
      "  Objective range  [0e+00, 0e+00]\n",
      "  QObjective range [1e+00, 2e+02]\n",
      "  Bounds range     [0e+00, 0e+00]\n",
      "  RHS range        [2e-03, 1e+01]\n",
      "Found heuristic solution: objective 0.0000000\n",
      "Presolve removed 76 rows and 5 columns\n",
      "Presolve time: 0.00s\n",
      "Presolved: 5 rows, 5 columns, 12 nonzeros\n",
      "Presolved model has 7 quadratic objective terms\n",
      "Variable types: 4 continuous, 1 integer (1 binary)\n",
      "\n",
      "Root relaxation: cutoff, 15 iterations, 0.00 seconds\n",
      "\n",
      "    Nodes    |    Current Node    |     Objective Bounds      |     Work\n",
      " Expl Unexpl |  Obj  Depth IntInf | Incumbent    BestBd   Gap | It/Node Time\n",
      "\n",
      "     0     0     cutoff    0         0.00000    0.00000  0.00%     -    0s\n",
      "\n",
      "Explored 0 nodes (15 simplex iterations) in 0.04 seconds\n",
      "Thread count was 4 (of 4 available processors)\n",
      "\n",
      "Solution count 1: 0 \n",
      "\n",
      "Optimal solution found (tolerance 1.00e-04)\n",
      "Best objective 0.000000000000e+00, best bound 0.000000000000e+00, gap 0.0000%\n"
     ]
    }
   ],
   "source": [
    "x0 = np.array([[0.], [.0], [.0]])\n",
    "u, x, ms, cost = controller.feedforward(x0)"
   ]
  },
  {
   "cell_type": "code",
   "execution_count": 8,
   "metadata": {},
   "outputs": [
    {
     "data": {
      "image/png": "[encoded data removed]",
      "text/plain": [
       "<Figure size 432x288 with 1 Axes>"
      ]
     },
     "metadata": {},
     "output_type": "display_data"
    },
    {
     "data": {
      "image/png": "[encoded data removed]",
      "text/plain": [
       "<Figure size 432x288 with 3 Axes>"
      ]
     },
     "metadata": {},
     "output_type": "display_data"
    }
   ],
   "source": [
    "# input\n",
    "plot_input_sequence(u, h, (u_min, u_max))\n",
    "plt.show()\n",
    "\n",
    "# output (horizontal position of the tip of the pole)\n",
    "plot_state_trajectory(x, h, (x_min, x_max))\n",
    "plt.show()"
   ]
  },
  {
   "cell_type": "code",
   "execution_count": 9,
   "metadata": {},
   "outputs": [
    {
     "data": {
      "image/png": "[encoded data removed]",
      "text/plain": [
       "<Figure size 432x288 with 1 Axes>"
      ]
     },
     "metadata": {},
     "output_type": "display_data"
    }
   ],
   "source": [
    "# feasible set (ball position and velocity)\n",
    "from pympc.control.hybrid_benchmark.utils import get_constraint_set\n",
    "controller.reset_program()\n",
    "CS = get_constraint_set(controller.prog)\n",
    "proj = CS.project_to([0,2])\n",
    "proj.plot()"
   ]
  },
  {
   "cell_type": "code",
   "execution_count": 10,
   "metadata": {},
   "outputs": [],
   "source": [
    "# feasible set section (given paddle valocity)\n",
    "v_paddle = 0.\n",
    "A_sect = np.hstack((CS.A[:, :1], CS.A[:, 2:]))\n",
    "b_sect = CS.b + CS.A[:, 1:2] * v_paddle\n",
    "CS_sect = Polyhedron(A_sect, b_sect)\n",
    "sect = CS_sect.project_to([0,1])"
   ]
  },
  {
   "cell_type": "code",
   "execution_count": 11,
   "metadata": {},
   "outputs": [],
   "source": [
    "n_samples = 201\n",
    "q_samples = np.linspace(x_min[0], x_max[0], n_samples)\n",
    "qd_samples = np.linspace(x_min[2], x_max[2], n_samples)\n",
    "cost_mat = np.empty([n_samples]*2)\n",
    "cost_mat[:] = np.nan\n",
    "for i, q in enumerate(q_samples):\n",
    "    for j, qd in enumerate(qd_samples):\n",
    "        x0 = np.array([[q],[0.],[qd]])\n",
    "        cost = controller.feedforward_relaxation(x0, [])[3]\n",
    "        if cost is not None:\n",
    "            cost_mat[i,j] = cost"
   ]
  },
  {
   "cell_type": "code",
   "execution_count": 13,
   "metadata": {},
   "outputs": [
    {
     "data": {
      "image/png": "[encoded data removed]",
      "text/plain": [
       "<Figure size 432x288 with 2 Axes>"
      ]
     },
     "metadata": {},
     "output_type": "display_data"
    }
   ],
   "source": [
    "Q, Qd = np.meshgrid(q_samples, qd_samples)\n",
    "cp = plt.contour(Q, Qd, cost_mat.T)\n",
    "plt.colorbar(cp, label='Relaxation cost')\n",
    "sect.plot(facecolor='w', label='Feasible set slice')\n",
    "plt.legend()\n",
    "plt.savefig('improved_bigm.pdf')"
   ]
  },
  {
   "cell_type": "code",
   "execution_count": null,
   "metadata": {
    "collapsed": true
   },
   "outputs": [],
   "source": []
  }
 ],
 "metadata": {
  "kernelspec": {
   "display_name": "Python 2",
   "language": "python",
   "name": "python2"
  },
  "language_info": {
   "codemirror_mode": {
    "name": "ipython",
    "version": 2
   },
   "file_extension": ".py",
   "mimetype": "text/x-python",
   "name": "python",
   "nbconvert_exporter": "python",
   "pygments_lexer": "ipython2",
   "version": "2.7.15"
  }
 },
 "nbformat": 4,
 "nbformat_minor": 2
}
