{
 "cells": [
  {
   "cell_type": "markdown",
   "metadata": {
    "deletable": true,
    "editable": true
   },
   "source": [
    "# First-order Hybrid System, Hybrid MPC Demo"
   ]
  },
  {
   "cell_type": "code",
   "execution_count": 1,
   "metadata": {
    "collapsed": false,
    "deletable": true,
    "editable": true
   },
   "outputs": [],
   "source": [
    "%load_ext autoreload\n",
    "%autoreload 2\n",
    "#%pylab notebook"
   ]
  },
  {
   "cell_type": "code",
   "execution_count": 2,
   "metadata": {
    "collapsed": false,
    "deletable": true,
    "editable": true
   },
   "outputs": [],
   "source": [
    "import numpy as np\n",
    "import matplotlib.pyplot as plt\n",
    "import pympc.dynamical_systems as ds\n",
    "import pympc.plot as mpc_plt\n",
    "from pympc.control import HybridModelPredictiveController\n",
    "from pympc.geometry.polytope import Polytope"
   ]
  },
  {
   "cell_type": "markdown",
   "metadata": {
    "deletable": true,
    "editable": true
   },
   "source": [
    "We aim to regulate to the origin the following PieceWise Affine (PWA) system with first-order dynamics ($x,u \\in \\mathbb R$)\n",
    "\n",
    "\\begin{equation}\n",
    "\\dot x =\n",
    "\\begin{cases}\n",
    "- x + u -2, \\quad & \\text{if} \\ -3 \\leq x < -1, \\\\\n",
    "x + u, \\quad & \\text{if} \\ -1 \\leq x \\leq 1, \\\\\n",
    "- x + u + 2, \\quad & \\text{if} \\ 1 < x \\leq 3,\n",
    "\\end{cases}\n",
    "\\end{equation}\n",
    "\n",
    "with imput bounds $-5 \\leq u \\leq 5$."
   ]
  },
  {
   "cell_type": "markdown",
   "metadata": {
    "deletable": true,
    "editable": true
   },
   "source": [
    "Setting a sampling time $t_s$, the discrete-time PWA system can be defined from its continuous-time representation (the exact zero-order-hold discretization is used) to get the model\n",
    "\\begin{align}\n",
    "x_{k+1} =\n",
    "A_i x_k + B_i u_k + c_i, \\quad \\text{if} \\quad x_k \\in \\mathcal X_i \\ \\text{and} \\ u_k \\in \\mathcal U_i, \\quad i = 1, \\ldots , s, \\\\\n",
    "\\end{align}\n",
    "with $s=3$."
   ]
  },
  {
   "cell_type": "code",
   "execution_count": 3,
   "metadata": {
    "collapsed": false,
    "deletable": true,
    "editable": true
   },
   "outputs": [],
   "source": [
    "# discretization method\n",
    "method = 'explicit_euler'\n",
    "\n",
    "# sampling time\n",
    "t_s = .1\n",
    "\n",
    "# dynamics n.1\n",
    "A_0 = np.array([[-1.]])\n",
    "B_0 = np.array([[1.]])\n",
    "c_0 = np.array([[-2.]])\n",
    "S_0 = ds.AffineSystem.from_continuous(A_0, B_0, c_0, t_s, method)\n",
    "\n",
    "# dynamics n.2\n",
    "A_1 = np.array([[1.]])\n",
    "B_1 = np.array([[1.]])\n",
    "c_1 = np.array([[0.]])\n",
    "S_1 = ds.AffineSystem.from_continuous(A_1, B_1, c_1, t_s, method)\n",
    "\n",
    "# dynamics n.3\n",
    "A_2 = np.array([[-1.]])\n",
    "B_2 = np.array([[1.]])\n",
    "c_2 = np.array([[2.]])\n",
    "S_2 = ds.AffineSystem.from_continuous(A_2, B_2, c_2, t_s, method)\n",
    "\n",
    "# list of dynamics\n",
    "S = [S_0, S_1, S_2]"
   ]
  },
  {
   "cell_type": "markdown",
   "metadata": {
    "deletable": true,
    "editable": true
   },
   "source": [
    "The domains of the PWA have to be expressed as polytopes."
   ]
  },
  {
   "cell_type": "code",
   "execution_count": 4,
   "metadata": {
    "collapsed": true,
    "deletable": true,
    "editable": true
   },
   "outputs": [],
   "source": [
    "# state domain n.1\n",
    "x_min_0 = np.array([[-3.]])\n",
    "x_max_0 = np.array([[-1.]])\n",
    "X_0 = Polytope.from_bounds(x_min_0, x_max_0)\n",
    "X_0.assemble()\n",
    "\n",
    "# state domain n.1\n",
    "x_min_1 = x_max_0\n",
    "x_max_1 =  - x_max_0\n",
    "X_1 = Polytope.from_bounds(x_min_1, x_max_1)\n",
    "X_1.assemble()\n",
    "\n",
    "# state domain n.1\n",
    "x_min_2 = x_max_1\n",
    "x_max_2 = - x_min_0\n",
    "X_2 = Polytope.from_bounds(x_min_2, x_max_2)\n",
    "X_2.assemble()\n",
    "\n",
    "# list of state domains\n",
    "X = [X_0, X_1, X_2]\n",
    "\n",
    "# input domain\n",
    "u_max = np.array([[3.]])\n",
    "u_min = -u_max\n",
    "U = Polytope.from_bounds(u_min, u_max)\n",
    "U.assemble()\n",
    "U = [U]*3"
   ]
  },
  {
   "cell_type": "markdown",
   "metadata": {
    "deletable": true,
    "editable": true
   },
   "source": [
    "We can now define the PWA system."
   ]
  },
  {
   "cell_type": "code",
   "execution_count": 5,
   "metadata": {
    "collapsed": false,
    "deletable": true,
    "editable": true
   },
   "outputs": [],
   "source": [
    "pwa_sys = ds.PieceWiseAffineSystem.from_orthogonal_domains(S, X, U)"
   ]
  },
  {
   "cell_type": "markdown",
   "metadata": {
    "deletable": true,
    "editable": true
   },
   "source": [
    "At each each step, the following optimal control is solved\n",
    "\\begin{align}\n",
    "\\min \\quad &\n",
    "\\sum_{k=0}^{N-1} (x_k^T Q x_k + u_k^T R u_k) + x_N^T P x_N \\\\\n",
    "\\text{subject to} \\quad &\n",
    "x_{k+1} =\n",
    "A_i x_k + B_i u_k + c_i, \\quad \\text{if} \\quad x_k \\in \\mathcal X_i \\ \\text{and} \\ u_k \\in \\mathcal U_i, \\\\\n",
    "& x_k \\in \\bigcup_{i=1}^{s} \\mathcal X_i , \\quad u_k \\in \\bigcup_{i=1}^{s} \\mathcal U_i , \\\\\n",
    "& x_N \\in \\mathcal X_N, \\\\\n",
    "& x_0 \\ \\text{given}, \\\\\n",
    "\\end{align}\n",
    "and the input $u_0$ is applied to the system."
   ]
  },
  {
   "cell_type": "code",
   "execution_count": 6,
   "metadata": {
    "collapsed": false,
    "deletable": true,
    "editable": true
   },
   "outputs": [
    {
     "name": "stdout",
     "output_type": "stream",
     "text": [
      "Computation of Maximal Invariant Constraint-Admissible Set started.\n",
      "Determinedness index: 0, Convergence index: -0.12605517043, Number of facets: 2.                \r\n",
      "Maximal Invariant Constraint-Admissible Set found.\n",
      "Removing redundant facets ... minimal facets are 2.\n"
     ]
    }
   ],
   "source": [
    "# controller parameters\n",
    "N = 10\n",
    "Q = np.eye(A_1.shape[0])\n",
    "R = np.eye(B_1.shape[1])\n",
    "P = Q\n",
    "objective_norm = 'two'\n",
    "grb = {'OutputFlag': 0}\n",
    "\n",
    "# terminal set and cost\n",
    "P, K = ds.dare(S_1.A, S_1.B, Q, R)\n",
    "X_N = ds.moas_closed_loop_from_orthogonal_domains(S_1.A, S_1.B, K, X_1, U[1])\n",
    "\n",
    "# hybrid controller\n",
    "controller = HybridModelPredictiveController(pwa_sys, N, objective_norm, Q, R, P, X_N, grb)"
   ]
  },
  {
   "cell_type": "markdown",
   "metadata": {
    "deletable": true,
    "editable": true
   },
   "source": [
    "We can now simulate the closed-loop dynamics startion from the initial state $x_0$."
   ]
  },
  {
   "cell_type": "code",
   "execution_count": 7,
   "metadata": {
    "collapsed": false,
    "deletable": true,
    "editable": true
   },
   "outputs": [],
   "source": [
    "N_sim = 50\n",
    "x_0 = np.array([[2.9]])\n",
    "u = []\n",
    "x = [x_0]\n",
    "for k in range(N_sim):\n",
    "    u.append(controller.feedback(x[k]))\n",
    "    x_next = pwa_sys.simulate(x[k], [u[k]])[0][1]\n",
    "    x.append(x_next)"
   ]
  },
  {
   "cell_type": "markdown",
   "metadata": {
    "deletable": true,
    "editable": true
   },
   "source": [
    "We can use the plot functions to visualize the time evolution of the system."
   ]
  },
  {
   "cell_type": "code",
   "execution_count": 8,
   "metadata": {
    "collapsed": false,
    "deletable": true,
    "editable": true
   },
   "outputs": [
    {
     "data": {
      "image/png": "[encoded data removed]",
      "text/plain": [
       "<matplotlib.figure.Figure at 0x1071e6390>"
      ]
     },
     "metadata": {},
     "output_type": "display_data"
    },
    {
     "data": {
      "image/png": "[encoded data removed]",
      "text/plain": [
       "<matplotlib.figure.Figure at 0x10af12b10>"
      ]
     },
     "metadata": {},
     "output_type": "display_data"
    }
   ],
   "source": [
    "mpc_plt.input_sequence(u, t_s, (u_min, u_max))\n",
    "plt.show()\n",
    "mpc_plt.state_trajectory(x, t_s, (x_min_0, x_min_1, x_min_2, x_max_2))\n",
    "plt.show()"
   ]
  }
 ],
 "metadata": {
  "kernelspec": {
   "display_name": "Python 2",
   "language": "python",
   "name": "python2"
  },
  "language_info": {
   "codemirror_mode": {
    "name": "ipython",
    "version": 2
   },
   "file_extension": ".py",
   "mimetype": "text/x-python",
   "name": "python",
   "nbconvert_exporter": "python",
   "pygments_lexer": "ipython2",
   "version": "2.7.14"
  }
 },
 "nbformat": 4,
 "nbformat_minor": 2
}
