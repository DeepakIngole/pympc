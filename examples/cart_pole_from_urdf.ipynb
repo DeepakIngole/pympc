{
 "cells": [
  {
   "cell_type": "code",
   "execution_count": 1,
   "metadata": {},
   "outputs": [],
   "source": [
    "%load_ext autoreload\n",
    "%autoreload 2"
   ]
  },
  {
   "cell_type": "code",
   "execution_count": 2,
   "metadata": {
    "collapsed": true
   },
   "outputs": [],
   "source": [
    "import numpy as np\n",
    "import matplotlib.pyplot as plt\n",
    "from IPython.display import HTML"
   ]
  },
  {
   "cell_type": "code",
   "execution_count": 3,
   "metadata": {},
   "outputs": [],
   "source": [
    "from underactuated import PlanarRigidBodyVisualizer\n",
    "from pydrake.all import (FloatingBaseType,\n",
    "                         RigidBodyTree,\n",
    "                         RigidBodyPlant,\n",
    "                         DiagramBuilder,\n",
    "                         ZeroOrderHold,\n",
    "                         SignalLogger,\n",
    "                         Simulator)"
   ]
  },
  {
   "cell_type": "code",
   "execution_count": 4,
   "metadata": {
    "collapsed": true
   },
   "outputs": [],
   "source": [
    "from pympc.geometry.polyhedron import Polyhedron"
   ]
  },
  {
   "cell_type": "code",
   "execution_count": 5,
   "metadata": {},
   "outputs": [],
   "source": [
    "from utils import pwa_from_RigidBodyPlant, Controller"
   ]
  },
  {
   "cell_type": "code",
   "execution_count": 6,
   "metadata": {
    "collapsed": true
   },
   "outputs": [],
   "source": [
    "# linearization points for the angle of the pole\n",
    "th_min = - np.pi * .3\n",
    "th_max = np.pi * .3\n",
    "n_lin = 5\n",
    "th_step = (th_max - th_min) / (n_lin - 1)\n",
    "th_lin = [np.array([th]) for th in np.linspace(th_min, th_max, n_lin)]"
   ]
  },
  {
   "cell_type": "code",
   "execution_count": 7,
   "metadata": {
    "collapsed": true
   },
   "outputs": [],
   "source": [
    "# overall boundaries for the state\n",
    "x_min = np.array([[-3.], [th_min-th_step], [-10.], [-10.]])\n",
    "x_max = np.array([[3.], [th_max+th_step], [10.], [10.]])\n",
    "X = Polyhedron.from_bounds(x_min, x_max)"
   ]
  },
  {
   "cell_type": "code",
   "execution_count": 8,
   "metadata": {
    "collapsed": true
   },
   "outputs": [],
   "source": [
    "# overall boundaries for the input\n",
    "u_min = np.array([[-100.]])\n",
    "u_max = np.array([[100.]])\n",
    "U = Polyhedron.from_bounds(u_min, u_max)"
   ]
  },
  {
   "cell_type": "code",
   "execution_count": 9,
   "metadata": {
    "collapsed": true
   },
   "outputs": [],
   "source": [
    "# RigidBodyPlant from urdf\n",
    "tree = RigidBodyTree(\"cart_pole.urdf\", FloatingBaseType.kFixed)\n",
    "plant = RigidBodyPlant(tree)"
   ]
  },
  {
   "cell_type": "code",
   "execution_count": 10,
   "metadata": {
    "collapsed": true
   },
   "outputs": [],
   "source": [
    "# discretization time\n",
    "h = .05"
   ]
  },
  {
   "cell_type": "code",
   "execution_count": 11,
   "metadata": {},
   "outputs": [],
   "source": [
    "# piecewise affine system\n",
    "pwa = pwa_from_RigidBodyPlant(plant, h, X, U, th_lin, indices=[1])"
   ]
  },
  {
   "cell_type": "code",
   "execution_count": 12,
   "metadata": {},
   "outputs": [],
   "source": [
    "# drake controller\n",
    "N = 20\n",
    "Q = np.eye(4)/100.\n",
    "R = np.eye(1)/100.\n",
    "P = Q\n",
    "X_N = Polyhedron.from_bounds(*[np.zeros((pwa.nx,1))]*2)\n",
    "# from copy import copy\n",
    "# X_N = copy(X)\n",
    "controller = Controller(pwa, N, Q, R, Q, X_N, method='Convex hull, lifted constraints')"
   ]
  },
  {
   "cell_type": "code",
   "execution_count": 13,
   "metadata": {},
   "outputs": [],
   "source": [
    "# blocks of the diagram\n",
    "builder = DiagramBuilder()\n",
    "robot = builder.AddSystem(plant)\n",
    "controller = builder.AddSystem(controller)\n",
    "zoh = builder.AddSystem(ZeroOrderHold(.1, 1))"
   ]
  },
  {
   "cell_type": "code",
   "execution_count": 14,
   "metadata": {},
   "outputs": [],
   "source": [
    "# logger\n",
    "logger_freq = 30.\n",
    "logger = SignalLogger(plant.get_num_states())\n",
    "state_log = builder.AddSystem(logger)\n",
    "state_log._DeclarePeriodicPublish(1./logger_freq, 0.0)"
   ]
  },
  {
   "cell_type": "code",
   "execution_count": 15,
   "metadata": {},
   "outputs": [],
   "source": [
    "# connect and build the block diagram\n",
    "builder.Connect(robot.get_output_port(0), controller.get_input_port(0))\n",
    "builder.Connect(controller.get_output_port(0), zoh.get_input_port(0))\n",
    "builder.Connect(zoh.get_output_port(0), robot.get_input_port(0))\n",
    "builder.Connect(plant.get_output_port(0), state_log.get_input_port(0))\n",
    "diagram = builder.Build()"
   ]
  },
  {
   "cell_type": "code",
   "execution_count": 16,
   "metadata": {},
   "outputs": [],
   "source": [
    "# set up sim\n",
    "simulator = Simulator(diagram)\n",
    "simulator.set_publish_every_time_step(False)\n",
    "integrator = simulator.get_mutable_integrator()\n",
    "integrator.set_fixed_step_mode(True)\n",
    "integrator.set_maximum_step_size(0.01)"
   ]
  },
  {
   "cell_type": "code",
   "execution_count": 17,
   "metadata": {},
   "outputs": [
    {
     "name": "stdout",
     "output_type": "stream",
     "text": [
      "5.0 - [ 2.06859723e-06  2.06543626e-05 -4.60033400e-04 -4.10086386e-04].\r"
     ]
    }
   ],
   "source": [
    "# simulate\n",
    "x0 = np.array([0., 0., 1., 0.])\n",
    "state = simulator.get_mutable_context().get_mutable_continuous_state_vector()\n",
    "state.SetFromVector(x0)\n",
    "simulator.StepTo(5.)"
   ]
  },
  {
   "cell_type": "code",
   "execution_count": 20,
   "metadata": {},
   "outputs": [
    {
     "name": "stdout",
     "output_type": "stream",
     "text": [
      "Spawning PlanarRigidBodyVisualizer for tree with 1 actuators\n"
     ]
    },
    {
     "data": {
      "text/html": [
       "<video width=\"720\" height=\"360\" controls autoplay loop>\n",
       "  <source type=\"video/mp4\" src=\"data:video/mp4;base64,AAAAHGZ0eXBNNFYgAAACAGlzb21pc28yYXZjMQAAAAhmcmVlAAAvvm1kYXQAAAKuBgX//6rcRem9\n",
       "5tlIt5Ys2CDZI+7veDI2NCAtIGNvcmUgMTUyIHIyODU0IGU5YTU5MDMgLSBILjI2NC9NUEVHLTQg\n",
       "QVZDIGNvZGVjIC0gQ29weWxlZnQgMjAwMy0yMDE3IC0gaHR0cDovL3d3dy52aWRlb2xhbi5vcmcv\n",
       "eDI2NC5odG1sIC0gb3B0aW9uczogY2FiYWM9MSByZWY9MyBkZWJsb2NrPTE6MDowIGFuYWx5c2U9\n",
       "MHgzOjB4MTEzIG1lPWhleCBzdWJtZT03IHBzeT0xIHBzeV9yZD0xLjAwOjAuMDAgbWl4ZWRfcmVm\n",
       "PTEgbWVfcmFuZ2U9MTYgY2hyb21hX21lPTEgdHJlbGxpcz0xIDh4OGRjdD0xIGNxbT0wIGRlYWR6\n",
       "b25lPTIxLDExIGZhc3RfcHNraXA9MSBjaHJvbWFfcXBfb2Zmc2V0PS0yIHRocmVhZHM9NiBsb29r\n",
       "YWhlYWRfdGhyZWFkcz0xIHNsaWNlZF90aHJlYWRzPTAgbnI9MCBkZWNpbWF0ZT0xIGludGVybGFj\n",
       "ZWQ9MCBibHVyYXlfY29tcGF0PTAgY29uc3RyYWluZWRfaW50cmE9MCBiZnJhbWVzPTMgYl9weXJh\n",
       "bWlkPTIgYl9hZGFwdD0xIGJfYmlhcz0wIGRpcmVjdD0xIHdlaWdodGI9MSBvcGVuX2dvcD0wIHdl\n",
       "aWdodHA9MiBrZXlpbnQ9MjUwIGtleWludF9taW49MjUgc2NlbmVjdXQ9NDAgaW50cmFfcmVmcmVz\n",
       "aD0wIHJjX2xvb2thaGVhZD00MCByYz1jcmYgbWJ0cmVlPTEgY3JmPTIzLjAgcWNvbXA9MC42MCBx\n",
       "cG1pbj0wIHFwbWF4PTY5IHFwc3RlcD00IGlwX3JhdGlvPTEuNDAgYXE9MToxLjAwAIAAAALbZYiE\n",
       "ADP//vbsvgU1/Z/QlxEsxdpKcD4qpICAdzTAAAADAAADAAADACpHOfTm4+L2i0AAAAMC2gCvk3Xw\n",
       "Ukf5gCrKNrlbNS3UADhX7+QbP6IzdugfdWj4zfolkUU1W1By5FIOrhDbef7f2PIUvhMkbilMiH66\n",
       "jw4YNDzw26Lux+u788b4MJ5X4XW9Ytsef1m2B5z8zI2EY7VOsX9Q2WYbw6NAOJ5SI0BKz2efkvzy\n",
       "tKZWXj4hfwq2saEucBP5Fc++HbLkiEAD999cpQuecekITJO34k/Me9+iA9L5H7pha6FYKnLqgPpq\n",
       "8PmS8Jr7mEugG+QXQX7J+PT9Vg42EQxv7WjJ8BbHrGbL2RF+Gh4DqT43Kiugj34oMvATmtr1X2i3\n",
       "j85M9YPPAT9lyrwrnBzCFJ+9S7jY3MjNEQ5KgFun0b2WfJoxkHmly6MYNWwmyn16E8/a398azHtL\n",
       "vCyvFcX2ghfQmkrncitd9SQNIKe2UrBZPmT7gpV+cVJUqd+FGLiP8OD50ff9BgzDYw6CFJfdOJ/j\n",
       "9oTCFmOV/EoI59M7arj5+6XNKWhdwAFs/cBxlrdVd2SR3jTn767qos0tmH9R6H63qgUkolDBOJGm\n",
       "7Zuy/cA51IQxBgjJuy56X/NliF1oALqZ61Q/c0KellqlXrAtzHtf63OlLrVVKzPJnRChQAszANta\n",
       "K44+v6q5ngRmK4N85SlQA+hEM73bumQIu8YQJQX70Xztm4L/xL6SiD4lRi+NrR1O5k4jizAa9w1x\n",
       "5L3+oZ6j02BMACqLzwb0B7g2w0tefVYjeIybF/uj37QUSkV6+O6ptQCLJy4cUQIneTIOvpdMJvLZ\n",
       "YZSajzUbwtNKuQtzadDPTrI1K9ABjL/JpYAAOodVy7UI00ZfO8Y3C+gs70eju7KvGQ3q/9bKojtD\n",
       "jA7GYvAAAAMAABOYIEu353AAAg4APIAAAAMAAAMAAAMAAAMAAAMAAAMAGREAAADyQZojbEM//p4Q\n",
       "AIKRg45IASOeyudUPqh4myh8NcGY2bewI3Zv31NEBGGfRT2S4ByDi91wHcRVZ9E22nU8UZx/Qtv0\n",
       "9s86RIl6DEQXY6gRmzVVpYlYuLqogpaP0sUpLaY9KuxUH0xjkn+Iq63w/N/ZddjYXfE02cuETUi5\n",
       "nWUuQcOjqhO24ZTNh8h1klXJVl3UigvMFbNArC1u/v2lD7Vn+fp0rQ2Zf0eQrF3YHGUAl6jgCWDS\n",
       "k1fA2y8h7t0o6cwSUW57RF/lQSCW94DJIRFkf05bUBPHwrLJehsgTHYMIdd7NLZsmFWxAD00G2bk\n",
       "YPBAvYAAAAB7QZ5BeIV/ABunoBTOHAB3N1nZrUBF806tAs/KEsIuo1IZz0PJAHQX19JupqvQA7GY\n",
       "ORNR6eRgA6nRjeAIJy9zrnKSqHNLux5iDeGx4ngweqtU7IITJIL+uU+wj4f/wadyfcM0DfJt/ws7\n",
       "dxUnErShU/JesDmfb/FyAIGBAAAAOAGeYmpCfwAjuebREjINE4KrFgIvDEtDThWkZDaxdPiS2ABz\n",
       "gpfaxb8jn1cqwlfuU6kjhKqbQA+YAAABd0GaZUmoQWiZTBTwz/6eEACDUkj13yAFZU1DMVYLelkm\n",
       "oPyZO39EhCr5PMTL7ungD9pXTHLM0vvmvQfoH5/5LPRrL7HKF33qGGx/QYQW8NBBardBl8JtvHW9\n",
       "3n1s3WVluxPzKelcr+VXd3Q+H5egp5nmsyNeNaCYnQnQ9WYQ+rw3xrUvZYDVo/UhM3SbLqdKaGwO\n",
       "eCcPy4rbF6+uIvNHvxdSHA+Aru8nRgcAT1mWsKqgV4UTjPRXH/pYjd0nk5F4r6Pqo5Z8uEfJTxe9\n",
       "rCh61e/i8+wJEfhtF0pUkzHhYeePIVNbbnWm4FrGpL648VDyo9UECUCvCldjG4f160w7JmonB4Nq\n",
       "g81i35MmHL1fnt5aNQu+4/UhImYmNy6Q0e9m3x84s67AJKlyl4ezny/QHJ8V8Y9jwQDgPoa55FLd\n",
       "cIYs3uVaXP7AmpPTG7cTaojcD/D2JRe1jaqqg09big7m9enoQuLUR7HOOdBraSGu6nvDMCyQbRLJ\n",
       "eQAAAGcBnoRqQn8AI5c2H/7w/CZyJwMdowJJw0+E8mugAhC74tr/ivY5FBc3Jd5ru7zeNJ8rA9z+\n",
       "R1cb09IluCIdtOCeUY1UXt9GdT8WAweAWm5Oau8o3vkEb42WNjIn8AokOcbN5kikALaBAAABg0Ga\n",
       "hknhClJlMCGf/p4QAIKG/WMOQAswKXRww7uHK1jxqQRqI2zUlG2nsZhI2mGtEZyEP5InVt8+W139\n",
       "8e5pR70iRWjL0P7KzasCSM87sjoR27WO4H2l59SLcf5G2LKT73FmpVRFyqKcYPQXpiXcinVB1UVM\n",
       "hVdSTvz3iQPba3WncPrKBbLHa5eqQ9ks6f4RtsDira6O8bkW4Pqtn06pCZ5svT4eprxWTyzgf9Cg\n",
       "Cd1WJCe5+jKzXLPPdNNMcbHLPrUWMMa63ucSDgwwBZRhpFz/kD69EJxdSIIPf4m3qQDujPGNC/Ce\n",
       "ZcEV4Xg01A0sU62se+DJ2WlHAKxhWgjqxYCRI6wJdGw1tM9XVwmi02JWHkPt4uHRfjSTC5CCTpQK\n",
       "pRJsCUhHJZxnykTUyQt2X+WcGoHbGjZ5zTOV8/wT8wlzgyTWx4wTkgUNqOMBmC56Cehbe9PUmqOO\n",
       "LpwX901rkLGbX1c21Fv7myNRApdDFP5vmxsSfCDNLDnNt5S8a1rE7K22sQAAAaFBmqdJ4Q6JlMCG\n",
       "//6nhAAhqXCCweyAK2NesSqSjGg89+1zsoQniagSU8Z884Fy3/wACjEzuA/009g70t4HABtg9cqU\n",
       "+Q147/TRZyQlcK0ZaXZmZKae9Qhq+mSc1bg9ZjXHnXse+kq99zSF/qrF2VPinDZivaEI+UkFpFQJ\n",
       "a2oWssK5Q6mthjqooBwKKf01hZvFuucssu3OIvRsfPKFRJ8+tQF864iw0a7AeCHIZ1pSTob4g9BG\n",
       "UEbfUaOOY9pq5cosVl0duHyz/z7VTkUkI8GbeR+MxGpJTnfNc66W5VRb7BPEzWYqqGUf6jDJ8NHX\n",
       "uh+KmEZakVQeBypQQ/oSt2gygS+auOdYwskYe+l6LAF6vG1FiKvCTU5aCPGHIetYDu/Z3X2DRNQI\n",
       "pWNf2/eJjrAt2rg4mHjtzE6z1nLG008RRm83NiDT5CfIcyKWSAWc4H7QRi+zmMK0ozgF8uSd2bY8\n",
       "7fLq+1VC+pMqafDMzUrJBFc8SFSi92hPo4JsncP1eV0D61KWK/fpXA0mOOU5KkPbv438N+MJADtl\n",
       "d0+NREbXykMAAAFVQZrISeEPJlMCG//+p4QAIctbFv24GRo7TA/NG/SBgnKC0PSNmLlTdDATtyIi\n",
       "C/bjEKdZDTp0JN6mB8SI7RjtIVEOFWtaHdaFrgH8bp/qb/mSAZOVEiydS7XnbBmdB7SNJCLhttRv\n",
       "gKgVPVYCncas0La3Huw/r/fTvVJkm01WJ6ucc5ourRo/iM/r4zCDJAAJaT1XkffJQPnJBZbJVWn9\n",
       "TnODhuNkh1Gde+0p86pVD6jo2zmCeqIEnhx2kFfl289HuRxouUJlo4YdvX9B34hfkLbt/RNgRtqM\n",
       "I8ARyAS+rpRBGoGmnjseay0OFbksTR/dje1t0ZLi99XMmEDqjRfFv34RtjNHTVYBRPKY8K2xUX1M\n",
       "8Q8zvh5sCLup2tfSVOPBwXXsnWm8Fy2AxwVnJvj/5Zvag6eCNHXPPZo9bJ1g6GkvpapBECWqVM2J\n",
       "8DcCmN2GakC+MCAAAAEGQZrsSeEPJlMCG//+p4QAIamSxnFQBzFHur+A9LgtmJQVWiaX0yT3F6JP\n",
       "/WBF2YnPGy+ii7cdEAv0ZCi70l95r8coPWdUgDvBCB8CKb4oKY4zDLjdDW5PXDfo4GJUhDLx7m8x\n",
       "0diE3fsBYaKGlTatB05s6nPjOKeSzaE6U1VuGicKX6fREOTHqo8Iiq/Ex2bPo0a7guvcmX20UH2l\n",
       "1ug+brBbVI96syrPhREZGJkyGjBWrr+UOXOBA7JI/fb9PedpKaB724J44tbI2dqxONImA++CRgUe\n",
       "HSiqM5ItPf/kMFM+rSk8Hn3u/yZ0TcGssn1rvHLhj8KDJHj6FgB1pgY8vbxFenSJYAAAAFdBnwpF\n",
       "ETwr/wAbqDkj0qJ90ViTO80rjE4b/3Zs2r+RAB+CrUyVCgFkLqkr+QYikOfLmLu4dLGNcRgR3c35\n",
       "HOQbkFwv6G/S5BcrhV8rlbKCsNqvdxUADfkAAABRAZ8pdEJ/ACPDggiwf5DuaMt8ptVNk/w0O+T4\n",
       "qQskgAFqMK8Rew/veRYdD9d9keRDvjoM3wv2EToooHNFBZf4/iMkgqm2dtwVt9kXJbULIALuAAAA\n",
       "PwGfK2pCfwAjumWUeHk/ESU9dco730tdIjbngBpTNvlwePlrQkcb+5RbkWlsoPZIexcZO2gwBYqy\n",
       "2lv6L5ABdwAAATVBmzBJqEFomUwIb//+p4QAIZzkDObLwVAG4ywtF0m7YKRtv1lucW71QOzz++4+\n",
       "w1fsuPiBZy3T/0A782JqnTZ1VzZWXWkpyicmpB2DXLGDpRNlHG3Y3XnTvPUDky9MMggAEMMXRhmn\n",
       "l47pGXxp8QY+DG10QKllyHxbYCuvebrZztsxA1416fbuqq/jkV+minow0rcaDAWlJ5IQlPkz5rhY\n",
       "isWF254dvErq/W6NtbxGoyLgVpWjT/LhNfYZ4j5VUbe/TjcCkpWgBmWlOE9YFdCS2ux9J6xB2yNR\n",
       "nZsXlB0DG9T9ewXquu+mu6ai+vvw8YOtUPnVDnu1Jr+J1XjQJzwZ+ABYA0++lkLf6oQYhjOcJoQ1\n",
       "bhYy5Sxf8kBX1LUxiH+rgkL3zP62egIMKR//LCw1KPs4lCEAAABoQZ9ORREsK/8AG6jy98NsAIvs\n",
       "ACk0DJJo55S4LdV8cYTN6+T+FH6awX8kxWkVcafzA/h1y9BSuuEVDiyu6l/va9jV+G0rOwRR1Wzn\n",
       "mlY7G8JRReTegl2UUuTI/n41WFz4aUGH3e0AO6EAAABaAZ9tdEJ/ACOr6P00AEtP0XZbxApyCfwC\n",
       "5N1qvEOUDn9CsLq0uIak71FCl3XvnuJ4NuDAG6z1yGt+GpcKJKOjP11Gv+vy0Mt+na4F1x6hUkRx\n",
       "olJLyUDXkAQdAAAAUwGfb2pCfwAjQ5dJGVBQrM+nmWk1zdj9IPo2ifGwkEYEd7mRhoBlrnGZAhxJ\n",
       "9mb6wQAfqmxmyfjw8LCPLywpIDlisjs8TF/keSHhUNqmNa7IALuAAAABXEGbdEmoQWyZTAhv//6n\n",
       "hAAho4OAMoADgdYW8cuVNx+uFa2OVsD12CSoK0YrM+4SNK99NAg0IJ96F5AW8yTx3fz4sF2Ev7ZU\n",
       "yOGOo8IkcVeP1J62MvKgB7kDzlIGmUBrKBLFGRt28I8W9QcFznAILUzvq1Is/TWeRcuPPgadvKKE\n",
       "q03UWJCSSUHrXDCui6k+OLta2PBbtGRC6PWcuRhWlaqZPuTPg1gdE79sBQ58Ze9SazXLB9afAIKG\n",
       "rRhd8NM4KrJqqjsm+A1rWVTXRQkWnlKxW6jvz96f93IsUP1z9kt7Cqtt7wx2RV5Fg6tEHna0WmO0\n",
       "JDFygdUU2vK1EAUZzYCO58kMCkmnaOCeIF/d9J/OWJHqMynmRSpyuYB8dQZxxAjRetztA4+0TkMW\n",
       "qgpUmFPvhGffSU37j/IwuDqXdXK70548T6L3T5ahgpr+RVPcfySPj9L0wBY+wbOIjAAAAIlBn5JF\n",
       "FSwr/wAbmdWf1NXkQAkWnyJRcQ6xeNWg7yMYpj9p+6TQWf6anshpvRmorGApO6/v3aTnatLxWdy1\n",
       "mbba8u+CIEUZMJ9h3KLOy0yDjtIeJvhYNjKxHXHQ6+N7o4V01EMOyjEkPjc/caHrLtBNeNV8UZmG\n",
       "CVRVvMqj9DiCRufWati8uQADAwAAAHoBn7F0Qn8AI7U/rslQAftGQbRPobHAzXKEV+PsIPw94lwi\n",
       "mIS8/ZmsX0Vtj8LX3CipuEhUW1kdJTkItpSSfk4j9AoEKXwvB4s/2FsA87scsWW718S/CkEhSKkO\n",
       "Z+kgEw/tIc+wvBR1MGnGuv5bhCj7D1l7hmkQIABgQAAAAFsBn7NqQn8AI5fQRpB3gBALjGNRZBgk\n",
       "K2Em7djexwWJUx8Qwk2mE0XEeSctB1kplxkfDDok8HStGtovOQQXs03/Sdk2dSagKhI5uN52qLTB\n",
       "8RVZRR8lG2smwBDwAAABHEGbuEmoQWyZTAhv//6nhAAh0We/uPADfAV5ZyMdkoW67FC0KOAc8+45\n",
       "7VGWDoN5D2JxiqSFuwOZYVkuUsx79mxLeKZ0irSPH2fBtlDvJ9ZRntkll3For98hmHulPpaaauFt\n",
       "YyAeodxfURAagGfVx1/tIAXDv1tVqVxW/ZRyHlfMpF9L+B5UqOmJ7nC9njnpr2wgtX8yhAmpuq2d\n",
       "5Lsci0mfuzBDdsf50zkKbI9oXa2Dw9VrG76urGVisHLuLPGKT+qWu//RLhIe2f8nLYK4/VU3pKRC\n",
       "I8EzRibXhIJk/huhgAuQH5RgDgxOIBq7WPWc/GxeCn7zNauLtrxAmcHn9wrNVNsf6S7hhcv26HPu\n",
       "zsORCWhIfUEPr3nQkxxBAAAAq0Gf1kUVLCv/ABxWQ5sIKIWAEjtm/84nIYhbGXSTpokeSCnXOk2N\n",
       "RULh19XzGhueTqb4z0rNAEdk6BU2xJ1riIgV032zncmn4E+6gZnYmHa2fBEzDOpj1TxGvA3AOaDC\n",
       "1f63WrusNH0BQO4AFuzfVZALVnL9/o5lhl/mOkhR8IOKkckt2rbsFf3bWFysa/6rAPCoRYgQyafL\n",
       "BPfb+PGsU4eBN1eOSaDBfACygAAAAF0Bn/V0Qn8AI5yhWm0AEJnstY1nSF/U+utx6fbc5LXJWqx3\n",
       "xetldE5ixjxa7r7Q8KsIHtMTcgl+5RDGg2/yF3sY3vD3wYDAcxSqh3quvBrpNt9z9KLheI0lCGtA\n",
       "BgUAAABcAZ/3akJ/ACPTTgAawlbeuy9JdDwZf6qkX9TINIUQY2Rs92HKytR9tz9zxLAPooLALm+V\n",
       "S0MydzHhFPG3NCbrwiTwh9bL1KXrW04GhOksbcCZ5vfYktAkD2kADVkAAAEcQZv5SahBbJlMCG//\n",
       "/qeEACGzS7KSAIdoXdJPkuPJ9x62+k9BhTlQAg/F+X8KFoUFwR0K5y/FYtfTp1l4Dl6KlSgEgLEl\n",
       "7CDyEiRF4ytjnSYcAb6gNgyZbrlS1K9t2KQdgaVaLXUL752rzdwrc6Dbep6VCPUu1MVW/Mf3/YQv\n",
       "qs8dYuz1vErZl08nk4hp/ko0Uj76hzbCpVVSrifoqnm7AiGAe+oENfTxXc97rt/VnGDkrg0kIORt\n",
       "HsMuTGs9bzXsoFnsTJQSQ8Wki8tIz+kRintR6HTm4f+cUG3gpxwwom6+wXnU0oKIxz6syctWgzmg\n",
       "XVeN/jSgNqlhsWtyQqtX1VITCE/Sh4jFCa8ACv2dnctgUfQJM4uPJyG++nEAAAFuQZodSeEKUmUw\n",
       "Ib/+p4QAIaevVABvr4WjRUGGs41liQLOa8+K1anuS6dRLN1zQ2cBh03PyRkfFYcv46yjQTNg/BSv\n",
       "PvT13FXnms588FtgT51TvWfsVad6qXcvmg5qssDMpItFIki8pJexiH3ZSGfLioDjeedornNnP3Xf\n",
       "oiZzv+8DR5sQ+1155dT/BulocH02c39TQnca/PjJGfmAoFPxSP4enCdbmS+nZP1YETIGajfi9Kja\n",
       "kGxeD9gGUfJ4wv961A2pDzi0YEOQCzDzqAiZL7/v8Oaab9csmI2es/v7va6YrbTsJBe/fc6OwniN\n",
       "YNBDLT/WpIgNP2hBjD7h0VzEI/lQi1/NEcwlriXyb+grehKXKYTM7vfxlU7wZsAOlmuj+0eAi1W4\n",
       "A3GzaF3prcj7WOCTDPJROEfyxOf0GJqzxeEWTuBNxUlO0IO1SNpXVklV04NGHqlia9EIOmeH6n6K\n",
       "Shq592ITPRsHJ47iw+k1AAAAekGeO0U0TCv/ABxY1yJRp4AW8KxaWW5Oh+dizKjmN4vVLW7FdIBL\n",
       "qBbj/N3IDiKsITzvnQrRVwGQAWYcU8ipH1U2q3h1+IKE15zp+ZNKKax+CMMNSTPAVs/HOkNzQWYB\n",
       "gYmIl7hCyz0fBEtTM7bwC1bnuRNWmVESQAPSAAAAWQGeWnRCfwAjrUf3yszpzoH3JTSNUgqRzlgA\n",
       "AtY12OaQgQq3tUh8L6tJbAO2X9XDJXM02ewqKgsN6GrmQHYrmDDj70wXBzd/aHTUXh+A/hzUnCnW\n",
       "gmwwgAm5AAAAbAGeXGpCfwAju387Lrejqk2+RZjffOcQZgfwwADspHKApaMhf5utG0XNrFfBgEP7\n",
       "qRgYHb1gl6NZMRJZP9Jz5AHB9iFdEDcDnKm0wMmL2dxpa27GDJ4VlROpOMKvD5zEDXCwfpL0GWKb\n",
       "0gAxYQAAAPRBmkFJqEFomUwIb//+p4QAIt03sR7Rw1TAA33b+wPu04D1y9Hd2AyXFaxWBDLYrJBM\n",
       "6UkLxlUmh2mxpB3uq9Ol+IfptA+73rzHwLblkvNOAwxKbatUWpth6DmNB8AZUD6DfCfDb8p8sh5Y\n",
       "5erD3NmxFH1SOB53fTt2CAtz9wzriJHaO+Wm0aLgD9g1FLyYnF9KbJnBTmH1tlJ03YwabRtLtPIU\n",
       "/E9pfx1XVcE+JYcIDi46ibNsAdaH6n3pmr4VQ5pV6JodZuxSE4JpfimxrbrQ6OiiBK3L/lYeh1l+\n",
       "2yZFT9aVFV0UVPv9t60M5DnXIEdbWvjEAAAAdEGef0URLCv/ABwFG9syiAEiM8tIS/nHalInfR/l\n",
       "4pKH+vR7e68qGsmlLprUEPgvuKl1W5OzFo8DMopAEXXX5dvNcYMYgbRbJBvE39Cs+TvOjdJF1qon\n",
       "POWpI0GOYVv2rc8h4T8lW4jkgy8LdKJa94oxACbgAAAAYQGennRCfwALpFcV0Sh5GS1RfOknmPIr\n",
       "R0IDHXpx1gf04ABwJi/Tl8dZ6cBcjC14tyo1sxHlUbb7SdYPpm2Dbgt7QjOQfgtiwjVFWUIoHeIo\n",
       "7k22+JDRcOHYAVLbWQ2AA6cAAABiAZ6AakJ/ACPCfL3AB8dn731dsl1av1+X082HE9UJEDWHa+Bs\n",
       "aCdFl0TZg4Pd4VoRpiqC/6m/qSvT+pWXgv5G8TkIVBsKslFHeB2XsFDZAQyYwCV6jl5pzAbEDtxI\n",
       "Y/eQBbQAAADTQZqFSahBbJlMCG///qeEACHSxrZA4AgzhfVg85L0QfvGcHWore2RvAi3I04+0bxC\n",
       "+YxKM+FMlUSZ1c4/6s/XRarEtBIE9qo9Vlss72F0vjvZipQo9pKzGL36KarP/I9bp9vdW96Nb+nP\n",
       "dtaAg8I8fBtYR2ZSETnQVfpGIk2Woh66zhBY9a2XA3AkL/9lGE8ob1+FzKRx+FL99JYrvXKVtHNw\n",
       "98/kWj2T6an8NFzuDyKK8//6AAAOTQA4ltQpwr4Jb81rdjAZewtehSaKlMtL6lH6awAAAE1BnqNF\n",
       "FSwr/wAbpqrpgAzfeT+srCTF/6gL8jicIkJqFeqaJoF70/NIFBLc4v+XvDkWHuOsB6wGa8N0Q+LE\n",
       "6bnc+fHJztxx686oSYABWwAAADsBnsJ0Qn8AI7VAYQH7ptLbzBTN28Zn0ZG/4ORUgXUYrAZbTm8g\n",
       "EmUAJmTktO88B4ozEM4MysmXlgAVsQAAADIBnsRqQn8AI6ZseNEJTmscnKwnjxflXA+Jr+kCLeu+\n",
       "o6Rn1Lu+asN5pgAOwuby8AADjwAAAIdBmsZJqEFsmUwIb//+p4QAIbexosjrgCc+a4g+YPGNAmzI\n",
       "DKV6ELsBTXA0cx1wOceO/lva/Cqn3ftKT/EgnkYGNP6z3tOkyL3m0EEh4g6OjKeLapXe/j55qw0Q\n",
       "49NcWue06jipR2/BsIbi0/3Bw8wGAN8obdbAnklDfLGAkqFzDlX5Z/0AB3UAAAC5QZrqSeEKUmUw\n",
       "Ib/+p4QAIaQDfuAAqHhmy6izAan9HmXAynx4L6cnZ/e/X2O/xH/Vt78kF0ZtlK+l7UF1dAmmFNN+\n",
       "83mZ7m90j6qcHTR6An8ZOVDju97XbvFeoU1tcEUKUfotFKPjCyZ5XkNdbfCMQeUwtn4X35zfjq5P\n",
       "nymS0JrvyqPTJE1ZJ0Pd6e8DDt0/shhwreOE0KCmMTofhvLp03nPDmxiJ48t/4XCD6YZiYHZHzwn\n",
       "a1UgAtsAAABHQZ8IRTRMK/8AHFAQJ1mAw0U7+1tF4AM21kklC/PfVU8rhuwNk6bawvN3lN8jkq+R\n",
       "MmvBrhhB4DWv4dSS60C4Vvorq2gA+4AAAAAqAZ8ndEJ/ACO9yXj7ldEQS17ogESVwYAr/k8OrTCD\n",
       "s+NpaCn9abnEAJeAAAAAKAGfKWpCfwAivf+Q10tiNUqRyi3E8L6GjdJBoO9Ra7dZNljTs/wA5YEA\n",
       "AACtQZsuSahBaJlMCG///qeEACGkKDZAIGMQ/pBJJ1ivtuV7MWtnDPhK22UWN6r7evkzn7Lv8kcB\n",
       "7BTP8X1fZGYfAxo8qhuRmf2jmW5Xubjs3C1KxFK+1L++79G3SaMvK9Qzr1rzM8o4iXy1dDaBxlds\n",
       "GjyAu8pEBqR+TqfSqNjB0iSBnBJK3qUYHJIE747nE5PmQulMT9iVGEsYHSUEqGl5nb9hmVqLgy9c\n",
       "6NvAA6oAAABMQZ9MRREsK/8AG5ITb4ilLJ3QK8pM9EccUtfoKvxKAk7BDbpGqN/y9aRc4qtxEoAC\n",
       "YgZORY8qv26yxnW9AINx9rTQyNW2y9xhoSAK2AAAACMBn2t0Qn8ACzb9b5scU91T4IhCmH0wdsTl\n",
       "PvW5/OoRAAAf4QAAADABn21qQn8AI7Jl4ATKTfWOTwe/xgFB3TDEcnDIB5iC3NXD7cCvS8l4Vi9N\n",
       "mnSAKCEAAADUQZtySahBbJlMCG///qeEACGkXryAE1l2L+QdubKLrdzD6jjdBpngzPIYCVUFQTOq\n",
       "4xw6+rUFvZ4mXHFWS+uW5jxkLKosVORr7+HNrJxL5+DeNOJNCn1VGtMb9nUGP5F42DZjJaDES2Fm\n",
       "Mjx286Zv6i+Jl730nVPodJeQdz77cJeI/WDz/t32dw4qx9OXuMUf6m6ieDyNeadMbobDKzoW84c8\n",
       "opA8GETdOBxmfTat6scACXZTA2XYguBhkijxWEwnikCcouO3lPa7E8o6KX3BqMVQtYEAAAA0QZ+Q\n",
       "RRUsK/8AG6j7xifIhEcAsFeJtQK4ptf1058hnvtXwN4V2Q9sr6kMjNHzsC5PDAA/wAAAABoBn690\n",
       "Qn8AC1+zxyreDAq3VC7miinf4AB6QAAAABgBn7FqQn8AA3Ugy00Urfm6StbE0YQAwIEAAADMQZu2\n",
       "SahBbJlMCG///qeEACGpnQ5ADYge4m5sags9dvzuQm9TXBysbGMNq6WzhxBPYhQRDq1ByhRwHShA\n",
       "vbVMrgZsbtyiEucwpdJ/fjcwNQqGPKnc1EIAv/imIRkBtWZoLNj3TPwhK1r3T8+OUMMOrt5v5wd/\n",
       "uPVFmWHYQ/Z9d/mn+Babex9o/ajW5LNXN0TmDnmIcTJON5EoXKtOBlMIcnmR8yVeN7qQo+rC8xsz\n",
       "X876eD08jKozXgMsuKrsKT48IQvy46kv8vAqYAesAAAALEGf1EUVLCv/AAhqW/p1SYr5+4sMcLiO\n",
       "cj0UcJ9DoaAEmjRLGReQudluwBFwAAAAGQGf83RCfwABFa9e2vX22KzO3dxDsAgA3oEAAAARAZ/1\n",
       "akJ/AAtbMnxDdnJAA1IAAADDQZv6SahBbJlMCG///qeEACGl83ANLIyaXREPyItLtgmz+V9yWmsb\n",
       "pVVcCnTxJwlFapJxgdB3hn7icXuNayUb77Icvj65Og9akAwp6xr+kDdoKM4OMZtfT0GrFsScgAgT\n",
       "hfd98xb3qgw7g0saFY3QQ+nnuWl+naLPX1phrFFHhMHse3Fm5BZcw0rFeo58V2sVlBrL/fS02Stq\n",
       "P7Rg1ESa67AuOUg5P/AnP1KrnN22cQ0/FijSi9D0jis77m/Hgo0FgCLhAAAAHUGeGEUVLCv/ABui\n",
       "E58CEZigCAosA6+KJzh8APuBAAAAFAGeN3RCfwALWinmU5e91bNPEAMCAAAAEAGeOWpCfwAACSxS\n",
       "DxyABA0AAACdQZo+SahBbJlMCG///qeEACGl3lwDV2qKv69o4bZS007Is4W0p7P5D2y3xbtHzz0T\n",
       "PmEDlWG1PhAfuHb6K+Ybq3WVMPZMJ2eT6Q23/qggcoKZVo+9BIp/T2SwC4vZgRHJSa1iePz62FD7\n",
       "DT/VjpaxF0T++g6GoU4zU+qIC60fXf6NiYPv1OJtYKAf5ToJ7zP2ZtxGUwEZQZ1WbgBSQAAAABJB\n",
       "nlxFFSwr/wAIko2u8AAAHpEAAAAPAZ57dEJ/AAtaMU4AAAR9AAAAEQGefWpCfwALXb9CNchIAANS\n",
       "AAAAOUGaYkmoQWyZTAhv//6nhAABDvghIiJv1zACG74AwdlS0D2EPbFporiOL+AY1pkiiB9Unw4h\n",
       "xAAjYAAAABdBnoBFFSwr/wAIsGY6iiDDBfXwCkAC2wAAAA8Bnr90Qn8AC1oxTgAABHwAAAAQAZ6h\n",
       "akJ/AAtdvz4AAAMD0wAAAC1BmqZJqEFsmUwIb//+p4QAIKZC8QCbEL7EfIdiO+ovdmPSv0giDShq\n",
       "TTMAD0gAAAAUQZ7ERRUsK/8ACLBmOkIgJAAAj4EAAAAPAZ7jdEJ/AAEVainAAAXdAAAADwGe5WpC\n",
       "fwAAAwAAAwAZUQAAAC1BmupJqEFsmUwIb//+p4QAIaXzcAy406GHX1TPLO32/JHD6PqKfkcQSjqA\n",
       "AV8AAAASQZ8IRRUsK/8ACJKNrvAAAB6QAAAADwGfJ3RCfwAAWuLVeAAB6QAAABABnylqQn8ACzyR\n",
       "bvAAAB6RAAAAG0GbLkmoQWyZTAhv//6nhAAK17RZDQAAAwBdwAAAABFBn0xFFSwr/wAIrI42AAAF\n",
       "lAAAAA8Bn2t0Qn8AC1oxTgAABH0AAAAPAZ9takJ/AAADAAADABlRAAAAGEGbckmoQWyZTAhv//6n\n",
       "hAAAAwAAAwAYEQAAABFBn5BFFSwr/wAAAwAAAwATcAAAAA8Bn690Qn8AAAMAAAMAGVAAAAAPAZ+x\n",
       "akJ/AAADAAADABlRAAAAGEGbtkmoQWyZTAhv//6nhAAAAwAAAwAYEAAAABFBn9RFFSwr/wAAAwAA\n",
       "AwATcAAAAA8Bn/N0Qn8AAAMAAAMAGVEAAAAPAZ/1akJ/AAADAAADABlQAAAAGEGb+kmoQWyZTAhv\n",
       "//6nhAAAAwAAAwAYEQAAABFBnhhFFSwr/wAAAwAAAwATcQAAAA8Bnjd0Qn8AAAMAAAMAGVAAAAAP\n",
       "AZ45akJ/AAADAAADABlRAAAAGEGaPkmoQWyZTAhv//6nhAAAAwAAAwAYEAAAABFBnlxFFSwr/wAA\n",
       "AwAAAwATcQAAAA8Bnnt0Qn8AAAMAAAMAGVEAAAAPAZ59akJ/AAADAAADABlQAAAAf0GaYkmoQWyZ\n",
       "TAhv//6nhAAhpGgbIAn5mV8wXkU4bpCC9Fpwfo5RBJU32lPY3Bpel67W1hqQIbrZrgSk/iHzMKd6\n",
       "5ERBpOuWF4t8nwKfq37AsPlu1RhzRVhlRk9y9vYPalCAvww3PtLBMCNPSwWenJuHxl8iZDldYpTG\n",
       "RG4AF7AAAAAfQZ6ARRUsK/8AG6dDLt0l+Yez6XO5QXT7aP9wMAA+YQAAAA8Bnr90Qn8AAAMAAAMA\n",
       "GVAAAAAXAZ6hakJ/ACO7a0bBSRpA2A1fW2EABq0AAAApQZqmSahBbJlMCG///qeEACG4crGJs0Ka\n",
       "mB0VS8/rGxELjtPxm+WACggAAAAaQZ7ERRUsK/8AG6H/Clt+B5CDJIkuxqgQAwMAAAAXAZ7jdEJ/\n",
       "ACOtJ5Y0ZiivZh5Qk4QAGrEAAAAPAZ7lakJ/AAADAAADABlRAAAAGEGa6kmoQWyZTAhv//6nhAAA\n",
       "AwAAAwAYEQAAABJBnwhFFSwr/wAAAwCsntvwAZUAAAAPAZ8ndEJ/AAADAAADABlQAAAADwGfKWpC\n",
       "fwAAAwAAAwAZUQAAABhBmy5JqEFsmUwIb//+p4QAAAMAAAMAGBAAAAARQZ9MRRUsK/8AAAMAAAMA\n",
       "E3AAAAAPAZ9rdEJ/AAADAAADABlRAAAADwGfbWpCfwAAAwAAAwAZUQAAABhBm3JJqEFsmUwIb//+\n",
       "p4QAAAMAAAMAGBEAAAARQZ+QRRUsK/8AAAMAAAMAE3AAAAAPAZ+vdEJ/AAADAAADABlQAAAADwGf\n",
       "sWpCfwAAAwAAAwAZUQAAAGVBm7ZJqEFsmUwIb//+p4QAIaRoGyAJ+ZlfMF5FOG6QgvRacH6OUQSV\n",
       "2l4Kex1Xbzww6i2GKo/c7dumkrtX0kko+iTeuRYj/hRKBKP7vGo1wODfYxMlC9HHvQ2Hf2D+lCnI\n",
       "M4ABxwAAABpBn9RFFSwr/wAbp0Mu/AsHWoRRvGPkoABdwAAAAA8Bn/N0Qn8AAAMAAAMAGVEAAAAX\n",
       "AZ/1akJ/ACO7a0bBSRpA2A1fW2EABqwAAAAjQZv6SahBbJlMCG///qeEACGqB5+xIsuft9mLWd6N\n",
       "XSAAXcEAAAAYQZ4YRRUsK/8AG6H/Clt+B5CDJIkjwAFBAAAAFwGeN3RCfwAjrSeWNGYor2YeUJOE\n",
       "ABqwAAAADwGeOWpCfwAAAwAAAwAZUQAAABhBmj5JqEFsmUwIb//+p4QAAAMAAAMAGBAAAAARQZ5c\n",
       "RRUsK/8AAAMAAAMAE3EAAAAPAZ57dEJ/AAADAAADABlRAAAADwGefWpCfwAAAwAAAwAZUAAAABhB\n",
       "mmJJqEFsmUwIb//+p4QAAAMAAAMAGBAAAAARQZ6ARRUsK/8AAAMAAAMAE3EAAAAPAZ6/dEJ/AAAD\n",
       "AAADABlQAAAADwGeoWpCfwAAAwAAAwAZUQAAABhBmqZJqEFsmUwIb//+p4QAAAMAAAMAGBAAAAAR\n",
       "QZ7ERRUsK/8AAAMAAAMAE3EAAAAPAZ7jdEJ/AAADAAADABlRAAAADwGe5WpCfwAAAwAAAwAZUQAA\n",
       "ABhBmupJqEFsmUwIb//+p4QAAAMAAAMAGBEAAAARQZ8IRRUsK/8AAAMAAAMAE3AAAAAPAZ8ndEJ/\n",
       "AAADAAADABlQAAAADwGfKWpCfwAAAwAAAwAZUQAAABhBmy5JqEFsmUwIb//+p4QAAAMAAAMAGBAA\n",
       "AAARQZ9MRRUsK/8AAAMAAAMAE3AAAAAPAZ9rdEJ/AAADAAADABlRAAAADwGfbWpCfwAAAwAAAwAZ\n",
       "UQAAABhBm3JJqEFsmUwIZ//+nhAAAAMAAAMAXcEAAAARQZ+QRRUsK/8AAAMAAAMAE3AAAAAPAZ+v\n",
       "dEJ/AAADAAADABlQAAAADwGfsWpCfwAAAwAAAwAZUQAAABdBm7ZJqEFsmUwIT//98QAAAwAAAwAD\n",
       "egAAABFBn9RFFSwr/wAAAwAAAwATcAAAAA8Bn/N0Qn8AAAMAAAMAGVEAAAAPAZ/1akJ/AAADAAAD\n",
       "ABlQAAAKKW1vb3YAAABsbXZoZAAAAAAAAAAAAAAAAAAAA+gAABOqAAEAAAEAAAAAAAAAAAAAAAAB\n",
       "AAAAAAAAAAAAAAAAAAAAAQAAAAAAAAAAAAAAAAAAQAAAAAAAAAAAAAAAAAAAAAAAAAAAAAAAAAAA\n",
       "AAAAAAIAAAlTdHJhawAAAFx0a2hkAAAAAwAAAAAAAAAAAAAAAQAAAAAAABOqAAAAAAAAAAAAAAAA\n",
       "AAAAAAABAAAAAAAAAAAAAAAAAAAAAQAAAAAAAAAAAAAAAAAAQAAAAALQAAABaAAAAAAAJGVkdHMA\n",
       "AAAcZWxzdAAAAAAAAAABAAATqgABBGoAAQAAAAAIy21kaWEAAAAgbWRoZAAAAAAAAAAAAAAAAAAP\n",
       "QkAATM1DVcQAAAAAAC1oZGxyAAAAAAAAAAB2aWRlAAAAAAAAAAAAAAAAVmlkZW9IYW5kbGVyAAAA\n",
       "CHZtaW5mAAAAFHZtaGQAAAABAAAAAAAAAAAAAAAkZGluZgAAABxkcmVmAAAAAAAAAAEAAAAMdXJs\n",
       "IAAAAAEAAAg2c3RibAAAALJzdHNkAAAAAAAAAAEAAACiYXZjMQAAAAAAAAABAAAAAAAAAAAAAAAA\n",
       "AAAAAALQAWgASAAAAEgAAAAAAAAAAQAAAAAAAAAAAAAAAAAAAAAAAAAAAAAAAAAAAAAAAAAAABj/\n",
       "/wAAADBhdmNDAWQAHv/hABdnZAAerNlAtC/5YQAAgjUAHoSADxYtlgEABmjr48siwAAAABx1dWlk\n",
       "a2hA8l8kT8W6OaUbzwMj8wAAAAAAAAAYc3R0cwAAAAAAAAABAAAAlwAAgjUAAAAUc3RzcwAAAAAA\n",
       "AAABAAAAAQAABLBjdHRzAAAAAAAAAJQAAAABAAEEagAAAAEAAgjUAAAAAgAAgjUAAAABAAGGnwAA\n",
       "AAEAAII1AAAAAwABBGoAAAABAAKLCQAAAAEAAQRqAAAAAQAAAAAAAAABAACCNQAAAAEAAosJAAAA\n",
       "AQABBGoAAAABAAAAAAAAAAEAAII1AAAAAQACiwkAAAABAAEEagAAAAEAAAAAAAAAAQAAgjUAAAAB\n",
       "AAKLCQAAAAEAAQRqAAAAAQAAAAAAAAABAACCNQAAAAEAAQRqAAAAAQACiwkAAAABAAEEagAAAAEA\n",
       "AAAAAAAAAQAAgjUAAAABAAKLCQAAAAEAAQRqAAAAAQAAAAAAAAABAACCNQAAAAEAAosJAAAAAQAB\n",
       "BGoAAAABAAAAAAAAAAEAAII1AAAAAQABBGoAAAABAAKLCQAAAAEAAQRqAAAAAQAAAAAAAAABAACC\n",
       "NQAAAAEAAosJAAAAAQABBGoAAAABAAAAAAAAAAEAAII1AAAAAQACiwkAAAABAAEEagAAAAEAAAAA\n",
       "AAAAAQAAgjUAAAABAAKLCQAAAAEAAQRqAAAAAQAAAAAAAAABAACCNQAAAAEAAosJAAAAAQABBGoA\n",
       "AAABAAAAAAAAAAEAAII1AAAAAQACiwkAAAABAAEEagAAAAEAAAAAAAAAAQAAgjUAAAABAAKLCQAA\n",
       "AAEAAQRqAAAAAQAAAAAAAAABAACCNQAAAAEAAosJAAAAAQABBGoAAAABAAAAAAAAAAEAAII1AAAA\n",
       "AQACiwkAAAABAAEEagAAAAEAAAAAAAAAAQAAgjUAAAABAAKLCQAAAAEAAQRqAAAAAQAAAAAAAAAB\n",
       "AACCNQAAAAEAAosJAAAAAQABBGoAAAABAAAAAAAAAAEAAII1AAAAAQACiwkAAAABAAEEagAAAAEA\n",
       "AAAAAAAAAQAAgjUAAAABAAKLCQAAAAEAAQRqAAAAAQAAAAAAAAABAACCNQAAAAEAAosJAAAAAQAB\n",
       "BGoAAAABAAAAAAAAAAEAAII1AAAAAQACiwkAAAABAAEEagAAAAEAAAAAAAAAAQAAgjUAAAABAAKL\n",
       "CQAAAAEAAQRqAAAAAQAAAAAAAAABAACCNQAAAAEAAosJAAAAAQABBGoAAAABAAAAAAAAAAEAAII1\n",
       "AAAAAQACiwkAAAABAAEEagAAAAEAAAAAAAAAAQAAgjUAAAABAAKLCQAAAAEAAQRqAAAAAQAAAAAA\n",
       "AAABAACCNQAAAAEAAosJAAAAAQABBGoAAAABAAAAAAAAAAEAAII1AAAAAQACiwkAAAABAAEEagAA\n",
       "AAEAAAAAAAAAAQAAgjUAAAABAAKLCQAAAAEAAQRqAAAAAQAAAAAAAAABAACCNQAAAAEAAosJAAAA\n",
       "AQABBGoAAAABAAAAAAAAAAEAAII1AAAAAQACiwkAAAABAAEEagAAAAEAAAAAAAAAAQAAgjUAAAAB\n",
       "AAKLCQAAAAEAAQRqAAAAAQAAAAAAAAABAACCNQAAAAEAAosJAAAAAQABBGoAAAABAAAAAAAAAAEA\n",
       "AII1AAAAAQACiwkAAAABAAEEagAAAAEAAAAAAAAAAQAAgjUAAAABAAKLCQAAAAEAAQRqAAAAAQAA\n",
       "AAAAAAABAACCNQAAABxzdHNjAAAAAAAAAAEAAAABAAAAlwAAAAEAAAJwc3RzegAAAAAAAAAAAAAA\n",
       "lwAABZEAAAD2AAAAfwAAADwAAAF7AAAAawAAAYcAAAGlAAABWQAAAQoAAABbAAAAVQAAAEMAAAE5\n",
       "AAAAbAAAAF4AAABXAAABYAAAAI0AAAB+AAAAXwAAASAAAACvAAAAYQAAAGAAAAEgAAABcgAAAH4A\n",
       "AABdAAAAcAAAAPgAAAB4AAAAZQAAAGYAAADXAAAAUQAAAD8AAAA2AAAAiwAAAL0AAABLAAAALgAA\n",
       "ACwAAACxAAAAUAAAACcAAAA0AAAA2AAAADgAAAAeAAAAHAAAANAAAAAwAAAAHQAAABUAAADHAAAA\n",
       "IQAAABgAAAAUAAAAoQAAABYAAAATAAAAFQAAAD0AAAAbAAAAEwAAABQAAAAxAAAAGAAAABMAAAAT\n",
       "AAAAMQAAABYAAAATAAAAFAAAAB8AAAAVAAAAEwAAABMAAAAcAAAAFQAAABMAAAATAAAAHAAAABUA\n",
       "AAATAAAAEwAAABwAAAAVAAAAEwAAABMAAAAcAAAAFQAAABMAAAATAAAAgwAAACMAAAATAAAAGwAA\n",
       "AC0AAAAeAAAAGwAAABMAAAAcAAAAFgAAABMAAAATAAAAHAAAABUAAAATAAAAEwAAABwAAAAVAAAA\n",
       "EwAAABMAAABpAAAAHgAAABMAAAAbAAAAJwAAABwAAAAbAAAAEwAAABwAAAAVAAAAEwAAABMAAAAc\n",
       "AAAAFQAAABMAAAATAAAAHAAAABUAAAATAAAAEwAAABwAAAAVAAAAEwAAABMAAAAcAAAAFQAAABMA\n",
       "AAATAAAAHAAAABUAAAATAAAAEwAAABsAAAAVAAAAEwAAABMAAAAUc3RjbwAAAAAAAAABAAAALAAA\n",
       "AGJ1ZHRhAAAAWm1ldGEAAAAAAAAAIWhkbHIAAAAAAAAAAG1kaXJhcHBsAAAAAAAAAAAAAAAALWls\n",
       "c3QAAAAlqXRvbwAAAB1kYXRhAAAAAQAAAABMYXZmNTguMTIuMTAw\n",
       "\">\n",
       "  Your browser does not support the video tag.\n",
       "</video>"
      ],
      "text/plain": [
       "<IPython.core.display.HTML object>"
      ]
     },
     "execution_count": 20,
     "metadata": {},
     "output_type": "execute_result"
    }
   ],
   "source": [
    "# visualizer\n",
    "viz = PlanarRigidBodyVisualizer(tree, xlim=[-1, 1], ylim=[-2.5, 3.])\n",
    "viz.fig.set_size_inches(10, 5)\n",
    "ani = viz.animate(state_log, 30, repeat=True)\n",
    "plt.close(viz.fig)\n",
    "HTML(ani.to_html5_video())"
   ]
  },
  {
   "cell_type": "code",
   "execution_count": 19,
   "metadata": {},
   "outputs": [
    {
     "data": {
      "text/plain": [
       "'\\nISSUES:\\n    - the ZOH block introduces a delay at the first time step;\\n'"
      ]
     },
     "execution_count": 19,
     "metadata": {},
     "output_type": "execute_result"
    }
   ],
   "source": [
    "'''\n",
    "ISSUES:\n",
    "    - the ZOH block introduces a delay at the first time step;\n",
    "'''"
   ]
  }
 ],
 "metadata": {
  "kernelspec": {
   "display_name": "Python 2",
   "language": "python",
   "name": "python2"
  },
  "language_info": {
   "codemirror_mode": {
    "name": "ipython",
    "version": 2
   },
   "file_extension": ".py",
   "mimetype": "text/x-python",
   "name": "python",
   "nbconvert_exporter": "python",
   "pygments_lexer": "ipython2",
   "version": "2.7.15"
  }
 },
 "nbformat": 4,
 "nbformat_minor": 2
}
