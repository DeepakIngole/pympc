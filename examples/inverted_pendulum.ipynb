{
 "cells": [
  {
   "cell_type": "markdown",
   "metadata": {},
   "source": [
    "# Linear Inverted Pendulum, MPC Demo"
   ]
  },
  {
   "cell_type": "markdown",
   "metadata": {},
   "source": [
    "This is a demo for the Model Predictive Control (MPC) package $\\texttt{mpc_tools}$."
   ]
  },
  {
   "cell_type": "code",
   "execution_count": 1,
   "metadata": {},
   "outputs": [],
   "source": [
    "# notebook settings\n",
    "%load_ext autoreload\n",
    "%autoreload 2\n",
    "\n",
    "# external imports\n",
    "import numpy as np\n",
    "import matplotlib.pyplot as plt\n",
    "\n",
    "# internal imports\n",
    "from pympc.geometry.polyhedron import Polyhedron\n",
    "from pympc.dynamics.discrete_time_systems import LinearSystem\n",
    "from pympc.control.control import ModelPredictiveController\n",
    "from pympc.plot import input_sequence, state_trajectory"
   ]
  },
  {
   "cell_type": "markdown",
   "metadata": {},
   "source": [
    "We stabilize a linear inverted pendulum with mass $m$ and length $l$, subject to the gravity acceleration $g$."
   ]
  },
  {
   "cell_type": "code",
   "execution_count": 2,
   "metadata": {},
   "outputs": [],
   "source": [
    "m = 1.\n",
    "l = 1.\n",
    "g = 10."
   ]
  },
  {
   "cell_type": "markdown",
   "metadata": {},
   "source": [
    "The linearized continuous-time dynamics is \n",
    "\\begin{equation}\n",
    "\\dot x = A x + B u =\n",
    "\\begin{bmatrix}\n",
    "0 & 1 \\\\ g/l & 0\n",
    "\\end{bmatrix}\n",
    "x +\n",
    "\\begin{bmatrix}\n",
    "0 \\\\ 1/(ml^2)\n",
    "\\end{bmatrix}\n",
    "u.\n",
    "\\end{equation}\n",
    "The discrete-time linear system can be defined from its continuous-time representation setting a sampling time $t_s$ (the exact zero-order-hold discretization is used)."
   ]
  },
  {
   "cell_type": "code",
   "execution_count": 3,
   "metadata": {},
   "outputs": [],
   "source": [
    "A = np.array([\n",
    "    [ 0., 1.],\n",
    "    [g/l, 0.]\n",
    "    ])\n",
    "B = np.array([\n",
    "    [          0.],\n",
    "    [1./(m*l**2.)]\n",
    "    ])\n",
    "h = .1\n",
    "method = 'zero_order_hold'\n",
    "S = LinearSystem.from_continuous(A, B, h, method)"
   ]
  },
  {
   "cell_type": "markdown",
   "metadata": {},
   "source": [
    "At each each step, the following optimal control is solved\n",
    "\\begin{align}\n",
    "\\min \\quad &\n",
    "\\sum_{k=0}^{N-1} (x_k^T Q x_k + u_k^T R u_k) + x_N^T P x_N \\\\\n",
    "\\text{subject to} \\quad & x_{k+1} = A x_k + B u_k, \\quad k = 0,1,\\ldots,N-1, \\\\\n",
    "& u_k \\in \\mathcal U, \\quad k = 0,1,\\ldots,N-1, \\\\\n",
    "& x_k \\in \\mathcal X, \\quad k = 1,2,\\ldots,N-1, \\\\\n",
    "& x_N \\in \\mathcal X_N, \\\\\n",
    "& x_0 \\ \\text{given}, \\\\\n",
    "\\end{align}\n",
    "and the input $u_0$ is applied to the system."
   ]
  },
  {
   "cell_type": "code",
   "execution_count": 4,
   "metadata": {},
   "outputs": [],
   "source": [
    "N = 6\n",
    "Q = np.array([[1., 0.],[0., 1.]])\n",
    "R = np.array([[1.]])"
   ]
  },
  {
   "cell_type": "markdown",
   "metadata": {},
   "source": [
    "For stability reasons we set the terminal cost to be equal to the cost-to-go of the infinite-horizon LQR controller. To do that wesolve the Discrete Algebraic Ricccati Equation (DARE)\n",
    "\\begin{equation}\n",
    "P = (A+BK)^T P (A+BK) + Q + K^T R K\n",
    "\\end{equation}\n",
    "where $K = -(B^T P B + R)^{-1} B^T P A$ is the optimal feedback $u_k = K x_k$."
   ]
  },
  {
   "cell_type": "code",
   "execution_count": 5,
   "metadata": {},
   "outputs": [],
   "source": [
    "P, K = S.solve_dare(Q, R)"
   ]
  },
  {
   "cell_type": "markdown",
   "metadata": {},
   "source": [
    "The admissible sets $\\mathcal U$ and $\\mathcal X$ have to be polytopes. These can be generated from a set of linear inequalities (e.g., $C u_k \\leq c$) or from bounds (e.g., $u_{max} \\geq u_k \\geq u_{min}$)."
   ]
  },
  {
   "cell_type": "code",
   "execution_count": 6,
   "metadata": {},
   "outputs": [],
   "source": [
    "u_max = np.array([[10.]])\n",
    "u_min = -u_max\n",
    "U = Polyhedron.from_bounds(u_min, u_max)\n",
    "x_max = np.array([[.5], [.5]])\n",
    "x_min = -x_max\n",
    "X = Polyhedron.from_bounds(x_min, x_max)\n",
    "D = X.cartesian_product_with(U)"
   ]
  },
  {
   "cell_type": "markdown",
   "metadata": {},
   "source": [
    "The terminal constraint $x_N \\in \\mathcal X_N$ is generally used to ensure closed-loop stability and, like $\\mathcal U$ and $\\mathcal X$, it has to be a polytope; here we decide to guarantee stability throught the use of the Maximum Output Admissible Set (MOAS).\n",
    "\n",
    "Defining the closed-loop state-transition matrix $ \\bar A = A + BK$, constraining $x_N$ to be in the MOAS we ensure that $ x_{k+1} = \\bar A x_k \\in \\mathcal{X}$ and $u_k = K x_k \\in \\mathcal{U}, \\forall k \\geq N$. This, together with the use of the DARE solution as terminal cost, is sufficient condition for the stability of the closed loop system."
   ]
  },
  {
   "cell_type": "code",
   "execution_count": 7,
   "metadata": {},
   "outputs": [],
   "source": [
    "X_N = S.mcais(K, D)[0]"
   ]
  },
  {
   "cell_type": "markdown",
   "metadata": {},
   "source": [
    "Now we have all the ingredients to build the MPC controller."
   ]
  },
  {
   "cell_type": "code",
   "execution_count": 8,
   "metadata": {},
   "outputs": [],
   "source": [
    "controller = ModelPredictiveController(S, N, Q, R, P, D, X_N)"
   ]
  },
  {
   "cell_type": "markdown",
   "metadata": {},
   "source": [
    "We then simulate the closed loop system for $N_{sim}$ steps starting from the initial condition $x_0$."
   ]
  },
  {
   "cell_type": "code",
   "execution_count": 31,
   "metadata": {},
   "outputs": [],
   "source": [
    "N_sim = 50\n",
    "x0 = np.array([[.45],[.45]])\n",
    "u = []\n",
    "x = []\n",
    "x.append(x0)\n",
    "for t in range(N_sim):\n",
    "    u.append(controller.feedback(x[t]))\n",
    "    x.append(S.A.dot(x[t]) + S.B.dot(u[t]))"
   ]
  },
  {
   "cell_type": "markdown",
   "metadata": {},
   "source": [
    "We can plot the solution using the functions $\\texttt{plot_input_sequence(.)}$ and $\\texttt{plot_state_trajectory(.)}$"
   ]
  },
  {
   "cell_type": "code",
   "execution_count": 32,
   "metadata": {
    "scrolled": false
   },
   "outputs": [
    {
     "data": {
      "image/png": "[encoded data removed]",
      "text/plain": [
       "<matplotlib.figure.Figure at 0x7fdbac08d890>"
      ]
     },
     "metadata": {},
     "output_type": "display_data"
    },
    {
     "data": {
      "image/png": "[encoded data removed]",
      "text/plain": [
       "<matplotlib.figure.Figure at 0x7fdbac08dd90>"
      ]
     },
     "metadata": {},
     "output_type": "display_data"
    }
   ],
   "source": [
    "input_sequence(u, h, (u_min, u_max))\n",
    "plt.show()\n",
    "state_trajectory(x, h, (x_min, x_max))\n",
    "plt.show()"
   ]
  },
  {
   "cell_type": "markdown",
   "metadata": {},
   "source": [
    "We can get the explict solution of the optimal control problem, solving the resulting Multi-Parametric Quadratic Program (mpQP)."
   ]
  },
  {
   "cell_type": "code",
   "execution_count": 36,
   "metadata": {},
   "outputs": [
    {
     "name": "stdout",
     "output_type": "stream",
     "text": [
      "[]\n",
      "[7]\n",
      "[9]\n",
      "[13]\n",
      "[15]\n",
      "[19]\n",
      "[21]\n",
      "[25]\n",
      "[27]\n",
      "[7, 13]\n",
      "[9, 15]\n",
      "[13, 19]\n",
      "[15, 21]\n",
      "[19, 25]\n",
      "[21, 27]\n",
      "[4, 25]\n",
      "[5, 27]\n",
      "[7, 13, 19]\n",
      "[9, 15, 21]\n",
      "[13, 19, 25]\n",
      "[15, 21, 27]\n",
      "[4, 19, 25]\n",
      "[19, 25, 31]\n",
      "[5, 21, 27]\n",
      "[21, 27, 33]\n",
      "[4, 25, 31]\n",
      "[5, 27, 33]\n",
      "[7, 13, 19, 25]\n",
      "[9, 15, 21, 27]\n",
      "[4, 19, 25, 31]\n",
      "[8, 19, 25, 31]\n",
      "[5, 21, 27, 33]\n",
      "[6, 21, 27, 33]\n"
     ]
    }
   ],
   "source": [
    "controller.store_explicit_solution()"
   ]
  },
  {
   "cell_type": "code",
   "execution_count": 37,
   "metadata": {},
   "outputs": [
    {
     "data": {
      "image/png": "[encoded data removed]",
      "text/plain": [
       "<matplotlib.figure.Figure at 0x7fdbaa049790>"
      ]
     },
     "metadata": {},
     "output_type": "display_data"
    }
   ],
   "source": [
    "for cr in controller.explicit_solution.critical_regions:\n",
    "    cr.polytope.plot()\n",
    "plt.show()"
   ]
  },
  {
   "cell_type": "code",
   "execution_count": null,
   "metadata": {},
   "outputs": [],
   "source": [
    "np.linalg.norm(controller.mpqp.fx)"
   ]
  },
  {
   "cell_type": "markdown",
   "metadata": {},
   "source": [
    "We then check that the explicit solution and solution of the optimization give the same answer."
   ]
  },
  {
   "cell_type": "code",
   "execution_count": null,
   "metadata": {},
   "outputs": [],
   "source": [
    "u_explicit, V_explicit = controller.feedforward_explicit(x_0)\n",
    "u_implicit, V_implicit = controller.feedforward(x_0)\n",
    "print('Explicit solution:\\nu* = ' + str([u.flatten().tolist() for u in u_explicit]) + ',\\nV* = ' + str(V_explicit))\n",
    "print('Implicit solution:\\nu* = ' + str([u.flatten().tolist() for u in u_implicit]) + ',\\nV* = ' + str(V_implicit))"
   ]
  },
  {
   "cell_type": "markdown",
   "metadata": {},
   "source": [
    "We can plot the consequent state partion, the optimal control law, and the optimal value function."
   ]
  },
  {
   "cell_type": "code",
   "execution_count": null,
   "metadata": {},
   "outputs": [],
   "source": [
    "mpc_plt.state_partition(controller.critical_regions)\n",
    "#plt.savefig('small_sampling_time.pdf')\n",
    "plt.show()"
   ]
  },
  {
   "cell_type": "markdown",
   "metadata": {},
   "source": [
    "The Critical Regions with the same initial input can be merged as follows."
   ]
  },
  {
   "cell_type": "code",
   "execution_count": null,
   "metadata": {
    "scrolled": false
   },
   "outputs": [],
   "source": [
    "mpc_plt.grouped_state_partition(controller.critical_regions)\n",
    "plt.show()"
   ]
  },
  {
   "cell_type": "markdown",
   "metadata": {},
   "source": [
    "We can also plot the feasible set of the mpQP, the optimal value function, and the state-space trajectory of the simulated trajectory."
   ]
  },
  {
   "cell_type": "code",
   "execution_count": null,
   "metadata": {},
   "outputs": [],
   "source": [
    "controller.condensed_program.feasible_set.plot(facecolor='white', edgecolor='black')\n",
    "mpc_plt.state_space_trajectory(x, color='red')\n",
    "mpc_plt.optimal_value_function(controller.critical_regions)\n",
    "plt.show()"
   ]
  }
 ],
 "metadata": {
  "celltoolbar": "Raw Cell Format",
  "kernelspec": {
   "display_name": "Python 2",
   "language": "python",
   "name": "python2"
  },
  "language_info": {
   "codemirror_mode": {
    "name": "ipython",
    "version": 2
   },
   "file_extension": ".py",
   "mimetype": "text/x-python",
   "name": "python",
   "nbconvert_exporter": "python",
   "pygments_lexer": "ipython2",
   "version": "2.7.12"
  }
 },
 "nbformat": 4,
 "nbformat_minor": 2
}
