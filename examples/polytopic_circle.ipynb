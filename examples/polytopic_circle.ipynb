{
 "cells": [
  {
   "cell_type": "code",
   "execution_count": 1,
   "metadata": {},
   "outputs": [
    {
     "ename": "ImportError",
     "evalue": "No module named controllers_drake_2",
     "output_type": "error",
     "traceback": [
      "\u001b[0;31m---------------------------------------------------------------------------\u001b[0m",
      "\u001b[0;31mImportError\u001b[0m                               Traceback (most recent call last)",
      "\u001b[0;32m<ipython-input-1-cd37e9d54bc3>\u001b[0m in \u001b[0;36m<module>\u001b[0;34m()\u001b[0m\n\u001b[1;32m     11\u001b[0m \u001b[0;32mfrom\u001b[0m \u001b[0mpympc\u001b[0m\u001b[0;34m.\u001b[0m\u001b[0mgeometry\u001b[0m\u001b[0;34m.\u001b[0m\u001b[0mpolyhedron\u001b[0m \u001b[0;32mimport\u001b[0m \u001b[0mPolyhedron\u001b[0m\u001b[0;34m\u001b[0m\u001b[0m\n\u001b[1;32m     12\u001b[0m \u001b[0;32mfrom\u001b[0m \u001b[0mpympc\u001b[0m\u001b[0;34m.\u001b[0m\u001b[0mdynamics\u001b[0m\u001b[0;34m.\u001b[0m\u001b[0mdiscrete_time_systems\u001b[0m \u001b[0;32mimport\u001b[0m \u001b[0mLinearSystem\u001b[0m\u001b[0;34m,\u001b[0m \u001b[0mAffineSystem\u001b[0m\u001b[0;34m,\u001b[0m \u001b[0mPieceWiseAffineSystem\u001b[0m\u001b[0;34m\u001b[0m\u001b[0m\n\u001b[0;32m---> 13\u001b[0;31m \u001b[0;32mfrom\u001b[0m \u001b[0mpympc\u001b[0m\u001b[0;34m.\u001b[0m\u001b[0mcontrol\u001b[0m\u001b[0;34m.\u001b[0m\u001b[0mcontrollers_drake_2\u001b[0m \u001b[0;32mimport\u001b[0m \u001b[0mHybridModelPredictiveController\u001b[0m\u001b[0;34m\u001b[0m\u001b[0m\n\u001b[0m",
      "\u001b[0;31mImportError\u001b[0m: No module named controllers_drake_2"
     ]
    }
   ],
   "source": [
    "# notebook settings\n",
    "%load_ext autoreload\n",
    "%autoreload 2\n",
    "\n",
    "# external imports\n",
    "import numpy as np\n",
    "import matplotlib.pyplot as plt\n",
    "from copy import copy\n",
    "\n",
    "# internal imports\n",
    "from pympc.geometry.polyhedron import Polyhedron\n",
    "from pympc.dynamics.discrete_time_systems import LinearSystem, AffineSystem, PieceWiseAffineSystem\n",
    "from pympc.control.controllers_drake_2 import HybridModelPredictiveController"
   ]
  },
  {
   "cell_type": "code",
   "execution_count": null,
   "metadata": {
    "collapsed": true
   },
   "outputs": [],
   "source": [
    "def get_2d_regular_polygon(n_factes):\n",
    "    A = np.zeros((0, 2))\n",
    "    b = np.zeros((0, 1))\n",
    "    obj = Polyhedron(A, b)\n",
    "    for i in range(n_facets):\n",
    "        Ai = - np.array([[np.cos(2*i*np.pi/n_facets), np.sin(2*i*np.pi/n_facets)]])\n",
    "        bi = np.ones((1, 1))\n",
    "        obj.add_inequality(Ai, bi)\n",
    "    return obj"
   ]
  },
  {
   "cell_type": "code",
   "execution_count": null,
   "metadata": {
    "collapsed": true
   },
   "outputs": [],
   "source": [
    "n_facets = 8\n",
    "assert n_facets % 2 == 0\n",
    "obj = get_2d_regular_polygon(n_factes)\n",
    "obj.plot()\n",
    "control_surfaces = [0, n_facets/2]"
   ]
  },
  {
   "cell_type": "code",
   "execution_count": null,
   "metadata": {
    "collapsed": true
   },
   "outputs": [],
   "source": [
    "x_max = 2.*np.ones((2,1))\n",
    "x_min = - x_max\n",
    "bounding_box = Polyhedron.from_bounds(x_min, x_max)\n",
    "finger_free_spaces = []\n",
    "finger_contact_spaces = []\n",
    "for i in range(n_facets):\n",
    "    facet = copy(obj)\n",
    "    facet.add_equality(obj.A[i:i+1,:], obj.b[i,:])\n",
    "    free_space = copy(bounding_box)\n",
    "    free_space.add_inequality(-obj.A[i:i+1,:], -obj.b[i,:])\n",
    "    contact_space = Polyhedron(obj.A[i:i+1,:], obj.b[i,:])\n",
    "    for v in facet.vertices:\n",
    "        if np.array([[v[1,0], -v[0,0]]]).dot(facet.center) < 0:\n",
    "            free_space.add_inequality(np.array([[v[1,0], -v[0,0]]]), np.zeros((1,1)))\n",
    "            contact_space.add_inequality(np.array([[v[1,0], -v[0,0]]]), np.zeros((1,1)))\n",
    "        else:\n",
    "            free_space.add_inequality(np.array([[-v[1,0], v[0,0]]]), np.zeros((1,1)))\n",
    "            contact_space.add_inequality(np.array([[-v[1,0], v[0,0]]]), np.zeros((1,1)))\n",
    "    finger_free_spaces.append(free_space)\n",
    "    finger_contact_spaces.append(contact_space)"
   ]
  },
  {
   "cell_type": "code",
   "execution_count": null,
   "metadata": {
    "collapsed": true
   },
   "outputs": [],
   "source": [
    "import gurobipy as grb\n",
    "prog = grb.Model()"
   ]
  },
  {
   "cell_type": "code",
   "execution_count": null,
   "metadata": {},
   "outputs": [],
   "source": [
    "x = prog.addVars(2, lb=[-1.,-1.], name='x')\n",
    "prog.update()\n",
    "print x"
   ]
  },
  {
   "cell_type": "code",
   "execution_count": null,
   "metadata": {},
   "outputs": [],
   "source": [
    "prog.setObjective(x[0]*x[0]+x[1]*x[1])\n",
    "prog.addConstr(x[0] >= 1.)"
   ]
  },
  {
   "cell_type": "code",
   "execution_count": null,
   "metadata": {},
   "outputs": [],
   "source": [
    "prog.setParam('Method', 0)\n",
    "prog.optimize()"
   ]
  },
  {
   "cell_type": "code",
   "execution_count": null,
   "metadata": {},
   "outputs": [],
   "source": [
    "x[0].VBasis = 0\n",
    "x[1].VBasis = -1\n",
    "prog.getConstrs()[0].CBasis = 0\n",
    "prog.update()\n",
    "print x[0].VBasis"
   ]
  },
  {
   "cell_type": "code",
   "execution_count": null,
   "metadata": {},
   "outputs": [],
   "source": [
    "prog.getConstrs()[0].CBasis"
   ]
  },
  {
   "cell_type": "code",
   "execution_count": null,
   "metadata": {
    "collapsed": true
   },
   "outputs": [],
   "source": []
  }
 ],
 "metadata": {
  "kernelspec": {
   "display_name": "Python 2",
   "language": "python",
   "name": "python2"
  },
  "language_info": {
   "codemirror_mode": {
    "name": "ipython",
    "version": 2
   },
   "file_extension": ".py",
   "mimetype": "text/x-python",
   "name": "python",
   "nbconvert_exporter": "python",
   "pygments_lexer": "ipython2",
   "version": "2.7.15"
  }
 },
 "nbformat": 4,
 "nbformat_minor": 2
}
