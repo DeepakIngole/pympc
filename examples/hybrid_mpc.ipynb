{
 "cells": [
  {
   "cell_type": "markdown",
   "metadata": {},
   "source": [
    "# Model Predictive Control of Hybrid Systems"
   ]
  },
  {
   "cell_type": "markdown",
   "metadata": {},
   "source": [
    "Given the state of the system at time zero $x(0)$, we solve the following (open-loop) optimal-control problem \n",
    "\\begin{align}\n",
    "V^*(x(0)) :=\n",
    "\\min_{x(\\cdot), u(\\cdot)} \\quad &\n",
    "\\frac{1}{2} \\sum_{t=0}^{N-1} x^T(t) Q x(t) + u^T(t) R u(t) + \\frac{1}{2} x^T(N) P x(N),\n",
    "\\\\\n",
    "\\text{subject to} \\quad & x(t+1) = A_i x(t) + B_i u(t) + c_i\n",
    "\\quad \\text{if} \\quad\n",
    "(x(t),u(t)) \\in \\mathcal D_i\n",
    ",\n",
    "\\quad i \\in \\{ 1, \\ldots, s\\}\n",
    ",\n",
    "\\quad t=0,\\ldots, N-1,\n",
    "\\\\\n",
    "& x(N) \\in \\mathcal X_N,\n",
    "\\end{align}\n",
    "we apply the control $u(0)$ to the system, and we move to the next time step.\n",
    "\n",
    "Assuming $c_1 = 0$ and $0 \\in \\mathrm{int} (D_1)$, we can ensure stability choosing $P$ as the solution of the infinite-horizon DARE for the system in mode $i = 1$, and $\\mathcal{X}_N$ as any constraint-admissible invariant set for the system in mode $1$ in closed loop with the LQR controller."
   ]
  },
  {
   "cell_type": "markdown",
   "metadata": {},
   "source": [
    "## Demo"
   ]
  },
  {
   "cell_type": "code",
   "execution_count": 1,
   "metadata": {},
   "outputs": [],
   "source": [
    "# notebook settings\n",
    "%load_ext autoreload\n",
    "%autoreload 2\n",
    "\n",
    "# external imports\n",
    "import numpy as np\n",
    "import matplotlib.pyplot as plt\n",
    "\n",
    "# internal imports\n",
    "from pympc.geometry.polyhedron import Polyhedron\n",
    "from pympc.dynamics.discrete_time_systems import LinearSystem, AffineSystem, PieceWiseAffineSystem\n",
    "from pympc.control.controllers import HybridModelPredictiveController\n",
    "from pympc.plot import plot_input_sequence, plot_state_trajectory, plot_state_space_trajectory"
   ]
  },
  {
   "cell_type": "markdown",
   "metadata": {},
   "source": [
    "We stabilize a linear inverted pendulum with mass $m$ and length $l$, subject to the gravity acceleration $g$; the pendulum is allowed to impact with an elastic wall with stiffness $k$ placed at distance $d$ from the vertical line passing trough the hinge"
   ]
  },
  {
   "cell_type": "code",
   "execution_count": 2,
   "metadata": {},
   "outputs": [],
   "source": [
    "m = 1.\n",
    "l = 1.\n",
    "g = 10.\n",
    "k = 100.\n",
    "d = .1\n",
    "h = .01"
   ]
  },
  {
   "cell_type": "markdown",
   "metadata": {},
   "source": [
    "We express the linearized dynamics in PieceWise Affine (PWA) form\n",
    "\\begin{equation}\n",
    "\\dot x =\n",
    "\\begin{cases}\n",
    "A_1 x + B_1 u, \\quad \\text{if} \\quad (x, u) \\in \\mathcal D_1, \\\\\n",
    "A_2 x + B_2 u + c_2, \\quad \\text{if} \\quad (x, u) \\in \\mathcal D_2,\n",
    "\\end{cases}\n",
    "\\end{equation}\n",
    "\n",
    "with\n",
    "\n",
    "\\begin{equation}\n",
    "A_1 = \n",
    "\\begin{bmatrix}\n",
    "0 & 1 \\\\ g/l & 0\n",
    "\\end{bmatrix},\n",
    "\\quad\n",
    "B_1 = \n",
    "\\begin{bmatrix}\n",
    "0 \\\\ 1/(ml^2)\n",
    "\\end{bmatrix},\n",
    "\\quad\n",
    "A_2 = \n",
    "\\begin{bmatrix}\n",
    "0 & 1 \\\\ g/l - k/m & 0\n",
    "\\end{bmatrix},\n",
    "\\quad\n",
    "B_2 = \n",
    "\\begin{bmatrix}\n",
    "0 \\\\ 1/(ml^2)\n",
    "\\end{bmatrix},\n",
    "\\quad\n",
    "c_2 = \n",
    "\\begin{bmatrix}\n",
    "0 \\\\ kd/(ml)\n",
    "\\end{bmatrix},\n",
    "\\end{equation}\n",
    "\n",
    "\\begin{equation}\n",
    "\\mathcal D_1 =\n",
    "\\{ (x,u) \\ | \\\n",
    "x_1 \\leq d/l, \\\n",
    "x_{\\mathrm{min}} \\leq x \\leq x_{\\mathrm{max}}, \\\n",
    "u_{\\mathrm{min}} \\leq u \\leq u_{\\mathrm{max}} \\},\n",
    "\\end{equation}\n",
    "\n",
    "\\begin{equation}\n",
    "\\mathcal D_2 =\n",
    "\\{ (x,u) \\ |\n",
    "\\ x_1 > d/l, \\\n",
    "x_{\\mathrm{min}} \\leq x \\leq x_{\\mathrm{max}},\n",
    "\\ u_{\\mathrm{min}} \\leq u \\leq u_{\\mathrm{max}} \\}\n",
    "\\end{equation}"
   ]
  },
  {
   "cell_type": "code",
   "execution_count": 3,
   "metadata": {},
   "outputs": [],
   "source": [
    "# discretization method\n",
    "method = 'explicit_euler'\n",
    "\n",
    "# dynamics n.1\n",
    "A1 = np.array([[0., 1.],[g/l, 0.]])\n",
    "B1 = np.array([[0.],[1/(m*l**2.)]])\n",
    "S1 = LinearSystem.from_continuous(A1, B1, h, method)\n",
    "\n",
    "# dynamics n.2\n",
    "A2 = np.array([[0., 1.],[g/l-k/m, 0.]])\n",
    "B2 = B1\n",
    "c2 = np.array([[0.],[k*d/(m*l)]])\n",
    "S2 = AffineSystem.from_continuous(A2, B2, c2, h, method)\n",
    "\n",
    "# list of dynamics\n",
    "S_list = [S1, S2]"
   ]
  },
  {
   "cell_type": "markdown",
   "metadata": {},
   "source": [
    "The domains of the PWA must be expressed as (bounded!) polyhedra"
   ]
  },
  {
   "cell_type": "code",
   "execution_count": 4,
   "metadata": {},
   "outputs": [],
   "source": [
    "# state domain n.1\n",
    "x1_min = np.array([[-2.*d/l],[-1.5]])\n",
    "x1_max = np.array([[d/l], [1.5]])\n",
    "X1 = Polyhedron.from_bounds(x1_min, x1_max)\n",
    "assert X1.bounded\n",
    "\n",
    "# state domain n.2\n",
    "x2_min = np.array([[d/l], [-1.5]])\n",
    "x2_max = np.array([[2.*d/l],[1.5]])\n",
    "X2 = Polyhedron.from_bounds(x2_min, x2_max)\n",
    "assert X2.bounded\n",
    "\n",
    "# input domain\n",
    "u_min = np.array([[-4.]])\n",
    "u_max = np.array([[4.]])\n",
    "U = Polyhedron.from_bounds(u_min, u_max)\n",
    "assert U.bounded\n",
    "\n",
    "# domains\n",
    "D1 = X1.cartesian_product(U)\n",
    "D2 = X2.cartesian_product(U)\n",
    "D_list = [D1, D2]"
   ]
  },
  {
   "cell_type": "markdown",
   "metadata": {},
   "source": [
    "The overall PWA system can be defines as follows"
   ]
  },
  {
   "cell_type": "code",
   "execution_count": 5,
   "metadata": {},
   "outputs": [],
   "source": [
    "S = PieceWiseAffineSystem(S_list, D_list)"
   ]
  },
  {
   "cell_type": "markdown",
   "metadata": {},
   "source": [
    "We can now synthesize the controller"
   ]
  },
  {
   "cell_type": "code",
   "execution_count": 6,
   "metadata": {},
   "outputs": [],
   "source": [
    "# controller parameters\n",
    "N = 20\n",
    "Q = np.eye(S.nx)\n",
    "R = np.eye(S.nu)\n",
    "\n",
    "# terminal set and cost\n",
    "P, K = S1.solve_dare(Q, R)\n",
    "X_N = S1.mcais(K, D1)[0]\n",
    "\n",
    "# hybrid MPC controller\n",
    "controller = HybridModelPredictiveController(S, N, Q, R, P, X_N)"
   ]
  },
  {
   "cell_type": "markdown",
   "metadata": {},
   "source": [
    "We now compare the open-loop and the closed-loop behaviour of the controller, with the inverted pendulum starting from the initial state $x_0$"
   ]
  },
  {
   "cell_type": "code",
   "execution_count": 7,
   "metadata": {},
   "outputs": [],
   "source": [
    "# initial state\n",
    "x0 = np.array([[.0],[.8]])\n",
    "\n",
    "# open-loop control\n",
    "u_ol, x_ol, ms_ol, V_ol = controller.feedforward(x0)\n",
    "\n",
    "# closed-loop control\n",
    "Nsim = 100\n",
    "u_cl = []\n",
    "x_cl = [x0]\n",
    "for t in range(Nsim):\n",
    "    u_cl.append(controller.feedback(x_cl[t]))\n",
    "    x_next = S.simulate(x_cl[t], [u_cl[t]])[0][1]\n",
    "    x_cl.append(x_next)"
   ]
  },
  {
   "cell_type": "markdown",
   "metadata": {},
   "source": [
    "The open-loop trajectory is forced to reach the terminal set $\\mathcal{X}_N$ in $N$ steps, whereas the closed-loop controller at each time step can relax the trajectory of the previous optimization thanks to the shifted horizon (note that, in case the terminal constraint is not active for the open-loop controller, the two controller behave identically)"
   ]
  },
  {
   "cell_type": "code",
   "execution_count": 8,
   "metadata": {},
   "outputs": [
    {
     "data": {
      "image/png": "[encoded data removed]",
      "text/plain": [
       "<matplotlib.figure.Figure at 0x7f2284ea0790>"
      ]
     },
     "metadata": {},
     "output_type": "display_data"
    }
   ],
   "source": [
    "X1.plot(label=r'$\\mathcal{X}_1$', facecolor='g')\n",
    "X2.plot(label=r'$\\mathcal{X}_2$', facecolor='b')\n",
    "X_N.plot(label=r'$\\mathcal{X}_N$', facecolor='r')\n",
    "plot_state_space_trajectory(x_ol, label='open loop', color='c')\n",
    "plot_state_space_trajectory(x_cl, label='closed loop', color='y')\n",
    "plt.legend()\n",
    "plt.show()"
   ]
  },
  {
   "cell_type": "markdown",
   "metadata": {},
   "source": [
    "Finally we can plot the closed-loop trajectory as a function of time"
   ]
  },
  {
   "cell_type": "code",
   "execution_count": 9,
   "metadata": {},
   "outputs": [
    {
     "data": {
      "image/png": "[encoded data removed]",
      "text/plain": [
       "<matplotlib.figure.Figure at 0x7f2284ea0d90>"
      ]
     },
     "metadata": {},
     "output_type": "display_data"
    },
    {
     "data": {
      "image/png": "[encoded data removed]",
      "text/plain": [
       "<matplotlib.figure.Figure at 0x7f22805cd810>"
      ]
     },
     "metadata": {},
     "output_type": "display_data"
    }
   ],
   "source": [
    "plot_input_sequence(u_cl, h, (u_min, u_max))\n",
    "plt.show()\n",
    "plot_state_trajectory(x_cl, h, (x1_min, x2_min, x2_max))\n",
    "plt.show()"
   ]
  }
 ],
 "metadata": {
  "celltoolbar": "Raw Cell Format",
  "kernelspec": {
   "display_name": "Python 2",
   "language": "python",
   "name": "python2"
  },
  "language_info": {
   "codemirror_mode": {
    "name": "ipython",
    "version": 2
   },
   "file_extension": ".py",
   "mimetype": "text/x-python",
   "name": "python",
   "nbconvert_exporter": "python",
   "pygments_lexer": "ipython2",
   "version": "2.7.12"
  }
 },
 "nbformat": 4,
 "nbformat_minor": 2
}
