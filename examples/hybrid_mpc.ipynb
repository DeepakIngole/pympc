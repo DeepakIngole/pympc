{
 "cells": [
  {
   "cell_type": "markdown",
   "metadata": {},
   "source": [
    "# Model Predictive Control of Hybrid Systems"
   ]
  },
  {
   "cell_type": "markdown",
   "metadata": {},
   "source": [
    "Given the state of the system at time zero $x(0)$, we solve the following (open-loop) optimal-control problem \n",
    "\\begin{align}\n",
    "V^*(x(0)) :=\n",
    "\\min_{x(\\cdot), u(\\cdot)} \\quad &\n",
    "\\frac{1}{2} \\sum_{t=0}^{N-1} x^T(t) Q x(t) + u^T(t) R u(t) + \\frac{1}{2} x^T(N) P x(N),\n",
    "\\\\\n",
    "\\text{subject to} \\quad & x(t+1) = A_i x(t) + B_i u(t) + c_i\n",
    "\\quad \\text{if} \\quad\n",
    "(x(t),u(t)) \\in \\mathcal D_i\n",
    ",\n",
    "\\quad t=0,\\ldots, N-1,\n",
    "\\\\\n",
    "& x(N) \\in \\mathcal X_N,\n",
    "\\end{align}\n",
    "we apply the control $u(0)$ to the system, and we move to the next time step.\n",
    "\n",
    "Assuming $c_1 = 0$ and $0 \\in \\mathrm{int} (D_1)$, we can ensure stability choosing $P$ as the solution of the infinite-horizon DARE for the system in mode $i = 1$, and $X_N$ as any constraint-admissible invariant set for the system in mode $1$ in closed loop with the LQR controller."
   ]
  },
  {
   "cell_type": "markdown",
   "metadata": {},
   "source": [
    "## Demo"
   ]
  },
  {
   "cell_type": "code",
   "execution_count": 1,
   "metadata": {},
   "outputs": [],
   "source": [
    "# notebook settings\n",
    "%load_ext autoreload\n",
    "%autoreload 2\n",
    "\n",
    "# external imports\n",
    "import numpy as np\n",
    "import matplotlib.pyplot as plt\n",
    "\n",
    "# internal imports\n",
    "from pympc.geometry.polyhedron import Polyhedron\n",
    "from pympc.dynamics.discrete_time_systems import LinearSystem, AffineSystem, PieceWiseAffineSystem\n",
    "from pympc.control.controllers import HybridModelPredictiveController\n",
    "from pympc.plot import plot_input_sequence, plot_state_trajectory, plot_state_space_trajectory"
   ]
  },
  {
   "cell_type": "markdown",
   "metadata": {},
   "source": [
    "We stabilize a linear inverted pendulum with mass $m$ and length $l$, subject to the gravity acceleration $g$; the pendulum is allowed to impact with an elastic wall (with stiffness $k$) placed at distance $d$ from the vertical line passing trough the hinge"
   ]
  },
  {
   "cell_type": "code",
   "execution_count": 2,
   "metadata": {},
   "outputs": [],
   "source": [
    "m = 1.\n",
    "l = 1.\n",
    "g = 10.\n",
    "k = 10000.\n",
    "d = .1\n",
    "h = .01"
   ]
  },
  {
   "cell_type": "markdown",
   "metadata": {},
   "source": [
    "We express the linearized dynamics in PieceWise Affine (PWA) form\n",
    "\\begin{equation}\n",
    "\\dot x =\n",
    "\\begin{cases}\n",
    "A_1 x + B_1 u, \\quad \\text{if} \\quad (x, u) \\in \\mathcal D_1, \\\\\n",
    "A_2 x + B_2 u + c_2, \\quad \\text{if} \\quad (x, u) \\in \\mathcal D_2,\n",
    "\\end{cases}\n",
    "\\end{equation}\n",
    "\n",
    "with\n",
    "\n",
    "\\begin{equation}\n",
    "A_1 = \n",
    "\\begin{bmatrix}\n",
    "0 & 1 \\\\ g/l & 0\n",
    "\\end{bmatrix},\n",
    "\\quad\n",
    "B_1 = \n",
    "\\begin{bmatrix}\n",
    "0 \\\\ 1/(ml^2)\n",
    "\\end{bmatrix},\n",
    "\\quad\n",
    "A_2 = \n",
    "\\begin{bmatrix}\n",
    "0 & 1 \\\\ g/l - k/m & 0\n",
    "\\end{bmatrix},\n",
    "\\quad\n",
    "B_2 = \n",
    "\\begin{bmatrix}\n",
    "0 \\\\ 1/(ml^2)\n",
    "\\end{bmatrix},\n",
    "\\quad\n",
    "c_2 = \n",
    "\\begin{bmatrix}\n",
    "0 \\\\ kd/(ml)\n",
    "\\end{bmatrix},\n",
    "\\end{equation}\n",
    "\n",
    "\\begin{equation}\n",
    "\\mathcal D_1 =\n",
    "\\{ (x,u) \\ | \\\n",
    "x_1 \\leq d/l, \\\n",
    "x_{\\mathrm{min}} \\leq x \\leq x_{\\mathrm{max}}, \\\n",
    "u_{\\mathrm{min}} \\leq u \\leq u_{\\mathrm{max}} \\},\n",
    "\\end{equation}\n",
    "\n",
    "\\begin{equation}\n",
    "\\mathcal D_2 =\n",
    "\\{ (x,u) \\ |\n",
    "\\ x_1 > d/l, \\\n",
    "x_{\\mathrm{min}} \\leq x \\leq x_{\\mathrm{max}},\n",
    "\\ u_{\\mathrm{min}} \\leq u \\leq u_{\\mathrm{max}} \\}\n",
    "\\end{equation}"
   ]
  },
  {
   "cell_type": "code",
   "execution_count": 3,
   "metadata": {},
   "outputs": [],
   "source": [
    "# discretization method\n",
    "method = 'explicit_euler'\n",
    "\n",
    "# dynamics n.1\n",
    "A_1 = np.array([[0., 1.],[g/l, 0.]])\n",
    "B_1 = np.array([[0.],[1/(m*l**2.)]])\n",
    "S_1 = LinearSystem.from_continuous(A_1, B_1, h, method)\n",
    "\n",
    "# dynamics n.2\n",
    "A_2 = np.array([[0., 1.],[g/l-k/m, 0.]])\n",
    "B_2 = B_1\n",
    "c_2 = np.array([[0.],[k*d/(m*l)]])\n",
    "S_2 = AffineSystem.from_continuous(A_2, B_2, c_2, h, method)\n",
    "\n",
    "# list of dynamics\n",
    "S_list = [S_1, S_2]"
   ]
  },
  {
   "cell_type": "markdown",
   "metadata": {},
   "source": [
    "The domains of the PWA must be expressed as (bounded!) polyhedra"
   ]
  },
  {
   "cell_type": "code",
   "execution_count": 4,
   "metadata": {},
   "outputs": [],
   "source": [
    "# state domain n.1\n",
    "x_min_1 = np.array([[-2.*d/l],[-1.5]])\n",
    "x_max_1 = np.array([[d/l], [1.5]])\n",
    "X_1 = Polyhedron.from_bounds(x_min_1, x_max_1)\n",
    "assert X_1.bounded\n",
    "\n",
    "# state domain n.2\n",
    "x_min_2 = np.array([[d/l], [-1.5]])\n",
    "x_max_2 = np.array([[2.*d/l],[1.5]])\n",
    "X_2 = Polyhedron.from_bounds(x_min_2, x_max_2)\n",
    "assert X_2.bounded\n",
    "\n",
    "# input domain\n",
    "u_min = np.array([[-4.]])\n",
    "u_max = np.array([[4.]])\n",
    "U = Polyhedron.from_bounds(u_min, u_max)\n",
    "assert U.bounded\n",
    "\n",
    "# domains\n",
    "D_1 = X_1.cartesian_product(U)\n",
    "D_2 = X_2.cartesian_product(U)\n",
    "D_list = [D_1, D_2]"
   ]
  },
  {
   "cell_type": "markdown",
   "metadata": {},
   "source": [
    "The overall PWA system can be defines as follows"
   ]
  },
  {
   "cell_type": "code",
   "execution_count": 10,
   "metadata": {},
   "outputs": [],
   "source": [
    "S = PieceWiseAffineSystem(S_list, D_list)"
   ]
  },
  {
   "cell_type": "markdown",
   "metadata": {},
   "source": [
    "We can now synthesize the controller"
   ]
  },
  {
   "cell_type": "code",
   "execution_count": 11,
   "metadata": {},
   "outputs": [],
   "source": [
    "# controller parameters\n",
    "N = 10\n",
    "Q = np.eye(S.nx)\n",
    "R = np.eye(S.nu)\n",
    "\n",
    "# terminal set and cost\n",
    "P, K = S_1.solve_dare(Q, R)\n",
    "X_N = S_1.mcais(K, D_1)[0]"
   ]
  },
  {
   "cell_type": "code",
   "execution_count": 34,
   "metadata": {},
   "outputs": [
    {
     "name": "stdout",
     "output_type": "stream",
     "text": [
      "\n"
     ]
    }
   ],
   "source": [
    "# hybrid MPC controller\n",
    "controller = HybridModelPredictiveController(S, N, Q, R, P, X_N)"
   ]
  },
  {
   "cell_type": "markdown",
   "metadata": {},
   "source": [
    "----------------------- We can now simulate the closed-loop dynamics starting from the initial state $x_0$."
   ]
  },
  {
   "cell_type": "code",
   "execution_count": null,
   "metadata": {
    "scrolled": false
   },
   "outputs": [],
   "source": [
    "N_sim = 100\n",
    "x_0 = np.array([[.0],[.79]])\n",
    "u = []\n",
    "x = [x_0]\n",
    "for k in range(N_sim):\n",
    "    print('Time step ' + str(k) + '.\\r'),\n",
    "    u.append(controller.feedback(x[k]))\n",
    "    x_next = pwa_sys.simulate(x[k], [u[k]])[0][1]\n",
    "    x.append(x_next)"
   ]
  },
  {
   "cell_type": "markdown",
   "metadata": {},
   "source": [
    "We can use the plot functions to visualize the time evolution of the system."
   ]
  },
  {
   "cell_type": "code",
   "execution_count": null,
   "metadata": {},
   "outputs": [],
   "source": [
    "mpc_plt.input_sequence(u, t_s, (u_min, u_max))\n",
    "plt.show()\n",
    "mpc_plt.state_trajectory(x, t_s, (x_min_0, x_min_1, x_max_1))\n",
    "plt.show()"
   ]
  },
  {
   "cell_type": "code",
   "execution_count": null,
   "metadata": {},
   "outputs": [],
   "source": [
    "X_0.plot(facecolor='g')\n",
    "X_1.plot(facecolor='r')\n",
    "mpc_plt.state_space_trajectory(x, color='w')\n",
    "plt.show()"
   ]
  },
  {
   "cell_type": "markdown",
   "metadata": {},
   "source": [
    "In order to make computations faster, we can warm start the MIQP solver at each step time."
   ]
  },
  {
   "cell_type": "code",
   "execution_count": null,
   "metadata": {
    "scrolled": false
   },
   "outputs": [],
   "source": [
    "u = []\n",
    "x = [x_0]\n",
    "u_ws = None\n",
    "x_ws = None\n",
    "ss_ws = None\n",
    "terminal_mode = 0\n",
    "for k in range(N_sim):\n",
    "    u_k, x_k, ss_k = controller.feedforward(x[k], u_ws, x_ws, ss_ws)[0:3]\n",
    "    x_next = pwa_sys.simulate(x[k], [u_k[0]])[0][1]\n",
    "    u.append(u_k[0])\n",
    "    x.append(x_next)\n",
    "    u_ws = u_k[1:] + [K.dot(x_k[-1])]\n",
    "    x_ws = x_k[1:] + [pwa_sys.simulate(x_k[-1], [u_ws[-1]])[0][1]]\n",
    "    ss_ws = ss_k[1:] + (terminal_mode,)"
   ]
  }
 ],
 "metadata": {
  "celltoolbar": "Raw Cell Format",
  "kernelspec": {
   "display_name": "Python 2",
   "language": "python",
   "name": "python2"
  },
  "language_info": {
   "codemirror_mode": {
    "name": "ipython",
    "version": 2
   },
   "file_extension": ".py",
   "mimetype": "text/x-python",
   "name": "python",
   "nbconvert_exporter": "python",
   "pygments_lexer": "ipython2",
   "version": "2.7.12"
  }
 },
 "nbformat": 4,
 "nbformat_minor": 2
}
