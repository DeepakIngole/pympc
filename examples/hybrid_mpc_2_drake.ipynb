{
 "cells": [
  {
   "cell_type": "markdown",
   "metadata": {},
   "source": [
    "# Model Predictive Control of Hybrid Systems"
   ]
  },
  {
   "cell_type": "markdown",
   "metadata": {},
   "source": [
    "In this notebook we extend the example presented in $\\texttt{hybrid_mpc.ipynb}$ considering a more complex system: a cart-pole with two elastic walls."
   ]
  },
  {
   "cell_type": "markdown",
   "metadata": {},
   "source": [
    "## Demo"
   ]
  },
  {
   "cell_type": "code",
   "execution_count": 1,
   "metadata": {
    "collapsed": true
   },
   "outputs": [],
   "source": [
    "# notebook settings\n",
    "%load_ext autoreload\n",
    "%autoreload 2\n",
    "\n",
    "# external imports\n",
    "import numpy as np\n",
    "import matplotlib.pyplot as plt\n",
    "\n",
    "# internal imports\n",
    "from pympc.geometry.polyhedron import Polyhedron\n",
    "from pympc.dynamics.discrete_time_systems import LinearSystem, AffineSystem, PieceWiseAffineSystem\n",
    "# from pympc.control.controllers_socp import HybridModelPredictiveController\n",
    "# from pympc.control.controllers_gurobi import HybridModelPredictiveController\n",
    "from pympc.control.hybrid_benchmark.controllers import HybridModelPredictiveController\n",
    "from pympc.plot import plot_input_sequence, plot_output_trajectory"
   ]
  },
  {
   "cell_type": "markdown",
   "metadata": {},
   "source": [
    "We stabilize a linearized cart-pole with: cart of mass $m_{\\mathrm{c}}$, pole of mass $m_{\\mathrm{p}}$, pole of length $l$, and subject to the gravity acceleration $g$; the pole is allowed to impact with two elastic walls with stiffness $k$ placed at distance $d$ from the origin"
   ]
  },
  {
   "cell_type": "code",
   "execution_count": 2,
   "metadata": {
    "collapsed": true
   },
   "outputs": [],
   "source": [
    "mc = .1\n",
    "mp = 1.\n",
    "l = 1.\n",
    "d = 1.\n",
    "k = 500.\n",
    "mu = 50.\n",
    "g = 10.\n",
    "h = .05"
   ]
  },
  {
   "cell_type": "markdown",
   "metadata": {},
   "source": [
    "We express the linearized dynamics in PieceWise Affine (PWA) form\n",
    "\\begin{align}\n",
    "x(t+1) = A_i x(t) + B_i u(t) + c_i\n",
    "\\quad \\text{if} \\quad\n",
    "(x(t),u(t)) \\in \\mathcal D_i\n",
    ",\n",
    "\\quad i \\in \\{ 1, \\ldots, s\\}\n",
    "\\end{align}\n"
   ]
  },
  {
   "cell_type": "code",
   "execution_count": 3,
   "metadata": {
    "collapsed": true
   },
   "outputs": [],
   "source": [
    "# discretization method\n",
    "method = 'zero_order_hold'\n",
    "\n",
    "# dynamics n.1 (penetration with left wall)\n",
    "A1 = np.array([\n",
    "    [0., 0., 1., 0.],\n",
    "    [0., 0., 0., 1.],\n",
    "    [0., (g*mp)/mc, 0., 0.],\n",
    "    [k/(l*mp), (g*mp)/(l*mc) + g/l - k/mp, mu/(l*mp), -mu/mp]\n",
    "    ])\n",
    "B1 = np.array([\n",
    "    [0.],\n",
    "    [0.],\n",
    "    [1./mc],\n",
    "    [1./(l*mc)]\n",
    "    ])\n",
    "c1 = np.array([\n",
    "    [0.],\n",
    "    [0.],\n",
    "    [0.],\n",
    "    [(k*d)/(l*mp)]\n",
    "    ])\n",
    "S1 = AffineSystem.from_continuous(A1, B1, c1, h, method)\n",
    "\n",
    "# dynamics n.2,3,4 (contact forces vanish)\n",
    "A234 = np.array([\n",
    "    [0., 0., 1., 0.],\n",
    "    [0., 0., 0., 1.],\n",
    "    [0., (g*mp)/mc, 0., 0.],\n",
    "    [0., g*(mc+mp)/(l*mc), 0., 0.]\n",
    "    ])\n",
    "B234 = np.array([\n",
    "    [0.],\n",
    "    [0.],\n",
    "    [1./mc],\n",
    "    [1./(l*mc)]\n",
    "    ])\n",
    "S234 = LinearSystem.from_continuous(A234, B234, h, method)\n",
    "\n",
    "# dynamics n.5 (penetration with right wall)\n",
    "A5 = np.array([\n",
    "    [0., 0., 1., 0.],\n",
    "    [0., 0., 0., 1.],\n",
    "    [0., (g*mp)/mc, 0., 0.],\n",
    "    [k/(l*mp), (g*mp)/(l*mc) + g/l - k/mp, mu/(l*mp), -mu/mp]\n",
    "    ])\n",
    "B5 = np.array([\n",
    "    [0.],\n",
    "    [0.],\n",
    "    [1./mc],\n",
    "    [1./(l*mc)]\n",
    "    ])\n",
    "c5 = np.array([\n",
    "    [0.],\n",
    "    [0.],\n",
    "    [0.],\n",
    "    [-(k*d)/(l*mp)]\n",
    "    ])\n",
    "S5 = AffineSystem.from_continuous(A5, B5, c5, h, method)\n",
    "\n",
    "# list of dynamics\n",
    "S_list = [S1, S234, S234, S234, S5]"
   ]
  },
  {
   "cell_type": "markdown",
   "metadata": {},
   "source": [
    "The domains of the PWA must be expressed as (bounded!) polyhedra"
   ]
  },
  {
   "cell_type": "code",
   "execution_count": 4,
   "metadata": {
    "collapsed": true
   },
   "outputs": [],
   "source": [
    "# state bounds\n",
    "x_max = np.array([[d], [np.pi/6.], [5.], [3.]])\n",
    "x_min = - x_max\n",
    "\n",
    "# state domain n.1 (penetration with left wall, wall not pulling)\n",
    "X1 = Polyhedron.from_bounds(x_min, x_max)\n",
    "X1.add_inequality(\n",
    "    np.array([[1., -l, 0., 0.]]),\n",
    "    np.array([[-d]])\n",
    ") # top of the pole touching the left wall\n",
    "X1.add_inequality(\n",
    "    np.array([[k, -k*l, mu, -mu*l]]),\n",
    "    np.array([[-k*d]])\n",
    ") # wall not pulling\n",
    "assert X1.bounded\n",
    "assert not X1.empty\n",
    "\n",
    "# state domain n.2 (penetration with left wall, wall pulling)\n",
    "X2 = Polyhedron.from_bounds(x_min, x_max)\n",
    "X2.add_inequality(\n",
    "    np.array([[1., -l, 0., 0.]]),\n",
    "    np.array([[-d]])\n",
    ") # top of the pole touching the left wall\n",
    "X2.add_inequality(\n",
    "    np.array([[-k, k*l, -mu, mu*l]]),\n",
    "    np.array([[k*d]])\n",
    ") # wall pulling\n",
    "assert X2.bounded\n",
    "assert not X2.empty\n",
    "\n",
    "# state domain n.3 (between the two walls)\n",
    "X3 = Polyhedron.from_bounds(x_min, x_max)\n",
    "X3.add_inequality(\n",
    "    np.array([[-1., l, 0., 0.], [1., -l, 0., 0.]]),\n",
    "    np.array([[d], [d]])\n",
    ") # top of the pole not touching any wall\n",
    "assert X3.bounded\n",
    "assert not X3.empty\n",
    "\n",
    "# state domain n.4 (penetration with right wall, wall pulling)\n",
    "X4 = Polyhedron.from_bounds(x_min, x_max)\n",
    "X4.add_inequality(\n",
    "    np.array([[-1., l, 0., 0.]]),\n",
    "    np.array([[-d]])\n",
    ") # top of the pole touching the right wall\n",
    "X4.add_inequality(\n",
    "    np.array([[k, -k*l, mu, -mu*l]]),\n",
    "    np.array([[k*d]])\n",
    ") # wall pulling\n",
    "assert X4.bounded\n",
    "assert not X4.empty\n",
    "\n",
    "# state domain n.5 (penetration with right wall, wall not pulling)\n",
    "X5 = Polyhedron.from_bounds(x_min, x_max)\n",
    "X5.add_inequality(\n",
    "    np.array([[-1., l, 0., 0.]]),\n",
    "    np.array([[-d]])\n",
    ") # top of the pole touching the right wall\n",
    "X5.add_inequality(\n",
    "    np.array([[-k, k*l, -mu, mu*l]]),\n",
    "    np.array([[-k*d]])\n",
    ") # wall not pulling\n",
    "assert X5.bounded\n",
    "assert not X5.empty\n",
    "\n",
    "# list of state domains\n",
    "X = [X1, X2, X3, X4, X5]\n",
    "\n",
    "# input domain\n",
    "u_max = np.array([[.4]])\n",
    "u_min = - u_max\n",
    "U = Polyhedron.from_bounds(u_min, u_max)\n",
    "\n",
    "# domains\n",
    "D_list = [Xi.cartesian_product(U) for Xi in X]"
   ]
  },
  {
   "cell_type": "markdown",
   "metadata": {},
   "source": [
    "The overall PWA system can be defines as follows"
   ]
  },
  {
   "cell_type": "code",
   "execution_count": 5,
   "metadata": {
    "collapsed": true
   },
   "outputs": [],
   "source": [
    "S = PieceWiseAffineSystem(S_list, D_list)"
   ]
  },
  {
   "cell_type": "markdown",
   "metadata": {},
   "source": [
    "Now we have all the ingredients to build the MPC controller"
   ]
  },
  {
   "cell_type": "code",
   "execution_count": 11,
   "metadata": {},
   "outputs": [
    {
     "name": "stdout",
     "output_type": "stream",
     "text": [
      "Time horizon: 13. Convergence index: -0.0005985788164660777. Number of facets: 54.   \n",
      "Maximal constraint-admissible invariant set found.\n",
      "Removing redundant facets ... minimal facets are 36.\n"
     ]
    }
   ],
   "source": [
    "# controller parameters\n",
    "N = 5\n",
    "Q = np.eye(S.nx)\n",
    "R = np.eye(S.nu)\n",
    "\n",
    "# terminal set and cost\n",
    "P, K = S234.solve_dare(Q, R)\n",
    "X_N = S234.mcais(K, D_list[2], verbose=True)\n",
    "\n",
    "# hybrid controller\n",
    "controller = HybridModelPredictiveController(S, N, Q, R, P, X_N, 'convex_hull')"
   ]
  },
  {
   "cell_type": "markdown",
   "metadata": {},
   "source": [
    "We can now simulate the closed-loop dynamics starting from the initial state $x_0$."
   ]
  },
  {
   "cell_type": "code",
   "execution_count": null,
   "metadata": {
    "collapsed": true
   },
   "outputs": [],
   "source": [
    "x0 = np.array([[.0], [0.], [-2.], [.0]])"
   ]
  },
  {
   "cell_type": "markdown",
   "metadata": {
    "collapsed": true
   },
   "source": [
    "u, x, ms, cost = controller.feedforward(x0, draw_solution=True)\n",
    "print cost\n",
    "print ms"
   ]
  },
  {
   "cell_type": "markdown",
   "metadata": {
    "collapsed": true
   },
   "source": [
    "controller.set_initial_condition(x0)\n",
    "sol = controller.solve_relaxation([2, 2, 2, 2, 2, 2, 2, 2, 2])\n",
    "print sol['cost']"
   ]
  },
  {
   "cell_type": "code",
   "execution_count": null,
   "metadata": {
    "collapsed": true
   },
   "outputs": [],
   "source": [
    "u, x, ms, cost = controller.feedforward(x0)\n",
    "print cost\n",
    "print ms"
   ]
  },
  {
   "cell_type": "markdown",
   "metadata": {},
   "source": [
    "tic = time()\n",
    "u, x, ms, cost = controller.feedforward_bm(x0)\n",
    "print time() - tic\n",
    "print cost\n",
    "print ms"
   ]
  },
  {
   "cell_type": "markdown",
   "metadata": {},
   "source": [
    "We can use the plot functions to visualize the time evolution of the system"
   ]
  },
  {
   "cell_type": "code",
   "execution_count": null,
   "metadata": {
    "collapsed": true
   },
   "outputs": [],
   "source": [
    "# input\n",
    "plot_input_sequence(u, h, (u_min, u_max))\n",
    "plt.show()\n",
    "\n",
    "# output (horizontal position of the tip of the pole)\n",
    "C = np.array([[1., -l, 0., 0.]])\n",
    "y_min = np.array([[-d]])\n",
    "y_max = np.array([[d]])\n",
    "plot_output_trajectory(C, x, h, (y_min, y_max))\n",
    "plt.show()"
   ]
  },
  {
   "cell_type": "markdown",
   "metadata": {},
   "source": [
    "## Animate results with MeshCat"
   ]
  },
  {
   "cell_type": "markdown",
   "metadata": {},
   "source": [
    "Now we animate the closed-loop trajectory of the cart-pole with MeshCat (see https://github.com/rdeits/meshcat-python)"
   ]
  },
  {
   "cell_type": "code",
   "execution_count": null,
   "metadata": {
    "collapsed": true
   },
   "outputs": [],
   "source": [
    "import time\n",
    "import meshcat\n",
    "import meshcat.geometry as g\n",
    "import meshcat.transformations as tf"
   ]
  },
  {
   "cell_type": "markdown",
   "metadata": {},
   "source": [
    "Create a new visualizer"
   ]
  },
  {
   "cell_type": "code",
   "execution_count": null,
   "metadata": {
    "collapsed": true
   },
   "outputs": [],
   "source": [
    "vis = meshcat.Visualizer()"
   ]
  },
  {
   "cell_type": "markdown",
   "metadata": {},
   "source": [
    "Create the cart-pole"
   ]
  },
  {
   "cell_type": "code",
   "execution_count": null,
   "metadata": {
    "collapsed": true
   },
   "outputs": [],
   "source": [
    "# cart-pole\n",
    "cart_pole = vis[\"cart_pole\"]\n",
    "\n",
    "# cart\n",
    "cart = cart_pole[\"cart\"]\n",
    "cart.set_object(g.Box([.3*l, .3*l, .3*l]), g.MeshLambertMaterial(color=0xff2222))\n",
    "\n",
    "# pivot\n",
    "pivot = cart[\"pivot\"]\n",
    "pivot.set_transform(tf.rotation_matrix(np.pi/2, [1, 0., 0.]))\n",
    "\n",
    "# pole\n",
    "pole = pivot[\"pole\"]\n",
    "pole.set_object(g.Box([.05*l, l, .05*l]), g.MeshLambertMaterial(color=0x2222ff))\n",
    "pole.set_transform(tf.translation_matrix([0., .5, 0.]))\n",
    "\n",
    "# left wall\n",
    "left_wall = vis[\"left_wall\"]\n",
    "left_wall.set_object(g.Box([l, .05*l, l]), g.MeshLambertMaterial(color=0x22ff22))\n",
    "left_wall.set_transform(tf.translation_matrix([0., -d, l]))\n",
    "\n",
    "# right wall\n",
    "right_wall = vis[\"right_wall\"]\n",
    "right_wall.set_object(g.Box([l, .05*l, l]), g.MeshLambertMaterial(color=0x22ff22))\n",
    "right_wall.set_transform(tf.translation_matrix([0., d, l]))"
   ]
  },
  {
   "cell_type": "markdown",
   "metadata": {},
   "source": [
    "Animate the results"
   ]
  },
  {
   "cell_type": "code",
   "execution_count": null,
   "metadata": {
    "collapsed": true
   },
   "outputs": [],
   "source": [
    "# visualization function\n",
    "def visualize_cart_pole(x):\n",
    "    cart.set_transform(tf.translation_matrix([0, x[0,0], 0]))\n",
    "    pivot.set_transform(tf.rotation_matrix(x[1,0] + np.pi/2, [1, 0, 0]))\n",
    "vis.jupyter_cell()"
   ]
  },
  {
   "cell_type": "code",
   "execution_count": null,
   "metadata": {
    "collapsed": true
   },
   "outputs": [],
   "source": [
    "# animation\n",
    "for t in range(N):\n",
    "    visualize_cart_pole(x[t])\n",
    "    time.sleep(h)"
   ]
  },
  {
   "cell_type": "code",
   "execution_count": null,
   "metadata": {
    "collapsed": true
   },
   "outputs": [],
   "source": []
  },
  {
   "cell_type": "code",
   "execution_count": null,
   "metadata": {
    "collapsed": true
   },
   "outputs": [],
   "source": [
    "import itertools\n",
    "import scipy.sparse\n",
    "\n",
    "def extract_linear_equalities(prog):\n",
    "    bindings = prog.linear_equality_constraints()\n",
    "    C = np.zeros((len(bindings), prog.num_vars()))\n",
    "    d = np.zeros(len(bindings))\n",
    "    for (i, binding) in enumerate(bindings):\n",
    "        constraint = binding.evaluator()\n",
    "        ci = np.zeros(prog.num_vars())\n",
    "        assert constraint.upper_bound() == constraint.lower_bound()\n",
    "        d[i] = constraint.upper_bound()\n",
    "        ai = constraint.A()\n",
    "        assert ai.shape[0] == 1\n",
    "        ai = ai[0, :]\n",
    "        for (j, var) in enumerate(binding.variables()):\n",
    "            ci[prog.FindDecisionVariableIndex(var)] = ai[j]\n",
    "        C[i, :] = ci\n",
    "    return C, d\n",
    "\n",
    "def extract_linear_inequalities(prog):\n",
    "    bindings = itertools.chain(prog.linear_constraints(), prog.bounding_box_constraints())\n",
    "    if not bindings:\n",
    "        return np.zeros((0, prog.num_vars())), np.zeros(0)\n",
    "    A = []\n",
    "    b = []\n",
    "    for (i, binding) in enumerate(bindings):\n",
    "        constraint = binding.evaluator()\n",
    "        A_row = np.zeros(prog.num_vars())\n",
    "        ai = constraint.A()\n",
    "        assert ai.shape[0] == 1\n",
    "        ai = ai[0, :]\n",
    "        for (j, var) in enumerate(binding.variables()):\n",
    "            A_row[prog.FindDecisionVariableIndex(var)] = ai[j]\n",
    "\n",
    "        if constraint.upper_bound() != np.inf:\n",
    "            A.append(A_row)\n",
    "            b.append(constraint.upper_bound())\n",
    "        if constraint.lower_bound() != -np.inf:\n",
    "            A.append(-A_row)\n",
    "            b.append(-constraint.lower_bound())\n",
    "    return np.vstack(A), np.hstack(b)\n",
    "\n",
    "def extract_objective(prog):\n",
    "    num_vars = prog.num_vars()\n",
    "    Q = np.zeros((num_vars, num_vars))\n",
    "    q = np.zeros(num_vars)\n",
    "\n",
    "    for binding in prog.linear_costs():\n",
    "        var_order = [prog.FindDecisionVariableIndex(v) for v in binding.variables()]\n",
    "        ai = binding.evaluator().A()\n",
    "        assert ai.shape[0] == 1\n",
    "        ai = ai[0, :]\n",
    "        for i in range(ai.size):\n",
    "            q[var_order[i]] += ai[i]\n",
    "\n",
    "    for binding in prog.quadratic_costs():\n",
    "        var_order = [prog.FindDecisionVariableIndex(v) for v in binding.variables()]\n",
    "        Qi = binding.evaluator().Q()\n",
    "        bi = binding.evaluator().b()\n",
    "        for i in range(bi.size):\n",
    "            q[var_order[i]] += bi[i]\n",
    "            for j in range(bi.size):\n",
    "                Q[var_order[i], var_order[j]] += Qi[i, j]\n",
    "    Q = 0.5 * (Q + Q.T)\n",
    "    return Q, q"
   ]
  },
  {
   "cell_type": "code",
   "execution_count": null,
   "metadata": {
    "collapsed": true
   },
   "outputs": [],
   "source": [
    "controller = HybridModelPredictiveController(S, N, Q, R, P, X_N, 'big_m')\n",
    "controller.set_initial_condition(x0)\n",
    "C, d = extract_linear_equalities(controller.prog)\n",
    "D, e = extract_linear_inequalities(controller.prog)\n",
    "H, q = extract_objective(controller.prog)"
   ]
  },
  {
   "cell_type": "code",
   "execution_count": null,
   "metadata": {
    "collapsed": true
   },
   "outputs": [],
   "source": [
    "plt.spy(scipy.sparse.csc_matrix(H))\n",
    "plt.show()\n",
    "plt.spy(scipy.sparse.csc_matrix(D))\n",
    "plt.show()\n",
    "plt.spy(scipy.sparse.csc_matrix(C))\n",
    "plt.show()"
   ]
  },
  {
   "cell_type": "code",
   "execution_count": null,
   "metadata": {
    "collapsed": true
   },
   "outputs": [],
   "source": [
    "import osqp\n",
    "m = osqp.OSQP()\n",
    "A = scipy.sparse.csc_matrix(np.vstack((D, C)))\n",
    "l = np.concatenate((np.repeat(-np.inf, e.size), d))\n",
    "u = np.concatenate((e, d))\n",
    "m.setup(P=scipy.sparse.csc_matrix(H), q=q, A=A, l=l, u=u)#, verbose=False)"
   ]
  },
  {
   "cell_type": "code",
   "execution_count": null,
   "metadata": {
    "collapsed": true
   },
   "outputs": [],
   "source": [
    "results = m.solve()"
   ]
  },
  {
   "cell_type": "code",
   "execution_count": null,
   "metadata": {
    "collapsed": true
   },
   "outputs": [],
   "source": [
    "e_new = e.copy()\n",
    "e_new[1038] = -1.\n",
    "m.update(u=np.concatenate((e_new, d)))"
   ]
  },
  {
   "cell_type": "code",
   "execution_count": null,
   "metadata": {
    "collapsed": true
   },
   "outputs": [],
   "source": [
    "results = m.solve()"
   ]
  },
  {
   "cell_type": "code",
   "execution_count": null,
   "metadata": {
    "collapsed": true
   },
   "outputs": [],
   "source": [
    "controller = HybridModelPredictiveController(S, N, Q, R, P, X_N, 'big_m')\n",
    "#a = controller.solve_relaxation([])"
   ]
  },
  {
   "cell_type": "code",
   "execution_count": null,
   "metadata": {
    "collapsed": true
   },
   "outputs": [],
   "source": [
    "import time\n",
    "itc = time.time()\n",
    "a = controller.solve_relaxation([0])\n",
    "print time.time() - itc "
   ]
  },
  {
   "cell_type": "code",
   "execution_count": null,
   "metadata": {
    "collapsed": true
   },
   "outputs": [],
   "source": [
    "from pympc.optimization.solvers.gurobi import quadratic_program"
   ]
  },
  {
   "cell_type": "code",
   "execution_count": null,
   "metadata": {
    "collapsed": true
   },
   "outputs": [],
   "source": [
    "print D.shape\n",
    "D[1038][104]"
   ]
  },
  {
   "cell_type": "markdown",
   "metadata": {
    "collapsed": true
   },
   "source": [
    "# AAA"
   ]
  },
  {
   "cell_type": "code",
   "execution_count": 12,
   "metadata": {
    "collapsed": true
   },
   "outputs": [],
   "source": [
    "# feasible set (ball position and velocity)\n",
    "from pympc.control.hybrid_benchmark.utils import get_constraint_set\n",
    "controller.reset_program()\n",
    "CS = get_constraint_set(controller.prog)\n",
    "sect = CS.project_to([0,1])\n",
    "\n",
    "# # feasible set section (given paddle velocity)\n",
    "# v = np.array([[0.],[0.]])\n",
    "# A_sect = CS.A[:, 2:]\n",
    "# b_sect = CS.b + CS.A[:, :2].dot(v)\n",
    "# CS_sect = Polyhedron(A_sect, b_sect)\n",
    "# sect = CS_sect.project_to([0,1])"
   ]
  },
  {
   "cell_type": "code",
   "execution_count": 13,
   "metadata": {},
   "outputs": [
    {
     "data": {
      "image/png": "[encoded data removed]",
      "text/plain": [
       "<Figure size 432x288 with 1 Axes>"
      ]
     },
     "metadata": {},
     "output_type": "display_data"
    }
   ],
   "source": [
    "sect.plot()"
   ]
  },
  {
   "cell_type": "code",
   "execution_count": null,
   "metadata": {
    "collapsed": true
   },
   "outputs": [],
   "source": []
  }
 ],
 "metadata": {
  "kernelspec": {
   "display_name": "Python 2",
   "language": "python",
   "name": "python2"
  },
  "language_info": {
   "codemirror_mode": {
    "name": "ipython",
    "version": 2
   },
   "file_extension": ".py",
   "mimetype": "text/x-python",
   "name": "python",
   "nbconvert_exporter": "python",
   "pygments_lexer": "ipython2",
   "version": "2.7.15"
  }
 },
 "nbformat": 4,
 "nbformat_minor": 2
}
