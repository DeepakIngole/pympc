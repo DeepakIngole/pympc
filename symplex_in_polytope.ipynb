{
 "cells": [
  {
   "cell_type": "code",
   "execution_count": 1,
   "metadata": {
    "collapsed": true,
    "deletable": true,
    "editable": true
   },
   "outputs": [],
   "source": [
    "import numpy as np\n",
    "import cvxpy as cvx\n",
    "from copy import copy\n",
    "\n",
    "from pympc.geometry.polytope import Polytope\n",
    "import matplotlib.pyplot as plt"
   ]
  },
  {
   "cell_type": "code",
   "execution_count": 2,
   "metadata": {
    "collapsed": true,
    "deletable": true,
    "editable": true
   },
   "outputs": [],
   "source": [
    "def maximum_volume_simplex_inscribed_polytope(A, b):\n",
    "    n, m = A.shape\n",
    "    S = cvx.Variable(m, m)\n",
    "    v = cvx.Variable(m, m+1)\n",
    "    objective = cvx.Maximize(cvx.log_det(S))\n",
    "    distance_vertices = [v[:,i+1] - v[:,0] == S[:,i] for i in range(m)]\n",
    "    vertices_in_polyhedron = [A*v[:,i] <= b for i in range(m+1)]\n",
    "    prob = cvx.Problem(objective, distance_vertices + vertices_in_polyhedron)\n",
    "    result = prob.solve()\n",
    "    v = v.value\n",
    "    return v"
   ]
  },
  {
   "cell_type": "code",
   "execution_count": 3,
   "metadata": {
    "collapsed": true
   },
   "outputs": [],
   "source": [
    "def maximum_volume_simplex_inscribed_polytope_2(A, b):\n",
    "    n, m = A.shape\n",
    "    S = cvx.Variable(m, m)\n",
    "    v = cvx.Variable(m, 1)\n",
    "    objective = cvx.Maximize(cvx.log_det(S))\n",
    "    standard_simplex = [-np.ones((m, 1))] + [np.zeros((m, 1)) for i in range(m)]\n",
    "    for i in range(m):\n",
    "        standard_simplex[i+1][i,0] = 1.\n",
    "    vertices_in_polyhedron = [A*(S*standard_simplex[i] + v) <= b for i in range(m+1)]\n",
    "    prob = cvx.Problem(objective, vertices_in_polyhedron)\n",
    "    result = prob.solve(solver=cvx.SCS)\n",
    "    S = np.array(S.value)\n",
    "    v = np.array(v.value)\n",
    "    print standard_simplex\n",
    "    vertices = [S.dot(e_i)+v for e_i in standard_simplex]\n",
    "    return vertices"
   ]
  },
  {
   "cell_type": "code",
   "execution_count": 4,
   "metadata": {
    "collapsed": false,
    "deletable": true,
    "editable": true
   },
   "outputs": [],
   "source": [
    "n_var = 2\n",
    "n_cons = 10\n",
    "A = np.random.randn(n_cons, n_var)\n",
    "b = np.random.rand(n_cons, 1)\n",
    "v = maximum_volume_simplex_inscribed_polytope(copy(A), copy(b))"
   ]
  },
  {
   "cell_type": "code",
   "execution_count": 5,
   "metadata": {
    "collapsed": false,
    "deletable": true,
    "editable": true
   },
   "outputs": [
    {
     "data": {
      "image/png": "[encoded data removed]",
      "text/plain": [
       "<matplotlib.figure.Figure at 0x10c61c050>"
      ]
     },
     "metadata": {},
     "output_type": "display_data"
    }
   ],
   "source": [
    "p = Polytope(A, b)\n",
    "p.assemble()\n",
    "p.plot(alpha=.5)\n",
    "for i in range(v.shape[1]):\n",
    "    plt.scatter(v[0,i], v[1,i])\n",
    "plt.show()"
   ]
  },
  {
   "cell_type": "code",
   "execution_count": 6,
   "metadata": {
    "collapsed": false,
    "deletable": true,
    "editable": true
   },
   "outputs": [
    {
     "name": "stdout",
     "output_type": "stream",
     "text": [
      "[array([[-1.],\n",
      "       [-1.]]), array([[ 1.],\n",
      "       [ 0.]]), array([[ 0.],\n",
      "       [ 1.]])]\n"
     ]
    },
    {
     "data": {
      "image/png": "[encoded data removed]",
      "text/plain": [
       "<matplotlib.figure.Figure at 0x10f8a3850>"
      ]
     },
     "metadata": {},
     "output_type": "display_data"
    }
   ],
   "source": [
    "vertices = maximum_volume_simplex_inscribed_polytope_2(copy(A), copy(b))\n",
    "p = Polytope(A, b)\n",
    "p.assemble()\n",
    "p.plot(alpha=.5)\n",
    "for v in vertices:\n",
    "    plt.scatter(v[0,0], v[1,0])\n",
    "plt.show()"
   ]
  },
  {
   "cell_type": "code",
   "execution_count": 7,
   "metadata": {
    "collapsed": false
   },
   "outputs": [
    {
     "data": {
      "text/plain": [
       "['CVXOPT',\n",
       " 'MOSEK',\n",
       " 'ECOS_BB',\n",
       " 'GLPK_MI',\n",
       " 'SCS',\n",
       " 'ECOS',\n",
       " 'GUROBI',\n",
       " 'GLPK',\n",
       " 'LS']"
      ]
     },
     "execution_count": 7,
     "metadata": {},
     "output_type": "execute_result"
    }
   ],
   "source": [
    "cvx.installed_solvers()"
   ]
  },
  {
   "cell_type": "code",
   "execution_count": 8,
   "metadata": {
    "collapsed": false
   },
   "outputs": [
    {
     "data": {
      "text/plain": [
       "[array([[ 0.04965185],\n",
       "        [-0.43235093]]), array([[ 0.45926156],\n",
       "        [-0.20307301]]), array([[ 0.09266893],\n",
       "        [ 0.34946224]])]"
      ]
     },
     "execution_count": 8,
     "metadata": {},
     "output_type": "execute_result"
    }
   ],
   "source": [
    "vertices"
   ]
  },
  {
   "cell_type": "code",
   "execution_count": null,
   "metadata": {
    "collapsed": true
   },
   "outputs": [],
   "source": []
  }
 ],
 "metadata": {
  "kernelspec": {
   "display_name": "Python 2",
   "language": "python",
   "name": "python2"
  },
  "language_info": {
   "codemirror_mode": {
    "name": "ipython",
    "version": 2
   },
   "file_extension": ".py",
   "mimetype": "text/x-python",
   "name": "python",
   "nbconvert_exporter": "python",
   "pygments_lexer": "ipython2",
   "version": "2.7.13"
  }
 },
 "nbformat": 4,
 "nbformat_minor": 2
}
