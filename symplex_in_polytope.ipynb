{
 "cells": [
  {
   "cell_type": "code",
   "execution_count": 1,
   "metadata": {
    "collapsed": true,
    "deletable": true,
    "editable": true
   },
   "outputs": [],
   "source": [
    "import numpy as np\n",
    "import cvxpy as cvx\n",
    "from copy import copy\n",
    "\n",
    "from pympc.geometry.polytope import Polytope\n",
    "import matplotlib.pyplot as plt"
   ]
  },
  {
   "cell_type": "code",
   "execution_count": 2,
   "metadata": {
    "collapsed": true,
    "deletable": true,
    "editable": true
   },
   "outputs": [],
   "source": [
    "def maximum_volume_simplex_inscribed_polytope(A, b):\n",
    "    n, m = A.shape\n",
    "    S = cvx.Variable(m, m)\n",
    "    v = cvx.Variable(m, m+1)\n",
    "    objective = cvx.Maximize(cvx.log_det(S))\n",
    "    distance_vertices = [v[:,i+1] - v[:,0] == S[:,i] for i in range(m)]\n",
    "    vertices_in_polyhedron = [A*v[:,i] <= b for i in range(m+1)]\n",
    "    prob = cvx.Problem(objective, distance_vertices + vertices_in_polyhedron)\n",
    "    result = prob.solve()\n",
    "    v = v.value\n",
    "    print S.value\n",
    "    return v"
   ]
  },
  {
   "cell_type": "code",
   "execution_count": 3,
   "metadata": {
    "collapsed": false,
    "deletable": true,
    "editable": true
   },
   "outputs": [
    {
     "name": "stdout",
     "output_type": "stream",
     "text": [
      "[[ 0.47300241  0.18230041]\n",
      " [ 0.18230041  0.25180572]]\n"
     ]
    }
   ],
   "source": [
    "n_var = 2\n",
    "n_cons = 10\n",
    "A = np.random.randn(n_cons, n_var)\n",
    "b = np.random.rand(n_cons, 1)\n",
    "v = maximum_volume_simplex_inscribed_polytope(copy(A), copy(b))"
   ]
  },
  {
   "cell_type": "code",
   "execution_count": 4,
   "metadata": {
    "collapsed": false,
    "deletable": true,
    "editable": true
   },
   "outputs": [
    {
     "data": {
      "image/png": "[encoded data removed]",
      "text/plain": [
       "<matplotlib.figure.Figure at 0x10698bfd0>"
      ]
     },
     "metadata": {},
     "output_type": "display_data"
    }
   ],
   "source": [
    "p = Polytope(A, b)\n",
    "p.assemble()\n",
    "p.plot(alpha=.5)\n",
    "for i in range(v.shape[1]):\n",
    "    plt.scatter(v[0,i], v[1,i])\n",
    "plt.show()"
   ]
  },
  {
   "cell_type": "code",
   "execution_count": 5,
   "metadata": {
    "collapsed": false,
    "deletable": true,
    "editable": true
   },
   "outputs": [
    {
     "name": "stdout",
     "output_type": "stream",
     "text": [
      "[[-0.16474095  0.30826146  0.01755946]\n",
      " [-0.22127152 -0.03897112  0.03053419]]\n"
     ]
    }
   ],
   "source": [
    "print v"
   ]
  }
 ],
 "metadata": {
  "kernelspec": {
   "display_name": "Python 2",
   "language": "python",
   "name": "python2"
  },
  "language_info": {
   "codemirror_mode": {
    "name": "ipython",
    "version": 2
   },
   "file_extension": ".py",
   "mimetype": "text/x-python",
   "name": "python",
   "nbconvert_exporter": "python",
   "pygments_lexer": "ipython2",
   "version": "2.7.13"
  }
 },
 "nbformat": 4,
 "nbformat_minor": 2
}
