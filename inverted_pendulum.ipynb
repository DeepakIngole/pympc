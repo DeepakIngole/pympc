{
 "cells": [
  {
   "cell_type": "markdown",
   "metadata": {
    "deletable": true,
    "editable": true
   },
   "source": [
    "# Linear Inverted Pendulum, MPC Demo"
   ]
  },
  {
   "cell_type": "markdown",
   "metadata": {
    "deletable": true,
    "editable": true
   },
   "source": [
    "This is a demo for the Model Predictive Control (MPC) package $\\texttt{mpc_tools}$."
   ]
  },
  {
   "cell_type": "code",
   "execution_count": 1,
   "metadata": {
    "collapsed": false,
    "deletable": true,
    "editable": true
   },
   "outputs": [],
   "source": [
    "%load_ext autoreload\n",
    "%autoreload 2\n",
    "#%pylab notebook"
   ]
  },
  {
   "cell_type": "code",
   "execution_count": 2,
   "metadata": {
    "collapsed": false,
    "deletable": true,
    "editable": true
   },
   "outputs": [],
   "source": [
    "import numpy as np\n",
    "import matplotlib.pyplot as plt\n",
    "import pympc.dynamical_systems as ds\n",
    "import pympc.plot as mpc_plt\n",
    "from pympc.control import MPCController\n",
    "from pympc.geometry.polytope import Polytope"
   ]
  },
  {
   "cell_type": "markdown",
   "metadata": {
    "deletable": true,
    "editable": true
   },
   "source": [
    "We stabilize a linear inverted pendulum with mass $m$ and length $l$, subject to the gravity acceleration $g$."
   ]
  },
  {
   "cell_type": "code",
   "execution_count": 3,
   "metadata": {
    "collapsed": true,
    "deletable": true,
    "editable": true
   },
   "outputs": [],
   "source": [
    "m = 1.\n",
    "l = 1.\n",
    "g = 10."
   ]
  },
  {
   "cell_type": "markdown",
   "metadata": {
    "deletable": true,
    "editable": true
   },
   "source": [
    "The linearized continuous-time dynamics is \n",
    "\\begin{equation}\n",
    "\\dot x = A x + B u =\n",
    "\\begin{bmatrix}\n",
    "0 & 1 \\\\ g/l & 0\n",
    "\\end{bmatrix}\n",
    "x +\n",
    "\\begin{bmatrix}\n",
    "0 \\\\ 1/(ml^2)\n",
    "\\end{bmatrix}\n",
    "u.\n",
    "\\end{equation}\n",
    "The discrete-time linear system can be defined from its continuous-time representation setting a sampling time $t_s$ (the exact zero-order-hold discretization is used)."
   ]
  },
  {
   "cell_type": "code",
   "execution_count": 4,
   "metadata": {
    "collapsed": false,
    "deletable": true,
    "editable": true
   },
   "outputs": [],
   "source": [
    "A = np.array([\n",
    "    [0., 1.],\n",
    "    [g/l, 0.]\n",
    "])\n",
    "B = np.array([\n",
    "    [0.],\n",
    "    [1/(m*l**2.)]\n",
    "])\n",
    "t_s = .1\n",
    "sys = ds.DTLinearSystem.from_continuous(A, B, t_s)"
   ]
  },
  {
   "cell_type": "markdown",
   "metadata": {
    "deletable": true,
    "editable": true
   },
   "source": [
    "At each each step, the following optimal control is solved\n",
    "\\begin{align}\n",
    "\\min \\quad &\n",
    "\\sum_{k=0}^{N-1} (x_k^T Q x_k + u_k^T R u_k) + x_N^T P x_N \\\\\n",
    "\\text{subject to} \\quad & x_{k+1} = A x_k + B u_k, \\quad k = 0,1,\\ldots,N-1, \\\\\n",
    "& u_k \\in \\mathcal U, \\quad k = 0,1,\\ldots,N-1, \\\\\n",
    "& x_k \\in \\mathcal X, \\quad k = 1,2,\\ldots,N-1, \\\\\n",
    "& x_N \\in \\mathcal X_N, \\\\\n",
    "& x_0 \\ \\text{given}, \\\\\n",
    "\\end{align}\n",
    "and the input $u_0$ is applied to the system."
   ]
  },
  {
   "cell_type": "code",
   "execution_count": 5,
   "metadata": {
    "collapsed": false,
    "deletable": true,
    "editable": true
   },
   "outputs": [],
   "source": [
    "N = 6\n",
    "Q = np.eye(A.shape[0])\n",
    "R = np.eye(B.shape[1])\n",
    "objective_norm = 'two'"
   ]
  },
  {
   "cell_type": "markdown",
   "metadata": {
    "deletable": true,
    "editable": true
   },
   "source": [
    "For stability reasons we set the terminal cost to be equal to the cost-to-go of the infinite-horizon LQR controller. To do that wesolve the Discrete Algebraic Ricccati Equation (DARE)\n",
    "\\begin{equation}\n",
    "P = (A+BK)^T P (A+BK) + Q + K^T R K\n",
    "\\end{equation}\n",
    "where $K = -(B^T P B + R)^{-1} B^T P A$ is the optimal feedback $u_k = K x_k$."
   ]
  },
  {
   "cell_type": "code",
   "execution_count": 6,
   "metadata": {
    "collapsed": false,
    "deletable": true,
    "editable": true
   },
   "outputs": [],
   "source": [
    "P, K = ds.dare(sys.A, sys.B, Q, R)"
   ]
  },
  {
   "cell_type": "markdown",
   "metadata": {
    "deletable": true,
    "editable": true
   },
   "source": [
    "The admissible sets $\\mathcal U$ and $\\mathcal X$ have to be polytopes. These can be generated from a set of linear inequalities (e.g., $C u_k \\leq c$) or from bounds (e.g., $u_{max} \\geq u_k \\geq u_{min}$)."
   ]
  },
  {
   "cell_type": "code",
   "execution_count": 7,
   "metadata": {
    "collapsed": false,
    "deletable": true,
    "editable": true
   },
   "outputs": [
    {
     "data": {
      "text/plain": [
       "<pympc.geometry.polytope.Polytope instance at 0x10b0d9b90>"
      ]
     },
     "execution_count": 7,
     "metadata": {},
     "output_type": "execute_result"
    }
   ],
   "source": [
    "u_max = np.array([[10.]])\n",
    "u_min = -u_max\n",
    "U = Polytope.from_bounds(u_min, u_max)\n",
    "U.assemble()\n",
    "x_max = np.array([[.5], [.5]])\n",
    "x_min = -x_max\n",
    "X = Polytope.from_bounds(x_min, x_max)\n",
    "X.assemble()"
   ]
  },
  {
   "cell_type": "markdown",
   "metadata": {
    "deletable": true,
    "editable": true
   },
   "source": [
    "The terminal constraint $x_N \\in \\mathcal X_N$ is generally used to ensure closed-loop stability and, like $\\mathcal U$ and $\\mathcal X$, it has to be a polytope; here we decide to guarantee stability throught the use of the Maximum Output Admissible Set (MOAS).\n",
    "\n",
    "Defining the closed-loop state-transition matrix $ \\bar A = A + BK$, constraining $x_N$ to be in the MOAS we ensure that $ x_{k+1} = \\bar A x_k \\in \\mathcal{X}$ and $u_k = K x_k \\in \\mathcal{U}, \\forall k \\geq N$. This, together with the use of the DARE solution as terminal cost, is sufficient condition for the stability of the closed loop system."
   ]
  },
  {
   "cell_type": "code",
   "execution_count": 8,
   "metadata": {
    "collapsed": false,
    "deletable": true,
    "editable": true
   },
   "outputs": [
    {
     "name": "stdout",
     "output_type": "stream",
     "text": [
      "Computation of Maximal Invariant Constraint-Admissible Set started.\n",
      "Determinedness index: 0, Convergence index: 0.115801000384, Number of facets: 6.    \r",
      "Determinedness index: 1, Convergence index: 0.0877172908998, Number of facets: 12.    \r",
      "Determinedness index: 2, Convergence index: 0.0854125741216, Number of facets: 18.    \r",
      "Determinedness index: 3, Convergence index: 0.0280865008482, Number of facets: 24.    \r",
      "Determinedness index: 4, Convergence index: -0.0198149937127, Number of facets: 30.    \r\n",
      "Maximal Invariant Constraint-Admissible Set found.\n",
      "Removing redundant facets ... minimal facets are 10.\n"
     ]
    }
   ],
   "source": [
    "X_N = ds.moas_closed_loop_from_orthogonal_domains(sys.A, sys.B, K, X, U)"
   ]
  },
  {
   "cell_type": "markdown",
   "metadata": {
    "deletable": true,
    "editable": true
   },
   "source": [
    "Now we have all the ingredients to build the MPC controller."
   ]
  },
  {
   "cell_type": "code",
   "execution_count": 9,
   "metadata": {
    "collapsed": false,
    "deletable": true,
    "editable": true
   },
   "outputs": [],
   "source": [
    "controller = MPCController(sys, N, objective_norm, Q, R, P, X, U, X_N)"
   ]
  },
  {
   "cell_type": "markdown",
   "metadata": {
    "deletable": true,
    "editable": true
   },
   "source": [
    "We then simulate the closed loop system for $N_{sim}$ steps starting from the initial condition $x_0$."
   ]
  },
  {
   "cell_type": "code",
   "execution_count": 10,
   "metadata": {
    "collapsed": false,
    "deletable": true,
    "editable": true
   },
   "outputs": [],
   "source": [
    "N_sim = 50\n",
    "x_0 = np.array([[.45],[.5]])\n",
    "u = []\n",
    "x = []\n",
    "x.append(x_0)\n",
    "for k in range(N_sim):\n",
    "    u.append(controller.feedback(x[k]))\n",
    "    x.append(sys.A.dot(x[k]) + sys.B.dot(u[k]))"
   ]
  },
  {
   "cell_type": "markdown",
   "metadata": {
    "deletable": true,
    "editable": true
   },
   "source": [
    "We can plot the solution using the functions $\\texttt{plot_input_sequence(.)}$ and $\\texttt{plot_state_trajectory(.)}$"
   ]
  },
  {
   "cell_type": "code",
   "execution_count": 11,
   "metadata": {
    "collapsed": false,
    "deletable": true,
    "editable": true,
    "scrolled": false
   },
   "outputs": [
    {
     "data": {
      "image/png": "[encoded data removed]",
      "text/plain": [
       "<matplotlib.figure.Figure at 0x10b0cea50>"
      ]
     },
     "metadata": {},
     "output_type": "display_data"
    },
    {
     "data": {
      "image/png": "[encoded data removed]",
      "text/plain": [
       "<matplotlib.figure.Figure at 0x10b0da950>"
      ]
     },
     "metadata": {},
     "output_type": "display_data"
    }
   ],
   "source": [
    "mpc_plt.input_sequence(u, t_s, (u_min, u_max))\n",
    "plt.show()\n",
    "mpc_plt.state_trajectory(x, t_s, (x_min, x_max))\n",
    "plt.show()"
   ]
  },
  {
   "cell_type": "markdown",
   "metadata": {
    "deletable": true,
    "editable": true
   },
   "source": [
    "We can get the explict solution of the optimal control problem, solving the resulting Multi-Parametric Quadratic Program (mpQP)."
   ]
  },
  {
   "cell_type": "code",
   "execution_count": 12,
   "metadata": {
    "collapsed": false,
    "deletable": true,
    "editable": true
   },
   "outputs": [
    {
     "name": "stdout",
     "output_type": "stream",
     "text": [
      "Computing critical region for the active set []\n",
      "Computing critical region for the active set [0]\n",
      "Computing critical region for the active set [1]\n",
      "Computing critical region for the active set [3]\n",
      "Computing critical region for the active set [5]\n",
      "Computing critical region for the active set [9]\n",
      "Computing critical region for the active set [11]\n",
      "Computing critical region for the active set [15]\n",
      "Computing critical region for the active set [17]\n",
      "Computing critical region for the active set [21]\n",
      "Computing critical region for the active set [23]\n",
      "LICQ does not hold for the active set [0, 5]\n",
      "    unfeasible critical region detected\n",
      "Computing critical region for the active set [0, 21]\n",
      "Computing critical region for the active set [0, 27]\n",
      "LICQ does not hold for the active set [1, 3]\n",
      "    unfeasible critical region detected\n",
      "Computing critical region for the active set [1, 23]\n",
      "Computing critical region for the active set [1, 29]\n",
      "Computing critical region for the active set [3, 9]\n",
      "Computing critical region for the active set [5, 11]\n",
      "Computing critical region for the active set [9, 15]\n",
      "Computing critical region for the active set [11, 17]\n",
      "Computing critical region for the active set [15, 21]\n",
      "Computing critical region for the active set [17, 23]\n",
      "Computing critical region for the active set [0, 15, 21]\n",
      "Computing critical region for the active set [0, 21, 27]\n",
      "LICQ does not hold for the active set [0, 5, 27]\n",
      "    unfeasible critical region detected\n",
      "Computing critical region for the active set [0, 6, 27]\n",
      "Computing critical region for the active set [1, 17, 23]\n",
      "Computing critical region for the active set [1, 23, 29]\n",
      "LICQ does not hold for the active set [1, 3, 29]\n",
      "    unfeasible critical region detected\n",
      "Computing critical region for the active set [1, 7, 29]\n",
      "LICQ does not hold for the active set [1, 3, 9]\n",
      "    unfeasible critical region detected\n",
      "Computing critical region for the active set [3, 9, 15]\n",
      "LICQ does not hold for the active set [0, 5, 11]\n",
      "    unfeasible critical region detected\n",
      "Computing critical region for the active set [5, 11, 17]\n",
      "Computing critical region for the active set [9, 15, 21]\n",
      "Computing critical region for the active set [11, 17, 23]\n",
      "Computing critical region for the active set [15, 21, 27]\n",
      "Computing critical region for the active set [17, 23, 29]\n",
      "Computing critical region for the active set [0, 15, 21, 27]\n",
      "LICQ does not hold for the active set [0, 4, 21, 27]\n",
      "    unfeasible critical region detected\n",
      "Computing critical region for the active set [0, 6, 21, 27]\n",
      "Computing critical region for the active set [0, 21, 27, 32]\n",
      "LICQ does not hold for the active set [0, 5, 6, 27]\n",
      "    unfeasible critical region detected\n",
      "Computing critical region for the active set [0, 6, 27, 32]\n",
      "Computing critical region for the active set [1, 17, 23, 29]\n",
      "LICQ does not hold for the active set [1, 2, 23, 29]\n",
      "    unfeasible critical region detected\n",
      "Computing critical region for the active set [1, 7, 23, 29]\n",
      "Computing critical region for the active set [1, 23, 29, 33]\n",
      "LICQ does not hold for the active set [1, 3, 7, 29]\n",
      "    unfeasible critical region detected\n",
      "Computing critical region for the active set [1, 7, 29, 33]\n",
      "LICQ does not hold for the active set [1, 3, 9, 15]\n",
      "    unfeasible critical region detected\n",
      "Computing critical region for the active set [3, 9, 15, 21]\n",
      "LICQ does not hold for the active set [0, 5, 11, 17]\n",
      "    unfeasible critical region detected\n",
      "Computing critical region for the active set [5, 11, 17, 23]\n",
      "Computing critical region for the active set [9, 15, 21, 27]\n",
      "Computing critical region for the active set [11, 17, 23, 29]\n",
      "Computing critical region for the active set [4, 15, 21, 27]\n",
      "Computing critical region for the active set [2, 17, 23, 29]\n",
      "LICQ does not hold for the active set [0, 4, 15, 21, 27]\n",
      "    unfeasible critical region detected\n",
      "Computing critical region for the active set [0, 6, 21, 27, 32]\n",
      "LICQ does not hold for the active set [0, 4, 21, 27, 32]\n",
      "    unfeasible critical region detected\n",
      "Computing critical region for the active set [0, 10, 21, 27, 32]\n",
      "LICQ does not hold for the active set [0, 5, 6, 27, 32]\n",
      "    unfeasible critical region detected\n",
      "LICQ does not hold for the active set [1, 2, 17, 23, 29]\n",
      "    unfeasible critical region detected\n",
      "Computing critical region for the active set [1, 7, 23, 29, 33]\n",
      "LICQ does not hold for the active set [1, 2, 23, 29, 33]\n",
      "    unfeasible critical region detected\n",
      "Computing critical region for the active set [1, 8, 23, 29, 33]\n",
      "LICQ does not hold for the active set [1, 3, 7, 29, 33]\n",
      "    unfeasible critical region detected\n",
      "LICQ does not hold for the active set [1, 3, 9, 15, 21]\n",
      "    unfeasible critical region detected\n",
      "Computing critical region for the active set [3, 9, 15, 21, 27]\n",
      "LICQ does not hold for the active set [0, 5, 11, 17, 23]\n",
      "    unfeasible critical region detected\n",
      "Computing critical region for the active set [5, 11, 17, 23, 29]\n",
      "Computing critical region for the active set [4, 9, 15, 21, 27]\n",
      "Computing critical region for the active set [2, 11, 17, 23, 29]\n",
      "LICQ does not hold for the active set [0, 5, 6, 21, 27, 32]\n",
      "    unfeasible critical region detected\n",
      "LICQ does not hold for the active set [0, 6, 10, 21, 27, 32]\n",
      "    unfeasible critical region detected\n",
      "LICQ does not hold for the active set [0, 4, 10, 21, 27, 32]\n",
      "    unfeasible critical region detected\n",
      "LICQ does not hold for the active set [1, 3, 7, 23, 29, 33]\n",
      "    unfeasible critical region detected\n",
      "LICQ does not hold for the active set [1, 7, 8, 23, 29, 33]\n",
      "    unfeasible critical region detected\n",
      "LICQ does not hold for the active set [1, 2, 8, 23, 29, 33]\n",
      "    unfeasible critical region detected\n",
      "LICQ does not hold for the active set [1, 3, 9, 15, 21, 27]\n",
      "    unfeasible critical region detected\n",
      "LICQ does not hold for the active set [3, 4, 9, 15, 21, 27]\n",
      "    unfeasible critical region detected\n",
      "LICQ does not hold for the active set [0, 5, 11, 17, 23, 29]\n",
      "    unfeasible critical region detected\n",
      "LICQ does not hold for the active set [2, 5, 11, 17, 23, 29]\n",
      "    unfeasible critical region detected\n",
      "LICQ does not hold for the active set [0, 4, 9, 15, 21, 27]\n",
      "    unfeasible critical region detected\n",
      "LICQ does not hold for the active set [1, 2, 11, 17, 23, 29]\n",
      "    unfeasible critical region detected\n",
      "\n",
      "Explicit solution computed in 6.66311120987 s:\n",
      "parameter space partitioned in 55 critical regions.\n"
     ]
    }
   ],
   "source": [
    "controller.get_explicit_solution()"
   ]
  },
  {
   "cell_type": "markdown",
   "metadata": {
    "deletable": true,
    "editable": true
   },
   "source": [
    "We then check that the explicit solution and solution of the optimization give the same answer."
   ]
  },
  {
   "cell_type": "code",
   "execution_count": 13,
   "metadata": {
    "collapsed": false,
    "deletable": true,
    "editable": true
   },
   "outputs": [
    {
     "name": "stdout",
     "output_type": "stream",
     "text": [
      "Explicit solution:\n",
      "u* = [[-9.999999999999995], [-7.947787461512288], [-5.643265875742988], [-3.925471116327955], [-3.3688105428682555], [-2.641231581470425]],\n",
      "V* = 240.102874461\n",
      "Implicit solution:\n",
      "u* = [[-9.999999999812337], [-7.9477874362645355], [-5.643265839059579], [-3.9254711902207733], [-3.3688105515230156], [-2.6412315944807574]],\n",
      "V* = 240.102874461\n"
     ]
    }
   ],
   "source": [
    "u_explicit, V_explicit = controller.feedforward_explicit(x_0)\n",
    "u_implicit, V_implicit = controller.feedforward(x_0)\n",
    "print('Explicit solution:\\nu* = ' + str([u.flatten().tolist() for u in u_explicit]) + ',\\nV* = ' + str(V_explicit))\n",
    "print('Implicit solution:\\nu* = ' + str([u.flatten().tolist() for u in u_implicit]) + ',\\nV* = ' + str(V_implicit))"
   ]
  },
  {
   "cell_type": "markdown",
   "metadata": {
    "deletable": true,
    "editable": true
   },
   "source": [
    "We can plot the consequent state partion, the optimal control law, and the optimal value function."
   ]
  },
  {
   "cell_type": "code",
   "execution_count": 14,
   "metadata": {
    "collapsed": false,
    "deletable": true,
    "editable": true
   },
   "outputs": [
    {
     "ename": "TypeError",
     "evalue": "state_partition() takes at least 2 arguments (1 given)",
     "output_type": "error",
     "traceback": [
      "\u001b[0;31m---------------------------------------------------------------------------\u001b[0m",
      "\u001b[0;31mTypeError\u001b[0m                                 Traceback (most recent call last)",
      "\u001b[0;32m<ipython-input-14-8744c3a9397b>\u001b[0m in \u001b[0;36m<module>\u001b[0;34m()\u001b[0m\n\u001b[0;32m----> 1\u001b[0;31m \u001b[0mmpc_plt\u001b[0m\u001b[0;34m.\u001b[0m\u001b[0mstate_partition\u001b[0m\u001b[0;34m(\u001b[0m\u001b[0mcontroller\u001b[0m\u001b[0;34m.\u001b[0m\u001b[0mcritical_regions\u001b[0m\u001b[0;34m)\u001b[0m\u001b[0;34m\u001b[0m\u001b[0m\n\u001b[0m\u001b[1;32m      2\u001b[0m \u001b[0mplt\u001b[0m\u001b[0;34m.\u001b[0m\u001b[0mshow\u001b[0m\u001b[0;34m(\u001b[0m\u001b[0;34m)\u001b[0m\u001b[0;34m\u001b[0m\u001b[0m\n",
      "\u001b[0;31mTypeError\u001b[0m: state_partition() takes at least 2 arguments (1 given)"
     ]
    }
   ],
   "source": [
    "mpc_plt.state_partition(controller.critical_regions)\n",
    "plt.show()"
   ]
  },
  {
   "cell_type": "markdown",
   "metadata": {
    "deletable": true,
    "editable": true
   },
   "source": [
    "The Critical Regions with the same initial input can be merged as follows."
   ]
  },
  {
   "cell_type": "code",
   "execution_count": null,
   "metadata": {
    "collapsed": false,
    "deletable": true,
    "editable": true,
    "scrolled": false
   },
   "outputs": [],
   "source": [
    "mpc_plt.grouped_state_partition(controller.critical_regions)\n",
    "plt.show()"
   ]
  },
  {
   "cell_type": "markdown",
   "metadata": {
    "deletable": true,
    "editable": true
   },
   "source": [
    "We can also plot the feasible set of the mpQP, the optimal value function, and the state-space trajectory of the simulated trajectory."
   ]
  },
  {
   "cell_type": "code",
   "execution_count": null,
   "metadata": {
    "collapsed": false,
    "deletable": true,
    "editable": true
   },
   "outputs": [],
   "source": [
    "controller.condensed_program.feasible_set.plot(facecolor='white', edgecolor='black')\n",
    "mpc_plt.state_space_trajectory(x, color='red')\n",
    "mpc_plt.optimal_value_function(controller.critical_regions)\n",
    "plt.show()"
   ]
  }
 ],
 "metadata": {
  "celltoolbar": "Raw Cell Format",
  "kernelspec": {
   "display_name": "Python 2",
   "language": "python",
   "name": "python2"
  },
  "language_info": {
   "codemirror_mode": {
    "name": "ipython",
    "version": 2
   },
   "file_extension": ".py",
   "mimetype": "text/x-python",
   "name": "python",
   "nbconvert_exporter": "python",
   "pygments_lexer": "ipython2",
   "version": "2.7.13"
  }
 },
 "nbformat": 4,
 "nbformat_minor": 2
}
