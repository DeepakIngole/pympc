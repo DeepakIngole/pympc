{
 "cells": [
  {
   "cell_type": "code",
   "execution_count": 1,
   "metadata": {
    "collapsed": false,
    "deletable": true,
    "editable": true
   },
   "outputs": [],
   "source": [
    "%load_ext autoreload\n",
    "%autoreload 2"
   ]
  },
  {
   "cell_type": "code",
   "execution_count": 2,
   "metadata": {
    "collapsed": true,
    "deletable": true,
    "editable": true
   },
   "outputs": [],
   "source": [
    "import time\n",
    "import numpy as np\n",
    "import matplotlib.pyplot as plt\n",
    "from pympc.dynamical_systems import DTPWASystem, DTAffineSystem, dare, moas_closed_loop_from_orthogonal_domains\n",
    "from pympc.control import MPCHybridController\n",
    "from pympc.geometry.polytope import Polytope\n",
    "import pympc.plot as mpc_plt\n",
    "from copy import copy\n",
    "import director.viewerclient as vc\n",
    "from director.thirdparty import transformations"
   ]
  },
  {
   "cell_type": "code",
   "execution_count": 3,
   "metadata": {
    "collapsed": false,
    "deletable": true,
    "editable": true
   },
   "outputs": [],
   "source": [
    "class LabeledArray:\n",
    "    \n",
    "    def __init__(self, axis_labels, array=None):\n",
    "        self.axis_labels = axis_labels\n",
    "        if array is None:\n",
    "            self.array = np.zeros([len(label) for label in axis_labels])\n",
    "        else:\n",
    "            self.array = array\n",
    "        return\n",
    "    \n",
    "    def get_indices(self, labels):\n",
    "        if not isinstance(labels, tuple):\n",
    "             labels = (labels,)\n",
    "        return tuple(self.axis_labels[i].index(l) for i, l in enumerate(labels))\n",
    "    \n",
    "    def __getitem__(self, labels):\n",
    "        return self.array[self.get_indices(labels)]\n",
    "    \n",
    "    def __setitem__(self, labels, value):\n",
    "        self.array[self.get_indices(labels)] = value\n",
    "        return\n",
    "    \n",
    "    @property\n",
    "    def shape(self):\n",
    "        return self.array.shape"
   ]
  },
  {
   "cell_type": "markdown",
   "metadata": {
    "deletable": true,
    "editable": true
   },
   "source": [
    "parameters"
   ]
  },
  {
   "cell_type": "code",
   "execution_count": 4,
   "metadata": {
    "collapsed": true,
    "deletable": true,
    "editable": true
   },
   "outputs": [],
   "source": [
    "m = 1.\n",
    "I = 1.\n",
    "g = 10.\n",
    "h = .1\n",
    "mu = .5\n",
    "d = 1.\n",
    "tol = 1.e-4"
   ]
  },
  {
   "cell_type": "code",
   "execution_count": 5,
   "metadata": {
    "collapsed": false,
    "deletable": true,
    "editable": true
   },
   "outputs": [],
   "source": [
    "x_labels = ['qbx','qby','thb',\n",
    "    'qlfx','qlfy','qrfx','qrfy',\n",
    "    'qlhx','qlhy','qrhx','qrhy',\n",
    "    'vbx','vby','omb',\n",
    "    'vlfx','vlfy','vrfx','vrfy',\n",
    "    'vlhx','vlhy','vrhx','vrhy']\n",
    "u_labels = ['flfn','flft','frfn','frft',\n",
    "    'flhn','flht','frhn','frht',\n",
    "    'alfx','alfy','arfx','arfy',\n",
    "    'alhx','alhy','arhx','arhy']\n",
    "n_x = len(x_labels)\n",
    "n_u = len(u_labels)"
   ]
  },
  {
   "cell_type": "markdown",
   "metadata": {
    "deletable": true,
    "editable": true
   },
   "source": [
    "equilibrium state"
   ]
  },
  {
   "cell_type": "code",
   "execution_count": 6,
   "metadata": {
    "collapsed": true,
    "deletable": true,
    "editable": true
   },
   "outputs": [],
   "source": [
    "x_eq = LabeledArray([x_labels])\n",
    "x_eq['qbx'] = .5\n",
    "x_eq['qby'] = .5\n",
    "x_eq['qlfx'] = .7\n",
    "x_eq['qrfx'] = .3\n",
    "x_eq['qlhx'] = .8\n",
    "x_eq['qlhy'] = .6\n",
    "x_eq['qrhx'] = .2\n",
    "x_eq['qrhy'] = .6"
   ]
  },
  {
   "cell_type": "markdown",
   "metadata": {
    "deletable": true,
    "editable": true
   },
   "source": [
    "equilibrium input"
   ]
  },
  {
   "cell_type": "code",
   "execution_count": 7,
   "metadata": {
    "collapsed": false,
    "deletable": true,
    "editable": true
   },
   "outputs": [],
   "source": [
    "u_eq = LabeledArray([u_labels])\n",
    "u_eq['flfn'] = m*g/2.\n",
    "u_eq['frfn'] = m*g/2.\n",
    "u_eq['flhn'] = tol\n",
    "u_eq['frhn'] = tol"
   ]
  },
  {
   "cell_type": "markdown",
   "metadata": {
    "deletable": true,
    "editable": true
   },
   "source": [
    "dynamics"
   ]
  },
  {
   "cell_type": "code",
   "execution_count": 8,
   "metadata": {
    "collapsed": false,
    "deletable": true,
    "editable": true
   },
   "outputs": [],
   "source": [
    "A = LabeledArray([x_labels, x_labels])\n",
    "A['qbx','vbx'] = 1.\n",
    "A['qby','vby'] = 1.\n",
    "A['thb','omb'] = 1.\n",
    "A['qlfx','vlfx'] = 1.\n",
    "A['qlfy','vlfy'] = 1.\n",
    "A['qrfx','vrfx'] = 1.\n",
    "A['qrfy','vrfy'] = 1.\n",
    "A['qlhx','vlhx'] = 1.\n",
    "A['qlhy','vlhy'] = 1.\n",
    "A['qrhx','vrhx'] = 1.\n",
    "A['qrhy','vrhy'] = 1."
   ]
  },
  {
   "cell_type": "code",
   "execution_count": 9,
   "metadata": {
    "collapsed": true,
    "deletable": true,
    "editable": true
   },
   "outputs": [],
   "source": [
    "B = LabeledArray([x_labels, u_labels])\n",
    "\n",
    "# horizontal equilibrium body\n",
    "B['vbx','flft'] = -1./m\n",
    "B['vbx','frft'] = -1./m\n",
    "B['vbx','flhn'] = -1./m\n",
    "B['vbx','frhn'] = 1./m\n",
    "\n",
    "# vertical equilibrium body\n",
    "B['vby','flfn'] = 1./m\n",
    "B['vby','frfn'] = 1./m\n",
    "B['vby','flht'] = -1./m\n",
    "B['vby','frht'] = 1./m\n",
    "\n",
    "# rotational equilibrium body\n",
    "B['omb','flfn'] = (x_eq['qlfx'] - x_eq['qbx'])/I\n",
    "B['omb','flft'] = (x_eq['qlfy'] - x_eq['qby'])/I\n",
    "B['omb','frfn'] = (x_eq['qrfx'] - x_eq['qbx'])/I\n",
    "B['omb','frft'] = (x_eq['qrfy'] - x_eq['qby'])/I\n",
    "B['omb','flhn'] = (x_eq['qlhy'] - x_eq['qby'])/I\n",
    "B['omb','flht'] = (x_eq['qbx'] - x_eq['qlhx'])/I\n",
    "B['omb','frhn'] = (x_eq['qby'] - x_eq['qrhy'])/I\n",
    "B['omb','frht'] = (x_eq['qlhx'] - x_eq['qbx'])/I\n",
    "\n",
    "# limbs acceleration control\n",
    "B['vlfx','alfx'] = 1.\n",
    "B['vlfy','alfy'] = 1.\n",
    "B['vrfx','arfx'] = 1.\n",
    "B['vrfy','arfy'] = 1.\n",
    "B['vlhx','alhx'] = 1.\n",
    "B['vlhy','alhy'] = 1.\n",
    "B['vrhx','arhx'] = 1.\n",
    "B['vrhy','arhy'] = 1."
   ]
  },
  {
   "cell_type": "code",
   "execution_count": 10,
   "metadata": {
    "collapsed": false,
    "deletable": true,
    "editable": true
   },
   "outputs": [],
   "source": [
    "c = LabeledArray([x_labels])\n",
    "c['vby'] = -g\n",
    "c_translated = c.array + A.array.dot(x_eq.array) + B.array.dot(u_eq.array)"
   ]
  },
  {
   "cell_type": "code",
   "execution_count": 11,
   "metadata": {
    "collapsed": false,
    "deletable": true,
    "editable": true
   },
   "outputs": [],
   "source": [
    "S = DTAffineSystem.from_continuous(A.array, B.array, c_translated, h, method='zoh')"
   ]
  },
  {
   "cell_type": "markdown",
   "metadata": {
    "deletable": true,
    "editable": true
   },
   "source": [
    "limbs displacement from nominal position"
   ]
  },
  {
   "cell_type": "code",
   "execution_count": 12,
   "metadata": {
    "collapsed": false,
    "deletable": true,
    "editable": true
   },
   "outputs": [],
   "source": [
    "box_size = .15\n",
    "limb_x = ['qlfx','qrfx','qlhx','qrhx']\n",
    "limb_y = ['qlfy','qrfy','qlhy','qrhy']\n",
    "lhs = LabeledArray([limb_x + limb_y, x_labels])\n",
    "rhs = LabeledArray([limb_x + limb_y])\n",
    "for l in limb_x:\n",
    "    lhs[l,l] = 1.\n",
    "    lhs[l,'qbx'] = -1.\n",
    "    rhs[l] = x_eq[l] - x_eq['qbx']\n",
    "for l in limb_y:\n",
    "    lhs[l,l] = 1.\n",
    "    lhs[l,'qby'] = -1.\n",
    "    rhs[l] = x_eq[l] - x_eq['qby']\n",
    "X = Polytope(lhs.array, rhs.array + np.ones(rhs.shape)*box_size)\n",
    "X.add_facets(-lhs.array, np.ones(rhs.array.shape)*box_size - rhs.array)"
   ]
  },
  {
   "cell_type": "code",
   "execution_count": 13,
   "metadata": {
    "collapsed": false,
    "deletable": true,
    "editable": true
   },
   "outputs": [],
   "source": [
    "# body postion\n",
    "X.add_bounds(x_eq['qbx']-box_size, x_eq['qbx']+box_size, [x_labels.index('qbx')])\n",
    "X.add_bounds(x_eq['qby']-box_size, x_eq['qby']+box_size, [x_labels.index('qby')])\n",
    "# body angle\n",
    "X.add_bounds(-.1, .1, [x_labels.index('thb')])\n",
    "# body linear velocity\n",
    "X.add_bounds(-.5, .5, [x_labels.index('vbx')])\n",
    "X.add_bounds(-.5, .5, [x_labels.index('vby')])\n",
    "# body angular velocity\n",
    "X.add_bounds(-.1, .1, [x_labels.index('omb')])\n",
    "# limbs linear velocity\n",
    "X.add_bounds(np.vstack([-1.]*8), np.vstack([1.]*8), range(14,n_x))"
   ]
  },
  {
   "cell_type": "markdown",
   "metadata": {
    "collapsed": false,
    "deletable": true,
    "editable": true
   },
   "source": [
    "input limits"
   ]
  },
  {
   "cell_type": "code",
   "execution_count": 14,
   "metadata": {
    "collapsed": false,
    "deletable": true,
    "editable": true
   },
   "outputs": [],
   "source": [
    "limb_labels = ['lf','rf','lh','rh']\n",
    "\n",
    "# upper bound friction force\n",
    "lhs = LabeledArray([limb_labels, u_labels])\n",
    "rhs = LabeledArray([limb_labels])\n",
    "for l in limb_labels:\n",
    "    lhs[l,'f'+l+'t'] = 1.\n",
    "    lhs[l,'f'+l+'n'] = -mu\n",
    "U = Polytope(lhs.array, rhs.array)\n",
    "\n",
    "# lower bound friction force\n",
    "lhs = LabeledArray([limb_labels, u_labels])\n",
    "rhs = LabeledArray([limb_labels])\n",
    "for l in limb_labels:\n",
    "    lhs[l,'f'+l+'t'] = -1.\n",
    "    lhs[l,'f'+l+'n'] = -mu\n",
    "U.add_facets(lhs.array, rhs.array)\n",
    "\n",
    "# normal force bounds \n",
    "for l in ['flfn','frfn','flhn','frhn']:\n",
    "    i = u_labels.index(l)\n",
    "    U.add_bounds(-tol, 2*m*g, [i])\n",
    "\n",
    "# acceleration bounds\n",
    "a_min = - 1.\n",
    "a_max = - a_min\n",
    "for l in ['alfx','alfy','arfx','arfy','alhx','alhy','arhx','arhy']:\n",
    "    i = u_labels.index(l)\n",
    "    U.add_bounds(a_min, a_max, [i])"
   ]
  },
  {
   "cell_type": "code",
   "execution_count": 15,
   "metadata": {
    "collapsed": true,
    "deletable": true,
    "editable": true
   },
   "outputs": [],
   "source": [
    "def add_mode_constraints(mode, X, U):\n",
    "    if 'lf' in mode:\n",
    "        X.add_bounds(-tol, tol, [x_labels.index('qlfy')])\n",
    "        X.add_bounds(-tol, tol, [x_labels.index('vlfx')])\n",
    "    else:\n",
    "        X.add_lower_bounds(tol, [x_labels.index('qlfy')])\n",
    "        U.add_upper_bounds(2.*tol, [u_labels.index('flfn')])\n",
    "    if 'rf' in mode:\n",
    "        X.add_bounds(-tol, tol, [x_labels.index('qrfy')])\n",
    "        X.add_bounds(-tol, tol, [x_labels.index('vrfx')])\n",
    "    else:\n",
    "        X.add_lower_bounds(tol, [x_labels.index('qrfy')])\n",
    "        U.add_upper_bounds(2.*tol, [u_labels.index('frfn')])\n",
    "    if 'lh' in mode:\n",
    "        X.add_bounds(d-tol, d+tol, [x_labels.index('qlhx')])\n",
    "        X.add_bounds(-tol, tol, [x_labels.index('vlhy')])\n",
    "    else:\n",
    "        X.add_upper_bounds(d-tol, [x_labels.index('qlhx')])\n",
    "        U.add_upper_bounds(2.*tol, [u_labels.index('flhn')])\n",
    "    if 'rh' in mode:\n",
    "        X.add_bounds(-tol, tol, [x_labels.index('qrhx')])\n",
    "        X.add_bounds(-tol, tol, [x_labels.index('vrhy')])\n",
    "    else:\n",
    "        X.add_lower_bounds(tol, [x_labels.index('qrhx')])\n",
    "        U.add_upper_bounds(2.*tol, [u_labels.index('frhn')])\n",
    "    return X, U"
   ]
  },
  {
   "cell_type": "code",
   "execution_count": 16,
   "metadata": {
    "collapsed": true,
    "deletable": true,
    "editable": true
   },
   "outputs": [],
   "source": [
    "modes = [\n",
    "        ['lf','rf'],\n",
    "        ['lf','rf','lh'],\n",
    "        ['lf','rf','rh'],\n",
    "        ['lf'],\n",
    "        ['lf','lh'],\n",
    "        ['lf','rh'],\n",
    "        ['rf'],\n",
    "        ['rf','lh'],\n",
    "        ['rf','rh'],\n",
    "        ]\n",
    "S_list = [S]*len(modes)"
   ]
  },
  {
   "cell_type": "code",
   "execution_count": 17,
   "metadata": {
    "collapsed": false,
    "deletable": true,
    "editable": true
   },
   "outputs": [],
   "source": [
    "X_list = []\n",
    "U_list = []\n",
    "for mode in modes:\n",
    "    X_mode = copy(X)\n",
    "    U_mode = copy(U)\n",
    "    X_mode, U_mode = add_mode_constraints(mode, X_mode, U_mode)\n",
    "    lhs_X = X_mode.b - X_mode.A.dot(np.reshape(x_eq.array, (n_x,1)))\n",
    "    lhs_U = U_mode.b - U_mode.A.dot(np.reshape(u_eq.array, (n_u,1)))\n",
    "    X_mode = Polytope(X_mode.A, lhs_X)\n",
    "    U_mode = Polytope(U_mode.A, lhs_U)\n",
    "    X_mode.assemble()\n",
    "    U_mode.assemble()\n",
    "    X_list.append(X_mode)\n",
    "    U_list.append(U_mode)"
   ]
  },
  {
   "cell_type": "code",
   "execution_count": 18,
   "metadata": {
    "collapsed": false,
    "deletable": true,
    "editable": true
   },
   "outputs": [],
   "source": [
    "pwa_sys = DTPWASystem.from_orthogonal_domains(S_list, X_list, U_list)"
   ]
  },
  {
   "cell_type": "code",
   "execution_count": 26,
   "metadata": {
    "collapsed": false,
    "deletable": true,
    "editable": true
   },
   "outputs": [],
   "source": [
    "N = 10\n",
    "Q = LabeledArray([x_labels, x_labels])\n",
    "for l in x_labels:\n",
    "    Q[l,l] = 1.\n",
    "for l in limb_x:\n",
    "    Q[l,'qbx'] = -1.\n",
    "for l in limb_y:\n",
    "    Q[l,'qby'] = -1.\n",
    "Q = Q.array.T.dot(Q.array)\n",
    "R = np.eye(n_u)/10.\n",
    "objective_norm = 'two'"
   ]
  },
  {
   "cell_type": "code",
   "execution_count": 27,
   "metadata": {
    "collapsed": false,
    "deletable": true,
    "editable": true
   },
   "outputs": [],
   "source": [
    "# terminal set and cost\n",
    "P, K = dare(\n",
    "    S_list[0].A,\n",
    "    S_list[0].B,\n",
    "    Q,\n",
    "    R\n",
    "    )\n",
    "#X_N = moas_closed_loop_from_orthogonal_domains(S_list[0].A,S_list[0].B,K,X_list[0],U_list[0])\n",
    "ub = np.ones((n_x,1))*tol/10.\n",
    "lb = -ub\n",
    "X_N = Polytope.from_bounds(lb, ub)\n",
    "X_N.assemble()\n",
    "X_N = X_list[0]"
   ]
  },
  {
   "cell_type": "code",
   "execution_count": 28,
   "metadata": {
    "collapsed": false,
    "deletable": true,
    "editable": true
   },
   "outputs": [],
   "source": [
    "# hybrid controller\n",
    "controller = MPCHybridController(pwa_sys, N, objective_norm, Q, R, P, X_N)"
   ]
  },
  {
   "cell_type": "code",
   "execution_count": 29,
   "metadata": {
    "collapsed": false,
    "deletable": true,
    "editable": true
   },
   "outputs": [
    {
     "name": "stdout",
     "output_type": "stream",
     "text": [
      "Time step 0: (0, 0, 0, 0, 0, 0, 0, 0, 0, 0).\n",
      "Time step 1: (0, 0, 0, 0, 0, 0, 0, 0, 0, 0).\n",
      "Time step 2: (0, 0, 0, 0, 0, 0, 0, 0, 0, 0).\n",
      "Time step 3: (0, 0, 0, 0, 0, 0, 0, 0, 0, 0).\n",
      "Time step 4: (0, 0, 0, 0, 0, 0, 0, 0, 0, 0).\n",
      "Time step 5: (0, 0, 0, 0, 0, 0, 0, 0, 0, 0).\n",
      "Time step 6: (0, 0, 0, 0, 0, 0, 0, 0, 0, 0).\n",
      "Time step 7: (0, 0, 0, 0, 0, 0, 0, 0, 0, 0).\n",
      "Time step 8: (0, 0, 0, 0, 0, 0, 0, 0, 0, 0).\n",
      "Time step 9: (0, 0, 0, 0, 0, 0, 0, 0, 0, 0).\n"
     ]
    }
   ],
   "source": [
    "N_sim = 10\n",
    "terminal_mode = 0\n",
    "x0 = LabeledArray([x_labels])\n",
    "x0['vbx'] = .5\n",
    "x0['vlhx'] = .0\n",
    "u = []\n",
    "x = [np.reshape(x0.array, (n_x,1))]\n",
    "u_ws = None\n",
    "x_ws = None\n",
    "ss_ws = None\n",
    "for k in range(N_sim):\n",
    "    u_k, x_k, ss_k = controller.feedforward(x[k], u_ws, x_ws, ss_ws)[0:3]\n",
    "    print('Time step ' + str(k) + ': ' + str(ss_k) + '.')\n",
    "    #u_ws = u_k[1:] + [K.dot(x_k[-1])]\n",
    "    u_ws = u_k[1:] + [np.zeros((n_u,1))]\n",
    "    #x_ws = x_k[1:] + [pwa_sys.simulate(x_k[-1], [u_ws[-1]])[0][1]]\n",
    "    x_ws = x_k[1:] + [np.zeros((n_x,1))]\n",
    "    ss_ws = ss_k[1:] + (terminal_mode,)\n",
    "    x_next = pwa_sys.simulate(x[k], [u_k[0]])[0][1]\n",
    "    #print 'Planner-simulator missmatch:', np.linalg.norm(x_next - x_k[1])\n",
    "    u.append(u_k[0])\n",
    "    x.append(x_next)"
   ]
  },
  {
   "cell_type": "code",
   "execution_count": null,
   "metadata": {
    "collapsed": false,
    "deletable": true,
    "editable": true
   },
   "outputs": [],
   "source": [
    "mpc_plt.input_sequence(u, h)\n",
    "plt.show()\n",
    "mpc_plt.state_trajectory(x, h)\n",
    "plt.show()"
   ]
  },
  {
   "cell_type": "markdown",
   "metadata": {
    "deletable": true,
    "editable": true
   },
   "source": [
    "## Visualizer"
   ]
  },
  {
   "cell_type": "code",
   "execution_count": 23,
   "metadata": {
    "collapsed": false,
    "deletable": true,
    "editable": true
   },
   "outputs": [],
   "source": [
    "from pympc.models.box_atlas_visualizer import BoxAtlasVisualizer"
   ]
  },
  {
   "cell_type": "code",
   "execution_count": 24,
   "metadata": {
    "collapsed": false
   },
   "outputs": [],
   "source": [
    "left_wall = Polytope.from_bounds(np.array([[1.],[0.]]), np.array([[1.01],[1.]]))\n",
    "left_wall.assemble()\n",
    "right_wall = Polytope.from_bounds(np.array([[-.01],[0.]]), np.array([[0.],[1.]]))\n",
    "right_wall.assemble()\n",
    "floor = Polytope.from_bounds(np.array([[0.],[-.01]]), np.array([[1.],[0.]]))\n",
    "floor.assemble()\n",
    "walls = [left_wall, right_wall, floor]\n",
    "\n",
    "vis = BoxAtlasVisualizer(x_eq, walls)"
   ]
  },
  {
   "cell_type": "code",
   "execution_count": 30,
   "metadata": {
    "collapsed": false
   },
   "outputs": [],
   "source": [
    "x_k = LabeledArray([x_labels], x[0])\n",
    "vis.visualize(x_k)\n",
    "time.sleep(10 * h)\n",
    "for k in range(N_sim):\n",
    "    x_k = LabeledArray([x_labels], x[k])\n",
    "    vis.visualize(x_k)\n",
    "    time.sleep(h)"
   ]
  },
  {
   "cell_type": "code",
   "execution_count": null,
   "metadata": {
    "collapsed": false
   },
   "outputs": [],
   "source": [
    "x_test = LabeledArray([x_labels], x[9])\n",
    "x_test['qrhx']"
   ]
  },
  {
   "cell_type": "code",
   "execution_count": null,
   "metadata": {
    "collapsed": false
   },
   "outputs": [],
   "source": [
    "x[1]"
   ]
  },
  {
   "cell_type": "code",
   "execution_count": null,
   "metadata": {
    "collapsed": true
   },
   "outputs": [],
   "source": []
  }
 ],
 "metadata": {
  "kernelspec": {
   "display_name": "Python 2",
   "language": "python",
   "name": "python2"
  },
  "language_info": {
   "codemirror_mode": {
    "name": "ipython",
    "version": 2
   },
   "file_extension": ".py",
   "mimetype": "text/x-python",
   "name": "python",
   "nbconvert_exporter": "python",
   "pygments_lexer": "ipython2",
   "version": "2.7.13"
  }
 },
 "nbformat": 4,
 "nbformat_minor": 2
}
