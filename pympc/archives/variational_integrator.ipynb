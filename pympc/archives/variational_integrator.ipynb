{
 "cells": [
  {
   "cell_type": "code",
   "execution_count": 1,
   "metadata": {
    "collapsed": false,
    "deletable": true,
    "editable": true
   },
   "outputs": [],
   "source": [
    "using JuMP, Gurobi, PyPlot"
   ]
  },
  {
   "cell_type": "code",
   "execution_count": 2,
   "metadata": {
    "collapsed": false,
    "deletable": true,
    "editable": true
   },
   "outputs": [
    {
     "data": {
      "text/plain": [
       "ld (generic function with 1 method)"
      ]
     },
     "execution_count": 2,
     "metadata": {},
     "output_type": "execute_result"
    }
   ],
   "source": [
    "function l(q, qd)\n",
    "    .5*m*(qd^2) - m*g*q\n",
    "    end\n",
    "\n",
    "function ld(qk, qkp1)\n",
    "    q = qk\n",
    "    qd = (qkp1 - qk)/h\n",
    "    l(q, qd)\n",
    "    end"
   ]
  },
  {
   "cell_type": "code",
   "execution_count": 3,
   "metadata": {
    "collapsed": false,
    "deletable": true,
    "editable": true
   },
   "outputs": [
    {
     "data": {
      "text/plain": [
       "reference (generic function with 1 method)"
      ]
     },
     "execution_count": 3,
     "metadata": {},
     "output_type": "execute_result"
    }
   ],
   "source": [
    "function solution(q0, qd0, t)\n",
    "    -.5*g*t^2 + qd0*t + q0\n",
    "end\n",
    "\n",
    "function reference(q0, qd0, t_array)\n",
    "    q = []\n",
    "    for t in t_array\n",
    "        push!(q, solution(q0, qd0, t))\n",
    "    end\n",
    "    q\n",
    "end"
   ]
  },
  {
   "cell_type": "code",
   "execution_count": 13,
   "metadata": {
    "collapsed": false,
    "deletable": true,
    "editable": true
   },
   "outputs": [
    {
     "name": "stderr",
     "output_type": "stream",
     "text": [
      "WARNING: Method definition simulate(Any, Any, Any) in module Main at In[9]:2 overwritten at In[13]:2.\n"
     ]
    },
    {
     "data": {
      "text/plain": [
       "simulate (generic function with 1 method)"
      ]
     },
     "execution_count": 13,
     "metadata": {},
     "output_type": "execute_result"
    }
   ],
   "source": [
    "function simulate(q0, qN, N) \n",
    "    m = Model(solver=GurobiSolver(OutputFlag=0))\n",
    "    @variable(m, q[0:N] <= 10)\n",
    "    @constraint(m, q[0] == q0)\n",
    "    @constraint(m, q[N] == qN)\n",
    "    L = 0\n",
    "    for i = 0:N-1\n",
    "        L += ld(q[i], q[i+1])\n",
    "    end\n",
    "    @objective(m, Min, L)\n",
    "    solve(m)\n",
    "    getvalue(q)\n",
    "end"
   ]
  },
  {
   "cell_type": "code",
   "execution_count": 14,
   "metadata": {
    "collapsed": false,
    "deletable": true,
    "editable": true
   },
   "outputs": [
    {
     "data": {
      "text/plain": [
       "4"
      ]
     },
     "execution_count": 14,
     "metadata": {},
     "output_type": "execute_result"
    }
   ],
   "source": [
    "m = 1\n",
    "g = 10\n",
    "h = .01\n",
    "N = 500\n",
    "q0 = 2\n",
    "qN = 4"
   ]
  },
  {
   "cell_type": "code",
   "execution_count": 15,
   "metadata": {
    "collapsed": false,
    "deletable": true,
    "editable": true
   },
   "outputs": [
    {
     "data": {
      "image/png": "[encoded data removed]",
      "text/plain": [
       "PyPlot.Figure(PyObject <matplotlib.figure.Figure object at 0x31f154390>)"
      ]
     },
     "metadata": {},
     "output_type": "display_data"
    },
    {
     "name": "stdout",
     "output_type": "stream",
     "text": [
      "Academic license - for non-commercial use only\n"
     ]
    },
    {
     "data": {
      "text/plain": [
       "1-element Array{Any,1}:\n",
       " PyObject <matplotlib.lines.Line2D object at 0x31f3fced0>"
      ]
     },
     "execution_count": 15,
     "metadata": {},
     "output_type": "execute_result"
    }
   ],
   "source": [
    "time = linspace(0, N*h, N+1)\n",
    "q = simulate(q0, qN, N)[:]\n",
    "ref = reference(q0, (q[2]-q[1])/h, time)\n",
    "plot(time, q)\n",
    "#plot(time, ref)"
   ]
  },
  {
   "cell_type": "code",
   "execution_count": null,
   "metadata": {
    "collapsed": true,
    "deletable": true,
    "editable": true
   },
   "outputs": [],
   "source": []
  }
 ],
 "metadata": {
  "kernelspec": {
   "display_name": "Julia 0.5.0",
   "language": "julia",
   "name": "julia-0.5"
  },
  "language_info": {
   "file_extension": ".jl",
   "mimetype": "application/julia",
   "name": "julia",
   "version": "0.5.0"
  }
 },
 "nbformat": 4,
 "nbformat_minor": 2
}
