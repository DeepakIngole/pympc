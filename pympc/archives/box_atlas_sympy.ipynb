{
 "cells": [
  {
   "cell_type": "code",
   "execution_count": 1,
   "metadata": {
    "collapsed": false,
    "deletable": true,
    "editable": true
   },
   "outputs": [],
   "source": [
    "%load_ext autoreload\n",
    "%autoreload 2"
   ]
  },
  {
   "cell_type": "code",
   "execution_count": 2,
   "metadata": {
    "collapsed": true,
    "deletable": true,
    "editable": true
   },
   "outputs": [],
   "source": [
    "import numpy as np\n",
    "import sympy as sp\n",
    "from collections import OrderedDict\n",
    "from pympc.algebra import clean_matrix"
   ]
  },
  {
   "cell_type": "code",
   "execution_count": 3,
   "metadata": {
    "collapsed": true,
    "deletable": true,
    "editable": true
   },
   "outputs": [],
   "source": [
    "def symVec(length, name):\n",
    "    return sp.Matrix([[sp.symbols(name + '_' + str(i))] for i in range(length)])"
   ]
  },
  {
   "cell_type": "code",
   "execution_count": 4,
   "metadata": {
    "collapsed": true,
    "deletable": true,
    "editable": true
   },
   "outputs": [],
   "source": [
    "p = {\n",
    "    'mb': 1.,\n",
    "    'ml': .1,\n",
    "    'ib': 1.,\n",
    "    'mu': .5,\n",
    "    'g': np.array([[0.], [-10.]]),\n",
    "    'h': .1,\n",
    "}\n",
    "\n",
    "q_bounds = OrderedDict([\n",
    "    ('bl', {'min': np.array([[-.2],[-.1]]), 'max': np.array([[.2],[.1]])}),\n",
    "    ('ba', {'min': np.array([[-.1]]), 'max': np.array([[.1]])}),\n",
    "    ('lf', {'min': np.array([[.0],[-.7]]), 'max': np.array([[.4],[-.3]])}),\n",
    "    ('rf', {'min': np.array([[-.4],[-.7]]), 'max': np.array([[0.],[-.3]])}),\n",
    "    ('lh', {'min': np.array([[.2],[-.2]]), 'max': np.array([[.4],[.2]])}),\n",
    "    ('rh', {'min': np.array([[-.4],[-.2]]), 'max': np.array([[-.2],[.2]])}),\n",
    "    ])\n",
    "\n",
    "v_bounds = OrderedDict([\n",
    "    ('bl', {'min': np.array([[-2.],[-2.]]), 'max': np.array([[2.],[2.]])}),\n",
    "    ('ba', {'min': np.array([[-.5]]), 'max': np.array([[.5]])}),\n",
    "    ('lf', {'min': -np.ones((2,1)), 'max': np.ones((2,1))}),\n",
    "    ('rf', {'min': -np.ones((2,1)), 'max': np.ones((2,1))}),\n",
    "    ('lh', {'min': -2*np.ones((2,1)), 'max': 2*np.ones((2,1))}),\n",
    "    ('rh', {'min': -2*np.ones((2,1)), 'max': 2*np.ones((2,1))}),\n",
    "    ])"
   ]
  },
  {
   "cell_type": "code",
   "execution_count": 5,
   "metadata": {
    "collapsed": false,
    "deletable": true,
    "editable": true
   },
   "outputs": [],
   "source": [
    "class Limb():\n",
    "    '''\n",
    "    Domains of the limbs are polyhedrons in the form {q | A q <= b}.\n",
    "    The contact surface coincides with the first inequality, i.e. A_0 q = b_0.\n",
    "    '''\n",
    "    def __init__(self, A, b, q_nom):\n",
    "        self.A = A\n",
    "        self.b = b\n",
    "        self.q_nom = q_nom\n",
    "        self.n = - A[0,:].reshape(A.shape[1], 1)\n",
    "        self.d = - b[0,0]\n",
    "        rotation = np.array([[0., -1.],[1., 0.]])\n",
    "        self.t = rotation.dot(self.n)\n",
    "        self.R = np.hstack((self.n, self.t))\n",
    "\n",
    "# left hand\n",
    "A_lh = np.array([[1., 0.],[0., -1.]])\n",
    "b_lh = np.array([[.5],[.5]])\n",
    "q_lh = np.array([[.3], [.0]])\n",
    "lh = Limb(A_lh, b_lh, q_lh)\n",
    "        \n",
    "# right hand\n",
    "A_rh = np.array([[-1., 0.],[0., -1.]])\n",
    "b_rh = np.array([[.5],[.5]])\n",
    "q_rh = np.array([[-.3], [.0]])\n",
    "rh = Limb(A_rh, b_rh, q_rh)\n",
    "\n",
    "# left foot\n",
    "A_lf = np.array([[0., -1.],[-1., 0.]])\n",
    "b_lf = np.array([[.5],[.5]])\n",
    "q_lf = np.array([[.2], [-.5]])\n",
    "lf = Limb(A_lf, b_lf, q_lf)\n",
    "\n",
    "# right foot\n",
    "A_rf = np.array([[0., -1.],[-1., 0.]])\n",
    "b_rf = np.array([[.5],[.5]])\n",
    "q_rf = np.array([[-.2], [-.5]])\n",
    "rf = Limb(A_rf, b_rf, q_rf)\n",
    "\n",
    "# list of limbs\n",
    "limbs = {'lf': lf, 'rf': rf, 'rh': rh, 'lh': lh}"
   ]
  },
  {
   "cell_type": "code",
   "execution_count": 6,
   "metadata": {
    "collapsed": false,
    "deletable": true,
    "editable": true
   },
   "outputs": [],
   "source": [
    "q = OrderedDict([\n",
    "    ('bl', symVec(2, 'qbl')),\n",
    "    ('ba', symVec(1, 'qba'))\n",
    "])\n",
    "for label, limb in limbs.items():\n",
    "    q[label] = symVec(2, 'q'+label)\n",
    "q_vec = sp.Matrix([q_i for q_i in q.values()])\n",
    "\n",
    "v = OrderedDict([\n",
    "    ('bl', symVec(2, 'vbl')),\n",
    "    ('ba', symVec(1, 'vba'))\n",
    "])\n",
    "for label in limbs.keys():\n",
    "    v[label] = symVec(2, 'v'+label)\n",
    "v_vec = sp.Matrix([v_i for v_i in v.values()])"
   ]
  },
  {
   "cell_type": "code",
   "execution_count": 7,
   "metadata": {
    "collapsed": true,
    "deletable": true,
    "editable": true
   },
   "outputs": [],
   "source": [
    "q_vec_nom = sp.Matrix([[0.]]*3)\n",
    "for limb in limbs.values():\n",
    "    q_vec_nom = q_vec_nom.col_join(sp.Matrix(limb.q_nom))\n",
    "    \n",
    "v_vec_nom = sp.Matrix([[0.]]*v_vec.shape[0])"
   ]
  },
  {
   "cell_type": "code",
   "execution_count": 8,
   "metadata": {
    "collapsed": false,
    "deletable": true,
    "editable": true
   },
   "outputs": [],
   "source": [
    "def rotation(th):\n",
    "    return sp.Matrix([[sp.cos(th), -sp.sin(th)],[sp.sin(th), sp.cos(th)]])\n",
    "\n",
    "positions = OrderedDict([('bl', q['bl']), ('ba', q['ba'])])\n",
    "for label in limbs.keys():\n",
    "    positions[label] = q['bl'] + rotation(q['ba'][0,0])*q[label]\n",
    "    \n",
    "velocities = OrderedDict([('bl', v['bl']), ('ba', v['ba'])])\n",
    "for label in limbs.keys():\n",
    "    velocities[label] = positions[label].jacobian(q_vec)*v_vec"
   ]
  },
  {
   "cell_type": "code",
   "execution_count": 9,
   "metadata": {
    "collapsed": false,
    "deletable": true,
    "editable": true
   },
   "outputs": [],
   "source": [
    "kinetic_energy = .5*p['mb']*velocities['bl'].T*(velocities['bl'])\n",
    "kinetic_energy += .5*p['ib']*velocities['ba']*(velocities['ba'])\n",
    "for label in limbs.keys():\n",
    "    kinetic_energy += .5*p['ml']*velocities[label].T*velocities[label]\n",
    "\n",
    "potential_energy = -p['mb']*p['g'].T*positions['bl']\n",
    "for label in limbs.keys():\n",
    "    potential_energy += -p['ml']*p['g'].T*positions[label]\n",
    "\n",
    "lagrangian = kinetic_energy - potential_energy"
   ]
  },
  {
   "cell_type": "code",
   "execution_count": 10,
   "metadata": {
    "collapsed": false,
    "deletable": true,
    "editable": true
   },
   "outputs": [],
   "source": [
    "u = OrderedDict()\n",
    "generalized_forces = np.zeros(q_vec.shape)\n",
    "for label, limb in limbs.items():\n",
    "    u[label] = symVec(2, 'u'+label)\n",
    "    displacement = positions[label] - positions['bl']\n",
    "    displacement = (positions[label] - positions['bl']).jacobian(q_vec)\n",
    "    generalized_forces = generalized_forces + displacement.T*u[label]\n",
    "u_vec = sp.Matrix([u_i for u_i in u.values()])\n",
    "wl = p['g']*p['ml']\n",
    "u_vec_nom = sp.Matrix(list(-wl)*len(limbs))\n",
    "\n",
    "f = OrderedDict()\n",
    "for label, limb in limbs.items():\n",
    "    f[label] = symVec(2, 'f'+label)\n",
    "    displacement = positions[label].jacobian(q_vec)\n",
    "    R = sp.Matrix(limb.R)\n",
    "    generalized_forces = generalized_forces + displacement.T*R*f[label]\n",
    "f_vec = sp.Matrix([f_i for f_i in f.values()])\n",
    "f_vec_nom = sp.Matrix([[0.]]*f_vec.shape[0])"
   ]
  },
  {
   "cell_type": "markdown",
   "metadata": {
    "deletable": true,
    "editable": true
   },
   "source": [
    "Equations of motion in the form\n",
    "\n",
    "$M(q) \\dot v + c(q, v) = J_f(q) f + J_u(q) u$"
   ]
  },
  {
   "cell_type": "code",
   "execution_count": 25,
   "metadata": {
    "collapsed": false,
    "deletable": true,
    "editable": true
   },
   "outputs": [
    {
     "name": "stdout",
     "output_type": "stream",
     "text": [
      "Matrix([[0, -1.00000000000000, 0, -1.00000000000000, 1.00000000000000, 0, -1.00000000000000, 0]])\n",
      "Matrix([[1.00000000000000, 0, 1.00000000000000, 0, 0, 1.00000000000000, 0, -1.00000000000000]])\n",
      "Matrix([[1.0*qlf_0*cos(qba_0) - 1.0*qlf_1*sin(qba_0), 1.0*qlf_0*sin(qba_0) + 1.0*qlf_1*cos(qba_0), 1.0*qrf_0*cos(qba_0) - 1.0*qrf_1*sin(qba_0), 1.0*qrf_0*sin(qba_0) + 1.0*qrf_1*cos(qba_0), -1.0*qrh_0*sin(qba_0) - 1.0*qrh_1*cos(qba_0), 1.0*qrh_0*cos(qba_0) - 1.0*qrh_1*sin(qba_0), 1.0*qlh_0*sin(qba_0) + 1.0*qlh_1*cos(qba_0), -1.0*qlh_0*cos(qba_0) + 1.0*qlh_1*sin(qba_0)]])\n",
      "Matrix([[1.0*sin(qba_0), -1.0*cos(qba_0), 0, 0, 0, 0, 0, 0]])\n",
      "Matrix([[1.0*cos(qba_0), 1.0*sin(qba_0), 0, 0, 0, 0, 0, 0]])\n",
      "Matrix([[0, 0, 1.0*sin(qba_0), -1.0*cos(qba_0), 0, 0, 0, 0]])\n",
      "Matrix([[0, 0, 1.0*cos(qba_0), 1.0*sin(qba_0), 0, 0, 0, 0]])\n",
      "Matrix([[0, 0, 0, 0, 1.0*cos(qba_0), 1.0*sin(qba_0), 0, 0]])\n",
      "Matrix([[0, 0, 0, 0, -1.0*sin(qba_0), 1.0*cos(qba_0), 0, 0]])\n",
      "Matrix([[0, 0, 0, 0, 0, 0, -1.0*cos(qba_0), -1.0*sin(qba_0)]])\n",
      "Matrix([[0, 0, 0, 0, 0, 0, 1.0*sin(qba_0), -1.0*cos(qba_0)]])\n"
     ]
    }
   ],
   "source": [
    "M = lagrangian.jacobian(v_vec).T.jacobian(v_vec)\n",
    "c = lagrangian.jacobian(v_vec).T.jacobian(q_vec)*v_vec - lagrangian.jacobian(q_vec).T\n",
    "Ju = generalized_forces.jacobian(u_vec)\n",
    "Jf = generalized_forces.jacobian(f_vec)\n",
    "\n",
    "#M = sp.simplify(M)\n",
    "#c = sp.simplify(c)\n",
    "#Ju = sp.simplify(Ju)\n",
    "#Jf = sp.simplify(Jf)\n",
    "for i in range(Jf.shape[0]):\n",
    "    print Jf[i,:]"
   ]
  },
  {
   "cell_type": "code",
   "execution_count": 12,
   "metadata": {
    "collapsed": false,
    "deletable": true,
    "editable": true
   },
   "outputs": [],
   "source": [
    "def matrix_subs(M, x_list, x_list_subs):\n",
    "    M_subs = M\n",
    "    for j, x in enumerate(x_list):\n",
    "        for i in range(x.shape[0]):\n",
    "            M_subs = M_subs.subs(x[i], x_list_subs[j][i])\n",
    "    return M_subs"
   ]
  },
  {
   "cell_type": "markdown",
   "metadata": {
    "deletable": true,
    "editable": true
   },
   "source": [
    "Linearization:\n",
    "\n",
    "$M(\\bar q) \\dot v + c(\\bar q, \\bar v) +\n",
    "\\frac{\\partial c}{\\partial q}(\\bar q, \\bar v) (q - \\bar q) +\n",
    "\\frac{\\partial c}{\\partial v}(\\bar q, \\bar v) (v - \\bar v) =\n",
    "J_u(\\bar q) u +\n",
    "\\frac{\\partial J_u u}{\\partial q} (\\bar q, \\bar u) (q - \\bar q) + \n",
    "J_f(\\bar q) f +\n",
    "\\frac{\\partial J_f f}{\\partial q} (\\bar q, \\bar f) (q - \\bar q)$"
   ]
  },
  {
   "cell_type": "code",
   "execution_count": 13,
   "metadata": {
    "collapsed": false,
    "deletable": true,
    "editable": true
   },
   "outputs": [],
   "source": [
    "M_nom = matrix_subs(M, [q_vec], [q_vec_nom])\n",
    "c_nom = matrix_subs(c, [q_vec, v_vec], [q_vec_nom, v_vec_nom])\n",
    "c_q = c.jacobian(q_vec)\n",
    "c_q_nom = matrix_subs(c_q, [q_vec, v_vec], [q_vec_nom, v_vec_nom])\n",
    "c_v = c.jacobian(v_vec)\n",
    "c_v_nom = matrix_subs(c_v, [q_vec, v_vec], [q_vec_nom, v_vec_nom])\n",
    "Ju_nom = matrix_subs(Ju, [q_vec], [q_vec_nom])\n",
    "Ju_u_q = (Ju*u_vec).jacobian(q_vec)\n",
    "Ju_u_q_nom = matrix_subs(Ju_u_q, [q_vec, u_vec], [q_vec_nom, u_vec_nom])\n",
    "Jf_nom = matrix_subs(Jf, [q_vec], [q_vec_nom])\n",
    "Jf_f_q = (Jf*f_vec).jacobian(q_vec)\n",
    "Jf_f_q_nom = matrix_subs(Jf_f_q, [q_vec, f_vec], [q_vec_nom, f_vec_nom])"
   ]
  },
  {
   "cell_type": "markdown",
   "metadata": {
    "collapsed": true,
    "deletable": true,
    "editable": true
   },
   "source": [
    "State space representation\n",
    "\n",
    "$\n",
    "\\begin{bmatrix}\n",
    "\\dot q \\\\ \\dot v\n",
    "\\end{bmatrix}\n",
    "=\n",
    "\\begin{bmatrix}\n",
    "0 & I \\\\\n",
    "M(\\bar q)^{-1} \\left(\n",
    "- \\frac{\\partial c}{\\partial q}(\\bar q, \\bar v)\n",
    "+ \\frac{\\partial J_u u}{\\partial q} (\\bar q, \\bar u)\n",
    "+ \\frac{\\partial J_f f}{\\partial q} (\\bar q, \\bar f)\n",
    "\\right) &\n",
    "-M(\\bar q)^{-1}\n",
    "\\frac{\\partial c}{\\partial v}(\\bar q, \\bar v)\n",
    "\\end{bmatrix}\n",
    "\\begin{bmatrix}\n",
    "q - \\bar q \\\\ v - \\bar v\n",
    "\\end{bmatrix}\n",
    "+\n",
    "\\begin{bmatrix}\n",
    "0 \\\\ M(\\bar q)^{-1} J_u(\\bar q) \n",
    "\\end{bmatrix}\n",
    "(u - \\bar u)\n",
    "+\n",
    "\\begin{bmatrix}\n",
    "0 \\\\ M(\\bar q)^{-1} J_f(\\bar q) \n",
    "\\end{bmatrix}\n",
    "(f - \\bar f)\n",
    "+\n",
    "\\begin{bmatrix}\n",
    "0\n",
    "\\\\\n",
    "M(\\bar q)^{-1} \\left(\n",
    "-c(\\bar q, \\bar v)\n",
    "+ J_u(\\bar q) \\bar u\n",
    "+ J_f(\\bar q) \\bar f\n",
    "\\right)\n",
    "\\end{bmatrix}\n",
    "$\n"
   ]
  },
  {
   "cell_type": "code",
   "execution_count": 14,
   "metadata": {
    "collapsed": false,
    "deletable": true,
    "editable": true
   },
   "outputs": [],
   "source": [
    "A00 = sp.zeros(q_vec.shape[0])\n",
    "A01 = sp.eye(q_vec.shape[0])\n",
    "A10 = M_nom.inv()*(-c_q_nom + Ju_u_q_nom + Jf_f_q_nom)\n",
    "A11 = - M_nom.inv()*c_v_nom\n",
    "A = sp.Matrix([A00.row_join(A01), A10.row_join(A11)])\n",
    "Bu0 = sp.zeros(q_vec.shape[0], u_vec.shape[0])\n",
    "Bu1 = M_nom.inv()*Ju_nom\n",
    "Bu = sp.Matrix([Bu0, Bu1])\n",
    "Bf0 = sp.zeros(q_vec.shape[0], f_vec.shape[0])\n",
    "Bf1 = M_nom.inv()*Jf_nom\n",
    "Bf = sp.Matrix([Bf0, Bf1])\n",
    "c0 = sp.zeros(q_vec.shape[0], 1)\n",
    "c1 = M_nom.inv()*(- c_nom + Ju_nom*u_vec_nom + Jf_nom*f_vec_nom)\n",
    "c = sp.Matrix([c0, c1])"
   ]
  },
  {
   "cell_type": "code",
   "execution_count": 15,
   "metadata": {
    "collapsed": false,
    "deletable": true,
    "editable": true
   },
   "outputs": [],
   "source": [
    "def matrix2numpy(m):\n",
    "    a = np.empty(m.shape)\n",
    "    for i in range(m.rows):\n",
    "        for j in range(m.cols):\n",
    "            a[i, j] = m[i, j]\n",
    "    return clean_matrix(a)\n",
    "\n",
    "A = matrix2numpy(A)\n",
    "Bu = matrix2numpy(Bu)\n",
    "Bf = matrix2numpy(Bf)\n",
    "c = matrix2numpy(c)"
   ]
  },
  {
   "cell_type": "markdown",
   "metadata": {
    "deletable": true,
    "editable": true
   },
   "source": [
    "Solve the complementarity"
   ]
  },
  {
   "cell_type": "code",
   "execution_count": 16,
   "metadata": {
    "collapsed": false,
    "deletable": true,
    "editable": true
   },
   "outputs": [
    {
     "ename": "SyntaxError",
     "evalue": "invalid syntax (<ipython-input-16-5f591d8b65fe>, line 4)",
     "output_type": "error",
     "traceback": [
      "\u001b[0;36m  File \u001b[0;32m\"<ipython-input-16-5f591d8b65fe>\"\u001b[0;36m, line \u001b[0;32m4\u001b[0m\n\u001b[0;31m    q_limb = l['d']*\u001b[0m\n\u001b[0m                    ^\u001b[0m\n\u001b[0;31mSyntaxError\u001b[0m\u001b[0;31m:\u001b[0m invalid syntax\n"
     ]
    }
   ],
   "source": [
    "active_contacts = ['lf','rf']\n",
    "for contact in active_contacts:\n",
    "    l = limbs[contact]\n",
    "    q_limb = l['d']*l['n'] \n"
   ]
  },
  {
   "cell_type": "code",
   "execution_count": 17,
   "metadata": {
    "collapsed": false,
    "deletable": true,
    "editable": true
   },
   "outputs": [
    {
     "data": {
      "text/plain": [
       "array([[  0.,   0.,   0.,   0.,   0.,   0.,   0.,   0.],\n",
       "       [  0.,   0.,   0.,   0.,   0.,   0.,   0.,   0.],\n",
       "       [  0.,   0.,   0.,   0.,   0.,   0.,   0.,   0.],\n",
       "       [  0.,   0.,   0.,   0.,   0.,   0.,   0.,   0.],\n",
       "       [  0.,   0.,   0.,   0.,   0.,   0.,   0.,   0.],\n",
       "       [  0.,   0.,   0.,   0.,   0.,   0.,   0.,   0.],\n",
       "       [  0.,   0.,   0.,   0.,   0.,   0.,   0.,   0.],\n",
       "       [  0.,   0.,   0.,   0.,   0.,   0.,   0.,   0.],\n",
       "       [  0.,   0.,   0.,   0.,   0.,   0.,   0.,   0.],\n",
       "       [  0.,   0.,   0.,   0.,   0.,   0.,   0.,   0.],\n",
       "       [  0.,   0.,   0.,   0.,   0.,   0.,   0.,   0.],\n",
       "       [  0.,   0.,   0.,   0.,   0.,   0.,   0.,   0.],\n",
       "       [  0.,   0.,   0.,   0.,   0.,   0.,   0.,   0.],\n",
       "       [  0.,   0.,   0.,   0.,   0.,   0.,   0.,   0.],\n",
       "       [  0., -10.,   0.,   0.,   0.,   0.,   0.,   0.],\n",
       "       [ 10.,   0.,   0.,   0.,   0.,   0.,   0.,   0.],\n",
       "       [  0.,   0.,   0., -10.,   0.,   0.,   0.,   0.],\n",
       "       [  0.,   0.,  10.,   0.,   0.,   0.,   0.,   0.],\n",
       "       [  0.,   0.,   0.,   0.,  10.,   0.,   0.,   0.],\n",
       "       [  0.,   0.,   0.,   0.,   0.,  10.,   0.,   0.],\n",
       "       [  0.,   0.,   0.,   0.,   0.,   0., -10.,   0.],\n",
       "       [  0.,   0.,   0.,   0.,   0.,   0.,   0., -10.]])"
      ]
     },
     "execution_count": 17,
     "metadata": {},
     "output_type": "execute_result"
    }
   ],
   "source": [
    "Bf"
   ]
  },
  {
   "cell_type": "code",
   "execution_count": 18,
   "metadata": {
    "collapsed": false,
    "deletable": true,
    "editable": true
   },
   "outputs": [
    {
     "data": {
      "text/plain": [
       "OrderedDict([('bl', Matrix([\n",
       "              [qbl_0],\n",
       "              [qbl_1]])), ('ba', Matrix([[qba_0]])), ('lf', Matrix([\n",
       "              [qlf_0],\n",
       "              [qlf_1]])), ('rf', Matrix([\n",
       "              [qrf_0],\n",
       "              [qrf_1]])), ('rh', Matrix([\n",
       "              [qrh_0],\n",
       "              [qrh_1]])), ('lh', Matrix([\n",
       "              [qlh_0],\n",
       "              [qlh_1]]))])"
      ]
     },
     "execution_count": 18,
     "metadata": {},
     "output_type": "execute_result"
    }
   ],
   "source": [
    "q"
   ]
  },
  {
   "cell_type": "code",
   "execution_count": null,
   "metadata": {
    "collapsed": true,
    "deletable": true,
    "editable": true
   },
   "outputs": [],
   "source": [
    "potentia"
   ]
  }
 ],
 "metadata": {
  "kernelspec": {
   "display_name": "Python 2",
   "language": "python",
   "name": "python2"
  },
  "language_info": {
   "codemirror_mode": {
    "name": "ipython",
    "version": 2
   },
   "file_extension": ".py",
   "mimetype": "text/x-python",
   "name": "python",
   "nbconvert_exporter": "python",
   "pygments_lexer": "ipython2",
   "version": "2.7.13"
  }
 },
 "nbformat": 4,
 "nbformat_minor": 2
}
