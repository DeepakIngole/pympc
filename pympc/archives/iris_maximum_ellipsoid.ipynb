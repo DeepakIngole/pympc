{
 "cells": [
  {
   "cell_type": "code",
   "execution_count": 2,
   "metadata": {
    "collapsed": false,
    "deletable": true,
    "editable": true
   },
   "outputs": [
    {
     "ename": "AttributeError",
     "evalue": "'module' object has no attribute 'inner_ellipsoid'",
     "output_type": "error",
     "traceback": [
      "\u001b[0;31m---------------------------------------------------------------------------\u001b[0m",
      "\u001b[0;31mAttributeError\u001b[0m                            Traceback (most recent call last)",
      "\u001b[0;32m<ipython-input-2-ae047d0f53a9>\u001b[0m in \u001b[0;36m<module>\u001b[0;34m()\u001b[0m\n\u001b[1;32m      8\u001b[0m \u001b[0;34m\u001b[0m\u001b[0m\n\u001b[1;32m      9\u001b[0m \u001b[0;31m# Inner ellipsoid, computed by solving an SDP in Mosek\u001b[0m\u001b[0;34m\u001b[0m\u001b[0;34m\u001b[0m\u001b[0m\n\u001b[0;32m---> 10\u001b[0;31m \u001b[0mellipsoid\u001b[0m \u001b[0;34m=\u001b[0m \u001b[0mirispy\u001b[0m\u001b[0;34m.\u001b[0m\u001b[0minner_ellipsoid\u001b[0m\u001b[0;34m(\u001b[0m\u001b[0mpolyhedron\u001b[0m\u001b[0;34m)\u001b[0m\u001b[0;34m\u001b[0m\u001b[0m\n\u001b[0m\u001b[1;32m     11\u001b[0m \u001b[0;34m\u001b[0m\u001b[0m\n\u001b[1;32m     12\u001b[0m \u001b[0;32massert\u001b[0m\u001b[0;34m(\u001b[0m\u001b[0mnp\u001b[0m\u001b[0;34m.\u001b[0m\u001b[0mallclose\u001b[0m\u001b[0;34m(\u001b[0m\u001b[0mellipsoid\u001b[0m\u001b[0;34m.\u001b[0m\u001b[0mgetD\u001b[0m\u001b[0;34m(\u001b[0m\u001b[0;34m)\u001b[0m\u001b[0;34m,\u001b[0m \u001b[0;34m[\u001b[0m\u001b[0;36m0.5\u001b[0m\u001b[0;34m,\u001b[0m \u001b[0;36m0.5\u001b[0m\u001b[0;34m]\u001b[0m\u001b[0;34m)\u001b[0m\u001b[0;34m)\u001b[0m\u001b[0;34m\u001b[0m\u001b[0m\n",
      "\u001b[0;31mAttributeError\u001b[0m: 'module' object has no attribute 'inner_ellipsoid'"
     ]
    }
   ],
   "source": [
    "import irispy\n",
    "import numpy as np\n",
    "\n",
    "# Polyhedron from [0, 0] to [1, 1]\n",
    "A = np.vstack((np.eye(2), -np.eye(2)))\n",
    "b = np.array([1.0, 1.0, 0.0, 0.0])\n",
    "polyhedron = irispy.Polyhedron(A, b)\n",
    "\n",
    "# Inner ellipsoid, computed by solving an SDP in Mosek\n",
    "ellipsoid = irispy.inner_ellipsoid(polyhedron)\n",
    "\n",
    "assert(np.allclose(ellipsoid.getD(), [0.5, 0.5]))\n",
    "assert(np.allclose(ellipsoid.getC(), np.array([[0.5, 0], [0, 0.5]])))"
   ]
  },
  {
   "cell_type": "code",
   "execution_count": null,
   "metadata": {
    "collapsed": false,
    "deletable": true,
    "editable": true
   },
   "outputs": [],
   "source": [
    "%pylab inline\n",
    "\n",
    "fig = figure()\n",
    "ax = fig.add_subplot(1, 1, 1)\n",
    "polyhedron.draw(ax)\n",
    "ellipsoid.draw(ax)\n",
    "\n",
    "# adjust the axis limits so the polytope and ellipsoid are visible\n",
    "ax.relim()\n",
    "ax.autoscale_view()"
   ]
  },
  {
   "cell_type": "code",
   "execution_count": 6,
   "metadata": {
    "collapsed": false,
    "deletable": true,
    "editable": true
   },
   "outputs": [
    {
     "data": {
      "text/plain": [
       "array([[  4.99999986e-01,   9.14494804e-20],\n",
       "       [  9.14494804e-20,   4.99999986e-01]])"
      ]
     },
     "execution_count": 6,
     "metadata": {},
     "output_type": "execute_result"
    }
   ],
   "source": [
    "ellipsoid.getC()"
   ]
  },
  {
   "cell_type": "code",
   "execution_count": null,
   "metadata": {
    "collapsed": true,
    "deletable": true,
    "editable": true
   },
   "outputs": [],
   "source": []
  }
 ],
 "metadata": {
  "kernelspec": {
   "display_name": "Python 2",
   "language": "python",
   "name": "python2"
  },
  "language_info": {
   "codemirror_mode": {
    "name": "ipython",
    "version": 2
   },
   "file_extension": ".py",
   "mimetype": "text/x-python",
   "name": "python",
   "nbconvert_exporter": "python",
   "pygments_lexer": "ipython2",
   "version": "2.7.13"
  }
 },
 "nbformat": 4,
 "nbformat_minor": 2
}
