{
 "cells": [
  {
   "cell_type": "markdown",
   "metadata": {
    "deletable": true,
    "editable": true
   },
   "source": [
    "# Toy example of inner approximation of feasibles sets"
   ]
  },
  {
   "cell_type": "code",
   "execution_count": 1,
   "metadata": {
    "collapsed": false,
    "deletable": true,
    "editable": true
   },
   "outputs": [],
   "source": [
    "%load_ext autoreload\n",
    "%autoreload 2"
   ]
  },
  {
   "cell_type": "code",
   "execution_count": 2,
   "metadata": {
    "collapsed": true,
    "deletable": true,
    "editable": true
   },
   "outputs": [],
   "source": [
    "import time\n",
    "import numpy as np\n",
    "import matplotlib.pyplot as plt\n",
    "from pympc.geometry.polytope import Polytope\n",
    "from pympc.geometry.convex_hull import PolytopeProjectionInnerApproximation"
   ]
  },
  {
   "cell_type": "markdown",
   "metadata": {
    "deletable": true,
    "editable": true
   },
   "source": [
    "Create a synthetic feasible set"
   ]
  },
  {
   "cell_type": "code",
   "execution_count": 3,
   "metadata": {
    "collapsed": false,
    "deletable": true,
    "editable": true
   },
   "outputs": [
    {
     "data": {
      "text/plain": [
       "<pympc.geometry.polytope.Polytope instance at 0x10b32ea28>"
      ]
     },
     "execution_count": 3,
     "metadata": {},
     "output_type": "execute_result"
    }
   ],
   "source": [
    "m = 20\n",
    "A = np.array([[- np.cos(2. * k * np.pi / m), - np.sin(2. * k * np.pi / m)] for k in range(m)])\n",
    "b = np.ones((m, 1))\n",
    "p = Polytope(A, b)\n",
    "p.assemble()"
   ]
  },
  {
   "cell_type": "markdown",
   "metadata": {
    "deletable": true,
    "editable": true
   },
   "source": [
    "First sample"
   ]
  },
  {
   "cell_type": "code",
   "execution_count": 4,
   "metadata": {
    "collapsed": false,
    "deletable": true,
    "editable": true
   },
   "outputs": [
    {
     "data": {
      "image/png": "[encoded data removed]",
      "text/plain": [
       "<matplotlib.figure.Figure at 0x10b332250>"
      ]
     },
     "metadata": {},
     "output_type": "display_data"
    }
   ],
   "source": [
    "sample_1 = np.array([[.0],[.5]])\n",
    "fig = plt.figure(figsize=(2.,2.))\n",
    "p.plot(facecolor='w', label='Exact feasible set')\n",
    "plt.scatter(sample_1[0,0], sample_1[1,0], color='r', zorder=2)\n",
    "plt.axis('equal')\n",
    "fig = plt.gcf()\n",
    "#fig.savefig(\"first_sample.pdf\", bbox_inches='tight')\n",
    "plt.show()"
   ]
  },
  {
   "cell_type": "markdown",
   "metadata": {
    "deletable": true,
    "editable": true
   },
   "source": [
    "Include first point"
   ]
  },
  {
   "cell_type": "code",
   "execution_count": 5,
   "metadata": {
    "collapsed": false,
    "deletable": true,
    "editable": true
   },
   "outputs": [
    {
     "data": {
      "image/png": "[encoded data removed]",
      "text/plain": [
       "<matplotlib.figure.Figure at 0x10b659b50>"
      ]
     },
     "metadata": {},
     "output_type": "display_data"
    }
   ],
   "source": [
    "color = np.array([.7,1.,.7])\n",
    "fig = plt.figure(figsize=(2.,2.))\n",
    "p_inner = PolytopeProjectionInnerApproximation(A, b, [0,1])\n",
    "#p_inner_plot = p_inner.include_point(sample_1)[0]\n",
    "p_inner.include_point(sample_1)\n",
    "p_inner_plot = Polytope(p_inner.hull.A, p_inner.hull.b)\n",
    "p_inner_plot.assemble()\n",
    "p.plot(facecolor='w')\n",
    "p_inner_plot.plot(facecolor=color)\n",
    "plt.scatter(sample_1[0,0], sample_1[1,0], color='r', zorder=2)\n",
    "plt.axis('equal')\n",
    "plt.xticks([], [])\n",
    "plt.yticks([], [])\n",
    "fig = plt.gcf()\n",
    "#fig.savefig(\"chm_2.pdf\", bbox_inches='tight')\n",
    "plt.show()"
   ]
  },
  {
   "cell_type": "markdown",
   "metadata": {
    "deletable": true,
    "editable": true
   },
   "source": [
    "Second sample"
   ]
  },
  {
   "cell_type": "code",
   "execution_count": 6,
   "metadata": {
    "collapsed": false,
    "deletable": true,
    "editable": true
   },
   "outputs": [
    {
     "data": {
      "image/png": "[encoded data removed]",
      "text/plain": [
       "<matplotlib.figure.Figure at 0x10b6c3ad0>"
      ]
     },
     "metadata": {},
     "output_type": "display_data"
    }
   ],
   "source": [
    "sample_2 = np.array([[.6],[-.6]])\n",
    "fig = plt.figure(figsize=(2.,2.))\n",
    "p.plot(facecolor='w')\n",
    "plt.scatter(sample_1[0,0], sample_1[1,0], color='r', zorder=2)\n",
    "plt.scatter(sample_2[0,0], sample_2[1,0], color='b', zorder=2)\n",
    "p_inner_plot.plot(facecolor=color)\n",
    "plt.axis('equal')\n",
    "plt.xticks([], [])\n",
    "plt.yticks([], [])\n",
    "fig = plt.gcf()\n",
    "#fig.savefig(\"chm_3.pdf\", bbox_inches='tight')\n",
    "plt.show()"
   ]
  },
  {
   "cell_type": "markdown",
   "metadata": {
    "deletable": true,
    "editable": true
   },
   "source": [
    "Inclusion second sample"
   ]
  },
  {
   "cell_type": "markdown",
   "metadata": {
    "collapsed": false,
    "deletable": true,
    "editable": true
   },
   "source": [
    "p_list = p_inner.include_point(sample_2)\n",
    "for i, p_inner_plot in enumerate(p_list[1:]):\n",
    "    fig = plt.figure(figsize=(2.,2.))\n",
    "    p.plot(facecolor='w', label='Exact projection')\n",
    "    plt.scatter(sample_1[0,0], sample_1[1,0], color='r', label='First sample', zorder=2)\n",
    "    plt.scatter(sample_2[0,0], sample_2[1,0], color='b', label='Second sample', zorder=2)\n",
    "    p_inner_plot.plot(facecolor=color, label='Inner approximation')\n",
    "    plt.axis('equal')\n",
    "    #plt.legend(loc=2)\n",
    "    plt.xticks([], [])\n",
    "    plt.yticks([], [])\n",
    "    fig = plt.gcf()\n",
    "    fig.savefig('chm_'+str(i+4)+'.pdf', bbox_inches='tight')\n",
    "    plt.show()"
   ]
  },
  {
   "cell_type": "code",
   "execution_count": 7,
   "metadata": {
    "collapsed": false,
    "deletable": true,
    "editable": true
   },
   "outputs": [
    {
     "data": {
      "image/png": "[encoded data removed]",
      "text/plain": [
       "<matplotlib.figure.Figure at 0x10b5d2790>"
      ]
     },
     "metadata": {},
     "output_type": "display_data"
    }
   ],
   "source": [
    "p_inner.include_point(sample_2)\n",
    "p_inner_plot = Polytope(p_inner.hull.A, p_inner.hull.b)\n",
    "p_inner_plot.assemble()\n",
    "fig = plt.figure(figsize=(2.,2.))\n",
    "p.plot(facecolor='w')\n",
    "plt.scatter(sample_1[0,0], sample_1[1,0], color='r', zorder=2)\n",
    "plt.scatter(sample_2[0,0], sample_2[1,0], color='b', zorder=2)\n",
    "p_inner_plot.plot(facecolor=color)\n",
    "plt.axis('equal')\n",
    "plt.xticks([], [])\n",
    "plt.yticks([], [])\n",
    "fig = plt.gcf()\n",
    "#fig.savefig('chm_'+str(i+4)+'.pdf', bbox_inches='tight')\n",
    "plt.show()"
   ]
  },
  {
   "cell_type": "markdown",
   "metadata": {
    "collapsed": false,
    "deletable": true,
    "editable": true
   },
   "source": [
    "Fake plot for the legend"
   ]
  },
  {
   "cell_type": "code",
   "execution_count": 8,
   "metadata": {
    "collapsed": false,
    "deletable": true,
    "editable": true
   },
   "outputs": [
    {
     "data": {
      "image/png": "[encoded data removed]",
      "text/plain": [
       "<matplotlib.figure.Figure at 0x10b6142d0>"
      ]
     },
     "metadata": {},
     "output_type": "display_data"
    }
   ],
   "source": [
    "fig = plt.figure(figsize=(2.,2.))\n",
    "p.plot(facecolor='w', label='Exact feasible set')\n",
    "plt.scatter(sample_1[0,0], sample_1[1,0], color='r', label='First sample')\n",
    "plt.scatter(sample_2[0,0], sample_2[1,0], color='b', label='Second sample')\n",
    "p_inner_plot.plot(facecolor=color, label='Inner approximation')\n",
    "p.plot(facecolor='w')\n",
    "a = Polytope.from_bounds(-np.ones((2,1))*2., np.ones((2,1))*2.)\n",
    "a.assemble()\n",
    "a.plot(facecolor='w', edgecolor='w')\n",
    "plt.axis('equal')\n",
    "plt.legend(loc=10)\n",
    "plt.axis('off')\n",
    "fig = plt.gcf()\n",
    "#fig.savefig('chm_legend.pdf', bbox_inches='tight')\n",
    "plt.show()"
   ]
  },
  {
   "cell_type": "code",
   "execution_count": null,
   "metadata": {
    "collapsed": true,
    "deletable": true,
    "editable": true
   },
   "outputs": [],
   "source": []
  }
 ],
 "metadata": {
  "kernelspec": {
   "display_name": "Python 2",
   "language": "python",
   "name": "python2"
  },
  "language_info": {
   "codemirror_mode": {
    "name": "ipython",
    "version": 2
   },
   "file_extension": ".py",
   "mimetype": "text/x-python",
   "name": "python",
   "nbconvert_exporter": "python",
   "pygments_lexer": "ipython2",
   "version": "2.7.13"
  }
 },
 "nbformat": 4,
 "nbformat_minor": 2
}
