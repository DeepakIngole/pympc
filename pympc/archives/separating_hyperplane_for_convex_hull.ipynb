{
 "cells": [
  {
   "cell_type": "code",
   "execution_count": 1,
   "metadata": {
    "collapsed": false,
    "deletable": true,
    "editable": true
   },
   "outputs": [],
   "source": [
    "%load_ext autoreload\n",
    "%autoreload 2"
   ]
  },
  {
   "cell_type": "code",
   "execution_count": 2,
   "metadata": {
    "collapsed": true,
    "deletable": true,
    "editable": true
   },
   "outputs": [],
   "source": [
    "import numpy as np\n",
    "from scipy.spatial import ConvexHull\n",
    "import matplotlib.pyplot as plt\n",
    "from pympc.geometry.polytope import Polytope\n",
    "from pympc.optimization.pnnls import linear_program\n",
    "from time import time"
   ]
  },
  {
   "cell_type": "markdown",
   "metadata": {
    "deletable": true,
    "editable": true
   },
   "source": [
    "random points"
   ]
  },
  {
   "cell_type": "code",
   "execution_count": 9,
   "metadata": {
    "collapsed": false,
    "deletable": true,
    "editable": true
   },
   "outputs": [],
   "source": [
    "n_points = 1000\n",
    "n_dimensions = 20\n",
    "points = [np.random.rand(n_dimensions, 1) for i in range(n_points)]\n",
    "test_point = np.random.rand(n_dimensions, 1)"
   ]
  },
  {
   "cell_type": "markdown",
   "metadata": {
    "deletable": true,
    "editable": true
   },
   "source": [
    "convex hull and matrix multiplication"
   ]
  },
  {
   "cell_type": "code",
   "execution_count": 4,
   "metadata": {
    "collapsed": false,
    "deletable": true,
    "editable": true
   },
   "outputs": [
    {
     "name": "stdout",
     "output_type": "stream",
     "text": [
      "(701345, 10)\n"
     ]
    }
   ],
   "source": [
    "hull = ConvexHull(np.hstack(points).T)\n",
    "A = hull.equations[:,:-1]\n",
    "b = - hull.equations[:,-1:]\n",
    "print A.shape"
   ]
  },
  {
   "cell_type": "code",
   "execution_count": 5,
   "metadata": {
    "collapsed": false,
    "deletable": true,
    "editable": true
   },
   "outputs": [
    {
     "name": "stdout",
     "output_type": "stream",
     "text": [
      "0.443485377356\n",
      "0.0524070262909\n"
     ]
    }
   ],
   "source": [
    "tic = time()\n",
    "print np.max(A.dot(test_point) - b)\n",
    "print time() - tic"
   ]
  },
  {
   "cell_type": "markdown",
   "metadata": {
    "deletable": true,
    "editable": true
   },
   "source": [
    "convex hull linear program"
   ]
  },
  {
   "cell_type": "code",
   "execution_count": 12,
   "metadata": {
    "collapsed": true,
    "deletable": true,
    "editable": true
   },
   "outputs": [],
   "source": [
    "def point_in_convex_hull(point, hull_points):\n",
    "    \"\"\"\n",
    "    Checks if the point p is inside the convex hull of the points {v_1, ..., v_n}.\n",
    "    It solves the linear program\n",
    "    J^* := max_{a_1, ..., a_n} min({a_1, ..., a_n})\n",
    "         = - min_{a_1, ..., a_n} max({-a_1, ..., -a_n})\n",
    "    subject to\n",
    "    \\sum_{i = 1}^n a_i = 1\n",
    "    \\sum_{i = 1}^n a_i v_i = p\n",
    "    If J^* >= 0 then p \\in conv({v_1, ..., v_n}).\n",
    "    \"\"\"\n",
    "        \n",
    "    # sum of the coefficients equal to one\n",
    "    n_h = len(hull_points)\n",
    "    lhs_eq = np.ones((1, n_h))\n",
    "    rhs_eq = np.ones((1, 1))\n",
    "\n",
    "    # linear combination of the points of the hull equal to the new point\n",
    "    lhs_eq = np.vstack((lhs_eq, np.hstack(hull_points)))\n",
    "    rhs_eq = np.vstack((rhs_eq, point))\n",
    "\n",
    "    # max function (with slack variable)\n",
    "    lhs_eq = np.hstack((lhs_eq, np.zeros((lhs_eq.shape[0], 1))))\n",
    "    lhs_ineq = np.hstack((-np.eye(n_h), np.ones((n_h, 1))))\n",
    "    rhs_ineq = np.zeros((n_h, 1))\n",
    "\n",
    "    # cost function\n",
    "    f = np.zeros((n_h+1, 1))\n",
    "    f[-1, 0] = 1.\n",
    "\n",
    "    # solve the linear program\n",
    "    tic = time()\n",
    "    sol = linear_program(-f, lhs_ineq, rhs_ineq, lhs_eq, rhs_eq)\n",
    "    print time() - tic\n",
    "    return sol.min < 0."
   ]
  },
  {
   "cell_type": "code",
   "execution_count": 13,
   "metadata": {
    "collapsed": false,
    "deletable": true,
    "editable": true
   },
   "outputs": [
    {
     "name": "stdout",
     "output_type": "stream",
     "text": [
      "9.38059210777\n",
      "10.5299301147\n"
     ]
    },
    {
     "data": {
      "text/plain": [
       "False"
      ]
     },
     "execution_count": 13,
     "metadata": {},
     "output_type": "execute_result"
    }
   ],
   "source": [
    "point_in_convex_hull(test_point, points)"
   ]
  },
  {
   "cell_type": "markdown",
   "metadata": {},
   "source": [
    "separating hyperplane"
   ]
  },
  {
   "cell_type": "code",
   "execution_count": 15,
   "metadata": {
    "collapsed": false
   },
   "outputs": [
    {
     "name": "stdout",
     "output_type": "stream",
     "text": [
      "0.0\n",
      "0.000197172164917\n"
     ]
    }
   ],
   "source": [
    "eps = 1.e-3\n",
    "f = np.zeros((n_dimensions+1, 1))\n",
    "lhs = np.hstack(points).T\n",
    "lhs = np.hstack((lhs, - np.ones((n_points, 1))))\n",
    "lhs = np.vstack((lhs, np.hstack((- test_point.T, np.ones((1,1))))))\n",
    "rhs = -np.ones((n_points + 1, 1))*eps\n",
    "sol = linear_program(f, lhs, rhs)\n",
    "tic = time()\n",
    "print sol.min\n",
    "print time() - tic"
   ]
  },
  {
   "cell_type": "markdown",
   "metadata": {
    "deletable": true,
    "editable": true
   },
   "source": [
    "plot if 2d"
   ]
  },
  {
   "cell_type": "code",
   "execution_count": null,
   "metadata": {
    "collapsed": false,
    "deletable": true,
    "editable": true
   },
   "outputs": [],
   "source": [
    "p = Polytope(A, b)\n",
    "p.assemble()"
   ]
  },
  {
   "cell_type": "code",
   "execution_count": null,
   "metadata": {
    "collapsed": false,
    "deletable": true,
    "editable": true
   },
   "outputs": [],
   "source": [
    "p.plot(alpha=0.5, facecolor='w')\n",
    "plt.scatter([point[0,0] for point in points], [point[1,0] for point in points])\n",
    "plt.scatter(test_point[0,:], test_point[1,:])\n",
    "plt.show()"
   ]
  },
  {
   "cell_type": "code",
   "execution_count": null,
   "metadata": {
    "collapsed": false
   },
   "outputs": [],
   "source": [
    "np.max(A.dot(test_point) - b)"
   ]
  },
  {
   "cell_type": "code",
   "execution_count": null,
   "metadata": {
    "collapsed": true
   },
   "outputs": [],
   "source": []
  }
 ],
 "metadata": {
  "kernelspec": {
   "display_name": "Python 2",
   "language": "python",
   "name": "python2"
  },
  "language_info": {
   "codemirror_mode": {
    "name": "ipython",
    "version": 2
   },
   "file_extension": ".py",
   "mimetype": "text/x-python",
   "name": "python",
   "nbconvert_exporter": "python",
   "pygments_lexer": "ipython2",
   "version": "2.7.13"
  }
 },
 "nbformat": 4,
 "nbformat_minor": 2
}
