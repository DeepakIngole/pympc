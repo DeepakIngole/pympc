{
 "cells": [
  {
   "cell_type": "code",
   "execution_count": 1,
   "metadata": {
    "collapsed": false,
    "deletable": true,
    "editable": true
   },
   "outputs": [],
   "source": [
    "import numpy as np\n",
    "import cvxpy as cvx\n",
    "\n",
    "from pympc.geometry.polytope import Polytope\n",
    "from pympc.optimization.gurobi import linear_program\n",
    "\n",
    "import matplotlib.pyplot as plt\n",
    "from matplotlib.patches import Ellipse"
   ]
  },
  {
   "cell_type": "code",
   "execution_count": 2,
   "metadata": {
    "collapsed": false,
    "deletable": true,
    "editable": true
   },
   "outputs": [],
   "source": [
    "def maximum_volume_inscribed_ellipsoid(A, b):\n",
    "    n, m = A.shape\n",
    "    C = cvx.Variable(m, m)\n",
    "    d = cvx.Variable(m)\n",
    "    objective = cvx.Maximize(cvx.log_det(C))\n",
    "    constraints = [cvx.norm(C*A[i,:]) + A[i,:].T*d <= b[i,0] for i in range(n)]\n",
    "    prob = cvx.Problem(objective, constraints)\n",
    "    result = prob.solve()\n",
    "    C = np.array(C.value)\n",
    "    d = np.array(d.value)\n",
    "    return C, d"
   ]
  },
  {
   "cell_type": "code",
   "execution_count": 3,
   "metadata": {
    "collapsed": false
   },
   "outputs": [],
   "source": [
    "def outer_box_aligned_with_ellipsoid(A, b, C, d):\n",
    "    T = np.linalg.eig(C)[1]\n",
    "    A_new = A.dot(T)\n",
    "    box_min = np.zeros((A.shape[1], 1))\n",
    "    box_max = np.zeros((A.shape[1], 1))\n",
    "    for i in range(A.shape[1]):\n",
    "        f = np.zeros((A.shape[1], 1))\n",
    "        f[i,0] = 1.\n",
    "        sol_min = linear_program(f, A_new, b)\n",
    "        sol_max = linear_program(-f, A_new, b)\n",
    "        box_min[i,0] = sol_min.min\n",
    "        box_max[i,0] = -sol_max.min\n",
    "    box = Polytope.from_bounds(box_min, box_max)\n",
    "    A_box = box.A.dot(np.linalg.inv(T))\n",
    "    b_box = box.b\n",
    "    return A_box, b_box"
   ]
  },
  {
   "cell_type": "code",
   "execution_count": 4,
   "metadata": {
    "collapsed": false
   },
   "outputs": [],
   "source": [
    "def draw_2d_ellipe(C, d, **kwargs):\n",
    "    eigenvalues, eigenvectors = np.linalg.eig(C)\n",
    "    width = eigenvalues[0]*2.\n",
    "    height = eigenvalues[1]*2.\n",
    "    angle = np.arctan2(eigenvectors[1,0],eigenvectors[0,0])*180./np.pi\n",
    "    ell = Ellipse(xy=d, width=width, height=height, angle=angle, **kwargs)\n",
    "    ax = plt.gca()\n",
    "    ax.add_artist(ell)\n",
    "    ax.autoscale_view()\n",
    "    return"
   ]
  },
  {
   "cell_type": "code",
   "execution_count": 5,
   "metadata": {
    "collapsed": false
   },
   "outputs": [],
   "source": [
    "n_var = 2\n",
    "n_cons = 10\n",
    "A = np.random.randn(n_cons, n_var)\n",
    "b = np.random.rand(n_cons, 1)\n",
    "C, d = maximum_volume_inscribed_ellipsoid(A, b)\n",
    "A_box, b_box = outer_box_aligned_with_ellipsoid(A, b, C, d)"
   ]
  },
  {
   "cell_type": "code",
   "execution_count": 6,
   "metadata": {
    "collapsed": false,
    "deletable": true,
    "editable": true
   },
   "outputs": [
    {
     "data": {
      "image/png": "[encoded data removed]",
      "text/plain": [
       "<matplotlib.figure.Figure at 0x105a44c50>"
      ]
     },
     "metadata": {},
     "output_type": "display_data"
    }
   ],
   "source": [
    "box = Polytope(A_box, b_box)\n",
    "box.assemble()\n",
    "box.plot(facecolor='red')\n",
    "p = Polytope(A, b)\n",
    "p.assemble()\n",
    "p.plot(largest_ball=True)\n",
    "draw_2d_ellipe(C, d, facecolor='green', edgecolor='black')\n",
    "plt.show()"
   ]
  },
  {
   "cell_type": "code",
   "execution_count": null,
   "metadata": {
    "collapsed": true
   },
   "outputs": [],
   "source": []
  }
 ],
 "metadata": {
  "kernelspec": {
   "display_name": "Python 2",
   "language": "python",
   "name": "python2"
  },
  "language_info": {
   "codemirror_mode": {
    "name": "ipython",
    "version": 2
   },
   "file_extension": ".py",
   "mimetype": "text/x-python",
   "name": "python",
   "nbconvert_exporter": "python",
   "pygments_lexer": "ipython2",
   "version": "2.7.13"
  }
 },
 "nbformat": 4,
 "nbformat_minor": 2
}
