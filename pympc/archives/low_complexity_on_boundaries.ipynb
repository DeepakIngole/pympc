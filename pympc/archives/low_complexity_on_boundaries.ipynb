{
 "cells": [
  {
   "cell_type": "markdown",
   "metadata": {},
   "source": [
    "# Test of the algorithm on a syntetic example with overlapping sets"
   ]
  },
  {
   "cell_type": "code",
   "execution_count": 1,
   "metadata": {
    "collapsed": false,
    "deletable": true,
    "editable": true
   },
   "outputs": [],
   "source": [
    "%load_ext autoreload\n",
    "%autoreload 2"
   ]
  },
  {
   "cell_type": "code",
   "execution_count": 2,
   "metadata": {
    "collapsed": false,
    "deletable": true,
    "editable": true
   },
   "outputs": [],
   "source": [
    "import time\n",
    "import numpy as np\n",
    "import matplotlib.pyplot as plt\n",
    "from pympc.geometry.polytope import Polytope\n",
    "from pympc.geometry.convex_hull import PolytopeProjectionInnerApproximation"
   ]
  },
  {
   "cell_type": "markdown",
   "metadata": {},
   "source": [
    "Create a synthetic feasible sets"
   ]
  },
  {
   "cell_type": "code",
   "execution_count": 3,
   "metadata": {
    "collapsed": false,
    "deletable": true,
    "editable": true
   },
   "outputs": [
    {
     "data": {
      "image/png": "[encoded data removed]",
      "text/plain": [
       "<matplotlib.figure.Figure at 0x10ada6590>"
      ]
     },
     "metadata": {},
     "output_type": "display_data"
    }
   ],
   "source": [
    "m = 20\n",
    "A = np.array([[- np.cos(2. * k * np.pi / m), - np.sin(2. * k * np.pi / m)] for k in range(m)])\n",
    "b = np.ones((m, 1))\n",
    "d = .9\n",
    "dx0 = np.array([[d],[-d]])\n",
    "dx1 = np.array([[-d],[-d]])\n",
    "dx2 = np.array([[-d],[d]])\n",
    "dx3 = np.array([[d],[d]])\n",
    "dx4 = np.array([[0.],[0.]])\n",
    "dx_list = [dx0, dx1, dx2, dx3, dx4]\n",
    "fig = plt.figure(figsize=(2.65,2.65))\n",
    "P = []\n",
    "for i, dx in enumerate(dx_list):\n",
    "    p = Polytope(A, b + A.dot(dx))\n",
    "    p.assemble()\n",
    "    P.append(p)\n",
    "    p.plot(facecolor='w', alpha=.5)\n",
    "    plt.text(p.center[0,0], p.center[1,0], str(5-i))\n",
    "plt.axis('equal')\n",
    "plt.xticks([], [])\n",
    "plt.yticks([], [])\n",
    "#fig.savefig(\"sampling_1.pdf\", bbox_inches='tight')\n",
    "plt.show()"
   ]
  },
  {
   "cell_type": "markdown",
   "metadata": {},
   "source": [
    "Apply the algorithm"
   ]
  },
  {
   "cell_type": "code",
   "execution_count": 4,
   "metadata": {
    "collapsed": false,
    "deletable": true,
    "editable": true
   },
   "outputs": [],
   "source": [
    "H = []\n",
    "for dx in dx_list:\n",
    "    H.append(PolytopeProjectionInnerApproximation(A, b + A.dot(dx), [0,1]))"
   ]
  },
  {
   "cell_type": "code",
   "execution_count": 5,
   "metadata": {
    "collapsed": false,
    "deletable": true,
    "editable": true
   },
   "outputs": [
    {
     "data": {
      "image/png": "[encoded data removed]",
      "text/plain": [
       "<matplotlib.figure.Figure at 0x10adad210>"
      ]
     },
     "metadata": {},
     "output_type": "display_data"
    }
   ],
   "source": [
    "n_samples = 10000\n",
    "x_max = np.ones((2,1))*2.\n",
    "x_min = -x_max\n",
    "n_included = 0\n",
    "fig = plt.figure(figsize=(2.65,2.65))\n",
    "for i in range(n_samples):\n",
    "    x = np.random.rand(2, 1)\n",
    "    x = np.multiply(x, (x_max - x_min)) + x_min\n",
    "    rejected = False\n",
    "    for h in H:\n",
    "        if h.applies_to(x):\n",
    "            rejected = True\n",
    "    if not rejected:\n",
    "        index = None\n",
    "        for j, p in enumerate(reversed(P)):\n",
    "            if p.applies_to(x):\n",
    "                index = len(P) - j - 1\n",
    "                break\n",
    "        if index is not None:\n",
    "            n_included += 1\n",
    "            H[index].include_point(x)\n",
    "            plt.scatter(x[0,0], x[1,0])\n",
    "for h in H:\n",
    "    p = Polytope(h.hull.A, h.hull.b)\n",
    "    p.assemble()\n",
    "    p.plot(facecolor='w', alpha=.5)\n",
    "plt.xticks([], [])\n",
    "plt.yticks([], [])\n",
    "plt.axis('equal')\n",
    "#fig.savefig(\"sampling_2.pdf\", bbox_inches='tight')\n",
    "plt.show()"
   ]
  },
  {
   "cell_type": "code",
   "execution_count": 6,
   "metadata": {
    "collapsed": false,
    "deletable": true,
    "editable": true
   },
   "outputs": [
    {
     "name": "stdout",
     "output_type": "stream",
     "text": [
      "51\n"
     ]
    }
   ],
   "source": [
    "print n_included"
   ]
  }
 ],
 "metadata": {
  "kernelspec": {
   "display_name": "Python 2",
   "language": "python",
   "name": "python2"
  },
  "language_info": {
   "codemirror_mode": {
    "name": "ipython",
    "version": 2
   },
   "file_extension": ".py",
   "mimetype": "text/x-python",
   "name": "python",
   "nbconvert_exporter": "python",
   "pygments_lexer": "ipython2",
   "version": "2.7.13"
  }
 },
 "nbformat": 4,
 "nbformat_minor": 2
}
