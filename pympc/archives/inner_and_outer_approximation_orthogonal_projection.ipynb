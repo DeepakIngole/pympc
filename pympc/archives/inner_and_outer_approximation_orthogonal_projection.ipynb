{
 "cells": [
  {
   "cell_type": "code",
   "execution_count": 1,
   "metadata": {
    "collapsed": false
   },
   "outputs": [],
   "source": [
    "%load_ext autoreload\n",
    "%autoreload 2"
   ]
  },
  {
   "cell_type": "code",
   "execution_count": 2,
   "metadata": {
    "collapsed": false
   },
   "outputs": [],
   "source": [
    "import numpy as np\n",
    "from pympc.geometry.polytope import Polytope\n",
    "from pympc.geometry.convex_hull import orthogonal_projection_CHM\n",
    "from pympc.geometry.nullspace_basis import nullspace_basis\n",
    "import matplotlib.pyplot as plt\n",
    "from itertools import combinations\n",
    "from copy import copy"
   ]
  },
  {
   "cell_type": "code",
   "execution_count": 3,
   "metadata": {
    "collapsed": false
   },
   "outputs": [
    {
     "name": "stdout",
     "output_type": "stream",
     "text": [
      "\n",
      "*** Convex Hull Method for Orthogonal Projections START ***\n",
      "Inner 2D simplex found.\n",
      "Expansion of the inner polytope started.\n",
      "Facets found so far 4, vertices found so far 4, length of the last inflation 1.137495e-01.\r",
      "Facets found so far 5, vertices found so far 5, length of the last inflation 1.022121e+00.\r",
      "Facets found so far 6, vertices found so far 6, length of the last inflation 9.264815e-02.\r",
      "Facets found so far 7, vertices found so far 7, length of the last inflation 7.070042e-01.\r",
      "Facets found so far 8, vertices found so far 8, length of the last inflation 3.681027e-02.\r",
      "Facets found so far 9, vertices found so far 9, length of the last inflation 3.335316e-02.\r",
      "Facets found so far 9, vertices found so far 9, length of the last inflation 3.335316e-02.\r\n",
      "Projection derived 0.051577091217 seconds: number of facets is 9, number of vertices is 9.\n",
      "*** Convex Hull Method for Orthogonal Projections STOP ***\n",
      "\n"
     ]
    }
   ],
   "source": [
    "n_var = 3\n",
    "n_cons = 10\n",
    "\n",
    "x = [0,1]\n",
    "u = [i for i in range(n_var) if i not in x]\n",
    "\n",
    "A = np.random.randn(n_cons, n_var)\n",
    "b = np.random.rand(n_cons, 1)\n",
    "P = Polytope(A, b).assemble()\n",
    "\n",
    "A_x = A[:, x]\n",
    "A_u = A[:, u]\n",
    "\n",
    "A_proj, b_proj, _ = orthogonal_projection_CHM(A, b, x)\n",
    "P_proj = Polytope(A_proj, b_proj).assemble()"
   ]
  },
  {
   "cell_type": "markdown",
   "metadata": {},
   "source": [
    "## outer approximation"
   ]
  },
  {
   "cell_type": "code",
   "execution_count": 4,
   "metadata": {
    "collapsed": true
   },
   "outputs": [],
   "source": [
    "from pympc.optimization.gurobi import linear_program"
   ]
  },
  {
   "cell_type": "code",
   "execution_count": 5,
   "metadata": {
    "collapsed": true
   },
   "outputs": [],
   "source": [
    "f_x = np.random.rand(len(x),1)\n",
    "f = np.zeros((n_var, 1))\n",
    "f[x,:] = f_x\n",
    "sol = linear_program(-f, A, b)"
   ]
  },
  {
   "cell_type": "code",
   "execution_count": 6,
   "metadata": {
    "collapsed": false
   },
   "outputs": [],
   "source": [
    "A_outer = A_x[sol.active_set, :]\n",
    "b_outer = b[sol.active_set,:]"
   ]
  },
  {
   "cell_type": "code",
   "execution_count": 7,
   "metadata": {
    "collapsed": true
   },
   "outputs": [],
   "source": [
    "T = nullspace_basis(A_u[sol.active_set, :].T).T"
   ]
  },
  {
   "cell_type": "code",
   "execution_count": 8,
   "metadata": {
    "collapsed": false
   },
   "outputs": [
    {
     "data": {
      "text/plain": [
       "<pympc.geometry.polytope.Polytope instance at 0x106efee60>"
      ]
     },
     "execution_count": 8,
     "metadata": {},
     "output_type": "execute_result"
    }
   ],
   "source": [
    "P_outer = Polytope(T.dot(A_outer), T.dot(b_outer))\n",
    "P_outer.add_bounds(-.1*np.ones((2,1)), .1*np.ones((2,1)))\n",
    "P_outer.assemble()"
   ]
  },
  {
   "cell_type": "code",
   "execution_count": 9,
   "metadata": {
    "collapsed": false
   },
   "outputs": [],
   "source": [
    "def normalize(X):\n",
    "    X = copy(X)\n",
    "    for i in range(X.shape[1]):\n",
    "        X.T[i] = X.T[i]/np.linalg.norm(X.T[i])\n",
    "    return X\n",
    "    \n",
    "def select_conic_basis(x, X):\n",
    "    x = normalize(x)\n",
    "    X = normalize(X)\n",
    "    n = X.shape[1]\n",
    "    A = - np.eye(n)\n",
    "    b = np.zeros((n,1))\n",
    "    f = np.ones((n,1))\n",
    "    sol = linear_program(f, A, b, X, x)\n",
    "    basis_indices = [i for i in range(n) if i not in sol.active_set]\n",
    "    conic_basis = X[:,basis_indices]\n",
    "    return basis_indices"
   ]
  },
  {
   "cell_type": "code",
   "execution_count": 10,
   "metadata": {
    "collapsed": false
   },
   "outputs": [
    {
     "data": {
      "text/plain": [
       "<pympc.geometry.polytope.Polytope instance at 0x106efe5f0>"
      ]
     },
     "execution_count": 10,
     "metadata": {},
     "output_type": "execute_result"
    }
   ],
   "source": [
    "comb = [i for i in combinations(range(len(sol.active_set)),n_var-len(x)+1)]\n",
    "A_outer = np.zeros((0, len(x)))\n",
    "b_outer = np.zeros((0, 1))\n",
    "for ind in comb:\n",
    "    active_subset = [sol.active_set[i] for i in ind]\n",
    "    T = nullspace_basis(A_u[active_subset, :].T).T\n",
    "    A_outer = np.vstack((A_outer, T.dot(A_x[active_subset, :])))\n",
    "    b_outer = np.vstack((b_outer, T.dot(b[active_subset, :])))\n",
    "indices = select_conic_basis(f_x, A_outer.T)\n",
    "A_outer = A_outer[indices,:]\n",
    "b_outer = b_outer[indices,:]\n",
    "P_outer = Polytope(A_outer, b_outer)\n",
    "P_outer.add_bounds(-3*np.ones((2,1)), 3*np.ones((2,1)))\n",
    "P_outer.assemble()"
   ]
  },
  {
   "cell_type": "code",
   "execution_count": 11,
   "metadata": {
    "collapsed": false
   },
   "outputs": [
    {
     "data": {
      "image/png": "[encoded data removed]",
      "text/plain": [
       "<matplotlib.figure.Figure at 0x106ef7490>"
      ]
     },
     "metadata": {},
     "output_type": "display_data"
    }
   ],
   "source": [
    "P_outer.plot()  \n",
    "P_proj.plot(alpha=.5)\n",
    "plt.scatter(sol.argmin[x[0],:], sol.argmin[x[1],:], color='r')\n",
    "plt.show()"
   ]
  },
  {
   "cell_type": "code",
   "execution_count": null,
   "metadata": {
    "collapsed": true
   },
   "outputs": [],
   "source": []
  }
 ],
 "metadata": {
  "kernelspec": {
   "display_name": "Python 2",
   "language": "python",
   "name": "python2"
  },
  "language_info": {
   "codemirror_mode": {
    "name": "ipython",
    "version": 2
   },
   "file_extension": ".py",
   "mimetype": "text/x-python",
   "name": "python",
   "nbconvert_exporter": "python",
   "pygments_lexer": "ipython2",
   "version": "2.7.13"
  }
 },
 "nbformat": 4,
 "nbformat_minor": 2
}
