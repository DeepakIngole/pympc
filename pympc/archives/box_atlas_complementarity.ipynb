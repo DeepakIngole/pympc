{
 "cells": [
  {
   "cell_type": "code",
   "execution_count": 1,
   "metadata": {
    "collapsed": false,
    "deletable": true,
    "editable": true
   },
   "outputs": [],
   "source": [
    "%load_ext autoreload\n",
    "%autoreload 2"
   ]
  },
  {
   "cell_type": "code",
   "execution_count": 2,
   "metadata": {
    "collapsed": false,
    "deletable": true,
    "editable": true
   },
   "outputs": [],
   "source": [
    "import numpy as np\n",
    "from ad import adnumber, jacobian"
   ]
  },
  {
   "cell_type": "markdown",
   "metadata": {
    "deletable": true,
    "editable": true
   },
   "source": [
    "numeric parameters"
   ]
  },
  {
   "cell_type": "code",
   "execution_count": 3,
   "metadata": {
    "collapsed": true,
    "deletable": true,
    "editable": true
   },
   "outputs": [],
   "source": [
    "dynamics = {\n",
    "        'mass': 1.,\n",
    "        'moment_of_inertia': 1.,\n",
    "        'friction': .5,\n",
    "        'gravity': 10.,\n",
    "        'sampling_time': .1,\n",
    "}\n",
    "\n",
    "joint_limits = {\n",
    "        'b': {'min': np.array([[-.2],[-.1],[-.1]]), 'max': np.array([[.2],[.1],[.1]])}, # x,y,theta\n",
    "        'lf': {'min': np.array([[.0],[-.7]]), 'max': np.array([[.4],[-.3]])}, # wrt body\n",
    "        'rf': {'min': np.array([[-.4],[-.7]]), 'max': np.array([[0.],[-.3]])}, # wrt body\n",
    "        'lh': {'min': np.array([[.2],[-.2]]), 'max': np.array([[.4],[.2]])}, # wrt body\n",
    "        'rh': {'min': np.array([[-.4],[-.2]]), 'max': np.array([[-.2],[.2]])}, # wrt body\n",
    "        }\n",
    "\n",
    "velocity_limits = {\n",
    "        'b': {'min': np.array([[-2.],[-2.],[-.5]]), 'max': np.array([[2.],[2.],[.5]])}, # x,y,theta\n",
    "        'lf': {'min': -np.ones((2,1)), 'max': np.ones((2,1))},\n",
    "        'rf': {'min': -np.ones((2,1)), 'max': np.ones((2,1))},\n",
    "        'lh': {'min': -2*np.ones((2,1)), 'max': 2*np.ones((2,1))},\n",
    "        'rh': {'min': -2*np.ones((2,1)), 'max': 2*np.ones((2,1))},\n",
    "        }\n",
    "\n",
    "weight = dynamics['mass'] * dynamics['gravity']\n",
    "\n",
    "controller ={\n",
    "        'horizon': 10,\n",
    "        'objective_norm': 'two',\n",
    "        'state_cost': {\n",
    "                'qb': 1.,\n",
    "                'tb': 1.,\n",
    "                'vb': 1.,\n",
    "                'ob': 1.,\n",
    "                'qlf_rel': 1.,\n",
    "                'qrf_rel': 1.,\n",
    "                'qlh_rel': .2,\n",
    "                'qrh_rel': .2,\n",
    "                },\n",
    "        'input_cost': {\n",
    "                'vlf': 1.,\n",
    "                'vrf': 1.,\n",
    "                'vlh': .2,\n",
    "                'vrh': .2,\n",
    "                },\n",
    "        'gurobi': {\n",
    "                'OutputFlag': 1,\n",
    "                'TimeLimit': 1800.,\n",
    "                'MIPFocus': 0,           # balanced: 0, feasibility: 1, optimality: 2, bounds: 3\n",
    "                'NumericFocus': 0,       # min:     0, def:     0, max:     3\n",
    "                'OptimalityTol': 1.e-6,  # min: 1.e-9, def: 1.e-6, max: 1.e-2 \n",
    "                'FeasibilityTol': 1.e-6, # min: 1.e-9, def: 1.e-6, max: 1.e-2 \n",
    "                'IntFeasTol': 1.e-5,     # min: 1.e-9, def: 1.e-5, max: 1.e-1 \n",
    "                'MIPGap': 1.e-4,         # min:    0., def: 1.e-4, max:   inf\n",
    "        }\n",
    "}\n",
    "\n",
    "visualizer = {\n",
    "        'min': np.array([[-.6], [-.6]]),\n",
    "        'max': np.array([[.6], [.4]]),\n",
    "        'depth': [-.3,.3],\n",
    "        'box_fixed_feet': {'tickness': .05, 'width': .1},\n",
    "        'body_size': .2,\n",
    "        'limbs_size': .05,\n",
    "        'body_color': np.hstack((np.array([0.,0.,1.]), 1.)),\n",
    "        'limbs_color': np.hstack((np.array([1.,0.,0.]), 1.)),\n",
    "}"
   ]
  },
  {
   "cell_type": "markdown",
   "metadata": {
    "deletable": true,
    "editable": true
   },
   "source": [
    "limbs parameters"
   ]
  },
  {
   "cell_type": "code",
   "execution_count": 4,
   "metadata": {
    "collapsed": false,
    "deletable": true,
    "editable": true
   },
   "outputs": [],
   "source": [
    "'''\n",
    "Domains of the limbs are polyhedrons in the form {q | A q <= b}.\n",
    "The contact surface coincides with the first inequality, i.e. A_0 q = b_0.\n",
    "'''\n",
    "\n",
    "def R(th):\n",
    "    return np.array([[np.cos(th), -np.sin(th)],[np.sin(th), np.cos(th)]])\n",
    "\n",
    "class Limb():\n",
    "    def __init__(self, A, b, q_nom):\n",
    "        self.A = A\n",
    "        self.b = b\n",
    "        self.q_nom = q_nom\n",
    "        self.n = - A[0,:].reshape(A.shape[1], 1)\n",
    "        self.d = - b[0,0]\n",
    "        self.t = R(np.pi/2.).dot(self.n)\n",
    "        self.R = np.hstack((self.t, self.n))\n",
    "\n",
    "# right hand\n",
    "A_rh = np.array([[-1., 0.],[0., -1.]])\n",
    "b_rh = np.array([[.5],[.5]])\n",
    "q_rh = np.array([[-.3], [.0]])\n",
    "rh = Limb(A_rh, b_rh, q_rh)\n",
    "\n",
    "# left foot\n",
    "A_lf = np.array([[0., -1.],[-1., 0.]])\n",
    "b_lf = np.array([[.5],[.5]])\n",
    "q_lf = np.array([[.2], [-.5]])\n",
    "lf = Limb(A_lf, b_lf, q_lf)\n",
    "\n",
    "# right foot\n",
    "A_rf = np.array([[0., -1.],[-1., 0.]])\n",
    "b_rf = np.array([[.5],[.5]])\n",
    "q_rf = np.array([[-.2], [-.5]])\n",
    "rf = Limb(A_rf, b_rf, q_rf)\n",
    "\n",
    "# list of limbs\n",
    "limbs = [rh, lf, rf]"
   ]
  },
  {
   "cell_type": "markdown",
   "metadata": {
    "deletable": true,
    "editable": true
   },
   "source": [
    "symbolic state and inputs"
   ]
  },
  {
   "cell_type": "code",
   "execution_count": 5,
   "metadata": {
    "collapsed": false,
    "deletable": true,
    "editable": true
   },
   "outputs": [],
   "source": [
    "def cross(u, v):\n",
    "    return u[0,0]*v[1,0] - u[1,0]*v[0,0]\n",
    "\n",
    "# body position and velocity\n",
    "pb = adnumber(np.zeros((2,1)))\n",
    "vb = adnumber(np.zeros((2,1)))\n",
    "th = adnumber(np.zeros((1,1)))\n",
    "om = adnumber(np.zeros((1,1)))\n",
    "\n",
    "# limb positions\n",
    "pl = []\n",
    "for i in range(len(limbs)):\n",
    "    pl.append(adnumber(np.zeros((2,1))))\n",
    "\n",
    "# inputs\n",
    "vl = []\n",
    "for i in range(len(limbs)):\n",
    "    vl.append(adnumber(np.zeros((2,1))))\n",
    "\n",
    "# contact forces\n",
    "f = []\n",
    "for i in range(len(limbs)):\n",
    "    f.append(adnumber(np.zeros((2,1))))\n",
    "\n",
    "# state\n",
    "state = np.vstack([pb, th] + pl + [vb, om])\n",
    "inputs = np.vstack(vl + f)\n",
    "    \n",
    "# gravity\n",
    "g = np.array([[0.], [-dynamics['gravity']]])\n",
    "\n",
    "# other parameters\n",
    "m = dynamics['mass']\n",
    "I = dynamics['moment_of_inertia']\n",
    "h = dynamics['sampling_time']\n",
    "mu = dynamics['friction']"
   ]
  },
  {
   "cell_type": "code",
   "execution_count": 6,
   "metadata": {
    "collapsed": false,
    "deletable": true,
    "editable": true
   },
   "outputs": [],
   "source": [
    "# body position and velocity\n",
    "vb_next = vb + h*g\n",
    "for i, l in enumerate(limbs):\n",
    "    vb_next = vb_next + h/m*l.R.dot(f[i])\n",
    "pb_next = pb + h*vb_next\n",
    "om_next = om\n",
    "for i, l in enumerate(limbs):\n",
    "    om_next = om_next + h/I*cross(l.q_nom, l.R.dot(f[i]))\n",
    "th_next = th + h*om_next\n",
    "\n",
    "# limb positions\n",
    "pl_next = [pl[i] + h*vl[i] for i, l in enumerate(limbs)]"
   ]
  },
  {
   "cell_type": "code",
   "execution_count": 7,
   "metadata": {
    "collapsed": false
   },
   "outputs": [],
   "source": [
    "state_next = np.vstack([pb_next, th_next] + pl_next + [vb_next, om_next])\n",
    "\n",
    "A = np.array(jacobian(state_next.flatten().tolist(), state.flatten().tolist()))\n",
    "B = np.array(jacobian(state_next.flatten().tolist(), inputs.flatten().tolist()))\n",
    "c = np.array([[el[0].x] for el in state_next])"
   ]
  },
  {
   "cell_type": "code",
   "execution_count": 10,
   "metadata": {
    "collapsed": false,
    "deletable": true,
    "editable": true
   },
   "outputs": [],
   "source": [
    "active_contacts = [0, 1]\n",
    "inactive_contacts = [i for i in range(len(limbs)) if i not in active_contacts]\n",
    "\n",
    "equalities = []\n",
    "inequalities = []\n",
    "\n",
    "# update for active limbs \n",
    "pl_active_next = []\n",
    "for i in active_contacts:\n",
    "    l = limbs[i]\n",
    "    pl_active_next.append(l.d*l.n + l.t*(l.t.T*pl[i]))"
   ]
  },
  {
   "cell_type": "code",
   "execution_count": null,
   "metadata": {
    "collapsed": true
   },
   "outputs": [],
   "source": []
  }
 ],
 "metadata": {
  "kernelspec": {
   "display_name": "Python 2",
   "language": "python",
   "name": "python2"
  },
  "language_info": {
   "codemirror_mode": {
    "name": "ipython",
    "version": 2
   },
   "file_extension": ".py",
   "mimetype": "text/x-python",
   "name": "python",
   "nbconvert_exporter": "python",
   "pygments_lexer": "ipython2",
   "version": "2.7.13"
  }
 },
 "nbformat": 4,
 "nbformat_minor": 2
}
