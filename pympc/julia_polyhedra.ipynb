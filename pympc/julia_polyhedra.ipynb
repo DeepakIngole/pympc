{
 "cells": [
  {
   "cell_type": "code",
   "execution_count": 1,
   "metadata": {
    "collapsed": false,
    "deletable": true,
    "editable": true
   },
   "outputs": [],
   "source": [
    "using Polyhedra\n",
    "using CDDLib"
   ]
  },
  {
   "cell_type": "code",
   "execution_count": 2,
   "metadata": {
    "collapsed": false,
    "deletable": true,
    "editable": true
   },
   "outputs": [],
   "source": [
    "n_facets = 30\n",
    "n_variables = 20\n",
    "\n",
    "A = randn(n_facets, n_variables)\n",
    "b = rand(n_facets)\n",
    "\n",
    "poly_h = SimpleHRepresentation(A, b)\n",
    "\n",
    "poly = polyhedron(poly_h, CDDLibrary(:float));"
   ]
  },
  {
   "cell_type": "code",
   "execution_count": 4,
   "metadata": {
    "collapsed": false,
    "deletable": true,
    "editable": true
   },
   "outputs": [
    {
     "ename": "LoadError",
     "evalue": "The CDD implementation of Fourier-Motzkin only support removing the last dimensions",
     "output_type": "error",
     "traceback": [
      "The CDD implementation of Fourier-Motzkin only support removing the last dimensions",
      "",
      " in eliminate(::CDDLib.CDDInequalityMatrix{30,Float64,Float64}, ::IntSet, ::Symbol) at /Users/tobia/.julia/v0.5/CDDLib/src/polyhedron.jl:224",
      " in eliminate(::CDDLib.CDDPolyhedron{30,Float64}, ::IntSet, ::Symbol) at /Users/tobia/.julia/v0.5/CDDLib/src/polyhedron.jl:235"
     ]
    }
   ],
   "source": [
    "drop_variables = IntSet([1,2,3,4,5,6,7,8,9,10])\n",
    "\n",
    "eliminate(poly, drop_variables, :BlockElimination);"
   ]
  },
  {
   "cell_type": "code",
   "execution_count": null,
   "metadata": {
    "collapsed": false,
    "deletable": true,
    "editable": true
   },
   "outputs": [],
   "source": [
    "poly = polyhedron(poly_h_rep, CDDLibrary(:exact))\n",
    "typeof(poly)"
   ]
  },
  {
   "cell_type": "code",
   "execution_count": null,
   "metadata": {
    "collapsed": false,
    "deletable": true,
    "editable": true
   },
   "outputs": [],
   "source": [
    "poly_h = hrep(poly)"
   ]
  },
  {
   "cell_type": "code",
   "execution_count": null,
   "metadata": {
    "collapsed": false,
    "deletable": true,
    "editable": true
   },
   "outputs": [],
   "source": [
    "typeof(poly_h)"
   ]
  },
  {
   "cell_type": "code",
   "execution_count": null,
   "metadata": {
    "collapsed": false,
    "deletable": true,
    "editable": true
   },
   "outputs": [],
   "source": [
    "poly_v = vrep(poly)"
   ]
  },
  {
   "cell_type": "code",
   "execution_count": null,
   "metadata": {
    "collapsed": false,
    "deletable": true,
    "editable": true
   },
   "outputs": [],
   "source": [
    "typeof(poly_v)"
   ]
  },
  {
   "cell_type": "code",
   "execution_count": null,
   "metadata": {
    "collapsed": false,
    "deletable": true,
    "editable": true
   },
   "outputs": [],
   "source": []
  },
  {
   "cell_type": "code",
   "execution_count": null,
   "metadata": {
    "collapsed": true,
    "deletable": true,
    "editable": true
   },
   "outputs": [],
   "source": []
  }
 ],
 "metadata": {
  "kernelspec": {
   "display_name": "Julia 0.5.0",
   "language": "julia",
   "name": "julia-0.5"
  },
  "language_info": {
   "file_extension": ".jl",
   "mimetype": "application/julia",
   "name": "julia",
   "version": "0.5.0"
  }
 },
 "nbformat": 4,
 "nbformat_minor": 2
}
