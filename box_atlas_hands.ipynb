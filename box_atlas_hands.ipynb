{
 "cells": [
  {
   "cell_type": "markdown",
   "metadata": {
    "deletable": true,
    "editable": true
   },
   "source": [
    "# Box Atlas, Hands only"
   ]
  },
  {
   "cell_type": "code",
   "execution_count": 1,
   "metadata": {
    "collapsed": false,
    "deletable": true,
    "editable": true
   },
   "outputs": [],
   "source": [
    "#%load_ext autoreload\n",
    "#%autoreload 2\n",
    "#%pylab notebook"
   ]
  },
  {
   "cell_type": "code",
   "execution_count": 2,
   "metadata": {
    "collapsed": false,
    "deletable": true,
    "editable": true
   },
   "outputs": [],
   "source": [
    "import numpy as np\n",
    "import matplotlib.pyplot as plt\n",
    "from itertools import combinations\n",
    "from copy import copy\n",
    "from pympc.geometry.polytope import Polytope\n",
    "from pympc.dynamical_systems import DTAffineSystem, DTPWASystem, dare, moas_closed_loop\n",
    "import pympc.plot as mpc_plt\n",
    "from pympc.control import MPCHybridController"
   ]
  },
  {
   "cell_type": "markdown",
   "metadata": {
    "deletable": true,
    "editable": true
   },
   "source": [
    "Acronyms:\n",
    "q -> position, v -> velocity, f -> contact force\n",
    "b -> body, lh -> left hand, rh -> right hand, lf -> left foot, rf -> right foot\n",
    "x -> horizontal axis, y -> vertical axis\n",
    "\n",
    "State vector \\in R^8:\n",
    "[q_b_x, q_b_y, q_lh_x, q_lh_y, q_rh_x, q_rh_y, v_b_x, v_b_y]\n",
    "\n",
    "Input vector \\in R^10:\n",
    "[v_lh_x, v_lh_y, v_rh_x, v_rh_y, f_lh_y, f_rh_y, f_lf_x, f_lf_y, f_rf_x, f_rf_y]"
   ]
  },
  {
   "cell_type": "markdown",
   "metadata": {},
   "source": [
    "Numeric constants"
   ]
  },
  {
   "cell_type": "code",
   "execution_count": 3,
   "metadata": {
    "collapsed": false,
    "deletable": true,
    "editable": true
   },
   "outputs": [],
   "source": [
    "# scalars\n",
    "mass = 1.\n",
    "stiffness = 100.\n",
    "gravity = 10.\n",
    "friction_coefficient = .5\n",
    "t_s = .1\n",
    "walls_distance = 1.\n",
    "\n",
    "# position bounds\n",
    "\n",
    "# body\n",
    "q_b_min = np.array([[.3],[.3]])\n",
    "q_b_max = np.array([[.7],[.7]])\n",
    "\n",
    "# left hand (limits in the body frame)\n",
    "q_lh_min = np.array([[.1],[-.2]])\n",
    "q_lh_max = np.array([[.5],[.2]])\n",
    "\n",
    "# right hand (limits in the body frame)\n",
    "q_rh_min = np.array([[-.5],[-.2]])\n",
    "q_rh_max = np.array([[-.1],[.2]])\n",
    "\n",
    "# velocity bounds\n",
    "\n",
    "# body\n",
    "v_b_max = np.ones((2,1))\n",
    "v_b_min = - v_b_max\n",
    "\n",
    "# hands\n",
    "v_h_max = np.ones((2,1))\n",
    "v_h_min = - v_h_max\n",
    "\n",
    "# force bounds\n",
    "\n",
    "# left hand\n",
    "max_penetration_lh = q_b_max[0,0] + q_lh_max[0,0] - walls_distance\n",
    "f_lh_y_max = friction_coefficient * stiffness * max_penetration_lh\n",
    "f_lh_y_min = - f_lh_y_max\n",
    "\n",
    "# right hand\n",
    "max_penetration_rh = - q_b_min[0,0] - q_rh_min[0,0]\n",
    "f_rh_y_max = friction_coefficient * stiffness * max_penetration_rh\n",
    "f_rh_y_min = - f_rh_y_max\n",
    "\n",
    "# feet\n",
    "f_f_y_max = 10. * mass * gravity\n",
    "f_f_y_min = 0.\n",
    "f_f_x_max = friction_coefficient * f_f_y_max\n",
    "f_f_x_min = - f_f_x_max\n",
    "\n",
    "# equilibrium point\n",
    "x_eq = np. array([\n",
    "    [.5], # q_b_x\n",
    "    [.5], # q_b_y\n",
    "    [.9], # q_lh_x\n",
    "    [.6], # q_lh_y\n",
    "    [.1], # q_rh_x\n",
    "    [.6], # q_rh_y\n",
    "    [0.], # v_b_x\n",
    "    [0.], # v_b_y\n",
    "    ])\n",
    "u_eq = np.zeros((10,1))\n",
    "u_eq[7,0] = mass * gravity / 2.\n",
    "u_eq[9,0] = mass * gravity / 2."
   ]
  },
  {
   "cell_type": "markdown",
   "metadata": {
    "deletable": true,
    "editable": true
   },
   "source": [
    "Dynamics"
   ]
  },
  {
   "cell_type": "code",
   "execution_count": 4,
   "metadata": {
    "collapsed": false,
    "deletable": true,
    "editable": true
   },
   "outputs": [],
   "source": [
    "# mode 0: no contacts\n",
    "A_ct_0 = np.vstack((\n",
    "    np.hstack((np.zeros((2, 6)), np.eye(2))),\n",
    "    np.zeros((6, 8))\n",
    "    ))\n",
    "B_ct_0 = np.vstack((\n",
    "    np.zeros((2, 10)),\n",
    "    np.hstack((np.eye(4), np.zeros((4, 6)))),\n",
    "    np.hstack((np.zeros((2, 6)), np.eye(2)/mass, np.eye(2)/mass)),\n",
    "    ))\n",
    "c_ct_0 = np.zeros((8,1))\n",
    "c_ct_0[7,0] = - gravity\n",
    "S_0 = DTAffineSystem.from_continuous(A_ct_0, B_ct_0, c_ct_0 + A_ct_0.dot(x_eq) + B_ct_0.dot(u_eq), t_s, 'explicit_euler')\n",
    "\n",
    "# mode 1: left hand in contact\n",
    "A_ct_1 = A_ct_0\n",
    "A_ct_1[6,2] = -stiffness/mass\n",
    "B_ct_1 = B_ct_0\n",
    "B_ct_1[3,1] = 0.\n",
    "B_ct_1[7,4] = 1./mass\n",
    "c_ct_1 = c_ct_0\n",
    "c_ct_1[6,0] = stiffness*walls_distance/mass\n",
    "S_1 = DTAffineSystem.from_continuous(A_ct_1, B_ct_1, c_ct_1 + A_ct_1.dot(x_eq) + B_ct_1.dot(u_eq), t_s, 'explicit_euler')\n",
    "\n",
    "# mode 2: right hand in contact\n",
    "A_ct_2 = A_ct_0\n",
    "A_ct_2[6,4] = -stiffness/mass\n",
    "B_ct_2 = B_ct_0\n",
    "B_ct_2[5,3] = 0.\n",
    "B_ct_2[7,5] = 1./mass\n",
    "c_ct_2 = c_ct_0\n",
    "S_2 = DTAffineSystem.from_continuous(A_ct_2, B_ct_2, c_ct_2 + A_ct_2.dot(x_eq) + B_ct_1.dot(u_eq), t_s, 'explicit_euler')\n",
    "\n",
    "# gather systems\n",
    "S = [S_0, S_1, S_2]"
   ]
  },
  {
   "cell_type": "markdown",
   "metadata": {
    "deletable": true,
    "editable": true
   },
   "source": [
    "Kinematic limits"
   ]
  },
  {
   "cell_type": "code",
   "execution_count": 5,
   "metadata": {
    "collapsed": false,
    "deletable": true,
    "editable": true
   },
   "outputs": [],
   "source": [
    "selection_matrix = np.vstack((np.eye(2), -np.eye(2)))\n",
    "\n",
    "# left hand\n",
    "lhs = np.hstack((-selection_matrix, selection_matrix, np.zeros((4,4))))\n",
    "rhs = np.vstack((q_lh_max, -q_lh_min))\n",
    "X = Polytope(lhs, rhs)\n",
    "X.add_lower_bounds(np.zeros((1,1)), [3])\n",
    "\n",
    "# right hand\n",
    "lhs = np.hstack((-selection_matrix, np.zeros((4,2)), selection_matrix, np.zeros((4,2))))\n",
    "rhs = np.vstack((q_rh_max, -q_rh_min))\n",
    "X.add_facets(lhs, rhs)\n",
    "X.add_lower_bounds(np.zeros((1,1)), [5])\n",
    "\n",
    "# body\n",
    "X.add_bounds(q_b_min, q_b_max, [0,1])\n",
    "X.add_bounds(v_b_min, v_b_max, [6,7])"
   ]
  },
  {
   "cell_type": "markdown",
   "metadata": {
    "deletable": true,
    "editable": true
   },
   "source": [
    "Input limits"
   ]
  },
  {
   "cell_type": "code",
   "execution_count": 6,
   "metadata": {
    "collapsed": false,
    "deletable": true,
    "editable": true
   },
   "outputs": [],
   "source": [
    "u_max = np.vstack((v_h_max, v_h_max, f_lh_y_max, f_rh_y_max, f_f_x_max, f_f_y_max, f_f_x_max, f_f_y_max))\n",
    "u_min = np.vstack((v_h_min, v_h_min, f_lh_y_min, f_rh_y_min, f_f_x_min, f_f_y_min, f_f_x_min, f_f_y_min))\n",
    "U = Polytope.from_bounds(u_min, u_max)"
   ]
  },
  {
   "cell_type": "markdown",
   "metadata": {
    "deletable": true,
    "editable": true
   },
   "source": [
    "Mode indepenedent contraints"
   ]
  },
  {
   "cell_type": "code",
   "execution_count": 7,
   "metadata": {
    "collapsed": true,
    "deletable": true,
    "editable": true
   },
   "outputs": [],
   "source": [
    "lhs = np.vstack((\n",
    "    np.hstack((\n",
    "        X.A,\n",
    "        np.zeros((X.A.shape[0], U.A.shape[1]))\n",
    "        )),\n",
    "    np.hstack((\n",
    "        np.zeros((U.A.shape[0], X.A.shape[1])),\n",
    "        U.A\n",
    "        ))\n",
    "    ))\n",
    "rhs = np.vstack((X.b, U.b))\n",
    "D = Polytope(lhs, rhs)"
   ]
  },
  {
   "cell_type": "markdown",
   "metadata": {
    "deletable": true,
    "editable": true
   },
   "source": [
    "Mode dependent constraints"
   ]
  },
  {
   "cell_type": "code",
   "execution_count": 8,
   "metadata": {
    "collapsed": false
   },
   "outputs": [],
   "source": [
    "# mode 0: no contacts\n",
    "D_0 = copy(D)\n",
    "D_0.add_upper_bounds(np.array([[walls_distance]]), [2])\n",
    "D_0.add_lower_bounds(np.zeros((1,1)), [4])\n",
    "D_0 = Polytope(D_0.A, D_0.b - D_0.A.dot(np.vstack((x_eq, u_eq))))\n",
    "D_0.assemble()\n",
    "\n",
    "# mode 1: left hand in contact\n",
    "D_1 = copy(D)\n",
    "D_1.add_lower_bounds(np.array([[walls_distance]]), [2])\n",
    "D_1.add_lower_bounds(np.zeros((1,1)), [4])\n",
    "lhs = np.zeros((2,18))\n",
    "lhs[0,2] = - friction_coefficient * stiffness\n",
    "lhs[0,12] = 1.\n",
    "lhs[1,2] = - friction_coefficient * stiffness\n",
    "lhs[1,12] = -1.\n",
    "rhs = - np.ones((2,1)) * friction_coefficient * stiffness * walls_distance\n",
    "D_1.add_facets(lhs, rhs)\n",
    "D_1 = Polytope(D_1.A, D_1.b - D_1.A.dot(np.vstack((x_eq, u_eq))))\n",
    "D_1.assemble()\n",
    "\n",
    "# mode 2: right hand in contact\n",
    "D_2 = copy(D)\n",
    "D_2.add_upper_bounds(np.array([[walls_distance]]), [2])\n",
    "D_2.add_upper_bounds(np.zeros((1,1)), [4])\n",
    "lhs = np.zeros((2,18))\n",
    "lhs[0,4] = friction_coefficient * stiffness\n",
    "lhs[0,13] = 1.\n",
    "lhs[1,4] = friction_coefficient * stiffness\n",
    "lhs[1,13] = -1.\n",
    "rhs = np.zeros((2,1))\n",
    "D_2.add_facets(lhs, rhs)\n",
    "D_2 = Polytope(D_2.A, D_2.b - D_2.A.dot(np.vstack((x_eq, u_eq))))\n",
    "D_2.assemble()\n",
    "\n",
    "# gather domains\n",
    "D = [D_0, D_1, D_2]"
   ]
  },
  {
   "cell_type": "markdown",
   "metadata": {
    "deletable": true,
    "editable": true
   },
   "source": [
    "PWA system"
   ]
  },
  {
   "cell_type": "code",
   "execution_count": 9,
   "metadata": {
    "collapsed": false,
    "deletable": true,
    "editable": true
   },
   "outputs": [],
   "source": [
    "pwa_sys = DTPWASystem(S, D)"
   ]
  },
  {
   "cell_type": "code",
   "execution_count": 10,
   "metadata": {
    "collapsed": false,
    "deletable": true,
    "editable": true
   },
   "outputs": [
    {
     "name": "stdout",
     "output_type": "stream",
     "text": [
      "Computation of MOAS started... MOAS found.\n",
      "MOAS facets are 270, removing redundant ones... redundant factes removed, MOAS facets are 136.\n"
     ]
    }
   ],
   "source": [
    "# controller parameters\n",
    "N = 10\n",
    "Q = np.eye(8)\n",
    "R = np.eye(10)\n",
    "objective_norm = 'two'\n",
    "\n",
    "# terminal set and cost\n",
    "terminal_mode = 0\n",
    "P, K = dare(S[terminal_mode].A, S[terminal_mode].B, Q, R)\n",
    "X_N = moas_closed_loop(S[terminal_mode].A, S[terminal_mode].B, K, D[terminal_mode])\n",
    "\n",
    "#X_N = Polytope.from_bounds(-np.ones((8,1))*.05, np.ones((8,1))*.05)\n",
    "#X_N.assemble()\n",
    "\n",
    "# hybrid controller\n",
    "controller = MPCHybridController(pwa_sys, N, objective_norm, Q, R, P, X_N)"
   ]
  },
  {
   "cell_type": "markdown",
   "metadata": {
    "deletable": true,
    "editable": true
   },
   "source": [
    "We can now simulate the closed-loop dynamics starting from the initial state $x_0$."
   ]
  },
  {
   "cell_type": "code",
   "execution_count": 11,
   "metadata": {
    "collapsed": false,
    "deletable": true,
    "editable": true
   },
   "outputs": [
    {
     "name": "stdout",
     "output_type": "stream",
     "text": [
      "Time step 99.\r"
     ]
    }
   ],
   "source": [
    "N_sim = 100\n",
    "x_0 = np.zeros((8,1))\n",
    "x_0[0,0] = .1 # q_b_x\n",
    "x_0[6,0] = .6 # v_b_x\n",
    "u = []\n",
    "x = [x_0]\n",
    "u_ws = None\n",
    "x_ws = None\n",
    "ss_ws = None\n",
    "for k in range(N_sim):\n",
    "    print('Time step ' + str(k) + '.\\r'),\n",
    "    u_k, x_k, ss_k = controller.feedforward(x[k], u_ws, x_ws, ss_ws)[0:3]\n",
    "    x_next = pwa_sys.simulate(x[k], [u_k[0]])[0][1]\n",
    "    u.append(u_k[0])\n",
    "    x.append(x_next)\n",
    "    u_ws = u_k[1:] + [K.dot(x_k[-1])]\n",
    "    x_ws = x_k[1:] + [pwa_sys.simulate(x_k[-1], [u_ws[-1]])[0][1]]\n",
    "    ss_ws = ss_k[1:] + (terminal_mode,)"
   ]
  },
  {
   "cell_type": "markdown",
   "metadata": {
    "deletable": true,
    "editable": true
   },
   "source": [
    "We can use the plot functions to visualize the time evolution of the system."
   ]
  },
  {
   "cell_type": "code",
   "execution_count": 18,
   "metadata": {
    "collapsed": false,
    "deletable": true,
    "editable": true
   },
   "outputs": [
    {
     "data": {
      "image/png": "[encoded data removed]",
      "text/plain": [
       "<matplotlib.figure.Figure at 0x115db5090>"
      ]
     },
     "metadata": {},
     "output_type": "display_data"
    },
    {
     "data": {
      "image/png": "[encoded data removed]",
      "text/plain": [
       "<matplotlib.figure.Figure at 0x11494d990>"
      ]
     },
     "metadata": {},
     "output_type": "display_data"
    }
   ],
   "source": [
    "mpc_plt.input_sequence(u, t_s, (u_min, u_max))\n",
    "plt.show()\n",
    "mpc_plt.state_trajectory(x, t_s)\n",
    "plt.show()"
   ]
  },
  {
   "cell_type": "code",
   "execution_count": null,
   "metadata": {
    "collapsed": true
   },
   "outputs": [],
   "source": []
  }
 ],
 "metadata": {
  "kernelspec": {
   "display_name": "Python 2",
   "language": "python",
   "name": "python2"
  },
  "language_info": {
   "codemirror_mode": {
    "name": "ipython",
    "version": 2
   },
   "file_extension": ".py",
   "mimetype": "text/x-python",
   "name": "python",
   "nbconvert_exporter": "python",
   "pygments_lexer": "ipython2",
   "version": "2.7.13"
  }
 },
 "nbformat": 4,
 "nbformat_minor": 2
}
