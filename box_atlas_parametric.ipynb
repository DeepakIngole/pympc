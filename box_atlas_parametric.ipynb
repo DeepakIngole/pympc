{
 "cells": [
  {
   "cell_type": "code",
   "execution_count": 1,
   "metadata": {
    "collapsed": false,
    "deletable": true,
    "editable": true
   },
   "outputs": [],
   "source": [
    "%load_ext autoreload\n",
    "%autoreload 2"
   ]
  },
  {
   "cell_type": "code",
   "execution_count": 2,
   "metadata": {
    "collapsed": false,
    "deletable": true,
    "editable": true
   },
   "outputs": [],
   "source": [
    "import time\n",
    "import numpy as np\n",
    "import matplotlib.pyplot as plt\n",
    "from pympc.models.boxatlas_parametric import BoxAtlas, MovingLimb, FixedLimb, Trajectory\n",
    "from pympc.dynamical_systems import dare, moas_closed_loop\n",
    "from pympc.control import MPCHybridController, FeasibleSetLibrary\n",
    "from pympc.geometry.polytope import Polytope\n",
    "import pympc.plot as mpc_plt\n",
    "import director.viewerclient as vc\n",
    "from director.thirdparty import transformations"
   ]
  },
  {
   "cell_type": "markdown",
   "metadata": {
    "deletable": true,
    "editable": true
   },
   "source": [
    "# Construction of Box-Atlas"
   ]
  },
  {
   "cell_type": "markdown",
   "metadata": {
    "deletable": true,
    "editable": true
   },
   "source": [
    "Numeric parameters"
   ]
  },
  {
   "cell_type": "code",
   "execution_count": 3,
   "metadata": {
    "collapsed": false,
    "deletable": true,
    "editable": true
   },
   "outputs": [],
   "source": [
    "parameters = {\n",
    "    'mass': 1.,\n",
    "    'stiffness': 200.,\n",
    "    'damping': 1000.,\n",
    "    'friction_coefficient': .5,\n",
    "    'gravity': 10.,\n",
    "    'sampling_time': .1\n",
    "    }"
   ]
  },
  {
   "cell_type": "markdown",
   "metadata": {
    "deletable": true,
    "editable": true
   },
   "source": [
    "Nominal limb position and force"
   ]
  },
  {
   "cell_type": "code",
   "execution_count": 4,
   "metadata": {
    "collapsed": false,
    "deletable": true,
    "editable": true
   },
   "outputs": [],
   "source": [
    "weight = parameters['mass'] * parameters['gravity']\n",
    "penetration = weight / parameters['stiffness']\n",
    "nominal_limb_positions = {\n",
    "    'lf': np.array([[.2], [-.5 - penetration / 2.]]),\n",
    "    'rf': np.array([[-.2], [-.5 - penetration / 2.]]),\n",
    "    'lh': np.array([[.3], [.0]]),\n",
    "    'rh': np.array([[-.3], [.0]])\n",
    "    }\n",
    "nominal_limb_forces = {\n",
    "    'lf': np.array([[weight / 2.], [0.]]),\n",
    "    'rf': np.array([[weight / 2.], [0.]]),\n",
    "    'lh': np.zeros((2,1)),\n",
    "    'rh': np.zeros((2,1))\n",
    "    }"
   ]
  },
  {
   "cell_type": "markdown",
   "metadata": {
    "deletable": true,
    "editable": true
   },
   "source": [
    "State and input limits"
   ]
  },
  {
   "cell_type": "code",
   "execution_count": 5,
   "metadata": {
    "collapsed": true,
    "deletable": true,
    "editable": true
   },
   "outputs": [],
   "source": [
    "kinematic_limits = {\n",
    "        'b': {'min': np.array([[-.2],[-.1]]), 'max': np.array([[.2],[.1]])},\n",
    "        'lf': {'min': np.array([[.0],[-.7]]), 'max': np.array([[.4],[-.3]])}, # wrt body\n",
    "        'rf': {'min': np.array([[-.4],[-.7]]), 'max': np.array([[0.],[-.3]])}, # wrt body\n",
    "        'lh': {'min': np.array([[.2],[-.2]]), 'max': np.array([[.4],[.2]])}, # wrt body\n",
    "        'rh': {'min': np.array([[-.4],[-.2]]), 'max': np.array([[-.2],[.2]])}, # wrt body\n",
    "        }\n",
    "velocity_limits = {\n",
    "        'b': {'min': -np.ones((2,1)), 'max': np.ones((2,1))},\n",
    "        'lf': {'min': -np.ones((2,1)), 'max': np.ones((2,1))},\n",
    "        'rf': {'min': -np.ones((2,1)), 'max': np.ones((2,1))},\n",
    "        'lh': {'min': -np.ones((2,1)), 'max': np.ones((2,1))},\n",
    "        'rh': {'min': -np.ones((2,1)), 'max': np.ones((2,1))},\n",
    "        }\n",
    "f_min = np.array([[0.], [-parameters['friction_coefficient'] * weight]])\n",
    "f_max = np.array([[weight], [parameters['friction_coefficient'] * weight]])\n",
    "force_limits = {\n",
    "        'lf': {'min': f_min*2., 'max': f_max*2.},\n",
    "        'rf': {'min': f_min*2., 'max': f_max*2.},\n",
    "        'lh': {'min': f_min, 'max': f_max},\n",
    "        'rh': {'min': f_min, 'max': f_max},\n",
    "        }"
   ]
  },
  {
   "cell_type": "markdown",
   "metadata": {
    "deletable": true,
    "editable": true
   },
   "source": [
    "Robot moving limbs"
   ]
  },
  {
   "cell_type": "code",
   "execution_count": 6,
   "metadata": {
    "collapsed": true,
    "deletable": true,
    "editable": true
   },
   "outputs": [],
   "source": [
    "lh = [\n",
    "    MovingLimb(np.array([[1., 0.],[0., -1.]]), np.ones((2,1))/2., None),\n",
    "    MovingLimb(np.array([[-1., 0.],[1., 0.],[0., -1.]]), np.array([[-.5],[.5+penetration],[.5]]), 0)\n",
    "    ]\n",
    "rh = [\n",
    "    MovingLimb(-np.eye(2), np.array([[.35],[.5]]), None), # center\n",
    "    MovingLimb(np.array([[1., 0.],[0., -1.]]), np.array([[-.35],[0.]]), None), # over the table\n",
    "    MovingLimb(np.array([[0., 1.],[0., -1.],[1., -1.]]), np.array([[0.],[penetration],[-.35]]), 0), # top of the table\n",
    "    MovingLimb(np.array([[1., 0.],[-1., 0.],[-1., 1.]]), np.array([[-.35],[.35 + penetration],[.35]]), 0) # side of the table\n",
    "    ]"
   ]
  },
  {
   "cell_type": "code",
   "execution_count": 7,
   "metadata": {
    "collapsed": true,
    "deletable": true,
    "editable": true
   },
   "outputs": [],
   "source": [
    "# convex environment\n",
    "#rh = [\n",
    "#    MovingLimb(np.array([[0., -1.],[-3., -1.],[-3., 1.]]), np.array([[.5],[1.5],[1.5]]), None),\n",
    "#    MovingLimb(np.array([[0., -1.],[0., 1.],[3., 1.],[-3., -1.]]), np.array([[.5],[0.],[-1.5],[1.5+penetration*np.sqrt(10)]]), 2),\n",
    "#    MovingLimb(np.array([[0., -1.],[3., -1.],[-3., 1.]]), np.array([[0.],[-1.5],[1.5+penetration*np.sqrt(10)]]), 1),\n",
    "#    ]"
   ]
  },
  {
   "cell_type": "markdown",
   "metadata": {
    "deletable": true,
    "editable": true
   },
   "source": [
    "Robot fixed limbs"
   ]
  },
  {
   "cell_type": "code",
   "execution_count": 8,
   "metadata": {
    "collapsed": false,
    "deletable": true,
    "editable": true
   },
   "outputs": [],
   "source": [
    "lf = FixedLimb(np.array([[.2],[-.5]]), np.array([[0.],[1.]]))\n",
    "rf = FixedLimb(np.array([[-.2],[-.5]]), np.array([[0.],[1.]]))"
   ]
  },
  {
   "cell_type": "markdown",
   "metadata": {
    "deletable": true,
    "editable": true
   },
   "source": [
    "Assemble robot"
   ]
  },
  {
   "cell_type": "code",
   "execution_count": 9,
   "metadata": {
    "collapsed": false,
    "deletable": true,
    "editable": true
   },
   "outputs": [
    {
     "name": "stdout",
     "output_type": "stream",
     "text": [
      "Empty polytope!\n",
      "Empty polytope!\n",
      "Empty polytope!\n"
     ]
    }
   ],
   "source": [
    "topology = { 'moving': {'lh': lh, 'rh': rh}, 'fixed': {'lf': lf, 'rf': rf} }\n",
    "box_atlas = BoxAtlas(\n",
    "    topology,\n",
    "    parameters,\n",
    "    nominal_limb_positions,\n",
    "    nominal_limb_forces,\n",
    "    kinematic_limits,\n",
    "    velocity_limits,\n",
    "    force_limits\n",
    ")"
   ]
  },
  {
   "cell_type": "markdown",
   "metadata": {
    "deletable": true,
    "editable": true
   },
   "source": [
    "Print state, input, and modes (a mode indicates in which domain each moving limb is, domains are numbered as they are listed in the limb list)"
   ]
  },
  {
   "cell_type": "code",
   "execution_count": 10,
   "metadata": {
    "collapsed": false,
    "deletable": true,
    "editable": true
   },
   "outputs": [
    {
     "name": "stdout",
     "output_type": "stream",
     "text": [
      "Box-atlas state:\n",
      "['q_rh_x', 'q_rh_y', 'q_lh_x', 'q_lh_y', 'q_b_x', 'q_b_y', 'v_b_x', 'v_b_y']\n",
      "Box-atlas input:\n",
      "['v_rh_x', 'v_rh_y', 'v_lh_x', 'v_lh_y', 'f_lf_n', 'f_lf_t', 'f_rf_n', 'f_rf_t']\n",
      "Box-atlas modes:\n",
      "[{'rh': 0, 'lh': 0}, {'rh': 0, 'lh': 1}, {'rh': 1, 'lh': 0}, {'rh': 2, 'lh': 0}, {'rh': 3, 'lh': 0}]\n"
     ]
    }
   ],
   "source": [
    "box_atlas.print_state()\n",
    "box_atlas.print_input()\n",
    "print 'Box-atlas modes:\\n', box_atlas.contact_modes"
   ]
  },
  {
   "cell_type": "markdown",
   "metadata": {
    "deletable": true,
    "editable": true
   },
   "source": [
    "# Hybrid MPC Controller"
   ]
  },
  {
   "cell_type": "markdown",
   "metadata": {
    "deletable": true,
    "editable": true
   },
   "source": [
    "Initial states for the Humanoids paper"
   ]
  },
  {
   "cell_type": "code",
   "execution_count": 11,
   "metadata": {
    "collapsed": true,
    "deletable": true,
    "editable": true
   },
   "outputs": [],
   "source": [
    "# left hand\n",
    "x_0_lh = np.array([\n",
    "    [0.], # q_rh_x\n",
    "    [0.], # q_rh_y\n",
    "    [0.], # q_lh_x\n",
    "    [0.], # q_lh_y\n",
    "    [0.], # q_b_x\n",
    "    [0.], # q_b_y\n",
    "    [1.], # v_b_x\n",
    "    [-.5] # v_b_y\n",
    "])\n",
    "\n",
    "# right hand top\n",
    "x_0_rht = np.array([\n",
    "    [-.1], # q_rh_x\n",
    "    [.15], # q_rh_y\n",
    "    [.0], # q_lh_x\n",
    "    [.15], # q_lh_y\n",
    "    [-.05], # q_b_x\n",
    "    [.1], # q_b_y\n",
    "    [-1.], # v_b_x\n",
    "    [-.5] # v_b_y\n",
    "])\n",
    "\n",
    "# right hand side\n",
    "x_0_rhs = np.array([\n",
    "    [.1], # q_rh_x\n",
    "    [-.21], # q_rh_y\n",
    "    [.1], # q_lh_x\n",
    "    [-.21], # q_lh_y\n",
    "    [.1], # q_b_x\n",
    "    [-.05], # q_b_y\n",
    "    [-1.], # v_b_x\n",
    "    [-.5] # v_b_y\n",
    "])"
   ]
  },
  {
   "cell_type": "markdown",
   "metadata": {
    "deletable": true,
    "editable": true
   },
   "source": [
    "Hybrid MPC controller"
   ]
  },
  {
   "cell_type": "code",
   "execution_count": 12,
   "metadata": {
    "collapsed": false,
    "deletable": true,
    "editable": true
   },
   "outputs": [
    {
     "name": "stdout",
     "output_type": "stream",
     "text": [
      "Computation of MOAS started... MOAS found.\n",
      "MOAS facets are 323, removing redundant ones... redundant factes removed, MOAS facets are 110.\n"
     ]
    }
   ],
   "source": [
    "N = 10\n",
    "Q = box_atlas.penalize_relative_positions(np.eye(box_atlas.n_x))\n",
    "R = np.eye(box_atlas.n_u)\n",
    "objective_norm = 'two'\n",
    "terminal_mode = 0\n",
    "P, K = dare(\n",
    "    box_atlas.affine_systems[terminal_mode].A,\n",
    "    box_atlas.affine_systems[terminal_mode].B,\n",
    "    Q,\n",
    "    R)\n",
    "X_N = moas_closed_loop(\n",
    "    box_atlas.affine_systems[terminal_mode].A,\n",
    "    box_atlas.affine_systems[terminal_mode].B,\n",
    "    K,\n",
    "    box_atlas.domains[terminal_mode])\n",
    "controller = MPCHybridController(box_atlas.pwa_system, N, objective_norm, Q, R, P, X_N)"
   ]
  },
  {
   "cell_type": "markdown",
   "metadata": {
    "deletable": true,
    "editable": true
   },
   "source": [
    "Closed-loop system simulation of the MPC controller"
   ]
  },
  {
   "cell_type": "code",
   "execution_count": 14,
   "metadata": {
    "collapsed": false,
    "deletable": true,
    "editable": true
   },
   "outputs": [
    {
     "name": "stdout",
     "output_type": "stream",
     "text": [
      "Parameter OutputFlag unchanged\n",
      "   Value: 1  Min: 0  Max: 1  Default: 1\n",
      "Changed value of parameter TimeLimit to 600.0\n",
      "   Prev: 1e+100  Min: 0.0  Max: 1e+100  Default: 1e+100\n",
      "Optimize a model with 3288 rows, 618 columns and 12541 nonzeros\n",
      "Model has 236 quadratic objective terms\n",
      "Variable types: 568 continuous, 50 integer (50 binary)\n",
      "Coefficient statistics:\n",
      "  Matrix range     [7e-04, 1e+02]\n",
      "  Objective range  [0e+00, 0e+00]\n",
      "  QObjective range [3e-13, 6e+01]\n",
      "  Bounds range     [1e+00, 1e+00]\n",
      "  RHS range        [5e-03, 2e+01]\n",
      "Warning: Model contains large quadratic objective coefficient range\n",
      "         Consider reformulating model or setting NumericFocus parameter\n",
      "         to avoid numerical issues.\n",
      "Presolve removed 1603 rows and 146 columns\n",
      "Presolve time: 0.05s\n",
      "Presolved: 1685 rows, 472 columns, 7606 nonzeros\n",
      "Presolved model has 218 quadratic objective terms\n",
      "Variable types: 437 continuous, 35 integer (35 binary)\n",
      "\n",
      "Root relaxation: objective 1.576749e+01, 2665 iterations, 0.11 seconds\n",
      "\n",
      "    Nodes    |    Current Node    |     Objective Bounds      |     Work\n",
      " Expl Unexpl |  Obj  Depth IntInf | Incumbent    BestBd   Gap | It/Node Time\n",
      "\n",
      "     0     0   15.76749    0   15          -   15.76749      -     -    0s\n",
      "H    0     0                     122.0336340   15.76749  87.1%     -    0s\n",
      "H    0     0                      22.4149044   15.76749  29.7%     -    0s\n",
      "     0     0   15.78814    0   14   22.41490   15.78814  29.6%     -    0s\n",
      "     0     0   15.78814    0   14   22.41490   15.78814  29.6%     -    0s\n",
      "     0     0   16.79661    0   15   22.41490   16.79661  25.1%     -    0s\n",
      "     0     0   16.79783    0   15   22.41490   16.79783  25.1%     -    0s\n",
      "     0     0   16.82431    0   16   22.41490   16.82431  24.9%     -    0s\n",
      "     0     0   20.35535    0   17   22.41490   20.35535  9.19%     -    0s\n",
      "     0     0   20.35535    0   17   22.41490   20.35535  9.19%     -    0s\n",
      "     0     0   20.36012    0   19   22.41490   20.36012  9.17%     -    0s\n",
      "     0     0   20.36540    0   21   22.41490   20.36540  9.14%     -    0s\n",
      "     0     0   20.36607    0   21   22.41490   20.36607  9.14%     -    0s\n",
      "     0     0   20.36676    0   21   22.41490   20.36676  9.14%     -    0s\n",
      "     0     0   20.42708    0   16   22.41490   20.42708  8.87%     -    0s\n",
      "     0     2   20.42708    0   16   22.41490   20.42708  8.87%     -    0s\n",
      "H   32    25                      22.4128941   21.57895  3.72%  38.3    0s\n",
      "*   48    31              23      22.4120199   21.61353  3.56%  37.3    0s\n",
      "H   59    37                      22.3876951   21.61353  3.46%  36.7    0s\n",
      "\n",
      "Cutting planes:\n",
      "  Implied bound: 2\n",
      "  MIR: 5\n",
      "\n",
      "Explored 1866 nodes (59402 simplex iterations) in 3.11 seconds\n",
      "Thread count was 4 (of 4 available processors)\n",
      "\n",
      "Solution count 5: 22.3877 22.412 22.4129 ... 122.034\n",
      "Pool objective bound 22.3877\n",
      "\n",
      "Optimal solution found (tolerance 1.00e-04)\n",
      "Best objective 2.238769511759e+01, best bound 2.238769511759e+01, gap 0.0000%\n",
      "Time step 0: (0, 0, 0, 1, 1, 0, 0, 0, 0, 0).\n"
     ]
    }
   ],
   "source": [
    "N_sim = 1\n",
    "u = []\n",
    "x = [x_0_lh]\n",
    "u_ws = None\n",
    "x_ws = None\n",
    "ss_ws = None\n",
    "for k in range(N_sim):\n",
    "    u_k, x_k, ss_k = controller.feedforward(x[k], u_ws, x_ws, ss_ws)[0:3]\n",
    "    print('Time step ' + str(k) + ': ' + str(ss_k) + '.')\n",
    "    u_ws = u_k[1:] + [K.dot(x_k[-1])]\n",
    "    x_ws = x_k[1:] + [box_atlas.pwa_system.simulate(x_k[-1], [u_ws[-1]])[0][1]]\n",
    "    ss_ws = ss_k[1:] + (terminal_mode,)\n",
    "    x_next = box_atlas.pwa_system.simulate(x[k], [u_k[0]])[0][1]\n",
    "    #print 'Planner-simulator missmatch:', np.linalg.norm(x_next - x_k[1])\n",
    "    u.append(u_k[0])\n",
    "    x.append(x_next)\n",
    "traj_miqp = Trajectory(x, u, Q, R, P)\n",
    "#np.save('box_atlas_tajectory_miqp_lh', traj_miqp)"
   ]
  },
  {
   "cell_type": "markdown",
   "metadata": {
    "deletable": true,
    "editable": true
   },
   "source": [
    "Plot of the state and the input"
   ]
  },
  {
   "cell_type": "code",
   "execution_count": null,
   "metadata": {
    "collapsed": true,
    "deletable": true,
    "editable": true
   },
   "outputs": [],
   "source": [
    "mpc_plt.input_sequence(u, parameters['sampling_time'])\n",
    "plt.show()\n",
    "mpc_plt.state_trajectory(x, parameters['sampling_time'])\n",
    "plt.show()"
   ]
  },
  {
   "cell_type": "markdown",
   "metadata": {
    "deletable": true,
    "editable": true
   },
   "source": [
    "# Control with Approximate Hybrid MPC"
   ]
  },
  {
   "cell_type": "markdown",
   "metadata": {
    "deletable": true,
    "editable": true
   },
   "source": [
    "Initialization of the library"
   ]
  },
  {
   "cell_type": "code",
   "execution_count": null,
   "metadata": {
    "collapsed": true,
    "deletable": true,
    "editable": true
   },
   "outputs": [],
   "source": [
    "library = FeasibleSetLibrary(controller)\n",
    "samples_so_far = 100000\n",
    "library = np.load('library_box_atlas_wall_and_table_' + str(samples_so_far) + '.npy').item()"
   ]
  },
  {
   "cell_type": "markdown",
   "metadata": {
    "deletable": true,
    "editable": true
   },
   "source": [
    "Coverage"
   ]
  },
  {
   "cell_type": "code",
   "execution_count": null,
   "metadata": {
    "collapsed": true,
    "deletable": true,
    "editable": true
   },
   "outputs": [],
   "source": [
    "sample_step = 1000\n",
    "n_steps = 100\n",
    "for i in range(n_steps):\n",
    "    n = samples_so_far + (i+1)*sample_step\n",
    "    library.sample_policy(sample_step, box_atlas.is_inside_a_domain)\n",
    "    print(str(n) + ' samples added to the library.')\n",
    "    np.save('library_box_atlas_wall_and_table_' + str(n), library)"
   ]
  },
  {
   "cell_type": "markdown",
   "metadata": {
    "deletable": true,
    "editable": true
   },
   "source": [
    "Shifted switching sequences"
   ]
  },
  {
   "cell_type": "code",
   "execution_count": null,
   "metadata": {
    "collapsed": true,
    "deletable": true,
    "editable": true
   },
   "outputs": [],
   "source": [
    "library.add_shifted_switching_sequences(terminal_mode)"
   ]
  },
  {
   "cell_type": "markdown",
   "metadata": {
    "deletable": true,
    "editable": true
   },
   "source": [
    "Closed-loop system simulation of the approximate MPC controller"
   ]
  },
  {
   "cell_type": "code",
   "execution_count": null,
   "metadata": {
    "collapsed": false,
    "deletable": true,
    "editable": true
   },
   "outputs": [],
   "source": [
    "N_sim = 50\n",
    "u = []\n",
    "x = [x_0_lh]\n",
    "ss = []\n",
    "ss_feasible = None\n",
    "for k in range(N_sim):\n",
    "    print('Time step ' + str(k) + '.')\n",
    "    u_k, ss_k = library.feedback(x[k], ss_feasible, max_qp=1)\n",
    "    u.append(u_k)\n",
    "    x_next = box_atlas.pwa_system.simulate(x[k], [u_k])[0][1]\n",
    "    x.append(x_next)\n",
    "    ss.append(ss_k)\n",
    "    ss_feasible = ss_k[1:] + (terminal_mode,)\n",
    "traj_lib = Trajectory(x, u, Q, R, P)\n",
    "#np.save('box_atlas_tajectory_lib_lh', traj)"
   ]
  },
  {
   "cell_type": "markdown",
   "metadata": {
    "deletable": true,
    "editable": true
   },
   "source": [
    "# Test Coverage"
   ]
  },
  {
   "cell_type": "markdown",
   "metadata": {
    "deletable": true,
    "editable": true
   },
   "source": [
    "Number of feasible sets in the library"
   ]
  },
  {
   "cell_type": "code",
   "execution_count": null,
   "metadata": {
    "collapsed": true,
    "deletable": true,
    "editable": true
   },
   "outputs": [],
   "source": [
    "n_fs = 0\n",
    "for ss in library.library.values():\n",
    "    if not ss['feasible_set'].empty:\n",
    "        n_fs += 1\n",
    "print 'Number of mode sequences in the library:', n_fs"
   ]
  },
  {
   "cell_type": "markdown",
   "metadata": {
    "deletable": true,
    "editable": true
   },
   "source": [
    "Check coverage of the feasible set with n_samples"
   ]
  },
  {
   "cell_type": "code",
   "execution_count": null,
   "metadata": {
    "collapsed": false,
    "deletable": true,
    "editable": true
   },
   "outputs": [],
   "source": [
    "n_samples = 20\n",
    "cost_miqp = []\n",
    "cost_qp = []\n",
    "for i in range(n_samples):\n",
    "    print i\n",
    "    x_sample = library.random_sample(box_atlas.is_inside_a_domain)\n",
    "    cost_miqp.append(controller.feedforward(x_sample)[3])\n",
    "    cost_qp.append(library.feedforward(x_sample)[3])\n",
    "#np.save('cost_random_miqp', cost_miqp)\n",
    "#np.save('cost_random_qp', cost_qp)"
   ]
  },
  {
   "cell_type": "markdown",
   "metadata": {
    "deletable": true,
    "editable": true
   },
   "source": [
    "Cost error as a function of the maximum number of QPs online"
   ]
  },
  {
   "cell_type": "code",
   "execution_count": null,
   "metadata": {
    "collapsed": false,
    "deletable": true,
    "editable": true
   },
   "outputs": [],
   "source": [
    "feasible_samples = 0\n",
    "samples_not_covered = 0\n",
    "optimality_loss = []\n",
    "for i, c_mi in enumerate(cost_miqp):\n",
    "    if not np.isnan(c_mi):\n",
    "        feasible_samples += 1\n",
    "        if len(cost_qp[i]) == 0:\n",
    "            samples_not_covered += 1\n",
    "        else:\n",
    "            optimality_loss.append([(c - c_mi)/c_mi for c in cost_qp[i]])\n",
    "max_overlapping_qp = max([len(ol) for ol in optimality_loss])\n",
    "loss = []\n",
    "for pos in range(max_overlapping_qp):\n",
    "    average_loss = 0\n",
    "    for ol in optimality_loss:\n",
    "        length = min(len(ol),pos+1)\n",
    "        average_loss += min(ol[:length])\n",
    "    loss.append(average_loss/float(len(optimality_loss))*100)\n",
    "print 'Optimality loss (%) as a function of the maximum number of QPs solved online:\\n', loss"
   ]
  },
  {
   "cell_type": "markdown",
   "metadata": {
    "collapsed": true,
    "deletable": true,
    "editable": true
   },
   "source": [
    "# Visualizer"
   ]
  },
  {
   "cell_type": "markdown",
   "metadata": {
    "deletable": true,
    "editable": true
   },
   "source": [
    "Visualizer object"
   ]
  },
  {
   "cell_type": "code",
   "execution_count": null,
   "metadata": {
    "collapsed": false,
    "deletable": true,
    "editable": true
   },
   "outputs": [],
   "source": [
    "vis = vc.Visualizer()['box_altas']\n",
    "vertical_translation = - (nominal_limb_positions['lf'][1,0] + nominal_limb_positions['rf'][1,0]) / 2.\n",
    "vis.settransform(vc.transformations.translation_matrix([0.,0.,vertical_translation]))"
   ]
  },
  {
   "cell_type": "markdown",
   "metadata": {
    "deletable": true,
    "editable": true
   },
   "source": [
    "Numeric parameters"
   ]
  },
  {
   "cell_type": "code",
   "execution_count": null,
   "metadata": {
    "collapsed": true,
    "deletable": true,
    "editable": true
   },
   "outputs": [],
   "source": [
    "visualizer_parameters = {\n",
    "    'wall_x': 1.,\n",
    "    'wall_y': .02,\n",
    "    'body_xyz': .2,\n",
    "    'body_color': np.array([0.,0.,1.]),\n",
    "    'limb_color': np.array([1.,0.,0.]),\n",
    "    'wall_color': np.array([0.,1.,0.])\n",
    "}"
   ]
  },
  {
   "cell_type": "markdown",
   "metadata": {
    "deletable": true,
    "editable": true
   },
   "source": [
    "Body"
   ]
  },
  {
   "cell_type": "code",
   "execution_count": null,
   "metadata": {
    "collapsed": false,
    "deletable": true,
    "editable": true
   },
   "outputs": [],
   "source": [
    "vis['bq'].setgeometry(\n",
    "    vc.GeometryData(\n",
    "        vc.Box(\n",
    "            lengths = [visualizer_parameters['body_xyz']]*3),\n",
    "            color = np.hstack((visualizer_parameters['body_color'], 1.))\n",
    "            )\n",
    "    )"
   ]
  },
  {
   "cell_type": "markdown",
   "metadata": {
    "deletable": true,
    "editable": true
   },
   "source": [
    "Limbs"
   ]
  },
  {
   "cell_type": "code",
   "execution_count": null,
   "metadata": {
    "collapsed": true,
    "deletable": true,
    "editable": true
   },
   "outputs": [],
   "source": [
    "for limb in ['lf', 'rf', 'lh', 'rh']:\n",
    "    vis[limb].setgeometry(\n",
    "        vc.GeometryData(\n",
    "            vc.Sphere(radius = .05),\n",
    "            color = np.hstack((visualizer_parameters['limb_color'], 1.))\n",
    "            )\n",
    "        )"
   ]
  },
  {
   "cell_type": "markdown",
   "metadata": {
    "deletable": true,
    "editable": true
   },
   "source": [
    "Environment"
   ]
  },
  {
   "cell_type": "code",
   "execution_count": null,
   "metadata": {
    "collapsed": true,
    "deletable": true,
    "editable": true
   },
   "outputs": [],
   "source": [
    "vis = box_atlas.visualize_environment(vis)"
   ]
  },
  {
   "cell_type": "markdown",
   "metadata": {
    "deletable": true,
    "editable": true
   },
   "source": [
    "Animation"
   ]
  },
  {
   "cell_type": "code",
   "execution_count": null,
   "metadata": {
    "collapsed": false,
    "deletable": true,
    "editable": true
   },
   "outputs": [],
   "source": [
    "box_atlas.visualize(vis, x[0])\n",
    "time.sleep(10 * parameters['sampling_time'])\n",
    "for k in range(N_sim):\n",
    "    box_atlas.visualize(vis, x[k])\n",
    "    time.sleep(parameters['sampling_time'])"
   ]
  }
 ],
 "metadata": {
  "kernelspec": {
   "display_name": "Python 2",
   "language": "python",
   "name": "python2"
  },
  "language_info": {
   "codemirror_mode": {
    "name": "ipython",
    "version": 2
   },
   "file_extension": ".py",
   "mimetype": "text/x-python",
   "name": "python",
   "nbconvert_exporter": "python",
   "pygments_lexer": "ipython2",
   "version": "2.7.13"
  }
 },
 "nbformat": 4,
 "nbformat_minor": 2
}
