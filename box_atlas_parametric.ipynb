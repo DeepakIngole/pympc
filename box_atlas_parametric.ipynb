{
 "cells": [
  {
   "cell_type": "code",
   "execution_count": 1,
   "metadata": {
    "collapsed": false,
    "deletable": true,
    "editable": true
   },
   "outputs": [],
   "source": [
    "%load_ext autoreload\n",
    "%autoreload 2"
   ]
  },
  {
   "cell_type": "code",
   "execution_count": 2,
   "metadata": {
    "collapsed": false,
    "deletable": true,
    "editable": true
   },
   "outputs": [],
   "source": [
    "import time\n",
    "import numpy as np\n",
    "import matplotlib.pyplot as plt\n",
    "from pympc.models.boxatlas_parametric import BoxAtlas, MovingLimb, FixedLimb\n",
    "from pympc.dynamical_systems import dare, moas_closed_loop\n",
    "from pympc.control import MPCHybridController\n",
    "from pympc.geometry.polytope import Polytope\n",
    "import pympc.plot as mpc_plt\n",
    "import director.viewerclient as vc\n",
    "from director.thirdparty import transformations"
   ]
  },
  {
   "cell_type": "markdown",
   "metadata": {
    "deletable": true,
    "editable": true
   },
   "source": [
    "Numeric parameters"
   ]
  },
  {
   "cell_type": "code",
   "execution_count": 3,
   "metadata": {
    "collapsed": false,
    "deletable": true,
    "editable": true
   },
   "outputs": [],
   "source": [
    "parameters = {\n",
    "    'mass': 1.,\n",
    "    'stiffness': 100.,\n",
    "    'damping': 1000.,\n",
    "    'friction_coefficient': .5,\n",
    "    'gravity': 10.,\n",
    "    'sampling_time': .1\n",
    "    }"
   ]
  },
  {
   "cell_type": "markdown",
   "metadata": {
    "deletable": true,
    "editable": true
   },
   "source": [
    "Nominal state and input"
   ]
  },
  {
   "cell_type": "code",
   "execution_count": 4,
   "metadata": {
    "collapsed": false,
    "deletable": true,
    "editable": true
   },
   "outputs": [],
   "source": [
    "weight = parameters['mass'] * parameters['gravity']\n",
    "penetration = weight / parameters['stiffness']\n",
    "nominal_limb_positions = {\n",
    "    'lf': np.array([[.2], [-.5 - penetration / 2.]]),\n",
    "    'rf': np.array([[-.2], [-.5 - penetration / 2.]]),\n",
    "    'lh': np.array([[.3], [.0]]),\n",
    "    'rh': np.array([[-.3], [.0]])\n",
    "    }\n",
    "nominal_limb_forces = {\n",
    "    'lf': np.array([[weight / 2.], [0.]]),\n",
    "    'rf': np.array([[weight / 2.], [0.]]),\n",
    "    'lh': np.zeros((2,1)),\n",
    "    'rh': np.zeros((2,1))\n",
    "    }"
   ]
  },
  {
   "cell_type": "markdown",
   "metadata": {
    "deletable": true,
    "editable": true
   },
   "source": [
    "State limits"
   ]
  },
  {
   "cell_type": "code",
   "execution_count": 5,
   "metadata": {
    "collapsed": true,
    "deletable": true,
    "editable": true
   },
   "outputs": [],
   "source": [
    "kinematic_limits = {\n",
    "        'b': {'min': np.array([[-.2],[-.1]]), 'max': np.array([[.2],[.1]])},\n",
    "        'lf': {'min': np.array([[.0],[-.7]]), 'max': np.array([[.4],[-.3]])}, # wrt body\n",
    "        'rf': {'min': np.array([[-.4],[-.7]]), 'max': np.array([[0.],[-.3]])}, # wrt body\n",
    "        'lh': {'min': np.array([[.2],[-.2]]), 'max': np.array([[.5],[.2]])}, # wrt body\n",
    "        'rh': {'min': np.array([[-.5],[-.2]]), 'max': np.array([[-.2],[.2]])}, # wrt body\n",
    "        }\n",
    "velocity_limits = {\n",
    "        'b': {'min': -np.ones((2,1)), 'max': np.ones((2,1))},\n",
    "        'lf': {'min': -np.ones((2,1)), 'max': np.ones((2,1))},\n",
    "        'rf': {'min': -np.ones((2,1)), 'max': np.ones((2,1))},\n",
    "        'lh': {'min': -np.ones((2,1)), 'max': np.ones((2,1))},\n",
    "        'rh': {'min': -np.ones((2,1)), 'max': np.ones((2,1))},\n",
    "        }"
   ]
  },
  {
   "cell_type": "markdown",
   "metadata": {
    "deletable": true,
    "editable": true
   },
   "source": [
    "Force limits"
   ]
  },
  {
   "cell_type": "code",
   "execution_count": 6,
   "metadata": {
    "collapsed": true,
    "deletable": true,
    "editable": true
   },
   "outputs": [],
   "source": [
    "f_min = np.array([[0.], [-parameters['friction_coefficient'] * weight]])\n",
    "f_max = np.array([[weight], [parameters['friction_coefficient'] * weight]])\n",
    "force_limits = {\n",
    "        'lf': {'min': f_min*2., 'max': f_max*2.},\n",
    "        'rf': {'min': f_min*2., 'max': f_max*2.},\n",
    "        'lh': {'min': f_min, 'max': f_max},\n",
    "        'rh': {'min': f_min, 'max': f_max},\n",
    "        }"
   ]
  },
  {
   "cell_type": "markdown",
   "metadata": {
    "deletable": true,
    "editable": true
   },
   "source": [
    "Robot topology"
   ]
  },
  {
   "cell_type": "code",
   "execution_count": 7,
   "metadata": {
    "collapsed": false,
    "deletable": true,
    "editable": true
   },
   "outputs": [],
   "source": [
    "lh = [\n",
    "    MovingLimb(np.array([[1., 0.],[0., -1.]]), np.ones((2,1))/2., None),\n",
    "    MovingLimb(np.array([[-1., 0.],[1., 0.],[0., -1.]]), np.array([[-.5],[.5+penetration],[.5]]), 0)\n",
    "    ]\n",
    "# convex house\n",
    "#rh = [\n",
    "#    MovingLimb(np.array([[0., -1.],[-3., -1.],[-3., 1.]]), np.array([[.5],[1.5],[1.5]]), None),\n",
    "#    MovingLimb(np.array([[0., -1.],[0., 1.],[3., 1.],[-3., -1.]]), np.array([[.5],[0.],[-1.5],[1.5+penetration*np.sqrt(10)]]), 2),\n",
    "#    MovingLimb(np.array([[0., -1.],[3., -1.],[-3., 1.]]), np.array([[0.],[-1.5],[1.5+penetration*np.sqrt(10)]]), 1),\n",
    "#]\n",
    "# wall and table\n",
    "rh = [\n",
    "    MovingLimb(-np.eye(2), np.array([[.35],[.5]]), None), # center\n",
    "    MovingLimb(np.array([[1., 0.],[0., -1.]]), np.array([[-.35],[.1]]), None), # over the table\n",
    "    MovingLimb(np.array([[0., 1.],[0., -1.],[1., 0.]]), np.array([[-.1],[.1 + penetration],[-.35]]), 0), # top of the table\n",
    "    MovingLimb(np.array([[1., 0.],[-1., 0.],[0., 1.]]), np.array([[-.35],[.35 + penetration],[-.1 - penetration]]), 0) # side of the table\n",
    "]\n",
    "\n",
    "\n",
    "lf = FixedLimb(np.array([[.2],[-.5]]), np.array([[0.],[1.]]))\n",
    "rf = FixedLimb(np.array([[-.2],[-.5]]), np.array([[0.],[1.]]))\n",
    "topology = { 'moving': {'lh': lh, 'rh': rh}, 'fixed': {'lf': lf, 'rf': rf} }"
   ]
  },
  {
   "cell_type": "markdown",
   "metadata": {
    "deletable": true,
    "editable": true
   },
   "source": [
    "Construct box atlas"
   ]
  },
  {
   "cell_type": "code",
   "execution_count": 8,
   "metadata": {
    "collapsed": false,
    "deletable": true,
    "editable": true
   },
   "outputs": [],
   "source": [
    "box_atlas = BoxAtlas(\n",
    "    topology,\n",
    "    parameters,\n",
    "    nominal_limb_positions,\n",
    "    nominal_limb_forces,\n",
    "    kinematic_limits,\n",
    "    velocity_limits,\n",
    "    force_limits\n",
    ")"
   ]
  },
  {
   "cell_type": "code",
   "execution_count": 9,
   "metadata": {
    "collapsed": false,
    "deletable": true,
    "editable": true
   },
   "outputs": [
    {
     "name": "stdout",
     "output_type": "stream",
     "text": [
      "[{'rh': 0, 'lh': 0}, {'rh': 0, 'lh': 1}, {'rh': 1, 'lh': 0}, {'rh': 1, 'lh': 1}, {'rh': 2, 'lh': 0}, {'rh': 2, 'lh': 1}, {'rh': 3, 'lh': 0}, {'rh': 3, 'lh': 1}]\n",
      "['q_rh_x', 'q_rh_y', 'q_lh_x', 'q_lh_y', 'q_b_x', 'q_b_y', 'v_b_x', 'v_b_x']\n",
      "['v_rh_x', 'v_rh_y', 'v_lh_x', 'v_lh_y', 'f_lf_n', 'f_lf_t', 'f_rf_n', 'f_rf_t']\n"
     ]
    }
   ],
   "source": [
    "print box_atlas.contact_modes\n",
    "box_atlas.print_state()\n",
    "box_atlas.print_input()"
   ]
  },
  {
   "cell_type": "markdown",
   "metadata": {
    "deletable": true,
    "editable": true
   },
   "source": [
    "Hybrid controller"
   ]
  },
  {
   "cell_type": "code",
   "execution_count": 10,
   "metadata": {
    "collapsed": false,
    "deletable": true,
    "editable": true
   },
   "outputs": [
    {
     "name": "stdout",
     "output_type": "stream",
     "text": [
      "Computation of MOAS started... MOAS found.\n",
      "MOAS facets are 323, removing redundant ones... redundant factes removed, MOAS facets are 100.\n"
     ]
    }
   ],
   "source": [
    "N = 10\n",
    "Q = box_atlas.penalize_relative_positions(np.eye(box_atlas.n_x))\n",
    "R = np.eye(box_atlas.n_u)\n",
    "objective_norm = 'two'\n",
    "terminal_mode = 0\n",
    "P, K = dare(\n",
    "    box_atlas.affine_systems[terminal_mode].A,\n",
    "    box_atlas.affine_systems[terminal_mode].B,\n",
    "    Q,\n",
    "    R)\n",
    "X_N = moas_closed_loop(\n",
    "    box_atlas.affine_systems[terminal_mode].A,\n",
    "    box_atlas.affine_systems[terminal_mode].B,\n",
    "    K,\n",
    "    box_atlas.domains[terminal_mode])\n",
    "#X_N = Polytope.from_bounds(-np.ones((8,1))/1000., np.ones((8,1))/1000.)\n",
    "#X_N.assemble()"
   ]
  },
  {
   "cell_type": "markdown",
   "metadata": {
    "deletable": true,
    "editable": true
   },
   "source": [
    "Hybrid controller"
   ]
  },
  {
   "cell_type": "code",
   "execution_count": 11,
   "metadata": {
    "collapsed": false,
    "deletable": true,
    "editable": true
   },
   "outputs": [],
   "source": [
    "controller = MPCHybridController(box_atlas.pwa_system, N, objective_norm, Q, R, P, X_N)"
   ]
  },
  {
   "cell_type": "markdown",
   "metadata": {
    "deletable": true,
    "editable": true
   },
   "source": [
    "Closed-loop system simulation"
   ]
  },
  {
   "cell_type": "code",
   "execution_count": 12,
   "metadata": {
    "collapsed": false,
    "deletable": true,
    "editable": true
   },
   "outputs": [
    {
     "name": "stdout",
     "output_type": "stream",
     "text": [
      "Time step 0: (0, 0, 0, 0, 0, 0, 0, 0, 0, 0).\n",
      "Planner-simulator missmatch: 2.44683376591e-15\n",
      "Time step 1: (0, 0, 0, 0, 0, 0, 0, 0, 0, 0).\n",
      "Planner-simulator missmatch: 2.47321807978e-15\n",
      "Time step 2: (0, 0, 0, 0, 0, 0, 0, 0, 0, 0).\n",
      "Planner-simulator missmatch: 2.39428291244e-15\n",
      "Time step 3: (0, 0, 0, 0, 0, 0, 0, 0, 0, 0).\n",
      "Planner-simulator missmatch: 2.68392837303e-15\n",
      "Time step 4: (0, 0, 0, 0, 0, 0, 0, 0, 0, 0).\n",
      "Planner-simulator missmatch: 2.97734547686e-15\n",
      "Time step 5: (0, 0, 0, 0, 0, 0, 0, 0, 0, 0).\n",
      "Planner-simulator missmatch: 3.42257205057e-15\n",
      "Time step 6: (0, 0, 0, 0, 0, 0, 0, 0, 0, 0).\n",
      "Planner-simulator missmatch: 3.56644296579e-15\n",
      "Time step 7: (0, 0, 0, 0, 0, 0, 0, 0, 0, 0).\n",
      "Planner-simulator missmatch: 3.74776076984e-15\n",
      "Time step 8: (0, 0, 0, 0, 0, 0, 0, 0, 0, 0).\n",
      "Planner-simulator missmatch: 4.00874740442e-15\n",
      "Time step 9: (0, 0, 0, 0, 0, 0, 0, 0, 0, 0).\n",
      "Planner-simulator missmatch: 4.21351441315e-15\n",
      "Time step 10: (0, 0, 0, 0, 0, 0, 0, 0, 0, 0).\n",
      "Planner-simulator missmatch: 4.42428359017e-15\n",
      "Time step 11: (0, 0, 0, 0, 0, 0, 0, 0, 0, 0).\n",
      "Planner-simulator missmatch: 4.64743265156e-15\n",
      "Time step 12: (0, 0, 0, 0, 0, 0, 0, 0, 0, 0).\n",
      "Planner-simulator missmatch: 4.89164952869e-15\n",
      "Time step 13: (0, 0, 0, 0, 0, 0, 0, 0, 0, 0).\n",
      "Planner-simulator missmatch: 5.14584367251e-15\n",
      "Time step 14: (0, 0, 0, 0, 0, 0, 0, 0, 0, 0).\n",
      "Planner-simulator missmatch: 5.40305518719e-15\n",
      "Time step 15: (0, 0, 0, 0, 0, 0, 0, 0, 0, 0).\n",
      "Planner-simulator missmatch: 5.67133504428e-15\n",
      "Time step 16: (0, 0, 0, 0, 0, 0, 0, 0, 0, 0).\n",
      "Planner-simulator missmatch: 5.93580499367e-15\n",
      "Time step 17: (0, 0, 0, 0, 0, 0, 0, 0, 0, 0).\n",
      "Planner-simulator missmatch: 6.20542376066e-15\n",
      "Time step 18: (0, 0, 0, 0, 0, 0, 0, 0, 0, 0).\n",
      "Planner-simulator missmatch: 6.4855536604e-15\n",
      "Time step 19: (0, 0, 0, 0, 0, 0, 0, 0, 0, 0).\n",
      "Planner-simulator missmatch: 6.76980409442e-15\n"
     ]
    },
    {
     "data": {
      "image/png": "[encoded data removed]",
      "text/plain": [
       "<matplotlib.figure.Figure at 0x1031f10d0>"
      ]
     },
     "metadata": {},
     "output_type": "display_data"
    },
    {
     "data": {
      "image/png": "[encoded data removed]",
      "text/plain": [
       "<matplotlib.figure.Figure at 0x106e07810>"
      ]
     },
     "metadata": {},
     "output_type": "display_data"
    }
   ],
   "source": [
    "N_sim = 20\n",
    "x_0 = np.array([\n",
    "    [.0],\n",
    "    [.0],\n",
    "    [.0],\n",
    "    [.0],\n",
    "    [.0],\n",
    "    [.0],\n",
    "    [0.], # v_b_x\n",
    "    [.5] # v_b_y\n",
    "])\n",
    "u = []\n",
    "x = [x_0]\n",
    "u_ws = None\n",
    "x_ws = None\n",
    "ss_ws = None\n",
    "for k in range(N_sim):\n",
    "    u_k, x_k, ss_k = controller.feedforward(x[k], u_ws, x_ws, ss_ws)[0:3]\n",
    "    print('Time step ' + str(k) + ': ' + str(ss_k) + '.\\r')#,\n",
    "    #print x_k[1]\n",
    "    x_next = box_atlas.pwa_system.simulate(x[k], [u_k[0]])[0][1]\n",
    "    print 'Planner-simulator missmatch:', np.linalg.norm(x_next - x_k[1])\n",
    "    u.append(u_k[0])\n",
    "    x.append(x_next)\n",
    "    u_ws = u_k[1:] + [K.dot(x_k[-1])]\n",
    "    x_ws = x_k[1:] + [box_atlas.pwa_system.simulate(x_k[-1], [u_ws[-1]])[0][1]]\n",
    "    ss_ws = ss_k[1:] + (terminal_mode,)\n",
    "mpc_plt.input_sequence(u, parameters['sampling_time'])\n",
    "plt.show()\n",
    "mpc_plt.state_trajectory(x, parameters['sampling_time'])\n",
    "plt.show()"
   ]
  },
  {
   "cell_type": "markdown",
   "metadata": {
    "collapsed": true,
    "deletable": true,
    "editable": true
   },
   "source": [
    "# Visualizer"
   ]
  },
  {
   "cell_type": "markdown",
   "metadata": {
    "deletable": true,
    "editable": true
   },
   "source": [
    "Visualizer object"
   ]
  },
  {
   "cell_type": "code",
   "execution_count": null,
   "metadata": {
    "collapsed": true,
    "deletable": true,
    "editable": true
   },
   "outputs": [],
   "source": [
    "vis = vc.Visualizer()['box_altas']\n",
    "vertical_translation = - (nominal_limb_positions['lf'][1,0] + nominal_limb_positions['rf'][1,0]) / 2.\n",
    "vis.settransform(vc.transformations.translation_matrix([0.,0.,vertical_translation]))"
   ]
  },
  {
   "cell_type": "markdown",
   "metadata": {
    "deletable": true,
    "editable": true
   },
   "source": [
    "Numeric parameters"
   ]
  },
  {
   "cell_type": "code",
   "execution_count": null,
   "metadata": {
    "collapsed": true,
    "deletable": true,
    "editable": true
   },
   "outputs": [],
   "source": [
    "visualizer_parameters = {\n",
    "    'wall_x': 1.,\n",
    "    'wall_y': .02,\n",
    "    'body_xyz': .2,\n",
    "    'body_color': np.array([0.,0.,1.]),\n",
    "    'limb_color': np.array([1.,0.,0.]),\n",
    "    'wall_color': np.array([0.,1.,0.])\n",
    "}"
   ]
  },
  {
   "cell_type": "markdown",
   "metadata": {
    "deletable": true,
    "editable": true
   },
   "source": [
    "Body"
   ]
  },
  {
   "cell_type": "code",
   "execution_count": null,
   "metadata": {
    "collapsed": false,
    "deletable": true,
    "editable": true
   },
   "outputs": [],
   "source": [
    "vis['bq'].setgeometry(\n",
    "    vc.GeometryData(\n",
    "        vc.Box(\n",
    "            lengths = [visualizer_parameters['body_xyz']]*3),\n",
    "            color = np.hstack((visualizer_parameters['body_color'], 1.))\n",
    "            )\n",
    "    )"
   ]
  },
  {
   "cell_type": "markdown",
   "metadata": {
    "deletable": true,
    "editable": true
   },
   "source": [
    "Limbs"
   ]
  },
  {
   "cell_type": "code",
   "execution_count": null,
   "metadata": {
    "collapsed": true,
    "deletable": true,
    "editable": true
   },
   "outputs": [],
   "source": [
    "for limb in ['lf', 'rf', 'lh', 'rh']:\n",
    "    vis[limb].setgeometry(\n",
    "        vc.GeometryData(\n",
    "            vc.Sphere(radius = .05),\n",
    "            color = np.hstack((visualizer_parameters['limb_color'], 1.))\n",
    "            )\n",
    "        )"
   ]
  },
  {
   "cell_type": "markdown",
   "metadata": {
    "deletable": true,
    "editable": true
   },
   "source": [
    "Environment"
   ]
  },
  {
   "cell_type": "code",
   "execution_count": null,
   "metadata": {
    "collapsed": true,
    "deletable": true,
    "editable": true
   },
   "outputs": [],
   "source": [
    "vis = box_atlas.visualize_environment(vis)"
   ]
  },
  {
   "cell_type": "markdown",
   "metadata": {
    "deletable": true,
    "editable": true
   },
   "source": [
    "Animation"
   ]
  },
  {
   "cell_type": "code",
   "execution_count": null,
   "metadata": {
    "collapsed": false,
    "deletable": true,
    "editable": true
   },
   "outputs": [],
   "source": [
    "box_atlas.visualize(vis, x[0])\n",
    "time.sleep(10 * parameters['sampling_time'])\n",
    "for k in range(N_sim):\n",
    "    box_atlas.visualize(vis, x[k])\n",
    "    time.sleep(parameters['sampling_time'])"
   ]
  },
  {
   "cell_type": "markdown",
   "metadata": {
    "deletable": true,
    "editable": true
   },
   "source": [
    "# Library"
   ]
  },
  {
   "cell_type": "code",
   "execution_count": null,
   "metadata": {
    "collapsed": false,
    "deletable": true,
    "editable": true
   },
   "outputs": [],
   "source": [
    "from pympc.control import FeasibleSetLibrary"
   ]
  },
  {
   "cell_type": "code",
   "execution_count": null,
   "metadata": {
    "collapsed": true,
    "deletable": true,
    "editable": true
   },
   "outputs": [],
   "source": [
    "# sample filter\n",
    "state_domains = box_atlas._domains()[0]"
   ]
  },
  {
   "cell_type": "code",
   "execution_count": null,
   "metadata": {
    "collapsed": true,
    "deletable": true,
    "editable": true
   },
   "outputs": [],
   "source": [
    "# initialization of the library\n",
    "library = FeasibleSetLibrary(controller)"
   ]
  },
  {
   "cell_type": "markdown",
   "metadata": {
    "collapsed": true,
    "deletable": true,
    "editable": true
   },
   "source": [
    "# load\n",
    "samples_so_far = 50000\n",
    "library = np.load('library_box_atlas_' + str(samples_so_far) + '.npy').item()"
   ]
  },
  {
   "cell_type": "code",
   "execution_count": null,
   "metadata": {
    "collapsed": true,
    "deletable": true,
    "editable": true
   },
   "outputs": [],
   "source": [
    "# coverage\n",
    "sample_step = 500\n",
    "n_steps = 10\n",
    "for i in range(n_steps):\n",
    "    n = samples_so_far + (i+1)*sample_step\n",
    "    library.sample_policy(sample_step, state_domains)\n",
    "    print(str(n) + ' samples added to the library.')\n",
    "    np.save('library_box_atlas_' + str(n), library)"
   ]
  },
  {
   "cell_type": "code",
   "execution_count": null,
   "metadata": {
    "collapsed": true,
    "deletable": true,
    "editable": true
   },
   "outputs": [],
   "source": [
    "# shifted switching sequences\n",
    "library.add_shifted_switching_sequences(terminal_mode)"
   ]
  },
  {
   "cell_type": "markdown",
   "metadata": {
    "deletable": true,
    "editable": true
   },
   "source": [
    "# Tuning"
   ]
  },
  {
   "cell_type": "markdown",
   "metadata": {
    "collapsed": false,
    "deletable": true,
    "editable": true
   },
   "source": [
    "X = box_atlas._state_constraints()\n",
    "X.assemble()\n",
    "library = FeasibleSetLibrary(controller)\n",
    "for i in range(100):\n",
    "    x = library.random_sample(state_domains)\n",
    "    box_atlas.visualize(vis, x)\n",
    "    time.sleep(.3)"
   ]
  },
  {
   "cell_type": "markdown",
   "metadata": {
    "collapsed": true,
    "deletable": true,
    "editable": true
   },
   "source": [
    "# Test library"
   ]
  },
  {
   "cell_type": "code",
   "execution_count": null,
   "metadata": {
    "collapsed": false,
    "deletable": true,
    "editable": true
   },
   "outputs": [],
   "source": [
    "N_sim = 20\n",
    "x_0 = np.array([\n",
    "    [.0],\n",
    "    [.1],\n",
    "    [.0],\n",
    "    [.0],\n",
    "    [.0],\n",
    "    [.0],\n",
    "    [-.9], # v_b_x\n",
    "    [.0] # v_b_y\n",
    "])\n",
    "u = []\n",
    "x = [x_0]\n",
    "ss = []\n",
    "ss_feasible = None\n",
    "for k in range(N_sim):\n",
    "    print('Time step ' + str(k) + '.\\r'),\n",
    "    u_k, ss_k = library.feedback(x[k], ss_feasible)\n",
    "    print ss_k\n",
    "    u.append(u_k)\n",
    "    x.append(box_atlas.pwa_system.simulate(x[k], [u_k])[0][1])\n",
    "    ss.append(ss_k)\n",
    "    ss_feasible = ss_k[1:] + (terminal_mode,)"
   ]
  },
  {
   "cell_type": "code",
   "execution_count": null,
   "metadata": {
    "collapsed": false,
    "deletable": true,
    "editable": true
   },
   "outputs": [],
   "source": []
  },
  {
   "cell_type": "code",
   "execution_count": null,
   "metadata": {
    "collapsed": false
   },
   "outputs": [],
   "source": [
    "box_atlas"
   ]
  },
  {
   "cell_type": "code",
   "execution_count": null,
   "metadata": {
    "collapsed": true
   },
   "outputs": [],
   "source": []
  }
 ],
 "metadata": {
  "kernelspec": {
   "display_name": "Python 2",
   "language": "python",
   "name": "python2"
  },
  "language_info": {
   "codemirror_mode": {
    "name": "ipython",
    "version": 2
   },
   "file_extension": ".py",
   "mimetype": "text/x-python",
   "name": "python",
   "nbconvert_exporter": "python",
   "pygments_lexer": "ipython2",
   "version": "2.7.13"
  }
 },
 "nbformat": 4,
 "nbformat_minor": 2
}
