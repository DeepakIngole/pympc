{
 "cells": [
  {
   "cell_type": "code",
   "execution_count": 1,
   "metadata": {
    "collapsed": false,
    "deletable": true,
    "editable": true
   },
   "outputs": [],
   "source": [
    "%load_ext autoreload\n",
    "%autoreload 2"
   ]
  },
  {
   "cell_type": "code",
   "execution_count": 2,
   "metadata": {
    "collapsed": false,
    "deletable": true,
    "editable": true
   },
   "outputs": [],
   "source": [
    "import time\n",
    "import numpy as np\n",
    "import matplotlib.pyplot as plt\n",
    "from pympc.models.boxatlas_parametric import BoxAtlas, MovingLimb, FixedLimb\n",
    "from pympc.dynamical_systems import dare, moas_closed_loop_from_orthogonal_domains\n",
    "from pympc.control import MPCHybridController\n",
    "from pympc.geometry.polytope import Polytope\n",
    "import pympc.plot as mpc_plt\n",
    "import director.viewerclient as vc\n",
    "from director.thirdparty import transformations"
   ]
  },
  {
   "cell_type": "markdown",
   "metadata": {
    "deletable": true,
    "editable": true
   },
   "source": [
    "Numeric parameters"
   ]
  },
  {
   "cell_type": "code",
   "execution_count": 3,
   "metadata": {
    "collapsed": false,
    "deletable": true,
    "editable": true
   },
   "outputs": [],
   "source": [
    "parameters = {\n",
    "    'mass': 1.,\n",
    "    'stiffness': 100.,\n",
    "    'damping': 1000.,\n",
    "    'friction_coefficient': .5,\n",
    "    'gravity': 10.,\n",
    "    'sampling_time': .1\n",
    "    }"
   ]
  },
  {
   "cell_type": "markdown",
   "metadata": {
    "deletable": true,
    "editable": true
   },
   "source": [
    "Nominal state and input"
   ]
  },
  {
   "cell_type": "code",
   "execution_count": 4,
   "metadata": {
    "collapsed": false,
    "deletable": true,
    "editable": true
   },
   "outputs": [],
   "source": [
    "weight = parameters['mass'] * parameters['gravity']\n",
    "penetration = weight / parameters['stiffness']\n",
    "nominal_limb_positions = {\n",
    "    'lf': np.array([[.2], [-.5 - penetration / 2.]]),\n",
    "    'rf': np.array([[-.2], [-.5 - penetration / 2.]]),\n",
    "    'lh': np.array([[.3], [.0]]),\n",
    "    'rh': np.array([[-.3], [.0]])\n",
    "    }\n",
    "nominal_limb_forces = {\n",
    "    'lf': np.array([[weight / 2.], [0.]]),\n",
    "    'rf': np.array([[weight / 2.], [0.]]),\n",
    "    'lh': np.zeros((2,1)),\n",
    "    'rh': np.zeros((2,1))\n",
    "    }"
   ]
  },
  {
   "cell_type": "markdown",
   "metadata": {
    "deletable": true,
    "editable": true
   },
   "source": [
    "State limits"
   ]
  },
  {
   "cell_type": "code",
   "execution_count": 5,
   "metadata": {
    "collapsed": true,
    "deletable": true,
    "editable": true
   },
   "outputs": [],
   "source": [
    "kinematic_limits = {\n",
    "        'lf': {'min': np.array([[.0],[-.7]]), 'max': np.array([[.4],[-.3]])},\n",
    "        'rf': {'min': np.array([[-.4],[-.7]]), 'max': np.array([[0.],[-.3]])},\n",
    "        'lh': {'min': np.array([[.2],[-.2]]), 'max': np.array([[.6],[.2]])},\n",
    "        'rh': {'min': np.array([[-.6],[-.2]]), 'max': np.array([[-.2],[.2]])},\n",
    "        }\n",
    "velocity_limits = {\n",
    "        'lf': {'min': -np.ones((2,1)), 'max': np.ones((2,1))},\n",
    "        'rf': {'min': -np.ones((2,1)), 'max': np.ones((2,1))},\n",
    "        'lh': {'min': -np.ones((2,1)), 'max': np.ones((2,1))},\n",
    "        'rh': {'min': -np.ones((2,1)), 'max': np.ones((2,1))},\n",
    "        }"
   ]
  },
  {
   "cell_type": "markdown",
   "metadata": {
    "deletable": true,
    "editable": true
   },
   "source": [
    "Force limits"
   ]
  },
  {
   "cell_type": "code",
   "execution_count": 6,
   "metadata": {
    "collapsed": true,
    "deletable": true,
    "editable": true
   },
   "outputs": [],
   "source": [
    "f_n_max = 2. * weight\n",
    "f_t_max = parameters['friction_coefficient'] * f_n_max\n",
    "f_min = np.array([[0.], [-f_t_max]])\n",
    "f_max = np.array([[f_n_max], [f_t_max]])\n",
    "force_limits = {\n",
    "        'lf': {'min': f_min, 'max': f_max},\n",
    "        'rf': {'min': f_min, 'max': f_max},\n",
    "        'lh': {'min': f_min, 'max': f_max},\n",
    "        'rh': {'min': f_min, 'max': f_max},\n",
    "        }"
   ]
  },
  {
   "cell_type": "markdown",
   "metadata": {
    "deletable": true,
    "editable": true
   },
   "source": [
    "Robot topology"
   ]
  },
  {
   "cell_type": "code",
   "execution_count": 7,
   "metadata": {
    "collapsed": false,
    "deletable": true,
    "editable": true
   },
   "outputs": [],
   "source": [
    "lh = [\n",
    "    MovingLimb(np.array([[1., 0.],[0., -1.]]), np.ones((2,1))/2., None),\n",
    "    MovingLimb(-np.eye(2), np.array([[-.5],[.5]]), 0)\n",
    "    ]\n",
    "#rh = [\n",
    "    #MovingLimb(-np.eye(2), np.ones((2,1))/2., None),\n",
    "    #MovingLimb(np.array([[1., 0.],[0., -1.]]), np.array([[-.5],[.5]]), 0)\n",
    "    #]\n",
    "\n",
    "\n",
    "rh = [\n",
    "    MovingLimb(np.array([[0., -1.],[-3., -1.],[-3., 1.]]), np.array([[.5],[1.8],[1.8]]), None),\n",
    "    MovingLimb(np.array([[0., -1.],[0., 1.],[3., 1.]]), np.array([[.5],[0.],[-1.8]]), 2),\n",
    "    MovingLimb(np.array([[0., -1.],[3., -1.]]), np.array([[0.],[-1.8]]), 1),\n",
    "]\n",
    "\n",
    "\n",
    "lf = FixedLimb(np.array([[.2],[-.5]]), np.array([[0.],[1.]]))\n",
    "#lf = [\n",
    "    #MovingLimb(np.array([[1., 0.],[0., -1.]]), np.ones((2,1))/2., None),\n",
    "    #MovingLimb(np.eye(2), np.array([[.5],[-.5]]), 1)\n",
    "    #]\n",
    "rf = FixedLimb(np.array([[-.2],[-.5]]), np.array([[0.],[1.]]))\n",
    "topology = { 'moving': {'lh': lh, 'rh': rh}, 'fixed': {'lf': lf, 'rf': rf} }\n",
    "#topology = { 'moving': {'lf': lf, 'lh': lh, 'rh': rh}, 'fixed': {'rf': rf} }"
   ]
  },
  {
   "cell_type": "markdown",
   "metadata": {
    "deletable": true,
    "editable": true
   },
   "source": [
    "Construct box atlas"
   ]
  },
  {
   "cell_type": "code",
   "execution_count": 8,
   "metadata": {
    "collapsed": false,
    "deletable": true,
    "editable": true
   },
   "outputs": [],
   "source": [
    "box_atlas = BoxAtlas(\n",
    "    topology,\n",
    "    parameters,\n",
    "    nominal_limb_positions,\n",
    "    nominal_limb_forces,\n",
    "    kinematic_limits,\n",
    "    velocity_limits,\n",
    "    force_limits\n",
    ")"
   ]
  },
  {
   "cell_type": "code",
   "execution_count": 9,
   "metadata": {
    "collapsed": false,
    "deletable": true,
    "editable": true
   },
   "outputs": [
    {
     "name": "stdout",
     "output_type": "stream",
     "text": [
      "[{'rh': 0, 'lh': 0}, {'rh': 0, 'lh': 1}, {'rh': 1, 'lh': 0}, {'rh': 1, 'lh': 1}, {'rh': 2, 'lh': 0}, {'rh': 2, 'lh': 1}]\n"
     ]
    }
   ],
   "source": [
    "print box_atlas.contact_modes"
   ]
  },
  {
   "cell_type": "markdown",
   "metadata": {
    "deletable": true,
    "editable": true
   },
   "source": [
    "Hybrid controller ingredients"
   ]
  },
  {
   "cell_type": "code",
   "execution_count": 10,
   "metadata": {
    "collapsed": false,
    "deletable": true,
    "editable": true
   },
   "outputs": [
    {
     "name": "stdout",
     "output_type": "stream",
     "text": [
      "Computation of MOAS started... MOAS found.\n",
      "MOAS facets are 285, removing redundant ones... redundant factes removed, MOAS facets are 134.\n"
     ]
    }
   ],
   "source": [
    "N = 10\n",
    "Q = np.eye(box_atlas.n_x)\n",
    "R = np.eye(box_atlas.n_u)\n",
    "objective_norm = 'two'\n",
    "terminal_mode = 0\n",
    "P, K = dare(\n",
    "    box_atlas.affine_systems[terminal_mode].A,\n",
    "    box_atlas.affine_systems[terminal_mode].B,\n",
    "    Q,\n",
    "    R)\n",
    "X_N = moas_closed_loop_from_orthogonal_domains(\n",
    "    box_atlas.affine_systems[terminal_mode].A,\n",
    "    box_atlas.affine_systems[terminal_mode].B,\n",
    "    K,\n",
    "    box_atlas.state_domains[terminal_mode],\n",
    "    box_atlas.input_domains[terminal_mode])\n",
    "#X_N = Polytope.from_bounds(-np.ones((8,1))/1000., np.ones((8,1))/1000.)\n",
    "#X_N.assemble()"
   ]
  },
  {
   "cell_type": "markdown",
   "metadata": {
    "deletable": true,
    "editable": true
   },
   "source": [
    "Hybrid controller"
   ]
  },
  {
   "cell_type": "code",
   "execution_count": 11,
   "metadata": {
    "collapsed": false,
    "deletable": true,
    "editable": true
   },
   "outputs": [],
   "source": [
    "controller = MPCHybridController(box_atlas.pwa_system, N, objective_norm, Q, R, P, X_N)"
   ]
  },
  {
   "cell_type": "markdown",
   "metadata": {
    "deletable": true,
    "editable": true
   },
   "source": [
    "Closed-loop system simulation"
   ]
  },
  {
   "cell_type": "code",
   "execution_count": 17,
   "metadata": {
    "collapsed": false,
    "deletable": true,
    "editable": true
   },
   "outputs": [
    {
     "name": "stdout",
     "output_type": "stream",
     "text": [
      "Time step 6: (nan, nan, nan, nan, nan, nan, nan, nan, nan, nan).\r"
     ]
    },
    {
     "ename": "ValueError",
     "evalue": "Unfeasible state x = [-0.1        0.         0.         0.        -0.2        0.         0.0276497\n  0.       ] or input u = [ nan  nan  nan  nan  nan  nan  nan  nan]",
     "output_type": "error",
     "traceback": [
      "\u001b[0;31m---------------------------------------------------------------------------\u001b[0m",
      "\u001b[0;31mValueError\u001b[0m                                Traceback (most recent call last)",
      "\u001b[0;32m<ipython-input-17-173b23b17fc3>\u001b[0m in \u001b[0;36m<module>\u001b[0;34m()\u001b[0m\n\u001b[1;32m     18\u001b[0m     \u001b[0mu_k\u001b[0m\u001b[0;34m,\u001b[0m \u001b[0mx_k\u001b[0m\u001b[0;34m,\u001b[0m \u001b[0mss_k\u001b[0m \u001b[0;34m=\u001b[0m \u001b[0mcontroller\u001b[0m\u001b[0;34m.\u001b[0m\u001b[0mfeedforward\u001b[0m\u001b[0;34m(\u001b[0m\u001b[0mx\u001b[0m\u001b[0;34m[\u001b[0m\u001b[0mk\u001b[0m\u001b[0;34m]\u001b[0m\u001b[0;34m,\u001b[0m \u001b[0mu_ws\u001b[0m\u001b[0;34m,\u001b[0m \u001b[0mx_ws\u001b[0m\u001b[0;34m,\u001b[0m \u001b[0mss_ws\u001b[0m\u001b[0;34m)\u001b[0m\u001b[0;34m[\u001b[0m\u001b[0;36m0\u001b[0m\u001b[0;34m:\u001b[0m\u001b[0;36m3\u001b[0m\u001b[0;34m]\u001b[0m\u001b[0;34m\u001b[0m\u001b[0m\n\u001b[1;32m     19\u001b[0m     \u001b[0;32mprint\u001b[0m\u001b[0;34m(\u001b[0m\u001b[0;34m'Time step '\u001b[0m \u001b[0;34m+\u001b[0m \u001b[0mstr\u001b[0m\u001b[0;34m(\u001b[0m\u001b[0mk\u001b[0m\u001b[0;34m)\u001b[0m \u001b[0;34m+\u001b[0m \u001b[0;34m': '\u001b[0m \u001b[0;34m+\u001b[0m \u001b[0mstr\u001b[0m\u001b[0;34m(\u001b[0m\u001b[0mss_k\u001b[0m\u001b[0;34m)\u001b[0m \u001b[0;34m+\u001b[0m \u001b[0;34m'.\\r'\u001b[0m\u001b[0;34m)\u001b[0m\u001b[0;34m,\u001b[0m\u001b[0;34m\u001b[0m\u001b[0m\n\u001b[0;32m---> 20\u001b[0;31m     \u001b[0mx_next\u001b[0m \u001b[0;34m=\u001b[0m \u001b[0mbox_atlas\u001b[0m\u001b[0;34m.\u001b[0m\u001b[0mpwa_system\u001b[0m\u001b[0;34m.\u001b[0m\u001b[0msimulate\u001b[0m\u001b[0;34m(\u001b[0m\u001b[0mx\u001b[0m\u001b[0;34m[\u001b[0m\u001b[0mk\u001b[0m\u001b[0;34m]\u001b[0m\u001b[0;34m,\u001b[0m \u001b[0;34m[\u001b[0m\u001b[0mu_k\u001b[0m\u001b[0;34m[\u001b[0m\u001b[0;36m0\u001b[0m\u001b[0;34m]\u001b[0m\u001b[0;34m]\u001b[0m\u001b[0;34m)\u001b[0m\u001b[0;34m[\u001b[0m\u001b[0;36m0\u001b[0m\u001b[0;34m]\u001b[0m\u001b[0;34m[\u001b[0m\u001b[0;36m1\u001b[0m\u001b[0;34m]\u001b[0m\u001b[0;34m\u001b[0m\u001b[0m\n\u001b[0m\u001b[1;32m     21\u001b[0m     \u001b[0mu\u001b[0m\u001b[0;34m.\u001b[0m\u001b[0mappend\u001b[0m\u001b[0;34m(\u001b[0m\u001b[0mu_k\u001b[0m\u001b[0;34m[\u001b[0m\u001b[0;36m0\u001b[0m\u001b[0;34m]\u001b[0m\u001b[0;34m)\u001b[0m\u001b[0;34m\u001b[0m\u001b[0m\n\u001b[1;32m     22\u001b[0m     \u001b[0mx\u001b[0m\u001b[0;34m.\u001b[0m\u001b[0mappend\u001b[0m\u001b[0;34m(\u001b[0m\u001b[0mx_next\u001b[0m\u001b[0;34m)\u001b[0m\u001b[0;34m\u001b[0m\u001b[0m\n",
      "\u001b[0;32m/Users/tobia/py-mpc/pympc/dynamical_systems.pyc\u001b[0m in \u001b[0;36msimulate\u001b[0;34m(self, x0, u_list)\u001b[0m\n\u001b[1;32m    121\u001b[0m             \u001b[0mdomain\u001b[0m \u001b[0;34m=\u001b[0m \u001b[0mself\u001b[0m\u001b[0;34m.\u001b[0m\u001b[0mfind_domain\u001b[0m\u001b[0;34m(\u001b[0m\u001b[0mx_list\u001b[0m\u001b[0;34m[\u001b[0m\u001b[0mk\u001b[0m\u001b[0;34m]\u001b[0m\u001b[0;34m,\u001b[0m \u001b[0mu_list\u001b[0m\u001b[0;34m[\u001b[0m\u001b[0mk\u001b[0m\u001b[0;34m]\u001b[0m\u001b[0;34m)\u001b[0m\u001b[0;34m\u001b[0m\u001b[0m\n\u001b[1;32m    122\u001b[0m             \u001b[0;32mif\u001b[0m \u001b[0mdomain\u001b[0m \u001b[0;32mis\u001b[0m \u001b[0mNone\u001b[0m\u001b[0;34m:\u001b[0m\u001b[0;34m\u001b[0m\u001b[0m\n\u001b[0;32m--> 123\u001b[0;31m                 \u001b[0;32mraise\u001b[0m \u001b[0mValueError\u001b[0m\u001b[0;34m(\u001b[0m\u001b[0;34m'Unfeasible state x = '\u001b[0m \u001b[0;34m+\u001b[0m \u001b[0mstr\u001b[0m\u001b[0;34m(\u001b[0m\u001b[0mx_list\u001b[0m\u001b[0;34m[\u001b[0m\u001b[0mk\u001b[0m\u001b[0;34m]\u001b[0m\u001b[0;34m.\u001b[0m\u001b[0mflatten\u001b[0m\u001b[0;34m(\u001b[0m\u001b[0;34m)\u001b[0m\u001b[0;34m)\u001b[0m \u001b[0;34m+\u001b[0m \u001b[0;34m' or input u = '\u001b[0m \u001b[0;34m+\u001b[0m \u001b[0mstr\u001b[0m\u001b[0;34m(\u001b[0m\u001b[0mu_list\u001b[0m\u001b[0;34m[\u001b[0m\u001b[0mk\u001b[0m\u001b[0;34m]\u001b[0m\u001b[0;34m.\u001b[0m\u001b[0mflatten\u001b[0m\u001b[0;34m(\u001b[0m\u001b[0;34m)\u001b[0m\u001b[0;34m)\u001b[0m\u001b[0;34m)\u001b[0m\u001b[0;34m\u001b[0m\u001b[0m\n\u001b[0m\u001b[1;32m    124\u001b[0m             \u001b[0;32melse\u001b[0m\u001b[0;34m:\u001b[0m\u001b[0;34m\u001b[0m\u001b[0m\n\u001b[1;32m    125\u001b[0m                 \u001b[0msys\u001b[0m \u001b[0;34m=\u001b[0m \u001b[0mself\u001b[0m\u001b[0;34m.\u001b[0m\u001b[0maffine_systems\u001b[0m\u001b[0;34m[\u001b[0m\u001b[0mdomain\u001b[0m\u001b[0;34m]\u001b[0m\u001b[0;34m\u001b[0m\u001b[0m\n",
      "\u001b[0;31mValueError\u001b[0m: Unfeasible state x = [-0.1        0.         0.         0.        -0.2        0.         0.0276497\n  0.       ] or input u = [ nan  nan  nan  nan  nan  nan  nan  nan]"
     ]
    }
   ],
   "source": [
    "N_sim = 20\n",
    "x_0 = np.array([\n",
    "    [.0],\n",
    "    [.0],\n",
    "    [.0],\n",
    "    [.0],\n",
    "    [-.0],\n",
    "    [.0],\n",
    "    [-.9], # v_b_x\n",
    "    [-.0] # v_b_y\n",
    "])\n",
    "u = []\n",
    "x = [x_0]\n",
    "u_ws = None\n",
    "x_ws = None\n",
    "ss_ws = None\n",
    "for k in range(N_sim):\n",
    "    u_k, x_k, ss_k = controller.feedforward(x[k], u_ws, x_ws, ss_ws)[0:3]\n",
    "    print('Time step ' + str(k) + ': ' + str(ss_k) + '.\\r'),\n",
    "    x_next = box_atlas.pwa_system.simulate(x[k], [u_k[0]])[0][1]\n",
    "    u.append(u_k[0])\n",
    "    x.append(x_next)\n",
    "    u_ws = u_k[1:] + [K.dot(x_k[-1])]\n",
    "    x_ws = x_k[1:] + [box_atlas.pwa_system.simulate(x_k[-1], [u_ws[-1]])[0][1]]\n",
    "    ss_ws = ss_k[1:] + (terminal_mode,)\n",
    "mpc_plt.input_sequence(u, parameters['sampling_time'])\n",
    "plt.show()\n",
    "mpc_plt.state_trajectory(x, parameters['sampling_time'])\n",
    "plt.show()"
   ]
  },
  {
   "cell_type": "markdown",
   "metadata": {
    "collapsed": true,
    "deletable": true,
    "editable": true
   },
   "source": [
    "# Visualizer"
   ]
  },
  {
   "cell_type": "markdown",
   "metadata": {
    "deletable": true,
    "editable": true
   },
   "source": [
    "Visualizer object"
   ]
  },
  {
   "cell_type": "code",
   "execution_count": null,
   "metadata": {
    "collapsed": false,
    "deletable": true,
    "editable": true
   },
   "outputs": [],
   "source": [
    "vis = vc.Visualizer()['box_altas']\n",
    "vertical_translation = - (nominal_limb_positions['lf'][1,0] + nominal_limb_positions['rf'][1,0]) / 2.\n",
    "vis.settransform(vc.transformations.translation_matrix([0.,0.,vertical_translation]))"
   ]
  },
  {
   "cell_type": "markdown",
   "metadata": {
    "deletable": true,
    "editable": true
   },
   "source": [
    "Numeric parameters"
   ]
  },
  {
   "cell_type": "code",
   "execution_count": null,
   "metadata": {
    "collapsed": true,
    "deletable": true,
    "editable": true
   },
   "outputs": [],
   "source": [
    "visualizer_parameters = {\n",
    "    'wall_x': 1.,\n",
    "    'wall_y': .02,\n",
    "    'body_xyz': .2,\n",
    "    'body_color': np.array([0.,0.,1.]),\n",
    "    'limb_color': np.array([1.,0.,0.]),\n",
    "    'wall_color': np.array([0.,1.,0.])\n",
    "}"
   ]
  },
  {
   "cell_type": "markdown",
   "metadata": {
    "deletable": true,
    "editable": true
   },
   "source": [
    "Body"
   ]
  },
  {
   "cell_type": "code",
   "execution_count": null,
   "metadata": {
    "collapsed": false,
    "deletable": true,
    "editable": true
   },
   "outputs": [],
   "source": [
    "vis['bq'].setgeometry(\n",
    "    vc.GeometryData(\n",
    "        vc.Box(\n",
    "            lengths = [visualizer_parameters['body_xyz']]*3),\n",
    "            color = np.hstack((visualizer_parameters['body_color'], 1.))\n",
    "            )\n",
    "    )"
   ]
  },
  {
   "cell_type": "markdown",
   "metadata": {
    "deletable": true,
    "editable": true
   },
   "source": [
    "Limbs"
   ]
  },
  {
   "cell_type": "code",
   "execution_count": null,
   "metadata": {
    "collapsed": false,
    "deletable": true,
    "editable": true
   },
   "outputs": [],
   "source": [
    "for limb in ['lf', 'rf', 'lh', 'rh']:\n",
    "    vis[limb].setgeometry(\n",
    "        vc.GeometryData(\n",
    "            vc.Sphere(radius = .05),\n",
    "            color = np.hstack((visualizer_parameters['limb_color'], 1.))\n",
    "            )\n",
    "        )"
   ]
  },
  {
   "cell_type": "markdown",
   "metadata": {
    "deletable": true,
    "editable": true
   },
   "source": [
    "Environment"
   ]
  },
  {
   "cell_type": "code",
   "execution_count": null,
   "metadata": {
    "collapsed": false,
    "deletable": true,
    "editable": true
   },
   "outputs": [],
   "source": [
    "vis = box_atlas.visualize_environment(vis)"
   ]
  },
  {
   "cell_type": "markdown",
   "metadata": {
    "deletable": true,
    "editable": true
   },
   "source": [
    "Animation"
   ]
  },
  {
   "cell_type": "code",
   "execution_count": null,
   "metadata": {
    "collapsed": false,
    "deletable": true,
    "editable": true
   },
   "outputs": [],
   "source": [
    "box_atlas.visualize(vis, x[0])\n",
    "time.sleep(10 * parameters['sampling_time'])\n",
    "for k in range(N_sim):\n",
    "    box_atlas.visualize(vis, x[k])\n",
    "    time.sleep(parameters['sampling_time'])"
   ]
  },
  {
   "cell_type": "markdown",
   "metadata": {
    "deletable": true,
    "editable": true
   },
   "source": [
    "# Library"
   ]
  },
  {
   "cell_type": "code",
   "execution_count": null,
   "metadata": {
    "collapsed": true,
    "deletable": true,
    "editable": true
   },
   "outputs": [],
   "source": [
    "from pympc.control import FeasibleSetLibrary"
   ]
  },
  {
   "cell_type": "markdown",
   "metadata": {
    "deletable": true,
    "editable": true
   },
   "source": [
    "# initialization of the library\n",
    "library = FeasibleSetLibrary(controller)\n",
    "\n",
    "# coverage\n",
    "n_samples = 10**2\n",
    "X = box_atlas._state_constraints()\n",
    "X.assemble()\n",
    "library.sample_policy(n_samples, X)\n",
    "\n",
    "# shifted switching sequences\n",
    "library.add_shifted_switching_sequences(terminal_mode)\n",
    "\n",
    "# save\n",
    "np.save('library_box_atlas_100', library)\n",
    "\n",
    "# load\n",
    "#library = np.load('library_cart_pole_100k.npy').item()"
   ]
  },
  {
   "cell_type": "code",
   "execution_count": null,
   "metadata": {
    "collapsed": true
   },
   "outputs": [],
   "source": []
  }
 ],
 "metadata": {
  "kernelspec": {
   "display_name": "Python 2",
   "language": "python",
   "name": "python2"
  },
  "language_info": {
   "codemirror_mode": {
    "name": "ipython",
    "version": 2
   },
   "file_extension": ".py",
   "mimetype": "text/x-python",
   "name": "python",
   "nbconvert_exporter": "python",
   "pygments_lexer": "ipython2",
   "version": "2.7.13"
  }
 },
 "nbformat": 4,
 "nbformat_minor": 2
}
