{
 "cells": [
  {
   "cell_type": "code",
   "execution_count": 1,
   "metadata": {
    "collapsed": true
   },
   "outputs": [],
   "source": [
    "%load_ext autoreload\n",
    "%autoreload 2"
   ]
  },
  {
   "cell_type": "code",
   "execution_count": 14,
   "metadata": {
    "collapsed": false
   },
   "outputs": [],
   "source": [
    "import numpy as np\n",
    "import matplotlib.pyplot as plt\n",
    "from pympc.models.boxatlas_parametric import BoxAtlas, MovingLimb, FixedLimb\n",
    "from pympc.dynamical_systems import dare, moas_closed_loop_from_orthogonal_domains\n",
    "from pympc.control import MPCHybridController\n",
    "import pympc.plot as mpc_plt"
   ]
  },
  {
   "cell_type": "markdown",
   "metadata": {},
   "source": [
    "Numeric parameters"
   ]
  },
  {
   "cell_type": "code",
   "execution_count": 3,
   "metadata": {
    "collapsed": false
   },
   "outputs": [],
   "source": [
    "parameters = {\n",
    "    'mass': 1.,\n",
    "    'stiffness': 100.,\n",
    "    'damping': 1000.,\n",
    "    'friction_coefficient': .5,\n",
    "    'gravity': 10.,\n",
    "    'sampling_time': .1\n",
    "    }"
   ]
  },
  {
   "cell_type": "markdown",
   "metadata": {},
   "source": [
    "Nominal state and input"
   ]
  },
  {
   "cell_type": "code",
   "execution_count": 4,
   "metadata": {
    "collapsed": false
   },
   "outputs": [],
   "source": [
    "weight = parameters['mass'] * parameters['gravity']\n",
    "penetration = weight / parameters['stiffness']\n",
    "nominal_limb_positions = {\n",
    "    'lf': np.array([[.2], [-.5 - penetration / 2.]]),\n",
    "    'rf': np.array([[-.2], [-.5 - penetration / 2.]]),\n",
    "    'lh': np.array([[.3], [.1]]),\n",
    "    'rh': np.array([[-.3], [.1]])\n",
    "    }\n",
    "nominal_limb_forces = {\n",
    "    'lf': np.array([[weight / 2.], [0.]]),\n",
    "    'rf': np.array([[weight / 2.], [0.]]),\n",
    "    'lh': np.zeros((2,1)),\n",
    "    'rh': np.zeros((2,1))\n",
    "    }"
   ]
  },
  {
   "cell_type": "markdown",
   "metadata": {},
   "source": [
    "State limits"
   ]
  },
  {
   "cell_type": "code",
   "execution_count": 5,
   "metadata": {
    "collapsed": true
   },
   "outputs": [],
   "source": [
    "kinematic_limits = {\n",
    "        'lf': {'min': np.array([[.0],[-.7]]), 'max': np.array([[.4],[-.3]])},\n",
    "        'rf': {'min': np.array([[-.4],[-.7]]), 'max': np.array([[0.],[-.3]])},\n",
    "        'lh': {'min': np.array([[.2],[-.1]]), 'max': np.array([[.6],[.3]])},\n",
    "        'rh': {'min': np.array([[-.6],[-.1]]), 'max': np.array([[-.2],[.3]])},\n",
    "        }\n",
    "velocity_limits = {\n",
    "        'lf': {'min': -np.ones((2,1)), 'max': np.ones((2,1))},\n",
    "        'rf': {'min': -np.ones((2,1)), 'max': np.ones((2,1))},\n",
    "        'lh': {'min': -np.ones((2,1)), 'max': np.ones((2,1))},\n",
    "        'rh': {'min': -np.ones((2,1)), 'max': np.ones((2,1))},\n",
    "        }"
   ]
  },
  {
   "cell_type": "markdown",
   "metadata": {},
   "source": [
    "Force limits"
   ]
  },
  {
   "cell_type": "code",
   "execution_count": 6,
   "metadata": {
    "collapsed": true
   },
   "outputs": [],
   "source": [
    "f_n_max = 2. * weight\n",
    "f_t_max = parameters['friction_coefficient'] * f_n_max\n",
    "f_min = np.array([[0.], [-f_t_max]])\n",
    "f_max = np.array([[f_n_max], [f_t_max]])\n",
    "force_limits = {\n",
    "        'lf': {'min': f_min, 'max': f_max},\n",
    "        'rf': {'min': f_min, 'max': f_max},\n",
    "        'lh': {'min': f_min, 'max': f_max},\n",
    "        'rh': {'min': f_min, 'max': f_max},\n",
    "        }"
   ]
  },
  {
   "cell_type": "markdown",
   "metadata": {},
   "source": [
    "Robot topology"
   ]
  },
  {
   "cell_type": "code",
   "execution_count": 7,
   "metadata": {
    "collapsed": false
   },
   "outputs": [],
   "source": [
    "lh = [\n",
    "    MovingLimb(np.array([[1., 0.],[0., -1.]]), np.ones((2,1))/2., None),\n",
    "    MovingLimb(-np.eye(2), np.array([[-.5],[.5]]), 0)\n",
    "    ]\n",
    "rh = [\n",
    "    MovingLimb(-np.eye(2), np.ones((2,1))/2., None),\n",
    "    MovingLimb(np.array([[1., 0.],[0., -1.]]), np.array([[-.5],[.5]]), 0)\n",
    "    ]\n",
    "lf = FixedLimb(np.array([[.2],[-.5]]), np.array([[0.],[1.]]))\n",
    "rf = FixedLimb(np.array([[-.2],[-.5]]), np.array([[0.],[1.]]))\n",
    "topology = {\n",
    "    'moving': {'lh': lh, 'rh': rh},\n",
    "    'fixed': {'lf': lf, 'rf': rf},\n",
    "    }"
   ]
  },
  {
   "cell_type": "markdown",
   "metadata": {},
   "source": [
    "Construct box atlas"
   ]
  },
  {
   "cell_type": "code",
   "execution_count": 11,
   "metadata": {
    "collapsed": false
   },
   "outputs": [],
   "source": [
    "box_atlas = BoxAtlas(\n",
    "    topology,\n",
    "    parameters,\n",
    "    nominal_limb_positions,\n",
    "    nominal_limb_forces,\n",
    "    kinematic_limits,\n",
    "    velocity_limits,\n",
    "    force_limits\n",
    ")"
   ]
  },
  {
   "cell_type": "markdown",
   "metadata": {},
   "source": [
    "Hybrid controller ingredients"
   ]
  },
  {
   "cell_type": "code",
   "execution_count": 12,
   "metadata": {
    "collapsed": false
   },
   "outputs": [
    {
     "name": "stdout",
     "output_type": "stream",
     "text": [
      "Computation of MOAS started... MOAS found.\n",
      "MOAS facets are 270, removing redundant ones... redundant factes removed, MOAS facets are 124.\n"
     ]
    }
   ],
   "source": [
    "N = 10\n",
    "Q = np.eye(box_atlas.n_x)\n",
    "R = np.eye(box_atlas.n_u)\n",
    "objective_norm = 'two'\n",
    "terminal_mode = 0\n",
    "P, K = dare(\n",
    "    box_atlas.affine_systems[terminal_mode].A,\n",
    "    box_atlas.affine_systems[terminal_mode].B,\n",
    "    Q,\n",
    "    R)\n",
    "X_N = moas_closed_loop_from_orthogonal_domains(\n",
    "    box_atlas.affine_systems[terminal_mode].A,\n",
    "    box_atlas.affine_systems[terminal_mode].B,\n",
    "    K,\n",
    "    box_atlas.state_domains[terminal_mode],\n",
    "    box_atlas.input_domains[terminal_mode])"
   ]
  },
  {
   "cell_type": "markdown",
   "metadata": {},
   "source": [
    "Hybrid controller"
   ]
  },
  {
   "cell_type": "code",
   "execution_count": 13,
   "metadata": {
    "collapsed": false
   },
   "outputs": [],
   "source": [
    "controller = MPCHybridController(box_atlas.pwa_system, N, objective_norm, Q, R, P, X_N)"
   ]
  },
  {
   "cell_type": "markdown",
   "metadata": {},
   "source": [
    "Closed-loop system simulation"
   ]
  },
  {
   "cell_type": "code",
   "execution_count": 19,
   "metadata": {
    "collapsed": false
   },
   "outputs": [
    {
     "name": "stdout",
     "output_type": "stream",
     "text": [
      "Time step 49: (0, 0, 0, 0, 0, 0, 0, 0, 0, 0).\r"
     ]
    },
    {
     "data": {
      "image/png": "[encoded data removed]",
      "text/plain": [
       "<matplotlib.figure.Figure at 0x10d9c2450>"
      ]
     },
     "metadata": {},
     "output_type": "display_data"
    },
    {
     "data": {
      "image/png": "[encoded data removed]",
      "text/plain": [
       "<matplotlib.figure.Figure at 0x10d9c2c90>"
      ]
     },
     "metadata": {},
     "output_type": "display_data"
    }
   ],
   "source": [
    "N_sim = 50\n",
    "x_0 = np.zeros((8,1))\n",
    "x_0[6,0] = .9 # v_b_x\n",
    "x_0[7,0] = -.2 # v_b_y\n",
    "u = []\n",
    "x = [x_0]\n",
    "u_ws = None\n",
    "x_ws = None\n",
    "ss_ws = None\n",
    "for k in range(N_sim):\n",
    "    u_k, x_k, ss_k = controller.feedforward(x[k], u_ws, x_ws, ss_ws)[0:3]\n",
    "    print('Time step ' + str(k) + ': ' + str(ss_k) + '.\\r'),\n",
    "    x_next = box_atlas.pwa_system.simulate(x[k], [u_k[0]])[0][1]\n",
    "    u.append(u_k[0])\n",
    "    x.append(x_next)\n",
    "    u_ws = u_k[1:] + [K.dot(x_k[-1])]\n",
    "    x_ws = x_k[1:] + [box_atlas.pwa_system.simulate(x_k[-1], [u_ws[-1]])[0][1]]\n",
    "    ss_ws = ss_k[1:] + (terminal_mode,)\n",
    "mpc_plt.input_sequence(u, parameters['sampling_time'])\n",
    "plt.show()\n",
    "mpc_plt.state_trajectory(x, parameters['sampling_time'])\n",
    "plt.show()"
   ]
  },
  {
   "cell_type": "code",
   "execution_count": null,
   "metadata": {
    "collapsed": true
   },
   "outputs": [],
   "source": []
  }
 ],
 "metadata": {
  "kernelspec": {
   "display_name": "Python 2",
   "language": "python",
   "name": "python2"
  },
  "language_info": {
   "codemirror_mode": {
    "name": "ipython",
    "version": 2
   },
   "file_extension": ".py",
   "mimetype": "text/x-python",
   "name": "python",
   "nbconvert_exporter": "python",
   "pygments_lexer": "ipython2",
   "version": "2.7.13"
  }
 },
 "nbformat": 4,
 "nbformat_minor": 2
}
