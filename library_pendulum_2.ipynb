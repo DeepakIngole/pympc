{
 "cells": [
  {
   "cell_type": "markdown",
   "metadata": {},
   "source": [
    "# Linear Inverted Pendulum with Wall, Hybrid MPC Demo"
   ]
  },
  {
   "cell_type": "markdown",
   "metadata": {},
   "source": [
    "This is a demo for the Model Predictive Control (MPC) package $\\texttt{mpc_tools}$."
   ]
  },
  {
   "cell_type": "code",
   "execution_count": 1,
   "metadata": {},
   "outputs": [],
   "source": [
    "%load_ext autoreload\n",
    "%autoreload 2\n",
    "#%pylab notebook"
   ]
  },
  {
   "cell_type": "code",
   "execution_count": 2,
   "metadata": {},
   "outputs": [],
   "source": [
    "import numpy as np\n",
    "import matplotlib.pyplot as plt\n",
    "import pympc.dynamical_systems as ds\n",
    "import pympc.plot as mpc_plt\n",
    "from pympc.control import HybridModelPredictiveController\n",
    "from pympc.approximated_controller_full_feasible_sets import ApproximatedHybridModelPredictiveController, PolicySampler, upload_PolicySampler\n",
    "from pympc.geometry.polytope import Polytope"
   ]
  },
  {
   "cell_type": "markdown",
   "metadata": {},
   "source": [
    "# Dynamics"
   ]
  },
  {
   "cell_type": "markdown",
   "metadata": {},
   "source": [
    "We stabilize a linear inverted pendulum with mass $m$ and length $l$, subject to the gravity acceleration $g$. The pendulum is allowed to impact with an elastic wall (with stiffness $k$) placed at distance $d$ from the vertical line passing trough the hinge."
   ]
  },
  {
   "cell_type": "code",
   "execution_count": 3,
   "metadata": {},
   "outputs": [],
   "source": [
    "m = 1.\n",
    "l = 1.\n",
    "g = 10.\n",
    "k = 1000.\n",
    "d = .1\n",
    "t_s = .01"
   ]
  },
  {
   "cell_type": "markdown",
   "metadata": {},
   "source": [
    "We express the linearized dynamics in PieceWise Affine (PWA) form:\n",
    "\\begin{equation}\n",
    "\\dot x =\n",
    "\\begin{cases}\n",
    "A_1 x + B_1 u + c_1, \\quad \\text{if} \\quad (x, u) \\in \\mathcal D_1, \\\\\n",
    "A_2 x + B_2 u + c_2, \\quad \\text{if} \\quad (x, u) \\in \\mathcal D_2,\n",
    "\\end{cases}\n",
    "\\end{equation}\n",
    "\n",
    "with\n",
    "\n",
    "\\begin{equation}\n",
    "A_1 = \n",
    "\\begin{bmatrix}\n",
    "0 & 1 \\\\ g/l & 0\n",
    "\\end{bmatrix},\n",
    "\\quad\n",
    "B_1 = \n",
    "\\begin{bmatrix}\n",
    "0 \\\\ 1/(ml^2)\n",
    "\\end{bmatrix},\n",
    "\\quad\n",
    "c_1 = \n",
    "\\begin{bmatrix}\n",
    "0 \\\\ 0\n",
    "\\end{bmatrix},\n",
    "\\end{equation}\n",
    "\n",
    "\\begin{equation}\n",
    "\\mathcal D_1 =\n",
    "\\{ (x,u) \\ | \\ x_1 \\leq d/l, \\ x_{min} \\leq x \\leq x_{max}, \\ u_{min} \\leq u \\leq u_{max} \\},\n",
    "\\end{equation}\n",
    "\n",
    "\\begin{equation}\n",
    "A_2 = \n",
    "\\begin{bmatrix}\n",
    "0 & 1 \\\\ g/l - k/m & 0\n",
    "\\end{bmatrix},\n",
    "\\quad\n",
    "B_2 = \n",
    "\\begin{bmatrix}\n",
    "0 \\\\ 1/(ml^2)\n",
    "\\end{bmatrix},\n",
    "\\quad\n",
    "c_2 = \n",
    "\\begin{bmatrix}\n",
    "0 \\\\ kd/(ml)\n",
    "\\end{bmatrix},\n",
    "\\end{equation}\n",
    "\n",
    "\\begin{equation}\n",
    "\\mathcal D_2 =\n",
    "\\{ (x,u) \\ | \\ x_1 > d/l, \\ x_{min} \\leq x \\leq x_{max}, \\ u_{min} \\leq u \\leq u_{max} \\},\n",
    "\\end{equation}\n",
    "\n",
    "\n",
    "The discrete-time PWA system can be defined from its continuous-time representation setting a sampling time $t_s$."
   ]
  },
  {
   "cell_type": "code",
   "execution_count": 4,
   "metadata": {},
   "outputs": [],
   "source": [
    "# discretization method\n",
    "method = 'explicit_euler'\n",
    "\n",
    "# dynamics n.1\n",
    "A_1 = np.array([[0., 1.],[g/l, 0.]])\n",
    "B_1 = np.array([[0.],[1/(m*l**2.)]])\n",
    "c_1 = np.array([[0.],[0.]])\n",
    "S_1 = ds.AffineSystem.from_continuous(A_1, B_1, c_1, t_s, method)\n",
    "\n",
    "# dynamics n.2\n",
    "A_2 = np.array([[0., 1.],[g/l-k/m, 0.]])\n",
    "B_2 = B_1\n",
    "c_2 = np.array([[0.],[k*d/(m*l)]])\n",
    "S_2 = ds.AffineSystem.from_continuous(A_2, B_2, c_2, t_s, method)\n",
    "\n",
    "# list of dynamics\n",
    "S = [S_1, S_2]"
   ]
  },
  {
   "cell_type": "markdown",
   "metadata": {},
   "source": [
    "The domains of the PWA have to be expressed as polytopes."
   ]
  },
  {
   "cell_type": "code",
   "execution_count": 5,
   "metadata": {},
   "outputs": [],
   "source": [
    "# state domain n.1\n",
    "x_max_1 = np.array([[d/l], [1.]])\n",
    "x_min_1 = -np.array([[d/l*1.2],[x_max_1[1,0]]])\n",
    "X_1 = Polytope.from_bounds(x_min_1, x_max_1)\n",
    "X_1.assemble()\n",
    "\n",
    "# state domain n.2\n",
    "x_min_2 = np.array([[x_max_1[0,0]], [x_min_1[1,0]]])\n",
    "x_max_2 = -x_min_1\n",
    "X_2 = Polytope.from_bounds(x_min_2, x_max_2)\n",
    "X_2.assemble()\n",
    "\n",
    "# list of state domains\n",
    "X = [X_1, X_2]\n",
    "\n",
    "# input domain\n",
    "u_max = np.array([[4.]])\n",
    "u_min = -u_max\n",
    "U = Polytope.from_bounds(u_min, u_max)\n",
    "U.assemble()\n",
    "U = [U]*2"
   ]
  },
  {
   "cell_type": "markdown",
   "metadata": {},
   "source": [
    "We can now define the PWA system."
   ]
  },
  {
   "cell_type": "code",
   "execution_count": 6,
   "metadata": {},
   "outputs": [],
   "source": [
    "pwa_sys = ds.PieceWiseAffineSystem.from_orthogonal_domains(S, X, U)"
   ]
  },
  {
   "cell_type": "markdown",
   "metadata": {},
   "source": [
    "# MPC controller"
   ]
  },
  {
   "cell_type": "markdown",
   "metadata": {},
   "source": [
    "At each each step, the following optimal control is solved\n",
    "\\begin{align}\n",
    "\\min \\quad &\n",
    "\\sum_{k=0}^{N-1} (x_k^T Q x_k + u_k^T R u_k) + x_N^T P x_N \\\\\n",
    "\\text{subject to} \\quad &\n",
    "x_{k+1} =\n",
    "\\begin{cases}\n",
    "A_1 x_k + B_1 u_k + c_1, \\quad \\text{if} \\quad (x_k, u_k) \\in \\mathcal D_1, \\\\\n",
    "A_2 x_k + B_2 u_k + c_2, \\quad \\text{if} \\quad (x_k, u_k) \\in \\mathcal D_2,\n",
    "\\end{cases}, \\\\\n",
    "& (x_k, u_k) \\in \\mathcal D_1 \\cup \\mathcal D_2, \\quad k = 1,2,\\ldots,N-1, \\\\\n",
    "& x_N \\in \\mathcal X_N, \\\\\n",
    "& x_0 \\ \\text{given}, \\\\\n",
    "\\end{align}\n",
    "and the input $u_0$ is applied to the system."
   ]
  },
  {
   "cell_type": "code",
   "execution_count": 7,
   "metadata": {},
   "outputs": [
    {
     "name": "stdout",
     "output_type": "stream",
     "text": [
      "Computation of Maximal Invariant Constraint-Admissible Set started.\n",
      "Determinedness index: 23, Convergence index: -8.25676885114e-05, Number of facets: 120.                \n",
      "Maximal Invariant Constraint-Admissible Set found.\n",
      "Removing redundant facets ... minimal facets are 45.\n"
     ]
    }
   ],
   "source": [
    "# controller parameters\n",
    "N = 10\n",
    "Q = np.eye(A_1.shape[0])\n",
    "R = np.eye(B_1.shape[1])\n",
    "objective_norm = 'two'\n",
    "\n",
    "# terminal set and cost\n",
    "P, K = ds.dare(S[0].A, S[0].B, Q, R)\n",
    "X_N = ds.moas_closed_loop_from_orthogonal_domains(S[0].A, S[0].B, K, X[0], U[0])\n",
    "\n",
    "# hybrid controller\n",
    "gurobi_parameters = {'OutputFlag': False}\n",
    "controller = HybridModelPredictiveController(pwa_sys, N, objective_norm, Q, R, P, X_N, gurobi_parameters)"
   ]
  },
  {
   "cell_type": "markdown",
   "metadata": {},
   "source": [
    "We can now simulate the closed-loop dynamics startion from the initial state $x_0$."
   ]
  },
  {
   "cell_type": "code",
   "execution_count": 8,
   "metadata": {},
   "outputs": [
    {
     "name": "stdout",
     "output_type": "stream",
     "text": [
      "Time step 99.\r"
     ]
    }
   ],
   "source": [
    "N_sim = 100\n",
    "x_0 = np.array([[.05],[.52]])\n",
    "u = []\n",
    "x = [x_0]\n",
    "for k in range(N_sim):\n",
    "    print('Time step ' + str(k) + '.\\r'),\n",
    "    u.append(controller.feedback(x[k]))\n",
    "    x_next = pwa_sys.simulate(x[k], [u[k]])[0][1]\n",
    "    x.append(x_next)"
   ]
  },
  {
   "cell_type": "markdown",
   "metadata": {},
   "source": [
    "We can use the plot functions to visualize the time evolution of the system."
   ]
  },
  {
   "cell_type": "code",
   "execution_count": 9,
   "metadata": {},
   "outputs": [
    {
     "data": {
      "image/png": "[encoded data removed]",
      "text/plain": [
       "<matplotlib.figure.Figure at 0x7fda01940910>"
      ]
     },
     "metadata": {},
     "output_type": "display_data"
    },
    {
     "data": {
      "image/png": "[encoded data removed]",
      "text/plain": [
       "<matplotlib.figure.Figure at 0x7fda01940f50>"
      ]
     },
     "metadata": {},
     "output_type": "display_data"
    }
   ],
   "source": [
    "mpc_plt.input_sequence(u, t_s, (u_min, u_max))\n",
    "plt.show()\n",
    "mpc_plt.state_trajectory(x, t_s, (x_min_1, x_min_2, x_max_2))\n",
    "plt.show()"
   ]
  },
  {
   "cell_type": "markdown",
   "metadata": {},
   "source": [
    "# Approximate MPC controller"
   ]
  },
  {
   "cell_type": "markdown",
   "metadata": {},
   "source": [
    "Construction of the library"
   ]
  },
  {
   "cell_type": "code",
   "execution_count": 32,
   "metadata": {},
   "outputs": [
    {
     "name": "stdout",
     "output_type": "stream",
     "text": [
      "Sample 0: \n",
      "solving MIQP...  time spent: 0.0155320167542 s, model status: OPTIMAL.\n",
      "condensing QP...  QP condensed in 0.0110840797424 s.\n",
      "Sample 1: \n",
      "solving MIQP...  time spent: 0.0107181072235 s, model status: OPTIMAL.\n",
      "condensing QP...  QP condensed in 0.00542521476746 s.\n",
      "Sample 2: \n",
      "rejected.\n",
      "Sample 3: \n",
      "solving MIQP...  time spent: 0.00173115730286 s, model status: INFEASIBLE OR UNBOUNDED.\n",
      "Sample 4: \n",
      "rejected.\n",
      "Sample 5: \n",
      "solving MIQP...  time spent: 0.00119996070862 s, model status: INFEASIBLE OR UNBOUNDED.\n",
      "Sample 6: \n",
      "rejected.\n",
      "Sample 7: \n",
      "solving MIQP...  time spent: 0.0023500919342 s, model status: INFEASIBLE OR UNBOUNDED.\n",
      "Sample 8: \n",
      "rejected.\n",
      "Sample 9: \n",
      "rejected.\n",
      "Sample 10: \n",
      "rejected.\n",
      "Sample 11: \n",
      "rejected.\n",
      "Sample 12: \n",
      "solving MIQP...  time spent: 0.00194001197815 s, model status: INFEASIBLE OR UNBOUNDED.\n",
      "Sample 13: \n",
      "solving MIQP...  time spent: 0.000998973846436 s, model status: INFEASIBLE OR UNBOUNDED.\n",
      "Sample 14: \n",
      "rejected.\n",
      "Sample 15: \n",
      "rejected.\n",
      "Sample 16: \n",
      "rejected.\n",
      "Sample 17: \n",
      "rejected.\n",
      "Sample 18: \n",
      "rejected.\n",
      "Sample 19: \n",
      "rejected.\n",
      "Sample 20: \n",
      "rejected.\n",
      "Sample 21: \n",
      "rejected.\n",
      "Sample 22: \n",
      "rejected.\n",
      "Sample 23: \n",
      "rejected.\n",
      "Sample 24: \n",
      "rejected.\n",
      "Sample 25: \n",
      "rejected.\n",
      "Sample 26: \n",
      "rejected.\n",
      "Sample 27: \n",
      "rejected.\n",
      "Sample 28: \n",
      "rejected.\n",
      "Sample 29: \n",
      "rejected.\n",
      "Sample 30: \n",
      "rejected.\n",
      "Sample 31: \n",
      "rejected.\n",
      "Sample 32: \n",
      "solving MIQP...  time spent: 0.000936031341553 s, model status: INFEASIBLE OR UNBOUNDED.\n",
      "Sample 33: \n",
      "solving MIQP...  time spent: 0.000897169113159 s, model status: INFEASIBLE OR UNBOUNDED.\n",
      "Sample 34: \n",
      "rejected.\n",
      "Sample 35: \n",
      "rejected.\n",
      "Sample 36: \n",
      "rejected.\n",
      "Sample 37: \n",
      "rejected.\n",
      "Sample 38: \n",
      "rejected.\n",
      "Sample 39: \n",
      "rejected.\n",
      "Sample 40: \n",
      "rejected.\n",
      "Sample 41: \n",
      "solving MIQP...  time spent: 0.000781059265137 s, model status: INFEASIBLE OR UNBOUNDED.\n",
      "Sample 42: \n",
      "rejected.\n",
      "Sample 43: \n",
      "rejected.\n",
      "Sample 44: \n",
      "rejected.\n",
      "Sample 45: \n",
      "rejected.\n",
      "Sample 46: \n",
      "rejected.\n",
      "Sample 47: \n",
      "solving MIQP...  time spent: 0.000833988189697 s, model status: INFEASIBLE OR UNBOUNDED.\n",
      "Sample 48: \n",
      "solving MIQP...  time spent: 0.000771045684814 s, model status: INFEASIBLE OR UNBOUNDED.\n",
      "Sample 49: \n",
      "solving MIQP...  time spent: 0.00181794166565 s, model status: INFEASIBLE OR UNBOUNDED.\n",
      "Sample 50: \n",
      "rejected.\n",
      "Sample 51: \n",
      "solving MIQP...  time spent: 0.000971078872681 s, model status: INFEASIBLE OR UNBOUNDED.\n",
      "Sample 52: \n",
      "rejected.\n",
      "Sample 53: \n",
      "rejected.\n",
      "Sample 54: \n",
      "rejected.\n",
      "Sample 55: \n",
      "rejected.\n",
      "Sample 56: \n",
      "solving MIQP...  time spent: 0.000846862792969 s, model status: INFEASIBLE OR UNBOUNDED.\n",
      "Sample 57: \n",
      "rejected.\n",
      "Sample 58: \n",
      "solving MIQP...  time spent: 0.000937938690186 s, model status: INFEASIBLE OR UNBOUNDED.\n",
      "Sample 59: \n",
      "rejected.\n",
      "Sample 60: \n",
      "rejected.\n",
      "Sample 61: \n",
      "rejected.\n",
      "Sample 62: \n",
      "solving MIQP...  time spent: 0.00089693069458 s, model status: INFEASIBLE OR UNBOUNDED.\n",
      "Sample 63: \n",
      "solving MIQP...  time spent: 0.00980591773987 s, model status: INFEASIBLE OR UNBOUNDED.\n",
      "Sample 64: \n",
      "solving MIQP...  time spent: 0.00082802772522 s, model status: INFEASIBLE OR UNBOUNDED.\n",
      "Sample 65: \n",
      "rejected.\n",
      "Sample 66: \n",
      "rejected.\n",
      "Sample 67: \n",
      "solving MIQP...  time spent: 0.000786066055298 s, model status: INFEASIBLE OR UNBOUNDED.\n",
      "Sample 68: \n",
      "solving MIQP...  time spent: 0.000800848007202 s, model status: INFEASIBLE OR UNBOUNDED.\n",
      "Sample 69: \n",
      "rejected.\n",
      "Sample 70: \n",
      "rejected.\n",
      "Sample 71: \n",
      "solving MIQP...  time spent: 0.000905990600586 s, model status: INFEASIBLE OR UNBOUNDED.\n",
      "Sample 72: \n",
      "solving MIQP...  time spent: 0.000962972640991 s, model status: INFEASIBLE OR UNBOUNDED.\n",
      "Sample 73: \n",
      "rejected.\n",
      "Sample 74: \n",
      "rejected.\n",
      "Sample 75: \n",
      "solving MIQP...  time spent: 0.00108599662781 s, model status: INFEASIBLE OR UNBOUNDED.\n",
      "Sample 76: \n",
      "rejected.\n",
      "Sample 77: \n",
      "rejected.\n",
      "Sample 78: \n",
      "solving MIQP...  time spent: 0.00111198425293 s, model status: INFEASIBLE OR UNBOUNDED.\n",
      "Sample 79: \n",
      "rejected.\n",
      "Sample 80: \n",
      "solving MIQP...  time spent: 0.000952005386353 s, model status: INFEASIBLE OR UNBOUNDED.\n",
      "Sample 81: \n",
      "solving MIQP...  time spent: 0.000859022140503 s, model status: INFEASIBLE OR UNBOUNDED.\n",
      "Sample 82: \n",
      "solving MIQP...  time spent: 0.000822782516479 s, model status: INFEASIBLE OR UNBOUNDED.\n",
      "Sample 83: \n",
      "solving MIQP...  time spent: 0.000668048858643 s, model status: INFEASIBLE OR UNBOUNDED.\n",
      "Sample 84: \n",
      "rejected.\n",
      "Sample 85: \n",
      "solving MIQP...  time spent: 0.0336480140686 s, model status: INFEASIBLE OR UNBOUNDED.\n",
      "Sample 86: \n",
      "rejected.\n",
      "Sample 87: \n",
      "rejected.\n",
      "Sample 88: \n",
      "solving MIQP...  time spent: 0.00150108337402 s, model status: INFEASIBLE OR UNBOUNDED.\n",
      "Sample 89: \n",
      "rejected.\n",
      "Sample 90: \n",
      "rejected.\n",
      "Sample 91: \n",
      "solving MIQP...  time spent: 0.000788927078247 s, model status: INFEASIBLE OR UNBOUNDED.\n",
      "Sample 92: \n",
      "rejected.\n",
      "Sample 93: \n",
      "rejected.\n",
      "Sample 94: \n",
      "rejected.\n",
      "Sample 95: \n",
      "rejected.\n",
      "Sample 96: \n",
      "rejected.\n",
      "Sample 97: \n",
      "solving MIQP...  time spent: 0.0220050811768 s, model status: OPTIMAL.\n",
      "condensing QP...  QP condensed in 0.0117290019989 s.\n",
      "Sample 98: \n",
      "rejected.\n",
      "Sample 99: \n",
      "rejected.\n",
      "\n",
      "Total number of samples: 100, switching sequences found: 3, rejected samples: 67, unfeasible samples: 30.\n"
     ]
    },
    {
     "ename": "IOError",
     "evalue": "Unable to create file (unable to truncate a file which is already open)",
     "output_type": "error",
     "traceback": [
      "\u001b[0;31m---------------------------------------------------------------------------\u001b[0m",
      "\u001b[0;31mIOError\u001b[0m                                   Traceback (most recent call last)",
      "\u001b[0;32m<ipython-input-32-b9a0a5092e6f>\u001b[0m in \u001b[0;36m<module>\u001b[0;34m()\u001b[0m\n\u001b[1;32m      3\u001b[0m \u001b[0msampler\u001b[0m \u001b[0;34m=\u001b[0m \u001b[0mPolicySampler\u001b[0m\u001b[0;34m(\u001b[0m\u001b[0mcontroller\u001b[0m\u001b[0;34m)\u001b[0m\u001b[0;34m\u001b[0m\u001b[0m\n\u001b[1;32m      4\u001b[0m \u001b[0msampler\u001b[0m\u001b[0;34m.\u001b[0m\u001b[0msample_policy\u001b[0m\u001b[0;34m(\u001b[0m\u001b[0mn_samples\u001b[0m\u001b[0;34m)\u001b[0m\u001b[0;34m\u001b[0m\u001b[0m\n\u001b[0;32m----> 5\u001b[0;31m \u001b[0msampler\u001b[0m\u001b[0;34m.\u001b[0m\u001b[0msave\u001b[0m\u001b[0;34m(\u001b[0m\u001b[0;34m'library_pendulum_'\u001b[0m \u001b[0;34m+\u001b[0m \u001b[0mstr\u001b[0m\u001b[0;34m(\u001b[0m\u001b[0mn_samples\u001b[0m\u001b[0;34m)\u001b[0m\u001b[0;34m)\u001b[0m\u001b[0;34m\u001b[0m\u001b[0m\n\u001b[0m",
      "\u001b[0;32m/home/rlg/py-mpc/pympc/approximated_controller_full_feasible_sets.pyc\u001b[0m in \u001b[0;36msave\u001b[0;34m(self, group_name, super_group)\u001b[0m\n\u001b[1;32m    103\u001b[0m         \u001b[0;31m# open the file\u001b[0m\u001b[0;34m\u001b[0m\u001b[0;34m\u001b[0m\u001b[0m\n\u001b[1;32m    104\u001b[0m         \u001b[0;32mif\u001b[0m \u001b[0msuper_group\u001b[0m \u001b[0;32mis\u001b[0m \u001b[0mNone\u001b[0m\u001b[0;34m:\u001b[0m\u001b[0;34m\u001b[0m\u001b[0m\n\u001b[0;32m--> 105\u001b[0;31m             \u001b[0mgroup\u001b[0m \u001b[0;34m=\u001b[0m \u001b[0mh5py\u001b[0m\u001b[0;34m.\u001b[0m\u001b[0mFile\u001b[0m\u001b[0;34m(\u001b[0m\u001b[0mgroup_name\u001b[0m \u001b[0;34m+\u001b[0m \u001b[0;34m'.hdf5'\u001b[0m\u001b[0;34m,\u001b[0m \u001b[0;34m'w'\u001b[0m\u001b[0;34m)\u001b[0m\u001b[0;34m\u001b[0m\u001b[0m\n\u001b[0m\u001b[1;32m    106\u001b[0m         \u001b[0;32melse\u001b[0m\u001b[0;34m:\u001b[0m\u001b[0;34m\u001b[0m\u001b[0m\n\u001b[1;32m    107\u001b[0m             \u001b[0mgroup\u001b[0m \u001b[0;34m=\u001b[0m \u001b[0msuper_group\u001b[0m\u001b[0;34m.\u001b[0m\u001b[0mcreate_group\u001b[0m\u001b[0;34m(\u001b[0m\u001b[0mgroup_name\u001b[0m\u001b[0;34m)\u001b[0m\u001b[0;34m\u001b[0m\u001b[0m\n",
      "\u001b[0;32m/usr/local/lib/python2.7/dist-packages/h5py/_hl/files.pyc\u001b[0m in \u001b[0;36m__init__\u001b[0;34m(self, name, mode, driver, libver, userblock_size, swmr, **kwds)\u001b[0m\n\u001b[1;32m    267\u001b[0m             \u001b[0;32mwith\u001b[0m \u001b[0mphil\u001b[0m\u001b[0;34m:\u001b[0m\u001b[0;34m\u001b[0m\u001b[0m\n\u001b[1;32m    268\u001b[0m                 \u001b[0mfapl\u001b[0m \u001b[0;34m=\u001b[0m \u001b[0mmake_fapl\u001b[0m\u001b[0;34m(\u001b[0m\u001b[0mdriver\u001b[0m\u001b[0;34m,\u001b[0m \u001b[0mlibver\u001b[0m\u001b[0;34m,\u001b[0m \u001b[0;34m**\u001b[0m\u001b[0mkwds\u001b[0m\u001b[0;34m)\u001b[0m\u001b[0;34m\u001b[0m\u001b[0m\n\u001b[0;32m--> 269\u001b[0;31m                 \u001b[0mfid\u001b[0m \u001b[0;34m=\u001b[0m \u001b[0mmake_fid\u001b[0m\u001b[0;34m(\u001b[0m\u001b[0mname\u001b[0m\u001b[0;34m,\u001b[0m \u001b[0mmode\u001b[0m\u001b[0;34m,\u001b[0m \u001b[0muserblock_size\u001b[0m\u001b[0;34m,\u001b[0m \u001b[0mfapl\u001b[0m\u001b[0;34m,\u001b[0m \u001b[0mswmr\u001b[0m\u001b[0;34m=\u001b[0m\u001b[0mswmr\u001b[0m\u001b[0;34m)\u001b[0m\u001b[0;34m\u001b[0m\u001b[0m\n\u001b[0m\u001b[1;32m    270\u001b[0m \u001b[0;34m\u001b[0m\u001b[0m\n\u001b[1;32m    271\u001b[0m                 \u001b[0;32mif\u001b[0m \u001b[0mswmr_support\u001b[0m\u001b[0;34m:\u001b[0m\u001b[0;34m\u001b[0m\u001b[0m\n",
      "\u001b[0;32m/usr/local/lib/python2.7/dist-packages/h5py/_hl/files.pyc\u001b[0m in \u001b[0;36mmake_fid\u001b[0;34m(name, mode, userblock_size, fapl, fcpl, swmr)\u001b[0m\n\u001b[1;32m    103\u001b[0m         \u001b[0mfid\u001b[0m \u001b[0;34m=\u001b[0m \u001b[0mh5f\u001b[0m\u001b[0;34m.\u001b[0m\u001b[0mcreate\u001b[0m\u001b[0;34m(\u001b[0m\u001b[0mname\u001b[0m\u001b[0;34m,\u001b[0m \u001b[0mh5f\u001b[0m\u001b[0;34m.\u001b[0m\u001b[0mACC_EXCL\u001b[0m\u001b[0;34m,\u001b[0m \u001b[0mfapl\u001b[0m\u001b[0;34m=\u001b[0m\u001b[0mfapl\u001b[0m\u001b[0;34m,\u001b[0m \u001b[0mfcpl\u001b[0m\u001b[0;34m=\u001b[0m\u001b[0mfcpl\u001b[0m\u001b[0;34m)\u001b[0m\u001b[0;34m\u001b[0m\u001b[0m\n\u001b[1;32m    104\u001b[0m     \u001b[0;32melif\u001b[0m \u001b[0mmode\u001b[0m \u001b[0;34m==\u001b[0m \u001b[0;34m'w'\u001b[0m\u001b[0;34m:\u001b[0m\u001b[0;34m\u001b[0m\u001b[0m\n\u001b[0;32m--> 105\u001b[0;31m         \u001b[0mfid\u001b[0m \u001b[0;34m=\u001b[0m \u001b[0mh5f\u001b[0m\u001b[0;34m.\u001b[0m\u001b[0mcreate\u001b[0m\u001b[0;34m(\u001b[0m\u001b[0mname\u001b[0m\u001b[0;34m,\u001b[0m \u001b[0mh5f\u001b[0m\u001b[0;34m.\u001b[0m\u001b[0mACC_TRUNC\u001b[0m\u001b[0;34m,\u001b[0m \u001b[0mfapl\u001b[0m\u001b[0;34m=\u001b[0m\u001b[0mfapl\u001b[0m\u001b[0;34m,\u001b[0m \u001b[0mfcpl\u001b[0m\u001b[0;34m=\u001b[0m\u001b[0mfcpl\u001b[0m\u001b[0;34m)\u001b[0m\u001b[0;34m\u001b[0m\u001b[0m\n\u001b[0m\u001b[1;32m    106\u001b[0m     \u001b[0;32melif\u001b[0m \u001b[0mmode\u001b[0m \u001b[0;34m==\u001b[0m \u001b[0;34m'a'\u001b[0m\u001b[0;34m:\u001b[0m\u001b[0;34m\u001b[0m\u001b[0m\n\u001b[1;32m    107\u001b[0m         \u001b[0;31m# Open in append mode (read/write).\u001b[0m\u001b[0;34m\u001b[0m\u001b[0;34m\u001b[0m\u001b[0m\n",
      "\u001b[0;32mh5py/_objects.pyx\u001b[0m in \u001b[0;36mh5py._objects.with_phil.wrapper\u001b[0;34m()\u001b[0m\n",
      "\u001b[0;32mh5py/_objects.pyx\u001b[0m in \u001b[0;36mh5py._objects.with_phil.wrapper\u001b[0;34m()\u001b[0m\n",
      "\u001b[0;32mh5py/h5f.pyx\u001b[0m in \u001b[0;36mh5py.h5f.create\u001b[0;34m()\u001b[0m\n",
      "\u001b[0;31mIOError\u001b[0m: Unable to create file (unable to truncate a file which is already open)"
     ]
    }
   ],
   "source": [
    "terminal_mode = 0\n",
    "n_samples = 100\n",
    "sampler = PolicySampler(controller)\n",
    "sampler.sample_policy(n_samples)\n",
    "sampler.save('library_pendulum_' + str(n_samples))"
   ]
  },
  {
   "cell_type": "code",
   "execution_count": 33,
   "metadata": {},
   "outputs": [],
   "source": [
    "samples_so_far = 100\n",
    "sampler = upload_PolicySampler('library_pendulum_' + str(samples_so_far))"
   ]
  },
  {
   "cell_type": "code",
   "execution_count": 34,
   "metadata": {},
   "outputs": [
    {
     "name": "stdout",
     "output_type": "stream",
     "text": [
      "\n",
      "*** Convex Hull Method for Orthogonal Projections START ***\n",
      "Inner 2D simplex found.\n",
      "Expansion of the inner polytope started.\n",
      "Facets found so far 7, vertices found so far 7, length of the last inflation 2.499704e-04.\n",
      "Projection derived 0.303946018219 seconds: number of facets is 7, number of vertices is 7.\n",
      "*** Convex Hull Method for Orthogonal Projections STOP ***\n",
      "\n",
      "\n",
      "*** Convex Hull Method for Orthogonal Projections START ***\n",
      "Inner 2D simplex found.\n",
      "Expansion of the inner polytope started.\n",
      "Facets found so far 68, vertices found so far 68, length of the last inflation 5.656064e-05.\n",
      "Projection derived 2.93941307068 seconds: number of facets is 68, number of vertices is 68.\n",
      "*** Convex Hull Method for Orthogonal Projections STOP ***\n",
      "\n",
      "\n",
      "*** Convex Hull Method for Orthogonal Projections START ***\n",
      "Inner 2D simplex found.\n",
      "Expansion of the inner polytope started.\n",
      "Facets found so far 6, vertices found so far 6, length of the last inflation 9.296107e-04.\n",
      "Projection derived 0.233869075775 seconds: number of facets is 6, number of vertices is 6.\n",
      "*** Convex Hull Method for Orthogonal Projections STOP ***\n",
      "\n",
      "\n",
      "*** Convex Hull Method for Orthogonal Projections START ***\n",
      "Inner 2D simplex found.\n",
      "Expansion of the inner polytope started.\n",
      "Facets found so far 13, vertices found so far 13, length of the last inflation 5.404760e-04.\n",
      "Projection derived 0.538241147995 seconds: number of facets is 13, number of vertices is 13.\n",
      "*** Convex Hull Method for Orthogonal Projections STOP ***\n",
      "\n",
      "\n",
      "*** Convex Hull Method for Orthogonal Projections START ***\n",
      "Inner 2D simplex found.\n",
      "Expansion of the inner polytope started.\n",
      "Facets found so far 16, vertices found so far 16, length of the last inflation 4.722644e-04.\n",
      "Projection derived 0.646172046661 seconds: number of facets is 16, number of vertices is 16.\n",
      "*** Convex Hull Method for Orthogonal Projections STOP ***\n",
      "\n",
      "\n",
      "*** Convex Hull Method for Orthogonal Projections START ***\n",
      "Inner 2D simplex found.\n",
      "Expansion of the inner polytope started.\n",
      "Facets found so far 9, vertices found so far 9, length of the last inflation 2.951647e-04.\n",
      "Projection derived 0.328297138214 seconds: number of facets is 9, number of vertices is 9.\n",
      "*** Convex Hull Method for Orthogonal Projections STOP ***\n",
      "\n",
      "\n",
      "*** Convex Hull Method for Orthogonal Projections START ***\n",
      "Inner 2D simplex found.\n",
      "Expansion of the inner polytope started.\n",
      "Facets found so far 4, vertices found so far 4, length of the last inflation 2.095292e-01.\n",
      "Projection derived 0.164351940155 seconds: number of facets is 4, number of vertices is 4.\n",
      "*** Convex Hull Method for Orthogonal Projections STOP ***\n",
      "\n",
      "\n",
      "*** Convex Hull Method for Orthogonal Projections START ***\n",
      "Inner 2D simplex found.\n",
      "Expansion of the inner polytope started.\n",
      "Facets found so far 6, vertices found so far 6, length of the last inflation 1.614557e-03.\n",
      "Projection derived 0.246364831924 seconds: number of facets is 6, number of vertices is 6.\n",
      "*** Convex Hull Method for Orthogonal Projections STOP ***\n",
      "\n"
     ]
    },
    {
     "data": {
      "image/png": "[encoded data removed]",
      "text/plain": [
       "<matplotlib.figure.Figure at 0x7fd9da7bef10>"
      ]
     },
     "metadata": {},
     "output_type": "display_data"
    }
   ],
   "source": [
    "fig = plt.figure(figsize=(6,3))\n",
    "X_1.plot(facecolor='w', linestyle='--')\n",
    "plt.text(.08,.8,r'$\\mathcal{D}_1$')\n",
    "X_2.plot(facecolor='w', linestyle='--')\n",
    "plt.text(.105,.8,r'$\\mathcal{D}_2$')\n",
    "sampler.plot_partition()\n",
    "#fig.savefig('sample_pendulum.pdf', bbox_inches='tight')\n",
    "plt.show()"
   ]
  },
  {
   "cell_type": "code",
   "execution_count": 35,
   "metadata": {},
   "outputs": [],
   "source": [
    "from pympc.mode_sequence_tree import ModeSequenceTree\n",
    "tree = ModeSequenceTree()\n",
    "tree.expand(sampler.qp_library)"
   ]
  },
  {
   "cell_type": "code",
   "execution_count": 36,
   "metadata": {},
   "outputs": [],
   "source": [
    "tree.plot(file_name='pendulum_tree')"
   ]
  },
  {
   "cell_type": "code",
   "execution_count": null,
   "metadata": {},
   "outputs": [],
   "source": [
    "x = np.array([[0.105],[0.5]])\n",
    "tree.get_feasible_mode_sequences(x)"
   ]
  },
  {
   "cell_type": "code",
   "execution_count": null,
   "metadata": {},
   "outputs": [],
   "source": [
    "from pympc.mode_sequence_tree import get_feasible_mode_sequences_inefficient\n",
    "print get_feasible_mode_sequences_inefficient(sampler.qp_library, x)"
   ]
  },
  {
   "cell_type": "code",
   "execution_count": null,
   "metadata": {},
   "outputs": [],
   "source": []
  }
 ],
 "metadata": {
  "celltoolbar": "Raw Cell Format",
  "kernelspec": {
   "display_name": "Python 2",
   "language": "python",
   "name": "python2"
  },
  "language_info": {
   "codemirror_mode": {
    "name": "ipython",
    "version": 2
   },
   "file_extension": ".py",
   "mimetype": "text/x-python",
   "name": "python",
   "nbconvert_exporter": "python",
   "pygments_lexer": "ipython2",
   "version": "2.7.12"
  }
 },
 "nbformat": 4,
 "nbformat_minor": 2
}
