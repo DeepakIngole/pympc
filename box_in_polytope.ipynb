{
 "cells": [
  {
   "cell_type": "code",
   "execution_count": 2,
   "metadata": {
    "collapsed": true,
    "deletable": true,
    "editable": true
   },
   "outputs": [],
   "source": [
    "import numpy as np\n",
    "import cvxpy as cvx\n",
    "from copy import copy\n",
    "from itertools import product\n",
    "from pympc.geometry.polytope import Polytope\n",
    "import matplotlib.pyplot as plt"
   ]
  },
  {
   "cell_type": "code",
   "execution_count": 2,
   "metadata": {
    "collapsed": false,
    "deletable": true,
    "editable": true
   },
   "outputs": [],
   "source": [
    "def maximum_volume_box_inscribed_polytope(A, b):\n",
    "    A_pos = np.maximum(np.zeros(A.shape), A)\n",
    "    m, d = A.shape\n",
    "    x = cvx.Variable(d, 1)\n",
    "    y = cvx.Variable(d, 1)\n",
    "    y_sum = sum([cvx.log(y[i,0]) for i in range(d)])\n",
    "    objective = cvx.Maximize(y_sum)\n",
    "    constraints = [A*x + A_pos*y <= b]\n",
    "    prob = cvx.Problem(objective, constraints)\n",
    "    result = prob.solve(solver=cvx.CVXOPT)\n",
    "    x = np.array(x.value)\n",
    "    y = np.array(y.value)\n",
    "    print 'check:', np.max(A.dot(x)-b), np.max(A.dot(x+y)-b), \n",
    "    return x, x+y"
   ]
  },
  {
   "cell_type": "code",
   "execution_count": 3,
   "metadata": {
    "collapsed": false,
    "deletable": true,
    "editable": true
   },
   "outputs": [],
   "source": [
    "n_var = 2\n",
    "n_cons = 10\n",
    "residual_dimensions = [0,1]\n",
    "A = np.random.randn(n_cons, n_var)\n",
    "b = np.random.rand(n_cons, 1)\n",
    "poly = Polytope(A, b).assemble()"
   ]
  },
  {
   "cell_type": "code",
   "execution_count": 4,
   "metadata": {
    "collapsed": false,
    "deletable": true,
    "editable": true
   },
   "outputs": [
    {
     "name": "stdout",
     "output_type": "stream",
     "text": [
      "check: -0.08461234769 2.27494134641e-11"
     ]
    },
    {
     "data": {
      "image/png": "[encoded data removed]",
      "text/plain": [
       "<matplotlib.figure.Figure at 0x10769c450>"
      ]
     },
     "metadata": {},
     "output_type": "display_data"
    },
    {
     "name": "stdout",
     "output_type": "stream",
     "text": [
      "\n"
     ]
    }
   ],
   "source": [
    "lb, ub = maximum_volume_box_inscribed_polytope(A, b)\n",
    "box = Polytope.from_bounds(lb, ub)\n",
    "box.assemble()\n",
    "poly.plot(facecolor='b')\n",
    "box.plot(facecolor='r')\n",
    "plt.show()"
   ]
  }
 ],
 "metadata": {
  "kernelspec": {
   "display_name": "Python 2",
   "language": "python",
   "name": "python2"
  },
  "language_info": {
   "codemirror_mode": {
    "name": "ipython",
    "version": 2
   },
   "file_extension": ".py",
   "mimetype": "text/x-python",
   "name": "python",
   "nbconvert_exporter": "python",
   "pygments_lexer": "ipython2",
   "version": "2.7.13"
  }
 },
 "nbformat": 4,
 "nbformat_minor": 2
}
