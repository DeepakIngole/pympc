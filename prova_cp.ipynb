{
 "cells": [
  {
   "cell_type": "markdown",
   "metadata": {
    "deletable": true,
    "editable": true
   },
   "source": [
    "# Cart-Pole with Walls, Hybrid MPC Demo"
   ]
  },
  {
   "cell_type": "markdown",
   "metadata": {
    "deletable": true,
    "editable": true
   },
   "source": [
    "This is a demo for the Model Predictive Control (MPC) package $\\texttt{mpc_tools}$."
   ]
  },
  {
   "cell_type": "code",
   "execution_count": 1,
   "metadata": {
    "collapsed": false,
    "deletable": true,
    "editable": true
   },
   "outputs": [],
   "source": [
    "%load_ext autoreload\n",
    "%autoreload 2\n",
    "#%pylab notebook"
   ]
  },
  {
   "cell_type": "code",
   "execution_count": 2,
   "metadata": {
    "collapsed": false,
    "deletable": true,
    "editable": true
   },
   "outputs": [],
   "source": [
    "import time\n",
    "import numpy as np\n",
    "import matplotlib.pyplot as plt\n",
    "import pympc.dynamical_systems as ds\n",
    "import pympc.plot as mpc_plt\n",
    "from pympc.control import MPCHybridController, HybridPolicyLibrary\n",
    "from pympc.geometry.polytope import Polytope"
   ]
  },
  {
   "cell_type": "markdown",
   "metadata": {
    "deletable": true,
    "editable": true
   },
   "source": [
    "numeric parameters"
   ]
  },
  {
   "cell_type": "code",
   "execution_count": 3,
   "metadata": {
    "collapsed": true,
    "deletable": true,
    "editable": true
   },
   "outputs": [],
   "source": [
    "mc = 1.\n",
    "mp = 1.\n",
    "l = 1.\n",
    "d = 1.\n",
    "k = 100.\n",
    "g = 10.\n",
    "t_s = .05"
   ]
  },
  {
   "cell_type": "markdown",
   "metadata": {
    "deletable": true,
    "editable": true
   },
   "source": [
    "dynamics"
   ]
  },
  {
   "cell_type": "code",
   "execution_count": 4,
   "metadata": {
    "collapsed": false,
    "deletable": true,
    "editable": true
   },
   "outputs": [],
   "source": [
    "# discretization method\n",
    "method = 'explicit_euler'\n",
    "\n",
    "# dynamics n.0 (contact with left wall)\n",
    "A_0 = np.array([\n",
    "    [0., 0., 1., 0.],\n",
    "    [0., 0., 0., 1.],\n",
    "    [0., (g*mp)/mc, 0., 0.],\n",
    "    [k/(l*mp), (g*mp**2 + g*mc*mp - k*l*mc)/(l*mc*mp), 0., 0.]\n",
    "    ])\n",
    "B_0 = np.array([\n",
    "    [0.],\n",
    "    [0.],\n",
    "    [1./mc],\n",
    "    [1./(l*mc)]\n",
    "    ])\n",
    "c_0 = np.array([\n",
    "    [0.],\n",
    "    [0.],\n",
    "    [0.],\n",
    "    [(d*k)/(l*mp)]\n",
    "    ])\n",
    "S_0 = ds.DTAffineSystem.from_continuous(A_0, B_0, c_0, t_s, method)\n",
    "\n",
    "# dynamics n.1 (free)\n",
    "A_1 = np.array([\n",
    "    [0., 0., 1., 0.],\n",
    "    [0., 0., 0., 1.],\n",
    "    [0., (g*mp)/mc, 0., 0.],\n",
    "    [0., g*(mc+mp)/(l*mc), 0., 0.]\n",
    "    ])\n",
    "B_1 = np.array([\n",
    "    [0.],\n",
    "    [0.],\n",
    "    [1./mc],\n",
    "    [1./(l*mc)]\n",
    "    ])\n",
    "c_1 = np.zeros((4,1))\n",
    "S_1 = ds.DTAffineSystem.from_continuous(A_1, B_1, c_1, t_s, method)\n",
    "\n",
    "# dynamics n.2 (contact with right wall)\n",
    "A_2 = np.array([\n",
    "    [0., 0., 1., 0.],\n",
    "    [0., 0., 0., 1.],\n",
    "    [0., (g*mp)/mc, 0., 0.],\n",
    "    [k/(l*mp), (g*mp**2 + g*mc*mp - k*l*mc)/(l*mc*mp), 0., 0.]\n",
    "    ])\n",
    "B_2 = np.array([\n",
    "    [0.],\n",
    "    [0.],\n",
    "    [1./mc],\n",
    "    [1./(l*mc)]\n",
    "    ])\n",
    "c_2 = np.array([\n",
    "    [0.],\n",
    "    [0.],\n",
    "    [0.],\n",
    "    [-(d*k)/(l*mp)]\n",
    "    ])\n",
    "S_2 = ds.DTAffineSystem.from_continuous(A_2, B_2, c_2, t_s, method)\n",
    "\n",
    "# list of dynamics\n",
    "S = [S_0, S_1, S_2]"
   ]
  },
  {
   "cell_type": "markdown",
   "metadata": {
    "deletable": true,
    "editable": true
   },
   "source": [
    "The domains of the PWA have to be expressed as polytopes."
   ]
  },
  {
   "cell_type": "code",
   "execution_count": 5,
   "metadata": {
    "collapsed": false,
    "deletable": true,
    "editable": true
   },
   "outputs": [],
   "source": [
    "# state bounds\n",
    "x_max = np.array([[1.5*d],[np.pi/6.],[7.],[5.]])\n",
    "x_min = -x_max\n",
    "\n",
    "# state domain n.1\n",
    "lhs_0 = np.array([[1., -l, 0., 0.]])\n",
    "rhs_0 = np.array([[-d]])\n",
    "X_0 = Polytope.from_bounds(x_min, x_max)\n",
    "X_0.add_facets(lhs_0, rhs_0)\n",
    "X_0.assemble()\n",
    "\n",
    "# state domain n.2\n",
    "lhs_1 = np.array([[-1., l, 0., 0.], [1., -l, 0., 0.]])\n",
    "rhs_1 = np.array([[d], [d]])\n",
    "X_1 = Polytope.from_bounds(x_min, x_max)\n",
    "X_1.add_facets(lhs_1, rhs_1)\n",
    "X_1.assemble()\n",
    "\n",
    "# state domain n.3\n",
    "lhs_2 = np.array([[-1., l, 0., 0.]])\n",
    "rhs_2 = np.array([[-d]])\n",
    "X_2 = Polytope.from_bounds(x_min, x_max)\n",
    "X_2.add_facets(lhs_2, rhs_2)\n",
    "X_2.assemble()\n",
    "\n",
    "# list of state domains\n",
    "X = [X_0, X_1, X_2]\n",
    "\n",
    "# input domain\n",
    "u_max = np.array([[100.]])\n",
    "u_min = -u_max\n",
    "U = Polytope.from_bounds(u_min, u_max)\n",
    "U.assemble()\n",
    "U = [U]*3"
   ]
  },
  {
   "cell_type": "markdown",
   "metadata": {
    "deletable": true,
    "editable": true
   },
   "source": [
    "We can now define the PWA system."
   ]
  },
  {
   "cell_type": "code",
   "execution_count": 6,
   "metadata": {
    "collapsed": false,
    "deletable": true,
    "editable": true
   },
   "outputs": [],
   "source": [
    "pwa_sys = ds.DTPWASystem.from_orthogonal_domains(S, X, U)"
   ]
  },
  {
   "cell_type": "code",
   "execution_count": 16,
   "metadata": {
    "collapsed": false,
    "deletable": true,
    "editable": true
   },
   "outputs": [
    {
     "name": "stdout",
     "output_type": "stream",
     "text": [
      "130\n",
      "1200\n",
      "Projection algorithm initiliazed with two vertices.\n",
      "Inner simplicial approximation with 5 vertices found.\n",
      "H-representation of the inner simplex derived, number of halfspaces is 5.\n",
      "Facets found so far 134, vertices found so far 1194, length of the last inflation 6.296150e-06.\n",
      "Projection successfully computed in 98.0061650276 seconds: number of facets is 134, number of vertices is 1194.\n"
     ]
    }
   ],
   "source": [
    "# controller parameters\n",
    "N = 10\n",
    "Q = np.eye(A_1.shape[0])\n",
    "R = np.eye(B_1.shape[1])\n",
    "objective_norm = 'two'\n",
    "\n",
    "# terminal set and cost\n",
    "P, K = ds.dare(S[1].A, S[1].B, Q, R)\n",
    "#X_N = ds.moas_closed_loop(S[1].A, S[1].B, K, X[1], U[1])\n",
    "\n",
    "# save\n",
    "#np.save('moas_cart_pole', X_N)\n",
    "\n",
    "# load\n",
    "X_N = np.load('moas_cart_pole.npy').item()\n",
    "\n",
    "#x_max_N = np.ones((4,1))*.13\n",
    "#x_min_N = - x_max_N\n",
    "#X_N = Polytope.from_bounds(x_min_N, x_max_N)\n",
    "#X_N.assemble()\n",
    "#print 'check this', X_N.included_in(moas)\n",
    "\n",
    "# hybrid controller\n",
    "controller = MPCHybridController(pwa_sys, N, objective_norm, Q, R, P, X_N)"
   ]
  },
  {
   "cell_type": "markdown",
   "metadata": {
    "deletable": true,
    "editable": true
   },
   "source": [
    "We can now simulate the closed-loop dynamics starting from the initial state $x_0$."
   ]
  },
  {
   "cell_type": "code",
   "execution_count": null,
   "metadata": {
    "collapsed": false,
    "deletable": true,
    "editable": true
   },
   "outputs": [],
   "source": [
    "N_sim = 5\n",
    "x_0 = np.array([[0.],[0.],[2.5],[0.]])\n",
    "u = []\n",
    "x = [x_0]\n",
    "u_ws = None\n",
    "x_ws = None\n",
    "ss_ws = None\n",
    "terminal_mode = 1\n",
    "miqp_times = []\n",
    "for k in range(N_sim):\n",
    "    print('Time step ' + str(k) + '.\\r'),\n",
    "    tic = time.clock()\n",
    "    u_k, x_k, ss_k = controller.feedforward(x[k], u_ws, x_ws, ss_ws)[0:3]\n",
    "    miqp_times.append(time.clock() - tic)\n",
    "    x_next = pwa_sys.simulate(x[k], [u_k[0]])[0][1]\n",
    "    u.append(u_k[0])\n",
    "    x.append(x_next)\n",
    "    u_ws = u_k[1:] + [K.dot(x_k[-1])]\n",
    "    x_ws = x_k[1:] + [pwa_sys.simulate(x_k[-1], [u_ws[-1]])[0][1]]\n",
    "    ss_ws = ss_k[1:] + (terminal_mode,)"
   ]
  },
  {
   "cell_type": "markdown",
   "metadata": {
    "deletable": true,
    "editable": true
   },
   "source": [
    "We can use the plot functions to visualize the time evolution of the system."
   ]
  },
  {
   "cell_type": "code",
   "execution_count": null,
   "metadata": {
    "collapsed": false,
    "deletable": true,
    "editable": true
   },
   "outputs": [],
   "source": [
    "mpc_plt.input_sequence(u, t_s, (u_min, u_max))\n",
    "plt.show()\n",
    "mpc_plt.state_trajectory(x, t_s, (x_min, x_max))\n",
    "plt.show()"
   ]
  },
  {
   "cell_type": "code",
   "execution_count": null,
   "metadata": {
    "collapsed": false,
    "deletable": true,
    "editable": true
   },
   "outputs": [],
   "source": [
    "C = np.array([[1., -l, 0., 0.]])\n",
    "y_max = np.array([[d]])\n",
    "y_min = -y_max\n",
    "mpc_plt.output_trajectory(C, x, t_s, (y_min, y_max))\n",
    "plt.show()"
   ]
  },
  {
   "cell_type": "code",
   "execution_count": null,
   "metadata": {
    "collapsed": false,
    "deletable": true,
    "editable": true
   },
   "outputs": [],
   "source": [
    "# initialization of the library\n",
    "#policy = HybridPolicyLibrary(controller)\n",
    "\n",
    "# coverage\n",
    "n_samples = 1000\n",
    "terminal_domain = 1\n",
    "#policy.sample_policy(n_samples, terminal_domain, X, U)\n",
    "\n",
    "# save\n",
    "#np.save('policy_cart_pole', policy)\n",
    "\n",
    "# load\n",
    "policy = np.load('policy_cart_pole.npy').item()"
   ]
  },
  {
   "cell_type": "code",
   "execution_count": null,
   "metadata": {
    "collapsed": false,
    "deletable": true,
    "editable": true
   },
   "outputs": [],
   "source": [
    "# bound optimal value functions\n",
    "\n",
    "n_samples = 10**3\n",
    "policy.add_vertices_of_feasible_regions()\n",
    "policy.bound_optimal_value_functions(n_samples)"
   ]
  },
  {
   "cell_type": "code",
   "execution_count": null,
   "metadata": {
    "collapsed": true,
    "deletable": true,
    "editable": true
   },
   "outputs": [],
   "source": [
    "import time\n",
    "# simulate closed loop\n",
    "\n",
    "u = []\n",
    "x = [x_0]\n",
    "policy_times = []\n",
    "for k in range(N_sim):\n",
    "    tic = time.clock()\n",
    "    u.append(policy.feedback(x[k]))\n",
    "    policy_times.append(time.clock() - tic)\n",
    "    x.append(pwa_sys.simulate(x[k], [u[k]])[0][1])"
   ]
  },
  {
   "cell_type": "code",
   "execution_count": null,
   "metadata": {
    "collapsed": true,
    "deletable": true,
    "editable": true
   },
   "outputs": [],
   "source": [
    "print 'policy times (min, max, mean):', min(policy_times), max(policy_times), np.mean(policy_times)\n",
    "print 'miqp times (min, max, mean):', min(miqp_times), max(miqp_times), np.mean(miqp_times)"
   ]
  },
  {
   "cell_type": "code",
   "execution_count": null,
   "metadata": {
    "collapsed": true,
    "deletable": true,
    "editable": true
   },
   "outputs": [],
   "source": [
    "mpc_plt.input_sequence(u, t_s, (u_min, u_max))\n",
    "plt.show()\n",
    "mpc_plt.state_trajectory(x, t_s, (x_min, x_max))\n",
    "plt.show()"
   ]
  },
  {
   "cell_type": "code",
   "execution_count": null,
   "metadata": {
    "collapsed": true,
    "deletable": true,
    "editable": true
   },
   "outputs": [],
   "source": [
    "mpc_plt.output_trajectory(C, x, t_s, (y_min, y_max))\n",
    "plt.show()"
   ]
  }
 ],
 "metadata": {
  "celltoolbar": "Raw Cell Format",
  "kernelspec": {
   "display_name": "Python 2",
   "language": "python",
   "name": "python2"
  },
  "language_info": {
   "codemirror_mode": {
    "name": "ipython",
    "version": 2
   },
   "file_extension": ".py",
   "mimetype": "text/x-python",
   "name": "python",
   "nbconvert_exporter": "python",
   "pygments_lexer": "ipython2",
   "version": "2.7.13"
  }
 },
 "nbformat": 4,
 "nbformat_minor": 2
}
