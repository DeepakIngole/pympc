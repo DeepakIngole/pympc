{
 "cells": [
  {
   "cell_type": "markdown",
   "metadata": {
    "deletable": true,
    "editable": true
   },
   "source": [
    "# Cart-Pole with Walls, Hybrid MPC Demo"
   ]
  },
  {
   "cell_type": "markdown",
   "metadata": {
    "deletable": true,
    "editable": true
   },
   "source": [
    "This is a demo for the Model Predictive Control (MPC) package $\\texttt{mpc_tools}$."
   ]
  },
  {
   "cell_type": "code",
   "execution_count": 1,
   "metadata": {
    "collapsed": false,
    "deletable": true,
    "editable": true
   },
   "outputs": [],
   "source": [
    "%load_ext autoreload\n",
    "%autoreload 2\n",
    "#%pylab notebook"
   ]
  },
  {
   "cell_type": "code",
   "execution_count": 2,
   "metadata": {
    "collapsed": false,
    "deletable": true,
    "editable": true
   },
   "outputs": [],
   "source": [
    "import time\n",
    "import numpy as np\n",
    "import matplotlib.pyplot as plt\n",
    "import pympc.dynamical_systems as ds\n",
    "import pympc.plot as mpc_plt\n",
    "from pympc.control import MPCHybridController, HybridPolicyLibrary\n",
    "from pympc.geometry import Polytope"
   ]
  },
  {
   "cell_type": "markdown",
   "metadata": {
    "deletable": true,
    "editable": true
   },
   "source": [
    "numeric parameters"
   ]
  },
  {
   "cell_type": "code",
   "execution_count": 3,
   "metadata": {
    "collapsed": true,
    "deletable": true,
    "editable": true
   },
   "outputs": [],
   "source": [
    "mc = 1.\n",
    "mp = 1.\n",
    "l = 1.\n",
    "d = 1.\n",
    "k = 100.\n",
    "g = 10.\n",
    "t_s = .05"
   ]
  },
  {
   "cell_type": "markdown",
   "metadata": {
    "deletable": true,
    "editable": true
   },
   "source": [
    "dynamics"
   ]
  },
  {
   "cell_type": "code",
   "execution_count": 4,
   "metadata": {
    "collapsed": false,
    "deletable": true,
    "editable": true
   },
   "outputs": [],
   "source": [
    "# discretization method\n",
    "method = 'explicit_euler'\n",
    "\n",
    "# dynamics n.0 (contact with left wall)\n",
    "A_0 = np.array([\n",
    "    [0., 0., 1., 0.],\n",
    "    [0., 0., 0., 1.],\n",
    "    [0., (g*mp)/mc, 0., 0.],\n",
    "    [k/(l*mp), (g*mp**2 + g*mc*mp - k*l*mc)/(l*mc*mp), 0., 0.]\n",
    "    ])\n",
    "B_0 = np.array([\n",
    "    [0.],\n",
    "    [0.],\n",
    "    [1./mc],\n",
    "    [1./(l*mc)]\n",
    "    ])\n",
    "c_0 = np.array([\n",
    "    [0.],\n",
    "    [0.],\n",
    "    [0.],\n",
    "    [(d*k)/(l*mp)]\n",
    "    ])\n",
    "S_0 = ds.DTAffineSystem.from_continuous(A_0, B_0, c_0, t_s, method)\n",
    "\n",
    "# dynamics n.1 (free)\n",
    "A_1 = np.array([\n",
    "    [0., 0., 1., 0.],\n",
    "    [0., 0., 0., 1.],\n",
    "    [0., (g*mp)/mc, 0., 0.],\n",
    "    [0., g*(mc+mp)/(l*mc), 0., 0.]\n",
    "    ])\n",
    "B_1 = np.array([\n",
    "    [0.],\n",
    "    [0.],\n",
    "    [1./mc],\n",
    "    [1./(l*mc)]\n",
    "    ])\n",
    "c_1 = np.zeros((4,1))\n",
    "S_1 = ds.DTAffineSystem.from_continuous(A_1, B_1, c_1, t_s, method)\n",
    "\n",
    "# dynamics n.2 (contact with right wall)\n",
    "A_2 = np.array([\n",
    "    [0., 0., 1., 0.],\n",
    "    [0., 0., 0., 1.],\n",
    "    [0., (g*mp)/mc, 0., 0.],\n",
    "    [k/(l*mp), (g*mp**2 + g*mc*mp - k*l*mc)/(l*mc*mp), 0., 0.]\n",
    "    ])\n",
    "B_2 = np.array([\n",
    "    [0.],\n",
    "    [0.],\n",
    "    [1./mc],\n",
    "    [1./(l*mc)]\n",
    "    ])\n",
    "c_2 = np.array([\n",
    "    [0.],\n",
    "    [0.],\n",
    "    [0.],\n",
    "    [-(d*k)/(l*mp)]\n",
    "    ])\n",
    "S_2 = ds.DTAffineSystem.from_continuous(A_2, B_2, c_2, t_s, method)\n",
    "\n",
    "# list of dynamics\n",
    "S = [S_0, S_1, S_2]"
   ]
  },
  {
   "cell_type": "markdown",
   "metadata": {
    "deletable": true,
    "editable": true
   },
   "source": [
    "The domains of the PWA have to be expressed as polytopes."
   ]
  },
  {
   "cell_type": "code",
   "execution_count": 5,
   "metadata": {
    "collapsed": false,
    "deletable": true,
    "editable": true
   },
   "outputs": [],
   "source": [
    "# state bounds\n",
    "x_max = np.array([[1.5*d],[np.pi/6.],[7.],[5.]])\n",
    "x_min = -x_max\n",
    "\n",
    "# state domain n.1\n",
    "lhs_0 = np.array([[1., -l, 0., 0.]])\n",
    "rhs_0 = np.array([[-d]])\n",
    "X_0 = Polytope.from_bounds(x_min, x_max)\n",
    "X_0.add_facets(lhs_0, rhs_0)\n",
    "X_0.assemble()\n",
    "\n",
    "# state domain n.2\n",
    "lhs_1 = np.array([[-1., l, 0., 0.], [1., -l, 0., 0.]])\n",
    "rhs_1 = np.array([[d], [d]])\n",
    "X_1 = Polytope.from_bounds(x_min, x_max)\n",
    "X_1.add_facets(lhs_1, rhs_1)\n",
    "X_1.assemble()\n",
    "\n",
    "# state domain n.3\n",
    "lhs_2 = np.array([[-1., l, 0., 0.]])\n",
    "rhs_2 = np.array([[-d]])\n",
    "X_2 = Polytope.from_bounds(x_min, x_max)\n",
    "X_2.add_facets(lhs_2, rhs_2)\n",
    "X_2.assemble()\n",
    "\n",
    "# list of state domains\n",
    "X = [X_0, X_1, X_2]\n",
    "\n",
    "# input domain\n",
    "u_max = np.array([[100.]])\n",
    "u_min = -u_max\n",
    "U = Polytope.from_bounds(u_min, u_max)\n",
    "U.assemble()\n",
    "U = [U]*3"
   ]
  },
  {
   "cell_type": "markdown",
   "metadata": {
    "deletable": true,
    "editable": true
   },
   "source": [
    "We can now define the PWA system."
   ]
  },
  {
   "cell_type": "code",
   "execution_count": 6,
   "metadata": {
    "collapsed": false,
    "deletable": true,
    "editable": true
   },
   "outputs": [],
   "source": [
    "pwa_sys = ds.DTPWASystem.from_orthogonal_domains(S, X, U)"
   ]
  },
  {
   "cell_type": "code",
   "execution_count": 7,
   "metadata": {
    "collapsed": false,
    "deletable": true,
    "editable": true
   },
   "outputs": [],
   "source": [
    "# controller parameters\n",
    "N = 10\n",
    "Q = np.eye(A_1.shape[0])\n",
    "R = np.eye(B_1.shape[1])\n",
    "objective_norm = 'two'\n",
    "\n",
    "# terminal set and cost\n",
    "P, K = ds.dare(S[1].A, S[1].B, Q, R)\n",
    "#X_N = ds.moas_closed_loop(S[1].A, S[1].B, K, X[1], U[1])\n",
    "\n",
    "# save\n",
    "#np.save('moas_cart_pole', X_N)\n",
    "\n",
    "# load\n",
    "X_N = np.load('moas_cart_pole.npy').item()\n",
    "\n",
    "#x_max_N = np.ones((4,1))*.13\n",
    "#x_min_N = - x_max_N\n",
    "#X_N = Polytope.from_bounds(x_min_N, x_max_N)\n",
    "#X_N.assemble()\n",
    "#print 'check this', X_N.included_in(moas)\n",
    "\n",
    "# hybrid controller\n",
    "controller = MPCHybridController(pwa_sys, N, objective_norm, Q, R, P, X_N)"
   ]
  },
  {
   "cell_type": "markdown",
   "metadata": {
    "deletable": true,
    "editable": true
   },
   "source": [
    "We can now simulate the closed-loop dynamics starting from the initial state $x_0$."
   ]
  },
  {
   "cell_type": "code",
   "execution_count": 8,
   "metadata": {
    "collapsed": false,
    "deletable": true,
    "editable": true
   },
   "outputs": [
    {
     "name": "stdout",
     "output_type": "stream",
     "text": [
      "0 1\n"
     ]
    }
   ],
   "source": [
    "N_sim = 2\n",
    "x_0 = np.array([[0.],[0.],[2.5],[0.]])\n",
    "u = []\n",
    "x = [x_0]\n",
    "u_ws = None\n",
    "x_ws = None\n",
    "ss_ws = None\n",
    "terminal_mode = 1\n",
    "for k in range(N_sim):\n",
    "    print k,\n",
    "    u_k, x_k, ss_k = controller.feedforward(x[k], u_ws, x_ws, ss_ws)[0:3]\n",
    "    x_next = pwa_sys.simulate(x[k], [u_k[0]])[0][1]\n",
    "    u.append(u_k[0])\n",
    "    x.append(x_next)\n",
    "    u_ws = u_k[1:] + [K.dot(x_k[-1])]\n",
    "    x_ws = x_k[1:] + [pwa_sys.simulate(x_k[-1], [u_ws[-1]])[0][1]]\n",
    "    ss_ws = ss_k[1:] + (terminal_mode,)"
   ]
  },
  {
   "cell_type": "markdown",
   "metadata": {
    "deletable": true,
    "editable": true
   },
   "source": [
    "We can use the plot functions to visualize the time evolution of the system."
   ]
  },
  {
   "cell_type": "code",
   "execution_count": 9,
   "metadata": {
    "collapsed": false,
    "deletable": true,
    "editable": true
   },
   "outputs": [
    {
     "data": {
      "image/png": "[encoded data removed]",
      "text/plain": [
       "<matplotlib.figure.Figure at 0x10e9dfbd0>"
      ]
     },
     "metadata": {},
     "output_type": "display_data"
    },
    {
     "data": {
      "image/png": "[encoded data removed]",
      "text/plain": [
       "<matplotlib.figure.Figure at 0x111964d90>"
      ]
     },
     "metadata": {},
     "output_type": "display_data"
    }
   ],
   "source": [
    "mpc_plt.input_sequence(u, t_s, (u_min, u_max))\n",
    "plt.show()\n",
    "mpc_plt.state_trajectory(x, t_s, (x_min, x_max))\n",
    "plt.show()"
   ]
  },
  {
   "cell_type": "code",
   "execution_count": 10,
   "metadata": {
    "collapsed": false,
    "deletable": true,
    "editable": true
   },
   "outputs": [
    {
     "data": {
      "image/png": "[encoded data removed]",
      "text/plain": [
       "<matplotlib.figure.Figure at 0x111ba7650>"
      ]
     },
     "metadata": {},
     "output_type": "display_data"
    }
   ],
   "source": [
    "C = np.array([[1., -l, 0., 0.]])\n",
    "y_max = np.array([[d]])\n",
    "y_min = -y_max\n",
    "mpc_plt.output_trajectory(C, x, t_s, (y_min, y_max))\n",
    "plt.show()"
   ]
  },
  {
   "cell_type": "code",
   "execution_count": 26,
   "metadata": {
    "collapsed": false,
    "deletable": true,
    "editable": true
   },
   "outputs": [
    {
     "name": "stdout",
     "output_type": "stream",
     "text": [
      "Sample 0 unfeasible\n",
      "Sample 1 unfeasible\n",
      "Sample 2 unfeasible\n",
      "Sample 3 unfeasible\n",
      "Sample 4 unfeasible\n",
      "Sample 5 unfeasible\n",
      "Backwards reachability analysis for the switching sequence (1, 1, 1, 1, 1, 1, 1, 1, 1, 1)\n",
      "9\n",
      "2400\n",
      "1694\n",
      "RuntimeError with cddlib: switched to qhull\n",
      "1694\n",
      "(11195, 4)\n",
      "(528, 4)\n",
      "8\n",
      "3226\n",
      "2073\n",
      "RuntimeError with cddlib: switched to qhull\n",
      "2073\n",
      "(13354, 4)\n",
      "(865, 4)\n",
      "7\n",
      "3944\n",
      "2475\n",
      "RuntimeError with cddlib: switched to qhull\n",
      "2475\n",
      "(16056, 4)\n",
      "(1232, 4)\n",
      "6\n",
      "4462\n",
      "2720\n",
      "RuntimeError with cddlib: switched to qhull\n",
      "2720\n",
      "(17584, 4)\n",
      "(1401, 4)\n",
      "5\n",
      "4628\n",
      "2819\n",
      "RuntimeError with cddlib: switched to qhull\n",
      "2819\n",
      "(18402, 4)\n",
      "(1491, 4)\n",
      "4\n",
      "4626\n",
      "2787\n",
      "RuntimeError with cddlib: switched to qhull\n",
      "2787\n",
      "(18003, 4)\n",
      "(1501, 4)\n",
      "3\n",
      "4720\n",
      "2799\n",
      "RuntimeError with cddlib: switched to qhull\n",
      "2799\n",
      "(18155, 4)\n",
      "(1508, 4)\n",
      "2\n",
      "4826\n",
      "2817\n",
      "RuntimeError with cddlib: switched to qhull\n",
      "2817\n",
      "(18504, 4)\n",
      "(1514, 4)\n",
      "1\n",
      "4684\n",
      "2772\n",
      "RuntimeError with cddlib: switched to qhull\n",
      "2772\n",
      "(17997, 4)\n"
     ]
    },
    {
     "ename": "RuntimeError",
     "evalue": "failed to canonicalize matrix\n*Error: Possibly an LP cycling occurs.  Use the Criss-Cross method.",
     "output_type": "error",
     "traceback": [
      "\u001b[0;31m---------------------------------------------------------------------------\u001b[0m",
      "\u001b[0;31mRuntimeError\u001b[0m                              Traceback (most recent call last)",
      "\u001b[0;32m<ipython-input-26-beaee83ee584>\u001b[0m in \u001b[0;36m<module>\u001b[0;34m()\u001b[0m\n\u001b[1;32m      7\u001b[0m \u001b[0mn_samples\u001b[0m \u001b[0;34m=\u001b[0m \u001b[0;36m1000\u001b[0m\u001b[0;34m\u001b[0m\u001b[0m\n\u001b[1;32m      8\u001b[0m \u001b[0mterminal_domain\u001b[0m \u001b[0;34m=\u001b[0m \u001b[0;36m1\u001b[0m\u001b[0;34m\u001b[0m\u001b[0m\n\u001b[0;32m----> 9\u001b[0;31m \u001b[0mpolicy\u001b[0m\u001b[0;34m.\u001b[0m\u001b[0msample_policy\u001b[0m\u001b[0;34m(\u001b[0m\u001b[0mn_samples\u001b[0m\u001b[0;34m,\u001b[0m \u001b[0mterminal_domain\u001b[0m\u001b[0;34m,\u001b[0m \u001b[0mX\u001b[0m\u001b[0;34m,\u001b[0m \u001b[0mU\u001b[0m\u001b[0;34m)\u001b[0m\u001b[0;34m\u001b[0m\u001b[0m\n\u001b[0m\u001b[1;32m     10\u001b[0m \u001b[0;34m\u001b[0m\u001b[0m\n\u001b[1;32m     11\u001b[0m \u001b[0;31m# save\u001b[0m\u001b[0;34m\u001b[0m\u001b[0;34m\u001b[0m\u001b[0m\n",
      "\u001b[0;32m/Users/tobia/py-mpc/pympc/control.py\u001b[0m in \u001b[0;36msample_policy\u001b[0;34m(self, n_samples, terminal_domain, X_list, U_list)\u001b[0m\n\u001b[1;32m    589\u001b[0m                                 \u001b[0mfeasible_set\u001b[0m \u001b[0;34m=\u001b[0m \u001b[0mself\u001b[0m\u001b[0;34m.\u001b[0m\u001b[0mcontroller\u001b[0m\u001b[0;34m.\u001b[0m\u001b[0mbackwards_reachability_analysis\u001b[0m\u001b[0;34m(\u001b[0m\u001b[0mss\u001b[0m\u001b[0;34m)\u001b[0m\u001b[0;34m\u001b[0m\u001b[0m\n\u001b[1;32m    590\u001b[0m                             \u001b[0;32melif\u001b[0m \u001b[0mX_list\u001b[0m \u001b[0;32mis\u001b[0m \u001b[0;32mnot\u001b[0m \u001b[0mNone\u001b[0m \u001b[0;32mand\u001b[0m \u001b[0mU_list\u001b[0m \u001b[0;32mis\u001b[0m \u001b[0;32mnot\u001b[0m \u001b[0mNone\u001b[0m\u001b[0;34m:\u001b[0m\u001b[0;34m\u001b[0m\u001b[0m\n\u001b[0;32m--> 591\u001b[0;31m                                 \u001b[0mfeasible_set\u001b[0m \u001b[0;34m=\u001b[0m \u001b[0mself\u001b[0m\u001b[0;34m.\u001b[0m\u001b[0mcontroller\u001b[0m\u001b[0;34m.\u001b[0m\u001b[0mbackwards_reachability_analysis_from_orthogonal_domains\u001b[0m\u001b[0;34m(\u001b[0m\u001b[0mss\u001b[0m\u001b[0;34m,\u001b[0m \u001b[0mX_list\u001b[0m\u001b[0;34m,\u001b[0m \u001b[0mU_list\u001b[0m\u001b[0;34m)\u001b[0m\u001b[0;34m\u001b[0m\u001b[0m\n\u001b[0m\u001b[1;32m    592\u001b[0m                             self.library[ss] = {\n\u001b[1;32m    593\u001b[0m                             \u001b[0;34m'feasible_set'\u001b[0m\u001b[0;34m:\u001b[0m \u001b[0mfeasible_set\u001b[0m\u001b[0;34m,\u001b[0m\u001b[0;34m\u001b[0m\u001b[0m\n",
      "\u001b[0;32m/Users/tobia/py-mpc/pympc/control.py\u001b[0m in \u001b[0;36mbackwards_reachability_analysis_from_orthogonal_domains\u001b[0;34m(self, switching_sequence, X_list, U_list)\u001b[0m\n\u001b[1;32m    483\u001b[0m                 \u001b[0mM_ineq\u001b[0m\u001b[0;34m.\u001b[0m\u001b[0mrep_type\u001b[0m \u001b[0;34m=\u001b[0m \u001b[0mcdd\u001b[0m\u001b[0;34m.\u001b[0m\u001b[0mRepType\u001b[0m\u001b[0;34m.\u001b[0m\u001b[0mINEQUALITY\u001b[0m\u001b[0;34m\u001b[0m\u001b[0m\n\u001b[1;32m    484\u001b[0m \u001b[0;34m\u001b[0m\u001b[0m\n\u001b[0;32m--> 485\u001b[0;31m             \u001b[0mM_ineq\u001b[0m\u001b[0;34m.\u001b[0m\u001b[0mcanonicalize\u001b[0m\u001b[0;34m(\u001b[0m\u001b[0;34m)\u001b[0m\u001b[0;34m\u001b[0m\u001b[0m\n\u001b[0m\u001b[1;32m    486\u001b[0m             \u001b[0mA\u001b[0m \u001b[0;34m=\u001b[0m \u001b[0;34m-\u001b[0m \u001b[0mnp\u001b[0m\u001b[0;34m.\u001b[0m\u001b[0marray\u001b[0m\u001b[0;34m(\u001b[0m\u001b[0;34m[\u001b[0m\u001b[0mlist\u001b[0m\u001b[0;34m(\u001b[0m\u001b[0mM_ineq\u001b[0m\u001b[0;34m[\u001b[0m\u001b[0mj\u001b[0m\u001b[0;34m]\u001b[0m\u001b[0;34m)\u001b[0m\u001b[0;34m[\u001b[0m\u001b[0;36m1\u001b[0m\u001b[0;34m:\u001b[0m\u001b[0;34m]\u001b[0m \u001b[0;32mfor\u001b[0m \u001b[0mj\u001b[0m \u001b[0;32min\u001b[0m \u001b[0mrange\u001b[0m\u001b[0;34m(\u001b[0m\u001b[0mM_ineq\u001b[0m\u001b[0;34m.\u001b[0m\u001b[0mrow_size\u001b[0m\u001b[0;34m)\u001b[0m\u001b[0;34m]\u001b[0m\u001b[0;34m)\u001b[0m\u001b[0;34m\u001b[0m\u001b[0m\n\u001b[1;32m    487\u001b[0m             \u001b[0mb\u001b[0m \u001b[0;34m=\u001b[0m \u001b[0mnp\u001b[0m\u001b[0;34m.\u001b[0m\u001b[0marray\u001b[0m\u001b[0;34m(\u001b[0m\u001b[0;34m[\u001b[0m\u001b[0mlist\u001b[0m\u001b[0;34m(\u001b[0m\u001b[0mM_ineq\u001b[0m\u001b[0;34m[\u001b[0m\u001b[0mj\u001b[0m\u001b[0;34m]\u001b[0m\u001b[0;34m)\u001b[0m\u001b[0;34m[\u001b[0m\u001b[0;34m:\u001b[0m\u001b[0;36m1\u001b[0m\u001b[0;34m]\u001b[0m \u001b[0;32mfor\u001b[0m \u001b[0mj\u001b[0m \u001b[0;32min\u001b[0m \u001b[0mrange\u001b[0m\u001b[0;34m(\u001b[0m\u001b[0mM_ineq\u001b[0m\u001b[0;34m.\u001b[0m\u001b[0mrow_size\u001b[0m\u001b[0;34m)\u001b[0m\u001b[0;34m]\u001b[0m\u001b[0;34m)\u001b[0m\u001b[0;34m\u001b[0m\u001b[0m\n",
      "\u001b[0;32mcdd.pyx\u001b[0m in \u001b[0;36mcdd.Matrix.canonicalize (cdd.c:8856)\u001b[0;34m()\u001b[0m\n",
      "\u001b[0;32mcdd.pyx\u001b[0m in \u001b[0;36mcdd._raise_error (cdd.c:2270)\u001b[0;34m()\u001b[0m\n",
      "\u001b[0;31mRuntimeError\u001b[0m: failed to canonicalize matrix\n*Error: Possibly an LP cycling occurs.  Use the Criss-Cross method."
     ]
    }
   ],
   "source": [
    "# initialization of the library\n",
    "\n",
    "policy = HybridPolicyLibrary(controller)\n",
    "\n",
    "# coverage\n",
    "\n",
    "n_samples = 1000\n",
    "terminal_domain = 1\n",
    "policy.sample_policy(n_samples, terminal_domain, X, U)\n",
    "\n",
    "# save\n",
    "#np.save('policy_cart_pole', policy)\n",
    "\n",
    "# load\n",
    "#policy = np.load('policy_cart_pole.npy').item()"
   ]
  },
  {
   "cell_type": "code",
   "execution_count": 12,
   "metadata": {
    "collapsed": false,
    "deletable": true,
    "editable": true
   },
   "outputs": [
    {
     "name": "stdout",
     "output_type": "stream",
     "text": [
      "(0, 0, 0, 1, 1, 1, 1, 1, 1, 1)\n",
      "[nan, nan, nan, nan, nan, nan, nan, nan, 8272.626581542132, 12886.454756644598, 3240.0974852873915, 3417.8979613337724, 3246.910140832013, nan, nan, nan, nan, nan, nan, nan, nan, 3350.2359176789178, 56.295499150603767, 5760.9533740118495, 4841.7321176234982, 14930.462954299524, 11787.511807080591, 11537.784223280265, 12363.556911325315, 11832.67885583709, 11674.097850276274, nan, nan, nan, 7439.9018674576073, nan, nan, nan, 1342.9848808018287, 1699.4397104680247, nan, 1228.9701661724976, 1654.6425017111469, nan, nan, nan, nan, nan, nan, nan, 13378.983860566026, nan, 14032.362137663822, 13214.782007782822, 13330.547342830934, 13253.72610776627, 13298.382927853985, 16395.142713407287, nan, nan, 13778.148199569318, 13216.661718239624, 14032.362137555392, 13378.983860515065, 10215.129242648225, 12045.043484874652, 10493.404175638047, 23764.071755686251, 23817.842751335585, 23020.64271283464, 23151.808921358024, nan, nan, nan, nan, nan, nan, nan, nan, nan, nan, nan]\n"
     ]
    },
    {
     "ename": "ValueError",
     "evalue": "Points cannot contain NaN",
     "output_type": "error",
     "traceback": [
      "\u001b[0;31m---------------------------------------------------------------------------\u001b[0m",
      "\u001b[0;31mValueError\u001b[0m                                Traceback (most recent call last)",
      "\u001b[0;32m<ipython-input-12-ab1422297ad5>\u001b[0m in \u001b[0;36m<module>\u001b[0;34m()\u001b[0m\n\u001b[1;32m      2\u001b[0m \u001b[0;34m\u001b[0m\u001b[0m\n\u001b[1;32m      3\u001b[0m \u001b[0mn_samples\u001b[0m \u001b[0;34m=\u001b[0m \u001b[0;36m10\u001b[0m\u001b[0;34m**\u001b[0m\u001b[0;36m3\u001b[0m\u001b[0;34m\u001b[0m\u001b[0m\n\u001b[0;32m----> 4\u001b[0;31m \u001b[0mpolicy\u001b[0m\u001b[0;34m.\u001b[0m\u001b[0madd_vertices_of_feasible_regions\u001b[0m\u001b[0;34m(\u001b[0m\u001b[0;34m)\u001b[0m\u001b[0;34m\u001b[0m\u001b[0m\n\u001b[0m\u001b[1;32m      5\u001b[0m \u001b[0mpolicy\u001b[0m\u001b[0;34m.\u001b[0m\u001b[0mbound_optimal_value_functions\u001b[0m\u001b[0;34m(\u001b[0m\u001b[0mn_samples\u001b[0m\u001b[0;34m)\u001b[0m\u001b[0;34m\u001b[0m\u001b[0m\n",
      "\u001b[0;32m/Users/tobia/py-mpc/pympc/control.py\u001b[0m in \u001b[0;36madd_vertices_of_feasible_regions\u001b[0;34m(self, eps)\u001b[0m\n\u001b[1;32m    622\u001b[0m                 \u001b[0mxV_list\u001b[0m\u001b[0;34m.\u001b[0m\u001b[0mappend\u001b[0m\u001b[0;34m(\u001b[0m\u001b[0mauxiliary_vertex\u001b[0m\u001b[0;34m)\u001b[0m\u001b[0;34m\u001b[0m\u001b[0m\n\u001b[1;32m    623\u001b[0m \u001b[0;34m\u001b[0m\u001b[0m\n\u001b[0;32m--> 624\u001b[0;31m             \u001b[0mss_values\u001b[0m\u001b[0;34m[\u001b[0m\u001b[0;34m'upper_bound'\u001b[0m\u001b[0;34m]\u001b[0m\u001b[0;34m[\u001b[0m\u001b[0;34m'convex_hull'\u001b[0m\u001b[0;34m]\u001b[0m \u001b[0;34m=\u001b[0m \u001b[0mConvexHull\u001b[0m\u001b[0;34m(\u001b[0m\u001b[0mnp\u001b[0m\u001b[0;34m.\u001b[0m\u001b[0mhstack\u001b[0m\u001b[0;34m(\u001b[0m\u001b[0mxV_list\u001b[0m\u001b[0;34m)\u001b[0m\u001b[0;34m.\u001b[0m\u001b[0mT\u001b[0m\u001b[0;34m,\u001b[0m \u001b[0mincremental\u001b[0m\u001b[0;34m=\u001b[0m\u001b[0mTrue\u001b[0m\u001b[0;34m)\u001b[0m\u001b[0;34m\u001b[0m\u001b[0m\n\u001b[0m\u001b[1;32m    625\u001b[0m             \u001b[0mA\u001b[0m\u001b[0;34m,\u001b[0m \u001b[0mb\u001b[0m \u001b[0;34m=\u001b[0m \u001b[0mself\u001b[0m\u001b[0;34m.\u001b[0m\u001b[0mupper_bound_from_hull\u001b[0m\u001b[0;34m(\u001b[0m\u001b[0mss_values\u001b[0m\u001b[0;34m[\u001b[0m\u001b[0;34m'upper_bound'\u001b[0m\u001b[0;34m]\u001b[0m\u001b[0;34m[\u001b[0m\u001b[0;34m'convex_hull'\u001b[0m\u001b[0;34m]\u001b[0m\u001b[0;34m)\u001b[0m\u001b[0;34m\u001b[0m\u001b[0m\n\u001b[1;32m    626\u001b[0m             \u001b[0mss_values\u001b[0m\u001b[0;34m[\u001b[0m\u001b[0;34m'upper_bound'\u001b[0m\u001b[0;34m]\u001b[0m\u001b[0;34m[\u001b[0m\u001b[0;34m'A'\u001b[0m\u001b[0;34m]\u001b[0m \u001b[0;34m=\u001b[0m \u001b[0mA\u001b[0m\u001b[0;34m\u001b[0m\u001b[0m\n",
      "\u001b[0;32mscipy/spatial/qhull.pyx\u001b[0m in \u001b[0;36mscipy.spatial.qhull.ConvexHull.__init__ (/private/var/folders/gw/_2jq29095y7b__wtby9dg_5h0000gn/T/pip-8Za6y9-build/scipy/spatial/qhull.c:21371)\u001b[0;34m()\u001b[0m\n",
      "\u001b[0;32mscipy/spatial/qhull.pyx\u001b[0m in \u001b[0;36mscipy.spatial.qhull._Qhull.__init__ (/private/var/folders/gw/_2jq29095y7b__wtby9dg_5h0000gn/T/pip-8Za6y9-build/scipy/spatial/qhull.c:4373)\u001b[0;34m()\u001b[0m\n",
      "\u001b[0;31mValueError\u001b[0m: Points cannot contain NaN"
     ]
    }
   ],
   "source": [
    "# bound optimal value functions\n",
    "\n",
    "n_samples = 10**3\n",
    "policy.add_vertices_of_feasible_regions()\n",
    "policy.bound_optimal_value_functions(n_samples)"
   ]
  },
  {
   "cell_type": "markdown",
   "metadata": {
    "collapsed": true,
    "deletable": true,
    "editable": true
   },
   "source": [
    "import time\n",
    "# simulate closed loop\n",
    "\n",
    "N_sim = 100\n",
    "x_0 = np.array([[0.],[0.],[2.2],[0.]])\n",
    "\n",
    "u = []\n",
    "x = []\n",
    "u_miqp = []\n",
    "my_times = []\n",
    "miqp_times = []\n",
    "x.append(x_0)\n",
    "for k in range(N_sim):\n",
    "    \n",
    "    tic = time.clock()\n",
    "    u.append(policy.feedback(x[k]))\n",
    "    my_times.append(time.clock() - tic)\n",
    "\n",
    "    tic = time.clock()\n",
    "    u_miqp.append(controller.feedback(x[k]))\n",
    "    miqp_times.append(time.clock() - tic)\n",
    "\n",
    "    x_next = pwa_sys.simulate(x[k], [u[k]])[0][1]\n",
    "    x.append(x_next)\n",
    "\n",
    "\n",
    "print 'my times (min, max, mean):', min(my_times), max(my_times), np.mean(my_times)\n",
    "print 'miqp times (min, max, mean):', min(miqp_times), max(miqp_times), np.mean(miqp_times)\n",
    "print 'max feedback error', max([np.linalg.norm(u[i] - u_miqp[i]) for i in range(len(u))])\n",
    "\n",
    "mpc_plt.input_sequence(u, t_s, (u_min, u_max))\n",
    "plt.show()\n",
    "mpc_plt.state_trajectory(x, t_s, (x_min_1, x_min_2, x_max_2))\n",
    "plt.show()"
   ]
  },
  {
   "cell_type": "code",
   "execution_count": 13,
   "metadata": {
    "collapsed": false,
    "deletable": true,
    "editable": true
   },
   "outputs": [
    {
     "data": {
      "text/plain": [
       "(array([[-1.11974136],\n",
       "        [-0.50292206],\n",
       "        [ 1.24518281],\n",
       "        [ 3.72530164]]), (1, 1, 1, 1, 0, 0, 0, 0, 0, 0))"
      ]
     },
     "execution_count": 13,
     "metadata": {},
     "output_type": "execute_result"
    }
   ],
   "source": [
    "ss = (1, 1, 1, 1, 0, 0, 0, 0, 0, 0)\n",
    "policy.library[ss]['generating_point']"
   ]
  },
  {
   "cell_type": "code",
   "execution_count": 14,
   "metadata": {
    "collapsed": false
   },
   "outputs": [
    {
     "name": "stdout",
     "output_type": "stream",
     "text": [
      "Redundant inequalities removed in 11.6508350372 s, total condensing time is 11.6540818214 s\n"
     ]
    }
   ],
   "source": [
    "prog = controller.condense_program(ss)"
   ]
  },
  {
   "cell_type": "code",
   "execution_count": 15,
   "metadata": {
    "collapsed": false
   },
   "outputs": [
    {
     "name": "stdout",
     "output_type": "stream",
     "text": [
      "nan\n",
      "6070.57427113\n"
     ]
    }
   ],
   "source": [
    "print prog.solve(policy.library[ss]['feasible_set'].center)[-1]\n",
    "print prog.solve(policy.library[ss]['generating_point'][0])[-1]"
   ]
  },
  {
   "cell_type": "code",
   "execution_count": 16,
   "metadata": {
    "collapsed": false
   },
   "outputs": [
    {
     "name": "stdout",
     "output_type": "stream",
     "text": [
      "Unfeasible initial condition x_0 = [[-0.7604221383322827], [-0.30328442379610243], [-6.958265780194998], [-3.5705599358602895]]\n",
      "nan\n",
      "6070.57427125\n"
     ]
    }
   ],
   "source": [
    "print controller.feedforward(policy.library[ss]['feasible_set'].center)[-1]\n",
    "print controller.feedforward(policy.library[ss]['generating_point'][0])[-1]"
   ]
  },
  {
   "cell_type": "code",
   "execution_count": 17,
   "metadata": {
    "collapsed": false
   },
   "outputs": [
    {
     "name": "stdout",
     "output_type": "stream",
     "text": [
      "True\n",
      "True\n"
     ]
    }
   ],
   "source": [
    "print policy.library[ss]['feasible_set'].applies_to(policy.library[ss]['feasible_set'].center)\n",
    "print policy.library[ss]['feasible_set'].applies_to(policy.library[ss]['generating_point'][0])"
   ]
  },
  {
   "cell_type": "code",
   "execution_count": 18,
   "metadata": {
    "collapsed": false
   },
   "outputs": [
    {
     "name": "stdout",
     "output_type": "stream",
     "text": [
      "Backwards reachability analysis for the switching sequence (1, 1, 1, 1, 0, 0, 0, 0, 0, 0)\n",
      "RuntimeError with cddlib: switched to qhull\n",
      "2400\n",
      "(11194, 4)\n",
      "(520, 4)\n",
      "RuntimeError with cddlib: switched to qhull\n",
      "688\n",
      "(2290, 4)\n",
      "(125, 4)\n",
      "RuntimeError with cddlib: switched to qhull\n",
      "502\n",
      "(1762, 4)\n",
      "(114, 4)\n",
      "RuntimeError with cddlib: switched to qhull\n",
      "446\n",
      "(1883, 4)\n",
      "(133, 4)\n",
      "RuntimeError with cddlib: switched to qhull\n",
      "648\n",
      "(2750, 4)\n",
      "(185, 4)\n",
      "RuntimeError with cddlib: switched to qhull\n",
      "968\n",
      "(3989, 4)\n",
      "(276, 4)\n",
      "RuntimeError with cddlib: switched to qhull\n",
      "1348\n",
      "(5246, 4)\n",
      "(378, 4)\n",
      "RuntimeError with cddlib: switched to qhull\n",
      "1120\n",
      "(4743, 4)\n",
      "(355, 4)\n",
      "RuntimeError with cddlib: switched to qhull\n",
      "1552\n",
      "(6417, 4)\n",
      "(498, 4)\n",
      "RuntimeError with cddlib: switched to qhull\n",
      "1796\n",
      "(7329, 4)\n",
      "(594, 4)\n",
      "Feasible set computed in 7.21075701714 s\n"
     ]
    }
   ],
   "source": [
    "fs = controller.backwards_reachability_analysis_from_orthogonal_domains(ss, X, U)"
   ]
  },
  {
   "cell_type": "code",
   "execution_count": 21,
   "metadata": {
    "collapsed": false,
    "deletable": true,
    "editable": true
   },
   "outputs": [
    {
     "name": "stdout",
     "output_type": "stream",
     "text": [
      "9997.18377307\n",
      "9997.18377286\n"
     ]
    }
   ],
   "source": [
    "print prog.solve(fs.center)[-1]\n",
    "print controller.feedforward(fs.center)[-1]"
   ]
  },
  {
   "cell_type": "markdown",
   "metadata": {},
   "source": [
    "fs.center\n",
    "[[-0.23923342]\n",
    " [ 0.24182799]\n",
    " [-2.09194277]\n",
    " [ 1.27101329]]"
   ]
  },
  {
   "cell_type": "code",
   "execution_count": null,
   "metadata": {
    "collapsed": false,
    "deletable": true,
    "editable": true
   },
   "outputs": [],
   "source": [
    "prog.solve(fs.center)"
   ]
  },
  {
   "cell_type": "code",
   "execution_count": null,
   "metadata": {
    "collapsed": false,
    "deletable": true,
    "editable": true
   },
   "outputs": [],
   "source": [
    "controller.feedforward(policy.library[ss]['generating_point'][0])"
   ]
  },
  {
   "cell_type": "code",
   "execution_count": null,
   "metadata": {
    "collapsed": false,
    "deletable": true,
    "editable": true
   },
   "outputs": [],
   "source": [
    "fs = controller.backwards_reachability_analysis_from_orthogonal_domains(ss, X, U)"
   ]
  },
  {
   "cell_type": "code",
   "execution_count": null,
   "metadata": {
    "collapsed": false,
    "deletable": true,
    "editable": true
   },
   "outputs": [],
   "source": [
    "fs_vero = controller.backwards_reachability_analysis(ss)"
   ]
  },
  {
   "cell_type": "code",
   "execution_count": null,
   "metadata": {
    "collapsed": false
   },
   "outputs": [],
   "source": [
    "from pympc.geometry import chebyshev_center\n",
    "chebyshev_center(fs_vero.lhs_min, fs_vero.rhs_min)"
   ]
  },
  {
   "cell_type": "code",
   "execution_count": null,
   "metadata": {
    "collapsed": false
   },
   "outputs": [],
   "source": [
    "chebyshev_center(fs.lhs_min, fs.rhs_min)"
   ]
  },
  {
   "cell_type": "markdown",
   "metadata": {},
   "source": [
    "array([[-0.64991264],\n",
    "        [ 0.45172799],\n",
    "        [ 6.92812922],\n",
    "        [ 2.85996433]]), 0.07187078319798311]"
   ]
  },
  {
   "cell_type": "markdown",
   "metadata": {},
   "source": [
    "[array([[-1.34467546],\n",
    "        [-0.12501338],\n",
    "        [ 0.81127351],\n",
    "        [-0.90917793]]), 0.1553245417121718]"
   ]
  }
 ],
 "metadata": {
  "celltoolbar": "Raw Cell Format",
  "kernelspec": {
   "display_name": "Python 2",
   "language": "python",
   "name": "python2"
  },
  "language_info": {
   "codemirror_mode": {
    "name": "ipython",
    "version": 2
   },
   "file_extension": ".py",
   "mimetype": "text/x-python",
   "name": "python",
   "nbconvert_exporter": "python",
   "pygments_lexer": "ipython2",
   "version": "2.7.13"
  }
 },
 "nbformat": 4,
 "nbformat_minor": 2
}
