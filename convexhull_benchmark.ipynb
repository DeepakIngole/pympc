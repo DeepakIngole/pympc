{
 "cells": [
  {
   "cell_type": "markdown",
   "metadata": {
    "deletable": true,
    "editable": true
   },
   "source": [
    "## Benchmark convex hull"
   ]
  },
  {
   "cell_type": "code",
   "execution_count": 1,
   "metadata": {
    "collapsed": true,
    "deletable": true,
    "editable": true
   },
   "outputs": [],
   "source": [
    "import numpy as np\n",
    "from pympc.geometry.polytope import Polytope\n",
    "import matplotlib.pyplot as plt"
   ]
  },
  {
   "cell_type": "markdown",
   "metadata": {
    "deletable": true,
    "editable": true
   },
   "source": [
    "random points"
   ]
  },
  {
   "cell_type": "code",
   "execution_count": 2,
   "metadata": {
    "collapsed": true,
    "deletable": true,
    "editable": true
   },
   "outputs": [],
   "source": [
    "d = 13\n",
    "n = 50\n",
    "points = np.random.rand(n, d)"
   ]
  },
  {
   "cell_type": "markdown",
   "metadata": {
    "deletable": true,
    "editable": true
   },
   "source": [
    "qhull from scipy"
   ]
  },
  {
   "cell_type": "code",
   "execution_count": 3,
   "metadata": {
    "collapsed": false,
    "deletable": true,
    "editable": true
   },
   "outputs": [
    {
     "name": "stdout",
     "output_type": "stream",
     "text": [
      "(1445038, 13)\n"
     ]
    }
   ],
   "source": [
    "from scipy.spatial import ConvexHull\n",
    "hull = ConvexHull(points)\n",
    "lhs = hull.equations[:,:-1]\n",
    "rhs = - hull.equations[:,-1:]\n",
    "print lhs.shape"
   ]
  },
  {
   "cell_type": "code",
   "execution_count": 6,
   "metadata": {
    "collapsed": false
   },
   "outputs": [
    {
     "name": "stdout",
     "output_type": "stream",
     "text": [
      "0.149839878082\n"
     ]
    }
   ],
   "source": [
    "from time import time\n",
    "p = np.random.rand(d,1)\n",
    "tic = time()\n",
    "lhs.dot(p)-rhs\n",
    "print time() - tic"
   ]
  },
  {
   "cell_type": "code",
   "execution_count": 7,
   "metadata": {
    "collapsed": false
   },
   "outputs": [
    {
     "name": "stdout",
     "output_type": "stream",
     "text": [
      "0.000707149505615\n",
      "0.0330369472504\n"
     ]
    }
   ],
   "source": [
    "from pympc.geometry.inner_approximation_polytope_projection import point_in_convex_hull\n",
    "points_list = [point.reshape(d,1) for point in points]\n",
    "tic = time()\n",
    "point_in_convex_hull(p, points_list)\n",
    "print time() - tic"
   ]
  },
  {
   "cell_type": "markdown",
   "metadata": {
    "deletable": true,
    "editable": true
   },
   "source": [
    "remove redundancy with cddlib"
   ]
  },
  {
   "cell_type": "markdown",
   "metadata": {
    "deletable": true,
    "editable": true
   },
   "source": [
    "p = Polytope(lhs, rhs)\n",
    "p.assemble()\n",
    "p.lhs_min.shape"
   ]
  },
  {
   "cell_type": "code",
   "execution_count": null,
   "metadata": {
    "collapsed": false,
    "deletable": true,
    "editable": true
   },
   "outputs": [],
   "source": [
    "import cdd\n",
    "poly_cdd = np.hstack((rhs, -lhs))\n",
    "mat = cdd.Matrix(poly_cdd, number_type='float')\n",
    "mat.rep_type = cdd.RepType.INEQUALITY\n",
    "mat.canonicalize()\n",
    "lhs = np.zeros((0,d))\n",
    "rhs = np.zeros((0,1))\n",
    "for i in range(mat.row_size):\n",
    "    row = mat.__getitem__(i)\n",
    "    lhs = np.vstack((lhs, - np.array(row[1:])))\n",
    "    rhs = np.vstack((rhs, row[0]))\n",
    "print lhs.shape"
   ]
  },
  {
   "cell_type": "markdown",
   "metadata": {
    "deletable": true,
    "editable": true
   },
   "source": [
    "cddlib"
   ]
  },
  {
   "cell_type": "code",
   "execution_count": null,
   "metadata": {
    "collapsed": true,
    "deletable": true,
    "editable": true
   },
   "outputs": [],
   "source": [
    "import cdd\n",
    "points_cdd = np.hstack((np.ones((n,1)), points))\n",
    "mat = cdd.Matrix(points_cdd, number_type='float')\n",
    "mat.rep_type = cdd.RepType.GENERATOR\n",
    "poly = cdd.Polyhedron(mat)\n",
    "inequalities_cdd = poly.get_inequalities()\n",
    "lhs = np.zeros((0,d))\n",
    "rhs = np.zeros((0,1))\n",
    "for i in range(inequalities_cdd.row_size):\n",
    "    row = inequalities_cdd.__getitem__(i)\n",
    "    lhs = np.vstack((lhs, - np.array(row[1:])))\n",
    "    rhs = np.vstack((rhs, row[0]))\n",
    "print lhs.shape"
   ]
  },
  {
   "cell_type": "markdown",
   "metadata": {
    "deletable": true,
    "editable": true
   },
   "source": [
    "qhull python wrapper"
   ]
  },
  {
   "cell_type": "code",
   "execution_count": null,
   "metadata": {
    "collapsed": true,
    "deletable": true,
    "editable": true
   },
   "outputs": [],
   "source": [
    "from pyhull.convex_hull import ConvexHull\n",
    "hull = ConvexHull(points)"
   ]
  }
 ],
 "metadata": {
  "kernelspec": {
   "display_name": "Python 2",
   "language": "python",
   "name": "python2"
  },
  "language_info": {
   "codemirror_mode": {
    "name": "ipython",
    "version": 2
   },
   "file_extension": ".py",
   "mimetype": "text/x-python",
   "name": "python",
   "nbconvert_exporter": "python",
   "pygments_lexer": "ipython2",
   "version": "2.7.13"
  }
 },
 "nbformat": 4,
 "nbformat_minor": 2
}
