{
 "cells": [
  {
   "cell_type": "code",
   "execution_count": 2,
   "metadata": {},
   "outputs": [],
   "source": [
    "import irispy\n",
    "import numpy as np\n",
    "\n",
    "# Polyhedron from [0, 0] to [1, 1]\n",
    "A = np.vstack((np.eye(2), -np.eye(2)))\n",
    "b = np.array([1.0, 1.0, 0.0, 0.0])\n",
    "polyhedron = irispy.Polyhedron(A, b)\n",
    "\n",
    "# Inner ellipsoid, computed by solving an SDP in Mosek\n",
    "ellipsoid = irispy.inner_ellipsoid(polyhedron)\n",
    "\n",
    "assert(np.allclose(ellipsoid.getD(), [0.5, 0.5]))\n",
    "assert(np.allclose(ellipsoid.getC(), np.array([[0.5, 0], [0, 0.5]])))"
   ]
  },
  {
   "cell_type": "code",
   "execution_count": 3,
   "metadata": {},
   "outputs": [
    {
     "name": "stdout",
     "output_type": "stream",
     "text": [
      "Populating the interactive namespace from numpy and matplotlib\n"
     ]
    },
    {
     "data": {
      "image/png": "[encoded data removed]",
      "text/plain": [
       "<matplotlib.figure.Figure at 0x7fad7d958650>"
      ]
     },
     "metadata": {},
     "output_type": "display_data"
    }
   ],
   "source": [
    "%pylab inline\n",
    "\n",
    "fig = figure()\n",
    "ax = fig.add_subplot(1, 1, 1)\n",
    "polyhedron.draw(ax)\n",
    "ellipsoid.draw(ax)\n",
    "\n",
    "# adjust the axis limits so the polytope and ellipsoid are visible\n",
    "ax.relim()\n",
    "ax.autoscale_view()"
   ]
  },
  {
   "cell_type": "code",
   "execution_count": 6,
   "metadata": {},
   "outputs": [
    {
     "data": {
      "text/plain": [
       "array([[  4.99999986e-01,   9.14494804e-20],\n",
       "       [  9.14494804e-20,   4.99999986e-01]])"
      ]
     },
     "execution_count": 6,
     "metadata": {},
     "output_type": "execute_result"
    }
   ],
   "source": [
    "ellipsoid.getC()"
   ]
  },
  {
   "cell_type": "code",
   "execution_count": null,
   "metadata": {},
   "outputs": [],
   "source": []
  }
 ],
 "metadata": {
  "kernelspec": {
   "display_name": "Python 2",
   "language": "python",
   "name": "python2"
  },
  "language_info": {
   "codemirror_mode": {
    "name": "ipython",
    "version": 2
   },
   "file_extension": ".py",
   "mimetype": "text/x-python",
   "name": "python",
   "nbconvert_exporter": "python",
   "pygments_lexer": "ipython2",
   "version": "2.7.12"
  }
 },
 "nbformat": 4,
 "nbformat_minor": 2
}
