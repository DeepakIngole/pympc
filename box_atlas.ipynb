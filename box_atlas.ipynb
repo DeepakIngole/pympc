{
 "cells": [
  {
   "cell_type": "markdown",
   "metadata": {
    "deletable": true,
    "editable": true
   },
   "source": [
    "# Box Atlas"
   ]
  },
  {
   "cell_type": "code",
   "execution_count": 1,
   "metadata": {
    "collapsed": false,
    "deletable": true,
    "editable": true
   },
   "outputs": [],
   "source": [
    "#%load_ext autoreload\n",
    "#%autoreload 2\n",
    "#%pylab notebook"
   ]
  },
  {
   "cell_type": "code",
   "execution_count": 2,
   "metadata": {
    "collapsed": false,
    "deletable": true,
    "editable": true
   },
   "outputs": [],
   "source": [
    "import numpy as np\n",
    "import matplotlib.pyplot as plt\n",
    "from itertools import combinations\n",
    "from copy import copy\n",
    "from pympc.geometry.polytope import Polytope\n",
    "from pympc.dynamical_systems import DTAffineSystem, DTPWASystem, dare\n",
    "import pympc.plot as mpc_plt\n",
    "from pympc.control import MPCHybridController"
   ]
  },
  {
   "cell_type": "markdown",
   "metadata": {
    "deletable": true,
    "editable": true
   },
   "source": [
    "Acronyms:\n",
    "q -> position, v -> velocity, f -> contact force\n",
    "b -> body, lf -> left foot, rf -> right foot, h -> hand\n",
    "x -> horizontal axis, y -> vertical axis\n",
    "\n",
    "State vector \\in R^10:\n",
    "[q_b_x, q_b_y, q_lf_x, q_lf_y, q_rf_x, q_rf_y, q_h_x, q_h_y, v_b_x, v_b_y]\n",
    "\n",
    "Input vector \\in R^9:\n",
    "[v_lf_x, v_lf_y, v_rf_x, v_rf_y, v_h_x, v_h_y, f_lf_x, f_rf_x, f_h_y]"
   ]
  },
  {
   "cell_type": "code",
   "execution_count": 3,
   "metadata": {
    "collapsed": true,
    "deletable": true,
    "editable": true
   },
   "outputs": [],
   "source": [
    "# numeric constants\n",
    "\n",
    "# scalar\n",
    "mass = 1.\n",
    "stiffness = 100.\n",
    "gravity = 10.\n",
    "friction_coefficient = .5\n",
    "t_s = .1\n",
    "\n",
    "# position bounds\n",
    "\n",
    "# body\n",
    "q_b_min = np.array([[0.],[0.]])\n",
    "q_b_max = np.array([[1.],[1.]])\n",
    "v_b_max = np.ones((2,1))\n",
    "v_b_min = - v_b_max\n",
    "\n",
    "# left foot (limits in the body frame)\n",
    "q_lf_min = np.array([[0.],[-.7]])\n",
    "q_lf_max = np.array([[.4],[-.3]])\n",
    "\n",
    "# right foot (limits in the body frame)\n",
    "q_rf_min = np.array([[-.4],[-.7]])\n",
    "q_rf_max = np.array([[0.],[-.3]])\n",
    "\n",
    "# hand (limits in the body frame)\n",
    "q_h_min = np.array([[-.6],[-.1]])\n",
    "q_h_max = np.array([[-.2],[.3]])\n",
    "\n",
    "# velocity bounds\n",
    "\n",
    "# body\n",
    "v_b_max = np.ones((2,1))\n",
    "v_b_min = - v_b_max\n",
    "\n",
    "# left foot\n",
    "v_lf_max = np.ones((2,1))\n",
    "v_lf_min = - v_lf_max\n",
    "\n",
    "# right foot\n",
    "v_rf_max = np.ones((2,1))\n",
    "v_rf_min = - v_rf_max\n",
    "\n",
    "# hand\n",
    "v_h_max = np.ones((2,1))\n",
    "v_h_min = - v_rf_max\n",
    "\n",
    "# force bounds\n",
    "\n",
    "# left foot\n",
    "f_lf_x_max = - friction_coefficient * stiffness * (q_b_min[1,0]+q_lf_min[1,0])\n",
    "f_lf_x_min = - f_lf_x_max\n",
    "\n",
    "# right foot\n",
    "f_rf_x_max = - friction_coefficient * stiffness * (q_b_min[1,0]+q_rf_min[1,0])\n",
    "f_rf_x_min = - f_rf_x_max\n",
    "\n",
    "# hand\n",
    "f_h_y_max = - friction_coefficient * stiffness * (q_b_min[0,0]+q_h_min[0,0])\n",
    "f_h_y_min = - f_h_y_max\n",
    "\n",
    "# equilibrium point\n",
    "x_eq = np. array([\n",
    "    [.5], # q_b_x\n",
    "    [.5], # q_b_y\n",
    "    [.7], # q_lf_x\n",
    "    [-mass*gravity/2./stiffness], # q_lf_y\n",
    "    [.3], # q_rf_x\n",
    "    [-mass*gravity/2./stiffness], # q_rf_y\n",
    "    [.2], # q_h_x\n",
    "    [.6], # q_h_y\n",
    "    [0.], # v_b_x\n",
    "    [0.], # b_b_y\n",
    "    ])\n",
    "u_eq = np.zeros((9,1))"
   ]
  },
  {
   "cell_type": "markdown",
   "metadata": {
    "deletable": true,
    "editable": true
   },
   "source": [
    "dynamics"
   ]
  },
  {
   "cell_type": "code",
   "execution_count": 4,
   "metadata": {
    "collapsed": false,
    "deletable": true,
    "editable": true
   },
   "outputs": [],
   "source": [
    "def get_A(contact_set):\n",
    "    contact_map_normal_force = {'lf':(9,3), 'rf':(9,5), 'h':(8,6)}\n",
    "    A = np.vstack((\n",
    "        np.hstack((np.zeros((2, 8)), np.eye(2))),\n",
    "        np.zeros((8, 10))\n",
    "        ))\n",
    "    for contact in contact_set:\n",
    "        A[contact_map_normal_force[contact]] = -stiffness/mass\n",
    "    return A\n",
    "\n",
    "def get_B(contact_set):\n",
    "    contact_map_tangential_force = {'lf':(8,6), 'rf':(8,7), 'h':(9,8)}\n",
    "    contact_map_tangential_velocity = {'lf':(2,0), 'rf':(4,2), 'h':(7,5)}\n",
    "    B = np.vstack((\n",
    "        np.zeros((2, 9)),\n",
    "        np.hstack((np.eye(6), np.zeros((6, 3)))),\n",
    "        np.zeros((2, 9))\n",
    "        ))\n",
    "    for contact in contact_set:\n",
    "        B[contact_map_tangential_force[contact]] = 1./mass\n",
    "    for contact in contact_set:\n",
    "        B[contact_map_tangential_velocity[contact]] = 0.\n",
    "    return B\n",
    "\n",
    "c = np.vstack((np.zeros((9, 1)), np.array((-gravity))))\n"
   ]
  },
  {
   "cell_type": "markdown",
   "metadata": {
    "deletable": true,
    "editable": true
   },
   "source": [
    "Kinematic limits"
   ]
  },
  {
   "cell_type": "code",
   "execution_count": 5,
   "metadata": {
    "collapsed": false,
    "deletable": true,
    "editable": true
   },
   "outputs": [],
   "source": [
    "selection_matrix = np.vstack((np.eye(2), -np.eye(2)))\n",
    "\n",
    "# left foot\n",
    "lhs = np.hstack((-selection_matrix, selection_matrix, np.zeros((4,6))))\n",
    "rhs = np.vstack((q_lf_max, -q_lf_min))\n",
    "kinematic_limits = Polytope(lhs, rhs)\n",
    "\n",
    "# right foot\n",
    "lhs = np.hstack((-selection_matrix, np.zeros((4,2)), selection_matrix, np.zeros((4,4))))\n",
    "rhs = np.vstack((q_rf_max, -q_rf_min))\n",
    "kinematic_limits.add_facets(lhs, rhs)\n",
    "\n",
    "# hand\n",
    "lhs = np.hstack((-selection_matrix, np.zeros((4,4)), selection_matrix, np.zeros((4,2))))\n",
    "rhs = np.vstack((q_h_max, -q_h_min))\n",
    "kinematic_limits.add_facets(lhs, rhs)\n",
    "\n",
    "# body\n",
    "kinematic_limits.add_bounds(q_b_min, q_b_max, [0,1])\n",
    "kinematic_limits.add_bounds(v_b_min, v_b_max, [8,9])"
   ]
  },
  {
   "cell_type": "markdown",
   "metadata": {},
   "source": [
    "Input limits"
   ]
  },
  {
   "cell_type": "code",
   "execution_count": 6,
   "metadata": {
    "collapsed": false
   },
   "outputs": [],
   "source": [
    "input_max = np.vstack((v_lf_max, v_rf_max, v_h_max, f_lf_x_max, f_rf_x_max, f_h_y_max))\n",
    "input_min = np.vstack((v_lf_min, v_rf_min, v_h_min, f_lf_x_min, f_rf_x_min, f_h_y_min))\n",
    "input_limits = Polytope.from_bounds(input_min, input_max)"
   ]
  },
  {
   "cell_type": "markdown",
   "metadata": {},
   "source": [
    "Mode indepenedent contraints"
   ]
  },
  {
   "cell_type": "code",
   "execution_count": 7,
   "metadata": {
    "collapsed": true
   },
   "outputs": [],
   "source": [
    "lhs = np.vstack((\n",
    "    np.hstack((\n",
    "        kinematic_limits.A,\n",
    "        np.zeros((\n",
    "            kinematic_limits.A.shape[0],\n",
    "            input_limits.A.shape[1]\n",
    "            ))\n",
    "        )),\n",
    "    np.hstack((\n",
    "        np.zeros((\n",
    "            input_limits.A.shape[0],\n",
    "            kinematic_limits.A.shape[1]\n",
    "            )),\n",
    "        input_limits.A\n",
    "        ))\n",
    "    ))\n",
    "\n",
    "rhs = np.vstack((kinematic_limits.b, input_limits.b))\n",
    "\n",
    "mode_independent_constraints = Polytope(lhs, rhs)"
   ]
  },
  {
   "cell_type": "markdown",
   "metadata": {},
   "source": [
    "Mode dependent constraints"
   ]
  },
  {
   "cell_type": "code",
   "execution_count": 8,
   "metadata": {
    "collapsed": false
   },
   "outputs": [],
   "source": [
    "def contact_constraints(domain, contact, active):\n",
    "    contact_indices = {\n",
    "    'lf': {'q': 3, 'f': 16},\n",
    "    'rf': {'q': 5, 'f': 17},\n",
    "    'h': {'q': 6, 'f': 18}\n",
    "    }\n",
    "    if active:\n",
    "        domain.add_upper_bounds(np.array([[0.]]), [contact_indices[contact]['q']])\n",
    "        lhs = np.zeros((2,19))\n",
    "        lhs[0, contact_indices[contact]['f']] = 1.\n",
    "        lhs[0, contact_indices[contact]['q']] = friction_coefficient * stiffness\n",
    "        lhs[1, contact_indices[contact]['f']] = -1.\n",
    "        lhs[1, contact_indices[contact]['q']] = friction_coefficient * stiffness\n",
    "        rhs = np.zeros((2,1))\n",
    "        domain.add_facets(lhs, rhs)\n",
    "    else:\n",
    "        domain.add_lower_bounds(np.array([[0.]]), [contact_indices[contact]['q']])\n",
    "    return domain\n",
    "\n",
    "contacts = ['lf', 'rf', 'h']\n",
    "modes =  [mode for n_contacts in range(len(contacts)+1) for mode in combinations(contacts, n_contacts)]\n",
    "\n",
    "domains = []\n",
    "for mode in modes:\n",
    "    domain = copy(mode_independent_constraints)\n",
    "    for contact in contacts:\n",
    "        domain = contact_constraints(domain, contact, contact in mode)\n",
    "    domains.append(domain)"
   ]
  },
  {
   "cell_type": "markdown",
   "metadata": {},
   "source": [
    "Translation to the equilibrium point"
   ]
  },
  {
   "cell_type": "code",
   "execution_count": 9,
   "metadata": {
    "collapsed": false
   },
   "outputs": [],
   "source": [
    "translated_affine_systems = [DTAffineSystem.from_continuous(get_A(mode), get_B(mode), c + get_A(mode).dot(x_eq), t_s, 'explicit_euler') for mode in modes]\n",
    "translated_domains = []\n",
    "for domain in domains:\n",
    "    translated_domain = Polytope(domain.A, domain.b - domain.A.dot(np.vstack((x_eq, u_eq))))\n",
    "    translated_domain.assemble()\n",
    "    translated_domains.append(translated_domain)"
   ]
  },
  {
   "cell_type": "markdown",
   "metadata": {},
   "source": [
    "PWA system"
   ]
  },
  {
   "cell_type": "code",
   "execution_count": 10,
   "metadata": {
    "collapsed": false
   },
   "outputs": [],
   "source": [
    "pwa_sys = DTPWASystem(translated_affine_systems, translated_domains)"
   ]
  },
  {
   "cell_type": "code",
   "execution_count": 11,
   "metadata": {
    "collapsed": false,
    "deletable": true,
    "editable": true
   },
   "outputs": [],
   "source": [
    "# controller parameters\n",
    "N = 10\n",
    "Q = np.eye(10)\n",
    "R = np.eye(9)\n",
    "objective_norm = 'two'\n",
    "\n",
    "# terminal set and cost\n",
    "terminal_mode = 4\n",
    "#P, K = dare(translated_affine_systems[terminal_mode].A, translated_affine_systems[terminal_mode].B, Q, R)\n",
    "#X_N = ds.moas_closed_loop(translated_affine_systems[terminal_mode].A, translated_affine_systems[terminal_mode].B, K, X[1], U[1])\n",
    "P = Q\n",
    "\n",
    "\n",
    "X_N = Polytope.from_bounds(-np.ones((10,1))*.05, np.ones((10,1))*.05)\n",
    "X_N.assemble()\n",
    "\n",
    "# hybrid controller\n",
    "controller = MPCHybridController(pwa_sys, N, objective_norm, Q, R, P, X_N)"
   ]
  },
  {
   "cell_type": "markdown",
   "metadata": {
    "deletable": true,
    "editable": true
   },
   "source": [
    "We can now simulate the closed-loop dynamics starting from the initial state $x_0$."
   ]
  },
  {
   "cell_type": "code",
   "execution_count": 12,
   "metadata": {
    "collapsed": false,
    "deletable": true,
    "editable": true
   },
   "outputs": [
    {
     "name": "stdout",
     "output_type": "stream",
     "text": [
      "0 1 2 3 4 5 6 7 8 9 10 11 12 13 14 15 16 17 18 19 20 21 22 23 24 25 26 27 28 29 30 31 32 33 34 35 36 37 38 39 40 41 42 43 44 45 46 47 48 49 50 51 52 53 54 55 56 57 58 59 60 61 62 63 64 65 66 67 68 69 70 71 72 73 74 75 76 77 78 79 80 81 82 83 84 85 86 87 88 89 90 91 92 93 94 95 96 97 98 99\n"
     ]
    }
   ],
   "source": [
    "N_sim = 100\n",
    "x_0 = np.zeros((10,1))\n",
    "x_0[0,0] = .1\n",
    "u = []\n",
    "x = [x_0]\n",
    "#u_ws = None\n",
    "#x_ws = None\n",
    "#ss_ws = None\n",
    "terminal_mode = 1\n",
    "for k in range(N_sim):\n",
    "    print k,\n",
    "    #u_k, x_k, ss_k = controller.feedforward(x[k], u_ws, x_ws, ss_ws)[0:3]\n",
    "    u_k, x_k, ss_k = controller.feedforward(x[k])[0:3]\n",
    "    x_next = pwa_sys.simulate(x[k], [u_k[0]])[0][1]\n",
    "    u.append(u_k[0])\n",
    "    x.append(x_next)\n",
    "    #u_ws = u_k[1:] + [K.dot(x_k[-1])]\n",
    "    #x_ws = x_k[1:] + [pwa_sys.simulate(x_k[-1], [u_ws[-1]])[0][1]]\n",
    "    #ss_ws = ss_k[1:] + (terminal_mode,)"
   ]
  },
  {
   "cell_type": "markdown",
   "metadata": {
    "deletable": true,
    "editable": true
   },
   "source": [
    "We can use the plot functions to visualize the time evolution of the system."
   ]
  },
  {
   "cell_type": "code",
   "execution_count": 13,
   "metadata": {
    "collapsed": false,
    "deletable": true,
    "editable": true
   },
   "outputs": [
    {
     "data": {
      "image/png": "[encoded data removed]",
      "text/plain": [
       "<matplotlib.figure.Figure at 0x1052529d0>"
      ]
     },
     "metadata": {},
     "output_type": "display_data"
    },
    {
     "data": {
      "image/png": "[encoded data removed]",
      "text/plain": [
       "<matplotlib.figure.Figure at 0x1052703d0>"
      ]
     },
     "metadata": {},
     "output_type": "display_data"
    }
   ],
   "source": [
    "mpc_plt.input_sequence(u, t_s)\n",
    "plt.show()\n",
    "mpc_plt.state_trajectory(x, t_s)\n",
    "plt.show()"
   ]
  },
  {
   "cell_type": "code",
   "execution_count": 14,
   "metadata": {
    "collapsed": false
   },
   "outputs": [
    {
     "data": {
      "text/plain": [
       "9"
      ]
     },
     "execution_count": 14,
     "metadata": {},
     "output_type": "execute_result"
    }
   ],
   "source": [
    "import control\n",
    "np.linalg.matrix_rank(control.ctrb(get_A(modes[terminal_mode]), get_B(modes[terminal_mode])))"
   ]
  }
 ],
 "metadata": {
  "kernelspec": {
   "display_name": "Python 2",
   "language": "python",
   "name": "python2"
  },
  "language_info": {
   "codemirror_mode": {
    "name": "ipython",
    "version": 2
   },
   "file_extension": ".py",
   "mimetype": "text/x-python",
   "name": "python",
   "nbconvert_exporter": "python",
   "pygments_lexer": "ipython2",
   "version": "2.7.13"
  }
 },
 "nbformat": 4,
 "nbformat_minor": 2
}
