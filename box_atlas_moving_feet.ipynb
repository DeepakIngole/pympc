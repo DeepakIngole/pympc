{
 "cells": [
  {
   "cell_type": "code",
   "execution_count": 1,
   "metadata": {
    "collapsed": false,
    "deletable": true,
    "editable": true
   },
   "outputs": [],
   "source": [
    "%load_ext autoreload\n",
    "%autoreload 2"
   ]
  },
  {
   "cell_type": "code",
   "execution_count": 2,
   "metadata": {
    "collapsed": false,
    "deletable": true,
    "editable": true
   },
   "outputs": [],
   "source": [
    "import time\n",
    "import numpy as np\n",
    "import matplotlib.pyplot as plt\n",
    "from pympc.models.boxatlas_parametric import BoxAtlas, MovingLimb, FixedLimb, Trajectory\n",
    "from pympc.dynamical_systems import dare, moas_closed_loop\n",
    "from pympc.control import MPCHybridController\n",
    "from pympc.feasible_set_library import FeasibleSetLibrary, load_library\n",
    "from pympc.geometry.polytope import Polytope\n",
    "import pympc.plot as mpc_plt"
   ]
  },
  {
   "cell_type": "markdown",
   "metadata": {
    "deletable": true,
    "editable": true
   },
   "source": [
    "# Construction of Box-Atlas"
   ]
  },
  {
   "cell_type": "markdown",
   "metadata": {
    "deletable": true,
    "editable": true
   },
   "source": [
    "Robot moving limbs"
   ]
  },
  {
   "cell_type": "code",
   "execution_count": 3,
   "metadata": {
    "collapsed": false,
    "deletable": true,
    "editable": true
   },
   "outputs": [],
   "source": [
    "from pympc.models.boxatlas_parameters import penetration\n",
    "\n",
    "# right hand\n",
    "A_rh = {\n",
    "    'not_in_contact': np.array([[-1., 0.],[0., -1.]]),\n",
    "    'in_contact': np.array([[1., 0.],[-1., 0.],[0., -1.]]),\n",
    "}\n",
    "b_rh = {\n",
    "    'not_in_contact': np.array([[.4],[.5]]),\n",
    "    'in_contact': np.array([[-.4],[.4+penetration],[.5]]),\n",
    "}\n",
    "contact_surfaces_rh = {\n",
    "    'not_in_contact': None,\n",
    "    'in_contact': 0,\n",
    "}\n",
    "q_rh = np.array([[-.3], [.0]])\n",
    "rh = MovingLimb(A_rh, b_rh, contact_surfaces_rh, q_rh)\n",
    "\n",
    "# left foot\n",
    "A_lf = {\n",
    "    'not_in_contact': np.array([[0., -1.]]),\n",
    "    'in_contact': np.array([[0., 1.],[0., -1.]]),\n",
    "}\n",
    "b_lf = {\n",
    "    'not_in_contact': np.array([[.5]]),\n",
    "    'in_contact': np.array([[-.5],[.5+2.*penetration]]),\n",
    "}\n",
    "contact_surfaces_lf = {\n",
    "    'not_in_contact': None,\n",
    "    'in_contact': 0,\n",
    "}\n",
    "q_lf = np.array([[.2], [-.5 - penetration / 2.]])\n",
    "lf = MovingLimb(A_lf, b_lf, contact_surfaces_lf, q_lf)\n",
    "\n",
    "# right foot\n",
    "A_rf = {\n",
    "    'not_in_contact': np.array([[-1., 0.],[0., -1.]]),\n",
    "    'in_contact': np.array([[0., 1.],[-1., 0.],[0., -1.]]),\n",
    "}\n",
    "b_rf = {\n",
    "    'not_in_contact': np.array([[.5],[.5]]),\n",
    "    'in_contact': np.array([[-.5],[.5],[.5+2.*penetration]]),\n",
    "}\n",
    "contact_surfaces_rf = {\n",
    "    'not_in_contact': None,\n",
    "    'in_contact': 0,\n",
    "}\n",
    "q_rf = np.array([[-.2], [-.5 - penetration / 2.]])\n",
    "rf = MovingLimb(A_rf, b_rf, contact_surfaces_rf, q_rf)"
   ]
  },
  {
   "cell_type": "markdown",
   "metadata": {
    "deletable": true,
    "editable": true
   },
   "source": [
    "Assemble robot"
   ]
  },
  {
   "cell_type": "code",
   "execution_count": 4,
   "metadata": {
    "collapsed": false,
    "deletable": true,
    "editable": true
   },
   "outputs": [],
   "source": [
    "limbs = { 'moving': {'rh': rh, 'lf': lf, 'rf': rf}, 'fixed': {} }\n",
    "nominal_mode = {'lf': 'in_contact', 'rf': 'in_contact', 'rh': 'not_in_contact'}\n",
    "box_atlas = BoxAtlas(limbs, nominal_mode)"
   ]
  },
  {
   "cell_type": "markdown",
   "metadata": {
    "deletable": true,
    "editable": true
   },
   "source": [
    "Print state, input, and modes (a mode indicates in which domain each moving limb is, domains are numbered as they are listed in the limb list)"
   ]
  },
  {
   "cell_type": "code",
   "execution_count": 5,
   "metadata": {
    "collapsed": false,
    "deletable": true,
    "editable": true
   },
   "outputs": [
    {
     "name": "stdout",
     "output_type": "stream",
     "text": [
      "Box-Atlas states:\n",
      "['qlfx', 'qlfy', 'qrfx', 'qrfy', 'qrhx', 'qrhy', 'qbx', 'qby', 'vbx', 'vby']\n",
      "Box-Atlas inputs:\n",
      "['vlfx', 'vlfy', 'vrfx', 'vrfy', 'vrhx', 'vrhy']\n",
      "Box-atlas modes:\n",
      "[{'lf': 'not_in_contact', 'rf': 'not_in_contact', 'rh': 'not_in_contact'}, {'lf': 'not_in_contact', 'rf': 'not_in_contact', 'rh': 'in_contact'}, {'lf': 'not_in_contact', 'rf': 'in_contact', 'rh': 'not_in_contact'}, {'lf': 'not_in_contact', 'rf': 'in_contact', 'rh': 'in_contact'}, {'lf': 'in_contact', 'rf': 'not_in_contact', 'rh': 'not_in_contact'}, {'lf': 'in_contact', 'rf': 'not_in_contact', 'rh': 'in_contact'}, {'lf': 'in_contact', 'rf': 'in_contact', 'rh': 'not_in_contact'}, {'lf': 'in_contact', 'rf': 'in_contact', 'rh': 'in_contact'}]\n"
     ]
    }
   ],
   "source": [
    "box_atlas.state_labels()\n",
    "box_atlas.input_labels()\n",
    "print 'Box-atlas modes:\\n', box_atlas.contact_modes"
   ]
  },
  {
   "cell_type": "markdown",
   "metadata": {
    "deletable": true,
    "editable": true
   },
   "source": [
    "# Hybrid MPC Controller"
   ]
  },
  {
   "cell_type": "markdown",
   "metadata": {
    "deletable": true,
    "editable": true
   },
   "source": [
    "Terminal set"
   ]
  },
  {
   "cell_type": "code",
   "execution_count": 6,
   "metadata": {
    "collapsed": false,
    "deletable": true,
    "editable": true
   },
   "outputs": [],
   "source": [
    "N = 15\n",
    "Q_rel = np.eye(box_atlas.n_x)\n",
    "Q = box_atlas.penalize_relative_positions(Q_rel)\n",
    "R = np.eye(box_atlas.n_u)\n",
    "objective_norm = 'two'"
   ]
  },
  {
   "cell_type": "code",
   "execution_count": 7,
   "metadata": {
    "collapsed": false,
    "deletable": true,
    "editable": true
   },
   "outputs": [
    {
     "name": "stdout",
     "output_type": "stream",
     "text": [
      "Computation of MOAS started... MOAS found.\n",
      "MOAS facets are 216, removing redundant ones... redundant factes removed, MOAS facets are 79.\n"
     ]
    }
   ],
   "source": [
    "from pympc.geometry.polytope import LowerDimensionalPolytope\n",
    "from pympc.control import canonical_reachability_decomposition\n",
    "\n",
    "crd = canonical_reachability_decomposition(\n",
    "    box_atlas.nominal_system.A,\n",
    "    box_atlas.nominal_system.B\n",
    "    )\n",
    "n_R, T, T_R, T_N, A_RR, B_R = [crd['n_R'], crd['T'], crd['T_R'], crd['T_N'], crd['A_RR'], crd['B_R']]\n",
    "Q_R = T_R.T.dot(Q).dot(T_R)\n",
    "P_R, K_R = dare(A_RR, B_R, Q_R, R)\n",
    "#print np.linalg.eig(A_RR + B_R.dot(K_R))[0]\n",
    "D_lhs_x = box_atlas.nominal_domain.lhs_min[:,:box_atlas.n_x]\n",
    "D_lhs_u = box_atlas.nominal_domain.lhs_min[:,box_atlas.n_x:]\n",
    "D_lhs_R = np.hstack((D_lhs_x.dot(T_R), D_lhs_u))\n",
    "D_R = Polytope(\n",
    "    D_lhs_R,\n",
    "    box_atlas.nominal_domain.rhs_min\n",
    "    )\n",
    "D_R.assemble()\n",
    "X_N_R = moas_closed_loop(A_RR, B_R, K_R, D_R)\n",
    "T_inv = np.linalg.inv(T)\n",
    "T_inv_R = T_inv[:n_R,:]\n",
    "T_inv_N = T_inv[n_R:,:]\n",
    "X_N = LowerDimensionalPolytope(\n",
    "    X_N_R.lhs_min.dot(T_inv_R),\n",
    "    X_N_R.rhs_min,\n",
    "    T_inv_N,\n",
    "    np.zeros((T_inv_N.shape[0], 1))\n",
    "    )\n",
    "P = T_inv_R.T.dot(P_R).dot(T_inv_R)\n",
    "K = K_R.dot(T_inv_R)"
   ]
  },
  {
   "cell_type": "markdown",
   "metadata": {
    "collapsed": true,
    "deletable": true,
    "editable": true
   },
   "source": [
    "P, K = dare(\n",
    "    box_atlas.pwa_system.affine_systems[terminal_mode].A,\n",
    "    box_atlas.pwa_system.affine_systems[terminal_mode].B,\n",
    "    Q,\n",
    "    R)\n",
    "X_N = moas_closed_loop(\n",
    "    box_atlas.pwa_system.affine_systems[terminal_mode].A,\n",
    "    box_atlas.pwa_system.affine_systems[terminal_mode].B,\n",
    "    K,\n",
    "    box_atlas.pwa_system.domains[terminal_mode])"
   ]
  },
  {
   "cell_type": "markdown",
   "metadata": {
    "deletable": true,
    "editable": true
   },
   "source": [
    "Hybrid MPC controller"
   ]
  },
  {
   "cell_type": "code",
   "execution_count": 8,
   "metadata": {
    "collapsed": false,
    "deletable": true,
    "editable": true
   },
   "outputs": [
    {
     "name": "stdout",
     "output_type": "stream",
     "text": [
      "Parameter OutputFlag unchanged\n",
      "   Value: 1  Min: 0  Max: 1  Default: 1\n",
      "Changed value of parameter MIPGap to 0.1\n",
      "   Prev: 0.0001  Min: 0.0  Max: 1e+100  Default: 0.0001\n"
     ]
    }
   ],
   "source": [
    "controller = MPCHybridController(box_atlas.pwa_system, N, objective_norm, Q, R, P, X_N)"
   ]
  },
  {
   "cell_type": "markdown",
   "metadata": {
    "deletable": true,
    "editable": true
   },
   "source": [
    "Trick to avoid forbidden transitions"
   ]
  },
  {
   "cell_type": "code",
   "execution_count": 9,
   "metadata": {
    "collapsed": false,
    "deletable": true,
    "editable": true
   },
   "outputs": [],
   "source": [
    "controller = box_atlas.avoid_forbidden_transitions(controller)"
   ]
  },
  {
   "cell_type": "markdown",
   "metadata": {
    "deletable": true,
    "editable": true
   },
   "source": [
    "## Visualizer"
   ]
  },
  {
   "cell_type": "code",
   "execution_count": 10,
   "metadata": {
    "collapsed": false,
    "deletable": true,
    "editable": true
   },
   "outputs": [
    {
     "name": "stdout",
     "output_type": "stream",
     "text": [
      "Optimize a model with 8821 rows, 1570 columns and 42542 nonzeros\n",
      "Model has 360 quadratic objective terms\n",
      "Model has 15 SOS constraints\n",
      "Variable types: 1450 continuous, 120 integer (120 binary)\n",
      "Coefficient statistics:\n",
      "  Matrix range     [5e-05, 2e+01]\n",
      "  Objective range  [0e+00, 0e+00]\n",
      "  QObjective range [7e-03, 2e+03]\n",
      "  Bounds range     [1e+00, 1e+00]\n",
      "  RHS range        [2e-02, 2e+00]\n",
      "Presolve removed 3781 rows and 151 columns\n",
      "Presolve time: 0.14s\n",
      "Presolved: 5055 rows, 1419 columns, 30190 nonzeros\n",
      "Presolved model has 331 quadratic objective terms\n",
      "Variable types: 1311 continuous, 108 integer (108 binary)\n",
      "Found heuristic solution: objective 9.3874448\n",
      "\n",
      "Root relaxation: objective 1.573653e+00, 8924 iterations, 0.67 seconds\n",
      "\n",
      "    Nodes    |    Current Node    |     Objective Bounds      |     Work\n",
      " Expl Unexpl |  Obj  Depth IntInf | Incumbent    BestBd   Gap | It/Node Time\n",
      "\n",
      "     0     0    1.57365    0   39    9.38744    1.57365  83.2%     -    0s\n",
      "H    0     0                       3.7733368    1.57365  58.3%     -    1s\n",
      "     0     0    1.59988    0   38    3.77334    1.59988  57.6%     -    1s\n",
      "H    0     0                       3.3127219    1.59988  51.7%     -    1s\n",
      "     0     0    1.59988    0   38    3.31272    1.59988  51.7%     -    1s\n",
      "     0     0    1.59988    0   38    3.31272    1.59988  51.7%     -    1s\n",
      "     0     0    1.59988    0   38    3.31272    1.59988  51.7%     -    1s\n",
      "     0     0    1.59988    0   39    3.31272    1.59988  51.7%     -    1s\n",
      "     0     0    1.59988    0   38    3.31272    1.59988  51.7%     -    1s\n",
      "     0     0    1.59988    0   37    3.31272    1.59988  51.7%     -    1s\n",
      "     0     0    1.59988    0   39    3.31272    1.59988  51.7%     -    1s\n",
      "     0     0    1.59988    0   38    3.31272    1.59988  51.7%     -    1s\n",
      "     0     2    1.59988    0   38    3.31272    1.59988  51.7%     -    1s\n",
      "*  191   159              80       3.3001388    1.83562  44.4%  49.8    2s\n",
      "*  694   534              72       3.1786611    1.83562  42.3%  58.9    4s\n",
      "   727   564    3.14887   56   38    3.17866    1.83562  42.3%  57.9    5s\n",
      "  1398   783    2.19235   38   21    3.17866    1.97212  38.0%  77.4   10s\n",
      "  2803  1223     cutoff   48         3.17866    1.97953  37.7%  71.3   15s\n",
      "H 3085   922                       2.9226062    1.98211  32.2%  71.3   16s\n",
      "  4118  1100    2.29491   41   19    2.92261    1.99081  31.9%  70.7   20s\n",
      "H 5018   931                       2.7382440    2.03876  25.5%  70.5   24s\n",
      "  5161   965    2.06364   44   22    2.73824    2.03876  25.5%  70.5   25s\n",
      "* 5211   960              75       2.7233145    2.03876  25.1%  70.4   25s\n",
      "H 6050  1325                       2.7219174    2.05005  24.7%  69.7   28s\n",
      "  6442  1378     cutoff   46         2.72192    2.05749  24.4%  69.8   30s\n",
      "H 7254  1455                       2.7169173    2.07200  23.7%  69.5   33s\n",
      "  7845  1554     cutoff   49         2.71692    2.08786  23.2%  68.7   35s\n",
      "H 8067  1631                       2.7156785    2.09102  23.0%  68.6   35s\n",
      "  9286  1974    2.49555   64    5    2.71568    2.12226  21.9%  67.9   40s\n",
      " 10653  2447    2.27449   58   16    2.71568    2.15433  20.7%  67.7   45s\n",
      " 11987  2848    2.21404   45   19    2.71568    2.16422  20.3%  67.7   50s\n",
      "*12390  2866              71       2.6794929    2.16693  19.1%  67.7   51s\n",
      "*12530  2887              72       2.6781022    2.16777  19.1%  67.8   52s\n",
      " 13256  3154    2.64594   75    3    2.67810    2.16777  19.1%  67.6   55s\n",
      "\n",
      "Cutting planes:\n",
      "  Implied bound: 9\n",
      "  MIR: 4\n",
      "\n",
      "Explored 14592 nodes (991671 simplex iterations) in 59.37 seconds\n",
      "Thread count was 4 (of 4 available processors)\n",
      "\n",
      "Solution count 10: 2.6781 2.67949 2.71568 ... 3.30014\n",
      "Pool objective bound 2.6781\n",
      "\n",
      "Optimal solution found (tolerance 1.00e-01)\n",
      "Best objective 2.678102185583e+00, best bound 2.678102185583e+00, gap 0.0000%\n"
     ]
    }
   ],
   "source": [
    "# ['qlfx', 'qlfy', 'qrfx', 'qrfy', 'qrhx', 'qrhy', 'qbx', 'qby', 'vbx', 'vby']\n",
    "x_0 = np.zeros((box_atlas.n_x, 1))\n",
    "x_0[8,0] = -1.\n",
    "u, x, ss = controller.feedforward(x_0)[0:3]"
   ]
  },
  {
   "cell_type": "code",
   "execution_count": 13,
   "metadata": {
    "collapsed": false,
    "deletable": true,
    "editable": true
   },
   "outputs": [],
   "source": [
    "from pympc.models.boxatlas_parameters import sampling_time\n",
    "\n",
    "box_atlas.visualize(x[0])\n",
    "time.sleep(10 * sampling_time)\n",
    "for k in range(N):\n",
    "    box_atlas.visualize(x[k])\n",
    "    time.sleep(sampling_time)"
   ]
  }
 ],
 "metadata": {
  "kernelspec": {
   "display_name": "Python 2",
   "language": "python",
   "name": "python2"
  },
  "language_info": {
   "codemirror_mode": {
    "name": "ipython",
    "version": 2
   },
   "file_extension": ".py",
   "mimetype": "text/x-python",
   "name": "python",
   "nbconvert_exporter": "python",
   "pygments_lexer": "ipython2",
   "version": "2.7.13"
  }
 },
 "nbformat": 4,
 "nbformat_minor": 2
}
