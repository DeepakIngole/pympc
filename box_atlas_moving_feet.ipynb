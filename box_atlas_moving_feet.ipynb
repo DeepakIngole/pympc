{
 "cells": [
  {
   "cell_type": "code",
   "execution_count": 1,
   "metadata": {
    "collapsed": true,
    "deletable": true,
    "editable": true
   },
   "outputs": [],
   "source": [
    "%load_ext autoreload\n",
    "%autoreload 2"
   ]
  },
  {
   "cell_type": "code",
   "execution_count": 2,
   "metadata": {
    "collapsed": false,
    "deletable": true,
    "editable": true
   },
   "outputs": [],
   "source": [
    "import time\n",
    "import numpy as np\n",
    "import matplotlib.pyplot as plt\n",
    "from pympc.models.boxatlas_parametric import BoxAtlas, MovingLimb, FixedLimb, Trajectory\n",
    "from pympc.control import MPCHybridController\n",
    "from pympc.feasible_set_library import FeasibleSetLibrary, load_library\n",
    "from pympc.geometry.polytope import Polytope\n",
    "import pympc.plot as mpc_plt"
   ]
  },
  {
   "cell_type": "markdown",
   "metadata": {
    "deletable": true,
    "editable": true
   },
   "source": [
    "# Construction of Box-Atlas"
   ]
  },
  {
   "cell_type": "markdown",
   "metadata": {
    "deletable": true,
    "editable": true
   },
   "source": [
    "Robot moving limbs"
   ]
  },
  {
   "cell_type": "code",
   "execution_count": 3,
   "metadata": {
    "collapsed": false,
    "deletable": true,
    "editable": true
   },
   "outputs": [],
   "source": [
    "from pympc.models.boxatlas_parameters import weight, stiffness\n",
    "penetration = weight / stiffness\n",
    "\n",
    "# right hand\n",
    "A_rh = {\n",
    "    'not_in_contact': np.array([[-1., 0.],[0., -1.]]),\n",
    "    'in_contact': np.array([[1., 0.],[-1., 0.],[0., -1.]]),\n",
    "}\n",
    "b_rh = {\n",
    "    'not_in_contact': np.array([[.4],[.5]]),\n",
    "    'in_contact': np.array([[-.4],[.4+penetration],[.5]]),\n",
    "}\n",
    "contact_surfaces_rh = {\n",
    "    'not_in_contact': None,\n",
    "    'in_contact': 0,\n",
    "}\n",
    "q_rh = np.array([[-.3], [.0]])\n",
    "rh = MovingLimb(A_rh, b_rh, contact_surfaces_rh, q_rh)\n",
    "\n",
    "# left foot\n",
    "A_lf = {\n",
    "    'not_in_contact': np.array([[0., -1.]]),\n",
    "    'in_contact': np.array([[0., 1.],[0., -1.]]),\n",
    "}\n",
    "b_lf = {\n",
    "    'not_in_contact': np.array([[.5]]),\n",
    "    'in_contact': np.array([[-.5],[.5+2.*penetration]]),\n",
    "}\n",
    "contact_surfaces_lf = {\n",
    "    'not_in_contact': None,\n",
    "    'in_contact': 0,\n",
    "}\n",
    "q_lf = np.array([[.2], [-.5 - penetration / 2.]])\n",
    "lf = MovingLimb(A_lf, b_lf, contact_surfaces_lf, q_lf)\n",
    "\n",
    "# right foot\n",
    "A_rf = {\n",
    "    'not_in_contact': np.array([[-1., 0.],[0., -1.]]),\n",
    "    'in_contact': np.array([[0., 1.],[-1., 0.],[0., -1.]]),\n",
    "}\n",
    "b_rf = {\n",
    "    'not_in_contact': np.array([[.5],[.5]]),\n",
    "    'in_contact': np.array([[-.5],[.5],[.5+2.*penetration]]),\n",
    "}\n",
    "contact_surfaces_rf = {\n",
    "    'not_in_contact': None,\n",
    "    'in_contact': 0,\n",
    "}\n",
    "q_rf = np.array([[-.2], [-.5 - penetration / 2.]])\n",
    "rf = MovingLimb(A_rf, b_rf, contact_surfaces_rf, q_rf)"
   ]
  },
  {
   "cell_type": "markdown",
   "metadata": {
    "deletable": true,
    "editable": true
   },
   "source": [
    "Assemble robot"
   ]
  },
  {
   "cell_type": "code",
   "execution_count": 4,
   "metadata": {
    "collapsed": false,
    "deletable": true,
    "editable": true
   },
   "outputs": [
    {
     "name": "stdout",
     "output_type": "stream",
     "text": [
      "Computation of Maximal Invariant Constraint-Admissible Set started.\n",
      "Determinedness index: 6, Convergence index: -0.000598162798726, Number of facets: 210.    \n",
      "Maximal Invariant Constraint-Admissible Set found.\n",
      "Removing redundant facets ... minimal facets are 71.\n"
     ]
    }
   ],
   "source": [
    "limbs = { 'moving': {'rh': rh, 'lf': lf, 'rf': rf}, 'fixed': {} }\n",
    "nominal_mode = {'lf': 'in_contact', 'rf': 'in_contact', 'rh': 'not_in_contact'}\n",
    "box_atlas = BoxAtlas(limbs, nominal_mode)"
   ]
  },
  {
   "cell_type": "markdown",
   "metadata": {
    "deletable": true,
    "editable": true
   },
   "source": [
    "Print state, input, and modes"
   ]
  },
  {
   "cell_type": "code",
   "execution_count": 5,
   "metadata": {
    "collapsed": false,
    "deletable": true,
    "editable": true
   },
   "outputs": [
    {
     "name": "stdout",
     "output_type": "stream",
     "text": [
      "Box-Atlas states:\n",
      "['qlfx', 'qlfy', 'qrfx', 'qrfy', 'qrhx', 'qrhy', 'qbx', 'qby', 'tb', 'vbx', 'vby', 'ob']\n",
      "Box-Atlas inputs:\n",
      "['vlfx', 'vlfy', 'vrfx', 'vrfy', 'vrhx', 'vrhy']\n",
      "Box-atlas modes:\n",
      "[{'lf': 'not_in_contact', 'rf': 'not_in_contact', 'rh': 'not_in_contact'}, {'lf': 'not_in_contact', 'rf': 'not_in_contact', 'rh': 'in_contact'}, {'lf': 'not_in_contact', 'rf': 'in_contact', 'rh': 'not_in_contact'}, {'lf': 'not_in_contact', 'rf': 'in_contact', 'rh': 'in_contact'}, {'lf': 'in_contact', 'rf': 'not_in_contact', 'rh': 'not_in_contact'}, {'lf': 'in_contact', 'rf': 'not_in_contact', 'rh': 'in_contact'}, {'lf': 'in_contact', 'rf': 'in_contact', 'rh': 'not_in_contact'}, {'lf': 'in_contact', 'rf': 'in_contact', 'rh': 'in_contact'}]\n"
     ]
    }
   ],
   "source": [
    "box_atlas.print_state_labels()\n",
    "box_atlas.print_input_labels()\n",
    "print 'Box-atlas modes:\\n', box_atlas.contact_modes"
   ]
  },
  {
   "cell_type": "markdown",
   "metadata": {
    "deletable": true,
    "editable": true
   },
   "source": [
    "# Hybrid MPC Controller"
   ]
  },
  {
   "cell_type": "markdown",
   "metadata": {
    "deletable": true,
    "editable": true
   },
   "source": [
    "Hybrid MPC controller"
   ]
  },
  {
   "cell_type": "code",
   "execution_count": 6,
   "metadata": {
    "collapsed": false,
    "deletable": true,
    "editable": true
   },
   "outputs": [
    {
     "name": "stdout",
     "output_type": "stream",
     "text": [
      "Parameter OutputFlag unchanged\n",
      "   Value: 1  Min: 0  Max: 1  Default: 1\n",
      "Changed value of parameter MIPGap to 1e-06\n",
      "   Prev: 0.0001  Min: 0.0  Max: 1e+100  Default: 0.0001\n"
     ]
    }
   ],
   "source": [
    "N = 10\n",
    "objective_norm = 'two'\n",
    "controller = MPCHybridController(\n",
    "    box_atlas.pwa_system,\n",
    "    N,\n",
    "    objective_norm,\n",
    "    box_atlas.Q,\n",
    "    box_atlas.R,\n",
    "    box_atlas.P,\n",
    "    box_atlas.X_N)"
   ]
  },
  {
   "cell_type": "markdown",
   "metadata": {
    "deletable": true,
    "editable": true
   },
   "source": [
    "Trick to avoid forbidden transitions"
   ]
  },
  {
   "cell_type": "code",
   "execution_count": 7,
   "metadata": {
    "collapsed": false,
    "deletable": true,
    "editable": true
   },
   "outputs": [],
   "source": [
    "controller = box_atlas.avoid_forbidden_transitions(controller)"
   ]
  },
  {
   "cell_type": "markdown",
   "metadata": {
    "deletable": true,
    "editable": true
   },
   "source": [
    "## Visualizer"
   ]
  },
  {
   "cell_type": "code",
   "execution_count": 8,
   "metadata": {
    "collapsed": false,
    "deletable": true,
    "editable": true
   },
   "outputs": [
    {
     "name": "stdout",
     "output_type": "stream",
     "text": [
      "Optimize a model with 6885 rows, 1232 columns and 34021 nonzeros\n",
      "Model has 297 quadratic objective terms\n",
      "Model has 10 SOS constraints\n",
      "Variable types: 1152 continuous, 80 integer (80 binary)\n",
      "Coefficient statistics:\n",
      "  Matrix range     [7e-05, 3e+01]\n",
      "  Objective range  [0e+00, 0e+00]\n",
      "  QObjective range [1e-03, 2e+03]\n",
      "  Bounds range     [1e+00, 1e+00]\n",
      "  RHS range        [1e-02, 2e+00]\n",
      "Presolve removed 2946 rows and 124 columns\n",
      "Presolve time: 0.10s\n",
      "Presolved: 3939 rows, 1108 columns, 24918 nonzeros\n",
      "Presolved model has 274 quadratic objective terms\n",
      "Variable types: 1036 continuous, 72 integer (72 binary)\n",
      "\n",
      "Root relaxation: objective 3.354626e+00, 7448 iterations, 0.35 seconds\n",
      "\n",
      "    Nodes    |    Current Node    |     Objective Bounds      |     Work\n",
      " Expl Unexpl |  Obj  Depth IntInf | Incumbent    BestBd   Gap | It/Node Time\n",
      "\n",
      "     0     0    3.35463    0   21          -    3.35463      -     -    0s\n",
      "H    0     0                       4.0645907    3.35463  17.5%     -    0s\n",
      "     0     0    3.35463    0   22    4.06459    3.35463  17.5%     -    0s\n",
      "     0     0    3.35463    0   22    4.06459    3.35463  17.5%     -    0s\n",
      "     0     0    3.35463    0   23    4.06459    3.35463  17.5%     -    0s\n",
      "     0     0    3.35775    0   23    4.06459    3.35775  17.4%     -    0s\n",
      "     0     0    3.35775    0   23    4.06459    3.35775  17.4%     -    0s\n",
      "     0     0    3.36243    0   23    4.06459    3.36243  17.3%     -    0s\n",
      "     0     0    3.36243    0   23    4.06459    3.36243  17.3%     -    0s\n",
      "     0     0    3.36259    0   23    4.06459    3.36259  17.3%     -    0s\n",
      "     0     0    3.36259    0   23    4.06459    3.36259  17.3%     -    1s\n",
      "     0     0    3.36290    0   22    4.06459    3.36290  17.3%     -    1s\n",
      "     0     2    3.36290    0   22    4.06459    3.36290  17.3%     -    1s\n",
      "   748   441    3.85401   27   21    4.06459    3.83360  5.68%  76.1    5s\n",
      "  2304   580    4.03579   31   15    4.06459    3.87123  4.76%  87.9   10s\n",
      "* 3256   851              55       4.0645621    3.88778  4.35%  86.2   13s\n",
      "  3727   999    3.94261   24   15    4.06456    3.89238  4.24%  84.4   15s\n",
      "  5472  1668     cutoff   42         4.06456    3.94410  2.96%  79.2   20s\n",
      "H 6103  1872                       4.0643037    3.94577  2.92%  80.4   22s\n",
      "  7137  2267     cutoff   61         4.06430    3.95433  2.71%  79.7   25s\n",
      "H 8307  2565                       4.0642959    3.96692  2.40%  79.7   29s\n",
      "  8629  2606    4.01763   55    2    4.06430    3.96715  2.39%  80.4   30s\n",
      "  9970  2872     cutoff   55         4.06430    3.97626  2.17%  82.3   35s\n",
      " 11382  3022    3.99332   45    6    4.06430    3.98528  1.94%  84.3   40s\n",
      " 12922  3194    3.99112   41    7    4.06430    3.99112  1.80%  85.2   45s\n",
      " 14408  3311     cutoff   44         4.06430    3.99947  1.59%  86.0   50s\n",
      " 15521  3509    4.05945   49    2    4.06430    4.00136  1.55%  86.1   55s\n",
      " 17071  3586    4.01126   34    6    4.06430    4.00632  1.43%  86.7   60s\n",
      " 18535  3574    4.03190   48    2    4.06430    4.00999  1.34%  87.6   65s\n",
      " 20146  3545     cutoff   40         4.06430    4.01476  1.22%  88.3   70s\n",
      " 21660  3539     cutoff   48         4.06430    4.01997  1.09%  88.1   75s\n",
      " 23172  3408    4.04224   41    5    4.06430    4.02438  0.98%  88.4   80s\n",
      " 24426  3284     cutoff   36         4.06430    4.02714  0.91%  88.9   85s\n",
      " 25920  3171    4.05469   43    3    4.06430    4.03097  0.82%  89.4   90s\n",
      " 27462  3076     cutoff   30         4.06430    4.03342  0.76%  89.4   95s\n",
      " 29118  3111     cutoff   42         4.06430    4.03557  0.71%  89.0  100s\n",
      " 30841  2977    4.04371   48    4    4.06430    4.03878  0.63%  89.0  105s\n",
      " 32480  2753    4.05966   29    8    4.06430    4.04214  0.55%  89.0  110s\n",
      " 33979  2389    4.04784   55    4    4.06430    4.04617  0.45%  89.1  115s\n",
      " 35361  1994     cutoff   38         4.06430    4.04974  0.36%  89.4  120s\n",
      " 36379  1537     cutoff   38         4.06430    4.05192  0.30%  89.6  125s\n",
      " 37771   814     cutoff   51         4.06430    4.05730  0.17%  90.1  130s\n",
      " 39498     0     cutoff   37         4.06430    4.06402  0.01%  90.0  135s\n",
      "\n",
      "Cutting planes:\n",
      "  Cover: 1\n",
      "  Implied bound: 1\n",
      "  MIR: 4\n",
      "\n",
      "Explored 39566 nodes (3569328 simplex iterations) in 135.10 seconds\n",
      "Thread count was 4 (of 4 available processors)\n",
      "\n",
      "Solution count 4: 4.0643 4.0643 4.06456 4.06459 \n",
      "\n",
      "Optimal solution found (tolerance 1.00e-06)\n",
      "Best objective 4.064295897435e+00, best bound 4.064295897435e+00, gap 0.0000%\n"
     ]
    }
   ],
   "source": [
    "# ['qlfx', 'qlfy', 'qrfx', 'qrfy', 'qrhx', 'qrhy', 'qbx', 'qby', 'tb', 'vbx', 'vby', 'ob']\n",
    "x_0 = np.zeros((box_atlas.n_x, 1))\n",
    "x_0[0,0] = 0.\n",
    "x_0[9,0] = -1.5\n",
    "u, x, ss = controller.feedforward(x_0)[0:3]"
   ]
  },
  {
   "cell_type": "code",
   "execution_count": 11,
   "metadata": {
    "collapsed": false,
    "deletable": true,
    "editable": true
   },
   "outputs": [],
   "source": [
    "from pympc.models.boxatlas_parameters import sampling_time\n",
    "\n",
    "box_atlas.visualize(x[0])\n",
    "time.sleep(20 * sampling_time)\n",
    "for k in range(N):\n",
    "    box_atlas.visualize(x[k])\n",
    "    time.sleep(sampling_time)"
   ]
  },
  {
   "cell_type": "code",
   "execution_count": 10,
   "metadata": {
    "collapsed": false,
    "deletable": true,
    "editable": true
   },
   "outputs": [
    {
     "name": "stdout",
     "output_type": "stream",
     "text": [
      "(6, 7, 7, 7, 7, 7, 7, 7, 6, 6)\n",
      "{'lf': 'in_contact', 'rf': 'in_contact', 'rh': 'not_in_contact'}\n",
      "{'lf': 'in_contact', 'rf': 'in_contact', 'rh': 'in_contact'}\n",
      "{'lf': 'in_contact', 'rf': 'in_contact', 'rh': 'in_contact'}\n",
      "{'lf': 'in_contact', 'rf': 'in_contact', 'rh': 'in_contact'}\n",
      "{'lf': 'in_contact', 'rf': 'in_contact', 'rh': 'in_contact'}\n",
      "{'lf': 'in_contact', 'rf': 'in_contact', 'rh': 'in_contact'}\n",
      "{'lf': 'in_contact', 'rf': 'in_contact', 'rh': 'in_contact'}\n",
      "{'lf': 'in_contact', 'rf': 'in_contact', 'rh': 'in_contact'}\n",
      "{'lf': 'in_contact', 'rf': 'in_contact', 'rh': 'not_in_contact'}\n",
      "{'lf': 'in_contact', 'rf': 'in_contact', 'rh': 'not_in_contact'}\n"
     ]
    }
   ],
   "source": [
    "print ss\n",
    "box_atlas.print_mode_sequence(ss)"
   ]
  },
  {
   "cell_type": "markdown",
   "metadata": {
    "deletable": true,
    "editable": true
   },
   "source": [
    "# ['qrhx', 'qrhy', 'qbx', 'qby', 'tb', 'vbx', 'vby', 'ob']\n",
    "x_test = np.array([\n",
    "    [0.], # 'qlfx'\n",
    "    [0.], # 'qlfy'\n",
    "    [0.], # 'qrfx'\n",
    "    [0.], # 'qrfy'\n",
    "    [0.], # 'qrhx'\n",
    "    [0.], # 'qrhy'\n",
    "    [0.], # 'qbx'\n",
    "    [0.], # 'qby'\n",
    "    [0.], # 'tb'\n",
    "    [0.], # 'vbx'\n",
    "    [0.], # 'vby'\n",
    "    [0.] # 'ob'\n",
    "])\n",
    "box_atlas.visualize(x_test)"
   ]
  }
 ],
 "metadata": {
  "kernelspec": {
   "display_name": "Python 2",
   "language": "python",
   "name": "python2"
  },
  "language_info": {
   "codemirror_mode": {
    "name": "ipython",
    "version": 2
   },
   "file_extension": ".py",
   "mimetype": "text/x-python",
   "name": "python",
   "nbconvert_exporter": "python",
   "pygments_lexer": "ipython2",
   "version": "2.7.13"
  }
 },
 "nbformat": 4,
 "nbformat_minor": 2
}
