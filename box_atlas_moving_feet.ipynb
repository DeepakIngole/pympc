{
 "cells": [
  {
   "cell_type": "code",
   "execution_count": 1,
   "metadata": {},
   "outputs": [],
   "source": [
    "%load_ext autoreload\n",
    "%autoreload 2"
   ]
  },
  {
   "cell_type": "code",
   "execution_count": 2,
   "metadata": {},
   "outputs": [],
   "source": [
    "import time\n",
    "import numpy as np\n",
    "import matplotlib.pyplot as plt\n",
    "from pympc.models.boxatlas_parametric import BoxAtlas, MovingLimb, FixedLimb, Trajectory\n",
    "from pympc.control import MPCHybridController\n",
    "from pympc.feasible_set_library import FeasibleSetLibrary, load_library\n",
    "from pympc.geometry.polytope import Polytope\n",
    "import pympc.plot as mpc_plt"
   ]
  },
  {
   "cell_type": "markdown",
   "metadata": {},
   "source": [
    "# Construction of Box-Atlas"
   ]
  },
  {
   "cell_type": "markdown",
   "metadata": {},
   "source": [
    "Robot's limbs"
   ]
  },
  {
   "cell_type": "code",
   "execution_count": 3,
   "metadata": {},
   "outputs": [],
   "source": [
    "from pympc.models.boxatlas_parameters import dynamics\n",
    "penetration = dynamics['mass'] * dynamics['gravity'] / dynamics['normal_stiffness']\n",
    "\n",
    "# right hand\n",
    "A_rh = {\n",
    "    'not_in_contact': np.array([[-1., 0.],[0., -1.]]),\n",
    "    'in_contact': np.array([[1., 0.],[-1., 0.],[0., -1.]]),\n",
    "}\n",
    "b_rh = {\n",
    "    'not_in_contact': np.array([[.4],[.5]]),\n",
    "    'in_contact': np.array([[-.4],[.4+penetration],[.5]]),\n",
    "}\n",
    "contact_surfaces_rh = {\n",
    "    'not_in_contact': None,\n",
    "    'in_contact': 0,\n",
    "}\n",
    "q_rh = np.array([[-.3], [.0]])\n",
    "parametric_wall_distance = {\n",
    "    'label': 'wall_distance_rh',\n",
    "    'not_in_contact': {'index': [0], 'coefficient': [1.]},\n",
    "    'in_contact': {'index': [0, 1], 'coefficient': [-1., 1.]},\n",
    "    'min': -.05,\n",
    "    'max': .05,\n",
    "} # if positive moves the wall away from the body\n",
    "parameters_rh = [parametric_wall_distance]\n",
    "rh = MovingLimb(A_rh, b_rh, contact_surfaces_rh, q_rh, parameters=parameters_rh)\n",
    "\n",
    "# left foot\n",
    "A_lf = {\n",
    "    'not_in_contact': np.array([[0., -1.]]),\n",
    "    'in_contact': np.array([[0., 1.],[0., -1.]]),\n",
    "}\n",
    "b_lf = {\n",
    "    'not_in_contact': np.array([[.5]]),\n",
    "    'in_contact': np.array([[-.5],[.5+2.*penetration]]),\n",
    "}\n",
    "contact_surfaces_lf = {\n",
    "    'not_in_contact': None,\n",
    "    'in_contact': 0,\n",
    "}\n",
    "q_lf = np.array([[.2], [-.5 - penetration / 2.]])\n",
    "lf = MovingLimb(A_lf, b_lf, contact_surfaces_lf, q_lf)\n",
    "\n",
    "# right foot\n",
    "A_rf = {\n",
    "    'not_in_contact': np.array([[-1., 0.],[0., -1.]]),\n",
    "    'in_contact': np.array([[0., 1.],[-1., 0.],[0., -1.]]),\n",
    "}\n",
    "b_rf = {\n",
    "    'not_in_contact': np.array([[.5],[.5]]),\n",
    "    'in_contact': np.array([[-.5],[.5],[.5+2.*penetration]]),\n",
    "}\n",
    "contact_surfaces_rf = {\n",
    "    'not_in_contact': None,\n",
    "    'in_contact': 0,\n",
    "}\n",
    "q_rf = np.array([[-.2], [-.5 - penetration / 2.]])\n",
    "rf = MovingLimb(A_rf, b_rf, contact_surfaces_rf, q_rf)"
   ]
  },
  {
   "cell_type": "markdown",
   "metadata": {},
   "source": [
    "Assemble robot"
   ]
  },
  {
   "cell_type": "code",
   "execution_count": 4,
   "metadata": {},
   "outputs": [
    {
     "name": "stdout",
     "output_type": "stream",
     "text": [
      "Computation of Maximal Invariant Constraint-Admissible Set started.\n",
      "Determinedness index: 7, Convergence index: 0.0, Number of facets: 280.                             \n",
      "Maximal Invariant Constraint-Admissible Set found.\n",
      "Removing redundant facets ... minimal facets are 96.\n",
      "Changed value of parameter TimeLimit to 600.0\n",
      "   Prev: 1e+100  Min: 0.0  Max: 1e+100  Default: 1e+100\n",
      "Parameter FeasibilityTol unchanged\n",
      "   Value: 1e-06  Min: 1e-09  Max: 0.01  Default: 1e-06\n",
      "Parameter NumericFocus unchanged\n",
      "   Value: 0  Min: 0  Max: 3  Default: 0\n",
      "Parameter OptimalityTol unchanged\n",
      "   Value: 1e-06  Min: 1e-09  Max: 0.01  Default: 1e-06\n",
      "Parameter MIPGap unchanged\n",
      "   Value: 0.0001  Min: 0.0  Max: 1e+100  Default: 0.0001\n",
      "Parameter IntFeasTol unchanged\n",
      "   Value: 1e-05  Min: 1e-09  Max: 0.1  Default: 1e-05\n",
      "Parameter MIPFocus unchanged\n",
      "   Value: 0  Min: 0  Max: 3  Default: 0\n"
     ]
    }
   ],
   "source": [
    "limbs = { 'moving': {'rh': rh, 'lf': lf, 'rf': rf}, 'fixed': {} }\n",
    "nominal_mode = {'lf': 'in_contact', 'rf': 'in_contact', 'rh': 'not_in_contact'}\n",
    "forbidden_modes = [{'lf': 'not_in_contact', 'rf': 'not_in_contact'}]\n",
    "box_atlas = BoxAtlas(limbs, nominal_mode, forbidden_modes)"
   ]
  },
  {
   "cell_type": "markdown",
   "metadata": {},
   "source": [
    "Print state, input, and modes"
   ]
  },
  {
   "cell_type": "code",
   "execution_count": 5,
   "metadata": {},
   "outputs": [
    {
     "name": "stdout",
     "output_type": "stream",
     "text": [
      "\n",
      "Box-Atlas states:\n",
      "0: wall_distance_rh\n",
      "1: qlfx\n",
      "2: qlfy\n",
      "3: qrfx\n",
      "4: qrfy\n",
      "5: qrhx\n",
      "6: qrhy\n",
      "7: qbx\n",
      "8: qby\n",
      "9: tb\n",
      "10: vbx\n",
      "11: vby\n",
      "12: ob\n",
      "\n",
      "Box-Atlas inputs:\n",
      "0: vlfx\n",
      "1: vlfy\n",
      "2: vrfx\n",
      "3: vrfy\n",
      "4: vrhx\n",
      "5: vrhy\n",
      "\n",
      "Box-atlas modes:\n",
      "0: {'lf': 'not_in_contact', 'rf': 'in_contact', 'rh': 'not_in_contact'}\n",
      "1: {'lf': 'not_in_contact', 'rf': 'in_contact', 'rh': 'in_contact'}\n",
      "2: {'lf': 'in_contact', 'rf': 'not_in_contact', 'rh': 'not_in_contact'}\n",
      "3: {'lf': 'in_contact', 'rf': 'not_in_contact', 'rh': 'in_contact'}\n",
      "4: {'lf': 'in_contact', 'rf': 'in_contact', 'rh': 'not_in_contact'}\n",
      "5: {'lf': 'in_contact', 'rf': 'in_contact', 'rh': 'in_contact'}\n"
     ]
    }
   ],
   "source": [
    "box_atlas.print_state_labels()\n",
    "box_atlas.print_input_labels()\n",
    "box_atlas.print_modes()"
   ]
  },
  {
   "cell_type": "markdown",
   "metadata": {},
   "source": [
    "# Hybrid MPC"
   ]
  },
  {
   "cell_type": "code",
   "execution_count": null,
   "metadata": {},
   "outputs": [],
   "source": [
    "x_0 = np.zeros((box_atlas.n_x, 1))\n",
    "x_0[10,0] = -1.5\n",
    "u, x, ss = box_atlas.controller.feedforward(x_0)[0:3]"
   ]
  },
  {
   "cell_type": "markdown",
   "metadata": {
    "collapsed": true
   },
   "source": [
    "from pympc.optimization.gurobi import linear_program\n",
    "prog = box_atlas.controller.condense_program(ss)\n",
    "lhs = prog.C_u\n",
    "rhs = prog.C + prog.C_x.dot(x_0)\n",
    "sol  = linear_program(np.zeros((60,1)), lhs, rhs)"
   ]
  },
  {
   "cell_type": "markdown",
   "metadata": {},
   "source": [
    "Closed-loop system simulation of the MPC controller"
   ]
  },
  {
   "cell_type": "code",
   "execution_count": null,
   "metadata": {},
   "outputs": [],
   "source": [
    "N_sim = 30\n",
    "u = []\n",
    "# ['wall_distance_rh', 'qlfx', 'qlfy', 'qrfx', 'qrfy', 'qrhx', 'qrhy', 'qbx', 'qby', 'tb', 'vbx', 'vby', 'ob']\n",
    "x_0 = np.zeros((box_atlas.n_x, 1))\n",
    "x_0[1,0] = .2\n",
    "x_0[3,0] = .2\n",
    "x = [x_0]\n",
    "u_ws = None\n",
    "x_ws = None\n",
    "ss_ws = None\n",
    "nominal_mode = box_atlas.get_mode_index(box_atlas.nominal_mode)\n",
    "for k in range(N_sim):\n",
    "    u_k, x_k, ss_k = box_atlas.controller.feedforward(x[k], u_ws, x_ws, ss_ws)[0:3]\n",
    "    print 'Time step ' + str(k) + ': ' + str(ss_k) + '.'\n",
    "    u_ws = u_k[1:] + [box_atlas.K.dot(x_k[-1])]\n",
    "    x_ws = x_k[1:] + [box_atlas.pwa_system.simulate(x_k[-1], [u_ws[-1]])[0][1]]\n",
    "    ss_ws = ss_k[1:] + (nominal_mode,)\n",
    "    x_next = box_atlas.pwa_system.simulate(x[k], [u_k[0]])[0][1]\n",
    "    # print 'Planner-simulator missmatch:', np.linalg.norm(x_next - x_k[1])\n",
    "    u.append(u_k[0])\n",
    "    x.append(x_next)\n",
    "# traj_miqp = Trajectory(x, u, box_atlas.Q, box_atlas.R, box_atlas.P)\n",
    "# np.save('box_atlas_tajectory_miqp_lh', traj_miqp)"
   ]
  },
  {
   "cell_type": "markdown",
   "metadata": {},
   "source": [
    "Visualization of the simulation with Director"
   ]
  },
  {
   "cell_type": "code",
   "execution_count": null,
   "metadata": {},
   "outputs": [],
   "source": [
    "from pympc.models.boxatlas_parameters import dynamics\n",
    "box_atlas.visualize(x[0])\n",
    "time.sleep(10 * dynamics['sampling_time'])\n",
    "for x_t in x:\n",
    "    box_atlas.visualize(x_t)\n",
    "    time.sleep(dynamics['sampling_time'])"
   ]
  },
  {
   "cell_type": "code",
   "execution_count": null,
   "metadata": {},
   "outputs": [],
   "source": [
    "box_atlas.print_mode_sequence(ss)"
   ]
  },
  {
   "cell_type": "markdown",
   "metadata": {},
   "source": [
    "# Approximate Hybrid MPC"
   ]
  },
  {
   "cell_type": "markdown",
   "metadata": {},
   "source": [
    "Initialization of the library"
   ]
  },
  {
   "cell_type": "code",
   "execution_count": 7,
   "metadata": {},
   "outputs": [
    {
     "ename": "RuntimeError",
     "evalue": "maximum recursion depth exceeded while calling a Python object",
     "output_type": "error",
     "traceback": [
      "\u001b[0;31m---------------------------------------------------------------------------\u001b[0m",
      "\u001b[0;31mRuntimeError\u001b[0m                              Traceback (most recent call last)",
      "\u001b[0;32m<ipython-input-7-532032859373>\u001b[0m in \u001b[0;36m<module>\u001b[0;34m()\u001b[0m\n\u001b[1;32m      1\u001b[0m \u001b[0mlibrary\u001b[0m \u001b[0;34m=\u001b[0m \u001b[0mFeasibleSetLibrary\u001b[0m\u001b[0;34m(\u001b[0m\u001b[0mbox_atlas\u001b[0m\u001b[0;34m.\u001b[0m\u001b[0mcontroller\u001b[0m\u001b[0;34m)\u001b[0m\u001b[0;34m\u001b[0m\u001b[0m\n\u001b[1;32m      2\u001b[0m \u001b[0msamples_so_far\u001b[0m \u001b[0;34m=\u001b[0m \u001b[0;36m20\u001b[0m\u001b[0;34m\u001b[0m\u001b[0m\n\u001b[0;32m----> 3\u001b[0;31m \u001b[0mlibrary\u001b[0m \u001b[0;34m=\u001b[0m \u001b[0mload_library\u001b[0m\u001b[0;34m(\u001b[0m\u001b[0;34m'library_box_atlas_moving_feet_'\u001b[0m \u001b[0;34m+\u001b[0m \u001b[0mstr\u001b[0m\u001b[0;34m(\u001b[0m\u001b[0msamples_so_far\u001b[0m\u001b[0;34m)\u001b[0m\u001b[0;34m)\u001b[0m\u001b[0;34m\u001b[0m\u001b[0m\n\u001b[0m",
      "\u001b[0;32m/home/rlg/py-mpc/pympc/feasible_set_library.pyc\u001b[0m in \u001b[0;36mload_library\u001b[0;34m(name)\u001b[0m\n\u001b[1;32m    157\u001b[0m \u001b[0;34m\u001b[0m\u001b[0m\n\u001b[1;32m    158\u001b[0m \u001b[0;32mdef\u001b[0m \u001b[0mload_library\u001b[0m\u001b[0;34m(\u001b[0m\u001b[0mname\u001b[0m\u001b[0;34m)\u001b[0m\u001b[0;34m:\u001b[0m\u001b[0;34m\u001b[0m\u001b[0m\n\u001b[0;32m--> 159\u001b[0;31m     \u001b[0mlibrary\u001b[0m \u001b[0;34m=\u001b[0m \u001b[0mnp\u001b[0m\u001b[0;34m.\u001b[0m\u001b[0mload\u001b[0m\u001b[0;34m(\u001b[0m\u001b[0mname\u001b[0m \u001b[0;34m+\u001b[0m \u001b[0;34m'.npy'\u001b[0m\u001b[0;34m)\u001b[0m\u001b[0;34m.\u001b[0m\u001b[0mitem\u001b[0m\u001b[0;34m(\u001b[0m\u001b[0;34m)\u001b[0m\u001b[0;34m\u001b[0m\u001b[0m\n\u001b[0m\u001b[1;32m    160\u001b[0m     \u001b[0mlibrary\u001b[0m\u001b[0;34m.\u001b[0m\u001b[0mcontroller\u001b[0m\u001b[0;34m.\u001b[0m\u001b[0m_MIP_model\u001b[0m\u001b[0;34m(\u001b[0m\u001b[0;34m)\u001b[0m\u001b[0;34m\u001b[0m\u001b[0m\n\u001b[1;32m    161\u001b[0m     \u001b[0;32mreturn\u001b[0m \u001b[0mlibrary\u001b[0m\u001b[0;34m\u001b[0m\u001b[0m\n",
      "\u001b[0;32m/usr/lib/python2.7/dist-packages/numpy/lib/npyio.pyc\u001b[0m in \u001b[0;36mload\u001b[0;34m(file, mmap_mode, allow_pickle, fix_imports, encoding)\u001b[0m\n\u001b[1;32m    404\u001b[0m             \u001b[0;32melse\u001b[0m\u001b[0;34m:\u001b[0m\u001b[0;34m\u001b[0m\u001b[0m\n\u001b[1;32m    405\u001b[0m                 return format.read_array(fid, allow_pickle=allow_pickle,\n\u001b[0;32m--> 406\u001b[0;31m                                          pickle_kwargs=pickle_kwargs)\n\u001b[0m\u001b[1;32m    407\u001b[0m         \u001b[0;32melse\u001b[0m\u001b[0;34m:\u001b[0m\u001b[0;34m\u001b[0m\u001b[0m\n\u001b[1;32m    408\u001b[0m             \u001b[0;31m# Try a pickle\u001b[0m\u001b[0;34m\u001b[0m\u001b[0;34m\u001b[0m\u001b[0m\n",
      "\u001b[0;32m/usr/lib/python2.7/dist-packages/numpy/lib/format.pyc\u001b[0m in \u001b[0;36mread_array\u001b[0;34m(fp, allow_pickle, pickle_kwargs)\u001b[0m\n\u001b[1;32m    635\u001b[0m             \u001b[0mpickle_kwargs\u001b[0m \u001b[0;34m=\u001b[0m \u001b[0;34m{\u001b[0m\u001b[0;34m}\u001b[0m\u001b[0;34m\u001b[0m\u001b[0m\n\u001b[1;32m    636\u001b[0m         \u001b[0;32mtry\u001b[0m\u001b[0;34m:\u001b[0m\u001b[0;34m\u001b[0m\u001b[0m\n\u001b[0;32m--> 637\u001b[0;31m             \u001b[0marray\u001b[0m \u001b[0;34m=\u001b[0m \u001b[0mpickle\u001b[0m\u001b[0;34m.\u001b[0m\u001b[0mload\u001b[0m\u001b[0;34m(\u001b[0m\u001b[0mfp\u001b[0m\u001b[0;34m,\u001b[0m \u001b[0;34m**\u001b[0m\u001b[0mpickle_kwargs\u001b[0m\u001b[0;34m)\u001b[0m\u001b[0;34m\u001b[0m\u001b[0m\n\u001b[0m\u001b[1;32m    638\u001b[0m         \u001b[0;32mexcept\u001b[0m \u001b[0mUnicodeError\u001b[0m \u001b[0;32mas\u001b[0m \u001b[0merr\u001b[0m\u001b[0;34m:\u001b[0m\u001b[0;34m\u001b[0m\u001b[0m\n\u001b[1;32m    639\u001b[0m             \u001b[0;32mif\u001b[0m \u001b[0msys\u001b[0m\u001b[0;34m.\u001b[0m\u001b[0mversion_info\u001b[0m\u001b[0;34m[\u001b[0m\u001b[0;36m0\u001b[0m\u001b[0;34m]\u001b[0m \u001b[0;34m>=\u001b[0m \u001b[0;36m3\u001b[0m\u001b[0;34m:\u001b[0m\u001b[0;34m\u001b[0m\u001b[0m\n",
      "\u001b[0;32mvar.pxi\u001b[0m in \u001b[0;36mgurobipy.Var.__getattr__ (../../src/python/gurobipy.c:14497)\u001b[0;34m()\u001b[0m\n",
      "\u001b[0;32mvar.pxi\u001b[0m in \u001b[0;36mgurobipy.Var.getAttr (../../src/python/gurobipy.c:14832)\u001b[0;34m()\u001b[0m\n",
      "\u001b[0;32mvar.pxi\u001b[0m in \u001b[0;36mgurobipy.Var.__colno__ (../../src/python/gurobipy.c:13923)\u001b[0;34m()\u001b[0m\n",
      "... last 3 frames repeated, from the frame below ...\n",
      "\u001b[0;32mvar.pxi\u001b[0m in \u001b[0;36mgurobipy.Var.__getattr__ (../../src/python/gurobipy.c:14497)\u001b[0;34m()\u001b[0m\n",
      "\u001b[0;31mRuntimeError\u001b[0m: maximum recursion depth exceeded while calling a Python object"
     ]
    }
   ],
   "source": [
    "library = FeasibleSetLibrary(box_atlas.controller)\n",
    "samples_so_far = 20\n",
    "library = load_library('library_box_atlas_moving_feet_' + str(samples_so_far))"
   ]
  },
  {
   "cell_type": "markdown",
   "metadata": {},
   "source": [
    "Coverage"
   ]
  },
  {
   "cell_type": "code",
   "execution_count": null,
   "metadata": {},
   "outputs": [],
   "source": [
    "sample_step = 10\n",
    "n_steps = 10\n",
    "for i in range(n_steps):\n",
    "    n = samples_so_far + (i+1)*sample_step\n",
    "    library.sample_policy(sample_step, box_atlas.is_inside_a_domain)\n",
    "    print(str(n) + ' samples added to the library.')\n",
    "    library.save('library_box_atlas_moving_feet_' + str(n))"
   ]
  },
  {
   "cell_type": "markdown",
   "metadata": {},
   "source": [
    "Shifted switching sequences"
   ]
  },
  {
   "cell_type": "code",
   "execution_count": null,
   "metadata": {},
   "outputs": [],
   "source": [
    "library.add_shifted_switching_sequences(nominal_mode)"
   ]
  },
  {
   "cell_type": "markdown",
   "metadata": {},
   "source": [
    "Closed-loop system simulation of the approximate MPC controller"
   ]
  },
  {
   "cell_type": "code",
   "execution_count": null,
   "metadata": {},
   "outputs": [],
   "source": [
    "u = []\n",
    "x = [x_0]\n",
    "ss = []\n",
    "ss_feasible = None\n",
    "for k in range(N_sim):\n",
    "    print 'Time step ' + str(k) + '.'\n",
    "    u_k, ss_k = library.feedback(x[k], ss_feasible, max_qp=10)\n",
    "    u.append(u_k)\n",
    "    x_next = box_atlas.pwa_system.simulate(x[k], [u_k])[0][1]\n",
    "    x.append(x_next)\n",
    "    ss.append(ss_k)\n",
    "    ss_feasible = ss_k[1:] + (nominal_mode,)\n",
    "traj_lib = Trajectory(x, u, box_atlas.Q, box_atlas.R, box_atlas.P)\n",
    "#np.save('box_atlas_tajectory', traj_lib)"
   ]
  }
 ],
 "metadata": {
  "kernelspec": {
   "display_name": "Python 2",
   "language": "python",
   "name": "python2"
  },
  "language_info": {
   "codemirror_mode": {
    "name": "ipython",
    "version": 2
   },
   "file_extension": ".py",
   "mimetype": "text/x-python",
   "name": "python",
   "nbconvert_exporter": "python",
   "pygments_lexer": "ipython2",
   "version": "2.7.12"
  }
 },
 "nbformat": 4,
 "nbformat_minor": 2
}
