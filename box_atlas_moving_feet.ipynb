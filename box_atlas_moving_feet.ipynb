{
 "cells": [
  {
   "cell_type": "code",
   "execution_count": 1,
   "metadata": {},
   "outputs": [],
   "source": [
    "%load_ext autoreload\n",
    "%autoreload 2"
   ]
  },
  {
   "cell_type": "code",
   "execution_count": 2,
   "metadata": {},
   "outputs": [],
   "source": [
    "import time\n",
    "import numpy as np\n",
    "import matplotlib.pyplot as plt\n",
    "from pympc.models.boxatlas_parametric import BoxAtlas, MovingLimb, FixedLimb, Trajectory\n",
    "from pympc.control import MPCHybridController\n",
    "from pympc.feasible_set_library import FeasibleSetLibrary, load_library\n",
    "from pympc.geometry.polytope import Polytope\n",
    "import pympc.plot as mpc_plt"
   ]
  },
  {
   "cell_type": "markdown",
   "metadata": {},
   "source": [
    "# Construction of Box-Atlas"
   ]
  },
  {
   "cell_type": "markdown",
   "metadata": {},
   "source": [
    "Robot moving limbs"
   ]
  },
  {
   "cell_type": "code",
   "execution_count": 3,
   "metadata": {},
   "outputs": [],
   "source": [
    "from pympc.models.boxatlas_parameters import dynamics\n",
    "penetration = dynamics['mass'] * dynamics['gravity'] / dynamics['normal_stiffness']\n",
    "\n",
    "# right hand\n",
    "A_rh = {\n",
    "    'not_in_contact': np.array([[-1., 0.],[0., -1.]]),\n",
    "    'in_contact': np.array([[1., 0.],[-1., 0.],[0., -1.]]),\n",
    "}\n",
    "b_rh = {\n",
    "    'not_in_contact': np.array([[.4],[.5]]),\n",
    "    'in_contact': np.array([[-.4],[.4+penetration],[.5]]),\n",
    "}\n",
    "contact_surfaces_rh = {\n",
    "    'not_in_contact': None,\n",
    "    'in_contact': 0,\n",
    "}\n",
    "q_rh = np.array([[-.3], [.0]])\n",
    "parametric_wall_distance = {\n",
    "    'label': 'wall_distance_rh',\n",
    "    'not_in_contact': {'index': [0], 'coefficient': [1.]},\n",
    "    'in_contact': {'index': [0, 1], 'coefficient': [-1., 1.]},\n",
    "    'min': -.05,\n",
    "    'max': .05,\n",
    "} # if positive moves the wall away from the body\n",
    "parameters_rh = [parametric_wall_distance]\n",
    "rh = MovingLimb(A_rh, b_rh, contact_surfaces_rh, q_rh, parameters=parameters_rh)\n",
    "\n",
    "# left foot\n",
    "A_lf = {\n",
    "    'not_in_contact': np.array([[0., -1.]]),\n",
    "    'in_contact': np.array([[0., 1.],[0., -1.]]),\n",
    "}\n",
    "b_lf = {\n",
    "    'not_in_contact': np.array([[.5]]),\n",
    "    'in_contact': np.array([[-.5],[.5+2.*penetration]]),\n",
    "}\n",
    "contact_surfaces_lf = {\n",
    "    'not_in_contact': None,\n",
    "    'in_contact': 0,\n",
    "}\n",
    "q_lf = np.array([[.2], [-.5 - penetration / 2.]])\n",
    "lf = MovingLimb(A_lf, b_lf, contact_surfaces_lf, q_lf)\n",
    "\n",
    "# right foot\n",
    "A_rf = {\n",
    "    'not_in_contact': np.array([[-1., 0.],[0., -1.]]),\n",
    "    'in_contact': np.array([[0., 1.],[-1., 0.],[0., -1.]]),\n",
    "}\n",
    "b_rf = {\n",
    "    'not_in_contact': np.array([[.5],[.5]]),\n",
    "    'in_contact': np.array([[-.5],[.5],[.5+2.*penetration]]),\n",
    "}\n",
    "contact_surfaces_rf = {\n",
    "    'not_in_contact': None,\n",
    "    'in_contact': 0,\n",
    "}\n",
    "q_rf = np.array([[-.2], [-.5 - penetration / 2.]])\n",
    "rf = MovingLimb(A_rf, b_rf, contact_surfaces_rf, q_rf)"
   ]
  },
  {
   "cell_type": "markdown",
   "metadata": {},
   "source": [
    "Assemble robot"
   ]
  },
  {
   "cell_type": "code",
   "execution_count": 4,
   "metadata": {},
   "outputs": [
    {
     "name": "stdout",
     "output_type": "stream",
     "text": [
      "Computation of Maximal Invariant Constraint-Admissible Set started.\n",
      "Determinedness index: 6, Convergence index: 0.0, Number of facets: 231.                              \n",
      "Maximal Invariant Constraint-Admissible Set found.\n",
      "Removing redundant facets ... minimal facets are 77.\n",
      "Parameter FeasibilityTol unchanged\n",
      "   Value: 1e-06  Min: 1e-09  Max: 0.01  Default: 1e-06\n",
      "Parameter NumericFocus unchanged\n",
      "   Value: 0  Min: 0  Max: 3  Default: 0\n",
      "Parameter OptimalityTol unchanged\n",
      "   Value: 1e-06  Min: 1e-09  Max: 0.01  Default: 1e-06\n",
      "Parameter OutputFlag unchanged\n",
      "   Value: 1  Min: 0  Max: 1  Default: 1\n",
      "Changed value of parameter TimeLimit to 600.0\n",
      "   Prev: 1e+100  Min: 0.0  Max: 1e+100  Default: 1e+100\n",
      "Parameter MIPGap unchanged\n",
      "   Value: 0.0001  Min: 0.0  Max: 1e+100  Default: 0.0001\n",
      "Parameter IntFeasTol unchanged\n",
      "   Value: 1e-05  Min: 1e-09  Max: 0.1  Default: 1e-05\n"
     ]
    }
   ],
   "source": [
    "limbs = { 'moving': {'rh': rh, 'lf': lf, 'rf': rf}, 'fixed': {} }\n",
    "nominal_mode = {'lf': 'in_contact', 'rf': 'in_contact', 'rh': 'not_in_contact'}\n",
    "box_atlas = BoxAtlas(limbs, nominal_mode)"
   ]
  },
  {
   "cell_type": "markdown",
   "metadata": {},
   "source": [
    "Print state, input, and modes"
   ]
  },
  {
   "cell_type": "code",
   "execution_count": null,
   "metadata": {},
   "outputs": [
    {
     "name": "stdout",
     "output_type": "stream",
     "text": [
      "\n",
      "Box-Atlas states:\n",
      "0: wall_distance_rh\n",
      "1: qlfx\n",
      "2: qlfy\n",
      "3: qrfx\n",
      "4: qrfy\n",
      "5: qrhx\n",
      "6: qrhy\n",
      "7: qbx\n",
      "8: qby\n",
      "9: tb\n",
      "10: vbx\n",
      "11: vby\n",
      "12: ob\n",
      "\n",
      "Box-Atlas inputs:\n",
      "0: vlfx\n",
      "1: vlfy\n",
      "2: vrfx\n",
      "3: vrfy\n",
      "4: vrhx\n",
      "5: vrhy\n",
      "\n",
      "Box-atlas modes:\n",
      "0: {'lf': 'not_in_contact', 'rf': 'not_in_contact', 'rh': 'not_in_contact'}\n",
      "1: {'lf': 'not_in_contact', 'rf': 'not_in_contact', 'rh': 'in_contact'}\n",
      "2: {'lf': 'not_in_contact', 'rf': 'in_contact', 'rh': 'not_in_contact'}\n",
      "3: {'lf': 'not_in_contact', 'rf': 'in_contact', 'rh': 'in_contact'}\n",
      "4: {'lf': 'in_contact', 'rf': 'not_in_contact', 'rh': 'not_in_contact'}\n",
      "5: {'lf': 'in_contact', 'rf': 'not_in_contact', 'rh': 'in_contact'}\n",
      "6: {'lf': 'in_contact', 'rf': 'in_contact', 'rh': 'not_in_contact'}\n",
      "7: {'lf': 'in_contact', 'rf': 'in_contact', 'rh': 'in_contact'}\n"
     ]
    }
   ],
   "source": [
    "box_atlas.print_state_labels()\n",
    "box_atlas.print_input_labels()\n",
    "box_atlas.print_modes()"
   ]
  },
  {
   "cell_type": "markdown",
   "metadata": {},
   "source": [
    "# Hybrid MPC Controller"
   ]
  },
  {
   "cell_type": "code",
   "execution_count": null,
   "metadata": {},
   "outputs": [
    {
     "name": "stdout",
     "output_type": "stream",
     "text": [
      "Optimize a model with 7462 rows, 1323 columns and 35526 nonzeros\n",
      "Model has 297 quadratic objective terms\n",
      "Model has 10 SOS constraints\n",
      "Variable types: 1243 continuous, 80 integer (80 binary)\n",
      "Coefficient statistics:\n",
      "  Matrix range     [1e-05, 3e+01]\n",
      "  Objective range  [0e+00, 0e+00]\n",
      "  QObjective range [1e-03, 2e+03]\n",
      "  Bounds range     [1e+00, 1e+00]\n",
      "  RHS range        [1e-02, 2e+00]\n",
      "Presolve removed 3348 rows and 146 columns\n",
      "Presolve time: 0.06s\n",
      "Presolved: 4114 rows, 1177 columns, 25877 nonzeros\n",
      "Presolved model has 274 quadratic objective terms\n",
      "Variable types: 1105 continuous, 72 integer (72 binary)\n",
      "\n",
      "Root relaxation: objective 3.963733e-02, 10233 iterations, 0.56 seconds\n",
      "\n",
      "    Nodes    |    Current Node    |     Objective Bounds      |     Work\n",
      " Expl Unexpl |  Obj  Depth IntInf | Incumbent    BestBd   Gap | It/Node Time\n",
      "\n",
      "     0     0    0.03964    0   19          -    0.03964      -     -    0s\n",
      "H    0     0                       4.8289630    0.03964  99.2%     -    1s\n",
      "     0     0    0.03964    0   22    4.82896    0.03964  99.2%     -    1s\n",
      "     0     0    0.03964    0   22    4.82896    0.03964  99.2%     -    1s\n",
      "     0     0    0.03979    0   23    4.82896    0.03979  99.2%     -    1s\n",
      "H    0     0                       4.3533402    0.03979  99.1%     -    1s\n",
      "     0     0    0.03979    0   23    4.35334    0.03979  99.1%     -    1s\n",
      "     0     0    0.03979    0   23    4.35334    0.03979  99.1%     -    1s\n",
      "     0     0    0.03979    0   24    4.35334    0.03979  99.1%     -    1s\n",
      "     0     0    0.03979    0   24    4.35334    0.03979  99.1%     -    1s\n",
      "     0     2    0.03979    0   24    4.35334    0.03979  99.1%     -    1s\n",
      "H  184   181                       2.9337895    0.05836  98.0%  42.4    2s\n",
      "H  327   300                       2.7784119    0.05836  97.9%  69.5    2s\n",
      "H  329   269                       2.0414306    0.05836  97.1%  70.4    2s\n",
      "*  364   286              55       2.0196096    0.05836  97.1%  75.4    2s\n",
      "*  453   311              38       1.9109289    0.05836  96.9%  77.5    2s\n",
      "H  908   615                       1.8168770    0.05836  96.8%  93.6    4s\n",
      "  1296   880    0.05961   29   24    1.81688    0.05836  96.8%  96.6    5s\n",
      "  3190  1646    0.15721   37    9    1.81688    0.07572  95.8%  87.6   10s\n",
      "H 5152  2715                       1.7971915    0.09687  94.6%  87.9   12s\n",
      "  6800  3709     cutoff   49         1.79719    0.10569  94.1%  89.7   15s\n",
      "  9580  5232     cutoff   42         1.79719    0.12610  93.0%  90.5   20s\n",
      " 13385  7170    1.29447   52    2    1.79719    0.17035  90.5%  92.2   25s\n",
      " 17256  9373     cutoff   43         1.79719    0.18719  89.6%  92.1   30s\n",
      "H17950  9795                       1.7839882    0.19011  89.3%  91.7   32s\n",
      " 19820 10916    0.30256   40   10    1.78399    0.19347  89.2%  91.2   35s\n",
      "*21403 11802              44       1.7693523    0.19563  88.9%  90.8   36s\n",
      " 24479 13680    0.39223   26   16    1.76935    0.20180  88.6%  89.7   40s\n",
      " 25759 14522    0.27420   41   24    1.76935    0.20502  88.4%  89.5   48s\n",
      " 25781 14536    0.20502   30   22    1.76935    0.20502  88.4%  89.8   50s\n",
      "H25786 13807                       1.7127369    0.20502  88.0%  89.7   50s\n",
      " 29779 15107    0.45577   72    3    1.71274    0.20502  88.0%  89.4   55s\n",
      "*33935 15403              69       1.7126370    0.20502  88.0%  89.3   59s\n",
      "*33937 14719              72       1.6608292    0.20502  87.7%  89.3   59s\n",
      "*34163 14145              64       1.6590816    0.20502  87.6%  89.4   59s\n",
      " 34368 14201    1.31331   63    2    1.65908    0.20502  87.6%  89.5   60s\n",
      " 38284 14769     cutoff   69         1.65908    0.20502  87.6%  91.2   65s\n",
      " 41655 15386    1.34287   59    3    1.65908    0.20502  87.6%  91.7   70s\n",
      " 45986 15903     cutoff   63         1.65908    0.20502  87.6%  92.7   75s\n",
      " 49880 16274     cutoff   64         1.65908    0.20502  87.6%  93.5   80s\n",
      " 53792 16494    0.59344   64    2    1.65908    0.20502  87.6%  94.3   86s\n",
      " 56410 16675     cutoff   70         1.65908    0.20502  87.6%  94.7   90s\n",
      " 59904 16824     cutoff   63         1.65908    0.20502  87.6%  95.3   95s\n",
      " 63976 17771    0.37079   61    2    1.65908    0.20502  87.6%  96.1  100s\n",
      "*64906 18071              68       1.6285567    0.20502  87.4%  96.3  101s\n",
      " 67713 19420     cutoff   64         1.62856    0.20502  87.4%  96.2  105s\n",
      " 71878 20982     cutoff   74         1.62856    0.20502  87.4%  96.8  110s\n",
      "H73184 21248                       1.5944339    0.20502  87.1%  97.0  112s\n",
      " 75084 21910    0.26783   52    6    1.59443    0.20502  87.1%  97.1  115s\n",
      " 78895 23393    0.71269   49    2    1.59443    0.20502  87.1%  97.3  120s\n",
      " 83638 25703    0.26115   57    4    1.59443    0.20502  87.1%  97.1  125s\n",
      " 87872 27516    0.81444   56    4    1.59443    0.20502  87.1%  97.2  130s\n",
      " 91767 28890     cutoff   54         1.59443    0.20502  87.1%  97.7  135s\n",
      " 95180 30004     cutoff   65         1.59443    0.20502  87.1%  98.1  140s\n",
      " 98842 31442    0.51249   65    2    1.59443    0.20502  87.1%  98.3  145s\n",
      " 102679 33225     cutoff   61         1.59443    0.20502  87.1%  98.3  150s\n",
      " 105107 34358    0.28866   55    4    1.59443    0.20502  87.1%  98.4  156s\n",
      " 106804 34714    0.95536   61    4    1.59443    0.20502  87.1%  98.8  160s\n",
      " 109559 35677    0.21005   68    3    1.59443    0.20502  87.1%   100  165s\n",
      " 112135 36637    1.43840   66    4    1.59443    0.20502  87.1%   100  170s\n",
      " 116170 38424     cutoff   68         1.59443    0.20502  87.1%   100  175s\n",
      " 119008 39338     cutoff   66         1.59443    0.20502  87.1%   100  180s\n",
      " 122540 40596    0.23320   61    8    1.59443    0.20502  87.1%   100  185s\n",
      " 125639 41409     cutoff   65         1.59443    0.20502  87.1%   101  190s\n",
      " 129288 42840     cutoff   66         1.59443    0.20502  87.1%   102  195s\n",
      " 131860 43509    0.67848   57    2    1.59443    0.20502  87.1%   102  200s\n",
      " 134957 44582    0.63140   61    7    1.59443    0.20502  87.1%   103  205s\n",
      " 138763 45957    0.27530   55    4    1.59443    0.20612  87.1%   103  210s\n",
      " 141309 46851    1.46195   62    4    1.59443    0.20787  87.0%   103  215s\n"
     ]
    }
   ],
   "source": [
    "x_0 = np.zeros((box_atlas.n_x, 1))\n",
    "x_0[1,0] = .1\n",
    "x_0[3,0] = .1\n",
    "u, x, ss = box_atlas.controller.feedforward(x_0)[0:3]"
   ]
  },
  {
   "cell_type": "markdown",
   "metadata": {},
   "source": [
    "Closed-loop system simulation of the MPC controller"
   ]
  },
  {
   "cell_type": "code",
   "execution_count": null,
   "metadata": {},
   "outputs": [],
   "source": [
    "N_sim = 30\n",
    "u = []\n",
    "# ['wall_distance_rh', 'qlfx', 'qlfy', 'qrfx', 'qrfy', 'qrhx', 'qrhy', 'qbx', 'qby', 'tb', 'vbx', 'vby', 'ob']\n",
    "x_0 = np.zeros((box_atlas.n_x, 1))\n",
    "x_0[0,0] = .05\n",
    "x_0[10,0] = -1.5\n",
    "x = [x_0]\n",
    "u_ws = None\n",
    "x_ws = None\n",
    "ss_ws = None\n",
    "nominal_mode = box_atlas.get_mode_index(box_atlas.nominal_mode)\n",
    "for k in range(N_sim):\n",
    "    u_k, x_k, ss_k = box_atlas.controller.feedforward(x[k], u_ws, x_ws, ss_ws)[0:3]\n",
    "    print 'Time step ' + str(k) + ': ' + str(ss_k) + '.'\n",
    "    u_ws = u_k[1:] + [box_atlas.K.dot(x_k[-1])]\n",
    "    x_ws = x_k[1:] + [box_atlas.pwa_system.simulate(x_k[-1], [u_ws[-1]])[0][1]]\n",
    "    ss_ws = ss_k[1:] + (nominal_mode,)\n",
    "    x_next = box_atlas.pwa_system.simulate(x[k], [u_k[0]])[0][1]\n",
    "    # print 'Planner-simulator missmatch:', np.linalg.norm(x_next - x_k[1])\n",
    "    u.append(u_k[0])\n",
    "    x.append(x_next)\n",
    "# traj_miqp = Trajectory(x, u, box_atlas.Q, box_atlas.R, box_atlas.P)\n",
    "# np.save('box_atlas_tajectory_miqp_lh', traj_miqp)"
   ]
  },
  {
   "cell_type": "markdown",
   "metadata": {},
   "source": [
    "Visualization of the simulation with Director"
   ]
  },
  {
   "cell_type": "code",
   "execution_count": null,
   "metadata": {},
   "outputs": [],
   "source": [
    "from pympc.models.boxatlas_parameters import dynamics\n",
    "box_atlas.visualize(x[0])\n",
    "time.sleep(10 * dynamics['sampling_time'])\n",
    "for x_t in x:\n",
    "    box_atlas.visualize(x_t)\n",
    "    time.sleep(dynamics['sampling_time'])"
   ]
  },
  {
   "cell_type": "markdown",
   "metadata": {},
   "source": [
    "# Control with Approximate Hybrid MPC"
   ]
  },
  {
   "cell_type": "markdown",
   "metadata": {},
   "source": [
    "Initialization of the library"
   ]
  },
  {
   "cell_type": "code",
   "execution_count": null,
   "metadata": {},
   "outputs": [],
   "source": [
    "library = FeasibleSetLibrary(controller)\n",
    "samples_so_far = 0\n",
    "# library = load_library('library_box_atlas_' + str(samples_so_far))"
   ]
  },
  {
   "cell_type": "markdown",
   "metadata": {},
   "source": [
    "Coverage"
   ]
  },
  {
   "cell_type": "code",
   "execution_count": null,
   "metadata": {},
   "outputs": [],
   "source": [
    "sample_step = 100\n",
    "n_steps = 10\n",
    "for i in range(n_steps):\n",
    "    n = samples_so_far + (i+1)*sample_step\n",
    "    library.sample_policy(sample_step, box_atlas.is_inside_a_domain)\n",
    "    print(str(n) + ' samples added to the library.')\n",
    "    library.save('library_box_atlas_moving_feet_' + str(n))"
   ]
  },
  {
   "cell_type": "markdown",
   "metadata": {},
   "source": [
    "Shifted switching sequences"
   ]
  },
  {
   "cell_type": "code",
   "execution_count": null,
   "metadata": {},
   "outputs": [],
   "source": [
    "library.add_shifted_switching_sequences(nominal_mode)"
   ]
  },
  {
   "cell_type": "markdown",
   "metadata": {},
   "source": [
    "Closed-loop system simulation of the approximate MPC controller"
   ]
  },
  {
   "cell_type": "code",
   "execution_count": null,
   "metadata": {},
   "outputs": [],
   "source": [
    "u = []\n",
    "x = [x_0]\n",
    "ss = []\n",
    "ss_feasible = None\n",
    "for k in range(N_sim):\n",
    "    print 'Time step ' + str(k) + '.'\n",
    "    u_k, ss_k = library.feedback(x[k], ss_feasible, max_qp=10)\n",
    "    u.append(u_k)\n",
    "    x_next = box_atlas.pwa_system.simulate(x[k], [u_k])[0][1]\n",
    "    x.append(x_next)\n",
    "    ss.append(ss_k)\n",
    "    ss_feasible = ss_k[1:] + (nominal_mode,)\n",
    "traj_lib = Trajectory(x, u, box_atlas.Q, box_atlas.R, box_atlas.P)\n",
    "#np.save('box_atlas_tajectory', traj_lib)"
   ]
  }
 ],
 "metadata": {
  "kernelspec": {
   "display_name": "Python 2",
   "language": "python",
   "name": "python2"
  },
  "language_info": {
   "codemirror_mode": {
    "name": "ipython",
    "version": 2
   },
   "file_extension": ".py",
   "mimetype": "text/x-python",
   "name": "python",
   "nbconvert_exporter": "python",
   "pygments_lexer": "ipython2",
   "version": "2.7.12"
  }
 },
 "nbformat": 4,
 "nbformat_minor": 2
}
