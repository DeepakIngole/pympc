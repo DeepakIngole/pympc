{
 "cells": [
  {
   "cell_type": "code",
   "execution_count": 1,
   "metadata": {
    "collapsed": true,
    "deletable": true,
    "editable": true
   },
   "outputs": [],
   "source": [
    "%load_ext autoreload\n",
    "%autoreload 2"
   ]
  },
  {
   "cell_type": "code",
   "execution_count": 2,
   "metadata": {
    "collapsed": false,
    "deletable": true,
    "editable": true
   },
   "outputs": [],
   "source": [
    "import time\n",
    "import numpy as np\n",
    "import matplotlib.pyplot as plt\n",
    "from pympc.models.boxatlas_parametric import BoxAtlas, MovingLimb, FixedLimb, Trajectory\n",
    "from pympc.dynamical_systems import dare, moas_closed_loop\n",
    "from pympc.control import MPCHybridController\n",
    "from pympc.feasible_set_library import FeasibleSetLibrary, load_library\n",
    "from pympc.geometry.polytope import Polytope\n",
    "import pympc.plot as mpc_plt"
   ]
  },
  {
   "cell_type": "markdown",
   "metadata": {
    "deletable": true,
    "editable": true
   },
   "source": [
    "# Construction of Box-Atlas"
   ]
  },
  {
   "cell_type": "markdown",
   "metadata": {
    "deletable": true,
    "editable": true
   },
   "source": [
    "Robot moving limbs"
   ]
  },
  {
   "cell_type": "code",
   "execution_count": 3,
   "metadata": {
    "collapsed": false,
    "deletable": true,
    "editable": true
   },
   "outputs": [],
   "source": [
    "from pympc.models.boxatlas_parameters import weight, stiffness\n",
    "penetration = weight / stiffness\n",
    "\n",
    "# right hand\n",
    "A_rh = {\n",
    "    'not_in_contact': np.array([[-1., 0.],[0., -1.]]),\n",
    "    'in_contact': np.array([[1., 0.],[-1., 0.],[0., -1.]]),\n",
    "}\n",
    "b_rh = {\n",
    "    'not_in_contact': np.array([[.4],[.5]]),\n",
    "    'in_contact': np.array([[-.4],[.4+penetration],[.5]]),\n",
    "}\n",
    "contact_surfaces_rh = {\n",
    "    'not_in_contact': None,\n",
    "    'in_contact': 0,\n",
    "}\n",
    "q_rh = np.array([[-.3], [.0]])\n",
    "rh = MovingLimb(A_rh, b_rh, contact_surfaces_rh, q_rh)\n",
    "\n",
    "# left foot\n",
    "A_lf = {\n",
    "    'not_in_contact': np.array([[0., -1.]]),\n",
    "    'in_contact': np.array([[0., 1.],[0., -1.]]),\n",
    "}\n",
    "b_lf = {\n",
    "    'not_in_contact': np.array([[.5]]),\n",
    "    'in_contact': np.array([[-.5],[.5+2.*penetration]]),\n",
    "}\n",
    "contact_surfaces_lf = {\n",
    "    'not_in_contact': None,\n",
    "    'in_contact': 0,\n",
    "}\n",
    "q_lf = np.array([[.2], [-.5 - penetration / 2.]])\n",
    "lf = MovingLimb(A_lf, b_lf, contact_surfaces_lf, q_lf)\n",
    "\n",
    "# right foot\n",
    "A_rf = {\n",
    "    'not_in_contact': np.array([[-1., 0.],[0., -1.]]),\n",
    "    'in_contact': np.array([[0., 1.],[-1., 0.],[0., -1.]]),\n",
    "}\n",
    "b_rf = {\n",
    "    'not_in_contact': np.array([[.5],[.5]]),\n",
    "    'in_contact': np.array([[-.5],[.5],[.5+2.*penetration]]),\n",
    "}\n",
    "contact_surfaces_rf = {\n",
    "    'not_in_contact': None,\n",
    "    'in_contact': 0,\n",
    "}\n",
    "q_rf = np.array([[-.2], [-.5 - penetration / 2.]])\n",
    "rf = MovingLimb(A_rf, b_rf, contact_surfaces_rf, q_rf)"
   ]
  },
  {
   "cell_type": "markdown",
   "metadata": {
    "deletable": true,
    "editable": true
   },
   "source": [
    "Assemble robot"
   ]
  },
  {
   "cell_type": "code",
   "execution_count": 4,
   "metadata": {
    "collapsed": false,
    "deletable": true,
    "editable": true
   },
   "outputs": [],
   "source": [
    "limbs = { 'moving': {'rh': rh, 'lf': lf, 'rf': rf}, 'fixed': {} }\n",
    "nominal_mode = {'lf': 'in_contact', 'rf': 'in_contact', 'rh': 'not_in_contact'}\n",
    "box_atlas = BoxAtlas(limbs, nominal_mode)"
   ]
  },
  {
   "cell_type": "markdown",
   "metadata": {
    "deletable": true,
    "editable": true
   },
   "source": [
    "Print state, input, and modes (a mode indicates in which domain each moving limb is, domains are numbered as they are listed in the limb list)"
   ]
  },
  {
   "cell_type": "code",
   "execution_count": 5,
   "metadata": {
    "collapsed": false,
    "deletable": true,
    "editable": true
   },
   "outputs": [
    {
     "name": "stdout",
     "output_type": "stream",
     "text": [
      "Box-Atlas states:\n",
      "['qlfx', 'qlfy', 'qrfx', 'qrfy', 'qrhx', 'qrhy', 'qbx', 'qby', 'tb', 'vbx', 'vby', 'ob']\n",
      "Box-Atlas inputs:\n",
      "['vlfx', 'vlfy', 'vrfx', 'vrfy', 'vrhx', 'vrhy']\n",
      "Box-atlas modes:\n",
      "[{'lf': 'not_in_contact', 'rf': 'not_in_contact', 'rh': 'not_in_contact'}, {'lf': 'not_in_contact', 'rf': 'not_in_contact', 'rh': 'in_contact'}, {'lf': 'not_in_contact', 'rf': 'in_contact', 'rh': 'not_in_contact'}, {'lf': 'not_in_contact', 'rf': 'in_contact', 'rh': 'in_contact'}, {'lf': 'in_contact', 'rf': 'not_in_contact', 'rh': 'not_in_contact'}, {'lf': 'in_contact', 'rf': 'not_in_contact', 'rh': 'in_contact'}, {'lf': 'in_contact', 'rf': 'in_contact', 'rh': 'not_in_contact'}, {'lf': 'in_contact', 'rf': 'in_contact', 'rh': 'in_contact'}]\n"
     ]
    }
   ],
   "source": [
    "box_atlas.print_state_labels()\n",
    "box_atlas.print_input_labels()\n",
    "print 'Box-atlas modes:\\n', box_atlas.contact_modes"
   ]
  },
  {
   "cell_type": "markdown",
   "metadata": {
    "deletable": true,
    "editable": true
   },
   "source": [
    "# Hybrid MPC Controller"
   ]
  },
  {
   "cell_type": "code",
   "execution_count": 6,
   "metadata": {
    "collapsed": false,
    "deletable": true,
    "editable": true
   },
   "outputs": [
    {
     "name": "stdout",
     "output_type": "stream",
     "text": [
      "Computation of Maximal Invariant Constraint-Admissible Set started.\n",
      "Determinedness index: 6, Convergence index: -0.000598162798726, Number of facets: 210.    \n",
      "Maximal Invariant Constraint-Admissible Set found.\n",
      "Removing redundant facets ... minimal facets are 71.\n"
     ]
    }
   ],
   "source": [
    "from pympc.geometry.polytope import LowerDimensionalPolytope\n",
    "from pympc.control import canonical_reachability_decomposition\n",
    "\n",
    "crd = canonical_reachability_decomposition(\n",
    "    box_atlas.nominal_system.A,\n",
    "    box_atlas.nominal_system.B\n",
    "    )\n",
    "n_R, T, T_R, T_N, A_RR, B_R = [crd['n_R'], crd['T'], crd['T_R'], crd['T_N'], crd['A_RR'], crd['B_R']]\n",
    "Q_R = T_R.T.dot(box_atlas.Q).dot(T_R)\n",
    "P_R, K_R = dare(A_RR, B_R, Q_R, box_atlas.R)\n",
    "#print np.linalg.eig(A_RR + B_R.dot(K_R))[0]\n",
    "D_lhs_x = box_atlas.nominal_domain.lhs_min[:,:box_atlas.n_x]\n",
    "D_lhs_u = box_atlas.nominal_domain.lhs_min[:,box_atlas.n_x:]\n",
    "D_lhs_R = np.hstack((D_lhs_x.dot(T_R), D_lhs_u))\n",
    "D_R = Polytope(\n",
    "    D_lhs_R,\n",
    "    box_atlas.nominal_domain.rhs_min\n",
    "    )\n",
    "D_R.assemble()\n",
    "X_N_R = moas_closed_loop(A_RR, B_R, K_R, D_R)\n",
    "T_inv = np.linalg.inv(T)\n",
    "T_inv_R = T_inv[:n_R,:]\n",
    "T_inv_N = T_inv[n_R:,:]\n",
    "X_N = LowerDimensionalPolytope(\n",
    "    X_N_R.lhs_min.dot(T_inv_R),\n",
    "    X_N_R.rhs_min,\n",
    "    T_inv_N,\n",
    "    np.zeros((T_inv_N.shape[0], 1))\n",
    "    )\n",
    "P = T_inv_R.T.dot(P_R).dot(T_inv_R)\n",
    "K = K_R.dot(T_inv_R)"
   ]
  },
  {
   "cell_type": "markdown",
   "metadata": {
    "deletable": true,
    "editable": true
   },
   "source": [
    "Hybrid MPC controller"
   ]
  },
  {
   "cell_type": "code",
   "execution_count": 7,
   "metadata": {
    "collapsed": false,
    "deletable": true,
    "editable": true
   },
   "outputs": [
    {
     "name": "stdout",
     "output_type": "stream",
     "text": [
      "Parameter OutputFlag unchanged\n",
      "   Value: 1  Min: 0  Max: 1  Default: 1\n",
      "Changed value of parameter MIPGap to 1e-06\n",
      "   Prev: 0.0001  Min: 0.0  Max: 1e+100  Default: 0.0001\n"
     ]
    }
   ],
   "source": [
    "N = 10\n",
    "objective_norm = 'two'\n",
    "controller = MPCHybridController(box_atlas.pwa_system, N, objective_norm, box_atlas.Q, box_atlas.R, P, X_N)"
   ]
  },
  {
   "cell_type": "markdown",
   "metadata": {
    "deletable": true,
    "editable": true
   },
   "source": [
    "Trick to avoid forbidden transitions"
   ]
  },
  {
   "cell_type": "code",
   "execution_count": null,
   "metadata": {
    "collapsed": false,
    "deletable": true,
    "editable": true
   },
   "outputs": [],
   "source": [
    "controller = box_atlas.avoid_forbidden_transitions(controller)"
   ]
  },
  {
   "cell_type": "markdown",
   "metadata": {
    "deletable": true,
    "editable": true
   },
   "source": [
    "## Visualizer"
   ]
  },
  {
   "cell_type": "code",
   "execution_count": null,
   "metadata": {
    "collapsed": false,
    "deletable": true,
    "editable": true
   },
   "outputs": [
    {
     "name": "stdout",
     "output_type": "stream",
     "text": [
      "Optimize a model with 6885 rows, 1232 columns and 34021 nonzeros\n",
      "Model has 297 quadratic objective terms\n",
      "Model has 10 SOS constraints\n",
      "Variable types: 1152 continuous, 80 integer (80 binary)\n",
      "Coefficient statistics:\n",
      "  Matrix range     [7e-05, 3e+01]\n",
      "  Objective range  [0e+00, 0e+00]\n",
      "  QObjective range [1e-03, 2e+03]\n",
      "  Bounds range     [1e+00, 1e+00]\n",
      "  RHS range        [6e-19, 2e+00]\n",
      "Presolve removed 2929 rows and 118 columns\n",
      "Presolve time: 0.10s\n",
      "Presolved: 3956 rows, 1114 columns, 24991 nonzeros\n",
      "Presolved model has 274 quadratic objective terms\n",
      "Variable types: 1042 continuous, 72 integer (72 binary)\n",
      "\n",
      "Root relaxation: objective 3.963733e-02, 7044 iterations, 0.34 seconds\n",
      "\n",
      "    Nodes    |    Current Node    |     Objective Bounds      |     Work\n",
      " Expl Unexpl |  Obj  Depth IntInf | Incumbent    BestBd   Gap | It/Node Time\n",
      "\n",
      "     0     0    0.03964    0   23          -    0.03964      -     -    0s\n",
      "H    0     0                       9.9369285    0.03964   100%     -    0s\n",
      "H    0     0                       6.4433667    0.03964  99.4%     -    0s\n",
      "     0     0    0.03964    0   24    6.44337    0.03964  99.4%     -    0s\n",
      "     0     0    0.03975    0   24    6.44337    0.03975  99.4%     -    0s\n",
      "     0     0    0.03975    0   25    6.44337    0.03975  99.4%     -    0s\n",
      "     0     0    0.03975    0   25    6.44337    0.03975  99.4%     -    0s\n",
      "     0     0    0.03975    0   24    6.44337    0.03975  99.4%     -    0s\n",
      "     0     0    0.03975    0   25    6.44337    0.03975  99.4%     -    1s\n",
      "     0     0    0.03979    0   25    6.44337    0.03979  99.4%     -    1s\n",
      "     0     2    0.03979    0   25    6.44337    0.03979  99.4%     -    1s\n",
      "H   29    30                       2.7544589    0.05836  97.9%  41.1    1s\n",
      "H   96    98                       2.3728730    0.05836  97.5%  46.0    1s\n",
      "*  242   213              42       1.9914259    0.06168  96.9%  87.7    2s\n"
     ]
    }
   ],
   "source": [
    "# ['qlfx', 'qlfy', 'qrfx', 'qrfy', 'qrhx', 'qrhy', 'qbx', 'qby', 'tb', 'vbx', 'vby', 'ob']\n",
    "x_0 = np.zeros((box_atlas.n_x, 1))\n",
    "x_0[0,0] = .1\n",
    "x_0[2,0] = .1\n",
    "u, x, ss = controller.feedforward(x_0)[0:3]"
   ]
  },
  {
   "cell_type": "code",
   "execution_count": null,
   "metadata": {
    "collapsed": false,
    "deletable": true,
    "editable": true
   },
   "outputs": [],
   "source": [
    "from pympc.models.boxatlas_parameters import sampling_time\n",
    "\n",
    "box_atlas.visualize(x[0])\n",
    "time.sleep(20 * sampling_time)\n",
    "for k in range(N):\n",
    "    box_atlas.visualize(x[k])\n",
    "    time.sleep(sampling_time)"
   ]
  },
  {
   "cell_type": "code",
   "execution_count": null,
   "metadata": {
    "collapsed": false,
    "deletable": true,
    "editable": true
   },
   "outputs": [],
   "source": [
    "print ss\n",
    "box_atlas.print_mode_sequence(ss)"
   ]
  },
  {
   "cell_type": "markdown",
   "metadata": {},
   "source": [
    "# ['qrhx', 'qrhy', 'qbx', 'qby', 'tb', 'vbx', 'vby', 'ob']\n",
    "x_test = np.array([\n",
    "    [0.], # 'qlfx'\n",
    "    [0.], # 'qlfy'\n",
    "    [0.], # 'qrfx'\n",
    "    [0.], # 'qrfy'\n",
    "    [0.], # 'qrhx'\n",
    "    [0.], # 'qrhy'\n",
    "    [0.], # 'qbx'\n",
    "    [0.], # 'qby'\n",
    "    [0.], # 'tb'\n",
    "    [0.], # 'vbx'\n",
    "    [0.], # 'vby'\n",
    "    [0.] # 'ob'\n",
    "])\n",
    "box_atlas.visualize(x_test)"
   ]
  }
 ],
 "metadata": {
  "kernelspec": {
   "display_name": "Python 2",
   "language": "python",
   "name": "python2"
  },
  "language_info": {
   "codemirror_mode": {
    "name": "ipython",
    "version": 2
   },
   "file_extension": ".py",
   "mimetype": "text/x-python",
   "name": "python",
   "nbconvert_exporter": "python",
   "pygments_lexer": "ipython2",
   "version": "2.7.13"
  }
 },
 "nbformat": 4,
 "nbformat_minor": 2
}
