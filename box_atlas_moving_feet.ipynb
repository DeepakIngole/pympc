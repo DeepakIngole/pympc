{
 "cells": [
  {
   "cell_type": "code",
   "execution_count": 1,
   "metadata": {
    "collapsed": false,
    "deletable": true,
    "editable": true
   },
   "outputs": [],
   "source": [
    "%load_ext autoreload\n",
    "%autoreload 2"
   ]
  },
  {
   "cell_type": "code",
   "execution_count": 2,
   "metadata": {
    "collapsed": false,
    "deletable": true,
    "editable": true
   },
   "outputs": [],
   "source": [
    "import time\n",
    "import numpy as np\n",
    "import matplotlib.pyplot as plt\n",
    "from pympc.models.boxatlas_parametric import BoxAtlas, MovingLimb, FixedLimb, Trajectory\n",
    "from pympc.approximated_controller import ApproximatedHybridModelPredictiveController, FeasibleSetLibrary, upload_FeasibleSetLibrary\n",
    "from pympc.geometry.polytope import Polytope\n",
    "import pympc.plot as mpc_plt"
   ]
  },
  {
   "cell_type": "markdown",
   "metadata": {
    "deletable": true,
    "editable": true
   },
   "source": [
    "# Construction of Box-Atlas"
   ]
  },
  {
   "cell_type": "markdown",
   "metadata": {
    "deletable": true,
    "editable": true
   },
   "source": [
    "Robot's limbs"
   ]
  },
  {
   "cell_type": "code",
   "execution_count": 3,
   "metadata": {
    "collapsed": true,
    "deletable": true,
    "editable": true
   },
   "outputs": [],
   "source": [
    "from pympc.models.boxatlas_parameters import dynamics\n",
    "penetration = dynamics['mass'] * dynamics['gravity'] / dynamics['normal_stiffness']\n",
    "\n",
    "# right hand\n",
    "A_rh = {\n",
    "    'not_in_contact': np.array([[-1., 0.],[0., -1.]]),\n",
    "    'in_contact': np.array([[1., 0.],[-1., 0.],[0., -1.]]),\n",
    "}\n",
    "b_rh = {\n",
    "    'not_in_contact': np.array([[.4],[.5]]),\n",
    "    'in_contact': np.array([[-.4],[.4+penetration],[.5]]),\n",
    "}\n",
    "contact_surfaces_rh = {\n",
    "    'not_in_contact': None,\n",
    "    'in_contact': 0,\n",
    "}\n",
    "q_rh = np.array([[-.3], [.0]])\n",
    "parametric_wall_distance = {\n",
    "    'label': 'wall_distance_rh',\n",
    "    'not_in_contact': {'index': [0], 'coefficient': [1.]},\n",
    "    'in_contact': {'index': [0, 1], 'coefficient': [-1., 1.]},\n",
    "    'min': -.05,\n",
    "    'max': .05,\n",
    "} # if positive moves the wall away from the body\n",
    "parameters_rh = [parametric_wall_distance]\n",
    "rh = MovingLimb(A_rh, b_rh, contact_surfaces_rh, q_rh, parameters=parameters_rh)\n",
    "\n",
    "# left foot\n",
    "A_lf = {\n",
    "    'not_in_contact': np.array([[0., -1.]]),\n",
    "    'in_contact': np.array([[0., 1.],[0., -1.]]),\n",
    "}\n",
    "b_lf = {\n",
    "    'not_in_contact': np.array([[.5]]),\n",
    "    'in_contact': np.array([[-.5],[.5+2.*penetration]]),\n",
    "}\n",
    "contact_surfaces_lf = {\n",
    "    'not_in_contact': None,\n",
    "    'in_contact': 0,\n",
    "}\n",
    "q_lf = np.array([[.2], [-.5 - penetration / 2.]])\n",
    "lf = MovingLimb(A_lf, b_lf, contact_surfaces_lf, q_lf)\n",
    "\n",
    "# right foot\n",
    "A_rf = {\n",
    "    'not_in_contact': np.array([[-1., 0.],[0., -1.]]),\n",
    "    'in_contact': np.array([[0., 1.],[-1., 0.],[0., -1.]]),\n",
    "}\n",
    "b_rf = {\n",
    "    'not_in_contact': np.array([[.5],[.5]]),\n",
    "    'in_contact': np.array([[-.5],[.5],[.5+2.*penetration]]),\n",
    "}\n",
    "contact_surfaces_rf = {\n",
    "    'not_in_contact': None,\n",
    "    'in_contact': 0,\n",
    "}\n",
    "q_rf = np.array([[-.2], [-.5 - penetration / 2.]])\n",
    "rf = MovingLimb(A_rf, b_rf, contact_surfaces_rf, q_rf)"
   ]
  },
  {
   "cell_type": "markdown",
   "metadata": {
    "deletable": true,
    "editable": true
   },
   "source": [
    "Assemble robot"
   ]
  },
  {
   "cell_type": "code",
   "execution_count": 4,
   "metadata": {
    "collapsed": false,
    "deletable": true,
    "editable": true
   },
   "outputs": [
    {
     "name": "stdout",
     "output_type": "stream",
     "text": [
      "Computation of Maximal Invariant Constraint-Admissible Set started.\n",
      "Determinedness index: 6, Convergence index: 0.0, Number of facets: 231.                             \n",
      "Maximal Invariant Constraint-Admissible Set found.\n",
      "Removing redundant facets ... minimal facets are 77.\n",
      "Changed value of parameter TimeLimit to 600.0\n",
      "   Prev: 1e+100  Min: 0.0  Max: 1e+100  Default: 1e+100\n",
      "Parameter FeasibilityTol unchanged\n",
      "   Value: 1e-06  Min: 1e-09  Max: 0.01  Default: 1e-06\n",
      "Parameter NumericFocus unchanged\n",
      "   Value: 0  Min: 0  Max: 3  Default: 0\n",
      "Parameter OptimalityTol unchanged\n",
      "   Value: 1e-06  Min: 1e-09  Max: 0.01  Default: 1e-06\n",
      "Parameter MIPGap unchanged\n",
      "   Value: 0.0001  Min: 0.0  Max: 1e+100  Default: 0.0001\n",
      "Parameter IntFeasTol unchanged\n",
      "   Value: 1e-05  Min: 1e-09  Max: 0.1  Default: 1e-05\n",
      "Parameter MIPFocus unchanged\n",
      "   Value: 0  Min: 0  Max: 3  Default: 0\n",
      "Parameter OutputFlag unchanged\n",
      "   Value: 1  Min: 0  Max: 1  Default: 1\n"
     ]
    }
   ],
   "source": [
    "limbs = { 'moving': {'rh': rh, 'lf': lf, 'rf': rf}, 'fixed': {} }\n",
    "nominal_mode = {'lf': 'in_contact', 'rf': 'in_contact', 'rh': 'not_in_contact'}\n",
    "forbidden_modes = [{'lf': 'not_in_contact', 'rf': 'not_in_contact'}]\n",
    "box_atlas = BoxAtlas(limbs, nominal_mode, forbidden_modes)"
   ]
  },
  {
   "cell_type": "markdown",
   "metadata": {
    "deletable": true,
    "editable": true
   },
   "source": [
    "Print state, input, and modes"
   ]
  },
  {
   "cell_type": "code",
   "execution_count": 5,
   "metadata": {
    "collapsed": false,
    "deletable": true,
    "editable": true
   },
   "outputs": [
    {
     "name": "stdout",
     "output_type": "stream",
     "text": [
      "\n",
      "Box-Atlas states:\n",
      "0: wall_distance_rh\n",
      "1: qlfx\n",
      "2: qlfy\n",
      "3: qrfx\n",
      "4: qrfy\n",
      "5: qrhx\n",
      "6: qrhy\n",
      "7: qbx\n",
      "8: qby\n",
      "9: tb\n",
      "10: vbx\n",
      "11: vby\n",
      "12: ob\n",
      "\n",
      "Box-Atlas inputs:\n",
      "0: vlfx\n",
      "1: vlfy\n",
      "2: vrfx\n",
      "3: vrfy\n",
      "4: vrhx\n",
      "5: vrhy\n",
      "\n",
      "Box-atlas modes:\n",
      "0: {'lf': 'not_in_contact', 'rf': 'in_contact', 'rh': 'not_in_contact'}\n",
      "1: {'lf': 'not_in_contact', 'rf': 'in_contact', 'rh': 'in_contact'}\n",
      "2: {'lf': 'in_contact', 'rf': 'not_in_contact', 'rh': 'not_in_contact'}\n",
      "3: {'lf': 'in_contact', 'rf': 'not_in_contact', 'rh': 'in_contact'}\n",
      "4: {'lf': 'in_contact', 'rf': 'in_contact', 'rh': 'not_in_contact'}\n",
      "5: {'lf': 'in_contact', 'rf': 'in_contact', 'rh': 'in_contact'}\n"
     ]
    }
   ],
   "source": [
    "box_atlas.print_state_labels()\n",
    "box_atlas.print_input_labels()\n",
    "box_atlas.print_modes()"
   ]
  },
  {
   "cell_type": "markdown",
   "metadata": {
    "deletable": true,
    "editable": true
   },
   "source": [
    "# Hybrid MPC"
   ]
  },
  {
   "cell_type": "code",
   "execution_count": 6,
   "metadata": {
    "collapsed": false,
    "deletable": true,
    "editable": true
   },
   "outputs": [
    {
     "name": "stdout",
     "output_type": "stream",
     "text": [
      "Optimize a model with 5632 rows, 1043 columns and 23246 nonzeros\n",
      "Model has 297 quadratic objective terms\n",
      "Model has 10 SOS constraints\n",
      "Variable types: 983 continuous, 60 integer (60 binary)\n",
      "Coefficient statistics:\n",
      "  Matrix range     [3e-06, 5e+01]\n",
      "  Objective range  [0e+00, 0e+00]\n",
      "  QObjective range [3e-04, 2e+03]\n",
      "  Bounds range     [1e+00, 1e+00]\n",
      "  RHS range        [1e-02, 2e+00]\n",
      "Presolve removed 2440 rows and 116 columns\n",
      "Presolve time: 0.07s\n",
      "Presolved: 3192 rows, 927 columns, 17195 nonzeros\n",
      "Presolved model has 274 quadratic objective terms\n",
      "Variable types: 873 continuous, 54 integer (54 binary)\n",
      "\n",
      "Root relaxation: objective 3.351391e+00, 6541 iterations, 0.37 seconds\n",
      "\n",
      "    Nodes    |    Current Node    |     Objective Bounds      |     Work\n",
      " Expl Unexpl |  Obj  Depth IntInf | Incumbent    BestBd   Gap | It/Node Time\n",
      "\n",
      "     0     0    3.35139    0   20          -    3.35139      -     -    0s\n",
      "H    0     0                       4.0618660    3.35139  17.5%     -    0s\n",
      "     0     0    3.35139    0   21    4.06187    3.35139  17.5%     -    0s\n",
      "     0     0    3.35139    0   22    4.06187    3.35139  17.5%     -    0s\n",
      "     0     0    3.35143    0   22    4.06187    3.35143  17.5%     -    0s\n",
      "     0     0    3.35325    0   22    4.06187    3.35325  17.4%     -    0s\n",
      "     0     0    3.35502    0   22    4.06187    3.35502  17.4%     -    0s\n",
      "     0     0    3.36115    0   22    4.06187    3.36115  17.3%     -    0s\n",
      "     0     0    3.36115    0   22    4.06187    3.36115  17.3%     -    0s\n",
      "     0     0    3.36188    0   21    4.06187    3.36188  17.2%     -    1s\n",
      "     0     2    3.36188    0   21    4.06187    3.36188  17.2%     -    1s\n",
      "   736   407    3.86256   16   24    4.06187    3.84493  5.34%  77.0    5s\n",
      "H 1608   579                       4.0618631    3.87103  4.70%  79.9    9s\n",
      "H 1801   557                       4.0602724    3.87270  4.62%  80.2    9s\n",
      "  1866   582    4.01068   35    9    4.06027    3.87270  4.62%  80.3   10s\n",
      "  3156  1033    4.03127   33   10    4.06027    3.88864  4.23%  84.3   15s\n",
      "  5249  1862    4.03954   36    6    4.06027    3.89331  4.11%  79.6   20s\n",
      "  6739  2286     cutoff   40         4.06027    3.90046  3.94%  79.5   25s\n",
      "  8880  2963    4.03640   42    2    4.06027    3.90949  3.71%  78.6   30s\n",
      " 10787  3720    3.97553   34    9    4.06027    3.91296  3.63%  78.0   35s\n",
      " 12952  4585     cutoff   44         4.06027    3.91515  3.57%  78.0   40s\n",
      " 15139  5386    4.03367   34    6    4.06027    3.91822  3.50%  77.3   45s\n",
      " 17179  5970    4.01095   29    6    4.06027    3.92305  3.38%  77.6   50s\n",
      " 19420  6465     cutoff   36         4.06027    3.93249  3.15%  77.5   55s\n",
      " 21602  6971    3.96959   37    2    4.06027    3.93575  3.07%  77.4   60s\n",
      "H23543  7319                       4.0599372    3.94322  2.87%  77.5   64s\n",
      " 23601  7347     cutoff   41         4.05994    3.94322  2.87%  77.5   68s\n",
      "H23606  7341                       4.0597448    3.94322  2.87%  77.5   68s\n",
      " 24056  7384    4.03369   34    6    4.05974    3.94565  2.81%  77.5   70s\n",
      " 26202  7884    3.95335   34    6    4.05974    3.95297  2.63%  77.4   75s\n",
      " 28710  8277     cutoff   29         4.05974    3.96092  2.43%  77.5   80s\n",
      " 30968  8544    4.04147   38    6    4.05974    3.96604  2.31%  77.9   85s\n",
      " 32848  8558     cutoff   39         4.05974    3.96971  2.22%  78.9   90s\n",
      " 35153  8635    4.02610   31    7    4.05974    3.97506  2.09%  79.5   95s\n",
      " 37162  8593     cutoff   35         4.05974    3.97997  1.96%  80.2  100s\n",
      " 39280  8643     cutoff   30         4.05974    3.98372  1.87%  80.6  105s\n",
      " 41542  8627    4.03961   39   10    4.05974    3.98862  1.75%  81.0  110s\n",
      " 43856  8558    3.99799   32    8    4.05974    3.99344  1.63%  81.7  115s\n",
      " 46490  8416     cutoff   33         4.05974    3.99906  1.49%  82.2  120s\n",
      " 48866  8200    4.02237   38    5    4.05974    4.00476  1.35%  82.6  125s\n",
      " 51307  7923     cutoff   29         4.05974    4.00960  1.24%  83.2  130s\n",
      " 53706  7596     cutoff   40         4.05974    4.01244  1.17%  83.6  135s\n",
      " 55969  7112     cutoff   34         4.05974    4.01732  1.05%  84.0  140s\n",
      " 58445  6694     cutoff   34         4.05974    4.02300  0.91%  84.1  145s\n",
      " 60743  6213     cutoff   48         4.05974    4.02680  0.81%  84.7  150s\n",
      " 62746  5777     cutoff   33         4.05974    4.02972  0.74%  85.1  155s\n",
      " 65026  5292     cutoff   43         4.05974    4.03362  0.64%  85.5  160s\n",
      " 67538  4707     cutoff   49         4.05974    4.03719  0.56%  85.8  165s\n",
      " 69813  4019     cutoff   32         4.05974    4.04119  0.46%  86.1  170s\n",
      " 71995  3221     cutoff   34         4.05974    4.04584  0.34%  86.4  175s\n",
      " 74111  2311     cutoff   39         4.05974    4.05006  0.24%  86.7  180s\n",
      " 75809  1704     cutoff   37         4.05974    4.05287  0.17%  86.8  185s\n",
      " 78174   773     cutoff   47         4.05974    4.05683  0.07%  86.9  190s\n",
      "\n",
      "Explored 79440 nodes (6905006 simplex iterations) in 192.64 seconds\n",
      "Thread count was 4 (of 4 available processors)\n",
      "\n",
      "Solution count 5: 4.05974 4.05994 4.06027 ... 4.06187\n",
      "\n",
      "Optimal solution found (tolerance 1.00e-04)\n",
      "Best objective 4.059744797218e+00, best bound 4.059429596445e+00, gap 0.0078%\n"
     ]
    }
   ],
   "source": [
    "x_0 = np.zeros((box_atlas.n_x, 1))\n",
    "x_0[0,0] = 0.\n",
    "x_0[10,0] = -1.5\n",
    "u, x, ss = box_atlas.controller.feedforward(x_0)[0:3]"
   ]
  },
  {
   "cell_type": "markdown",
   "metadata": {
    "deletable": true,
    "editable": true
   },
   "source": [
    "Closed-loop system simulation of the MPC controller"
   ]
  },
  {
   "cell_type": "code",
   "execution_count": null,
   "metadata": {
    "collapsed": false,
    "deletable": true,
    "editable": true
   },
   "outputs": [],
   "source": [
    "N_sim = 50\n",
    "u = []\n",
    "# ['wall_distance_rh', 'qlfx', 'qlfy', 'qrfx', 'qrfy', 'qrhx', 'qrhy', 'qbx', 'qby', 'tb', 'vbx', 'vby', 'ob']\n",
    "x_0 = np.zeros((box_atlas.n_x, 1))\n",
    "x_0[1,0] = .15\n",
    "x_0[3,0] = .15\n",
    "x = [x_0]\n",
    "u_ws = None\n",
    "x_ws = None\n",
    "ss_ws = None\n",
    "nominal_mode = box_atlas.get_mode_index(box_atlas.nominal_mode)\n",
    "for k in range(N_sim):\n",
    "    u_k, x_k, ss_k = box_atlas.controller.feedforward(x[k], u_ws, x_ws, ss_ws)[0:3]\n",
    "    print 'Time step ' + str(k) + ': ' + str(ss_k) + '.'\n",
    "    u_ws = u_k[1:] + [box_atlas.K.dot(x_k[-1])]\n",
    "    x_ws = x_k[1:] + [box_atlas.pwa_system.simulate(x_k[-1], [u_ws[-1]])[0][1]]\n",
    "    ss_ws = ss_k[1:] + (nominal_mode,)\n",
    "    x_next = box_atlas.pwa_system.simulate(x[k], [u_k[0]])[0][1]\n",
    "    # print 'Planner-simulator missmatch:', np.linalg.norm(x_next - x_k[1])\n",
    "    u.append(u_k[0])\n",
    "    x.append(x_next)\n",
    "# traj_miqp = Trajectory(x, u, box_atlas.Q, box_atlas.R, box_atlas.P)\n",
    "# np.save('box_atlas_tajectory_miqp_lh', traj_miqp)"
   ]
  },
  {
   "cell_type": "markdown",
   "metadata": {
    "deletable": true,
    "editable": true
   },
   "source": [
    "Visualization of the simulation with Director"
   ]
  },
  {
   "cell_type": "code",
   "execution_count": 7,
   "metadata": {
    "collapsed": true,
    "deletable": true,
    "editable": true
   },
   "outputs": [],
   "source": [
    "from pympc.models.boxatlas_parameters import dynamics\n",
    "box_atlas.visualize(x[0])\n",
    "time.sleep(10 * dynamics['sampling_time'])\n",
    "for x_t in x:\n",
    "    box_atlas.visualize(x_t)\n",
    "    time.sleep(dynamics['sampling_time'])"
   ]
  },
  {
   "cell_type": "code",
   "execution_count": null,
   "metadata": {
    "collapsed": true,
    "deletable": true,
    "editable": true
   },
   "outputs": [],
   "source": [
    "box_atlas.print_mode_sequence(ss)"
   ]
  },
  {
   "cell_type": "markdown",
   "metadata": {
    "deletable": true,
    "editable": true
   },
   "source": [
    "# Approximate Hybrid MPC"
   ]
  },
  {
   "cell_type": "markdown",
   "metadata": {
    "deletable": true,
    "editable": true
   },
   "source": [
    "Initialization of the library"
   ]
  },
  {
   "cell_type": "code",
   "execution_count": null,
   "metadata": {
    "collapsed": false,
    "deletable": true,
    "editable": true
   },
   "outputs": [],
   "source": [
    "library = FeasibleSetLibrary(box_atlas.controller, mode_sequences=dict())\n",
    "samples_so_far = 0\n",
    "if samples_so_far > 0:\n",
    "    library = upload_FeasibleSetLibrary('library_box_atlas_moving_feet_' + str(samples_so_far))"
   ]
  },
  {
   "cell_type": "markdown",
   "metadata": {
    "deletable": true,
    "editable": true
   },
   "source": [
    "Coverage"
   ]
  },
  {
   "cell_type": "code",
   "execution_count": null,
   "metadata": {
    "collapsed": false,
    "deletable": true,
    "editable": true
   },
   "outputs": [],
   "source": [
    "sample_step = 10\n",
    "n_steps = 1\n",
    "for i in range(n_steps):\n",
    "    n = samples_so_far + (i+1)*sample_step\n",
    "    library.sample_policy(sample_step, box_atlas.is_inside_a_domain)\n",
    "    print(str(n) + ' samples added to the library.')\n",
    "    library.save('library_box_atlas_moving_feet_' + str(n))"
   ]
  },
  {
   "cell_type": "markdown",
   "metadata": {
    "deletable": true,
    "editable": true
   },
   "source": [
    "Synthesize approximated contoller"
   ]
  },
  {
   "cell_type": "code",
   "execution_count": null,
   "metadata": {
    "collapsed": false,
    "deletable": true,
    "editable": true
   },
   "outputs": [],
   "source": [
    "approximated_controller = ApproximatedHybridModelPredictiveController(library, box_atlas.get_mode_index(nominal_mode))"
   ]
  },
  {
   "cell_type": "markdown",
   "metadata": {
    "deletable": true,
    "editable": true
   },
   "source": [
    "Closed-loop system simulation of the approximate MPC controller"
   ]
  },
  {
   "cell_type": "code",
   "execution_count": null,
   "metadata": {
    "collapsed": true,
    "deletable": true,
    "editable": true
   },
   "outputs": [],
   "source": [
    "u = []\n",
    "x = [x_0]\n",
    "ss = []\n",
    "ss_feasible = None\n",
    "for k in range(N_sim):\n",
    "    print 'Time step ' + str(k) + '.'\n",
    "    u_k, ss_k = library.feedback(x[k], ss_feasible, max_qp=10)\n",
    "    u.append(u_k)\n",
    "    x_next = box_atlas.pwa_system.simulate(x[k], [u_k])[0][1]\n",
    "    x.append(x_next)\n",
    "    ss.append(ss_k)\n",
    "    ss_feasible = ss_k[1:] + (nominal_mode,)\n",
    "traj_lib = Trajectory(x, u, box_atlas.Q, box_atlas.R, box_atlas.P)\n",
    "#np.save('box_atlas_tajectory', traj_lib)"
   ]
  }
 ],
 "metadata": {
  "kernelspec": {
   "display_name": "Python 2",
   "language": "python",
   "name": "python2"
  },
  "language_info": {
   "codemirror_mode": {
    "name": "ipython",
    "version": 2
   },
   "file_extension": ".py",
   "mimetype": "text/x-python",
   "name": "python",
   "nbconvert_exporter": "python",
   "pygments_lexer": "ipython2",
   "version": "2.7.13"
  }
 },
 "nbformat": 4,
 "nbformat_minor": 2
}
