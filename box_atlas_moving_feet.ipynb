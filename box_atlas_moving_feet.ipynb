{
 "cells": [
  {
   "cell_type": "code",
   "execution_count": 1,
   "metadata": {
    "collapsed": true,
    "deletable": true,
    "editable": true
   },
   "outputs": [],
   "source": [
    "%load_ext autoreload\n",
    "%autoreload 2"
   ]
  },
  {
   "cell_type": "code",
   "execution_count": 2,
   "metadata": {
    "collapsed": true,
    "deletable": true,
    "editable": true
   },
   "outputs": [],
   "source": [
    "import time\n",
    "import numpy as np\n",
    "import matplotlib.pyplot as plt\n",
    "from pympc.models.boxatlas_parametric import BoxAtlas, MovingLimb, FixedLimb, Trajectory\n",
    "from pympc.control import MPCHybridController\n",
    "from pympc.feasible_set_library import FeasibleSetLibrary, load_library\n",
    "from pympc.geometry.polytope import Polytope\n",
    "import pympc.plot as mpc_plt"
   ]
  },
  {
   "cell_type": "markdown",
   "metadata": {
    "deletable": true,
    "editable": true
   },
   "source": [
    "# Construction of Box-Atlas"
   ]
  },
  {
   "cell_type": "markdown",
   "metadata": {
    "deletable": true,
    "editable": true
   },
   "source": [
    "Robot's limbs"
   ]
  },
  {
   "cell_type": "code",
   "execution_count": 3,
   "metadata": {
    "collapsed": true,
    "deletable": true,
    "editable": true
   },
   "outputs": [],
   "source": [
    "from pympc.models.boxatlas_parameters import dynamics\n",
    "penetration = dynamics['mass'] * dynamics['gravity'] / dynamics['normal_stiffness']\n",
    "\n",
    "# right hand\n",
    "A_rh = {\n",
    "    'not_in_contact': np.array([[-1., 0.],[0., -1.]]),\n",
    "    'in_contact': np.array([[1., 0.],[-1., 0.],[0., -1.]]),\n",
    "}\n",
    "b_rh = {\n",
    "    'not_in_contact': np.array([[.4],[.5]]),\n",
    "    'in_contact': np.array([[-.4],[.4+penetration],[.5]]),\n",
    "}\n",
    "contact_surfaces_rh = {\n",
    "    'not_in_contact': None,\n",
    "    'in_contact': 0,\n",
    "}\n",
    "q_rh = np.array([[-.3], [.0]])\n",
    "parametric_wall_distance = {\n",
    "    'label': 'wall_distance_rh',\n",
    "    'not_in_contact': {'index': [0], 'coefficient': [1.]},\n",
    "    'in_contact': {'index': [0, 1], 'coefficient': [-1., 1.]},\n",
    "    'min': -.05,\n",
    "    'max': .05,\n",
    "} # if positive moves the wall away from the body\n",
    "parameters_rh = [parametric_wall_distance]\n",
    "rh = MovingLimb(A_rh, b_rh, contact_surfaces_rh, q_rh, parameters=parameters_rh)\n",
    "\n",
    "# left foot\n",
    "A_lf = {\n",
    "    'not_in_contact': np.array([[0., -1.]]),\n",
    "    'in_contact': np.array([[0., 1.],[0., -1.]]),\n",
    "}\n",
    "b_lf = {\n",
    "    'not_in_contact': np.array([[.5]]),\n",
    "    'in_contact': np.array([[-.5],[.5+2.*penetration]]),\n",
    "}\n",
    "contact_surfaces_lf = {\n",
    "    'not_in_contact': None,\n",
    "    'in_contact': 0,\n",
    "}\n",
    "q_lf = np.array([[.2], [-.5 - penetration / 2.]])\n",
    "lf = MovingLimb(A_lf, b_lf, contact_surfaces_lf, q_lf)\n",
    "\n",
    "# right foot\n",
    "A_rf = {\n",
    "    'not_in_contact': np.array([[-1., 0.],[0., -1.]]),\n",
    "    'in_contact': np.array([[0., 1.],[-1., 0.],[0., -1.]]),\n",
    "}\n",
    "b_rf = {\n",
    "    'not_in_contact': np.array([[.5],[.5]]),\n",
    "    'in_contact': np.array([[-.5],[.5],[.5+2.*penetration]]),\n",
    "}\n",
    "contact_surfaces_rf = {\n",
    "    'not_in_contact': None,\n",
    "    'in_contact': 0,\n",
    "}\n",
    "q_rf = np.array([[-.2], [-.5 - penetration / 2.]])\n",
    "rf = MovingLimb(A_rf, b_rf, contact_surfaces_rf, q_rf)"
   ]
  },
  {
   "cell_type": "markdown",
   "metadata": {
    "deletable": true,
    "editable": true
   },
   "source": [
    "Assemble robot"
   ]
  },
  {
   "cell_type": "code",
   "execution_count": 4,
   "metadata": {
    "collapsed": false,
    "deletable": true,
    "editable": true
   },
   "outputs": [
    {
     "name": "stdout",
     "output_type": "stream",
     "text": [
      "Computation of Maximal Invariant Constraint-Admissible Set started.\n",
      "Determinedness index: 6, Convergence index: 0.0, Number of facets: 217.                              \n",
      "Maximal Invariant Constraint-Admissible Set found.\n",
      "Removing redundant facets ... minimal facets are 63.\n",
      "Changed value of parameter TimeLimit to 600.0\n",
      "   Prev: 1e+100  Min: 0.0  Max: 1e+100  Default: 1e+100\n",
      "Parameter FeasibilityTol unchanged\n",
      "   Value: 1e-06  Min: 1e-09  Max: 0.01  Default: 1e-06\n",
      "Parameter NumericFocus unchanged\n",
      "   Value: 0  Min: 0  Max: 3  Default: 0\n",
      "Parameter OptimalityTol unchanged\n",
      "   Value: 1e-06  Min: 1e-09  Max: 0.01  Default: 1e-06\n",
      "Parameter MIPGap unchanged\n",
      "   Value: 0.0001  Min: 0.0  Max: 1e+100  Default: 0.0001\n",
      "Parameter IntFeasTol unchanged\n",
      "   Value: 1e-05  Min: 1e-09  Max: 0.1  Default: 1e-05\n",
      "Parameter MIPFocus unchanged\n",
      "   Value: 0  Min: 0  Max: 3  Default: 0\n",
      "Parameter OutputFlag unchanged\n",
      "   Value: 1  Min: 0  Max: 1  Default: 1\n"
     ]
    }
   ],
   "source": [
    "limbs = { 'moving': {'rh': rh, 'lf': lf, 'rf': rf}, 'fixed': {} }\n",
    "nominal_mode = {'lf': 'in_contact', 'rf': 'in_contact', 'rh': 'not_in_contact'}\n",
    "forbidden_modes = [{'lf': 'not_in_contact', 'rf': 'not_in_contact'}]\n",
    "box_atlas = BoxAtlas(limbs, nominal_mode, forbidden_modes)"
   ]
  },
  {
   "cell_type": "markdown",
   "metadata": {
    "deletable": true,
    "editable": true
   },
   "source": [
    "Print state, input, and modes"
   ]
  },
  {
   "cell_type": "code",
   "execution_count": 5,
   "metadata": {
    "collapsed": false,
    "deletable": true,
    "editable": true
   },
   "outputs": [
    {
     "name": "stdout",
     "output_type": "stream",
     "text": [
      "\n",
      "Box-Atlas states:\n",
      "0: wall_distance_rh\n",
      "1: qlfx\n",
      "2: qlfy\n",
      "3: qrfx\n",
      "4: qrfy\n",
      "5: qrhx\n",
      "6: qrhy\n",
      "7: qbx\n",
      "8: qby\n",
      "9: tb\n",
      "10: vbx\n",
      "11: vby\n",
      "12: ob\n",
      "\n",
      "Box-Atlas inputs:\n",
      "0: vlfx\n",
      "1: vlfy\n",
      "2: vrfx\n",
      "3: vrfy\n",
      "4: vrhx\n",
      "5: vrhy\n",
      "\n",
      "Box-atlas modes:\n",
      "0: {'lf': 'not_in_contact', 'rf': 'in_contact', 'rh': 'not_in_contact'}\n",
      "1: {'lf': 'not_in_contact', 'rf': 'in_contact', 'rh': 'in_contact'}\n",
      "2: {'lf': 'in_contact', 'rf': 'not_in_contact', 'rh': 'not_in_contact'}\n",
      "3: {'lf': 'in_contact', 'rf': 'not_in_contact', 'rh': 'in_contact'}\n",
      "4: {'lf': 'in_contact', 'rf': 'in_contact', 'rh': 'not_in_contact'}\n",
      "5: {'lf': 'in_contact', 'rf': 'in_contact', 'rh': 'in_contact'}\n"
     ]
    }
   ],
   "source": [
    "box_atlas.print_state_labels()\n",
    "box_atlas.print_input_labels()\n",
    "box_atlas.print_modes()"
   ]
  },
  {
   "cell_type": "markdown",
   "metadata": {
    "deletable": true,
    "editable": true
   },
   "source": [
    "# Hybrid MPC"
   ]
  },
  {
   "cell_type": "code",
   "execution_count": 6,
   "metadata": {
    "collapsed": false,
    "deletable": true,
    "editable": true
   },
   "outputs": [
    {
     "name": "stdout",
     "output_type": "stream",
     "text": [
      "Optimize a model with 5618 rows, 1043 columns and 23123 nonzeros\n",
      "Model has 297 quadratic objective terms\n",
      "Model has 10 SOS constraints\n",
      "Variable types: 983 continuous, 60 integer (60 binary)\n",
      "Coefficient statistics:\n",
      "  Matrix range     [8e-07, 1e+02]\n",
      "  Objective range  [0e+00, 0e+00]\n",
      "  QObjective range [8e-05, 1e+04]\n",
      "  Bounds range     [1e+00, 1e+00]\n",
      "  RHS range        [4e-03, 5e+00]\n",
      "Presolve removed 2440 rows and 116 columns\n",
      "Presolve time: 0.06s\n",
      "Presolved: 3178 rows, 927 columns, 17073 nonzeros\n",
      "Presolved model has 274 quadratic objective terms\n",
      "Variable types: 873 continuous, 54 integer (54 binary)\n",
      "\n",
      "Root relaxation: objective 3.347506e+00, 5631 iterations, 0.26 seconds\n",
      "\n",
      "    Nodes    |    Current Node    |     Objective Bounds      |     Work\n",
      " Expl Unexpl |  Obj  Depth IntInf | Incumbent    BestBd   Gap | It/Node Time\n",
      "\n",
      "     0     0    3.34751    0   26          -    3.34751      -     -    0s\n",
      "H    0     0                       3.8522210    3.34751  13.1%     -    0s\n",
      "     0     0    3.34751    0   26    3.85222    3.34751  13.1%     -    0s\n",
      "     0     0    3.34751    0   23    3.85222    3.34751  13.1%     -    0s\n",
      "     0     0    3.34751    0   23    3.85222    3.34751  13.1%     -    0s\n",
      "     0     0    3.35104    0   23    3.85222    3.35104  13.0%     -    0s\n",
      "     0     0    3.35731    0   23    3.85222    3.35731  12.8%     -    0s\n",
      "     0     0    3.35731    0   23    3.85222    3.35731  12.8%     -    0s\n",
      "     0     0    3.35761    0   22    3.85222    3.35761  12.8%     -    0s\n",
      "     0     2    3.35761    0   22    3.85222    3.35761  12.8%     -    0s\n",
      "H  728   465                       3.8519372    3.70656  3.77%  84.8    3s\n",
      "   862   549    3.72785   33   16    3.85194    3.70656  3.77%  87.6    5s\n",
      "H 1064   594                       3.8512338    3.70656  3.76%  83.9    5s\n",
      "H 1301   653                       3.8502981    3.70656  3.73%  79.6    6s\n",
      "H 2212   927                       3.8461787    3.71166  3.50%  73.2    8s\n",
      "  3081  1336     cutoff   44         3.84618    3.72747  3.09%  70.2   10s\n",
      "  5611  2365     cutoff   50         3.84618    3.73639  2.85%  68.6   15s\n",
      "  8222  3395    3.82523   36    5    3.84618    3.75040  2.49%  70.5   20s\n",
      "H 8998  3607                       3.8438819    3.75138  2.41%  70.5   21s\n",
      " 10533  4153    3.79077   39    8    3.84388    3.75395  2.34%  70.9   25s\n",
      "H12252  4737                       3.8434390    3.75697  2.25%  71.6   28s\n",
      " 12926  4909    3.79795   27   12    3.84344    3.75773  2.23%  72.5   30s\n",
      " 15254  5610     cutoff   37         3.84344    3.75930  2.19%  73.8   37s\n",
      " 16120  5893    3.81337   43    5    3.84344    3.75953  2.18%  73.7   40s\n",
      "\n",
      "Explored 17049 nodes (1272097 simplex iterations) in 41.32 seconds\n",
      "Thread count was 4 (of 4 available processors)\n",
      "\n",
      "Solution count 7: 3.84344 3.84388 3.84618 ... 3.85222\n",
      "\n",
      "Solve interrupted\n",
      "Best objective 3.843439004391e+00, best bound 3.760212119501e+00, gap 2.1654%\n"
     ]
    }
   ],
   "source": [
    "x_0 = np.zeros((box_atlas.n_x, 1))\n",
    "x_0[10,0] = -1.5\n",
    "u, x, ss = box_atlas.controller.feedforward(x_0)[0:3]"
   ]
  },
  {
   "cell_type": "code",
   "execution_count": 7,
   "metadata": {
    "collapsed": true
   },
   "outputs": [],
   "source": [
    "prog = box_atlas.controller.condense_program(ss)\n",
    "lhs = prog.C_u\n",
    "rhs = prog.C + prog.C_x.dot(x_0)"
   ]
  },
  {
   "cell_type": "code",
   "execution_count": 18,
   "metadata": {
    "collapsed": false
   },
   "outputs": [
    {
     "name": "stdout",
     "output_type": "stream",
     "text": [
      "0.0039279460907\n"
     ]
    }
   ],
   "source": [
    "from pympc.geometry.chebyshev_center import chebyshev_center\n",
    "prog = box_atlas.controller.condense_program(ss)\n",
    "center, radius = chebyshev_center(lhs, rhs)"
   ]
  },
  {
   "cell_type": "code",
   "execution_count": 19,
   "metadata": {
    "collapsed": false
   },
   "outputs": [
    {
     "name": "stdout",
     "output_type": "stream",
     "text": [
      "0.00385999679565\n"
     ]
    }
   ],
   "source": [
    "from pympc.optimization.gurobi import linear_program\n",
    "sol  = linear_program(np.zeros((60,1)), lhs, rhs)"
   ]
  },
  {
   "cell_type": "code",
   "execution_count": 28,
   "metadata": {
    "collapsed": false
   },
   "outputs": [
    {
     "name": "stdout",
     "output_type": "stream",
     "text": [
      "0.61999297142\n"
     ]
    }
   ],
   "source": [
    "# z≥0,ATz=0,bTz<0\n",
    "from pympc.optimization.gurobi import linear_program\n",
    "from pympc.algebra import nullspace_basis\n",
    "Z = nullspace_basis(lhs.T)\n",
    "lhs_cone = np.vstack((-Z, rhs.T.dot(Z)))\n",
    "rhs_cone = np.vstack((np.zeros((Z.shape[0],1)), -np.ones((1,1))))\n",
    "sol  = linear_program(np.zeros((Z.shape[1],1)), lhs_cone, rhs_cone)\n",
    "#print sol.argmin"
   ]
  },
  {
   "cell_type": "code",
   "execution_count": 35,
   "metadata": {
    "collapsed": false,
    "deletable": true,
    "editable": true
   },
   "outputs": [
    {
     "name": "stdout",
     "output_type": "stream",
     "text": [
      "0.00414705276489\n",
      "0.0\n",
      "0.0240049362183\n"
     ]
    },
    {
     "data": {
      "image/png": "[encoded data removed]",
      "text/plain": [
       "<matplotlib.figure.Figure at 0x1062280d0>"
      ]
     },
     "metadata": {},
     "output_type": "display_data"
    }
   ],
   "source": [
    "sol  = linear_program(np.zeros((60,1)), lhs, rhs)\n",
    "print sol.min\n",
    "from scipy import linalg\n",
    "r, q = linalg.rq(prog.C_u)\n",
    "q_inv = np.linalg.inv(q)\n",
    "from pympc.algebra import clean_matrix\n",
    "sol  = linear_program(np.zeros((60,1)), clean_matrix(r), rhs)\n",
    "import scipy\n",
    "plt.spy(scipy.sparse.csr_matrix(prog.C_u))\n",
    "plt.show()"
   ]
  },
  {
   "cell_type": "markdown",
   "metadata": {
    "deletable": true,
    "editable": true
   },
   "source": [
    "Closed-loop system simulation of the MPC controller"
   ]
  },
  {
   "cell_type": "code",
   "execution_count": null,
   "metadata": {
    "collapsed": false,
    "deletable": true,
    "editable": true
   },
   "outputs": [],
   "source": [
    "N_sim = 30\n",
    "u = []\n",
    "# ['wall_distance_rh', 'qlfx', 'qlfy', 'qrfx', 'qrfy', 'qrhx', 'qrhy', 'qbx', 'qby', 'tb', 'vbx', 'vby', 'ob']\n",
    "x_0 = np.zeros((box_atlas.n_x, 1))\n",
    "x_0[1,0] = .2\n",
    "x_0[3,0] = .2\n",
    "x = [x_0]\n",
    "u_ws = None\n",
    "x_ws = None\n",
    "ss_ws = None\n",
    "nominal_mode = box_atlas.get_mode_index(box_atlas.nominal_mode)\n",
    "for k in range(N_sim):\n",
    "    u_k, x_k, ss_k = box_atlas.controller.feedforward(x[k], u_ws, x_ws, ss_ws)[0:3]\n",
    "    print 'Time step ' + str(k) + ': ' + str(ss_k) + '.'\n",
    "    u_ws = u_k[1:] + [box_atlas.K.dot(x_k[-1])]\n",
    "    x_ws = x_k[1:] + [box_atlas.pwa_system.simulate(x_k[-1], [u_ws[-1]])[0][1]]\n",
    "    ss_ws = ss_k[1:] + (nominal_mode,)\n",
    "    x_next = box_atlas.pwa_system.simulate(x[k], [u_k[0]])[0][1]\n",
    "    # print 'Planner-simulator missmatch:', np.linalg.norm(x_next - x_k[1])\n",
    "    u.append(u_k[0])\n",
    "    x.append(x_next)\n",
    "# traj_miqp = Trajectory(x, u, box_atlas.Q, box_atlas.R, box_atlas.P)\n",
    "# np.save('box_atlas_tajectory_miqp_lh', traj_miqp)"
   ]
  },
  {
   "cell_type": "markdown",
   "metadata": {
    "deletable": true,
    "editable": true
   },
   "source": [
    "Visualization of the simulation with Director"
   ]
  },
  {
   "cell_type": "code",
   "execution_count": null,
   "metadata": {
    "collapsed": true,
    "deletable": true,
    "editable": true
   },
   "outputs": [],
   "source": [
    "from pympc.models.boxatlas_parameters import dynamics\n",
    "box_atlas.visualize(x[0])\n",
    "time.sleep(10 * dynamics['sampling_time'])\n",
    "for x_t in x:\n",
    "    box_atlas.visualize(x_t)\n",
    "    time.sleep(dynamics['sampling_time'])"
   ]
  },
  {
   "cell_type": "code",
   "execution_count": null,
   "metadata": {
    "collapsed": true,
    "deletable": true,
    "editable": true
   },
   "outputs": [],
   "source": [
    "box_atlas.print_mode_sequence(ss)"
   ]
  },
  {
   "cell_type": "markdown",
   "metadata": {
    "deletable": true,
    "editable": true
   },
   "source": [
    "# Approximate Hybrid MPC"
   ]
  },
  {
   "cell_type": "markdown",
   "metadata": {
    "deletable": true,
    "editable": true
   },
   "source": [
    "Initialization of the library"
   ]
  },
  {
   "cell_type": "code",
   "execution_count": null,
   "metadata": {
    "collapsed": true,
    "deletable": true,
    "editable": true
   },
   "outputs": [],
   "source": [
    "library = FeasibleSetLibrary(box_atlas.controller)\n",
    "samples_so_far = 0\n",
    "# library = load_library('library_box_atlas_' + str(samples_so_far))"
   ]
  },
  {
   "cell_type": "markdown",
   "metadata": {
    "deletable": true,
    "editable": true
   },
   "source": [
    "Coverage"
   ]
  },
  {
   "cell_type": "code",
   "execution_count": null,
   "metadata": {
    "collapsed": true,
    "deletable": true,
    "editable": true
   },
   "outputs": [],
   "source": [
    "sample_step = 100\n",
    "n_steps = 100\n",
    "for i in range(n_steps):\n",
    "    n = samples_so_far + (i+1)*sample_step\n",
    "    library.sample_policy(sample_step, box_atlas.is_inside_a_domain)\n",
    "    print(str(n) + ' samples added to the library.')\n",
    "    library.save('library_box_atlas_moving_feet_' + str(n))"
   ]
  },
  {
   "cell_type": "markdown",
   "metadata": {
    "deletable": true,
    "editable": true
   },
   "source": [
    "Shifted switching sequences"
   ]
  },
  {
   "cell_type": "code",
   "execution_count": null,
   "metadata": {
    "collapsed": true,
    "deletable": true,
    "editable": true
   },
   "outputs": [],
   "source": [
    "library.add_shifted_switching_sequences(nominal_mode)"
   ]
  },
  {
   "cell_type": "markdown",
   "metadata": {
    "deletable": true,
    "editable": true
   },
   "source": [
    "Closed-loop system simulation of the approximate MPC controller"
   ]
  },
  {
   "cell_type": "code",
   "execution_count": null,
   "metadata": {
    "collapsed": true,
    "deletable": true,
    "editable": true
   },
   "outputs": [],
   "source": [
    "u = []\n",
    "x = [x_0]\n",
    "ss = []\n",
    "ss_feasible = None\n",
    "for k in range(N_sim):\n",
    "    print 'Time step ' + str(k) + '.'\n",
    "    u_k, ss_k = library.feedback(x[k], ss_feasible, max_qp=10)\n",
    "    u.append(u_k)\n",
    "    x_next = box_atlas.pwa_system.simulate(x[k], [u_k])[0][1]\n",
    "    x.append(x_next)\n",
    "    ss.append(ss_k)\n",
    "    ss_feasible = ss_k[1:] + (nominal_mode,)\n",
    "traj_lib = Trajectory(x, u, box_atlas.Q, box_atlas.R, box_atlas.P)\n",
    "#np.save('box_atlas_tajectory', traj_lib)"
   ]
  }
 ],
 "metadata": {
  "kernelspec": {
   "display_name": "Python 2",
   "language": "python",
   "name": "python2"
  },
  "language_info": {
   "codemirror_mode": {
    "name": "ipython",
    "version": 2
   },
   "file_extension": ".py",
   "mimetype": "text/x-python",
   "name": "python",
   "nbconvert_exporter": "python",
   "pygments_lexer": "ipython2",
   "version": "2.7.13"
  }
 },
 "nbformat": 4,
 "nbformat_minor": 2
}
