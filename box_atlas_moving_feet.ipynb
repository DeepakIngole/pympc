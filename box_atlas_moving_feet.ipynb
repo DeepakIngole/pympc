{
 "cells": [
  {
   "cell_type": "code",
   "execution_count": 1,
   "metadata": {},
   "outputs": [],
   "source": [
    "%load_ext autoreload\n",
    "%autoreload 2"
   ]
  },
  {
   "cell_type": "code",
   "execution_count": 2,
   "metadata": {},
   "outputs": [],
   "source": [
    "import time\n",
    "import numpy as np\n",
    "import matplotlib.pyplot as plt\n",
    "from pympc.models.boxatlas_parametric import BoxAtlas, MovingLimb, FixedLimb, Trajectory\n",
    "from pympc.control import MPCHybridController\n",
    "from pympc.feasible_set_library import FeasibleSetLibrary, load_library\n",
    "from pympc.geometry.polytope import Polytope\n",
    "import pympc.plot as mpc_plt"
   ]
  },
  {
   "cell_type": "markdown",
   "metadata": {},
   "source": [
    "# Construction of Box-Atlas"
   ]
  },
  {
   "cell_type": "markdown",
   "metadata": {},
   "source": [
    "Robot's limbs"
   ]
  },
  {
   "cell_type": "code",
   "execution_count": 3,
   "metadata": {},
   "outputs": [],
   "source": [
    "from pympc.models.boxatlas_parameters import dynamics\n",
    "penetration = dynamics['mass'] * dynamics['gravity'] / dynamics['normal_stiffness']\n",
    "\n",
    "# right hand\n",
    "A_rh = {\n",
    "    'not_in_contact': np.array([[-1., 0.],[0., -1.]]),\n",
    "    'in_contact': np.array([[1., 0.],[-1., 0.],[0., -1.]]),\n",
    "}\n",
    "b_rh = {\n",
    "    'not_in_contact': np.array([[.4],[.5]]),\n",
    "    'in_contact': np.array([[-.4],[.4+penetration],[.5]]),\n",
    "}\n",
    "contact_surfaces_rh = {\n",
    "    'not_in_contact': None,\n",
    "    'in_contact': 0,\n",
    "}\n",
    "q_rh = np.array([[-.3], [.0]])\n",
    "parametric_wall_distance = {\n",
    "    'label': 'wall_distance_rh',\n",
    "    'not_in_contact': {'index': [0], 'coefficient': [1.]},\n",
    "    'in_contact': {'index': [0, 1], 'coefficient': [-1., 1.]},\n",
    "    'min': -.05,\n",
    "    'max': .05,\n",
    "} # if positive moves the wall away from the body\n",
    "parameters_rh = [parametric_wall_distance]\n",
    "rh = MovingLimb(A_rh, b_rh, contact_surfaces_rh, q_rh, parameters=parameters_rh)\n",
    "\n",
    "# left foot\n",
    "A_lf = {\n",
    "    'not_in_contact': np.array([[0., -1.]]),\n",
    "    'in_contact': np.array([[0., 1.],[0., -1.]]),\n",
    "}\n",
    "b_lf = {\n",
    "    'not_in_contact': np.array([[.5]]),\n",
    "    'in_contact': np.array([[-.5],[.5+2.*penetration]]),\n",
    "}\n",
    "contact_surfaces_lf = {\n",
    "    'not_in_contact': None,\n",
    "    'in_contact': 0,\n",
    "}\n",
    "q_lf = np.array([[.2], [-.5 - penetration / 2.]])\n",
    "lf = MovingLimb(A_lf, b_lf, contact_surfaces_lf, q_lf)\n",
    "\n",
    "# right foot\n",
    "A_rf = {\n",
    "    'not_in_contact': np.array([[-1., 0.],[0., -1.]]),\n",
    "    'in_contact': np.array([[0., 1.],[-1., 0.],[0., -1.]]),\n",
    "}\n",
    "b_rf = {\n",
    "    'not_in_contact': np.array([[.5],[.5]]),\n",
    "    'in_contact': np.array([[-.5],[.5],[.5+2.*penetration]]),\n",
    "}\n",
    "contact_surfaces_rf = {\n",
    "    'not_in_contact': None,\n",
    "    'in_contact': 0,\n",
    "}\n",
    "q_rf = np.array([[-.2], [-.5 - penetration / 2.]])\n",
    "rf = MovingLimb(A_rf, b_rf, contact_surfaces_rf, q_rf)"
   ]
  },
  {
   "cell_type": "markdown",
   "metadata": {},
   "source": [
    "Assemble robot"
   ]
  },
  {
   "cell_type": "code",
   "execution_count": 4,
   "metadata": {},
   "outputs": [
    {
     "name": "stdout",
     "output_type": "stream",
     "text": [
      "Computation of Maximal Invariant Constraint-Admissible Set started.\n",
      "Determinedness index: 6, Convergence index: 0.0, Number of facets: 217.                              \n",
      "Maximal Invariant Constraint-Admissible Set found.\n",
      "Removing redundant facets ... minimal facets are 63.\n",
      "Changed value of parameter TimeLimit to 600.0\n",
      "   Prev: 1e+100  Min: 0.0  Max: 1e+100  Default: 1e+100\n",
      "Parameter FeasibilityTol unchanged\n",
      "   Value: 1e-06  Min: 1e-09  Max: 0.01  Default: 1e-06\n",
      "Parameter NumericFocus unchanged\n",
      "   Value: 0  Min: 0  Max: 3  Default: 0\n",
      "Parameter OptimalityTol unchanged\n",
      "   Value: 1e-06  Min: 1e-09  Max: 0.01  Default: 1e-06\n",
      "Parameter MIPGap unchanged\n",
      "   Value: 0.0001  Min: 0.0  Max: 1e+100  Default: 0.0001\n",
      "Parameter IntFeasTol unchanged\n",
      "   Value: 1e-05  Min: 1e-09  Max: 0.1  Default: 1e-05\n",
      "Parameter MIPFocus unchanged\n",
      "   Value: 0  Min: 0  Max: 3  Default: 0\n",
      "Parameter OutputFlag unchanged\n",
      "   Value: 1  Min: 0  Max: 1  Default: 1\n"
     ]
    }
   ],
   "source": [
    "limbs = { 'moving': {'rh': rh, 'lf': lf, 'rf': rf}, 'fixed': {} }\n",
    "nominal_mode = {'lf': 'in_contact', 'rf': 'in_contact', 'rh': 'not_in_contact'}\n",
    "forbidden_modes = [{'lf': 'not_in_contact', 'rf': 'not_in_contact'}]\n",
    "box_atlas = BoxAtlas(limbs, nominal_mode, forbidden_modes)"
   ]
  },
  {
   "cell_type": "markdown",
   "metadata": {},
   "source": [
    "Print state, input, and modes"
   ]
  },
  {
   "cell_type": "code",
   "execution_count": 5,
   "metadata": {},
   "outputs": [
    {
     "name": "stdout",
     "output_type": "stream",
     "text": [
      "\n",
      "Box-Atlas states:\n",
      "0: wall_distance_rh\n",
      "1: qlfx\n",
      "2: qlfy\n",
      "3: qrfx\n",
      "4: qrfy\n",
      "5: qrhx\n",
      "6: qrhy\n",
      "7: qbx\n",
      "8: qby\n",
      "9: tb\n",
      "10: vbx\n",
      "11: vby\n",
      "12: ob\n",
      "\n",
      "Box-Atlas inputs:\n",
      "0: vlfx\n",
      "1: vlfy\n",
      "2: vrfx\n",
      "3: vrfy\n",
      "4: vrhx\n",
      "5: vrhy\n",
      "\n",
      "Box-atlas modes:\n",
      "0: {'lf': 'not_in_contact', 'rf': 'in_contact', 'rh': 'not_in_contact'}\n",
      "1: {'lf': 'not_in_contact', 'rf': 'in_contact', 'rh': 'in_contact'}\n",
      "2: {'lf': 'in_contact', 'rf': 'not_in_contact', 'rh': 'not_in_contact'}\n",
      "3: {'lf': 'in_contact', 'rf': 'not_in_contact', 'rh': 'in_contact'}\n",
      "4: {'lf': 'in_contact', 'rf': 'in_contact', 'rh': 'not_in_contact'}\n",
      "5: {'lf': 'in_contact', 'rf': 'in_contact', 'rh': 'in_contact'}\n"
     ]
    }
   ],
   "source": [
    "box_atlas.print_state_labels()\n",
    "box_atlas.print_input_labels()\n",
    "box_atlas.print_modes()"
   ]
  },
  {
   "cell_type": "markdown",
   "metadata": {},
   "source": [
    "# Hybrid MPC"
   ]
  },
  {
   "cell_type": "code",
   "execution_count": 6,
   "metadata": {},
   "outputs": [
    {
     "name": "stdout",
     "output_type": "stream",
     "text": [
      "Optimize a model with 5618 rows, 1043 columns and 23123 nonzeros\n",
      "Model has 297 quadratic objective terms\n",
      "Model has 10 SOS constraints\n",
      "Variable types: 983 continuous, 60 integer (60 binary)\n",
      "Coefficient statistics:\n",
      "  Matrix range     [8e-07, 1e+02]\n",
      "  Objective range  [0e+00, 0e+00]\n",
      "  QObjective range [8e-05, 1e+04]\n",
      "  Bounds range     [1e+00, 1e+00]\n",
      "  RHS range        [4e-03, 5e+00]\n",
      "Presolve removed 2444 rows and 116 columns\n",
      "Presolve time: 0.04s\n",
      "Presolved: 3174 rows, 927 columns, 17065 nonzeros\n",
      "Presolved model has 274 quadratic objective terms\n",
      "Variable types: 873 continuous, 54 integer (54 binary)\n",
      "\n",
      "Root relaxation: objective 1.593007e-01, 5919 iterations, 0.29 seconds\n",
      "\n",
      "    Nodes    |    Current Node    |     Objective Bounds      |     Work\n",
      " Expl Unexpl |  Obj  Depth IntInf | Incumbent    BestBd   Gap | It/Node Time\n",
      "\n",
      "     0     0    0.15930    0   30          -    0.15930      -     -    0s\n",
      "H    0     0                       4.7102119    0.15930  96.6%     -    0s\n",
      "H    0     0                       4.3133303    0.15930  96.3%     -    0s\n",
      "     0     0    0.17344    0   28    4.31333    0.17344  96.0%     -    0s\n",
      "     0     0    0.17344    0   28    4.31333    0.17344  96.0%     -    0s\n",
      "     0     0    0.17344    0   28    4.31333    0.17344  96.0%     -    0s\n",
      "     0     0    0.17344    0   28    4.31333    0.17344  96.0%     -    0s\n",
      "     0     0    0.17344    0   28    4.31333    0.17344  96.0%     -    0s\n",
      "H    0     0                       3.8598882    0.17344  95.5%     -    0s\n",
      "     0     0    0.17344    0   28    3.85989    0.17344  95.5%     -    0s\n",
      "H    0     0                       3.5193124    0.17344  95.1%     -    0s\n",
      "     0     0    0.17344    0   28    3.51931    0.17344  95.1%     -    0s\n",
      "     0     2    0.17344    0   28    3.51931    0.17344  95.1%     -    0s\n",
      "*  329   300              40       3.4494290    0.23382  93.2%  93.9    1s\n",
      "*  419   373              25       3.4230147    0.23382  93.2%  89.1    1s\n",
      "*  485   413              24       3.4213664    0.23382  93.2%  86.3    1s\n",
      "*  577   477              34       3.3110354    0.23382  92.9%  86.3    1s\n",
      "*  905   676              34       3.3095479    0.23382  92.9%  88.4    2s\n",
      "*  942   708              34       3.3095218    0.23382  92.9%  89.4    2s\n",
      "  1663  1122    0.45354   29   15    3.30952    0.23382  92.9%  92.6    5s\n",
      "H 1666  1078                       3.2619823    0.23382  92.8%  92.5    5s\n",
      "H 1672  1034                       3.1206844    0.23382  92.5%  92.6    5s\n",
      "H 1675   991                       3.1102964    0.23382  92.5%  92.6    5s\n",
      "H 1677   952                       3.0280893    0.23382  92.3%  92.7    5s\n",
      "  4656  1793    0.93525   35    7    3.02809    0.24387  91.9%   111   11s\n",
      "H 4657  1779                       2.7862109    0.24387  91.2%   111   11s\n",
      "H 4668  1779                       2.7793648    0.24387  91.2%   111   11s\n",
      "  7834  3009    0.27495   28   15    2.77936    0.25663  90.8%   119   15s\n",
      " 10968  4012     cutoff   42         2.77936    0.26546  90.4%   122   22s\n",
      "H10978  4013                       2.7774654    0.26546  90.4%   122   22s\n",
      " 12611  4506     cutoff   37         2.77747    0.27134  90.2%   123   25s\n",
      " 17317  6103    1.65279   40    6    2.77747    0.28106  89.9%   125   30s\n",
      " 21599  7376     cutoff   38         2.77747    0.29764  89.3%   125   35s\n",
      "*22668  7736              35       2.7630076    0.30102  89.1%   125   36s\n",
      "*22672  7733              37       2.7498183    0.30102  89.1%   125   36s\n",
      " 26072  8775     cutoff   39         2.74982    0.30920  88.8%   126   40s\n",
      " 29996  9959     cutoff   40         2.74982    0.32399  88.2%   127   45s\n",
      " 33547 11091 infeasible   36         2.74982    0.33232  87.9%   127   50s\n",
      " 38138 12410    0.98033   37    6    2.74982    0.34181  87.6%   127   56s\n",
      " 41785 13514    0.45916   37    8    2.74982    0.34647  87.4%   127   60s\n",
      " 46481 14839     cutoff   30         2.74982    0.35451  87.1%   127   66s\n",
      " 50241 15913    0.38091   34    7    2.74982    0.35673  87.0%   127   70s\n",
      "*54150 16861              39       2.7498113    0.36546  86.7%   127   74s\n",
      " 54852 17010    2.59616   32    3    2.74981    0.36629  86.7%   127   75s\n",
      "H58440 18006                       2.7497895    0.36922  86.6%   127   83s\n",
      "H58448 18000                       2.7449949    0.36922  86.5%   127   83s\n",
      "H58450 18001                       2.7444334    0.36922  86.5%   127   83s\n",
      "H58509 17998                       2.7216393    0.36922  86.4%   127   83s\n",
      " 59744 18243    0.48549   37    7    2.72164    0.37177  86.3%   128   86s\n",
      " 63333 19255    2.46380   35    3    2.72164    0.37475  86.2%   128   90s\n",
      " 68241 20499    0.52750   36    8    2.72164    0.38012  86.0%   128   96s\n",
      " 72270 21675    0.82055   37    7    2.72164    0.38498  85.9%   128  100s\n",
      " 75770 22581     cutoff   36         2.72164    0.38908  85.7%   128  105s\n",
      " 80450 23586    0.70349   30   10    2.72164    0.39506  85.5%   128  110s\n",
      " 84031 24356     cutoff   35         2.72164    0.39717  85.4%   128  115s\n",
      " 88844 25430    2.39049   36    3    2.72164    0.40315  85.2%   128  120s\n",
      " 92521 26273     cutoff   41         2.72164    0.40809  85.0%   128  125s\n",
      " 97304 27446     cutoff   37         2.72164    0.41441  84.8%   128  130s\n",
      " 102015 28339    0.51345   35    9    2.72164    0.42008  84.6%   129  136s\n",
      " 105907 29346    2.26512   41    2    2.72164    0.42416  84.4%   128  140s\n",
      " 109581 30242    2.38522   34    3    2.72164    0.42715  84.3%   128  145s\n",
      " 114274 31142    0.43927   34   11    2.72164    0.42996  84.2%   128  150s\n",
      " 118858 31969    1.54497   43    6    2.72164    0.43540  84.0%   129  156s\n",
      " 122663 32736    2.36647   43    4    2.72164    0.43983  83.8%   129  160s\n",
      " 127649 34093     cutoff   38         2.72164    0.44441  83.7%   129  166s\n",
      " 131159 34794     cutoff   40         2.72164    0.44728  83.6%   129  170s\n",
      " 135703 35582     cutoff   37         2.72164    0.45174  83.4%   129  176s\n",
      " 139225 36321    2.38414   37    3    2.72164    0.45496  83.3%   129  180s\n",
      " 144393 37561     cutoff   38         2.72164    0.45896  83.1%   129  186s\n",
      " 148148 38465    1.87489   39    4    2.72164    0.46209  83.0%   129  190s\n",
      " 152902 39337     cutoff   40         2.72164    0.46563  82.9%   129  196s\n",
      " 156346 39903    2.56198   39    4    2.72164    0.46757  82.8%   130  200s\n",
      " 160982 40641     cutoff   42         2.72164    0.47108  82.7%   130  206s\n",
      " 164753 41325    0.74420   28    9    2.72164    0.47388  82.6%   130  210s\n",
      " 168590 42023    1.99280   33    3    2.72164    0.47599  82.5%   130  215s\n",
      " 173659 43153    2.30678   34    3    2.72164    0.48132  82.3%   130  220s\n",
      " 177262 43811    1.99966   42    4    2.72164    0.48409  82.2%   130  225s\n",
      " 181958 44798     cutoff   41         2.72164    0.48688  82.1%   130  230s\n",
      " 185576 45538    0.94770   41    5    2.72164    0.48913  82.0%   130  235s\n",
      " 190517 46632    1.02710   40    7    2.72164    0.49154  81.9%   130  240s\n",
      " 194254 47321     cutoff   42         2.72164    0.49491  81.8%   130  245s\n",
      " 199043 48250    2.48715   37    3    2.72164    0.49745  81.7%   130  250s\n",
      " 202479 48939    0.68075   36    9    2.72164    0.49914  81.7%   130  255s\n",
      " 207286 49829    0.58829   30   11    2.72164    0.50187  81.6%   130  260s\n",
      "H208479 50073                       2.7167122    0.50395  81.4%   130  264s\n",
      " 208484 49992    2.04257   44    4    2.71671    0.50395  81.4%   130  266s\n",
      " 212073 50482    1.00154   39    7    2.71671    0.50712  81.3%   130  270s\n",
      " 217004 51252    0.86345   28   12    2.71671    0.50934  81.3%   131  276s\n",
      " 220762 51837     cutoff   34         2.71671    0.51215  81.1%   131  280s\n",
      " 224374 52396    1.75714   38    4    2.71671    0.51403  81.1%   131  285s\n",
      " 229255 53203    2.02525   38    4    2.71671    0.51661  81.0%   131  290s\n",
      " 232911 53818     cutoff   32         2.71671    0.51868  80.9%   131  295s\n",
      " 238022 54813    1.08771   31    8    2.71671    0.52172  80.8%   131  301s\n",
      " 241437 55327    2.25544   33    3    2.71671    0.52402  80.7%   131  305s\n",
      " 246279 56040    0.94591   37    8    2.71671    0.52716  80.6%   131  311s\n",
      " 249956 56521    2.55513   37    3    2.71671    0.53000  80.5%   131  315s\n",
      " 253443 56909 infeasible   45         2.71671    0.53242  80.4%   131  320s\n",
      " 258369 57811    2.43052   38    3    2.71671    0.53591  80.3%   131  325s\n"
     ]
    },
    {
     "name": "stdout",
     "output_type": "stream",
     "text": [
      " 262134 58525     cutoff   36         2.71671    0.53729  80.2%   131  330s\n",
      " 266968 59276     cutoff   40         2.71671    0.54037  80.1%   131  335s\n",
      " 270596 59752    0.57919   28   10    2.71671    0.54280  80.0%   131  340s\n",
      " 275653 60714     cutoff   34         2.71671    0.54570  79.9%   131  345s\n",
      " 279200 61160    0.80138   35   12    2.71671    0.54860  79.8%   131  350s\n",
      " 284081 61852    2.62721   39    3    2.71671    0.55088  79.7%   131  355s\n",
      " 288905 62650    1.85984   36    4    2.71671    0.55475  79.6%   131  361s\n",
      " 292535 63262     cutoff   34         2.71671    0.55718  79.5%   131  365s\n",
      " 297286 64020    2.59013   32    3    2.71671    0.56141  79.3%   131  371s\n",
      " 300896 64609    2.47829   44    3    2.71671    0.56307  79.3%   131  377s\n",
      "H300898 64603                       2.7146786    0.56307  79.3%   131  377s\n",
      " 302121 64722    0.98387   36    5    2.71468    0.56395  79.2%   131  380s\n",
      " 305947 65342     cutoff   42         2.71468    0.56653  79.1%   131  385s\n",
      " 310773 66220     cutoff   41         2.71468    0.56888  79.0%   131  390s\n",
      " 314603 67012    1.07784   26   10    2.71468    0.57088  79.0%   131  395s\n",
      " 319449 67816    2.44559   39    3    2.71468    0.57297  78.9%   131  400s\n",
      " 324309 68595     cutoff   44         2.71468    0.57588  78.8%   131  406s\n",
      " 327947 69112    2.14016   39    3    2.71468    0.57836  78.7%   131  410s\n",
      " 332827 69933     cutoff   47         2.71468    0.58097  78.6%   131  416s\n",
      " 336547 70459    0.65982   28   10    2.71468    0.58216  78.6%   131  420s\n",
      " 341338 71437    1.78952   35    4    2.71468    0.58468  78.5%   131  425s\n",
      " 346146 72311    2.43434   33    3    2.71468    0.58672  78.4%   131  431s\n",
      " 349795 72965    0.62898   28   12    2.71468    0.58818  78.3%   130  435s\n",
      " 354714 73776     cutoff   33         2.71468    0.59047  78.2%   130  440s\n",
      " 359441 74393     cutoff   31         2.71468    0.59312  78.2%   130  446s\n",
      " 363080 74984    0.60119   33   12    2.71468    0.59493  78.1%   130  450s\n",
      " 367891 75720 infeasible   31         2.71468    0.59682  78.0%   130  455s\n",
      " 372768 76489     cutoff   41         2.71468    0.59927  77.9%   130  461s\n",
      " 376420 76982    1.17822   36    5    2.71468    0.60105  77.9%   130  465s\n",
      " 381358 77812     cutoff   41         2.71468    0.60333  77.8%   130  470s\n",
      " 384891 78343    2.07877   29    3    2.71468    0.60527  77.7%   130  475s\n",
      " 389750 79298     cutoff   41         2.71468    0.60672  77.7%   130  480s\n",
      " 394610 80047    2.06797   39    4    2.71468    0.60936  77.6%   130  486s\n",
      " 398229 80744    0.75817   31    6    2.71468    0.61147  77.5%   130  490s\n",
      " 403071 81575    1.96251   43    4    2.71468    0.61349  77.4%   130  495s\n",
      " 406694 82281    2.31970   37    3    2.71468    0.61534  77.3%   130  502s\n",
      "H406746 82126                       2.6888746    0.61534  77.1%   130  502s\n",
      " 409254 82473    1.88206   31    4    2.68887    0.61627  77.1%   130  506s\n",
      " 412979 83127     cutoff   33         2.68887    0.61778  77.0%   130  510s\n",
      " 417691 83753     cutoff   27         2.68887    0.61981  76.9%   130  515s\n",
      " 421557 84523     cutoff   37         2.68887    0.62170  76.9%   130  520s\n",
      " 426360 85325    0.62824   27   10    2.68887    0.62360  76.8%   130  525s\n",
      " 431219 86228    0.75458   31    6    2.68887    0.62602  76.7%   130  531s\n",
      " 434812 86797    0.63130   35   10    2.68887    0.62749  76.7%   130  535s\n",
      " 439602 87667    2.37660   40    3    2.68887    0.62966  76.6%   130  541s\n",
      " 443161 88230    2.46853   41    5    2.68887    0.63108  76.5%   130  545s\n",
      " 447920 88993    1.04212   32    8    2.68887    0.63352  76.4%   130  550s\n",
      " 452944 89977     cutoff   33         2.68887    0.63576  76.4%   130  556s\n",
      " 456662 90667    2.04648   36    3    2.68887    0.63734  76.3%   130  560s\n",
      " 461527 91505    0.91808   35    7    2.68887    0.63912  76.2%   129  565s\n",
      " 466510 92506    0.94953   26    7    2.68887    0.64099  76.2%   129  571s\n",
      " 470091 93145    2.13226   41    5    2.68887    0.64281  76.1%   129  575s\n",
      " 474673 93871    0.84698   36    9    2.68887    0.64472  76.0%   129  580s\n",
      " 479406 94601    2.42910   43    4    2.68887    0.64669  75.9%   129  586s\n",
      " 483045 95273     cutoff   39         2.68887    0.64886  75.9%   129  590s\n",
      " 487894 96049     cutoff   31         2.68887    0.65068  75.8%   129  595s\n",
      " 489225 96310    2.59265   37    2    2.68887    0.65140  75.8%   129  600s\n",
      "\n",
      "Explored 489446 nodes (63301941 simplex iterations) in 600.01 seconds\n",
      "Thread count was 12 (of 12 available processors)\n",
      "\n",
      "Solution count 10: 2.68887 2.71468 2.71671 ... 2.76301\n",
      "\n",
      "Time limit reached\n",
      "Best objective 2.688874564300e+00, best bound 6.514831956400e-01, gap 75.7712%\n"
     ]
    }
   ],
   "source": [
    "x_0 = np.zeros((box_atlas.n_x, 1))\n",
    "x_0[1,0] = .2\n",
    "x_0[3,0] = .2\n",
    "u, x, ss = box_atlas.controller.feedforward(x_0)[0:3]"
   ]
  },
  {
   "cell_type": "markdown",
   "metadata": {},
   "source": [
    "Closed-loop system simulation of the MPC controller"
   ]
  },
  {
   "cell_type": "code",
   "execution_count": null,
   "metadata": {},
   "outputs": [],
   "source": [
    "N_sim = 30\n",
    "u = []\n",
    "# ['wall_distance_rh', 'qlfx', 'qlfy', 'qrfx', 'qrfy', 'qrhx', 'qrhy', 'qbx', 'qby', 'tb', 'vbx', 'vby', 'ob']\n",
    "x_0 = np.zeros((box_atlas.n_x, 1))\n",
    "x_0[1,0] = .2\n",
    "x_0[3,0] = .2\n",
    "x = [x_0]\n",
    "u_ws = None\n",
    "x_ws = None\n",
    "ss_ws = None\n",
    "nominal_mode = box_atlas.get_mode_index(box_atlas.nominal_mode)\n",
    "for k in range(N_sim):\n",
    "    u_k, x_k, ss_k = box_atlas.controller.feedforward(x[k], u_ws, x_ws, ss_ws)[0:3]\n",
    "    print 'Time step ' + str(k) + ': ' + str(ss_k) + '.'\n",
    "    u_ws = u_k[1:] + [box_atlas.K.dot(x_k[-1])]\n",
    "    x_ws = x_k[1:] + [box_atlas.pwa_system.simulate(x_k[-1], [u_ws[-1]])[0][1]]\n",
    "    ss_ws = ss_k[1:] + (nominal_mode,)\n",
    "    x_next = box_atlas.pwa_system.simulate(x[k], [u_k[0]])[0][1]\n",
    "    # print 'Planner-simulator missmatch:', np.linalg.norm(x_next - x_k[1])\n",
    "    u.append(u_k[0])\n",
    "    x.append(x_next)\n",
    "# traj_miqp = Trajectory(x, u, box_atlas.Q, box_atlas.R, box_atlas.P)\n",
    "# np.save('box_atlas_tajectory_miqp_lh', traj_miqp)"
   ]
  },
  {
   "cell_type": "markdown",
   "metadata": {},
   "source": [
    "Visualization of the simulation with Director"
   ]
  },
  {
   "cell_type": "code",
   "execution_count": 9,
   "metadata": {},
   "outputs": [],
   "source": [
    "from pympc.models.boxatlas_parameters import dynamics\n",
    "box_atlas.visualize(x[0])\n",
    "time.sleep(10 * dynamics['sampling_time'])\n",
    "for x_t in x:\n",
    "    box_atlas.visualize(x_t)\n",
    "    time.sleep(dynamics['sampling_time'])"
   ]
  },
  {
   "cell_type": "code",
   "execution_count": null,
   "metadata": {},
   "outputs": [],
   "source": [
    "box_atlas.print_mode_sequence(ss)"
   ]
  },
  {
   "cell_type": "markdown",
   "metadata": {},
   "source": [
    "# Approximate Hybrid MPC"
   ]
  },
  {
   "cell_type": "markdown",
   "metadata": {},
   "source": [
    "Initialization of the library"
   ]
  },
  {
   "cell_type": "code",
   "execution_count": null,
   "metadata": {},
   "outputs": [],
   "source": [
    "library = FeasibleSetLibrary(box_atlas.controller)\n",
    "samples_so_far = 0\n",
    "# library = load_library('library_box_atlas_' + str(samples_so_far))"
   ]
  },
  {
   "cell_type": "markdown",
   "metadata": {},
   "source": [
    "Coverage"
   ]
  },
  {
   "cell_type": "code",
   "execution_count": null,
   "metadata": {},
   "outputs": [],
   "source": [
    "sample_step = 100\n",
    "n_steps = 100\n",
    "for i in range(n_steps):\n",
    "    n = samples_so_far + (i+1)*sample_step\n",
    "    library.sample_policy(sample_step, box_atlas.is_inside_a_domain)\n",
    "    print(str(n) + ' samples added to the library.')\n",
    "    library.save('library_box_atlas_moving_feet_' + str(n))"
   ]
  },
  {
   "cell_type": "markdown",
   "metadata": {},
   "source": [
    "Shifted switching sequences"
   ]
  },
  {
   "cell_type": "code",
   "execution_count": null,
   "metadata": {},
   "outputs": [],
   "source": [
    "library.add_shifted_switching_sequences(nominal_mode)"
   ]
  },
  {
   "cell_type": "markdown",
   "metadata": {},
   "source": [
    "Closed-loop system simulation of the approximate MPC controller"
   ]
  },
  {
   "cell_type": "code",
   "execution_count": null,
   "metadata": {},
   "outputs": [],
   "source": [
    "u = []\n",
    "x = [x_0]\n",
    "ss = []\n",
    "ss_feasible = None\n",
    "for k in range(N_sim):\n",
    "    print 'Time step ' + str(k) + '.'\n",
    "    u_k, ss_k = library.feedback(x[k], ss_feasible, max_qp=10)\n",
    "    u.append(u_k)\n",
    "    x_next = box_atlas.pwa_system.simulate(x[k], [u_k])[0][1]\n",
    "    x.append(x_next)\n",
    "    ss.append(ss_k)\n",
    "    ss_feasible = ss_k[1:] + (nominal_mode,)\n",
    "traj_lib = Trajectory(x, u, box_atlas.Q, box_atlas.R, box_atlas.P)\n",
    "#np.save('box_atlas_tajectory', traj_lib)"
   ]
  }
 ],
 "metadata": {
  "kernelspec": {
   "display_name": "Python 2",
   "language": "python",
   "name": "python2"
  },
  "language_info": {
   "codemirror_mode": {
    "name": "ipython",
    "version": 2
   },
   "file_extension": ".py",
   "mimetype": "text/x-python",
   "name": "python",
   "nbconvert_exporter": "python",
   "pygments_lexer": "ipython2",
   "version": "2.7.12"
  }
 },
 "nbformat": 4,
 "nbformat_minor": 2
}
