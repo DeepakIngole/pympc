{
 "cells": [
  {
   "cell_type": "code",
   "execution_count": null,
   "metadata": {
    "collapsed": false,
    "deletable": true,
    "editable": true
   },
   "outputs": [],
   "source": [
    "%load_ext autoreload\n",
    "%autoreload 2"
   ]
  },
  {
   "cell_type": "code",
   "execution_count": null,
   "metadata": {
    "collapsed": false,
    "deletable": true,
    "editable": true
   },
   "outputs": [],
   "source": [
    "import time\n",
    "import numpy as np\n",
    "import matplotlib.pyplot as plt\n",
    "from pympc.models.boxatlas_parametric import BoxAtlas, MovingLimb, FixedLimb, Trajectory\n",
    "from pympc.control import MPCHybridController\n",
    "from pympc.feasible_set_library import FeasibleSetLibrary, load_library\n",
    "from pympc.geometry.polytope import Polytope\n",
    "import pympc.plot as mpc_plt"
   ]
  },
  {
   "cell_type": "markdown",
   "metadata": {
    "deletable": true,
    "editable": true
   },
   "source": [
    "# Construction of Box-Atlas"
   ]
  },
  {
   "cell_type": "markdown",
   "metadata": {
    "deletable": true,
    "editable": true
   },
   "source": [
    "Robot moving limbs"
   ]
  },
  {
   "cell_type": "code",
   "execution_count": null,
   "metadata": {
    "collapsed": false,
    "deletable": true,
    "editable": true
   },
   "outputs": [],
   "source": [
    "from pympc.models.boxatlas_parameters import weight, stiffness\n",
    "penetration = weight / stiffness\n",
    "\n",
    "# right hand\n",
    "A_rh = {\n",
    "    'not_in_contact': np.array([[-1., 0.],[0., -1.]]),\n",
    "    'in_contact': np.array([[1., 0.],[-1., 0.],[0., -1.]]),\n",
    "}\n",
    "b_rh = {\n",
    "    'not_in_contact': np.array([[.4],[.5]]),\n",
    "    'in_contact': np.array([[-.4],[.4+penetration],[.5]]),\n",
    "}\n",
    "contact_surfaces_rh = {\n",
    "    'not_in_contact': None,\n",
    "    'in_contact': 0,\n",
    "}\n",
    "q_rh = np.array([[-.3], [.0]])\n",
    "parametric_wall_distance = {\n",
    "    'label': 'wall_distance_rh',\n",
    "    'not_in_contact': {'index': [0], 'coefficient': [1.]},\n",
    "    'in_contact': {'index': [0, 1], 'coefficient': [-1., 1.]},\n",
    "    'min': -.05,\n",
    "    'max': .05,\n",
    "} # if positive moves the wall away from the body\n",
    "parameters_rh = [parametric_wall_distance]\n",
    "rh = MovingLimb(A_rh, b_rh, contact_surfaces_rh, q_rh, parameters=parameters_rh)\n",
    "\n",
    "# left foot\n",
    "A_lf = {\n",
    "    'not_in_contact': np.array([[0., -1.]]),\n",
    "    'in_contact': np.array([[0., 1.],[0., -1.]]),\n",
    "}\n",
    "b_lf = {\n",
    "    'not_in_contact': np.array([[.5]]),\n",
    "    'in_contact': np.array([[-.5],[.5+2.*penetration]]),\n",
    "}\n",
    "contact_surfaces_lf = {\n",
    "    'not_in_contact': None,\n",
    "    'in_contact': 0,\n",
    "}\n",
    "q_lf = np.array([[.2], [-.5 - penetration / 2.]])\n",
    "lf = MovingLimb(A_lf, b_lf, contact_surfaces_lf, q_lf)\n",
    "\n",
    "# right foot\n",
    "A_rf = {\n",
    "    'not_in_contact': np.array([[-1., 0.],[0., -1.]]),\n",
    "    'in_contact': np.array([[0., 1.],[-1., 0.],[0., -1.]]),\n",
    "}\n",
    "b_rf = {\n",
    "    'not_in_contact': np.array([[.5],[.5]]),\n",
    "    'in_contact': np.array([[-.5],[.5],[.5+2.*penetration]]),\n",
    "}\n",
    "contact_surfaces_rf = {\n",
    "    'not_in_contact': None,\n",
    "    'in_contact': 0,\n",
    "}\n",
    "q_rf = np.array([[-.2], [-.5 - penetration / 2.]])\n",
    "rf = MovingLimb(A_rf, b_rf, contact_surfaces_rf, q_rf)"
   ]
  },
  {
   "cell_type": "markdown",
   "metadata": {
    "deletable": true,
    "editable": true
   },
   "source": [
    "Assemble robot"
   ]
  },
  {
   "cell_type": "code",
   "execution_count": null,
   "metadata": {
    "collapsed": false,
    "deletable": true,
    "editable": true
   },
   "outputs": [],
   "source": [
    "limbs = { 'moving': {'rh': rh, 'lf': lf, 'rf': rf}, 'fixed': {} }\n",
    "nominal_mode = {'lf': 'in_contact', 'rf': 'in_contact', 'rh': 'not_in_contact'}\n",
    "box_atlas = BoxAtlas(limbs, nominal_mode)"
   ]
  },
  {
   "cell_type": "markdown",
   "metadata": {
    "deletable": true,
    "editable": true
   },
   "source": [
    "Print state, input, and modes"
   ]
  },
  {
   "cell_type": "code",
   "execution_count": null,
   "metadata": {
    "collapsed": false,
    "deletable": true,
    "editable": true
   },
   "outputs": [],
   "source": [
    "box_atlas.print_state_labels()\n",
    "box_atlas.print_input_labels()\n",
    "print 'Box-atlas modes:\\n', box_atlas.contact_modes"
   ]
  },
  {
   "cell_type": "markdown",
   "metadata": {
    "deletable": true,
    "editable": true
   },
   "source": [
    "# Hybrid MPC Controller"
   ]
  },
  {
   "cell_type": "markdown",
   "metadata": {
    "deletable": true,
    "editable": true
   },
   "source": [
    "Hybrid MPC controller"
   ]
  },
  {
   "cell_type": "code",
   "execution_count": null,
   "metadata": {
    "collapsed": false,
    "deletable": true,
    "editable": true
   },
   "outputs": [],
   "source": [
    "N = 10\n",
    "objective_norm = 'two'\n",
    "controller = MPCHybridController(\n",
    "    box_atlas.pwa_system,\n",
    "    N,\n",
    "    objective_norm,\n",
    "    box_atlas.Q,\n",
    "    box_atlas.R,\n",
    "    box_atlas.P,\n",
    "    box_atlas.X_N)"
   ]
  },
  {
   "cell_type": "markdown",
   "metadata": {
    "deletable": true,
    "editable": true
   },
   "source": [
    "Trick to avoid forbidden transitions"
   ]
  },
  {
   "cell_type": "code",
   "execution_count": null,
   "metadata": {
    "collapsed": false,
    "deletable": true,
    "editable": true
   },
   "outputs": [],
   "source": [
    "controller = box_atlas.avoid_forbidden_transitions(controller)"
   ]
  },
  {
   "cell_type": "markdown",
   "metadata": {
    "deletable": true,
    "editable": true
   },
   "source": [
    "## Visualizer"
   ]
  },
  {
   "cell_type": "code",
   "execution_count": null,
   "metadata": {
    "collapsed": false,
    "deletable": true,
    "editable": true
   },
   "outputs": [],
   "source": [
    "# ['wall_distance_rh', 'qlfx', 'qlfy', 'qrfx', 'qrfy', 'qrhx', 'qrhy', 'qbx', 'qby', 'tb', 'vbx', 'vby', 'ob']\n",
    "x_0 = np.zeros((box_atlas.n_x, 1))\n",
    "x_0[0,0] = .05\n",
    "x_0[10,0] = -1.5\n",
    "u, x, ss = controller.feedforward(x_0)[0:3]"
   ]
  },
  {
   "cell_type": "code",
   "execution_count": null,
   "metadata": {
    "collapsed": false,
    "deletable": true,
    "editable": true
   },
   "outputs": [],
   "source": [
    "from pympc.models.boxatlas_parameters import sampling_time\n",
    "\n",
    "box_atlas.visualize(x[0])\n",
    "time.sleep(10 * sampling_time)\n",
    "for k in range(N):\n",
    "    box_atlas.visualize(x[k])\n",
    "    time.sleep(sampling_time)"
   ]
  },
  {
   "cell_type": "code",
   "execution_count": null,
   "metadata": {
    "collapsed": false,
    "deletable": true,
    "editable": true
   },
   "outputs": [],
   "source": [
    "print ss\n",
    "box_atlas.print_mode_sequence(ss)"
   ]
  },
  {
   "cell_type": "code",
   "execution_count": null,
   "metadata": {
    "collapsed": true,
    "deletable": true,
    "editable": true
   },
   "outputs": [],
   "source": []
  }
 ],
 "metadata": {
  "kernelspec": {
   "display_name": "Python 2",
   "language": "python",
   "name": "python2"
  },
  "language_info": {
   "codemirror_mode": {
    "name": "ipython",
    "version": 2
   },
   "file_extension": ".py",
   "mimetype": "text/x-python",
   "name": "python",
   "nbconvert_exporter": "python",
   "pygments_lexer": "ipython2",
   "version": "2.7.13"
  }
 },
 "nbformat": 4,
 "nbformat_minor": 2
}
