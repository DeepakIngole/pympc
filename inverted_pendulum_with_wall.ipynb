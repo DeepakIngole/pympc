{
 "cells": [
  {
   "cell_type": "markdown",
   "metadata": {
    "deletable": true,
    "editable": true
   },
   "source": [
    "# Linear Inverted Pendulum with Wall, Hybrid MPC Demo"
   ]
  },
  {
   "cell_type": "markdown",
   "metadata": {
    "deletable": true,
    "editable": true
   },
   "source": [
    "This is a demo for the Model Predictive Control (MPC) package $\\texttt{mpc_tools}$."
   ]
  },
  {
   "cell_type": "code",
   "execution_count": 1,
   "metadata": {
    "collapsed": false,
    "deletable": true,
    "editable": true
   },
   "outputs": [],
   "source": [
    "%load_ext autoreload\n",
    "%autoreload 2\n",
    "#%pylab notebook"
   ]
  },
  {
   "cell_type": "code",
   "execution_count": 2,
   "metadata": {
    "collapsed": false,
    "deletable": true,
    "editable": true
   },
   "outputs": [],
   "source": [
    "import time\n",
    "import numpy as np\n",
    "import matplotlib.pyplot as plt\n",
    "import pympc.dynamical_systems as ds\n",
    "import pympc.plot as mpc_plt\n",
    "from pympc.control import MPCHybridController\n",
    "from pympc.geometry.polytope import Polytope"
   ]
  },
  {
   "cell_type": "markdown",
   "metadata": {
    "deletable": true,
    "editable": true
   },
   "source": [
    "We stabilize a linear inverted pendulum with mass $m$ and length $l$, subject to the gravity acceleration $g$. The pendulum is allowed to impact with an elastic wall (with stiffness $k$) placed at distance $d$ from the vertical line passing trough the hinge."
   ]
  },
  {
   "cell_type": "code",
   "execution_count": 3,
   "metadata": {
    "collapsed": true,
    "deletable": true,
    "editable": true
   },
   "outputs": [],
   "source": [
    "m = 1.\n",
    "l = 1.\n",
    "g = 10.\n",
    "k = 10000.\n",
    "d = .1\n",
    "t_s = .01"
   ]
  },
  {
   "cell_type": "markdown",
   "metadata": {
    "deletable": true,
    "editable": true
   },
   "source": [
    "We express the linearized dynamics in PieceWise Affine (PWA) form:\n",
    "\\begin{equation}\n",
    "\\dot x =\n",
    "\\begin{cases}\n",
    "A_1 x + B_1 u + c_1, \\quad \\text{if} \\quad (x, u) \\in \\mathcal D_1, \\\\\n",
    "A_2 x + B_2 u + c_2, \\quad \\text{if} \\quad (x, u) \\in \\mathcal D_2,\n",
    "\\end{cases}\n",
    "\\end{equation}\n",
    "\n",
    "with\n",
    "\n",
    "\\begin{equation}\n",
    "A_1 = \n",
    "\\begin{bmatrix}\n",
    "0 & 1 \\\\ g/l & 0\n",
    "\\end{bmatrix},\n",
    "\\quad\n",
    "B_1 = \n",
    "\\begin{bmatrix}\n",
    "0 \\\\ 1/(ml^2)\n",
    "\\end{bmatrix},\n",
    "\\quad\n",
    "c_1 = \n",
    "\\begin{bmatrix}\n",
    "0 \\\\ 0\n",
    "\\end{bmatrix},\n",
    "\\end{equation}\n",
    "\n",
    "\\begin{equation}\n",
    "\\mathcal D_1 =\n",
    "\\{ (x,u) \\ | \\ x_1 \\leq d/l, \\ x_{min} \\leq x \\leq x_{max}, \\ u_{min} \\leq u \\leq u_{max} \\},\n",
    "\\end{equation}\n",
    "\n",
    "\\begin{equation}\n",
    "A_2 = \n",
    "\\begin{bmatrix}\n",
    "0 & 1 \\\\ g/l - k/m & 0\n",
    "\\end{bmatrix},\n",
    "\\quad\n",
    "B_2 = \n",
    "\\begin{bmatrix}\n",
    "0 \\\\ 1/(ml^2)\n",
    "\\end{bmatrix},\n",
    "\\quad\n",
    "c_2 = \n",
    "\\begin{bmatrix}\n",
    "0 \\\\ kd/(ml)\n",
    "\\end{bmatrix},\n",
    "\\end{equation}\n",
    "\n",
    "\\begin{equation}\n",
    "\\mathcal D_2 =\n",
    "\\{ (x,u) \\ | \\ x_1 > d/l, \\ x_{min} \\leq x \\leq x_{max}, \\ u_{min} \\leq u \\leq u_{max} \\},\n",
    "\\end{equation}\n",
    "\n",
    "\n",
    "The discrete-time PWA system can be defined from its continuous-time representation setting a sampling time $t_s$."
   ]
  },
  {
   "cell_type": "code",
   "execution_count": 4,
   "metadata": {
    "collapsed": false,
    "deletable": true,
    "editable": true
   },
   "outputs": [],
   "source": [
    "# discretization method\n",
    "method = 'explicit_euler'\n",
    "\n",
    "# dynamics n.0\n",
    "A_0 = np.array([[0., 1.],[g/l, 0.]])\n",
    "B_0 = np.array([[0.],[1/(m*l**2.)]])\n",
    "c_0 = np.array([[0.],[0.]])\n",
    "S_0 = ds.DTAffineSystem.from_continuous(A_0, B_0, c_0, t_s, method)\n",
    "\n",
    "# dynamics n.1\n",
    "A_1 = np.array([[0., 1.],[g/l-k/m, 0.]])\n",
    "B_1 = B_0\n",
    "c_1 = np.array([[0.],[k*d/(m*l)]])\n",
    "S_1 = ds.DTAffineSystem.from_continuous(A_1, B_1, c_1, t_s, method)\n",
    "\n",
    "# list of dynamics\n",
    "S = [S_0, S_1]"
   ]
  },
  {
   "cell_type": "markdown",
   "metadata": {
    "deletable": true,
    "editable": true
   },
   "source": [
    "The domains of the PWA have to be expressed as polytopes."
   ]
  },
  {
   "cell_type": "code",
   "execution_count": 5,
   "metadata": {
    "collapsed": false,
    "deletable": true,
    "editable": true
   },
   "outputs": [],
   "source": [
    "# state domain n.1\n",
    "x_max_0 = np.array([[d/l], [1.5]])\n",
    "x_min_0 = -np.array([[d/l*2.],[x_max_0[1,0]]])\n",
    "X_0 = Polytope.from_bounds(x_min_0, x_max_0)\n",
    "X_0.assemble()\n",
    "\n",
    "# state domain n.2\n",
    "x_min_1 = np.array([[x_max_0[0,0]], [x_min_0[1,0]]])\n",
    "x_max_1 = -x_min_0\n",
    "X_1 = Polytope.from_bounds(x_min_1, x_max_1)\n",
    "X_1.assemble()\n",
    "\n",
    "# list of state domains\n",
    "X = [X_0, X_1]\n",
    "\n",
    "# input domain\n",
    "u_max = np.array([[4.]])\n",
    "u_min = -u_max\n",
    "U = Polytope.from_bounds(u_min, u_max)\n",
    "U.assemble()\n",
    "U = [U]*2"
   ]
  },
  {
   "cell_type": "markdown",
   "metadata": {
    "deletable": true,
    "editable": true
   },
   "source": [
    "We can now define the PWA system."
   ]
  },
  {
   "cell_type": "code",
   "execution_count": 6,
   "metadata": {
    "collapsed": false,
    "deletable": true,
    "editable": true
   },
   "outputs": [],
   "source": [
    "pwa_sys = ds.DTPWASystem.from_orthogonal_domains(S, X, U)"
   ]
  },
  {
   "cell_type": "markdown",
   "metadata": {
    "deletable": true,
    "editable": true
   },
   "source": [
    "At each each step, the following optimal control is solved\n",
    "\\begin{align}\n",
    "\\min \\quad &\n",
    "\\sum_{k=0}^{N-1} (x_k^T Q x_k + u_k^T R u_k) + x_N^T P x_N \\\\\n",
    "\\text{subject to} \\quad &\n",
    "x_{k+1} =\n",
    "\\begin{cases}\n",
    "A_1 x_k + B_1 u_k + c_1, \\quad \\text{if} \\quad (x_k, u_k) \\in \\mathcal D_1, \\\\\n",
    "A_2 x_k + B_2 u_k + c_2, \\quad \\text{if} \\quad (x_k, u_k) \\in \\mathcal D_2,\n",
    "\\end{cases}, \\\\\n",
    "& (x_k, u_k) \\in \\mathcal D_1 \\cup \\mathcal D_2, \\quad k = 1,2,\\ldots,N-1, \\\\\n",
    "& x_N \\in \\mathcal X_N, \\\\\n",
    "& x_0 \\ \\text{given}, \\\\\n",
    "\\end{align}\n",
    "and the input $u_0$ is applied to the system."
   ]
  },
  {
   "cell_type": "code",
   "execution_count": 7,
   "metadata": {
    "collapsed": false,
    "deletable": true,
    "editable": true
   },
   "outputs": [
    {
     "name": "stdout",
     "output_type": "stream",
     "text": [
      "Computation of MOAS started... MOAS found.\n",
      "MOAS facets are 96, removing redundant ones... redundant factes removed, MOAS facets are 28.\n"
     ]
    }
   ],
   "source": [
    "# controller parameters\n",
    "N = 10\n",
    "Q = np.eye(A_1.shape[0])\n",
    "R = np.eye(B_1.shape[1])\n",
    "objective_norm = 'two'\n",
    "\n",
    "# terminal set and cost\n",
    "P, K = ds.dare(S[0].A, S[0].B, Q, R)\n",
    "X_N = ds.moas_closed_loop_from_orthogonal_domains(S[0].A, S[0].B, K, X[0], U[0])\n",
    "\n",
    "# hybrid controller\n",
    "controller = MPCHybridController(pwa_sys, N, objective_norm, Q, R, P, X_N)\n",
    "\n",
    "# hybrid controller\n",
    "controller = MPCHybridController(pwa_sys, N, objective_norm, Q, R, P, X_N)"
   ]
  },
  {
   "cell_type": "markdown",
   "metadata": {
    "deletable": true,
    "editable": true
   },
   "source": [
    "We can now simulate the closed-loop dynamics starting from the initial state $x_0$."
   ]
  },
  {
   "cell_type": "code",
   "execution_count": 8,
   "metadata": {
    "collapsed": false,
    "deletable": true,
    "editable": true,
    "scrolled": false
   },
   "outputs": [
    {
     "name": "stdout",
     "output_type": "stream",
     "text": [
      "Time step 99.\r"
     ]
    }
   ],
   "source": [
    "N_sim = 100\n",
    "x_0 = np.array([[.0],[.79]])\n",
    "u = []\n",
    "x = [x_0]\n",
    "for k in range(N_sim):\n",
    "    print('Time step ' + str(k) + '.\\r'),\n",
    "    u.append(controller.feedback(x[k]))\n",
    "    x_next = pwa_sys.simulate(x[k], [u[k]])[0][1]\n",
    "    x.append(x_next)"
   ]
  },
  {
   "cell_type": "markdown",
   "metadata": {
    "deletable": true,
    "editable": true
   },
   "source": [
    "We can use the plot functions to visualize the time evolution of the system."
   ]
  },
  {
   "cell_type": "code",
   "execution_count": 9,
   "metadata": {
    "collapsed": false,
    "deletable": true,
    "editable": true
   },
   "outputs": [
    {
     "data": {
      "image/png": "[encoded data removed]",
      "text/plain": [
       "<matplotlib.figure.Figure at 0x10ffd3410>"
      ]
     },
     "metadata": {},
     "output_type": "display_data"
    },
    {
     "data": {
      "image/png": "[encoded data removed]",
      "text/plain": [
       "<matplotlib.figure.Figure at 0x1109d4e10>"
      ]
     },
     "metadata": {},
     "output_type": "display_data"
    }
   ],
   "source": [
    "mpc_plt.input_sequence(u, t_s, (u_min, u_max))\n",
    "plt.show()\n",
    "mpc_plt.state_trajectory(x, t_s, (x_min_0, x_min_1, x_max_1))\n",
    "plt.show()"
   ]
  },
  {
   "cell_type": "code",
   "execution_count": 10,
   "metadata": {
    "collapsed": false,
    "deletable": true,
    "editable": true
   },
   "outputs": [
    {
     "data": {
      "image/png": "[encoded data removed]",
      "text/plain": [
       "<matplotlib.figure.Figure at 0x1112021d0>"
      ]
     },
     "metadata": {},
     "output_type": "display_data"
    }
   ],
   "source": [
    "X_0.plot(facecolor='g')\n",
    "X_1.plot(facecolor='r')\n",
    "mpc_plt.state_space_trajectory(x, color='w')\n",
    "plt.show()"
   ]
  },
  {
   "cell_type": "markdown",
   "metadata": {
    "deletable": true,
    "editable": true
   },
   "source": [
    "In order to make computations faster, we can warm start the MIQP solver at each step time."
   ]
  },
  {
   "cell_type": "code",
   "execution_count": 11,
   "metadata": {
    "collapsed": false,
    "deletable": true,
    "editable": true,
    "scrolled": false
   },
   "outputs": [],
   "source": [
    "u = []\n",
    "x = [x_0]\n",
    "u_ws = None\n",
    "x_ws = None\n",
    "ss_ws = None\n",
    "terminal_mode = 0\n",
    "for k in range(N_sim):\n",
    "    u_k, x_k, ss_k = controller.feedforward(x[k], u_ws, x_ws, ss_ws)[0:3]\n",
    "    x_next = pwa_sys.simulate(x[k], [u_k[0]])[0][1]\n",
    "    u.append(u_k[0])\n",
    "    x.append(x_next)\n",
    "    u_ws = u_k[1:] + [K.dot(x_k[-1])]\n",
    "    x_ws = x_k[1:] + [pwa_sys.simulate(x_k[-1], [u_ws[-1]])[0][1]]\n",
    "    ss_ws = ss_k[1:] + (terminal_mode,)"
   ]
  }
 ],
 "metadata": {
  "celltoolbar": "Raw Cell Format",
  "kernelspec": {
   "display_name": "Python 2",
   "language": "python",
   "name": "python2"
  },
  "language_info": {
   "codemirror_mode": {
    "name": "ipython",
    "version": 2
   },
   "file_extension": ".py",
   "mimetype": "text/x-python",
   "name": "python",
   "nbconvert_exporter": "python",
   "pygments_lexer": "ipython2",
   "version": "2.7.13"
  }
 },
 "nbformat": 4,
 "nbformat_minor": 2
}
