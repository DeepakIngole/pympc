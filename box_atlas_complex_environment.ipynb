{
 "cells": [
  {
   "cell_type": "code",
   "execution_count": null,
   "metadata": {
    "collapsed": false,
    "deletable": true,
    "editable": true
   },
   "outputs": [],
   "source": [
    "%load_ext autoreload\n",
    "%autoreload 2"
   ]
  },
  {
   "cell_type": "code",
   "execution_count": null,
   "metadata": {
    "collapsed": false,
    "deletable": true,
    "editable": true
   },
   "outputs": [],
   "source": [
    "import time\n",
    "import numpy as np\n",
    "import matplotlib.pyplot as plt\n",
    "from pympc.models.boxatlas_parametric import BoxAtlas, MovingLimb, FixedLimb, Trajectory\n",
    "from pympc.dynamical_systems import dare, moas_closed_loop\n",
    "from pympc.control import MPCHybridController\n",
    "from pympc.feasible_set_library import FeasibleSetLibrary, load_library\n",
    "from pympc.geometry.polytope import Polytope\n",
    "import pympc.plot as mpc_plt\n",
    "import director.viewerclient as vc\n",
    "from director.thirdparty import transformations"
   ]
  },
  {
   "cell_type": "markdown",
   "metadata": {
    "deletable": true,
    "editable": true
   },
   "source": [
    "# Construction of Box-Atlas"
   ]
  },
  {
   "cell_type": "markdown",
   "metadata": {
    "deletable": true,
    "editable": true
   },
   "source": [
    "Robot moving limbs"
   ]
  },
  {
   "cell_type": "code",
   "execution_count": null,
   "metadata": {
    "collapsed": false,
    "deletable": true,
    "editable": true
   },
   "outputs": [],
   "source": [
    "from pympc.models.boxatlas_parameters import weight, stiffness\n",
    "penetration = weight / stiffness\n",
    "\n",
    "# left hand\n",
    "A_lh = {\n",
    "    'not_in_contact': np.array([[1., 0.]]),\n",
    "    'in_contact': np.array([[-1., 0.],[1., 0.]]),\n",
    "}\n",
    "b_lh = {\n",
    "    'not_in_contact': np.array([[.5]]),\n",
    "    'in_contact': np.array([[-.5],[.5+penetration]]),\n",
    "}\n",
    "contact_surfaces_lh = {\n",
    "    'not_in_contact': None,\n",
    "    'in_contact': 0,\n",
    "}\n",
    "q_lh = np.array([[.3], [.0]])\n",
    "lh = MovingLimb(A_lh, b_lh, contact_surfaces_lh, q_lh)\n",
    "\n",
    "# right hand\n",
    "A_rh = {\n",
    "    'not_in_contact_side': np.array([[-1., 0.],[-1., 1.]]),\n",
    "    'not_in_contact_top': np.array([[0., -1.],[1., -1.]]),\n",
    "    'in_contact_side': np.array([[1., 0.],[-1., 0.],[-1., 1.]]),\n",
    "    'in_contact_top': np.array([[0., 1.],[0., -1.],[1., -1.]]),\n",
    "}\n",
    "b_rh = {\n",
    "    'not_in_contact_side': np.array([[.4],[.4]]),\n",
    "    'not_in_contact_top': np.array([[0.],[-.4]]),\n",
    "    'in_contact_side': np.array([[-.4],[.4 + penetration],[.4]]),\n",
    "    'in_contact_top': np.array([[0.],[penetration],[-.4]]),\n",
    "}\n",
    "contact_surfaces_rh = {\n",
    "    'not_in_contact_side': None,\n",
    "    'not_in_contact_top': None,\n",
    "    'in_contact_side': 0,\n",
    "    'in_contact_top': 0,\n",
    "}\n",
    "q_rh = np.array([[-.3], [.0]])\n",
    "forbidden_transitions_rh = [\n",
    "    ('not_in_contact_side', 'in_contact_top'),\n",
    "    ('in_contact_top', 'not_in_contact_side'),\n",
    "    ('not_in_contact_top', 'in_contact_side'),\n",
    "    ('in_contact_side', 'not_in_contact_top'),\n",
    "    ('in_contact_side', 'in_contact_top'),\n",
    "    ('in_contact_top', 'in_contact_side')\n",
    "]\n",
    "rh = MovingLimb(A_rh, b_rh, contact_surfaces_rh, q_rh, forbidden_transitions_rh)"
   ]
  },
  {
   "cell_type": "markdown",
   "metadata": {
    "deletable": true,
    "editable": true
   },
   "source": [
    "Robot fixed limbs"
   ]
  },
  {
   "cell_type": "code",
   "execution_count": null,
   "metadata": {
    "collapsed": false,
    "deletable": true,
    "editable": true
   },
   "outputs": [],
   "source": [
    "from pympc.models.boxatlas_parameters import weight\n",
    "\n",
    "# left foot\n",
    "q_lf = np.array([[.2], [-.5]])\n",
    "n_lf = np.array([[0.],[1.]])\n",
    "f_lf = np.array([[weight / 2.], [0.]])\n",
    "lf = FixedLimb(q_lf, n_lf, f_lf)\n",
    "\n",
    "# right foot\n",
    "q_rf = np.array([[-.2], [-.5]])\n",
    "n_rf = np.array([[0.],[1.]])\n",
    "f_rf = np.array([[weight / 2.], [0.]])\n",
    "rf = FixedLimb(q_rf, n_rf, f_rf)"
   ]
  },
  {
   "cell_type": "markdown",
   "metadata": {
    "deletable": true,
    "editable": true
   },
   "source": [
    "Assemble robot"
   ]
  },
  {
   "cell_type": "code",
   "execution_count": null,
   "metadata": {
    "collapsed": false,
    "deletable": true,
    "editable": true
   },
   "outputs": [],
   "source": [
    "limbs = { 'moving': {'lh': lh, 'rh': rh}, 'fixed': {'lf': lf, 'rf': rf} }\n",
    "nominal_mode = {'rh': 'not_in_contact_side', 'lh': 'not_in_contact'}\n",
    "box_atlas = BoxAtlas(limbs, nominal_mode)"
   ]
  },
  {
   "cell_type": "markdown",
   "metadata": {
    "deletable": true,
    "editable": true
   },
   "source": [
    "Print state, input, and modes"
   ]
  },
  {
   "cell_type": "code",
   "execution_count": null,
   "metadata": {
    "collapsed": false,
    "deletable": true,
    "editable": true
   },
   "outputs": [],
   "source": [
    "box_atlas.print_state_labels()\n",
    "box_atlas.print_input_labels()\n",
    "print 'Box-atlas modes:\\n', box_atlas.contact_modes"
   ]
  },
  {
   "cell_type": "markdown",
   "metadata": {
    "deletable": true,
    "editable": true
   },
   "source": [
    "# Hybrid MPC Controller"
   ]
  },
  {
   "cell_type": "markdown",
   "metadata": {
    "deletable": true,
    "editable": true
   },
   "source": [
    "Hybrid MPC controller"
   ]
  },
  {
   "cell_type": "code",
   "execution_count": null,
   "metadata": {
    "collapsed": false,
    "deletable": true,
    "editable": true
   },
   "outputs": [],
   "source": [
    "N = 10\n",
    "objective_norm = 'two'\n",
    "controller = MPCHybridController(\n",
    "    box_atlas.pwa_system,\n",
    "    N,\n",
    "    objective_norm,\n",
    "    box_atlas.Q,\n",
    "    box_atlas.R,\n",
    "    box_atlas.P,\n",
    "    box_atlas.X_N)"
   ]
  },
  {
   "cell_type": "markdown",
   "metadata": {
    "deletable": true,
    "editable": true
   },
   "source": [
    "Trick to avoid forbidden transitions"
   ]
  },
  {
   "cell_type": "code",
   "execution_count": null,
   "metadata": {
    "collapsed": false,
    "deletable": true,
    "editable": true
   },
   "outputs": [],
   "source": [
    "controller = box_atlas.avoid_forbidden_transitions(controller)"
   ]
  },
  {
   "cell_type": "markdown",
   "metadata": {
    "deletable": true,
    "editable": true
   },
   "source": [
    "Closed-loop system simulation of the MPC controller"
   ]
  },
  {
   "cell_type": "code",
   "execution_count": null,
   "metadata": {
    "collapsed": false,
    "deletable": true,
    "editable": true
   },
   "outputs": [],
   "source": [
    "N_sim = 30\n",
    "u = []\n",
    "x_0 = np.array([\n",
    "    [.0], # q_rh_x\n",
    "    [.0], # q_rh_y\n",
    "    [.0], # q_lh_x\n",
    "    [.0], # q_lh_y\n",
    "    [.0], # q_b_x\n",
    "    [.0], # q_b_y\n",
    "    [-1.], # v_b_x\n",
    "    [-.3] # v_b_y\n",
    "])\n",
    "x = [x_0]\n",
    "u_ws = None\n",
    "x_ws = None\n",
    "ss_ws = None\n",
    "for k in range(N_sim):\n",
    "    u_k, x_k, ss_k = controller.feedforward(x[k], u_ws, x_ws, ss_ws)[0:3]\n",
    "    print('Time step ' + str(k) + ': ' + str(ss_k) + '.')\n",
    "    u_ws = u_k[1:] + [K.dot(x_k[-1])]\n",
    "    x_ws = x_k[1:] + [box_atlas.pwa_system.simulate(x_k[-1], [u_ws[-1]])[0][1]]\n",
    "    ss_ws = ss_k[1:] + (terminal_mode,)\n",
    "    x_next = box_atlas.pwa_system.simulate(x[k], [u_k[0]])[0][1]\n",
    "    #print 'Planner-simulator missmatch:', np.linalg.norm(x_next - x_k[1])\n",
    "    u.append(u_k[0])\n",
    "    x.append(x_next)\n",
    "traj_miqp = Trajectory(x, u, Q, R, P)\n",
    "#np.save('box_atlas_tajectory_miqp_lh', traj_miqp)"
   ]
  },
  {
   "cell_type": "markdown",
   "metadata": {
    "deletable": true,
    "editable": true
   },
   "source": [
    "Plot of the state and the input"
   ]
  },
  {
   "cell_type": "code",
   "execution_count": null,
   "metadata": {
    "collapsed": false,
    "deletable": true,
    "editable": true
   },
   "outputs": [],
   "source": [
    "mpc_plt.input_sequence(u, parameters['sampling_time'])\n",
    "plt.show()\n",
    "mpc_plt.state_trajectory(x, parameters['sampling_time'])\n",
    "plt.show()"
   ]
  },
  {
   "cell_type": "markdown",
   "metadata": {
    "deletable": true,
    "editable": true
   },
   "source": [
    "# Control with Approximate Hybrid MPC"
   ]
  },
  {
   "cell_type": "markdown",
   "metadata": {
    "deletable": true,
    "editable": true
   },
   "source": [
    "Initialization of the library"
   ]
  },
  {
   "cell_type": "code",
   "execution_count": null,
   "metadata": {
    "collapsed": false,
    "deletable": true,
    "editable": true
   },
   "outputs": [],
   "source": [
    "library = FeasibleSetLibrary(controller)\n",
    "samples_so_far = 0\n",
    "#library = load_library('library_box_atlas_wall_and_table_' + str(samples_so_far))"
   ]
  },
  {
   "cell_type": "markdown",
   "metadata": {
    "deletable": true,
    "editable": true
   },
   "source": [
    "Coverage"
   ]
  },
  {
   "cell_type": "code",
   "execution_count": null,
   "metadata": {
    "collapsed": false,
    "deletable": true,
    "editable": true
   },
   "outputs": [],
   "source": [
    "sample_step = 2\n",
    "n_steps = 1\n",
    "for i in range(n_steps):\n",
    "    n = samples_so_far + (i+1)*sample_step\n",
    "    library.sample_policy(sample_step, box_atlas.is_inside_a_domain)\n",
    "    print(str(n) + ' samples added to the library.')\n",
    "    #library.save('library_box_atlas_wall_and_table_' + str(n))"
   ]
  },
  {
   "cell_type": "markdown",
   "metadata": {
    "deletable": true,
    "editable": true
   },
   "source": [
    "Shifted switching sequences"
   ]
  },
  {
   "cell_type": "code",
   "execution_count": null,
   "metadata": {
    "collapsed": true,
    "deletable": true,
    "editable": true
   },
   "outputs": [],
   "source": [
    "library.add_shifted_switching_sequences(terminal_mode)"
   ]
  },
  {
   "cell_type": "markdown",
   "metadata": {
    "deletable": true,
    "editable": true
   },
   "source": [
    "Closed-loop system simulation of the approximate MPC controller"
   ]
  },
  {
   "cell_type": "code",
   "execution_count": null,
   "metadata": {
    "collapsed": false,
    "deletable": true,
    "editable": true
   },
   "outputs": [],
   "source": [
    "N_sim = 50\n",
    "u = []\n",
    "x = [x_0_lh*0.]\n",
    "ss = []\n",
    "ss_feasible = None\n",
    "for k in range(N_sim):\n",
    "    print('Time step ' + str(k) + '.')\n",
    "    u_k, ss_k = library.feedback(x[k], ss_feasible, max_qp=1)\n",
    "    u.append(u_k)\n",
    "    x_next = box_atlas.pwa_system.simulate(x[k], [u_k])[0][1]\n",
    "    x.append(x_next)\n",
    "    ss.append(ss_k)\n",
    "    ss_feasible = ss_k[1:] + (terminal_mode,)\n",
    "traj_lib = Trajectory(x, u, Q, R, P)\n",
    "#np.save('box_atlas_tajectory_lib_lh', traj)"
   ]
  },
  {
   "cell_type": "markdown",
   "metadata": {
    "deletable": true,
    "editable": true
   },
   "source": [
    "# Test Coverage"
   ]
  },
  {
   "cell_type": "markdown",
   "metadata": {
    "deletable": true,
    "editable": true
   },
   "source": [
    "Number of feasible sets in the library"
   ]
  },
  {
   "cell_type": "code",
   "execution_count": null,
   "metadata": {
    "collapsed": false,
    "deletable": true,
    "editable": true
   },
   "outputs": [],
   "source": [
    "n_fs = 0\n",
    "for ss in library.library.values():\n",
    "    if not ss['feasible_set'].empty:\n",
    "        n_fs += 1\n",
    "print 'Number of mode sequences in the library:', n_fs"
   ]
  },
  {
   "cell_type": "markdown",
   "metadata": {
    "deletable": true,
    "editable": true
   },
   "source": [
    "Check coverage of the feasible set with n_samples"
   ]
  },
  {
   "cell_type": "code",
   "execution_count": null,
   "metadata": {
    "collapsed": false,
    "deletable": true,
    "editable": true
   },
   "outputs": [],
   "source": [
    "n_samples = 20\n",
    "cost_miqp = []\n",
    "cost_qp = []\n",
    "for i in range(n_samples):\n",
    "    print i\n",
    "    x_sample = library.random_sample(box_atlas.is_inside_a_domain)\n",
    "    cost_miqp.append(controller.feedforward(x_sample)[3])\n",
    "    cost_qp.append(library.feedforward(x_sample)[3])\n",
    "#np.save('cost_random_miqp', cost_miqp)\n",
    "#np.save('cost_random_qp', cost_qp)"
   ]
  },
  {
   "cell_type": "markdown",
   "metadata": {
    "deletable": true,
    "editable": true
   },
   "source": [
    "Cost error as a function of the maximum number of QPs online"
   ]
  },
  {
   "cell_type": "code",
   "execution_count": null,
   "metadata": {
    "collapsed": false,
    "deletable": true,
    "editable": true
   },
   "outputs": [],
   "source": [
    "feasible_samples = 0\n",
    "samples_not_covered = 0\n",
    "optimality_loss = []\n",
    "for i, c_mi in enumerate(cost_miqp):\n",
    "    if not np.isnan(c_mi):\n",
    "        feasible_samples += 1\n",
    "        if len(cost_qp[i]) == 0:\n",
    "            samples_not_covered += 1\n",
    "        else:\n",
    "            optimality_loss.append([(c - c_mi)/c_mi for c in cost_qp[i]])\n",
    "max_overlapping_qp = max([len(ol) for ol in optimality_loss])\n",
    "loss = []\n",
    "for pos in range(max_overlapping_qp):\n",
    "    average_loss = 0\n",
    "    for ol in optimality_loss:\n",
    "        length = min(len(ol),pos+1)\n",
    "        average_loss += min(ol[:length])\n",
    "    loss.append(average_loss/float(len(optimality_loss))*100)\n",
    "print 'Optimality loss (%) as a function of the maximum number of QPs solved online:\\n', loss"
   ]
  },
  {
   "cell_type": "markdown",
   "metadata": {
    "deletable": true,
    "editable": true
   },
   "source": [
    "## Visualizer"
   ]
  },
  {
   "cell_type": "code",
   "execution_count": null,
   "metadata": {
    "collapsed": false,
    "deletable": true,
    "editable": true
   },
   "outputs": [],
   "source": [
    "box_atlas.visualize(x[0])\n",
    "time.sleep(10 * parameters['sampling_time'])\n",
    "for k in range(N_sim):\n",
    "    box_atlas.visualize(x[k])\n",
    "    time.sleep(parameters['sampling_time'])"
   ]
  },
  {
   "cell_type": "code",
   "execution_count": null,
   "metadata": {
    "collapsed": false,
    "deletable": true,
    "editable": true
   },
   "outputs": [],
   "source": [
    "# test\n",
    "x_0_lh = np.array([\n",
    "    [0.], # q_rh_x\n",
    "    [0.], # q_rh_y\n",
    "    [0.], # q_lh_x\n",
    "    [0.], # q_lh_y\n",
    "    [0.], # q_b_x\n",
    "    [0.], # q_b_y\n",
    "    [0.], # t_b\n",
    "    [-1.], # v_b_x\n",
    "    [-.5], # v_b_y\n",
    "    [0.] # o_b\n",
    "])\n",
    "u, x, ss = controller.feedforward(x_0_lh)[0:3]"
   ]
  },
  {
   "cell_type": "code",
   "execution_count": null,
   "metadata": {
    "collapsed": false,
    "deletable": true,
    "editable": true
   },
   "outputs": [],
   "source": [
    "from pympc.models.boxatlas_parameters import sampling_time\n",
    "\n",
    "box_atlas.visualize(x[0])\n",
    "time.sleep(20 * sampling_time)\n",
    "for k in range(N):\n",
    "    box_atlas.visualize(x[k])\n",
    "    time.sleep(sampling_time)"
   ]
  },
  {
   "cell_type": "code",
   "execution_count": null,
   "metadata": {
    "collapsed": false,
    "deletable": true,
    "editable": true
   },
   "outputs": [],
   "source": [
    "print ss\n",
    "box_atlas.print_mode_sequence(ss)"
   ]
  },
  {
   "cell_type": "code",
   "execution_count": null,
   "metadata": {
    "collapsed": true
   },
   "outputs": [],
   "source": []
  }
 ],
 "metadata": {
  "kernelspec": {
   "display_name": "Python 2",
   "language": "python",
   "name": "python2"
  },
  "language_info": {
   "codemirror_mode": {
    "name": "ipython",
    "version": 2
   },
   "file_extension": ".py",
   "mimetype": "text/x-python",
   "name": "python",
   "nbconvert_exporter": "python",
   "pygments_lexer": "ipython2",
   "version": "2.7.13"
  }
 },
 "nbformat": 4,
 "nbformat_minor": 2
}
