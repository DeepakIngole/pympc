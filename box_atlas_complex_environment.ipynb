{
 "cells": [
  {
   "cell_type": "code",
   "execution_count": 1,
   "metadata": {
    "collapsed": false,
    "deletable": true,
    "editable": true
   },
   "outputs": [],
   "source": [
    "#%load_ext autoreload\n",
    "#%autoreload 2"
   ]
  },
  {
   "cell_type": "code",
   "execution_count": 2,
   "metadata": {
    "collapsed": false,
    "deletable": true,
    "editable": true
   },
   "outputs": [],
   "source": [
    "import time\n",
    "import numpy as np\n",
    "import matplotlib.pyplot as plt\n",
    "from pympc.models.boxatlas_parametric import BoxAtlas, MovingLimb, FixedLimb, Trajectory\n",
    "from pympc.dynamical_systems import dare, moas_closed_loop\n",
    "from pympc.control import MPCHybridController\n",
    "from pympc.feasible_set_library import FeasibleSetLibrary, load_library\n",
    "from pympc.geometry.polytope import Polytope\n",
    "import pympc.plot as mpc_plt\n",
    "import director.viewerclient as vc\n",
    "from director.thirdparty import transformations"
   ]
  },
  {
   "cell_type": "markdown",
   "metadata": {
    "deletable": true,
    "editable": true
   },
   "source": [
    "# Construction of Box-Atlas"
   ]
  },
  {
   "cell_type": "markdown",
   "metadata": {
    "deletable": true,
    "editable": true
   },
   "source": [
    "Robot moving limbs"
   ]
  },
  {
   "cell_type": "code",
   "execution_count": 3,
   "metadata": {
    "collapsed": false,
    "deletable": true,
    "editable": true
   },
   "outputs": [],
   "source": [
    "from pympc.models.boxatlas_parameters import weight, stiffness\n",
    "penetration = weight / stiffness\n",
    "\n",
    "# left hand\n",
    "A_lh = {\n",
    "    'not_in_contact': np.array([[1., 0.]]),\n",
    "    'in_contact': np.array([[-1., 0.],[1., 0.]]),\n",
    "}\n",
    "b_lh = {\n",
    "    'not_in_contact': np.array([[.5]]),\n",
    "    'in_contact': np.array([[-.5],[.5+penetration]]),\n",
    "}\n",
    "contact_surfaces_lh = {\n",
    "    'not_in_contact': None,\n",
    "    'in_contact': 0,\n",
    "}\n",
    "q_lh = np.array([[.3], [.0]])\n",
    "lh = MovingLimb(A_lh, b_lh, contact_surfaces_lh, q_lh)\n",
    "\n",
    "# right hand biggest convex domain\n",
    "#A_rh = {\n",
    "#    'not_in_contact_side': np.array([[-1., 0.]]),\n",
    "#    'not_in_contact_top': np.array([[0., -1.],[1., 0.]]),\n",
    "#    'in_contact_side': np.array([[1., 0.],[-1., 0.],[-1., 1.]]),\n",
    "#    'in_contact_top': np.array([[0., 1.],[0., -1.],[1., -1.]]),\n",
    "#}\n",
    "#b_rh = {\n",
    "#    'not_in_contact_side': np.array([[.4]]),\n",
    "#    'not_in_contact_top': np.array([[0.],[-.4]]),\n",
    "#    'in_contact_side': np.array([[-.4],[.4 + penetration],[.4]]),\n",
    "#    'in_contact_top': np.array([[0.],[penetration],[-.4]]),\n",
    "#}\n",
    "\n",
    "# right hand\n",
    "A_rh = {\n",
    "    'not_in_contact_side': np.array([[-1., 0.],[-1., 1.]]),\n",
    "    'not_in_contact_top': np.array([[0., -1.],[1., -1.]]),\n",
    "    'in_contact_side': np.array([[1., 0.],[-1., 0.],[-1., 1.]]),\n",
    "    'in_contact_top': np.array([[0., 1.],[0., -1.],[1., -1.]]),\n",
    "}\n",
    "b_rh = {\n",
    "    'not_in_contact_side': np.array([[.4],[.4]]),\n",
    "    'not_in_contact_top': np.array([[0.],[-.4]]),\n",
    "    'in_contact_side': np.array([[-.4],[.4 + penetration],[.4]]),\n",
    "    'in_contact_top': np.array([[0.],[penetration],[-.4]]),\n",
    "}\n",
    "contact_surfaces_rh = {\n",
    "    'not_in_contact_side': None,\n",
    "    'not_in_contact_top': None,\n",
    "    'in_contact_side': 0,\n",
    "    'in_contact_top': 0,\n",
    "}\n",
    "q_rh = np.array([[-.3], [.0]])\n",
    "forbidden_transitions_rh = [\n",
    "    ('not_in_contact_side', 'in_contact_top'),\n",
    "    ('in_contact_top', 'not_in_contact_side'),\n",
    "    ('not_in_contact_top', 'in_contact_side'),\n",
    "    ('in_contact_side', 'not_in_contact_top'),\n",
    "    ('in_contact_side', 'in_contact_top'),\n",
    "    ('in_contact_top', 'in_contact_side')\n",
    "]\n",
    "rh = MovingLimb(A_rh, b_rh, contact_surfaces_rh, q_rh, forbidden_transitions_rh)"
   ]
  },
  {
   "cell_type": "markdown",
   "metadata": {
    "deletable": true,
    "editable": true
   },
   "source": [
    "Robot fixed limbs"
   ]
  },
  {
   "cell_type": "code",
   "execution_count": 4,
   "metadata": {
    "collapsed": false,
    "deletable": true,
    "editable": true
   },
   "outputs": [],
   "source": [
    "from pympc.models.boxatlas_parameters import weight\n",
    "\n",
    "# left foot\n",
    "q_lf = np.array([[.2], [-.5]])\n",
    "n_lf = np.array([[0.],[1.]])\n",
    "f_lf = np.array([[weight / 2.], [0.]])\n",
    "lf = FixedLimb(q_lf, n_lf, f_lf)\n",
    "\n",
    "# right foot\n",
    "q_rf = np.array([[-.2], [-.5]])\n",
    "n_rf = np.array([[0.],[1.]])\n",
    "f_rf = np.array([[weight / 2.], [0.]])\n",
    "rf = FixedLimb(q_rf, n_rf, f_rf)"
   ]
  },
  {
   "cell_type": "markdown",
   "metadata": {
    "deletable": true,
    "editable": true
   },
   "source": [
    "Assemble robot"
   ]
  },
  {
   "cell_type": "code",
   "execution_count": 5,
   "metadata": {
    "collapsed": false,
    "deletable": true,
    "editable": true
   },
   "outputs": [
    {
     "name": "stdout",
     "output_type": "stream",
     "text": [
      "Empty polytope!\n",
      "Empty polytope!\n"
     ]
    }
   ],
   "source": [
    "limbs = { 'moving': {'lh': lh, 'rh': rh}, 'fixed': {'lf': lf, 'rf': rf} }\n",
    "nominal_mode = {'rh': 'not_in_contact_side', 'lh': 'not_in_contact'}\n",
    "box_atlas = BoxAtlas(limbs, nominal_mode)"
   ]
  },
  {
   "cell_type": "markdown",
   "metadata": {
    "deletable": true,
    "editable": true
   },
   "source": [
    "Print state, input, and modes (a mode indicates in which domain each moving limb is, domains are numbered as they are listed in the limb list)"
   ]
  },
  {
   "cell_type": "code",
   "execution_count": 6,
   "metadata": {
    "collapsed": false,
    "deletable": true,
    "editable": true
   },
   "outputs": [
    {
     "name": "stdout",
     "output_type": "stream",
     "text": [
      "Box-Atlas states:\n",
      "['qrhx', 'qrhy', 'qlhx', 'qlhy', 'qbx', 'qby', 'tb', 'vbx', 'vby', 'ob']\n",
      "Box-Atlas inputs:\n",
      "['vrhx', 'vrhy', 'vlhx', 'vlhy', 'flfn', 'flft', 'frfn', 'frft']\n",
      "Box-atlas modes:\n",
      "[{'rh': 'in_contact_side', 'lh': 'not_in_contact'}, {'rh': 'not_in_contact_side', 'lh': 'not_in_contact'}, {'rh': 'not_in_contact_side', 'lh': 'in_contact'}, {'rh': 'not_in_contact_top', 'lh': 'not_in_contact'}, {'rh': 'not_in_contact_top', 'lh': 'in_contact'}, {'rh': 'in_contact_top', 'lh': 'not_in_contact'}]\n"
     ]
    }
   ],
   "source": [
    "box_atlas.print_state_labels()\n",
    "box_atlas.print_input_labels()\n",
    "print 'Box-atlas modes:\\n', box_atlas.contact_modes"
   ]
  },
  {
   "cell_type": "markdown",
   "metadata": {
    "deletable": true,
    "editable": true
   },
   "source": [
    "# Hybrid MPC Controller"
   ]
  },
  {
   "cell_type": "markdown",
   "metadata": {
    "deletable": true,
    "editable": true
   },
   "source": [
    "Hybrid MPC controller"
   ]
  },
  {
   "cell_type": "code",
   "execution_count": 7,
   "metadata": {
    "collapsed": false,
    "deletable": true,
    "editable": true
   },
   "outputs": [
    {
     "name": "stdout",
     "output_type": "stream",
     "text": [
      "Computation of Maximal Invariant Constraint-Admissible Set started.\n",
      "Determinedness index: 35, Convergence index: -0.000280312147159, Number of facets: 864.    \n",
      "Maximal Invariant Constraint-Admissible Set found.\n",
      "Removing redundant facets ... minimal facets are 218.\n",
      "Parameter OutputFlag unchanged\n",
      "   Value: 1  Min: 0  Max: 1  Default: 1\n",
      "Changed value of parameter MIPGap to 1e-06\n",
      "   Prev: 0.0001  Min: 0.0  Max: 1e+100  Default: 0.0001\n"
     ]
    }
   ],
   "source": [
    "N = 10\n",
    "objective_norm = 'two'\n",
    "P, K = dare(\n",
    "    box_atlas.nominal_system.A,\n",
    "    box_atlas.nominal_system.B,\n",
    "    box_atlas.Q,\n",
    "    box_atlas.R)\n",
    "X_N = moas_closed_loop(\n",
    "    box_atlas.nominal_system.A,\n",
    "    box_atlas.nominal_system.B,\n",
    "    K,\n",
    "    box_atlas.nominal_domain)\n",
    "#X_N = np.load('MOAS_boxatlas_complex_environment.npy').item()\n",
    "controller = MPCHybridController(\n",
    "    box_atlas.pwa_system,\n",
    "    N,\n",
    "    objective_norm,\n",
    "    box_atlas.Q,\n",
    "    box_atlas.R,\n",
    "    P,\n",
    "    X_N)"
   ]
  },
  {
   "cell_type": "markdown",
   "metadata": {
    "deletable": true,
    "editable": true
   },
   "source": [
    "np.save('MOAS_boxatlas_complex_environment', X_N)"
   ]
  },
  {
   "cell_type": "markdown",
   "metadata": {
    "deletable": true,
    "editable": true
   },
   "source": [
    "Trick to avoid forbidden transitions"
   ]
  },
  {
   "cell_type": "code",
   "execution_count": 8,
   "metadata": {
    "collapsed": false,
    "deletable": true,
    "editable": true
   },
   "outputs": [],
   "source": [
    "controller = box_atlas.avoid_forbidden_transitions(controller)"
   ]
  },
  {
   "cell_type": "markdown",
   "metadata": {
    "deletable": true,
    "editable": true
   },
   "source": [
    "Closed-loop system simulation of the MPC controller"
   ]
  },
  {
   "cell_type": "code",
   "execution_count": null,
   "metadata": {
    "collapsed": false,
    "deletable": true,
    "editable": true
   },
   "outputs": [],
   "source": [
    "N_sim = 30\n",
    "u = []\n",
    "x_0 = np.array([\n",
    "    [.0], # q_rh_x\n",
    "    [.0], # q_rh_y\n",
    "    [.0], # q_lh_x\n",
    "    [.0], # q_lh_y\n",
    "    [.0], # q_b_x\n",
    "    [.0], # q_b_y\n",
    "    [-1.], # v_b_x\n",
    "    [-.3] # v_b_y\n",
    "])\n",
    "x = [x_0]\n",
    "u_ws = None\n",
    "x_ws = None\n",
    "ss_ws = None\n",
    "for k in range(N_sim):\n",
    "    u_k, x_k, ss_k = controller.feedforward(x[k], u_ws, x_ws, ss_ws)[0:3]\n",
    "    print('Time step ' + str(k) + ': ' + str(ss_k) + '.')\n",
    "    u_ws = u_k[1:] + [K.dot(x_k[-1])]\n",
    "    x_ws = x_k[1:] + [box_atlas.pwa_system.simulate(x_k[-1], [u_ws[-1]])[0][1]]\n",
    "    ss_ws = ss_k[1:] + (terminal_mode,)\n",
    "    x_next = box_atlas.pwa_system.simulate(x[k], [u_k[0]])[0][1]\n",
    "    #print 'Planner-simulator missmatch:', np.linalg.norm(x_next - x_k[1])\n",
    "    u.append(u_k[0])\n",
    "    x.append(x_next)\n",
    "traj_miqp = Trajectory(x, u, Q, R, P)\n",
    "#np.save('box_atlas_tajectory_miqp_lh', traj_miqp)"
   ]
  },
  {
   "cell_type": "markdown",
   "metadata": {
    "deletable": true,
    "editable": true
   },
   "source": [
    "Plot of the state and the input"
   ]
  },
  {
   "cell_type": "code",
   "execution_count": null,
   "metadata": {
    "collapsed": false,
    "deletable": true,
    "editable": true
   },
   "outputs": [],
   "source": [
    "mpc_plt.input_sequence(u, parameters['sampling_time'])\n",
    "plt.show()\n",
    "mpc_plt.state_trajectory(x, parameters['sampling_time'])\n",
    "plt.show()"
   ]
  },
  {
   "cell_type": "markdown",
   "metadata": {
    "deletable": true,
    "editable": true
   },
   "source": [
    "# Control with Approximate Hybrid MPC"
   ]
  },
  {
   "cell_type": "markdown",
   "metadata": {
    "deletable": true,
    "editable": true
   },
   "source": [
    "Initialization of the library"
   ]
  },
  {
   "cell_type": "code",
   "execution_count": null,
   "metadata": {
    "collapsed": false,
    "deletable": true,
    "editable": true
   },
   "outputs": [],
   "source": [
    "#library = FeasibleSetLibrary(controller)\n",
    "samples_so_far = 0\n",
    "#library = load_library('library_box_atlas_wall_and_table_' + str(samples_so_far))"
   ]
  },
  {
   "cell_type": "markdown",
   "metadata": {
    "deletable": true,
    "editable": true
   },
   "source": [
    "Coverage"
   ]
  },
  {
   "cell_type": "code",
   "execution_count": null,
   "metadata": {
    "collapsed": false,
    "deletable": true,
    "editable": true
   },
   "outputs": [],
   "source": [
    "sample_step = 100\n",
    "n_steps = 10\n",
    "for i in range(n_steps):\n",
    "    n = samples_so_far + (i+1)*sample_step\n",
    "    library.sample_policy(sample_step, box_atlas.is_inside_a_domain)\n",
    "    print(str(n) + ' samples added to the library.')\n",
    "    #library.save('library_box_atlas_wall_and_table_' + str(n))"
   ]
  },
  {
   "cell_type": "markdown",
   "metadata": {
    "deletable": true,
    "editable": true
   },
   "source": [
    "Shifted switching sequences"
   ]
  },
  {
   "cell_type": "code",
   "execution_count": null,
   "metadata": {
    "collapsed": true,
    "deletable": true,
    "editable": true
   },
   "outputs": [],
   "source": [
    "library.add_shifted_switching_sequences(terminal_mode)"
   ]
  },
  {
   "cell_type": "markdown",
   "metadata": {
    "deletable": true,
    "editable": true
   },
   "source": [
    "Closed-loop system simulation of the approximate MPC controller"
   ]
  },
  {
   "cell_type": "code",
   "execution_count": null,
   "metadata": {
    "collapsed": false,
    "deletable": true,
    "editable": true
   },
   "outputs": [],
   "source": [
    "N_sim = 50\n",
    "u = []\n",
    "x = [x_0_lh*0.]\n",
    "ss = []\n",
    "ss_feasible = None\n",
    "for k in range(N_sim):\n",
    "    print('Time step ' + str(k) + '.')\n",
    "    u_k, ss_k = library.feedback(x[k], ss_feasible, max_qp=1)\n",
    "    u.append(u_k)\n",
    "    x_next = box_atlas.pwa_system.simulate(x[k], [u_k])[0][1]\n",
    "    x.append(x_next)\n",
    "    ss.append(ss_k)\n",
    "    ss_feasible = ss_k[1:] + (terminal_mode,)\n",
    "traj_lib = Trajectory(x, u, Q, R, P)\n",
    "#np.save('box_atlas_tajectory_lib_lh', traj)"
   ]
  },
  {
   "cell_type": "markdown",
   "metadata": {
    "deletable": true,
    "editable": true
   },
   "source": [
    "# Test Coverage"
   ]
  },
  {
   "cell_type": "markdown",
   "metadata": {
    "deletable": true,
    "editable": true
   },
   "source": [
    "Number of feasible sets in the library"
   ]
  },
  {
   "cell_type": "code",
   "execution_count": null,
   "metadata": {
    "collapsed": false,
    "deletable": true,
    "editable": true
   },
   "outputs": [],
   "source": [
    "n_fs = 0\n",
    "for ss in library.library.values():\n",
    "    if not ss['feasible_set'].empty:\n",
    "        n_fs += 1\n",
    "print 'Number of mode sequences in the library:', n_fs"
   ]
  },
  {
   "cell_type": "markdown",
   "metadata": {
    "deletable": true,
    "editable": true
   },
   "source": [
    "Check coverage of the feasible set with n_samples"
   ]
  },
  {
   "cell_type": "code",
   "execution_count": null,
   "metadata": {
    "collapsed": false,
    "deletable": true,
    "editable": true
   },
   "outputs": [],
   "source": [
    "n_samples = 20\n",
    "cost_miqp = []\n",
    "cost_qp = []\n",
    "for i in range(n_samples):\n",
    "    print i\n",
    "    x_sample = library.random_sample(box_atlas.is_inside_a_domain)\n",
    "    cost_miqp.append(controller.feedforward(x_sample)[3])\n",
    "    cost_qp.append(library.feedforward(x_sample)[3])\n",
    "#np.save('cost_random_miqp', cost_miqp)\n",
    "#np.save('cost_random_qp', cost_qp)"
   ]
  },
  {
   "cell_type": "markdown",
   "metadata": {
    "deletable": true,
    "editable": true
   },
   "source": [
    "Cost error as a function of the maximum number of QPs online"
   ]
  },
  {
   "cell_type": "code",
   "execution_count": null,
   "metadata": {
    "collapsed": false,
    "deletable": true,
    "editable": true
   },
   "outputs": [],
   "source": [
    "feasible_samples = 0\n",
    "samples_not_covered = 0\n",
    "optimality_loss = []\n",
    "for i, c_mi in enumerate(cost_miqp):\n",
    "    if not np.isnan(c_mi):\n",
    "        feasible_samples += 1\n",
    "        if len(cost_qp[i]) == 0:\n",
    "            samples_not_covered += 1\n",
    "        else:\n",
    "            optimality_loss.append([(c - c_mi)/c_mi for c in cost_qp[i]])\n",
    "max_overlapping_qp = max([len(ol) for ol in optimality_loss])\n",
    "loss = []\n",
    "for pos in range(max_overlapping_qp):\n",
    "    average_loss = 0\n",
    "    for ol in optimality_loss:\n",
    "        length = min(len(ol),pos+1)\n",
    "        average_loss += min(ol[:length])\n",
    "    loss.append(average_loss/float(len(optimality_loss))*100)\n",
    "print 'Optimality loss (%) as a function of the maximum number of QPs solved online:\\n', loss"
   ]
  },
  {
   "cell_type": "markdown",
   "metadata": {
    "deletable": true,
    "editable": true
   },
   "source": [
    "## Visualizer"
   ]
  },
  {
   "cell_type": "code",
   "execution_count": null,
   "metadata": {
    "collapsed": false,
    "deletable": true,
    "editable": true
   },
   "outputs": [],
   "source": [
    "box_atlas.visualize(x[0])\n",
    "time.sleep(10 * parameters['sampling_time'])\n",
    "for k in range(N_sim):\n",
    "    box_atlas.visualize(x[k])\n",
    "    time.sleep(parameters['sampling_time'])"
   ]
  },
  {
   "cell_type": "code",
   "execution_count": 24,
   "metadata": {
    "collapsed": false,
    "deletable": true,
    "editable": true
   },
   "outputs": [
    {
     "name": "stdout",
     "output_type": "stream",
     "text": [
      "Optimize a model with 4838 rows, 850 columns and 21671 nonzeros\n",
      "Model has 251 quadratic objective terms\n",
      "Model has 10 SOS constraints\n",
      "Variable types: 790 continuous, 60 integer (60 binary)\n",
      "Coefficient statistics:\n",
      "  Matrix range     [4e-05, 2e+01]\n",
      "  Objective range  [0e+00, 0e+00]\n",
      "  QObjective range [7e-02, 2e+02]\n",
      "  Bounds range     [1e+00, 1e+00]\n",
      "  RHS range        [5e-02, 2e+01]\n",
      "Presolve removed 1979 rows and 110 columns\n",
      "Presolve time: 0.08s\n",
      "Presolved: 2869 rows, 740 columns, 15911 nonzeros\n",
      "Presolved model has 237 quadratic objective terms\n",
      "\n",
      "Loaded MIP start with objective 2.25972\n",
      "\n",
      "Variable types: 689 continuous, 51 integer (51 binary)\n",
      "\n",
      "Root relaxation: objective 9.969282e-01, 4068 iterations, 0.20 seconds\n",
      "\n",
      "    Nodes    |    Current Node    |     Objective Bounds      |     Work\n",
      " Expl Unexpl |  Obj  Depth IntInf | Incumbent    BestBd   Gap | It/Node Time\n",
      "\n",
      "     0     0    0.99693    0   28    2.25972    0.99693  55.9%     -    0s\n",
      "     0     0    0.99693    0   27    2.25972    0.99693  55.9%     -    0s\n",
      "     0     0    0.99693    0   27    2.25972    0.99693  55.9%     -    0s\n",
      "     0     2    0.99693    0   27    2.25972    0.99693  55.9%     -    0s\n",
      "*  151   107              27       2.0956451    1.39179  33.6%  66.7    1s\n",
      "*  168   112              27       2.0953413    1.39179  33.6%  68.8    1s\n",
      "*  176   115              28       2.0950227    1.39179  33.6%  69.5    1s\n",
      "H  336   166                       2.0938655    1.41138  32.6%  73.8    1s\n",
      "*  751   245              31       2.0920709    1.46424  30.0%  78.1    3s\n",
      "  1379   405    1.74611   23    3    2.09207    1.48222  29.2%  79.7    5s\n",
      "* 2293   534              23       2.0914792    1.49389  28.6%  80.3    7s\n",
      "H 2680   561                       2.0902506    1.49645  28.4%  85.5    9s\n",
      "  2735   556    1.57082   25    5    2.09025    1.49721  28.4%  86.2   10s\n",
      "  3995   479    1.66239   18    5    2.09025    1.52112  27.2%  90.6   15s\n",
      "  5464   570    1.59682   18   19    2.09025    1.59682  23.6%  86.9   20s\n",
      "  7259   386     cutoff   38         2.09025    1.63431  21.8%  84.7   25s\n",
      "  9247   670     cutoff   40         2.09025    1.67405  19.9%  82.3   30s\n",
      " 11398   934    1.85434   36    3    2.09025    1.71100  18.1%  80.2   35s\n",
      " 13635  1119    1.78663   36    4    2.09025    1.73060  17.2%  77.6   40s\n",
      " 15415  1139     cutoff   46         2.09025    1.75187  16.2%  76.4   45s\n",
      " 17832   965    1.78768   37    4    2.09025    1.78768  14.5%  74.8   50s\n",
      " 20109   781    1.89989   39    2    2.09025    1.82016  12.9%  73.8   55s\n",
      " 22551   273    1.88565   33    2    2.09025    1.87694  10.2%  72.1   60s\n",
      " 25210   274     cutoff   29         2.09025    1.97298  5.61%  70.8   65s\n",
      "\n",
      "Explored 27068 nodes (1907459 simplex iterations) in 67.83 seconds\n",
      "Thread count was 4 (of 4 available processors)\n",
      "\n",
      "Solution count 8: 2.09025 2.09148 2.09207 ... 2.25972\n",
      "Pool objective bound 2.09025\n",
      "\n",
      "Optimal solution found (tolerance 1.00e-06)\n",
      "Best objective 2.090250627392e+00, best bound 2.090250627392e+00, gap 0.0000%\n"
     ]
    }
   ],
   "source": [
    "# test\n",
    "x_0_lh = np.array([\n",
    "    [0.], # q_rh_x\n",
    "    [0.], # q_rh_y\n",
    "    [0.], # q_lh_x\n",
    "    [0.], # q_lh_y\n",
    "    [0.], # q_b_x\n",
    "    [0.], # q_b_y\n",
    "    [0.], # t_b\n",
    "    [-1.], # v_b_x\n",
    "    [-.5], # v_b_y\n",
    "    [0.] # o_b\n",
    "])\n",
    "u, x, ss = controller.feedforward(x_0_lh)[0:3]"
   ]
  },
  {
   "cell_type": "code",
   "execution_count": 25,
   "metadata": {
    "collapsed": false,
    "deletable": true,
    "editable": true
   },
   "outputs": [],
   "source": [
    "from pympc.models.boxatlas_parameters import sampling_time\n",
    "\n",
    "box_atlas.visualize(x[0])\n",
    "time.sleep(20 * sampling_time)\n",
    "for k in range(N):\n",
    "    box_atlas.visualize(x[k])\n",
    "    time.sleep(sampling_time)"
   ]
  },
  {
   "cell_type": "code",
   "execution_count": 26,
   "metadata": {
    "collapsed": false
   },
   "outputs": [
    {
     "name": "stdout",
     "output_type": "stream",
     "text": [
      "(1, 0, 1, 3, 5, 3, 1, 1, 1, 1)\n",
      "{'rh': 'not_in_contact_side', 'lh': 'not_in_contact'}\n",
      "{'rh': 'in_contact_side', 'lh': 'not_in_contact'}\n",
      "{'rh': 'not_in_contact_side', 'lh': 'not_in_contact'}\n",
      "{'rh': 'not_in_contact_top', 'lh': 'not_in_contact'}\n",
      "{'rh': 'in_contact_top', 'lh': 'not_in_contact'}\n",
      "{'rh': 'not_in_contact_top', 'lh': 'not_in_contact'}\n",
      "{'rh': 'not_in_contact_side', 'lh': 'not_in_contact'}\n",
      "{'rh': 'not_in_contact_side', 'lh': 'not_in_contact'}\n",
      "{'rh': 'not_in_contact_side', 'lh': 'not_in_contact'}\n",
      "{'rh': 'not_in_contact_side', 'lh': 'not_in_contact'}\n"
     ]
    }
   ],
   "source": [
    "print ss\n",
    "box_atlas.print_mode_sequence(ss)"
   ]
  }
 ],
 "metadata": {
  "kernelspec": {
   "display_name": "Python 2",
   "language": "python",
   "name": "python2"
  },
  "language_info": {
   "codemirror_mode": {
    "name": "ipython",
    "version": 2
   },
   "file_extension": ".py",
   "mimetype": "text/x-python",
   "name": "python",
   "nbconvert_exporter": "python",
   "pygments_lexer": "ipython2",
   "version": "2.7.13"
  }
 },
 "nbformat": 4,
 "nbformat_minor": 2
}
