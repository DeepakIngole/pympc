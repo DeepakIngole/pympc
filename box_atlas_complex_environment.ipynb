{
 "cells": [
  {
   "cell_type": "code",
   "execution_count": 1,
   "metadata": {
    "collapsed": false,
    "deletable": true,
    "editable": true
   },
   "outputs": [],
   "source": [
    "%load_ext autoreload\n",
    "%autoreload 2"
   ]
  },
  {
   "cell_type": "code",
   "execution_count": 2,
   "metadata": {
    "collapsed": false,
    "deletable": true,
    "editable": true
   },
   "outputs": [],
   "source": [
    "import time\n",
    "import numpy as np\n",
    "import matplotlib.pyplot as plt\n",
    "from pympc.models.boxatlas_parametric import BoxAtlas, MovingLimb, FixedLimb, Trajectory\n",
    "from pympc.dynamical_systems import dare, moas_closed_loop\n",
    "from pympc.control import MPCHybridController\n",
    "from pympc.feasible_set_library import FeasibleSetLibrary, load_library\n",
    "from pympc.geometry.polytope import Polytope\n",
    "import pympc.plot as mpc_plt\n",
    "import director.viewerclient as vc\n",
    "from director.thirdparty import transformations"
   ]
  },
  {
   "cell_type": "markdown",
   "metadata": {
    "deletable": true,
    "editable": true
   },
   "source": [
    "# Construction of Box-Atlas"
   ]
  },
  {
   "cell_type": "markdown",
   "metadata": {
    "deletable": true,
    "editable": true
   },
   "source": [
    "Robot moving limbs"
   ]
  },
  {
   "cell_type": "code",
   "execution_count": 3,
   "metadata": {
    "collapsed": false,
    "deletable": true,
    "editable": true
   },
   "outputs": [],
   "source": [
    "from pympc.models.boxatlas_parameters import penetration\n",
    "\n",
    "# left hand\n",
    "A_lh = {\n",
    "    'not_in_contact': np.array([[1., 0.]]),\n",
    "    'in_contact': np.array([[-1., 0.],[1., 0.]]),\n",
    "}\n",
    "b_lh = {\n",
    "    'not_in_contact': np.array([[.5]]),\n",
    "    'in_contact': np.array([[-.5],[.5+penetration]]),\n",
    "}\n",
    "contact_surfaces_lh = {\n",
    "    'not_in_contact': None,\n",
    "    'in_contact': 0,\n",
    "}\n",
    "q_lh = np.array([[.3], [.0]])\n",
    "lh = MovingLimb(A_lh, b_lh, contact_surfaces_lh, q_lh)\n",
    "\n",
    "# right hand\n",
    "A_rh = {\n",
    "    'not_in_contact_side': np.array([[-1., 0.],[-1., 1.]]),\n",
    "    'not_in_contact_top': np.array([[0., -1.],[1., -1.]]),\n",
    "    'in_contact_side': np.array([[1., 0.],[-1., 0.],[-1., 1.]]),\n",
    "    'in_contact_top': np.array([[0., 1.],[0., -1.],[1., -1.]]),\n",
    "}\n",
    "b_rh = {\n",
    "    'not_in_contact_side': np.array([[.4],[.4]]),\n",
    "    'not_in_contact_top': np.array([[0.],[-.4]]),\n",
    "    'in_contact_side': np.array([[-.4],[.4 + penetration],[.4]]),\n",
    "    'in_contact_top': np.array([[0.],[penetration],[-.4]]),\n",
    "}\n",
    "contact_surfaces_rh = {\n",
    "    'not_in_contact_side': None,\n",
    "    'not_in_contact_top': None,\n",
    "    'in_contact_side': 0,\n",
    "    'in_contact_top': 0,\n",
    "}\n",
    "q_rh = np.array([[-.3], [.0]])\n",
    "forbidden_transitions_rh = [\n",
    "    ('not_in_contact_side', 'in_contact_top'),\n",
    "    ('in_contact_top', 'not_in_contact_side'),\n",
    "    ('not_in_contact_top', 'in_contact_side'),\n",
    "    ('in_contact_side', 'not_in_contact_top'),\n",
    "    ('in_contact_side', 'in_contact_top'),\n",
    "    ('in_contact_top', 'in_contact_side')\n",
    "]\n",
    "rh = MovingLimb(A_rh, b_rh, contact_surfaces_rh, q_rh, forbidden_transitions_rh)"
   ]
  },
  {
   "cell_type": "markdown",
   "metadata": {
    "deletable": true,
    "editable": true
   },
   "source": [
    "Robot fixed limbs"
   ]
  },
  {
   "cell_type": "code",
   "execution_count": 4,
   "metadata": {
    "collapsed": false,
    "deletable": true,
    "editable": true
   },
   "outputs": [],
   "source": [
    "from pympc.models.boxatlas_parameters import weight\n",
    "\n",
    "# left foot\n",
    "q_lf = np.array([[.2], [-.5]])\n",
    "n_lf = np.array([[0.],[1.]])\n",
    "f_lf = np.array([[weight / 2.], [0.]])\n",
    "lf = FixedLimb(q_lf, n_lf, f_lf)\n",
    "\n",
    "# right foot\n",
    "q_rf = np.array([[-.2], [-.5]])\n",
    "n_rf = np.array([[0.],[1.]])\n",
    "f_rf = np.array([[weight / 2.], [0.]])\n",
    "rf = FixedLimb(q_rf, n_rf, f_rf)"
   ]
  },
  {
   "cell_type": "markdown",
   "metadata": {
    "deletable": true,
    "editable": true
   },
   "source": [
    "Assemble robot"
   ]
  },
  {
   "cell_type": "code",
   "execution_count": 5,
   "metadata": {
    "collapsed": false,
    "deletable": true,
    "editable": true
   },
   "outputs": [
    {
     "name": "stdout",
     "output_type": "stream",
     "text": [
      "Empty polytope!\n",
      "Empty polytope!\n"
     ]
    }
   ],
   "source": [
    "limbs = { 'moving': {'lh': lh, 'rh': rh}, 'fixed': {'lf': lf, 'rf': rf} }\n",
    "nominal_mode = {'rh': 'not_in_contact_side', 'lh': 'not_in_contact'}\n",
    "box_atlas = BoxAtlas(limbs, nominal_mode)"
   ]
  },
  {
   "cell_type": "markdown",
   "metadata": {
    "deletable": true,
    "editable": true
   },
   "source": [
    "Print state, input, and modes (a mode indicates in which domain each moving limb is, domains are numbered as they are listed in the limb list)"
   ]
  },
  {
   "cell_type": "code",
   "execution_count": 6,
   "metadata": {
    "collapsed": false,
    "deletable": true,
    "editable": true
   },
   "outputs": [
    {
     "name": "stdout",
     "output_type": "stream",
     "text": [
      "Box-Atlas states:\n",
      "['qrhx', 'qrhy', 'qlhx', 'qlhy', 'qbx', 'qby', 'vbx', 'vby']\n",
      "Box-Atlas inputs:\n",
      "['vrhx', 'vrhy', 'vlhx', 'vlhy', 'flfn', 'flft', 'frfn', 'frft']\n",
      "Box-atlas modes:\n",
      "[{'rh': 'in_contact_side', 'lh': 'not_in_contact'}, {'rh': 'not_in_contact_side', 'lh': 'not_in_contact'}, {'rh': 'not_in_contact_side', 'lh': 'in_contact'}, {'rh': 'not_in_contact_top', 'lh': 'not_in_contact'}, {'rh': 'not_in_contact_top', 'lh': 'in_contact'}, {'rh': 'in_contact_top', 'lh': 'not_in_contact'}]\n"
     ]
    }
   ],
   "source": [
    "box_atlas.state_labels()\n",
    "box_atlas.input_labels()\n",
    "print 'Box-atlas modes:\\n', box_atlas.contact_modes"
   ]
  },
  {
   "cell_type": "markdown",
   "metadata": {
    "deletable": true,
    "editable": true
   },
   "source": [
    "# Hybrid MPC Controller"
   ]
  },
  {
   "cell_type": "markdown",
   "metadata": {
    "deletable": true,
    "editable": true
   },
   "source": [
    "Initial states for the Humanoids paper"
   ]
  },
  {
   "cell_type": "code",
   "execution_count": 7,
   "metadata": {
    "collapsed": true,
    "deletable": true,
    "editable": true
   },
   "outputs": [],
   "source": [
    "# left hand\n",
    "x_0_lh = np.array([\n",
    "    [0.], # q_rh_x\n",
    "    [0.], # q_rh_y\n",
    "    [0.], # q_lh_x\n",
    "    [0.], # q_lh_y\n",
    "    [0.], # q_b_x\n",
    "    [0.], # q_b_y\n",
    "    [1.], # v_b_x\n",
    "    [-.5] # v_b_y\n",
    "])\n",
    "\n",
    "# right hand top\n",
    "x_0_rht = np.array([\n",
    "    [-.1], # q_rh_x\n",
    "    [.15], # q_rh_y\n",
    "    [.0], # q_lh_x\n",
    "    [.15], # q_lh_y\n",
    "    [-.05], # q_b_x\n",
    "    [.1], # q_b_y\n",
    "    [-1.], # v_b_x\n",
    "    [-.5] # v_b_y\n",
    "])\n",
    "\n",
    "# right hand side\n",
    "x_0_rhs = np.array([\n",
    "    [.1], # q_rh_x\n",
    "    [-.21], # q_rh_y\n",
    "    [.1], # q_lh_x\n",
    "    [-.21], # q_lh_y\n",
    "    [.1], # q_b_x\n",
    "    [-.05], # q_b_y\n",
    "    [-1.], # v_b_x\n",
    "    [-.5] # v_b_y\n",
    "])"
   ]
  },
  {
   "cell_type": "markdown",
   "metadata": {
    "deletable": true,
    "editable": true
   },
   "source": [
    "Hybrid MPC controller"
   ]
  },
  {
   "cell_type": "code",
   "execution_count": 8,
   "metadata": {
    "collapsed": false,
    "deletable": true,
    "editable": true
   },
   "outputs": [
    {
     "name": "stdout",
     "output_type": "stream",
     "text": [
      "Computation of MOAS started... MOAS found.\n",
      "MOAS facets are 400, removing redundant ones... redundant factes removed, MOAS facets are 125.\n",
      "Parameter OutputFlag unchanged\n",
      "   Value: 1  Min: 0  Max: 1  Default: 1\n",
      "Changed value of parameter MIPGap to 0.1\n",
      "   Prev: 0.0001  Min: 0.0  Max: 1e+100  Default: 0.0001\n"
     ]
    }
   ],
   "source": [
    "N = 10\n",
    "Q_rel = np.eye(box_atlas.n_x)\n",
    "Q = box_atlas.penalize_relative_positions(Q_rel)\n",
    "R = np.eye(box_atlas.n_u)\n",
    "objective_norm = 'two'\n",
    "P, K = dare(\n",
    "    box_atlas.nominal_system.A,\n",
    "    box_atlas.nominal_system.B,\n",
    "    Q,\n",
    "    R)\n",
    "X_N = moas_closed_loop(\n",
    "    box_atlas.nominal_system.A,\n",
    "    box_atlas.nominal_system.B,\n",
    "    K,\n",
    "    box_atlas.nominal_domain,)\n",
    "controller = MPCHybridController(box_atlas.pwa_system, N, objective_norm, Q, R, P, X_N)"
   ]
  },
  {
   "cell_type": "markdown",
   "metadata": {
    "deletable": true,
    "editable": true
   },
   "source": [
    "Trick to avoid forbidden transitions"
   ]
  },
  {
   "cell_type": "code",
   "execution_count": 9,
   "metadata": {
    "collapsed": false,
    "deletable": true,
    "editable": true
   },
   "outputs": [],
   "source": [
    "controller = box_atlas.avoid_forbidden_transitions(controller)"
   ]
  },
  {
   "cell_type": "markdown",
   "metadata": {
    "deletable": true,
    "editable": true
   },
   "source": [
    "Closed-loop system simulation of the MPC controller"
   ]
  },
  {
   "cell_type": "code",
   "execution_count": null,
   "metadata": {
    "collapsed": false,
    "deletable": true,
    "editable": true
   },
   "outputs": [],
   "source": [
    "N_sim = 30\n",
    "u = []\n",
    "x_0 = np.array([\n",
    "    [.0], # q_rh_x\n",
    "    [.0], # q_rh_y\n",
    "    [.0], # q_lh_x\n",
    "    [.0], # q_lh_y\n",
    "    [.0], # q_b_x\n",
    "    [.0], # q_b_y\n",
    "    [-1.], # v_b_x\n",
    "    [-.3] # v_b_y\n",
    "])\n",
    "x = [x_0]\n",
    "u_ws = None\n",
    "x_ws = None\n",
    "ss_ws = None\n",
    "for k in range(N_sim):\n",
    "    u_k, x_k, ss_k = controller.feedforward(x[k], u_ws, x_ws, ss_ws)[0:3]\n",
    "    print('Time step ' + str(k) + ': ' + str(ss_k) + '.')\n",
    "    u_ws = u_k[1:] + [K.dot(x_k[-1])]\n",
    "    x_ws = x_k[1:] + [box_atlas.pwa_system.simulate(x_k[-1], [u_ws[-1]])[0][1]]\n",
    "    ss_ws = ss_k[1:] + (terminal_mode,)\n",
    "    x_next = box_atlas.pwa_system.simulate(x[k], [u_k[0]])[0][1]\n",
    "    #print 'Planner-simulator missmatch:', np.linalg.norm(x_next - x_k[1])\n",
    "    u.append(u_k[0])\n",
    "    x.append(x_next)\n",
    "traj_miqp = Trajectory(x, u, Q, R, P)\n",
    "#np.save('box_atlas_tajectory_miqp_lh', traj_miqp)"
   ]
  },
  {
   "cell_type": "markdown",
   "metadata": {
    "deletable": true,
    "editable": true
   },
   "source": [
    "Plot of the state and the input"
   ]
  },
  {
   "cell_type": "code",
   "execution_count": null,
   "metadata": {
    "collapsed": false,
    "deletable": true,
    "editable": true
   },
   "outputs": [],
   "source": [
    "mpc_plt.input_sequence(u, parameters['sampling_time'])\n",
    "plt.show()\n",
    "mpc_plt.state_trajectory(x, parameters['sampling_time'])\n",
    "plt.show()"
   ]
  },
  {
   "cell_type": "markdown",
   "metadata": {
    "deletable": true,
    "editable": true
   },
   "source": [
    "# Control with Approximate Hybrid MPC"
   ]
  },
  {
   "cell_type": "markdown",
   "metadata": {
    "deletable": true,
    "editable": true
   },
   "source": [
    "Initialization of the library"
   ]
  },
  {
   "cell_type": "code",
   "execution_count": null,
   "metadata": {
    "collapsed": false,
    "deletable": true,
    "editable": true
   },
   "outputs": [],
   "source": [
    "#library = FeasibleSetLibrary(controller)\n",
    "samples_so_far = 800\n",
    "library = load_library('library_box_atlas_wall_and_table_' + str(samples_so_far))"
   ]
  },
  {
   "cell_type": "markdown",
   "metadata": {
    "deletable": true,
    "editable": true
   },
   "source": [
    "Coverage"
   ]
  },
  {
   "cell_type": "code",
   "execution_count": null,
   "metadata": {
    "collapsed": false,
    "deletable": true,
    "editable": true
   },
   "outputs": [],
   "source": [
    "sample_step = 100\n",
    "n_steps = 12\n",
    "for i in range(n_steps):\n",
    "    n = samples_so_far + (i+1)*sample_step\n",
    "    library.sample_policy(sample_step, box_atlas.is_inside_a_domain)\n",
    "    print(str(n) + ' samples added to the library.')\n",
    "    library.save('library_box_atlas_wall_and_table_' + str(n))"
   ]
  },
  {
   "cell_type": "markdown",
   "metadata": {
    "deletable": true,
    "editable": true
   },
   "source": [
    "Shifted switching sequences"
   ]
  },
  {
   "cell_type": "code",
   "execution_count": null,
   "metadata": {
    "collapsed": true,
    "deletable": true,
    "editable": true
   },
   "outputs": [],
   "source": [
    "library.add_shifted_switching_sequences(terminal_mode)"
   ]
  },
  {
   "cell_type": "markdown",
   "metadata": {
    "deletable": true,
    "editable": true
   },
   "source": [
    "Closed-loop system simulation of the approximate MPC controller"
   ]
  },
  {
   "cell_type": "code",
   "execution_count": null,
   "metadata": {
    "collapsed": false,
    "deletable": true,
    "editable": true
   },
   "outputs": [],
   "source": [
    "N_sim = 50\n",
    "u = []\n",
    "x = [x_0_lh*0.]\n",
    "ss = []\n",
    "ss_feasible = None\n",
    "for k in range(N_sim):\n",
    "    print('Time step ' + str(k) + '.')\n",
    "    u_k, ss_k = library.feedback(x[k], ss_feasible, max_qp=1)\n",
    "    u.append(u_k)\n",
    "    x_next = box_atlas.pwa_system.simulate(x[k], [u_k])[0][1]\n",
    "    x.append(x_next)\n",
    "    ss.append(ss_k)\n",
    "    ss_feasible = ss_k[1:] + (terminal_mode,)\n",
    "traj_lib = Trajectory(x, u, Q, R, P)\n",
    "#np.save('box_atlas_tajectory_lib_lh', traj)"
   ]
  },
  {
   "cell_type": "markdown",
   "metadata": {
    "deletable": true,
    "editable": true
   },
   "source": [
    "# Test Coverage"
   ]
  },
  {
   "cell_type": "markdown",
   "metadata": {
    "deletable": true,
    "editable": true
   },
   "source": [
    "Number of feasible sets in the library"
   ]
  },
  {
   "cell_type": "code",
   "execution_count": null,
   "metadata": {
    "collapsed": false,
    "deletable": true,
    "editable": true
   },
   "outputs": [],
   "source": [
    "n_fs = 0\n",
    "for ss in library.library.values():\n",
    "    if not ss['feasible_set'].empty:\n",
    "        n_fs += 1\n",
    "print 'Number of mode sequences in the library:', n_fs"
   ]
  },
  {
   "cell_type": "markdown",
   "metadata": {
    "deletable": true,
    "editable": true
   },
   "source": [
    "Check coverage of the feasible set with n_samples"
   ]
  },
  {
   "cell_type": "code",
   "execution_count": null,
   "metadata": {
    "collapsed": false,
    "deletable": true,
    "editable": true
   },
   "outputs": [],
   "source": [
    "n_samples = 20\n",
    "cost_miqp = []\n",
    "cost_qp = []\n",
    "for i in range(n_samples):\n",
    "    print i\n",
    "    x_sample = library.random_sample(box_atlas.is_inside_a_domain)\n",
    "    cost_miqp.append(controller.feedforward(x_sample)[3])\n",
    "    cost_qp.append(library.feedforward(x_sample)[3])\n",
    "#np.save('cost_random_miqp', cost_miqp)\n",
    "#np.save('cost_random_qp', cost_qp)"
   ]
  },
  {
   "cell_type": "markdown",
   "metadata": {
    "deletable": true,
    "editable": true
   },
   "source": [
    "Cost error as a function of the maximum number of QPs online"
   ]
  },
  {
   "cell_type": "code",
   "execution_count": null,
   "metadata": {
    "collapsed": false,
    "deletable": true,
    "editable": true
   },
   "outputs": [],
   "source": [
    "feasible_samples = 0\n",
    "samples_not_covered = 0\n",
    "optimality_loss = []\n",
    "for i, c_mi in enumerate(cost_miqp):\n",
    "    if not np.isnan(c_mi):\n",
    "        feasible_samples += 1\n",
    "        if len(cost_qp[i]) == 0:\n",
    "            samples_not_covered += 1\n",
    "        else:\n",
    "            optimality_loss.append([(c - c_mi)/c_mi for c in cost_qp[i]])\n",
    "max_overlapping_qp = max([len(ol) for ol in optimality_loss])\n",
    "loss = []\n",
    "for pos in range(max_overlapping_qp):\n",
    "    average_loss = 0\n",
    "    for ol in optimality_loss:\n",
    "        length = min(len(ol),pos+1)\n",
    "        average_loss += min(ol[:length])\n",
    "    loss.append(average_loss/float(len(optimality_loss))*100)\n",
    "print 'Optimality loss (%) as a function of the maximum number of QPs solved online:\\n', loss"
   ]
  },
  {
   "cell_type": "markdown",
   "metadata": {
    "deletable": true,
    "editable": true
   },
   "source": [
    "## Visualizer"
   ]
  },
  {
   "cell_type": "code",
   "execution_count": null,
   "metadata": {
    "collapsed": false,
    "deletable": true,
    "editable": true
   },
   "outputs": [],
   "source": [
    "box_atlas.visualize(x[0])\n",
    "time.sleep(10 * parameters['sampling_time'])\n",
    "for k in range(N_sim):\n",
    "    box_atlas.visualize(x[k])\n",
    "    time.sleep(parameters['sampling_time'])"
   ]
  },
  {
   "cell_type": "code",
   "execution_count": null,
   "metadata": {
    "collapsed": false,
    "deletable": true,
    "editable": true
   },
   "outputs": [],
   "source": [
    "controller.__dict__.keys()"
   ]
  },
  {
   "cell_type": "code",
   "execution_count": 10,
   "metadata": {
    "collapsed": false,
    "deletable": true,
    "editable": true
   },
   "outputs": [
    {
     "name": "stdout",
     "output_type": "stream",
     "text": [
      "Optimize a model with 4003 rows, 708 columns and 16535 nonzeros\n",
      "Model has 220 quadratic objective terms\n",
      "Model has 10 SOS constraints\n",
      "Variable types: 648 continuous, 60 integer (60 binary)\n",
      "Coefficient statistics:\n",
      "  Matrix range     [7e-04, 2e+01]\n",
      "  Objective range  [0e+00, 0e+00]\n",
      "  QObjective range [1e+00, 6e+01]\n",
      "  Bounds range     [1e+00, 1e+00]\n",
      "  RHS range        [5e-02, 2e+01]\n",
      "Presolve removed 2127 rows and 191 columns\n",
      "Presolve time: 0.07s\n",
      "Presolved: 1886 rows, 517 columns, 9399 nonzeros\n",
      "Presolved model has 202 quadratic objective terms\n",
      "Variable types: 477 continuous, 40 integer (40 binary)\n",
      "\n",
      "Root relaxation: objective 1.889117e+01, 2931 iterations, 0.11 seconds\n",
      "\n",
      "    Nodes    |    Current Node    |     Objective Bounds      |     Work\n",
      " Expl Unexpl |  Obj  Depth IntInf | Incumbent    BestBd   Gap | It/Node Time\n",
      "\n",
      "     0     0   18.89117    0   19          -   18.89117      -     -    0s\n",
      "H    0     0                     145.1401400   18.89117  87.0%     -    0s\n",
      "     0     0   18.89117    0   17  145.14014   18.89117  87.0%     -    0s\n",
      "     0     0   18.89207    0   16  145.14014   18.89207  87.0%     -    0s\n",
      "     0     2   18.89207    0   16  145.14014   18.89207  87.0%     -    0s\n",
      "H   28    21                      23.3358357   21.88354  6.22%  93.0    0s\n",
      "\n",
      "Cutting planes:\n",
      "  GUB cover: 1\n",
      "\n",
      "Explored 31 nodes (5981 simplex iterations) in 0.50 seconds\n",
      "Thread count was 4 (of 4 available processors)\n",
      "\n",
      "Solution count 2: 23.3358 145.14 \n",
      "Pool objective bound 21.8835\n",
      "\n",
      "Optimal solution found (tolerance 1.00e-01)\n",
      "Best objective 2.333583573933e+01, best bound 2.188353556823e+01, gap 6.2235%\n"
     ]
    }
   ],
   "source": [
    "# test\n",
    "u, x, ss = controller.feedforward(x_0_rhs)[0:3]"
   ]
  },
  {
   "cell_type": "code",
   "execution_count": 11,
   "metadata": {
    "collapsed": false,
    "deletable": true,
    "editable": true
   },
   "outputs": [],
   "source": [
    "from pympc.models.boxatlas_parameters import sampling_time\n",
    "\n",
    "box_atlas.visualize(x[0])\n",
    "time.sleep(10 * sampling_time)\n",
    "for k in range(N):\n",
    "    box_atlas.visualize(x[k])\n",
    "    time.sleep(sampling_time)"
   ]
  }
 ],
 "metadata": {
  "kernelspec": {
   "display_name": "Python 2",
   "language": "python",
   "name": "python2"
  },
  "language_info": {
   "codemirror_mode": {
    "name": "ipython",
    "version": 2
   },
   "file_extension": ".py",
   "mimetype": "text/x-python",
   "name": "python",
   "nbconvert_exporter": "python",
   "pygments_lexer": "ipython2",
   "version": "2.7.13"
  }
 },
 "nbformat": 4,
 "nbformat_minor": 2
}
